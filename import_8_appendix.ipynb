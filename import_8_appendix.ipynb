{
 "cells": [
  {
   "cell_type": "markdown",
   "id": "8d82aa76-0e61-452f-8d2d-5a38d41761a1",
   "metadata": {},
   "source": [
    "# Appendix {#sec-import_appendix}"
   ]
  },
  {
   "cell_type": "markdown",
   "id": "9ad8a37a-8eaf-4eab-bb61-4514e9f8766c",
   "metadata": {},
   "source": [
    "::: {.content-hidden when-format=\"html\"}"
   ]
  },
  {
   "cell_type": "code",
   "execution_count": 1,
   "id": "2d79f6e1-d4b1-4113-9a3e-9649a3563217",
   "metadata": {},
   "outputs": [],
   "source": [
    "#| echo: false\n",
    "#| output: false\n",
    "import os\n",
    "os.environ['R_HOME'] = f'C:/Users/{os.environ.get('USERNAME')}/Miniconda3/envs/r_python_jl/Lib/R'"
   ]
  },
  {
   "cell_type": "code",
   "execution_count": 2,
   "id": "5454914c-accb-4d92-977c-226c19e5ca9f",
   "metadata": {},
   "outputs": [
    {
     "name": "stderr",
     "output_type": "stream",
     "text": [
      "C:\\Users\\CMD3303\\Miniconda3\\envs\\r_python_jl\\Lib\\site-packages\\rpy2\\robjects\\packages.py:367: UserWarning: The symbol 'quartz' is not in this R namespace/package.\n",
      "  warnings.warn(\n"
     ]
    }
   ],
   "source": [
    "#| echo: false\n",
    "#| output: false\n",
    "# enables the %%R magic, not necessary if you've already done this\n",
    "%load_ext rpy2.ipython\n",
    "# only have to run once to allow the R magic command"
   ]
  },
  {
   "cell_type": "markdown",
   "id": "54e1d64d-b83b-44c5-baf0-d5a8e810d5d3",
   "metadata": {},
   "source": [
    "### Project Setup\n",
    "\n",
    "::: {.panel-tabset}\n",
    "\n",
    "#### R"
   ]
  },
  {
   "cell_type": "code",
   "execution_count": 3,
   "id": "6c7868bb-e4cb-43e2-85b1-ef66d5ed0ca7",
   "metadata": {
    "tags": []
   },
   "outputs": [],
   "source": [
    "%%capture --no-display \n",
    "%%R\n",
    "library(\"dplyr\")\n",
    "library(\"jsonlite\")\n",
    "library(\"tidyr\")\n",
    "library(\"REDCapR\")\n",
    "library(\"knitr\")\n",
    "library(\"remotes\")\n",
    "library(\"gt\")"
   ]
  },
  {
   "cell_type": "code",
   "execution_count": 4,
   "id": "697807fb-7812-4cd8-b698-b136be02b239",
   "metadata": {},
   "outputs": [
    {
     "name": "stdout",
     "output_type": "stream",
     "text": [
      "[1] '1.1.9005'\n"
     ]
    }
   ],
   "source": [
    "%%capture --no-display --no-stdout\n",
    "%%R\n",
    "\n",
    "# Detach REDCapR if already loaded, and download the latest version\n",
    "if (version!='1.1.9005') {\n",
    "    detach(\"package:REDCapR\", unload=TRUE)\n",
    "    remotes::install_github(\"OuhscBbmc/REDCapR\")\n",
    "    library(\"REDCapR\")\n",
    "    print(packageVersion(\"REDCapR\"))\n",
    "}\n",
    "\n",
    "else {\n",
    "    print(\"REDCapR package up to date\")\n",
    "}"
   ]
  },
  {
   "cell_type": "code",
   "execution_count": 5,
   "id": "2b0e46df-012a-412b-a91d-54c3d9d2a4fb",
   "metadata": {
    "tags": []
   },
   "outputs": [],
   "source": [
    "%%R\n",
    "# Load API tokens from the json file\n",
    "token <- jsonlite::fromJSON('./../../json_api_data.json')$dev_token$'309'\n",
    "url <- \"https://dev-redcap.doh.wa.gov/api/\""
   ]
  },
  {
   "cell_type": "markdown",
   "id": "d084af26-b0f6-4a7d-9494-1d72627ffdac",
   "metadata": {},
   "source": [
    "#### Python"
   ]
  },
  {
   "cell_type": "code",
   "execution_count": 6,
   "id": "6a06455c-3201-4bb2-bf38-56cfe6476bd1",
   "metadata": {},
   "outputs": [],
   "source": [
    "import redcap\n",
    "import json\n",
    "import csv\n",
    "import pandas as pd\n",
    "import numpy as np\n",
    "import requests\n",
    "import tempfile"
   ]
  },
  {
   "cell_type": "code",
   "execution_count": 7,
   "id": "9f995e13-651c-4902-ac46-a19466eb4f12",
   "metadata": {},
   "outputs": [],
   "source": [
    "# Load API tokens from the json file\n",
    "key = json.load(open('./../../json_api_data.json'))\n",
    "token = key['dev_token']['309']\n",
    "url = key['dev_url']\n",
    "\n",
    "project = redcap.Project(url, token)"
   ]
  },
  {
   "cell_type": "markdown",
   "id": "765fe288-915b-41d4-a908-14f9076dee68",
   "metadata": {},
   "source": [
    ":::"
   ]
  },
  {
   "cell_type": "markdown",
   "id": "1b482cae-7256-418d-8fb4-56ccb00ac855",
   "metadata": {},
   "source": [
    ":::"
   ]
  },
  {
   "cell_type": "markdown",
   "id": "7d2641af-4443-4f9e-96bb-078368ff4bd2",
   "metadata": {},
   "source": [
    "## Limitations to Importing {#sec-import_limitations}\n",
    "\n",
    "::: {.panel-tabset}\n",
    "\n",
    "#### R\n",
    "**Field Names**  \n",
    "- Field names cannot be imported using REDCapR.   \n",
    "- Can be exported using `redcap_variables()`.  \n",
    "\n",
    "**Forms/Instruments** <br>\n",
    "- Forms and instruments cannot be imported using REDCapR. Can be uploaded as a ZIP file in the REDCap web application under the 'Designer' page of the REDCap Project.   \n",
    "- Can be downloaded as pdf using `redcap_instrument_download()`. <br>\n",
    "\n",
    "**Instrument/Event Map** <br>\n",
    "- Instrument/event mapping cannot be imported using REDCapR. Can be imported with REDCap’s native API or uploaded as a CSV in the REDCap web application under the ‘Designate Instruments for My Events’ on the 'Project Setup' page of the REDCap project.<br>\n",
    "- Can be exported using `redcap_event_instruments()`. <br>\n",
    "\n",
    "**Reports** <br>\n",
    "- Cannot be imported using REDCapR. <br>\n",
    "- Can be exported using `redcap_report()`. <br>\n",
    "\n",
    "**Users** <br>\n",
    "- Cannot be imported using REDCapR. Can be imported with REDCap's native API or uploaded as a CSV in the REDCap web application under the 'User Rights' page of the REDCap Project. <br> \n",
    "- Can be exported using `redcap_users_export()`. <br>\n",
    "\n",
    "**User Roles** <br>\n",
    "- Cannot be imported using REDCapR. Can be imported with REDCap's native API or uploaded as a CSV in the REDCap web application under the 'User Rights' page of the REDCap Project. <br> \n",
    "- Can be exported using `redcap_users_export()`. <br>\n",
    "\n",
    "**Data Access Groups (DAGs)** <br>\n",
    "- Cannot be imported using REDCapR. Can be imported with REDCap's native API or uploaded as a CSV inthe REDCap web application under the 'DAGs' page of the REDCap Project. <br> \n",
    "- Can be exported using `redcap_dag_read()`. <br>\n",
    "\n",
    "**Logging** <br>\n",
    "- Cannot be imported. <br> \n",
    "- Can be exported using `redcap_log_read()`. <br>\n",
    "\n",
    "\n",
    "#### Python\n",
    "**Field Names** <br>\n",
    "- Field names alone cannot be imported using PyCap. <br>   \n",
    "- Can be exported using `export_field_names()`. <br>\n",
    "\n",
    "**Forms/Instruments** <br>\n",
    "- Forms and instruments cannot be imported using PyCap. Can be uploaded as a ZIP file in the REDCap web application under the 'Designer' page of the REDCap Project. <br>\n",
    "- Can be exported using `export_instruments()` and `export_repeating_instruments_events()` for the settings. <br>\n",
    "\n",
    "**Reports** <br>\n",
    "- Reports cannot be imported using PyCap. <br>   \n",
    "- Can be exported using `export_records()`. <br>\n",
    "\n",
    "**Logging** <br>\n",
    "- Logging cannot be imported using PyCap. <br>   \n",
    "- Can be exported using `export_logging()`. <br>\n",
    "\n",
    ":::"
   ]
  },
  {
   "cell_type": "markdown",
   "id": "c5a51568-8484-474a-856e-8294bf764eea",
   "metadata": {},
   "source": [
    "## General Import notes (regardless of package used)\n",
    "\n",
    "### REDCap Validations \n",
    "<br>\n",
    "\n",
    "**Identifiers**  \n",
    "\n",
    "- No duplicates in the unique key.  \n",
    "    - Note: Duplicates in the unique key will be automatically dropped during import (only one occurence of the duplicate will be uploaded) without any warning or error message. The output message only lists the number of unique ids that were imported.  \n",
    "\n",
    "- If `redcap_repeat_instrument` is part of the unique key its value must be valid and associated with the correct event.  \n",
    "    - Exception for longitudinal projects with repeating events and no repeating instruments: Data exported form these projects will have the 'redcap_repeat_instrument' column with all values set to NA. This column is technically not needed in this type of project and API import will be accepted with (as long as all values are NA) or without it.  \n",
    "  \n",
    "**Data Structure**  \n",
    "\n",
    "- That non-missing fields are in the correct instrument/event row (for longitudinal projects or projects with repeating instruments).  \n",
    "\n",
    "- That 'redcap_repeat_instance' is filled when required and missing when required (for projects with repeating events or instruments).  \n",
    "\n",
    "- That there are no extra columns in the data being imported that are not fields in the REDCap project.  \n",
    "   \n",
    "**Values** \n",
    "\n",
    "- Radio and Dropdown Fields\n",
    "    - That values are within the set of `select_choices_or_calculations` as defined in the metadata.  \n",
    "\n",
    "- Text Fields\n",
    "    - That only numeric values are present in numeric validation fields.  \n",
    "    - That only integer values are present in integer validation fields.  \n",
    "    - That date and datetime fields are in the YMD format (can be YYYY/MM/DD or YYYY-MM-DD).  \n",
    "    - That email fields are formatted as 'something' + @ + 'something' + . + 'something' (does not check for valid domain names; multiple '.somethings' are accepted after @ symbol (e.g., email@doh.wa.gov)).  \n",
    "    - That phone numbers have 10 digits and that the area code starts with digits 2-9 (can have ###-###-#### format or just ##########).  \n",
    "    - That zipcode fields have either 5 or 9 digits, and if 9 digits there is a hyphen after the 5th digit.  \n",
    "    - That 'alpha only' text validation fields contain only letters (no spaces, numbers, or punctuation).  \n",
    "    - That there are only 10 digits in the fields with MRN 10 digit validation fields.  \n",
    "    - That there are only digits and '-' or '_ ' in fields with MRN generic validation fields.  \n",
    "\n",
    "- Slider Fields\n",
    "    - That slider field values are within the `text_validation_min` and `text_validation_max` range as defined in the metadata. \n",
    "\n",
    "- Checkbox, True/False, Yes/No Fields\n",
    "   - Values must be 0 or 1 or missing.  \n",
    "\n",
    "- Text Box (no validation) and Notes box\n",
    "   - Values are less than 65,000 characters.   \n",
    "\n",
    "- Calculated Fields\n",
    "   - Regardless of the value in the data attempting to be imported, REDCap will auto-calculate these fields (assuming all of the inputs to the calculation are available). The values being imported are ignored.  \n",
    "\n",
    "- Files and Signature Fields\n",
    "   - Regardless of the value in the data attempting to be imported, REDCap will ignore these fields when importing records.  All file-type field imports are done through a separate process.  \n",
    "\n",
    "- Dynamic Query Fields\n",
    "   - That values are within the dynamic query options (value options not exported in metadata).  \n",
    "  \n",
    "**NOT Validated** \n",
    "\n",
    "- A second instance of a repeating event or instrument can be uploaded without a first instance exisiting (in import data or existing project data). \n",
    "\n",
    "- Data can be imported outside of the specified validation range for text fields with the following validation types: dates, times, datetimes, integers, and numbers. Recommendation: run Data Quality rule D after import. \n",
    "\n",
    "- Missing required fields can be imported. Recommendation: run Data Quality rule B after upload. \n",
    "\n",
    "- Incorrect calculated field values can be imported. Recommendation: run Data Quality rule H after upload. \n",
    "\n",
    "- Files and Signature fields can only be imported through the file import method, any data attempting to be imported using the record import method is ignored. \n",
    "\n",
    "- Field values that violate the REDCap project branching logic can be imported via the API without issues, however, when you go to open that record in REDCap it will alert you to the invalid logic. \n",
    "  \n",
    "**REDCap Log Behavior** \n",
    "\n",
    "- If data for an existing record is imported via the API but the incoming fields for that records are the same values as the fields already stored for that record in REDCap (no changes made), the API import will run, however, there will be no 'Update record (API)' action logged for this record. \n",
    "\n",
    "- If a row containing a valid combination of unique fields but NA accross all other fields is imported via API, the import will run. However, this 'blank' record will not be created and there will be no action logged in the REDCap log for this record.. <br>"
   ]
  },
  {
   "cell_type": "markdown",
   "id": "f0b218d9-218c-4812-b18d-e754dc5bf1a4",
   "metadata": {},
   "source": [
    "## Data Validation Tools\n",
    "\n",
    "::: {.panel-tabset}\n",
    "\n",
    "#### R\n",
    "REDCapR has a few data validation functions that can be used to check your data before importing it to your REDCap project. These validations will not be specific to your paricular REDCap project but are general validations that apply to all REDCap projects.  \n",
    "\n",
    "For example, you can check if you have any boolean values (True/False) since REDCap will only accept a raw data import of 0/1 integers. You can also check for duplicates and unique IDs. You can view more details on these data validation functions [here](https://ouhscbbmc.github.io/REDCapR/reference/validate.html).\n",
    ":::"
   ]
  },
  {
   "cell_type": "markdown",
   "id": "cceeba34-5aa5-4104-98d9-a7f718ef6509",
   "metadata": {},
   "source": [
    "## Example: Uploading Records from a CSV {#sec-import_csv}"
   ]
  },
  {
   "cell_type": "markdown",
   "id": "c19d7573-6d70-4fec-8bcd-dd183f8ce14b",
   "metadata": {},
   "source": [
    "In this example, we have a csv named \"data_to_import.csv\" with records to upload.\n",
    "\n",
    "::: {.panel-tabset}\n",
    "\n",
    "#### R"
   ]
  },
  {
   "cell_type": "code",
   "execution_count": 8,
   "id": "348d64ec-151f-49c0-9432-a855aa1e396b",
   "metadata": {
    "tags": []
   },
   "outputs": [],
   "source": [
    "%%R\n",
    "df_to_import <- read.csv(\"./files/data_to_import.csv\")"
   ]
  },
  {
   "cell_type": "markdown",
   "id": "93151880-5ff0-4a7a-9f68-dc1035a1d654",
   "metadata": {},
   "source": [
    "::: {.content-hidden when-format=\"html\"}"
   ]
  },
  {
   "cell_type": "code",
   "execution_count": 9,
   "id": "452daa64-a835-4e63-b98a-30241951a442",
   "metadata": {},
   "outputs": [],
   "source": [
    "%%R\n",
    "tbl <- gt(head(df_to_import))\n",
    "gt::gtsave(tbl, filename = 'import_csv_data.html', path = \"./files/\")"
   ]
  },
  {
   "cell_type": "markdown",
   "id": "ae35d89e-e0bb-4623-ad34-387ea4c3687f",
   "metadata": {},
   "source": [
    ":::"
   ]
  },
  {
   "cell_type": "markdown",
   "id": "3faae522-151c-46b3-aeeb-a3c286462adc",
   "metadata": {},
   "source": [
    "<iframe width=\"100%\" height=\"500\" src=\"./files/import_csv_data.html\" title=\"Quarto Documentation\"></iframe>"
   ]
  },
  {
   "cell_type": "markdown",
   "id": "2ccd12b5-22e0-4526-ad0e-74faab13113e",
   "metadata": {},
   "source": [
    "There are multiple rows per record because this project is longitudinal with repeat instruments and events."
   ]
  },
  {
   "cell_type": "code",
   "execution_count": 10,
   "id": "b9af5b97-4604-48a9-b7fd-972cbed48255",
   "metadata": {
    "tags": []
   },
   "outputs": [
    {
     "name": "stdout",
     "output_type": "stream",
     "text": [
      "[1] 3 4 5 6\n"
     ]
    }
   ],
   "source": [
    "%%R\n",
    "# view which record_id's are currently being used in the data set to import. \n",
    "unique(df_to_import$record_id)"
   ]
  },
  {
   "cell_type": "markdown",
   "id": "837c4e58-ce66-4091-aad4-1482c337b9c4",
   "metadata": {},
   "source": [
    "In the dataframe we will import, the record IDs are 3-6. However, these record IDs already exist in the REDCap project and importing this data would overwrite the exisiting record IDs 3-6. If we want to import these as new records, we will need to renumber the record IDs. "
   ]
  },
  {
   "cell_type": "code",
   "execution_count": 11,
   "id": "40a81e23-3a48-4486-8e56-2701dc2ebe39",
   "metadata": {
    "tags": []
   },
   "outputs": [
    {
     "name": "stderr",
     "output_type": "stream",
     "text": [
      "R[write to console]: The next free record name in REDCap was successfully determined in 1.1 seconds.  The http status code was 200.  Is is 10.\n",
      "\n"
     ]
    }
   ],
   "source": [
    "%%R\n",
    "# start by getting the next available record_id\n",
    "next_record <- redcap_next_free_record_name(redcap_uri=url, token=token)"
   ]
  },
  {
   "cell_type": "code",
   "execution_count": 31,
   "id": "8347e636-d7c1-4e0f-a13d-4eb93c65c7ac",
   "metadata": {
    "tags": []
   },
   "outputs": [],
   "source": [
    "%%R\n",
    "### sequence the df_to_import records starting at one\n",
    "df_to_import <- df_to_import[order(df_to_import$record_id), , drop = FALSE]\n",
    "df_to_import$seq <- as.numeric(factor(df_to_import$record_id))"
   ]
  },
  {
   "cell_type": "code",
   "execution_count": 13,
   "id": "fdbf5180-d613-4259-8b3b-3b061f8c62ea",
   "metadata": {
    "scrolled": true,
    "tags": []
   },
   "outputs": [],
   "source": [
    "%%capture\n",
    "%%R\n",
    "sequencing <- df_to_import %>% group_by(record_id, seq) %>% summarize(n=n())"
   ]
  },
  {
   "cell_type": "code",
   "execution_count": 14,
   "id": "98c169cf-d550-44b9-8194-a61e9df557f8",
   "metadata": {},
   "outputs": [
    {
     "name": "stdout",
     "output_type": "stream",
     "text": [
      "\u001b[38;5;246m# A tibble: 4 x 3\u001b[39m\n",
      "\u001b[38;5;246m# Groups:   record_id [4]\u001b[39m\n",
      "  record_id   seq     n\n",
      "      \u001b[3m\u001b[38;5;246m<int>\u001b[39m\u001b[23m \u001b[3m\u001b[38;5;246m<dbl>\u001b[39m\u001b[23m \u001b[3m\u001b[38;5;246m<int>\u001b[39m\u001b[23m\n",
      "\u001b[38;5;250m1\u001b[39m         3     1     5\n",
      "\u001b[38;5;250m2\u001b[39m         4     2     6\n",
      "\u001b[38;5;250m3\u001b[39m         5     3     4\n",
      "\u001b[38;5;250m4\u001b[39m         6     4     5\n"
     ]
    }
   ],
   "source": [
    "%%R \n",
    "head(sequencing)"
   ]
  },
  {
   "cell_type": "markdown",
   "id": "41549cdd-8216-45ae-bbd2-b8f7f7bb10d1",
   "metadata": {},
   "source": [
    "::: {.content-hidden when-format=\"html\"}"
   ]
  },
  {
   "cell_type": "code",
   "execution_count": 15,
   "id": "d3433068-69a9-40cd-9de7-acee472c58db",
   "metadata": {},
   "outputs": [],
   "source": [
    "%%R\n",
    "tbl <- gt(sequencing)\n",
    "gt::gtsave(tbl, filename = 'sequencing.html', path = \"./files/\")"
   ]
  },
  {
   "cell_type": "markdown",
   "id": "e0a6ee14-4108-43b7-81f8-c0a0ed05e0a2",
   "metadata": {},
   "source": [
    "<iframe width=\"100%\" height=\"400\" src=\"./files/sequencing.html\" title=\"Quarto Documentation\"></iframe>"
   ]
  },
  {
   "cell_type": "markdown",
   "id": "d04ed908-7333-4de3-8595-f0d20b9a358a",
   "metadata": {},
   "source": [
    ":::"
   ]
  },
  {
   "cell_type": "code",
   "execution_count": 16,
   "id": "52844632-51f4-4026-a354-a46624ddafe6",
   "metadata": {
    "tags": []
   },
   "outputs": [
    {
     "name": "stdout",
     "output_type": "stream",
     "text": [
      "[1] 10 11 12 13\n"
     ]
    }
   ],
   "source": [
    "%%R\n",
    "# Adjust record IDs to start at the next available record_id\n",
    "df_to_import$record_id <- as.numeric(df_to_import$seq) + (as.numeric(next_record)-1)\n",
    "unique(df_to_import$record_id)"
   ]
  },
  {
   "cell_type": "markdown",
   "id": "afbcecc8-dccd-4973-afba-2a58d427cf14",
   "metadata": {},
   "source": [
    "The record IDs have been changed to new record IDs that don't already exist in the REDCap project."
   ]
  },
  {
   "cell_type": "code",
   "execution_count": 17,
   "id": "6bc6621c-ed87-4083-bd77-4700ed1b9f24",
   "metadata": {
    "tags": []
   },
   "outputs": [],
   "source": [
    "%%R\n",
    "# Remove the seq var that was created above\n",
    "df_to_import <- df_to_import %>% select(-seq)"
   ]
  },
  {
   "cell_type": "markdown",
   "id": "adde0f7b-b0d3-4615-9f2a-cac4c20ed2fb",
   "metadata": {},
   "source": [
    "**Formatting Date Fields**  \n",
    "\n",
    "Date fields in REDCap are character fields with a designated date validation added. There are many different types of date validations/formats that can be chosen for a date field. All date fields must be imported to REDCap formatted as `YYYY-MM-DD`, regardless of the specific date format designated for this field in the REDCap project. (PyCap has an import records argument to change the default YMD format, but REDCapR does not have this option.) Below is an example on how to use the project metadata to isolate and format all date fields before importing data. "
   ]
  },
  {
   "cell_type": "code",
   "execution_count": 18,
   "id": "66bef81c-bff9-4368-a5d6-b10c6069a837",
   "metadata": {
    "tags": []
   },
   "outputs": [
    {
     "name": "stderr",
     "output_type": "stream",
     "text": [
      "R[write to console]: The data dictionary describing 30 fields was read from REDCap in 0.2 seconds.  The http status code was 200.\n",
      "\n"
     ]
    }
   ],
   "source": [
    "%%R\n",
    "# Export metadata\n",
    "metadata <- redcap_metadata_read(redcap_uri = url, token = token)$data"
   ]
  },
  {
   "cell_type": "markdown",
   "id": "5deb1c49-5280-4234-94f5-322e9be1814b",
   "metadata": {},
   "source": [
    "::: {.content-hidden when-format=\"html\"}"
   ]
  },
  {
   "cell_type": "code",
   "execution_count": 19,
   "id": "058e1061-6092-4ac0-8e99-e82ed79d779c",
   "metadata": {},
   "outputs": [],
   "source": [
    "%%R\n",
    "tbl <- gt(head(metadata))\n",
    "gt::gtsave(tbl, filename = 'import_metadata.html', path = \"./files/\")"
   ]
  },
  {
   "cell_type": "markdown",
   "id": "085a3bf3-000e-4216-a286-ffd82f33b042",
   "metadata": {},
   "source": [
    ":::"
   ]
  },
  {
   "cell_type": "markdown",
   "id": "7380fc2d-1f59-40d6-a724-2d7acf5944ff",
   "metadata": {},
   "source": [
    "<iframe width=\"100%\" height=\"500\" src=\"./files/import_metadata.html\" title=\"Quarto Documentation\"></iframe>"
   ]
  },
  {
   "cell_type": "markdown",
   "id": "76453e42-36c4-445c-9d71-012a56f596fc",
   "metadata": {},
   "source": [
    "Note that the 'text_validation_type_or_show_slider_number' field in the metadata is where the date format is specified. "
   ]
  },
  {
   "cell_type": "code",
   "execution_count": 20,
   "id": "0405e8da-51de-4302-96e8-c38b6a07e17a",
   "metadata": {
    "tags": []
   },
   "outputs": [
    {
     "name": "stdout",
     "output_type": "stream",
     "text": [
      "[1] NA         \"phone\"    \"integer\"  \"date_mdy\" \"email\"   \n"
     ]
    }
   ],
   "source": [
    "%%R\n",
    "unique(metadata$text_validation_type_or_show_slider_number)"
   ]
  },
  {
   "cell_type": "code",
   "execution_count": 21,
   "id": "700788a9-6798-4984-bf41-07810052c37f",
   "metadata": {
    "tags": []
   },
   "outputs": [],
   "source": [
    "%%R\n",
    "# Isolate all field_names in the metadata that have any date validation \n",
    "date_fields <- metadata %>% filter(grepl(\"date\", text_validation_type_or_show_slider_number)) %>% select(field_name)"
   ]
  },
  {
   "cell_type": "code",
   "execution_count": 22,
   "id": "6ec5c97c-7a1e-4101-b21e-f4c254d72455",
   "metadata": {
    "tags": []
   },
   "outputs": [
    {
     "name": "stdout",
     "output_type": "stream",
     "text": [
      "[1] \"dob\"                \"symptom_onset\"      \"test_positive_date\"\n",
      "[4] \"prior_covid_date\"   \"cc_date\"            \"work_date\"         \n"
     ]
    }
   ],
   "source": [
    "%%R\n",
    "# Make a list of all the date fields\n",
    "date_list <- (date_fields$field_name)\n",
    "date_list"
   ]
  },
  {
   "cell_type": "code",
   "execution_count": 23,
   "id": "afbaac06-abcf-4e84-b29e-2066e22273c7",
   "metadata": {
    "tags": []
   },
   "outputs": [],
   "source": [
    "%%R\n",
    "# mutate across all date fields to get the desired Y-M-D format.  \n",
    "df_to_import2 <- df_to_import %>%\n",
    "  mutate(across(all_of(date_list), ~as.Date(., \"%m/%d/%Y\" )))"
   ]
  },
  {
   "cell_type": "code",
   "execution_count": 24,
   "id": "f794b32a-cf8a-47c0-b780-e397145039ac",
   "metadata": {
    "tags": []
   },
   "outputs": [
    {
     "name": "stdout",
     "output_type": "stream",
     "text": [
      "[1] NA           \"2023-10-10\" \"2023-10-12\" \"2021-06-07\" \"2023-10-03\"\n"
     ]
    }
   ],
   "source": [
    "%%R\n",
    "unique(df_to_import2$test_positive_date)"
   ]
  },
  {
   "cell_type": "markdown",
   "id": "d949ccd5-c11b-40ed-9bc7-7d2b0bb94fa4",
   "metadata": {},
   "source": [
    "Now import the new records."
   ]
  },
  {
   "cell_type": "code",
   "execution_count": 25,
   "id": "b1227974-e130-4658-bf7b-c470b20ae964",
   "metadata": {
    "tags": []
   },
   "outputs": [
    {
     "name": "stdout",
     "output_type": "stream",
     "text": [
      "$success\n",
      "[1] TRUE\n",
      "\n",
      "$status_code\n",
      "[1] \"200\"\n",
      "\n",
      "$outcome_message\n",
      "[1] \"4 records were written to REDCap in 1.8 seconds.\"\n",
      "\n",
      "$records_affected_count\n",
      "[1] 4\n",
      "\n",
      "$affected_ids\n",
      "[1] \"10\" \"11\" \"12\" \"13\"\n",
      "\n",
      "$elapsed_seconds\n",
      "[1] 2.354373\n",
      "\n"
     ]
    }
   ],
   "source": [
    "%%capture --no-stdout\n",
    "%%R\n",
    "redcap_write(df_to_import2, redcap_uri=url, token=token)"
   ]
  },
  {
   "cell_type": "markdown",
   "id": "6850510e-8348-4834-80b7-b09a0bf959e8",
   "metadata": {},
   "source": [
    "::: {.content-hidden when-format=\"html\"}"
   ]
  },
  {
   "cell_type": "code",
   "execution_count": 26,
   "id": "31831446-de17-47a7-a3b9-85e4be3939f7",
   "metadata": {},
   "outputs": [
    {
     "name": "stderr",
     "output_type": "stream",
     "text": [
      "R[write to console]: \n",
      "R[write to console]: \u001b[1mindexing\u001b[0m \u001b[34mfile4ea843144da8\u001b[0m [========================================] \u001b[32m?\u001b[0m, eta: \u001b[36m 0s\u001b[0m\n",
      "                                                                                                                   \n",
      "R[write to console]: \n",
      "R[write to console]: The 4 records were deleted from REDCap in 0.3 seconds. The http status code was 200.\n",
      "\n"
     ]
    },
    {
     "name": "stdout",
     "output_type": "stream",
     "text": [
      "$success\n",
      "[1] TRUE\n",
      "\n",
      "$status_code\n",
      "[1] 200\n",
      "\n",
      "$outcome_message\n",
      "[1] \"The 4 records were deleted from REDCap in 0.3 seconds. The http status code was 200.\"\n",
      "\n",
      "$records_affected_count\n",
      "[1] 4\n",
      "\n",
      "$elapsed_seconds\n",
      "[1] 0.279567\n",
      "\n",
      "$raw_text\n",
      "[1] \"\"\n",
      "\n"
     ]
    }
   ],
   "source": [
    "%%R\n",
    "records_to_delete <- unique(df_to_import$record_id)\n",
    "redcap_delete(records_to_delete, arm_of_records_to_delete = 1L, redcap_uri=url, token=token)"
   ]
  },
  {
   "cell_type": "markdown",
   "id": "1926e28d-d137-4651-b9af-6159d6e65986",
   "metadata": {},
   "source": [
    ":::"
   ]
  },
  {
   "cell_type": "markdown",
   "id": "73f9d017-3635-4b19-8815-40d27f03697a",
   "metadata": {},
   "source": [
    "#### Python\n",
    "\n",
    "When reading a csv as a pandas dataframe, Python will take any numeric column with missing data and convert them to [float with NaN inserted](https://stackoverflow.com/questions/39666308/pd-read-csv-by-default-treats-integers-like-floats) in the blank cells. In longitudinal projects, we expect many blank cells since the data is wide, as only columns relevant to that event/instrument field are filled out in each row. Many of REDCap's field types (checkbox, yes/no, radio, and form_complete variables) are integers. Pandas will convert these columns to float variables with a decimal place added (e.g. 1.0 instead of 1 for 'Yes' in a yes/no field) and importing this to REDCap will fail."
   ]
  },
  {
   "cell_type": "code",
   "execution_count": 27,
   "id": "fea6ebfb-f2cd-4cc9-8362-de0e72359c32",
   "metadata": {},
   "outputs": [
    {
     "data": {
      "text/html": [
       "<div>\n",
       "<style scoped>\n",
       "    .dataframe tbody tr th:only-of-type {\n",
       "        vertical-align: middle;\n",
       "    }\n",
       "\n",
       "    .dataframe tbody tr th {\n",
       "        vertical-align: top;\n",
       "    }\n",
       "\n",
       "    .dataframe thead th {\n",
       "        text-align: right;\n",
       "    }\n",
       "</style>\n",
       "<table border=\"1\" class=\"dataframe\">\n",
       "  <thead>\n",
       "    <tr style=\"text-align: right;\">\n",
       "      <th></th>\n",
       "      <th>record_id</th>\n",
       "      <th>redcap_event_name</th>\n",
       "      <th>redcap_repeat_instrument</th>\n",
       "      <th>redcap_repeat_instance</th>\n",
       "      <th>redcap_survey_identifier</th>\n",
       "      <th>demographics_timestamp</th>\n",
       "      <th>first_name</th>\n",
       "      <th>last_name</th>\n",
       "      <th>phone_num</th>\n",
       "      <th>zip_code</th>\n",
       "      <th>...</th>\n",
       "      <th>cc_phone</th>\n",
       "      <th>cc_email</th>\n",
       "      <th>close_contacts_complete</th>\n",
       "      <th>supervisor_name</th>\n",
       "      <th>supervisor_email</th>\n",
       "      <th>work_inperson_yesno</th>\n",
       "      <th>work_date</th>\n",
       "      <th>work_contagious</th>\n",
       "      <th>work_contagious_calc</th>\n",
       "      <th>work_information_complete</th>\n",
       "    </tr>\n",
       "  </thead>\n",
       "  <tbody>\n",
       "    <tr>\n",
       "      <th>0</th>\n",
       "      <td>3</td>\n",
       "      <td>personal_info_arm_1</td>\n",
       "      <td>NaN</td>\n",
       "      <td>NaN</td>\n",
       "      <td>NaN</td>\n",
       "      <td>NaN</td>\n",
       "      <td>John</td>\n",
       "      <td>Doe</td>\n",
       "      <td>(999) 999-9999</td>\n",
       "      <td>98105.0</td>\n",
       "      <td>...</td>\n",
       "      <td>NaN</td>\n",
       "      <td>NaN</td>\n",
       "      <td>NaN</td>\n",
       "      <td>NaN</td>\n",
       "      <td>NaN</td>\n",
       "      <td>NaN</td>\n",
       "      <td>NaN</td>\n",
       "      <td>NaN</td>\n",
       "      <td>NaN</td>\n",
       "      <td>NaN</td>\n",
       "    </tr>\n",
       "    <tr>\n",
       "      <th>1</th>\n",
       "      <td>3</td>\n",
       "      <td>notifications_arm_1</td>\n",
       "      <td>NaN</td>\n",
       "      <td>NaN</td>\n",
       "      <td>NaN</td>\n",
       "      <td>NaN</td>\n",
       "      <td>NaN</td>\n",
       "      <td>NaN</td>\n",
       "      <td>NaN</td>\n",
       "      <td>NaN</td>\n",
       "      <td>...</td>\n",
       "      <td>NaN</td>\n",
       "      <td>NaN</td>\n",
       "      <td>NaN</td>\n",
       "      <td>Boss</td>\n",
       "      <td>NaN</td>\n",
       "      <td>0.0</td>\n",
       "      <td>NaN</td>\n",
       "      <td>0.0</td>\n",
       "      <td>NaN</td>\n",
       "      <td>2.0</td>\n",
       "    </tr>\n",
       "    <tr>\n",
       "      <th>2</th>\n",
       "      <td>3</td>\n",
       "      <td>case_intake_arm_1</td>\n",
       "      <td>NaN</td>\n",
       "      <td>1.0</td>\n",
       "      <td>NaN</td>\n",
       "      <td>NaN</td>\n",
       "      <td>NaN</td>\n",
       "      <td>NaN</td>\n",
       "      <td>NaN</td>\n",
       "      <td>NaN</td>\n",
       "      <td>...</td>\n",
       "      <td>NaN</td>\n",
       "      <td>NaN</td>\n",
       "      <td>NaN</td>\n",
       "      <td>NaN</td>\n",
       "      <td>NaN</td>\n",
       "      <td>NaN</td>\n",
       "      <td>NaN</td>\n",
       "      <td>NaN</td>\n",
       "      <td>NaN</td>\n",
       "      <td>NaN</td>\n",
       "    </tr>\n",
       "    <tr>\n",
       "      <th>3</th>\n",
       "      <td>3</td>\n",
       "      <td>notifications_arm_1</td>\n",
       "      <td>close_contacts</td>\n",
       "      <td>1.0</td>\n",
       "      <td>NaN</td>\n",
       "      <td>NaN</td>\n",
       "      <td>NaN</td>\n",
       "      <td>NaN</td>\n",
       "      <td>NaN</td>\n",
       "      <td>NaN</td>\n",
       "      <td>...</td>\n",
       "      <td>(999) 999-9999</td>\n",
       "      <td>fake_email@gmail.com</td>\n",
       "      <td>2.0</td>\n",
       "      <td>NaN</td>\n",
       "      <td>NaN</td>\n",
       "      <td>NaN</td>\n",
       "      <td>NaN</td>\n",
       "      <td>NaN</td>\n",
       "      <td>NaN</td>\n",
       "      <td>NaN</td>\n",
       "    </tr>\n",
       "    <tr>\n",
       "      <th>4</th>\n",
       "      <td>3</td>\n",
       "      <td>notifications_arm_1</td>\n",
       "      <td>close_contacts</td>\n",
       "      <td>2.0</td>\n",
       "      <td>NaN</td>\n",
       "      <td>NaN</td>\n",
       "      <td>NaN</td>\n",
       "      <td>NaN</td>\n",
       "      <td>NaN</td>\n",
       "      <td>NaN</td>\n",
       "      <td>...</td>\n",
       "      <td>(999) 999-9999</td>\n",
       "      <td>fake_email@gmail.com</td>\n",
       "      <td>2.0</td>\n",
       "      <td>NaN</td>\n",
       "      <td>NaN</td>\n",
       "      <td>NaN</td>\n",
       "      <td>NaN</td>\n",
       "      <td>NaN</td>\n",
       "      <td>NaN</td>\n",
       "      <td>NaN</td>\n",
       "    </tr>\n",
       "  </tbody>\n",
       "</table>\n",
       "<p>5 rows × 50 columns</p>\n",
       "</div>"
      ],
      "text/plain": [
       "   record_id    redcap_event_name redcap_repeat_instrument  \\\n",
       "0          3  personal_info_arm_1                      NaN   \n",
       "1          3  notifications_arm_1                      NaN   \n",
       "2          3    case_intake_arm_1                      NaN   \n",
       "3          3  notifications_arm_1           close_contacts   \n",
       "4          3  notifications_arm_1           close_contacts   \n",
       "\n",
       "   redcap_repeat_instance  redcap_survey_identifier  demographics_timestamp  \\\n",
       "0                     NaN                       NaN                     NaN   \n",
       "1                     NaN                       NaN                     NaN   \n",
       "2                     1.0                       NaN                     NaN   \n",
       "3                     1.0                       NaN                     NaN   \n",
       "4                     2.0                       NaN                     NaN   \n",
       "\n",
       "  first_name last_name       phone_num  zip_code  ...        cc_phone  \\\n",
       "0       John       Doe  (999) 999-9999   98105.0  ...             NaN   \n",
       "1        NaN       NaN             NaN       NaN  ...             NaN   \n",
       "2        NaN       NaN             NaN       NaN  ...             NaN   \n",
       "3        NaN       NaN             NaN       NaN  ...  (999) 999-9999   \n",
       "4        NaN       NaN             NaN       NaN  ...  (999) 999-9999   \n",
       "\n",
       "               cc_email  close_contacts_complete  supervisor_name  \\\n",
       "0                   NaN                      NaN              NaN   \n",
       "1                   NaN                      NaN             Boss   \n",
       "2                   NaN                      NaN              NaN   \n",
       "3  fake_email@gmail.com                      2.0              NaN   \n",
       "4  fake_email@gmail.com                      2.0              NaN   \n",
       "\n",
       "   supervisor_email  work_inperson_yesno  work_date work_contagious  \\\n",
       "0               NaN                  NaN        NaN             NaN   \n",
       "1               NaN                  0.0        NaN             0.0   \n",
       "2               NaN                  NaN        NaN             NaN   \n",
       "3               NaN                  NaN        NaN             NaN   \n",
       "4               NaN                  NaN        NaN             NaN   \n",
       "\n",
       "   work_contagious_calc  work_information_complete  \n",
       "0                   NaN                        NaN  \n",
       "1                   NaN                        2.0  \n",
       "2                   NaN                        NaN  \n",
       "3                   NaN                        NaN  \n",
       "4                   NaN                        NaN  \n",
       "\n",
       "[5 rows x 50 columns]"
      ]
     },
     "execution_count": 27,
     "metadata": {},
     "output_type": "execute_result"
    }
   ],
   "source": [
    "# Read and view data to import\n",
    "df_to_import = pd.read_csv(\"./files/data_to_import.csv\")\n",
    "df_to_import.head()"
   ]
  },
  {
   "cell_type": "markdown",
   "id": "e3a8cb0d-caa2-4977-afa7-8aedab2f36c2",
   "metadata": {},
   "source": [
    "Notice how the redcap_repeat_instance, close_contacts_complete, and work_inperson_yesno are some of the many fields that were converted to float with an added decimal. Importing this dataset as-is will produce errors.\n",
    "\n",
    "**Solution:** Convert all floats to Int64 Pandas datatype.  \n",
    "\n",
    "- Int64 is a unique pandas datatype that allows numeric fields to contain missing values. For more information, read the documentation [here.](https://pandas.pydata.org/docs/reference/api/pandas.Int64Dtype.html)  \n",
    "\n",
    "- Note: Before applying this solution, ensure that there are no numeric fields in your REDCap project that should have decimals (you will not want to convert these variables to int64 since they would lose their decimal places). Make sure you are familiar with your project's metadata. All radio, checkboxes, yes/no, redcap_repeat_instance, and form_complete variables need to be integers. In REDCap, actual numeric fields are stored as text fields with optional validation. Any text field in REDCap with no validation or with 'numeric' as their validation type will accept numbers with decimal places. Any text fields with other validations types (i.e. zip code, phone number, integer) will not accept decimals. "
   ]
  },
  {
   "cell_type": "code",
   "execution_count": 28,
   "id": "ba9c33fb-5e7d-4962-948f-142c19e12cb8",
   "metadata": {},
   "outputs": [
    {
     "name": "stdout",
     "output_type": "stream",
     "text": [
      "['redcap_repeat_instance', 'redcap_survey_identifier', 'demographics_timestamp', 'zip_code', 'age', 'ethnicity', 'race', 'gender', 'demographics_complete', 'symptoms_yesno', 'symptoms_exp___1', 'symptoms_exp___2', 'symptoms_exp___3', 'symptoms_exp___4', 'symptoms_exp___5', 'symptoms_exp___6', 'symptoms_exp___7', 'symptoms_exp___8', 'symptoms_exp___9', 'symptoms_exp___10', 'symptoms_exp___11', 'symptom_notes', 'symptoms_complete', 'test_yesno', 'test_positive_yesno', 'prior_covid_yesno', 'test_information_complete', 'close_contacts_complete', 'work_inperson_yesno', 'work_contagious', 'work_contagious_calc', 'work_information_complete']\n"
     ]
    }
   ],
   "source": [
    "float_list = df_to_import.select_dtypes(include=[np.float64]).columns.values.tolist()\n",
    "print(float_list)"
   ]
  },
  {
   "cell_type": "markdown",
   "id": "74b876d1-cf20-4a2c-9cca-899d05b65e23",
   "metadata": {},
   "source": [
    "At this point, if needed, you can remove any variables from this list that you need to keep as a float. "
   ]
  },
  {
   "cell_type": "code",
   "execution_count": 29,
   "id": "1d303e48-be64-4a81-bff2-daae19764c50",
   "metadata": {},
   "outputs": [
    {
     "data": {
      "text/html": [
       "<div>\n",
       "<style scoped>\n",
       "    .dataframe tbody tr th:only-of-type {\n",
       "        vertical-align: middle;\n",
       "    }\n",
       "\n",
       "    .dataframe tbody tr th {\n",
       "        vertical-align: top;\n",
       "    }\n",
       "\n",
       "    .dataframe thead th {\n",
       "        text-align: right;\n",
       "    }\n",
       "</style>\n",
       "<table border=\"1\" class=\"dataframe\">\n",
       "  <thead>\n",
       "    <tr style=\"text-align: right;\">\n",
       "      <th></th>\n",
       "      <th>record_id</th>\n",
       "      <th>redcap_event_name</th>\n",
       "      <th>redcap_repeat_instrument</th>\n",
       "      <th>redcap_repeat_instance</th>\n",
       "      <th>redcap_survey_identifier</th>\n",
       "      <th>demographics_timestamp</th>\n",
       "      <th>first_name</th>\n",
       "      <th>last_name</th>\n",
       "      <th>phone_num</th>\n",
       "      <th>zip_code</th>\n",
       "      <th>...</th>\n",
       "      <th>cc_phone</th>\n",
       "      <th>cc_email</th>\n",
       "      <th>close_contacts_complete</th>\n",
       "      <th>supervisor_name</th>\n",
       "      <th>supervisor_email</th>\n",
       "      <th>work_inperson_yesno</th>\n",
       "      <th>work_date</th>\n",
       "      <th>work_contagious</th>\n",
       "      <th>work_contagious_calc</th>\n",
       "      <th>work_information_complete</th>\n",
       "    </tr>\n",
       "  </thead>\n",
       "  <tbody>\n",
       "    <tr>\n",
       "      <th>0</th>\n",
       "      <td>3</td>\n",
       "      <td>personal_info_arm_1</td>\n",
       "      <td>NaN</td>\n",
       "      <td>&lt;NA&gt;</td>\n",
       "      <td>&lt;NA&gt;</td>\n",
       "      <td>&lt;NA&gt;</td>\n",
       "      <td>John</td>\n",
       "      <td>Doe</td>\n",
       "      <td>(999) 999-9999</td>\n",
       "      <td>98105</td>\n",
       "      <td>...</td>\n",
       "      <td>NaN</td>\n",
       "      <td>NaN</td>\n",
       "      <td>&lt;NA&gt;</td>\n",
       "      <td>NaN</td>\n",
       "      <td>NaN</td>\n",
       "      <td>&lt;NA&gt;</td>\n",
       "      <td>NaN</td>\n",
       "      <td>&lt;NA&gt;</td>\n",
       "      <td>&lt;NA&gt;</td>\n",
       "      <td>&lt;NA&gt;</td>\n",
       "    </tr>\n",
       "    <tr>\n",
       "      <th>1</th>\n",
       "      <td>3</td>\n",
       "      <td>notifications_arm_1</td>\n",
       "      <td>NaN</td>\n",
       "      <td>&lt;NA&gt;</td>\n",
       "      <td>&lt;NA&gt;</td>\n",
       "      <td>&lt;NA&gt;</td>\n",
       "      <td>NaN</td>\n",
       "      <td>NaN</td>\n",
       "      <td>NaN</td>\n",
       "      <td>&lt;NA&gt;</td>\n",
       "      <td>...</td>\n",
       "      <td>NaN</td>\n",
       "      <td>NaN</td>\n",
       "      <td>&lt;NA&gt;</td>\n",
       "      <td>Boss</td>\n",
       "      <td>NaN</td>\n",
       "      <td>0</td>\n",
       "      <td>NaN</td>\n",
       "      <td>0</td>\n",
       "      <td>&lt;NA&gt;</td>\n",
       "      <td>2</td>\n",
       "    </tr>\n",
       "    <tr>\n",
       "      <th>2</th>\n",
       "      <td>3</td>\n",
       "      <td>case_intake_arm_1</td>\n",
       "      <td>NaN</td>\n",
       "      <td>1</td>\n",
       "      <td>&lt;NA&gt;</td>\n",
       "      <td>&lt;NA&gt;</td>\n",
       "      <td>NaN</td>\n",
       "      <td>NaN</td>\n",
       "      <td>NaN</td>\n",
       "      <td>&lt;NA&gt;</td>\n",
       "      <td>...</td>\n",
       "      <td>NaN</td>\n",
       "      <td>NaN</td>\n",
       "      <td>&lt;NA&gt;</td>\n",
       "      <td>NaN</td>\n",
       "      <td>NaN</td>\n",
       "      <td>&lt;NA&gt;</td>\n",
       "      <td>NaN</td>\n",
       "      <td>&lt;NA&gt;</td>\n",
       "      <td>&lt;NA&gt;</td>\n",
       "      <td>&lt;NA&gt;</td>\n",
       "    </tr>\n",
       "    <tr>\n",
       "      <th>3</th>\n",
       "      <td>3</td>\n",
       "      <td>notifications_arm_1</td>\n",
       "      <td>close_contacts</td>\n",
       "      <td>1</td>\n",
       "      <td>&lt;NA&gt;</td>\n",
       "      <td>&lt;NA&gt;</td>\n",
       "      <td>NaN</td>\n",
       "      <td>NaN</td>\n",
       "      <td>NaN</td>\n",
       "      <td>&lt;NA&gt;</td>\n",
       "      <td>...</td>\n",
       "      <td>(999) 999-9999</td>\n",
       "      <td>fake_email@gmail.com</td>\n",
       "      <td>2</td>\n",
       "      <td>NaN</td>\n",
       "      <td>NaN</td>\n",
       "      <td>&lt;NA&gt;</td>\n",
       "      <td>NaN</td>\n",
       "      <td>&lt;NA&gt;</td>\n",
       "      <td>&lt;NA&gt;</td>\n",
       "      <td>&lt;NA&gt;</td>\n",
       "    </tr>\n",
       "    <tr>\n",
       "      <th>4</th>\n",
       "      <td>3</td>\n",
       "      <td>notifications_arm_1</td>\n",
       "      <td>close_contacts</td>\n",
       "      <td>2</td>\n",
       "      <td>&lt;NA&gt;</td>\n",
       "      <td>&lt;NA&gt;</td>\n",
       "      <td>NaN</td>\n",
       "      <td>NaN</td>\n",
       "      <td>NaN</td>\n",
       "      <td>&lt;NA&gt;</td>\n",
       "      <td>...</td>\n",
       "      <td>(999) 999-9999</td>\n",
       "      <td>fake_email@gmail.com</td>\n",
       "      <td>2</td>\n",
       "      <td>NaN</td>\n",
       "      <td>NaN</td>\n",
       "      <td>&lt;NA&gt;</td>\n",
       "      <td>NaN</td>\n",
       "      <td>&lt;NA&gt;</td>\n",
       "      <td>&lt;NA&gt;</td>\n",
       "      <td>&lt;NA&gt;</td>\n",
       "    </tr>\n",
       "  </tbody>\n",
       "</table>\n",
       "<p>5 rows × 50 columns</p>\n",
       "</div>"
      ],
      "text/plain": [
       "   record_id    redcap_event_name redcap_repeat_instrument  \\\n",
       "0          3  personal_info_arm_1                      NaN   \n",
       "1          3  notifications_arm_1                      NaN   \n",
       "2          3    case_intake_arm_1                      NaN   \n",
       "3          3  notifications_arm_1           close_contacts   \n",
       "4          3  notifications_arm_1           close_contacts   \n",
       "\n",
       "   redcap_repeat_instance  redcap_survey_identifier  demographics_timestamp  \\\n",
       "0                    <NA>                      <NA>                    <NA>   \n",
       "1                    <NA>                      <NA>                    <NA>   \n",
       "2                       1                      <NA>                    <NA>   \n",
       "3                       1                      <NA>                    <NA>   \n",
       "4                       2                      <NA>                    <NA>   \n",
       "\n",
       "  first_name last_name       phone_num  zip_code  ...        cc_phone  \\\n",
       "0       John       Doe  (999) 999-9999     98105  ...             NaN   \n",
       "1        NaN       NaN             NaN      <NA>  ...             NaN   \n",
       "2        NaN       NaN             NaN      <NA>  ...             NaN   \n",
       "3        NaN       NaN             NaN      <NA>  ...  (999) 999-9999   \n",
       "4        NaN       NaN             NaN      <NA>  ...  (999) 999-9999   \n",
       "\n",
       "               cc_email  close_contacts_complete  supervisor_name  \\\n",
       "0                   NaN                     <NA>              NaN   \n",
       "1                   NaN                     <NA>             Boss   \n",
       "2                   NaN                     <NA>              NaN   \n",
       "3  fake_email@gmail.com                        2              NaN   \n",
       "4  fake_email@gmail.com                        2              NaN   \n",
       "\n",
       "   supervisor_email  work_inperson_yesno  work_date work_contagious  \\\n",
       "0               NaN                 <NA>        NaN            <NA>   \n",
       "1               NaN                    0        NaN               0   \n",
       "2               NaN                 <NA>        NaN            <NA>   \n",
       "3               NaN                 <NA>        NaN            <NA>   \n",
       "4               NaN                 <NA>        NaN            <NA>   \n",
       "\n",
       "   work_contagious_calc  work_information_complete  \n",
       "0                  <NA>                       <NA>  \n",
       "1                  <NA>                          2  \n",
       "2                  <NA>                       <NA>  \n",
       "3                  <NA>                       <NA>  \n",
       "4                  <NA>                       <NA>  \n",
       "\n",
       "[5 rows x 50 columns]"
      ]
     },
     "execution_count": 29,
     "metadata": {},
     "output_type": "execute_result"
    }
   ],
   "source": [
    "df_to_import[float_list] = df_to_import[float_list].apply(lambda x: x.astype(\"Int64\"))\n",
    "df_to_import.head()"
   ]
  },
  {
   "cell_type": "markdown",
   "id": "f8f7e079-8d12-456c-85a8-53aa7d61dc8c",
   "metadata": {},
   "source": [
    "You can now see the `redcap_repeat_instance` and `close_contacts_complete` fields are integers. The `<NA>` seen in the blank cells will not interfere with data import. Now you can make any other edits necessary and import the data successfully. "
   ]
  },
  {
   "cell_type": "code",
   "execution_count": 30,
   "id": "7c675889-a2f7-45c2-9652-16afe932051b",
   "metadata": {},
   "outputs": [
    {
     "data": {
      "text/plain": [
       "{'count': 4}"
      ]
     },
     "execution_count": 30,
     "metadata": {},
     "output_type": "execute_result"
    }
   ],
   "source": [
    "# Import data\n",
    "project.import_records(df_to_import, date_format = 'MDY', import_format = 'df')"
   ]
  },
  {
   "cell_type": "markdown",
   "id": "3aa29234-f6b5-40e2-b8cf-8962cb718749",
   "metadata": {},
   "source": [
    ":::"
   ]
  },
  {
   "cell_type": "code",
   "execution_count": null,
   "id": "f0b3ac9d-b9a8-42ec-8fd5-3d1d0d3c0513",
   "metadata": {},
   "outputs": [],
   "source": []
  }
 ],
 "metadata": {
  "kernelspec": {
   "display_name": "Python 3 (ipykernel)",
   "language": "python",
   "name": "python3"
  },
  "language_info": {
   "codemirror_mode": {
    "name": "ipython",
    "version": 3
   },
   "file_extension": ".py",
   "mimetype": "text/x-python",
   "name": "python",
   "nbconvert_exporter": "python",
   "pygments_lexer": "ipython3",
   "version": "3.12.2"
  }
 },
 "nbformat": 4,
 "nbformat_minor": 5
}
