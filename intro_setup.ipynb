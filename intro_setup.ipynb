{
 "cells": [
  {
   "cell_type": "markdown",
   "id": "8ef5a2c4-f5bc-4f89-a85c-68a2fecc64ea",
   "metadata": {
    "tags": []
   },
   "source": [
    "# Project & API Setup\n",
    "\n",
    "Install and load the necessary packages and set up the REDCap project connection."
   ]
  },
  {
   "cell_type": "code",
   "execution_count": 2,
   "id": "2d79f6e1-d4b1-4113-9a3e-9649a3563217",
   "metadata": {},
   "outputs": [],
   "source": [
    "#| echo: false\n",
    "#| output: false\n",
    "import os\n",
    "os.environ['R_HOME'] = f'C:/Users/{os.environ.get('USERNAME')}/Miniconda3/envs/r_python_jl/Lib/R'"
   ]
  },
  {
   "cell_type": "code",
   "execution_count": 3,
   "id": "5454914c-accb-4d92-977c-226c19e5ca9f",
   "metadata": {},
   "outputs": [
    {
     "name": "stderr",
     "output_type": "stream",
     "text": [
      "C:\\Users\\CMD3303\\Miniconda3\\envs\\r_python_jl\\Lib\\site-packages\\rpy2\\robjects\\packages.py:367: UserWarning: The symbol 'quartz' is not in this R namespace/package.\n",
      "  warnings.warn(\n"
     ]
    }
   ],
   "source": [
    "#| echo: false\n",
    "#| output: false\n",
    "# enables the %%R magic, not necessary if you've already done this\n",
    "%load_ext rpy2.ipython\n",
    "# only have to run once to allow the R magic command"
   ]
  },
  {
   "cell_type": "markdown",
   "id": "54e1d64d-b83b-44c5-baf0-d5a8e810d5d3",
   "metadata": {},
   "source": [
    "::: {.panel-tabset}\n",
    "\n",
    "#### R"
   ]
  },
  {
   "cell_type": "code",
   "execution_count": 17,
   "id": "6c7868bb-e4cb-43e2-85b1-ef66d5ed0ca7",
   "metadata": {
    "tags": []
   },
   "outputs": [],
   "source": [
    "%%capture --no-display \n",
    "%%R\n",
    "library(\"dplyr\")\n",
    "library(\"jsonlite\")\n",
    "library(\"tidyr\")\n",
    "library(\"REDCapR\")\n",
    "library(\"knitr\")\n",
    "library(\"remotes\")\n",
    "library(\"gt\")"
   ]
  },
  {
   "cell_type": "code",
   "execution_count": 72,
   "id": "697807fb-7812-4cd8-b698-b136be02b239",
   "metadata": {},
   "outputs": [
    {
     "name": "stdout",
     "output_type": "stream",
     "text": [
      "[1] '1.1.9005'\n"
     ]
    }
   ],
   "source": [
    "%%capture --no-display --no-stdout\n",
    "%%R\n",
    "# Detach REDCapR if already loaded, and download the latest version\n",
    "if (version!='1.1.9005') {\n",
    "    detach(\"package:REDCapR\", unload=TRUE)\n",
    "    remotes::install_github(\"OuhscBbmc/REDCapR\")\n",
    "    library(\"REDCapR\")\n",
    "    print(packageVersion(\"REDCapR\"))\n",
    "}\n",
    "else {\n",
    "    print(\"REDCapR package up to date\")\n",
    "}"
   ]
  },
  {
   "cell_type": "code",
   "execution_count": 75,
   "id": "2b0e46df-012a-412b-a91d-54c3d9d2a4fb",
   "metadata": {
    "tags": []
   },
   "outputs": [],
   "source": [
    "%%R\n",
    "# Load API tokens from the json file\n",
    "token <- jsonlite::fromJSON('./../../json_api_data.json')$dev_token$'309'\n",
    "url <- \"https://dev-redcap.doh.wa.gov/api/\""
   ]
  },
  {
   "cell_type": "markdown",
   "id": "d084af26-b0f6-4a7d-9494-1d72627ffdac",
   "metadata": {},
   "source": [
    "#### Python"
   ]
  },
  {
   "cell_type": "code",
   "execution_count": 6,
   "id": "6a06455c-3201-4bb2-bf38-56cfe6476bd1",
   "metadata": {},
   "outputs": [],
   "source": [
    "import redcap\n",
    "import json\n",
    "import csv\n",
    "import pandas as pd\n",
    "import numpy as np\n",
    "import requests\n",
    "import tempfile"
   ]
  },
  {
   "cell_type": "code",
   "execution_count": 45,
   "id": "9f995e13-651c-4902-ac46-a19466eb4f12",
   "metadata": {},
   "outputs": [],
   "source": [
    "# Load API tokens from the json file\n",
    "key = json.load(open('./../../json_api_data.json'))\n",
    "token = key['dev_token']['309']\n",
    "url = key['dev_url']\n",
    "\n",
    "project = redcap.Project(url, token)"
   ]
  },
  {
   "cell_type": "markdown",
   "id": "765fe288-915b-41d4-a908-14f9076dee68",
   "metadata": {},
   "source": [
    ":::"
   ]
  },
  {
   "cell_type": "code",
   "execution_count": null,
   "id": "f0b3ac9d-b9a8-42ec-8fd5-3d1d0d3c0513",
   "metadata": {},
   "outputs": [],
   "source": []
  }
 ],
 "metadata": {
  "kernelspec": {
   "display_name": "Python 3 (ipykernel)",
   "language": "python",
   "name": "python3"
  },
  "language_info": {
   "codemirror_mode": {
    "name": "ipython",
    "version": 3
   },
   "file_extension": ".py",
   "mimetype": "text/x-python",
   "name": "python",
   "nbconvert_exporter": "python",
   "pygments_lexer": "ipython3",
   "version": "3.7.16"
  }
 },
 "nbformat": 4,
 "nbformat_minor": 5
}
