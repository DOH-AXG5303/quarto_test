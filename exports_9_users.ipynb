{
 "cells": [
  {
   "cell_type": "markdown",
   "metadata": {},
   "source": [
    "# Users and User Roles {#sec-users}"
   ]
  },
  {
   "cell_type": "markdown",
   "metadata": {},
   "source": [
    "::: {.content-hidden when-format=\"html\"}"
   ]
  },
  {
   "cell_type": "markdown",
   "metadata": {},
   "source": [
    "## Project Setup\n",
    "\n",
    "Install and load the necessary packages"
   ]
  },
  {
   "cell_type": "code",
   "execution_count": 17,
   "metadata": {},
   "outputs": [],
   "source": [
    "#| echo: false\n",
    "#| output: false\n",
    "import os\n",
    "os.environ['R_HOME'] = f'C:/Users/{os.environ.get('USERNAME')}/Miniconda3/envs/r_python_jl/Lib/R'"
   ]
  },
  {
   "cell_type": "code",
   "execution_count": 18,
   "metadata": {},
   "outputs": [
    {
     "name": "stdout",
     "output_type": "stream",
     "text": [
      "The rpy2.ipython extension is already loaded. To reload it, use:\n",
      "  %reload_ext rpy2.ipython\n"
     ]
    }
   ],
   "source": [
    "#| echo: false\n",
    "#| output: false\n",
    "%load_ext rpy2.ipython\n",
    "# only have to run once to allow the R magic command"
   ]
  },
  {
   "cell_type": "markdown",
   "metadata": {},
   "source": [
    "::: {.panel-tabset}\n",
    "\n",
    "#### R"
   ]
  },
  {
   "cell_type": "code",
   "execution_count": 19,
   "metadata": {},
   "outputs": [],
   "source": [
    "%%capture \n",
    "%%R\n",
    "\n",
    "library(\"dplyr\")\n",
    "library(\"jsonlite\")\n",
    "library(\"tidyr\")\n",
    "library(\"REDCapR\")\n",
    "library(\"knitr\")\n",
    "library(\"remotes\")\n",
    "library(\"gt\")"
   ]
  },
  {
   "cell_type": "code",
   "execution_count": 20,
   "metadata": {},
   "outputs": [
    {
     "name": "stdout",
     "output_type": "stream",
     "text": [
      "[1] '1.1.9005'\n"
     ]
    }
   ],
   "source": [
    "%%capture --no-display --no-stdout\n",
    "%%R\n",
    "\n",
    "version <- packageVersion(\"REDCapR\")\n",
    "version"
   ]
  },
  {
   "cell_type": "markdown",
   "metadata": {},
   "source": [
    "In this project, we will use the bleeding edge version of REDCapR available on Github"
   ]
  },
  {
   "cell_type": "code",
   "execution_count": 6,
   "metadata": {},
   "outputs": [
    {
     "name": "stdout",
     "output_type": "stream",
     "text": [
      "[1] \"REDCapR package up to date\"\n"
     ]
    }
   ],
   "source": [
    "%%capture --no-display --no-stdout\n",
    "%%R\n",
    "\n",
    "# Detach REDCapR if already loaded, and download the latest version\n",
    "if (version!='1.1.9005') {\n",
    "    detach(\"package:REDCapR\", unload=TRUE)\n",
    "    remotes::install_github(\"OuhscBbmc/REDCapR\")\n",
    "    library(\"REDCapR\")\n",
    "    print(packageVersion(\"REDCapR\"))\n",
    "}\n",
    "\n",
    "else {\n",
    "    print(\"REDCapR package up to date\")\n",
    "}"
   ]
  },
  {
   "cell_type": "markdown",
   "metadata": {},
   "source": [
    "#### Python"
   ]
  },
  {
   "cell_type": "code",
   "execution_count": 21,
   "metadata": {
    "scrolled": true
   },
   "outputs": [],
   "source": [
    "import redcap\n",
    "import json\n",
    "import pandas as pd"
   ]
  },
  {
   "cell_type": "markdown",
   "metadata": {},
   "source": [
    ":::"
   ]
  },
  {
   "cell_type": "markdown",
   "metadata": {},
   "source": [
    "Assign your project URL and Token"
   ]
  },
  {
   "cell_type": "markdown",
   "metadata": {},
   "source": [
    "::: {.panel-tabset}\n",
    "\n",
    "#### R"
   ]
  },
  {
   "cell_type": "code",
   "execution_count": 22,
   "metadata": {},
   "outputs": [],
   "source": [
    "%%R\n",
    "path = paste0(\"C:/Users/\", Sys.getenv(\"USERNAME\"), '/json_api_data.json')\n",
    "token <- jsonlite::fromJSON(path)$dev_token$'308'\n",
    "url <- \"https://dev-redcap.doh.wa.gov/api/\""
   ]
  },
  {
   "cell_type": "markdown",
   "metadata": {},
   "source": [
    "#### Python"
   ]
  },
  {
   "cell_type": "code",
   "execution_count": 23,
   "metadata": {
    "scrolled": true
   },
   "outputs": [],
   "source": [
    "path_to_json = f\"C:/Users/{os.environ.get('USERNAME')}/json_api_data.json\"\n",
    "api_key = json.load(open(path_to_json))\n",
    "api_token = api_key['dev_token']['308']\n",
    "api_url = api_key['dev_url']\n",
    "project = redcap.Project(api_url, api_token)"
   ]
  },
  {
   "cell_type": "markdown",
   "metadata": {},
   "source": [
    ":::"
   ]
  },
  {
   "cell_type": "markdown",
   "metadata": {},
   "source": [
    ":::"
   ]
  },
  {
   "cell_type": "markdown",
   "metadata": {},
   "source": [
    "REDCap allows strict control of user rights for each project. These rights include a user's ability to edit, export and view data, add or edit reports, import data, create records, etc. Privileges to view and export data are specified for each instrument. \n",
    "\n",
    "User roles can be set with predefined privileges and users can then be assigned to these user role groups. \n",
    "\n",
    "Both REDCapR and Pycap have functions for exporting user rights."
   ]
  },
  {
   "cell_type": "markdown",
   "metadata": {},
   "source": [
    "::: {.panel-tabset}\n",
    "\n",
    "#### R\n",
    "\n",
    "`redcap_users_export()`"
   ]
  },
  {
   "cell_type": "code",
   "execution_count": 12,
   "metadata": {
    "tags": []
   },
   "outputs": [
    {
     "name": "stdout",
     "output_type": "stream",
     "text": [
      "[1] \"data_user\"       \"data_user_form\"  \"success\"         \"status_code\"    \n",
      "[5] \"outcome_message\" \"elapsed_seconds\" \"raw_text\"       \n"
     ]
    }
   ],
   "source": [
    "%%capture --no-display --no-stdout\n",
    "%%R\n",
    "users_data <- redcap_users_export(redcap_uri = url, token = token)\n",
    "names(users_data)"
   ]
  },
  {
   "cell_type": "markdown",
   "metadata": {},
   "source": [
    "**Extract the `data_user` table to view who has access to the REDCap project:**"
   ]
  },
  {
   "cell_type": "markdown",
   "metadata": {},
   "source": [
    "`redcap_users_export` output provides a list with several elements. The two most useful elements are the `data_user` and the `data_user_form`. "
   ]
  },
  {
   "cell_type": "code",
   "execution_count": 13,
   "metadata": {
    "tags": []
   },
   "outputs": [],
   "source": [
    "%%capture\n",
    "%%R\n",
    "users <- users_data$data_user"
   ]
  },
  {
   "cell_type": "markdown",
   "metadata": {},
   "source": [
    "::: {.content-hidden when-format=\"html\"}"
   ]
  },
  {
   "cell_type": "code",
   "execution_count": 14,
   "metadata": {},
   "outputs": [],
   "source": [
    "%%R\n",
    "users_tbl <- gt(head(users))\n",
    "gt::gtsave(users_tbl, filename = 'export_users1.html', path = \"./files/export_files/\")"
   ]
  },
  {
   "cell_type": "markdown",
   "metadata": {},
   "source": [
    ":::"
   ]
  },
  {
   "cell_type": "markdown",
   "metadata": {},
   "source": [
    "<p align=\"center\"><iframe width=\"100%\" height=\"200\" src=\"./files/export_files/export_users1.html\" title=\"Quarto Documentation\"></iframe></p>"
   ]
  },
  {
   "cell_type": "markdown",
   "metadata": {},
   "source": [
    "There is no way to export which user is in which named user role group with REDCapR or the native API. When you export this data, if a user has been assigned to a user role group, then it will return the user with the role's defined privileges."
   ]
  },
  {
   "cell_type": "markdown",
   "metadata": {},
   "source": [
    "**Extract the `data_user_form` table to view which forms each users has access to:**"
   ]
  },
  {
   "cell_type": "code",
   "execution_count": 28,
   "metadata": {
    "tags": []
   },
   "outputs": [],
   "source": [
    "%%capture\n",
    "%%R\n",
    "users_forms <- users_data$data_user_form"
   ]
  },
  {
   "cell_type": "markdown",
   "metadata": {},
   "source": [
    "::: {.content-hidden when-format=\"html\"}"
   ]
  },
  {
   "cell_type": "code",
   "execution_count": 29,
   "metadata": {},
   "outputs": [],
   "source": [
    "%%R\n",
    "users_forms_tbl <- gt(users_forms)\n",
    "gt::gtsave(users_forms_tbl, filename = 'export_users2.html', path = \"./files/export_files/\")"
   ]
  },
  {
   "cell_type": "markdown",
   "metadata": {},
   "source": [
    ":::"
   ]
  },
  {
   "cell_type": "markdown",
   "metadata": {
    "tags": []
   },
   "source": [
    "<p align=\"center\"><iframe width=\"100%\" height=\"200\" src=\"./files/export_files/export_users2.html\" title=\"Quarto Documentation\"></iframe></p>"
   ]
  },
  {
   "cell_type": "markdown",
   "metadata": {},
   "source": [
    "#### Python\n",
    "\n",
    "`export_users()`, `export_user_roles()`, `export_user_role_assignment()`"
   ]
  },
  {
   "cell_type": "markdown",
   "metadata": {},
   "source": [
    "**Use `export_users` to view who has access to the REDCap project and what their rights are:**"
   ]
  },
  {
   "cell_type": "code",
   "execution_count": 14,
   "metadata": {
    "scrolled": true
   },
   "outputs": [
    {
     "data": {
      "text/html": [
       "<div>\n",
       "<style scoped>\n",
       "    .dataframe tbody tr th:only-of-type {\n",
       "        vertical-align: middle;\n",
       "    }\n",
       "\n",
       "    .dataframe tbody tr th {\n",
       "        vertical-align: top;\n",
       "    }\n",
       "\n",
       "    .dataframe thead th {\n",
       "        text-align: right;\n",
       "    }\n",
       "</style>\n",
       "<table border=\"1\" class=\"dataframe\">\n",
       "  <thead>\n",
       "    <tr style=\"text-align: right;\">\n",
       "      <th></th>\n",
       "      <th>username</th>\n",
       "      <th>email</th>\n",
       "      <th>firstname</th>\n",
       "      <th>lastname</th>\n",
       "      <th>expiration</th>\n",
       "      <th>data_access_group</th>\n",
       "      <th>data_access_group_id</th>\n",
       "      <th>design</th>\n",
       "      <th>alerts</th>\n",
       "      <th>user_rights</th>\n",
       "      <th>...</th>\n",
       "      <th>mobile_app</th>\n",
       "      <th>mobile_app_download_data</th>\n",
       "      <th>record_create</th>\n",
       "      <th>record_rename</th>\n",
       "      <th>record_delete</th>\n",
       "      <th>lock_records_all_forms</th>\n",
       "      <th>lock_records</th>\n",
       "      <th>lock_records_customization</th>\n",
       "      <th>forms</th>\n",
       "      <th>forms_export</th>\n",
       "    </tr>\n",
       "  </thead>\n",
       "  <tbody>\n",
       "    <tr>\n",
       "      <th>0</th>\n",
       "      <td>alexey.gilman@doh.wa.gov</td>\n",
       "      <td>Alexey.Gilman@doh.wa.gov</td>\n",
       "      <td>Alexey</td>\n",
       "      <td>Gilman</td>\n",
       "      <td>NaN</td>\n",
       "      <td>records1_2</td>\n",
       "      <td>2716.0</td>\n",
       "      <td>0</td>\n",
       "      <td>0</td>\n",
       "      <td>1</td>\n",
       "      <td>...</td>\n",
       "      <td>1</td>\n",
       "      <td>1</td>\n",
       "      <td>1</td>\n",
       "      <td>1</td>\n",
       "      <td>1</td>\n",
       "      <td>1</td>\n",
       "      <td>0</td>\n",
       "      <td>1</td>\n",
       "      <td>demographics:3,symptoms:1,test_information:3,c...</td>\n",
       "      <td>demographics:1,symptoms:1,test_information:1,c...</td>\n",
       "    </tr>\n",
       "    <tr>\n",
       "      <th>1</th>\n",
       "      <td>caitlin.drover@doh.wa.gov</td>\n",
       "      <td>Caitlin.Drover@doh.wa.gov</td>\n",
       "      <td>Caitlin</td>\n",
       "      <td>Drover</td>\n",
       "      <td>NaN</td>\n",
       "      <td>NaN</td>\n",
       "      <td>NaN</td>\n",
       "      <td>1</td>\n",
       "      <td>1</td>\n",
       "      <td>1</td>\n",
       "      <td>...</td>\n",
       "      <td>1</td>\n",
       "      <td>0</td>\n",
       "      <td>1</td>\n",
       "      <td>1</td>\n",
       "      <td>1</td>\n",
       "      <td>0</td>\n",
       "      <td>0</td>\n",
       "      <td>1</td>\n",
       "      <td>demographics:1,symptoms:1,test_information:1,c...</td>\n",
       "      <td>demographics:1,symptoms:1,test_information:1,c...</td>\n",
       "    </tr>\n",
       "    <tr>\n",
       "      <th>2</th>\n",
       "      <td>emily.pearman@doh.wa.gov</td>\n",
       "      <td>emily.pearman@doh.wa.gov</td>\n",
       "      <td>Emily</td>\n",
       "      <td>Pearman</td>\n",
       "      <td>NaN</td>\n",
       "      <td>NaN</td>\n",
       "      <td>NaN</td>\n",
       "      <td>1</td>\n",
       "      <td>1</td>\n",
       "      <td>1</td>\n",
       "      <td>...</td>\n",
       "      <td>1</td>\n",
       "      <td>1</td>\n",
       "      <td>1</td>\n",
       "      <td>1</td>\n",
       "      <td>1</td>\n",
       "      <td>0</td>\n",
       "      <td>0</td>\n",
       "      <td>0</td>\n",
       "      <td>demographics:1,symptoms:1,test_information:1,c...</td>\n",
       "      <td>demographics:1,symptoms:1,test_information:1,c...</td>\n",
       "    </tr>\n",
       "  </tbody>\n",
       "</table>\n",
       "<p>3 rows × 34 columns</p>\n",
       "</div>"
      ],
      "text/plain": [
       "                    username                      email firstname lastname  \\\n",
       "0   alexey.gilman@doh.wa.gov   Alexey.Gilman@doh.wa.gov    Alexey   Gilman   \n",
       "1  caitlin.drover@doh.wa.gov  Caitlin.Drover@doh.wa.gov   Caitlin   Drover   \n",
       "2   emily.pearman@doh.wa.gov   emily.pearman@doh.wa.gov     Emily  Pearman   \n",
       "\n",
       "   expiration data_access_group  data_access_group_id  design  alerts  \\\n",
       "0         NaN        records1_2                2716.0       0       0   \n",
       "1         NaN               NaN                   NaN       1       1   \n",
       "2         NaN               NaN                   NaN       1       1   \n",
       "\n",
       "   user_rights  ...  mobile_app  mobile_app_download_data  record_create  \\\n",
       "0            1  ...           1                         1              1   \n",
       "1            1  ...           1                         0              1   \n",
       "2            1  ...           1                         1              1   \n",
       "\n",
       "   record_rename  record_delete  lock_records_all_forms  lock_records  \\\n",
       "0              1              1                       1             0   \n",
       "1              1              1                       0             0   \n",
       "2              1              1                       0             0   \n",
       "\n",
       "   lock_records_customization  \\\n",
       "0                           1   \n",
       "1                           1   \n",
       "2                           0   \n",
       "\n",
       "                                               forms  \\\n",
       "0  demographics:3,symptoms:1,test_information:3,c...   \n",
       "1  demographics:1,symptoms:1,test_information:1,c...   \n",
       "2  demographics:1,symptoms:1,test_information:1,c...   \n",
       "\n",
       "                                        forms_export  \n",
       "0  demographics:1,symptoms:1,test_information:1,c...  \n",
       "1  demographics:1,symptoms:1,test_information:1,c...  \n",
       "2  demographics:1,symptoms:1,test_information:1,c...  \n",
       "\n",
       "[3 rows x 34 columns]"
      ]
     },
     "execution_count": 14,
     "metadata": {},
     "output_type": "execute_result"
    }
   ],
   "source": [
    "project.export_users(format_type='df') "
   ]
  },
  {
   "cell_type": "markdown",
   "metadata": {},
   "source": [
    "**Use `export_user_roles` to view the defined user rold groups for that project and their permissions:**"
   ]
  },
  {
   "cell_type": "code",
   "execution_count": 15,
   "metadata": {},
   "outputs": [
    {
     "data": {
      "text/html": [
       "<div>\n",
       "<style scoped>\n",
       "    .dataframe tbody tr th:only-of-type {\n",
       "        vertical-align: middle;\n",
       "    }\n",
       "\n",
       "    .dataframe tbody tr th {\n",
       "        vertical-align: top;\n",
       "    }\n",
       "\n",
       "    .dataframe thead th {\n",
       "        text-align: right;\n",
       "    }\n",
       "</style>\n",
       "<table border=\"1\" class=\"dataframe\">\n",
       "  <thead>\n",
       "    <tr style=\"text-align: right;\">\n",
       "      <th></th>\n",
       "      <th>unique_role_name</th>\n",
       "      <th>role_label</th>\n",
       "      <th>design</th>\n",
       "      <th>alerts</th>\n",
       "      <th>user_rights</th>\n",
       "      <th>data_access_groups</th>\n",
       "      <th>reports</th>\n",
       "      <th>stats_and_charts</th>\n",
       "      <th>manage_survey_participants</th>\n",
       "      <th>calendar</th>\n",
       "      <th>...</th>\n",
       "      <th>mobile_app</th>\n",
       "      <th>mobile_app_download_data</th>\n",
       "      <th>record_create</th>\n",
       "      <th>record_rename</th>\n",
       "      <th>record_delete</th>\n",
       "      <th>lock_records_customization</th>\n",
       "      <th>lock_records</th>\n",
       "      <th>lock_records_all_forms</th>\n",
       "      <th>forms</th>\n",
       "      <th>forms_export</th>\n",
       "    </tr>\n",
       "  </thead>\n",
       "  <tbody>\n",
       "    <tr>\n",
       "      <th>0</th>\n",
       "      <td>U-5354FA3HYL</td>\n",
       "      <td>Admin</td>\n",
       "      <td>1</td>\n",
       "      <td>1</td>\n",
       "      <td>1</td>\n",
       "      <td>1</td>\n",
       "      <td>1</td>\n",
       "      <td>1</td>\n",
       "      <td>1</td>\n",
       "      <td>1</td>\n",
       "      <td>...</td>\n",
       "      <td>1</td>\n",
       "      <td>0</td>\n",
       "      <td>1</td>\n",
       "      <td>1</td>\n",
       "      <td>1</td>\n",
       "      <td>1</td>\n",
       "      <td>0</td>\n",
       "      <td>0</td>\n",
       "      <td>demographics:1,symptoms:1,test_information:1,c...</td>\n",
       "      <td>demographics:1,symptoms:1,test_information:1,c...</td>\n",
       "    </tr>\n",
       "  </tbody>\n",
       "</table>\n",
       "<p>1 rows × 29 columns</p>\n",
       "</div>"
      ],
      "text/plain": [
       "  unique_role_name role_label  design  alerts  user_rights  \\\n",
       "0     U-5354FA3HYL      Admin       1       1            1   \n",
       "\n",
       "   data_access_groups  reports  stats_and_charts  manage_survey_participants  \\\n",
       "0                   1        1                 1                           1   \n",
       "\n",
       "   calendar  ...  mobile_app  mobile_app_download_data  record_create  \\\n",
       "0         1  ...           1                         0              1   \n",
       "\n",
       "   record_rename  record_delete  lock_records_customization  lock_records  \\\n",
       "0              1              1                           1             0   \n",
       "\n",
       "   lock_records_all_forms                                              forms  \\\n",
       "0                       0  demographics:1,symptoms:1,test_information:1,c...   \n",
       "\n",
       "                                        forms_export  \n",
       "0  demographics:1,symptoms:1,test_information:1,c...  \n",
       "\n",
       "[1 rows x 29 columns]"
      ]
     },
     "execution_count": 15,
     "metadata": {},
     "output_type": "execute_result"
    }
   ],
   "source": [
    "project.export_user_roles(format_type='df') "
   ]
  },
  {
   "cell_type": "markdown",
   "metadata": {},
   "source": [
    "**Use `export_user_role_assignment` to view which user is in in which role group and data access group:**"
   ]
  },
  {
   "cell_type": "code",
   "execution_count": 16,
   "metadata": {},
   "outputs": [
    {
     "data": {
      "text/html": [
       "<div>\n",
       "<style scoped>\n",
       "    .dataframe tbody tr th:only-of-type {\n",
       "        vertical-align: middle;\n",
       "    }\n",
       "\n",
       "    .dataframe tbody tr th {\n",
       "        vertical-align: top;\n",
       "    }\n",
       "\n",
       "    .dataframe thead th {\n",
       "        text-align: right;\n",
       "    }\n",
       "</style>\n",
       "<table border=\"1\" class=\"dataframe\">\n",
       "  <thead>\n",
       "    <tr style=\"text-align: right;\">\n",
       "      <th></th>\n",
       "      <th>username</th>\n",
       "      <th>unique_role_name</th>\n",
       "      <th>data_access_group</th>\n",
       "    </tr>\n",
       "  </thead>\n",
       "  <tbody>\n",
       "    <tr>\n",
       "      <th>0</th>\n",
       "      <td>alexey.gilman@doh.wa.gov</td>\n",
       "      <td>NaN</td>\n",
       "      <td>records1_2</td>\n",
       "    </tr>\n",
       "    <tr>\n",
       "      <th>1</th>\n",
       "      <td>caitlin.drover@doh.wa.gov</td>\n",
       "      <td>U-5354FA3HYL</td>\n",
       "      <td>NaN</td>\n",
       "    </tr>\n",
       "    <tr>\n",
       "      <th>2</th>\n",
       "      <td>emily.pearman@doh.wa.gov</td>\n",
       "      <td>NaN</td>\n",
       "      <td>NaN</td>\n",
       "    </tr>\n",
       "  </tbody>\n",
       "</table>\n",
       "</div>"
      ],
      "text/plain": [
       "                    username unique_role_name data_access_group\n",
       "0   alexey.gilman@doh.wa.gov              NaN        records1_2\n",
       "1  caitlin.drover@doh.wa.gov     U-5354FA3HYL               NaN\n",
       "2   emily.pearman@doh.wa.gov              NaN               NaN"
      ]
     },
     "execution_count": 16,
     "metadata": {},
     "output_type": "execute_result"
    }
   ],
   "source": [
    "project.export_user_role_assignment(format_type='df')"
   ]
  },
  {
   "cell_type": "markdown",
   "metadata": {},
   "source": [
    "You can use the `unique_role_name` field from the `export_user_roles` output to see which user is assigned to which user role in the ouput of `export_user_role_assignment`."
   ]
  },
  {
   "cell_type": "markdown",
   "metadata": {},
   "source": [
    ":::"
   ]
  },
  {
   "cell_type": "markdown",
   "metadata": {},
   "source": [
    "The user rights tables also include information on which Data Access Group each user is assigned to. For more information on Data Access Groups see @sec-DAG"
   ]
  },
  {
   "cell_type": "code",
   "execution_count": null,
   "metadata": {},
   "outputs": [],
   "source": []
  }
 ],
 "metadata": {
  "kernelspec": {
   "display_name": "Python 3 (ipykernel)",
   "language": "python",
   "name": "python3"
  },
  "language_info": {
   "codemirror_mode": {
    "name": "ipython",
    "version": 3
   },
   "file_extension": ".py",
   "mimetype": "text/x-python",
   "name": "python",
   "nbconvert_exporter": "python",
   "pygments_lexer": "ipython3",
   "version": "3.12.2"
  }
 },
 "nbformat": 4,
 "nbformat_minor": 4
}
