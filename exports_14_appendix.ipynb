{
 "cells": [
  {
   "cell_type": "markdown",
   "metadata": {},
   "source": [
    "# Appendix"
   ]
  },
  {
   "cell_type": "markdown",
   "metadata": {},
   "source": [
    "::: {.content-hidden when-format=\"html\"}"
   ]
  },
  {
   "cell_type": "markdown",
   "metadata": {},
   "source": [
    "## Project Setup\n",
    "\n",
    "Install and load the necessary packages"
   ]
  },
  {
   "cell_type": "code",
   "execution_count": 4,
   "metadata": {},
   "outputs": [],
   "source": [
    "#| echo: false\n",
    "#| output: false\n",
    "import os\n",
    "os.environ['R_HOME'] = f'C:/Users/{os.environ.get('USERNAME')}/Miniconda3/envs/r_python_jl/Lib/R'"
   ]
  },
  {
   "cell_type": "code",
   "execution_count": 5,
   "metadata": {},
   "outputs": [
    {
     "name": "stderr",
     "output_type": "stream",
     "text": [
      "C:\\Users\\ekp0303\\Miniconda3\\envs\\r_python_jl\\Lib\\site-packages\\rpy2\\robjects\\packages.py:367: UserWarning: The symbol 'quartz' is not in this R namespace/package.\n",
      "  warnings.warn(\n"
     ]
    }
   ],
   "source": [
    "#| echo: false\n",
    "#| output: false\n",
    "%load_ext rpy2.ipython\n",
    "# only have to run once to allow the R magic command"
   ]
  },
  {
   "cell_type": "markdown",
   "metadata": {},
   "source": [
    "::: {.panel-tabset}\n",
    "\n",
    "#### R"
   ]
  },
  {
   "cell_type": "code",
   "execution_count": 6,
   "metadata": {},
   "outputs": [],
   "source": [
    "%%capture \n",
    "%%R\n",
    "\n",
    "library(\"dplyr\")\n",
    "library(\"jsonlite\")\n",
    "library(\"tidyr\")\n",
    "library(\"REDCapR\")\n",
    "library(\"knitr\")\n",
    "library(\"remotes\")\n",
    "library(\"gt\")"
   ]
  },
  {
   "cell_type": "code",
   "execution_count": 7,
   "metadata": {},
   "outputs": [
    {
     "name": "stdout",
     "output_type": "stream",
     "text": [
      "[1] '1.1.9005'\n"
     ]
    }
   ],
   "source": [
    "%%capture --no-display --no-stdout\n",
    "%%R\n",
    "\n",
    "version <- packageVersion(\"REDCapR\")\n",
    "version"
   ]
  },
  {
   "cell_type": "markdown",
   "metadata": {},
   "source": [
    "In this project, we will use the bleeding edge version of REDCapR available on Github"
   ]
  },
  {
   "cell_type": "code",
   "execution_count": 8,
   "metadata": {},
   "outputs": [
    {
     "name": "stdout",
     "output_type": "stream",
     "text": [
      "[1] \"REDCapR package up to date\"\n"
     ]
    }
   ],
   "source": [
    "%%capture --no-display --no-stdout\n",
    "%%R\n",
    "\n",
    "# Detach REDCapR if already loaded, and download the latest version\n",
    "if (version!='1.1.9005') {\n",
    "    detach(\"package:REDCapR\", unload=TRUE)\n",
    "    remotes::install_github(\"OuhscBbmc/REDCapR\")\n",
    "    library(\"REDCapR\")\n",
    "    print(packageVersion(\"REDCapR\"))\n",
    "}\n",
    "\n",
    "else {\n",
    "    print(\"REDCapR package up to date\")\n",
    "}"
   ]
  },
  {
   "cell_type": "markdown",
   "metadata": {},
   "source": [
    "#### Python"
   ]
  },
  {
   "cell_type": "code",
   "execution_count": 9,
   "metadata": {
    "scrolled": true
   },
   "outputs": [],
   "source": [
    "# import pycap\n",
    "import redcap\n",
    "import json\n",
    "import pandas as pd\n",
    "# import requests"
   ]
  },
  {
   "cell_type": "markdown",
   "metadata": {},
   "source": [
    ":::"
   ]
  },
  {
   "cell_type": "markdown",
   "metadata": {},
   "source": [
    "Assign your project URL and Token"
   ]
  },
  {
   "cell_type": "markdown",
   "metadata": {},
   "source": [
    "::: {.panel-tabset}\n",
    "\n",
    "#### R"
   ]
  },
  {
   "cell_type": "code",
   "execution_count": 10,
   "metadata": {},
   "outputs": [],
   "source": [
    "%%R\n",
    "path = paste0(\"C:/Users/\", Sys.getenv(\"USERNAME\"), '/json_api_data.json')\n",
    "token <- jsonlite::fromJSON(path)$dev_token$'308'\n",
    "url <- \"https://dev-redcap.doh.wa.gov/api/\""
   ]
  },
  {
   "cell_type": "markdown",
   "metadata": {},
   "source": [
    "#### Python"
   ]
  },
  {
   "cell_type": "code",
   "execution_count": 11,
   "metadata": {
    "scrolled": true
   },
   "outputs": [],
   "source": [
    "path_to_json = f\"C:/Users/{os.environ.get('USERNAME')}/json_api_data.json\"\n",
    "api_key = json.load(open(path_to_json))\n",
    "api_token = api_key['dev_token']['308']\n",
    "api_url = api_key['dev_url']\n",
    "project = redcap.Project(api_url, api_token)"
   ]
  },
  {
   "cell_type": "markdown",
   "metadata": {},
   "source": [
    ":::"
   ]
  },
  {
   "cell_type": "markdown",
   "metadata": {},
   "source": [
    ":::"
   ]
  },
  {
   "cell_type": "markdown",
   "metadata": {},
   "source": [
    "## Filter Data During Export"
   ]
  },
  {
   "cell_type": "markdown",
   "metadata": {},
   "source": [
    "REDCapR and PyCap functions have options for filtering data upon export. If a REDCap project has a large amount of data that is slow to export, then we recommend using REDCapR/PyCap functions to filter the data during export when applicable.\n",
    "\n",
    "Creating custom reports within REDCap and then exporting those filtered reports is another option for filtering the data before export for projects with a large amount of data. See @sec-reports."
   ]
  },
  {
   "cell_type": "markdown",
   "metadata": {},
   "source": [
    "### Filter By Record ID\n",
    "\n",
    "Export data for Record IDs 1 and 2."
   ]
  },
  {
   "cell_type": "markdown",
   "metadata": {},
   "source": [
    "::: {.panel-tabset}\n",
    "\n",
    "#### R"
   ]
  },
  {
   "cell_type": "code",
   "execution_count": 9,
   "metadata": {
    "tags": []
   },
   "outputs": [],
   "source": [
    "%%capture\n",
    "%%R\n",
    "data_by_record <- redcap_read_oneshot(\n",
    "    records = c(1,2), \n",
    "    redcap_uri = url, \n",
    "    token = token\n",
    ")$data"
   ]
  },
  {
   "cell_type": "markdown",
   "metadata": {},
   "source": [
    "::: {.content-hidden when-format=\"html\"}"
   ]
  },
  {
   "cell_type": "code",
   "execution_count": 10,
   "metadata": {},
   "outputs": [],
   "source": [
    "%%R\n",
    "data_by_record_tbl <- gt(head(data_by_record))\n",
    "gt::gtsave(data_by_record_tbl, filename = 'export_records_filtered_1.html', path = \"./files/export_files/\")"
   ]
  },
  {
   "cell_type": "markdown",
   "metadata": {},
   "source": [
    ":::"
   ]
  },
  {
   "cell_type": "markdown",
   "metadata": {},
   "source": [
    "<p align=\"center\"><iframe width=\"100%\" height=\"300\" src=\"./files/export_files/export_records_filtered_1.html\" title=\"Quarto Documentation\"></iframe></p>"
   ]
  },
  {
   "cell_type": "markdown",
   "metadata": {},
   "source": [
    "#### Python"
   ]
  },
  {
   "cell_type": "code",
   "execution_count": 14,
   "metadata": {
    "scrolled": true
   },
   "outputs": [
    {
     "data": {
      "text/html": [
       "<div>\n",
       "<style scoped>\n",
       "    .dataframe tbody tr th:only-of-type {\n",
       "        vertical-align: middle;\n",
       "    }\n",
       "\n",
       "    .dataframe tbody tr th {\n",
       "        vertical-align: top;\n",
       "    }\n",
       "\n",
       "    .dataframe thead th {\n",
       "        text-align: right;\n",
       "    }\n",
       "</style>\n",
       "<table border=\"1\" class=\"dataframe\">\n",
       "  <thead>\n",
       "    <tr style=\"text-align: right;\">\n",
       "      <th></th>\n",
       "      <th>record_id</th>\n",
       "      <th>redcap_event_name</th>\n",
       "      <th>redcap_repeat_instrument</th>\n",
       "      <th>redcap_repeat_instance</th>\n",
       "      <th>first_name</th>\n",
       "      <th>last_name</th>\n",
       "      <th>phone_num</th>\n",
       "      <th>zip_code</th>\n",
       "      <th>dob</th>\n",
       "      <th>age</th>\n",
       "      <th>...</th>\n",
       "      <th>cc_phone</th>\n",
       "      <th>cc_email</th>\n",
       "      <th>close_contacts_complete</th>\n",
       "      <th>supervisor_name</th>\n",
       "      <th>supervisor_email</th>\n",
       "      <th>work_inperson_yesno</th>\n",
       "      <th>work_date</th>\n",
       "      <th>work_contagious</th>\n",
       "      <th>work_contagious_calc</th>\n",
       "      <th>work_information_complete</th>\n",
       "    </tr>\n",
       "  </thead>\n",
       "  <tbody>\n",
       "    <tr>\n",
       "      <th>0</th>\n",
       "      <td>1</td>\n",
       "      <td>Personal Info</td>\n",
       "      <td>NaN</td>\n",
       "      <td>NaN</td>\n",
       "      <td>John</td>\n",
       "      <td>Doe</td>\n",
       "      <td>(999) 999-9999</td>\n",
       "      <td>98105.0</td>\n",
       "      <td>2006-04-11</td>\n",
       "      <td>18.0</td>\n",
       "      <td>...</td>\n",
       "      <td>NaN</td>\n",
       "      <td>NaN</td>\n",
       "      <td>NaN</td>\n",
       "      <td>NaN</td>\n",
       "      <td>NaN</td>\n",
       "      <td>NaN</td>\n",
       "      <td>NaN</td>\n",
       "      <td>NaN</td>\n",
       "      <td>NaN</td>\n",
       "      <td>NaN</td>\n",
       "    </tr>\n",
       "    <tr>\n",
       "      <th>1</th>\n",
       "      <td>1</td>\n",
       "      <td>Notifications</td>\n",
       "      <td>NaN</td>\n",
       "      <td>NaN</td>\n",
       "      <td>NaN</td>\n",
       "      <td>NaN</td>\n",
       "      <td>NaN</td>\n",
       "      <td>NaN</td>\n",
       "      <td>NaN</td>\n",
       "      <td>NaN</td>\n",
       "      <td>...</td>\n",
       "      <td>NaN</td>\n",
       "      <td>NaN</td>\n",
       "      <td>NaN</td>\n",
       "      <td>Boss</td>\n",
       "      <td>NaN</td>\n",
       "      <td>No</td>\n",
       "      <td>NaN</td>\n",
       "      <td>No</td>\n",
       "      <td>NaN</td>\n",
       "      <td>Complete</td>\n",
       "    </tr>\n",
       "    <tr>\n",
       "      <th>2</th>\n",
       "      <td>1</td>\n",
       "      <td>Case Intake</td>\n",
       "      <td>NaN</td>\n",
       "      <td>1.0</td>\n",
       "      <td>NaN</td>\n",
       "      <td>NaN</td>\n",
       "      <td>NaN</td>\n",
       "      <td>NaN</td>\n",
       "      <td>NaN</td>\n",
       "      <td>NaN</td>\n",
       "      <td>...</td>\n",
       "      <td>NaN</td>\n",
       "      <td>NaN</td>\n",
       "      <td>NaN</td>\n",
       "      <td>NaN</td>\n",
       "      <td>NaN</td>\n",
       "      <td>NaN</td>\n",
       "      <td>NaN</td>\n",
       "      <td>NaN</td>\n",
       "      <td>NaN</td>\n",
       "      <td>NaN</td>\n",
       "    </tr>\n",
       "    <tr>\n",
       "      <th>3</th>\n",
       "      <td>1</td>\n",
       "      <td>Notifications</td>\n",
       "      <td>Close Contacts</td>\n",
       "      <td>1.0</td>\n",
       "      <td>NaN</td>\n",
       "      <td>NaN</td>\n",
       "      <td>NaN</td>\n",
       "      <td>NaN</td>\n",
       "      <td>NaN</td>\n",
       "      <td>NaN</td>\n",
       "      <td>...</td>\n",
       "      <td>(999) 999-9999</td>\n",
       "      <td>fake_email@gmail.com</td>\n",
       "      <td>Complete</td>\n",
       "      <td>NaN</td>\n",
       "      <td>NaN</td>\n",
       "      <td>NaN</td>\n",
       "      <td>NaN</td>\n",
       "      <td>NaN</td>\n",
       "      <td>NaN</td>\n",
       "      <td>NaN</td>\n",
       "    </tr>\n",
       "    <tr>\n",
       "      <th>4</th>\n",
       "      <td>1</td>\n",
       "      <td>Notifications</td>\n",
       "      <td>Close Contacts</td>\n",
       "      <td>2.0</td>\n",
       "      <td>NaN</td>\n",
       "      <td>NaN</td>\n",
       "      <td>NaN</td>\n",
       "      <td>NaN</td>\n",
       "      <td>NaN</td>\n",
       "      <td>NaN</td>\n",
       "      <td>...</td>\n",
       "      <td>(999) 999-9999</td>\n",
       "      <td>fake_email@gmail.com</td>\n",
       "      <td>Complete</td>\n",
       "      <td>NaN</td>\n",
       "      <td>NaN</td>\n",
       "      <td>NaN</td>\n",
       "      <td>NaN</td>\n",
       "      <td>NaN</td>\n",
       "      <td>NaN</td>\n",
       "      <td>NaN</td>\n",
       "    </tr>\n",
       "    <tr>\n",
       "      <th>5</th>\n",
       "      <td>2</td>\n",
       "      <td>Personal Info</td>\n",
       "      <td>NaN</td>\n",
       "      <td>NaN</td>\n",
       "      <td>Jane</td>\n",
       "      <td>Doe</td>\n",
       "      <td>(999) 999-9999</td>\n",
       "      <td>98105.0</td>\n",
       "      <td>1994-06-29</td>\n",
       "      <td>29.0</td>\n",
       "      <td>...</td>\n",
       "      <td>NaN</td>\n",
       "      <td>NaN</td>\n",
       "      <td>NaN</td>\n",
       "      <td>NaN</td>\n",
       "      <td>NaN</td>\n",
       "      <td>NaN</td>\n",
       "      <td>NaN</td>\n",
       "      <td>NaN</td>\n",
       "      <td>NaN</td>\n",
       "      <td>NaN</td>\n",
       "    </tr>\n",
       "    <tr>\n",
       "      <th>6</th>\n",
       "      <td>2</td>\n",
       "      <td>Notifications</td>\n",
       "      <td>NaN</td>\n",
       "      <td>NaN</td>\n",
       "      <td>NaN</td>\n",
       "      <td>NaN</td>\n",
       "      <td>NaN</td>\n",
       "      <td>NaN</td>\n",
       "      <td>NaN</td>\n",
       "      <td>NaN</td>\n",
       "      <td>...</td>\n",
       "      <td>NaN</td>\n",
       "      <td>NaN</td>\n",
       "      <td>NaN</td>\n",
       "      <td>Boss</td>\n",
       "      <td>fake_email@gmail.com</td>\n",
       "      <td>Yes</td>\n",
       "      <td>2023-10-10</td>\n",
       "      <td>Yes</td>\n",
       "      <td>NaN</td>\n",
       "      <td>Complete</td>\n",
       "    </tr>\n",
       "    <tr>\n",
       "      <th>7</th>\n",
       "      <td>2</td>\n",
       "      <td>Case Intake</td>\n",
       "      <td>NaN</td>\n",
       "      <td>1.0</td>\n",
       "      <td>NaN</td>\n",
       "      <td>NaN</td>\n",
       "      <td>NaN</td>\n",
       "      <td>NaN</td>\n",
       "      <td>NaN</td>\n",
       "      <td>NaN</td>\n",
       "      <td>...</td>\n",
       "      <td>NaN</td>\n",
       "      <td>NaN</td>\n",
       "      <td>NaN</td>\n",
       "      <td>NaN</td>\n",
       "      <td>NaN</td>\n",
       "      <td>NaN</td>\n",
       "      <td>NaN</td>\n",
       "      <td>NaN</td>\n",
       "      <td>NaN</td>\n",
       "      <td>NaN</td>\n",
       "    </tr>\n",
       "    <tr>\n",
       "      <th>8</th>\n",
       "      <td>2</td>\n",
       "      <td>Case Intake</td>\n",
       "      <td>NaN</td>\n",
       "      <td>2.0</td>\n",
       "      <td>NaN</td>\n",
       "      <td>NaN</td>\n",
       "      <td>NaN</td>\n",
       "      <td>NaN</td>\n",
       "      <td>NaN</td>\n",
       "      <td>NaN</td>\n",
       "      <td>...</td>\n",
       "      <td>NaN</td>\n",
       "      <td>NaN</td>\n",
       "      <td>NaN</td>\n",
       "      <td>NaN</td>\n",
       "      <td>NaN</td>\n",
       "      <td>NaN</td>\n",
       "      <td>NaN</td>\n",
       "      <td>NaN</td>\n",
       "      <td>NaN</td>\n",
       "      <td>NaN</td>\n",
       "    </tr>\n",
       "    <tr>\n",
       "      <th>9</th>\n",
       "      <td>2</td>\n",
       "      <td>Notifications</td>\n",
       "      <td>Close Contacts</td>\n",
       "      <td>1.0</td>\n",
       "      <td>NaN</td>\n",
       "      <td>NaN</td>\n",
       "      <td>NaN</td>\n",
       "      <td>NaN</td>\n",
       "      <td>NaN</td>\n",
       "      <td>NaN</td>\n",
       "      <td>...</td>\n",
       "      <td>(999) 999-9999</td>\n",
       "      <td>fake_email@gmail.com</td>\n",
       "      <td>Complete</td>\n",
       "      <td>NaN</td>\n",
       "      <td>NaN</td>\n",
       "      <td>NaN</td>\n",
       "      <td>NaN</td>\n",
       "      <td>NaN</td>\n",
       "      <td>NaN</td>\n",
       "      <td>NaN</td>\n",
       "    </tr>\n",
       "    <tr>\n",
       "      <th>10</th>\n",
       "      <td>2</td>\n",
       "      <td>Notifications</td>\n",
       "      <td>Close Contacts</td>\n",
       "      <td>2.0</td>\n",
       "      <td>NaN</td>\n",
       "      <td>NaN</td>\n",
       "      <td>NaN</td>\n",
       "      <td>NaN</td>\n",
       "      <td>NaN</td>\n",
       "      <td>NaN</td>\n",
       "      <td>...</td>\n",
       "      <td>(999) 999-9999</td>\n",
       "      <td>NaN</td>\n",
       "      <td>Incomplete</td>\n",
       "      <td>NaN</td>\n",
       "      <td>NaN</td>\n",
       "      <td>NaN</td>\n",
       "      <td>NaN</td>\n",
       "      <td>NaN</td>\n",
       "      <td>NaN</td>\n",
       "      <td>NaN</td>\n",
       "    </tr>\n",
       "  </tbody>\n",
       "</table>\n",
       "<p>11 rows × 48 columns</p>\n",
       "</div>"
      ],
      "text/plain": [
       "    record_id redcap_event_name redcap_repeat_instrument  \\\n",
       "0           1     Personal Info                      NaN   \n",
       "1           1     Notifications                      NaN   \n",
       "2           1       Case Intake                      NaN   \n",
       "3           1     Notifications           Close Contacts   \n",
       "4           1     Notifications           Close Contacts   \n",
       "5           2     Personal Info                      NaN   \n",
       "6           2     Notifications                      NaN   \n",
       "7           2       Case Intake                      NaN   \n",
       "8           2       Case Intake                      NaN   \n",
       "9           2     Notifications           Close Contacts   \n",
       "10          2     Notifications           Close Contacts   \n",
       "\n",
       "    redcap_repeat_instance first_name last_name       phone_num  zip_code  \\\n",
       "0                      NaN       John       Doe  (999) 999-9999   98105.0   \n",
       "1                      NaN        NaN       NaN             NaN       NaN   \n",
       "2                      1.0        NaN       NaN             NaN       NaN   \n",
       "3                      1.0        NaN       NaN             NaN       NaN   \n",
       "4                      2.0        NaN       NaN             NaN       NaN   \n",
       "5                      NaN       Jane       Doe  (999) 999-9999   98105.0   \n",
       "6                      NaN        NaN       NaN             NaN       NaN   \n",
       "7                      1.0        NaN       NaN             NaN       NaN   \n",
       "8                      2.0        NaN       NaN             NaN       NaN   \n",
       "9                      1.0        NaN       NaN             NaN       NaN   \n",
       "10                     2.0        NaN       NaN             NaN       NaN   \n",
       "\n",
       "           dob   age  ...        cc_phone              cc_email  \\\n",
       "0   2006-04-11  18.0  ...             NaN                   NaN   \n",
       "1          NaN   NaN  ...             NaN                   NaN   \n",
       "2          NaN   NaN  ...             NaN                   NaN   \n",
       "3          NaN   NaN  ...  (999) 999-9999  fake_email@gmail.com   \n",
       "4          NaN   NaN  ...  (999) 999-9999  fake_email@gmail.com   \n",
       "5   1994-06-29  29.0  ...             NaN                   NaN   \n",
       "6          NaN   NaN  ...             NaN                   NaN   \n",
       "7          NaN   NaN  ...             NaN                   NaN   \n",
       "8          NaN   NaN  ...             NaN                   NaN   \n",
       "9          NaN   NaN  ...  (999) 999-9999  fake_email@gmail.com   \n",
       "10         NaN   NaN  ...  (999) 999-9999                   NaN   \n",
       "\n",
       "   close_contacts_complete supervisor_name      supervisor_email  \\\n",
       "0                      NaN             NaN                   NaN   \n",
       "1                      NaN            Boss                   NaN   \n",
       "2                      NaN             NaN                   NaN   \n",
       "3                 Complete             NaN                   NaN   \n",
       "4                 Complete             NaN                   NaN   \n",
       "5                      NaN             NaN                   NaN   \n",
       "6                      NaN            Boss  fake_email@gmail.com   \n",
       "7                      NaN             NaN                   NaN   \n",
       "8                      NaN             NaN                   NaN   \n",
       "9                 Complete             NaN                   NaN   \n",
       "10              Incomplete             NaN                   NaN   \n",
       "\n",
       "   work_inperson_yesno   work_date work_contagious work_contagious_calc  \\\n",
       "0                  NaN         NaN             NaN                  NaN   \n",
       "1                   No         NaN              No                  NaN   \n",
       "2                  NaN         NaN             NaN                  NaN   \n",
       "3                  NaN         NaN             NaN                  NaN   \n",
       "4                  NaN         NaN             NaN                  NaN   \n",
       "5                  NaN         NaN             NaN                  NaN   \n",
       "6                  Yes  2023-10-10             Yes                  NaN   \n",
       "7                  NaN         NaN             NaN                  NaN   \n",
       "8                  NaN         NaN             NaN                  NaN   \n",
       "9                  NaN         NaN             NaN                  NaN   \n",
       "10                 NaN         NaN             NaN                  NaN   \n",
       "\n",
       "   work_information_complete  \n",
       "0                        NaN  \n",
       "1                   Complete  \n",
       "2                        NaN  \n",
       "3                        NaN  \n",
       "4                        NaN  \n",
       "5                        NaN  \n",
       "6                   Complete  \n",
       "7                        NaN  \n",
       "8                        NaN  \n",
       "9                        NaN  \n",
       "10                       NaN  \n",
       "\n",
       "[11 rows x 48 columns]"
      ]
     },
     "execution_count": 14,
     "metadata": {},
     "output_type": "execute_result"
    }
   ],
   "source": [
    "project.export_records(records=['1','2'],\n",
    "                       raw_or_label='label',\n",
    "                       format_type='df').reset_index()"
   ]
  },
  {
   "cell_type": "markdown",
   "metadata": {},
   "source": [
    ":::"
   ]
  },
  {
   "cell_type": "markdown",
   "metadata": {},
   "source": [
    "### Filter By Date"
   ]
  },
  {
   "cell_type": "markdown",
   "metadata": {},
   "source": [
    "Data exports can be filtered by the date the record was added or modified. In the following example, we will view all records that were modified or added after April 9, 2024. For more information on how these records were modified, refer to the logging section of this guide. See @sec-logging. "
   ]
  },
  {
   "cell_type": "markdown",
   "metadata": {},
   "source": [
    "::: {.panel-tabset}\n",
    "\n",
    "#### R"
   ]
  },
  {
   "cell_type": "code",
   "execution_count": 12,
   "metadata": {
    "tags": []
   },
   "outputs": [],
   "source": [
    "%%capture\n",
    "%%R\n",
    "data_by_date <- redcap_read_oneshot(\n",
    "    redcap_uri = url, \n",
    "    token = token, \n",
    "    datetime_range_begin = as.POSIXct(\"2024/04/09\", \n",
    "                                    format = \"%Y/%m/%d\")\n",
    ")$data"
   ]
  },
  {
   "cell_type": "markdown",
   "metadata": {},
   "source": [
    "\n",
    "**Note:** Need to specify date format as seen above using [as.POSIXct](https://rdrr.io/r/base/as.POSIXlt.html)"
   ]
  },
  {
   "cell_type": "markdown",
   "metadata": {},
   "source": [
    "::: {.content-hidden when-format=\"html\"}"
   ]
  },
  {
   "cell_type": "code",
   "execution_count": 13,
   "metadata": {},
   "outputs": [],
   "source": [
    "%%R\n",
    "data_by_date_tbl <- gt(data_by_date)\n",
    "gt::gtsave(data_by_date_tbl, filename = 'export_records_filtered_2.html', path = \"./files/export_files/\")"
   ]
  },
  {
   "cell_type": "markdown",
   "metadata": {},
   "source": [
    ":::"
   ]
  },
  {
   "cell_type": "markdown",
   "metadata": {},
   "source": [
    "<p align=\"center\"><iframe width=\"100%\" height=\"300\" src=\"./files/export_files/export_records_filtered_2.html\" title=\"Quarto Documentation\"></iframe></p>"
   ]
  },
  {
   "cell_type": "markdown",
   "metadata": {},
   "source": [
    "#### Python"
   ]
  },
  {
   "cell_type": "code",
   "execution_count": 11,
   "metadata": {
    "scrolled": true
   },
   "outputs": [
    {
     "data": {
      "text/html": [
       "<div>\n",
       "<style scoped>\n",
       "    .dataframe tbody tr th:only-of-type {\n",
       "        vertical-align: middle;\n",
       "    }\n",
       "\n",
       "    .dataframe tbody tr th {\n",
       "        vertical-align: top;\n",
       "    }\n",
       "\n",
       "    .dataframe thead th {\n",
       "        text-align: right;\n",
       "    }\n",
       "</style>\n",
       "<table border=\"1\" class=\"dataframe\">\n",
       "  <thead>\n",
       "    <tr style=\"text-align: right;\">\n",
       "      <th></th>\n",
       "      <th></th>\n",
       "      <th>redcap_repeat_instrument</th>\n",
       "      <th>redcap_repeat_instance</th>\n",
       "      <th>first_name</th>\n",
       "      <th>last_name</th>\n",
       "      <th>phone_num</th>\n",
       "      <th>zip_code</th>\n",
       "      <th>dob</th>\n",
       "      <th>age</th>\n",
       "      <th>ethnicity</th>\n",
       "      <th>race</th>\n",
       "      <th>...</th>\n",
       "      <th>cc_phone</th>\n",
       "      <th>cc_email</th>\n",
       "      <th>close_contacts_complete</th>\n",
       "      <th>supervisor_name</th>\n",
       "      <th>supervisor_email</th>\n",
       "      <th>work_inperson_yesno</th>\n",
       "      <th>work_date</th>\n",
       "      <th>work_contagious</th>\n",
       "      <th>work_contagious_calc</th>\n",
       "      <th>work_information_complete</th>\n",
       "    </tr>\n",
       "    <tr>\n",
       "      <th>record_id</th>\n",
       "      <th>redcap_event_name</th>\n",
       "      <th></th>\n",
       "      <th></th>\n",
       "      <th></th>\n",
       "      <th></th>\n",
       "      <th></th>\n",
       "      <th></th>\n",
       "      <th></th>\n",
       "      <th></th>\n",
       "      <th></th>\n",
       "      <th></th>\n",
       "      <th></th>\n",
       "      <th></th>\n",
       "      <th></th>\n",
       "      <th></th>\n",
       "      <th></th>\n",
       "      <th></th>\n",
       "      <th></th>\n",
       "      <th></th>\n",
       "      <th></th>\n",
       "      <th></th>\n",
       "      <th></th>\n",
       "    </tr>\n",
       "  </thead>\n",
       "  <tbody>\n",
       "    <tr>\n",
       "      <th rowspan=\"5\" valign=\"top\">1</th>\n",
       "      <th>personal_info_arm_1</th>\n",
       "      <td>NaN</td>\n",
       "      <td>NaN</td>\n",
       "      <td>John</td>\n",
       "      <td>Doe</td>\n",
       "      <td>(999) 999-9999</td>\n",
       "      <td>98105.0</td>\n",
       "      <td>2006-04-11</td>\n",
       "      <td>18.0</td>\n",
       "      <td>1.0</td>\n",
       "      <td>4.0</td>\n",
       "      <td>...</td>\n",
       "      <td>NaN</td>\n",
       "      <td>NaN</td>\n",
       "      <td>NaN</td>\n",
       "      <td>NaN</td>\n",
       "      <td>NaN</td>\n",
       "      <td>NaN</td>\n",
       "      <td>NaN</td>\n",
       "      <td>NaN</td>\n",
       "      <td>NaN</td>\n",
       "      <td>NaN</td>\n",
       "    </tr>\n",
       "    <tr>\n",
       "      <th>notifications_arm_1</th>\n",
       "      <td>NaN</td>\n",
       "      <td>NaN</td>\n",
       "      <td>NaN</td>\n",
       "      <td>NaN</td>\n",
       "      <td>NaN</td>\n",
       "      <td>NaN</td>\n",
       "      <td>NaN</td>\n",
       "      <td>NaN</td>\n",
       "      <td>NaN</td>\n",
       "      <td>NaN</td>\n",
       "      <td>...</td>\n",
       "      <td>NaN</td>\n",
       "      <td>NaN</td>\n",
       "      <td>NaN</td>\n",
       "      <td>Boss</td>\n",
       "      <td>NaN</td>\n",
       "      <td>0.0</td>\n",
       "      <td>NaN</td>\n",
       "      <td>0.0</td>\n",
       "      <td>NaN</td>\n",
       "      <td>2.0</td>\n",
       "    </tr>\n",
       "    <tr>\n",
       "      <th>case_intake_arm_1</th>\n",
       "      <td>NaN</td>\n",
       "      <td>1.0</td>\n",
       "      <td>NaN</td>\n",
       "      <td>NaN</td>\n",
       "      <td>NaN</td>\n",
       "      <td>NaN</td>\n",
       "      <td>NaN</td>\n",
       "      <td>NaN</td>\n",
       "      <td>NaN</td>\n",
       "      <td>NaN</td>\n",
       "      <td>...</td>\n",
       "      <td>NaN</td>\n",
       "      <td>NaN</td>\n",
       "      <td>NaN</td>\n",
       "      <td>NaN</td>\n",
       "      <td>NaN</td>\n",
       "      <td>NaN</td>\n",
       "      <td>NaN</td>\n",
       "      <td>NaN</td>\n",
       "      <td>NaN</td>\n",
       "      <td>NaN</td>\n",
       "    </tr>\n",
       "    <tr>\n",
       "      <th>notifications_arm_1</th>\n",
       "      <td>close_contacts</td>\n",
       "      <td>1.0</td>\n",
       "      <td>NaN</td>\n",
       "      <td>NaN</td>\n",
       "      <td>NaN</td>\n",
       "      <td>NaN</td>\n",
       "      <td>NaN</td>\n",
       "      <td>NaN</td>\n",
       "      <td>NaN</td>\n",
       "      <td>NaN</td>\n",
       "      <td>...</td>\n",
       "      <td>(999) 999-9999</td>\n",
       "      <td>fake_email@gmail.com</td>\n",
       "      <td>2.0</td>\n",
       "      <td>NaN</td>\n",
       "      <td>NaN</td>\n",
       "      <td>NaN</td>\n",
       "      <td>NaN</td>\n",
       "      <td>NaN</td>\n",
       "      <td>NaN</td>\n",
       "      <td>NaN</td>\n",
       "    </tr>\n",
       "    <tr>\n",
       "      <th>notifications_arm_1</th>\n",
       "      <td>close_contacts</td>\n",
       "      <td>2.0</td>\n",
       "      <td>NaN</td>\n",
       "      <td>NaN</td>\n",
       "      <td>NaN</td>\n",
       "      <td>NaN</td>\n",
       "      <td>NaN</td>\n",
       "      <td>NaN</td>\n",
       "      <td>NaN</td>\n",
       "      <td>NaN</td>\n",
       "      <td>...</td>\n",
       "      <td>(999) 999-9999</td>\n",
       "      <td>fake_email@gmail.com</td>\n",
       "      <td>2.0</td>\n",
       "      <td>NaN</td>\n",
       "      <td>NaN</td>\n",
       "      <td>NaN</td>\n",
       "      <td>NaN</td>\n",
       "      <td>NaN</td>\n",
       "      <td>NaN</td>\n",
       "      <td>NaN</td>\n",
       "    </tr>\n",
       "    <tr>\n",
       "      <th rowspan=\"6\" valign=\"top\">2</th>\n",
       "      <th>personal_info_arm_1</th>\n",
       "      <td>NaN</td>\n",
       "      <td>NaN</td>\n",
       "      <td>Jane</td>\n",
       "      <td>Doe</td>\n",
       "      <td>(999) 999-9999</td>\n",
       "      <td>98105.0</td>\n",
       "      <td>1994-06-29</td>\n",
       "      <td>29.0</td>\n",
       "      <td>0.0</td>\n",
       "      <td>5.0</td>\n",
       "      <td>...</td>\n",
       "      <td>NaN</td>\n",
       "      <td>NaN</td>\n",
       "      <td>NaN</td>\n",
       "      <td>NaN</td>\n",
       "      <td>NaN</td>\n",
       "      <td>NaN</td>\n",
       "      <td>NaN</td>\n",
       "      <td>NaN</td>\n",
       "      <td>NaN</td>\n",
       "      <td>NaN</td>\n",
       "    </tr>\n",
       "    <tr>\n",
       "      <th>notifications_arm_1</th>\n",
       "      <td>NaN</td>\n",
       "      <td>NaN</td>\n",
       "      <td>NaN</td>\n",
       "      <td>NaN</td>\n",
       "      <td>NaN</td>\n",
       "      <td>NaN</td>\n",
       "      <td>NaN</td>\n",
       "      <td>NaN</td>\n",
       "      <td>NaN</td>\n",
       "      <td>NaN</td>\n",
       "      <td>...</td>\n",
       "      <td>NaN</td>\n",
       "      <td>NaN</td>\n",
       "      <td>NaN</td>\n",
       "      <td>Boss</td>\n",
       "      <td>fake_email@gmail.com</td>\n",
       "      <td>1.0</td>\n",
       "      <td>2023-10-10</td>\n",
       "      <td>1.0</td>\n",
       "      <td>NaN</td>\n",
       "      <td>2.0</td>\n",
       "    </tr>\n",
       "    <tr>\n",
       "      <th>case_intake_arm_1</th>\n",
       "      <td>NaN</td>\n",
       "      <td>1.0</td>\n",
       "      <td>NaN</td>\n",
       "      <td>NaN</td>\n",
       "      <td>NaN</td>\n",
       "      <td>NaN</td>\n",
       "      <td>NaN</td>\n",
       "      <td>NaN</td>\n",
       "      <td>NaN</td>\n",
       "      <td>NaN</td>\n",
       "      <td>...</td>\n",
       "      <td>NaN</td>\n",
       "      <td>NaN</td>\n",
       "      <td>NaN</td>\n",
       "      <td>NaN</td>\n",
       "      <td>NaN</td>\n",
       "      <td>NaN</td>\n",
       "      <td>NaN</td>\n",
       "      <td>NaN</td>\n",
       "      <td>NaN</td>\n",
       "      <td>NaN</td>\n",
       "    </tr>\n",
       "    <tr>\n",
       "      <th>case_intake_arm_1</th>\n",
       "      <td>NaN</td>\n",
       "      <td>2.0</td>\n",
       "      <td>NaN</td>\n",
       "      <td>NaN</td>\n",
       "      <td>NaN</td>\n",
       "      <td>NaN</td>\n",
       "      <td>NaN</td>\n",
       "      <td>NaN</td>\n",
       "      <td>NaN</td>\n",
       "      <td>NaN</td>\n",
       "      <td>...</td>\n",
       "      <td>NaN</td>\n",
       "      <td>NaN</td>\n",
       "      <td>NaN</td>\n",
       "      <td>NaN</td>\n",
       "      <td>NaN</td>\n",
       "      <td>NaN</td>\n",
       "      <td>NaN</td>\n",
       "      <td>NaN</td>\n",
       "      <td>NaN</td>\n",
       "      <td>NaN</td>\n",
       "    </tr>\n",
       "    <tr>\n",
       "      <th>notifications_arm_1</th>\n",
       "      <td>close_contacts</td>\n",
       "      <td>1.0</td>\n",
       "      <td>NaN</td>\n",
       "      <td>NaN</td>\n",
       "      <td>NaN</td>\n",
       "      <td>NaN</td>\n",
       "      <td>NaN</td>\n",
       "      <td>NaN</td>\n",
       "      <td>NaN</td>\n",
       "      <td>NaN</td>\n",
       "      <td>...</td>\n",
       "      <td>(999) 999-9999</td>\n",
       "      <td>fake_email@gmail.com</td>\n",
       "      <td>2.0</td>\n",
       "      <td>NaN</td>\n",
       "      <td>NaN</td>\n",
       "      <td>NaN</td>\n",
       "      <td>NaN</td>\n",
       "      <td>NaN</td>\n",
       "      <td>NaN</td>\n",
       "      <td>NaN</td>\n",
       "    </tr>\n",
       "    <tr>\n",
       "      <th>notifications_arm_1</th>\n",
       "      <td>close_contacts</td>\n",
       "      <td>2.0</td>\n",
       "      <td>NaN</td>\n",
       "      <td>NaN</td>\n",
       "      <td>NaN</td>\n",
       "      <td>NaN</td>\n",
       "      <td>NaN</td>\n",
       "      <td>NaN</td>\n",
       "      <td>NaN</td>\n",
       "      <td>NaN</td>\n",
       "      <td>...</td>\n",
       "      <td>(999) 999-9999</td>\n",
       "      <td>NaN</td>\n",
       "      <td>0.0</td>\n",
       "      <td>NaN</td>\n",
       "      <td>NaN</td>\n",
       "      <td>NaN</td>\n",
       "      <td>NaN</td>\n",
       "      <td>NaN</td>\n",
       "      <td>NaN</td>\n",
       "      <td>NaN</td>\n",
       "    </tr>\n",
       "    <tr>\n",
       "      <th rowspan=\"5\" valign=\"top\">3</th>\n",
       "      <th>personal_info_arm_1</th>\n",
       "      <td>NaN</td>\n",
       "      <td>NaN</td>\n",
       "      <td>John</td>\n",
       "      <td>Doe</td>\n",
       "      <td>(999) 999-9999</td>\n",
       "      <td>98105.0</td>\n",
       "      <td>NaN</td>\n",
       "      <td>NaN</td>\n",
       "      <td>1.0</td>\n",
       "      <td>4.0</td>\n",
       "      <td>...</td>\n",
       "      <td>NaN</td>\n",
       "      <td>NaN</td>\n",
       "      <td>NaN</td>\n",
       "      <td>NaN</td>\n",
       "      <td>NaN</td>\n",
       "      <td>NaN</td>\n",
       "      <td>NaN</td>\n",
       "      <td>NaN</td>\n",
       "      <td>NaN</td>\n",
       "      <td>NaN</td>\n",
       "    </tr>\n",
       "    <tr>\n",
       "      <th>notifications_arm_1</th>\n",
       "      <td>NaN</td>\n",
       "      <td>NaN</td>\n",
       "      <td>NaN</td>\n",
       "      <td>NaN</td>\n",
       "      <td>NaN</td>\n",
       "      <td>NaN</td>\n",
       "      <td>NaN</td>\n",
       "      <td>NaN</td>\n",
       "      <td>NaN</td>\n",
       "      <td>NaN</td>\n",
       "      <td>...</td>\n",
       "      <td>NaN</td>\n",
       "      <td>NaN</td>\n",
       "      <td>NaN</td>\n",
       "      <td>Boss</td>\n",
       "      <td>NaN</td>\n",
       "      <td>0.0</td>\n",
       "      <td>NaN</td>\n",
       "      <td>0.0</td>\n",
       "      <td>NaN</td>\n",
       "      <td>2.0</td>\n",
       "    </tr>\n",
       "    <tr>\n",
       "      <th>case_intake_arm_1</th>\n",
       "      <td>NaN</td>\n",
       "      <td>1.0</td>\n",
       "      <td>NaN</td>\n",
       "      <td>NaN</td>\n",
       "      <td>NaN</td>\n",
       "      <td>NaN</td>\n",
       "      <td>NaN</td>\n",
       "      <td>NaN</td>\n",
       "      <td>NaN</td>\n",
       "      <td>NaN</td>\n",
       "      <td>...</td>\n",
       "      <td>NaN</td>\n",
       "      <td>NaN</td>\n",
       "      <td>NaN</td>\n",
       "      <td>NaN</td>\n",
       "      <td>NaN</td>\n",
       "      <td>NaN</td>\n",
       "      <td>NaN</td>\n",
       "      <td>NaN</td>\n",
       "      <td>NaN</td>\n",
       "      <td>NaN</td>\n",
       "    </tr>\n",
       "    <tr>\n",
       "      <th>notifications_arm_1</th>\n",
       "      <td>close_contacts</td>\n",
       "      <td>1.0</td>\n",
       "      <td>NaN</td>\n",
       "      <td>NaN</td>\n",
       "      <td>NaN</td>\n",
       "      <td>NaN</td>\n",
       "      <td>NaN</td>\n",
       "      <td>NaN</td>\n",
       "      <td>NaN</td>\n",
       "      <td>NaN</td>\n",
       "      <td>...</td>\n",
       "      <td>(999) 999-9999</td>\n",
       "      <td>fake_email@gmail.com</td>\n",
       "      <td>2.0</td>\n",
       "      <td>NaN</td>\n",
       "      <td>NaN</td>\n",
       "      <td>NaN</td>\n",
       "      <td>NaN</td>\n",
       "      <td>NaN</td>\n",
       "      <td>NaN</td>\n",
       "      <td>NaN</td>\n",
       "    </tr>\n",
       "    <tr>\n",
       "      <th>notifications_arm_1</th>\n",
       "      <td>close_contacts</td>\n",
       "      <td>2.0</td>\n",
       "      <td>NaN</td>\n",
       "      <td>NaN</td>\n",
       "      <td>NaN</td>\n",
       "      <td>NaN</td>\n",
       "      <td>NaN</td>\n",
       "      <td>NaN</td>\n",
       "      <td>NaN</td>\n",
       "      <td>NaN</td>\n",
       "      <td>...</td>\n",
       "      <td>(999) 999-9999</td>\n",
       "      <td>fake_email@gmail.com</td>\n",
       "      <td>2.0</td>\n",
       "      <td>NaN</td>\n",
       "      <td>NaN</td>\n",
       "      <td>NaN</td>\n",
       "      <td>NaN</td>\n",
       "      <td>NaN</td>\n",
       "      <td>NaN</td>\n",
       "      <td>NaN</td>\n",
       "    </tr>\n",
       "  </tbody>\n",
       "</table>\n",
       "<p>16 rows × 46 columns</p>\n",
       "</div>"
      ],
      "text/plain": [
       "                              redcap_repeat_instrument  \\\n",
       "record_id redcap_event_name                              \n",
       "1         personal_info_arm_1                      NaN   \n",
       "          notifications_arm_1                      NaN   \n",
       "          case_intake_arm_1                        NaN   \n",
       "          notifications_arm_1           close_contacts   \n",
       "          notifications_arm_1           close_contacts   \n",
       "2         personal_info_arm_1                      NaN   \n",
       "          notifications_arm_1                      NaN   \n",
       "          case_intake_arm_1                        NaN   \n",
       "          case_intake_arm_1                        NaN   \n",
       "          notifications_arm_1           close_contacts   \n",
       "          notifications_arm_1           close_contacts   \n",
       "3         personal_info_arm_1                      NaN   \n",
       "          notifications_arm_1                      NaN   \n",
       "          case_intake_arm_1                        NaN   \n",
       "          notifications_arm_1           close_contacts   \n",
       "          notifications_arm_1           close_contacts   \n",
       "\n",
       "                               redcap_repeat_instance first_name last_name  \\\n",
       "record_id redcap_event_name                                                  \n",
       "1         personal_info_arm_1                     NaN       John       Doe   \n",
       "          notifications_arm_1                     NaN        NaN       NaN   \n",
       "          case_intake_arm_1                       1.0        NaN       NaN   \n",
       "          notifications_arm_1                     1.0        NaN       NaN   \n",
       "          notifications_arm_1                     2.0        NaN       NaN   \n",
       "2         personal_info_arm_1                     NaN       Jane       Doe   \n",
       "          notifications_arm_1                     NaN        NaN       NaN   \n",
       "          case_intake_arm_1                       1.0        NaN       NaN   \n",
       "          case_intake_arm_1                       2.0        NaN       NaN   \n",
       "          notifications_arm_1                     1.0        NaN       NaN   \n",
       "          notifications_arm_1                     2.0        NaN       NaN   \n",
       "3         personal_info_arm_1                     NaN       John       Doe   \n",
       "          notifications_arm_1                     NaN        NaN       NaN   \n",
       "          case_intake_arm_1                       1.0        NaN       NaN   \n",
       "          notifications_arm_1                     1.0        NaN       NaN   \n",
       "          notifications_arm_1                     2.0        NaN       NaN   \n",
       "\n",
       "                                    phone_num  zip_code         dob   age  \\\n",
       "record_id redcap_event_name                                                 \n",
       "1         personal_info_arm_1  (999) 999-9999   98105.0  2006-04-11  18.0   \n",
       "          notifications_arm_1             NaN       NaN         NaN   NaN   \n",
       "          case_intake_arm_1               NaN       NaN         NaN   NaN   \n",
       "          notifications_arm_1             NaN       NaN         NaN   NaN   \n",
       "          notifications_arm_1             NaN       NaN         NaN   NaN   \n",
       "2         personal_info_arm_1  (999) 999-9999   98105.0  1994-06-29  29.0   \n",
       "          notifications_arm_1             NaN       NaN         NaN   NaN   \n",
       "          case_intake_arm_1               NaN       NaN         NaN   NaN   \n",
       "          case_intake_arm_1               NaN       NaN         NaN   NaN   \n",
       "          notifications_arm_1             NaN       NaN         NaN   NaN   \n",
       "          notifications_arm_1             NaN       NaN         NaN   NaN   \n",
       "3         personal_info_arm_1  (999) 999-9999   98105.0         NaN   NaN   \n",
       "          notifications_arm_1             NaN       NaN         NaN   NaN   \n",
       "          case_intake_arm_1               NaN       NaN         NaN   NaN   \n",
       "          notifications_arm_1             NaN       NaN         NaN   NaN   \n",
       "          notifications_arm_1             NaN       NaN         NaN   NaN   \n",
       "\n",
       "                               ethnicity  race  ...        cc_phone  \\\n",
       "record_id redcap_event_name                     ...                   \n",
       "1         personal_info_arm_1        1.0   4.0  ...             NaN   \n",
       "          notifications_arm_1        NaN   NaN  ...             NaN   \n",
       "          case_intake_arm_1          NaN   NaN  ...             NaN   \n",
       "          notifications_arm_1        NaN   NaN  ...  (999) 999-9999   \n",
       "          notifications_arm_1        NaN   NaN  ...  (999) 999-9999   \n",
       "2         personal_info_arm_1        0.0   5.0  ...             NaN   \n",
       "          notifications_arm_1        NaN   NaN  ...             NaN   \n",
       "          case_intake_arm_1          NaN   NaN  ...             NaN   \n",
       "          case_intake_arm_1          NaN   NaN  ...             NaN   \n",
       "          notifications_arm_1        NaN   NaN  ...  (999) 999-9999   \n",
       "          notifications_arm_1        NaN   NaN  ...  (999) 999-9999   \n",
       "3         personal_info_arm_1        1.0   4.0  ...             NaN   \n",
       "          notifications_arm_1        NaN   NaN  ...             NaN   \n",
       "          case_intake_arm_1          NaN   NaN  ...             NaN   \n",
       "          notifications_arm_1        NaN   NaN  ...  (999) 999-9999   \n",
       "          notifications_arm_1        NaN   NaN  ...  (999) 999-9999   \n",
       "\n",
       "                                           cc_email  close_contacts_complete  \\\n",
       "record_id redcap_event_name                                                    \n",
       "1         personal_info_arm_1                   NaN                      NaN   \n",
       "          notifications_arm_1                   NaN                      NaN   \n",
       "          case_intake_arm_1                     NaN                      NaN   \n",
       "          notifications_arm_1  fake_email@gmail.com                      2.0   \n",
       "          notifications_arm_1  fake_email@gmail.com                      2.0   \n",
       "2         personal_info_arm_1                   NaN                      NaN   \n",
       "          notifications_arm_1                   NaN                      NaN   \n",
       "          case_intake_arm_1                     NaN                      NaN   \n",
       "          case_intake_arm_1                     NaN                      NaN   \n",
       "          notifications_arm_1  fake_email@gmail.com                      2.0   \n",
       "          notifications_arm_1                   NaN                      0.0   \n",
       "3         personal_info_arm_1                   NaN                      NaN   \n",
       "          notifications_arm_1                   NaN                      NaN   \n",
       "          case_intake_arm_1                     NaN                      NaN   \n",
       "          notifications_arm_1  fake_email@gmail.com                      2.0   \n",
       "          notifications_arm_1  fake_email@gmail.com                      2.0   \n",
       "\n",
       "                              supervisor_name      supervisor_email  \\\n",
       "record_id redcap_event_name                                           \n",
       "1         personal_info_arm_1             NaN                   NaN   \n",
       "          notifications_arm_1            Boss                   NaN   \n",
       "          case_intake_arm_1               NaN                   NaN   \n",
       "          notifications_arm_1             NaN                   NaN   \n",
       "          notifications_arm_1             NaN                   NaN   \n",
       "2         personal_info_arm_1             NaN                   NaN   \n",
       "          notifications_arm_1            Boss  fake_email@gmail.com   \n",
       "          case_intake_arm_1               NaN                   NaN   \n",
       "          case_intake_arm_1               NaN                   NaN   \n",
       "          notifications_arm_1             NaN                   NaN   \n",
       "          notifications_arm_1             NaN                   NaN   \n",
       "3         personal_info_arm_1             NaN                   NaN   \n",
       "          notifications_arm_1            Boss                   NaN   \n",
       "          case_intake_arm_1               NaN                   NaN   \n",
       "          notifications_arm_1             NaN                   NaN   \n",
       "          notifications_arm_1             NaN                   NaN   \n",
       "\n",
       "                               work_inperson_yesno   work_date  \\\n",
       "record_id redcap_event_name                                      \n",
       "1         personal_info_arm_1                  NaN         NaN   \n",
       "          notifications_arm_1                  0.0         NaN   \n",
       "          case_intake_arm_1                    NaN         NaN   \n",
       "          notifications_arm_1                  NaN         NaN   \n",
       "          notifications_arm_1                  NaN         NaN   \n",
       "2         personal_info_arm_1                  NaN         NaN   \n",
       "          notifications_arm_1                  1.0  2023-10-10   \n",
       "          case_intake_arm_1                    NaN         NaN   \n",
       "          case_intake_arm_1                    NaN         NaN   \n",
       "          notifications_arm_1                  NaN         NaN   \n",
       "          notifications_arm_1                  NaN         NaN   \n",
       "3         personal_info_arm_1                  NaN         NaN   \n",
       "          notifications_arm_1                  0.0         NaN   \n",
       "          case_intake_arm_1                    NaN         NaN   \n",
       "          notifications_arm_1                  NaN         NaN   \n",
       "          notifications_arm_1                  NaN         NaN   \n",
       "\n",
       "                               work_contagious  work_contagious_calc  \\\n",
       "record_id redcap_event_name                                            \n",
       "1         personal_info_arm_1              NaN                   NaN   \n",
       "          notifications_arm_1              0.0                   NaN   \n",
       "          case_intake_arm_1                NaN                   NaN   \n",
       "          notifications_arm_1              NaN                   NaN   \n",
       "          notifications_arm_1              NaN                   NaN   \n",
       "2         personal_info_arm_1              NaN                   NaN   \n",
       "          notifications_arm_1              1.0                   NaN   \n",
       "          case_intake_arm_1                NaN                   NaN   \n",
       "          case_intake_arm_1                NaN                   NaN   \n",
       "          notifications_arm_1              NaN                   NaN   \n",
       "          notifications_arm_1              NaN                   NaN   \n",
       "3         personal_info_arm_1              NaN                   NaN   \n",
       "          notifications_arm_1              0.0                   NaN   \n",
       "          case_intake_arm_1                NaN                   NaN   \n",
       "          notifications_arm_1              NaN                   NaN   \n",
       "          notifications_arm_1              NaN                   NaN   \n",
       "\n",
       "                               work_information_complete  \n",
       "record_id redcap_event_name                               \n",
       "1         personal_info_arm_1                        NaN  \n",
       "          notifications_arm_1                        2.0  \n",
       "          case_intake_arm_1                          NaN  \n",
       "          notifications_arm_1                        NaN  \n",
       "          notifications_arm_1                        NaN  \n",
       "2         personal_info_arm_1                        NaN  \n",
       "          notifications_arm_1                        2.0  \n",
       "          case_intake_arm_1                          NaN  \n",
       "          case_intake_arm_1                          NaN  \n",
       "          notifications_arm_1                        NaN  \n",
       "          notifications_arm_1                        NaN  \n",
       "3         personal_info_arm_1                        NaN  \n",
       "          notifications_arm_1                        2.0  \n",
       "          case_intake_arm_1                          NaN  \n",
       "          notifications_arm_1                        NaN  \n",
       "          notifications_arm_1                        NaN  \n",
       "\n",
       "[16 rows x 46 columns]"
      ]
     },
     "execution_count": 11,
     "metadata": {},
     "output_type": "execute_result"
    }
   ],
   "source": [
    "from datetime import datetime\n",
    "project.export_records(date_begin=datetime.fromisoformat(\"2024-04-09\"), \n",
    "                       format_type='df')"
   ]
  },
  {
   "cell_type": "markdown",
   "metadata": {},
   "source": [
    ":::"
   ]
  },
  {
   "cell_type": "markdown",
   "metadata": {},
   "source": [
    "### Filter By Field Value\n",
    "\n",
    "**Export records that reported 'female' for gender.**"
   ]
  },
  {
   "cell_type": "markdown",
   "metadata": {},
   "source": [
    "::: {.panel-tabset}\n",
    "\n",
    "#### R"
   ]
  },
  {
   "cell_type": "code",
   "execution_count": 14,
   "metadata": {
    "tags": []
   },
   "outputs": [],
   "source": [
    "%%capture\n",
    "%%R\n",
    "data_by_gender <- redcap_read_oneshot(\n",
    "    redcap_uri = url, \n",
    "    token = token,\n",
    "    filter_logic = \"[gender] = '0'\" \n",
    ")$data %>%\n",
    " select(c(record_id, gender))"
   ]
  },
  {
   "cell_type": "markdown",
   "metadata": {},
   "source": [
    "::: {.content-hidden when-format=\"html\"}"
   ]
  },
  {
   "cell_type": "code",
   "execution_count": 15,
   "metadata": {},
   "outputs": [],
   "source": [
    "%%R\n",
    "data_by_gender_tbl <- gt(head(data_by_gender))\n",
    "gt::gtsave(data_by_gender_tbl, filename = 'export_records_filtered_3.html', path = \"./files/export_files/\")"
   ]
  },
  {
   "cell_type": "markdown",
   "metadata": {},
   "source": [
    ":::"
   ]
  },
  {
   "cell_type": "markdown",
   "metadata": {},
   "source": [
    "<p align=\"center\"><iframe width=\"100%\" height=\"200\" src=\"./files/export_files/export_records_filtered_3.html\" title=\"Quarto Documentation\"></iframe></p>"
   ]
  },
  {
   "cell_type": "markdown",
   "metadata": {},
   "source": [
    "**Note:** When filtering on REDCap's multiple choice variables, yes/no variables, and checkboxes, you must put quotes around the coded value when using the `filter_logic` argument, otherwise REDCap will not perform the filtering correctly. "
   ]
  },
  {
   "cell_type": "markdown",
   "metadata": {},
   "source": [
    "#### Python"
   ]
  },
  {
   "cell_type": "code",
   "execution_count": 17,
   "metadata": {},
   "outputs": [
    {
     "data": {
      "text/html": [
       "<div>\n",
       "<style scoped>\n",
       "    .dataframe tbody tr th:only-of-type {\n",
       "        vertical-align: middle;\n",
       "    }\n",
       "\n",
       "    .dataframe tbody tr th {\n",
       "        vertical-align: top;\n",
       "    }\n",
       "\n",
       "    .dataframe thead th {\n",
       "        text-align: right;\n",
       "    }\n",
       "</style>\n",
       "<table border=\"1\" class=\"dataframe\">\n",
       "  <thead>\n",
       "    <tr style=\"text-align: right;\">\n",
       "      <th></th>\n",
       "      <th>record_id</th>\n",
       "      <th>gender</th>\n",
       "    </tr>\n",
       "  </thead>\n",
       "  <tbody>\n",
       "    <tr>\n",
       "      <th>0</th>\n",
       "      <td>2</td>\n",
       "      <td>0</td>\n",
       "    </tr>\n",
       "    <tr>\n",
       "      <th>1</th>\n",
       "      <td>4</td>\n",
       "      <td>0</td>\n",
       "    </tr>\n",
       "    <tr>\n",
       "      <th>2</th>\n",
       "      <td>6</td>\n",
       "      <td>0</td>\n",
       "    </tr>\n",
       "  </tbody>\n",
       "</table>\n",
       "</div>"
      ],
      "text/plain": [
       "   record_id  gender\n",
       "0          2       0\n",
       "1          4       0\n",
       "2          6       0"
      ]
     },
     "execution_count": 17,
     "metadata": {},
     "output_type": "execute_result"
    }
   ],
   "source": [
    "project.export_records(filter_logic=\"[gender] = 0\", \n",
    "                       format_type='df'\n",
    "                      ).reset_index()[['record_id', 'gender']]"
   ]
  },
  {
   "cell_type": "markdown",
   "metadata": {},
   "source": [
    ":::"
   ]
  },
  {
   "cell_type": "markdown",
   "metadata": {},
   "source": [
    "**Export records that reported an age greater than 20.**"
   ]
  },
  {
   "cell_type": "markdown",
   "metadata": {},
   "source": [
    "::: {.panel-tabset}\n",
    "\n",
    "#### R"
   ]
  },
  {
   "cell_type": "code",
   "execution_count": 21,
   "metadata": {
    "tags": []
   },
   "outputs": [],
   "source": [
    "%%capture\n",
    "%%R\n",
    "data_by_age <- redcap_read_oneshot(\n",
    "    redcap_uri = url, \n",
    "    token = token, \n",
    "    filter_logic = \"[age] > 20 \" \n",
    ")$data%>%\n",
    " select(c(record_id, age))"
   ]
  },
  {
   "cell_type": "markdown",
   "metadata": {},
   "source": [
    "::: {.content-hidden when-format=\"html\"}"
   ]
  },
  {
   "cell_type": "code",
   "execution_count": 22,
   "metadata": {},
   "outputs": [],
   "source": [
    "%%R\n",
    "data_by_age_tbl <- gt(head(data_by_age))\n",
    "gt::gtsave(data_by_age_tbl, filename = 'export_records_filtered_4.html', path = \"./files/export_files/\")"
   ]
  },
  {
   "cell_type": "markdown",
   "metadata": {},
   "source": [
    ":::"
   ]
  },
  {
   "cell_type": "markdown",
   "metadata": {
    "tags": []
   },
   "source": [
    "<p align=\"center\"><iframe width=\"100%\" height=\"230\" src=\"./files/export_files/export_records_filtered_4.html\" title=\"Quarto Documentation\"></iframe></p>"
   ]
  },
  {
   "cell_type": "markdown",
   "metadata": {},
   "source": [
    "**Note:** Because age is a numeric field in REDCap, it does not need quotes around the number 20."
   ]
  },
  {
   "cell_type": "markdown",
   "metadata": {
    "tags": []
   },
   "source": [
    "#### Python"
   ]
  },
  {
   "cell_type": "code",
   "execution_count": 20,
   "metadata": {
    "scrolled": true
   },
   "outputs": [
    {
     "data": {
      "text/html": [
       "<div>\n",
       "<style scoped>\n",
       "    .dataframe tbody tr th:only-of-type {\n",
       "        vertical-align: middle;\n",
       "    }\n",
       "\n",
       "    .dataframe tbody tr th {\n",
       "        vertical-align: top;\n",
       "    }\n",
       "\n",
       "    .dataframe thead th {\n",
       "        text-align: right;\n",
       "    }\n",
       "</style>\n",
       "<table border=\"1\" class=\"dataframe\">\n",
       "  <thead>\n",
       "    <tr style=\"text-align: right;\">\n",
       "      <th></th>\n",
       "      <th>record_id</th>\n",
       "      <th>age</th>\n",
       "    </tr>\n",
       "  </thead>\n",
       "  <tbody>\n",
       "    <tr>\n",
       "      <th>0</th>\n",
       "      <td>2</td>\n",
       "      <td>29</td>\n",
       "    </tr>\n",
       "    <tr>\n",
       "      <th>1</th>\n",
       "      <td>4</td>\n",
       "      <td>28</td>\n",
       "    </tr>\n",
       "    <tr>\n",
       "      <th>2</th>\n",
       "      <td>5</td>\n",
       "      <td>34</td>\n",
       "    </tr>\n",
       "    <tr>\n",
       "      <th>3</th>\n",
       "      <td>6</td>\n",
       "      <td>25</td>\n",
       "    </tr>\n",
       "  </tbody>\n",
       "</table>\n",
       "</div>"
      ],
      "text/plain": [
       "   record_id  age\n",
       "0          2   29\n",
       "1          4   28\n",
       "2          5   34\n",
       "3          6   25"
      ]
     },
     "execution_count": 20,
     "metadata": {},
     "output_type": "execute_result"
    }
   ],
   "source": [
    "project.export_records(filter_logic=\"[age] > 20\", \n",
    "                       format_type='df'\n",
    "                      ).reset_index()[['record_id', 'age']]"
   ]
  },
  {
   "cell_type": "markdown",
   "metadata": {},
   "source": [
    ":::"
   ]
  },
  {
   "cell_type": "markdown",
   "metadata": {},
   "source": [
    "## Export Selected Fields\n",
    "\n",
    "**Export first and last name**"
   ]
  },
  {
   "cell_type": "markdown",
   "metadata": {},
   "source": [
    "::: {.panel-tabset}\n",
    "\n",
    "#### R"
   ]
  },
  {
   "cell_type": "code",
   "execution_count": 18,
   "metadata": {
    "tags": []
   },
   "outputs": [],
   "source": [
    "%%capture\n",
    "%%R\n",
    "#specifying record_id automatically also pulls the event, instrument and instance columns (when applicable).\n",
    "field_subset_1 <- redcap_read_oneshot(\n",
    "    fields = c(\"record_id\",\"first_name\",\"last_name\"), \n",
    "    redcap_uri = url, \n",
    "    token = token\n",
    ")$data"
   ]
  },
  {
   "cell_type": "markdown",
   "metadata": {},
   "source": [
    "::: {.content-hidden when-format=\"html\"}"
   ]
  },
  {
   "cell_type": "code",
   "execution_count": 20,
   "metadata": {},
   "outputs": [],
   "source": [
    "%%capture\n",
    "%%R\n",
    "field_subset_1_tbl<- gt(head(field_subset_1))\n",
    "gt::gtsave(field_subset_1_tbl, filename = 'export_records5.html', path = \"./files/export_files/\")"
   ]
  },
  {
   "cell_type": "markdown",
   "metadata": {},
   "source": [
    ":::"
   ]
  },
  {
   "cell_type": "markdown",
   "metadata": {},
   "source": [
    "<p align=\"center\"><iframe width=\"100%\" height=\"300\" src=\"./files/export_files/export_records5.html\" title=\"Quarto Documentation\"></iframe></p>"
   ]
  },
  {
   "cell_type": "markdown",
   "metadata": {},
   "source": [
    "**Note:** if `record_id` is not specified, no identifier fields will be exported. By including `record_id` in the `fields` argument, all variables that make up the unique key are automatically exported. "
   ]
  },
  {
   "cell_type": "markdown",
   "metadata": {},
   "source": [
    "#### Python"
   ]
  },
  {
   "cell_type": "code",
   "execution_count": 21,
   "metadata": {},
   "outputs": [
    {
     "data": {
      "text/html": [
       "<div>\n",
       "<style scoped>\n",
       "    .dataframe tbody tr th:only-of-type {\n",
       "        vertical-align: middle;\n",
       "    }\n",
       "\n",
       "    .dataframe tbody tr th {\n",
       "        vertical-align: top;\n",
       "    }\n",
       "\n",
       "    .dataframe thead th {\n",
       "        text-align: right;\n",
       "    }\n",
       "</style>\n",
       "<table border=\"1\" class=\"dataframe\">\n",
       "  <thead>\n",
       "    <tr style=\"text-align: right;\">\n",
       "      <th></th>\n",
       "      <th></th>\n",
       "      <th>redcap_repeat_instrument</th>\n",
       "      <th>redcap_repeat_instance</th>\n",
       "      <th>first_name</th>\n",
       "      <th>last_name</th>\n",
       "    </tr>\n",
       "    <tr>\n",
       "      <th>record_id</th>\n",
       "      <th>redcap_event_name</th>\n",
       "      <th></th>\n",
       "      <th></th>\n",
       "      <th></th>\n",
       "      <th></th>\n",
       "    </tr>\n",
       "  </thead>\n",
       "  <tbody>\n",
       "    <tr>\n",
       "      <th rowspan=\"3\" valign=\"top\">3</th>\n",
       "      <th>personal_info_arm_1</th>\n",
       "      <td>NaN</td>\n",
       "      <td>NaN</td>\n",
       "      <td>John</td>\n",
       "      <td>Doe</td>\n",
       "    </tr>\n",
       "    <tr>\n",
       "      <th>notifications_arm_1</th>\n",
       "      <td>NaN</td>\n",
       "      <td>NaN</td>\n",
       "      <td>NaN</td>\n",
       "      <td>NaN</td>\n",
       "    </tr>\n",
       "    <tr>\n",
       "      <th>case_intake_arm_1</th>\n",
       "      <td>NaN</td>\n",
       "      <td>1.0</td>\n",
       "      <td>NaN</td>\n",
       "      <td>NaN</td>\n",
       "    </tr>\n",
       "    <tr>\n",
       "      <th rowspan=\"4\" valign=\"top\">4</th>\n",
       "      <th>personal_info_arm_1</th>\n",
       "      <td>NaN</td>\n",
       "      <td>NaN</td>\n",
       "      <td>Jane</td>\n",
       "      <td>Doe</td>\n",
       "    </tr>\n",
       "    <tr>\n",
       "      <th>notifications_arm_1</th>\n",
       "      <td>NaN</td>\n",
       "      <td>NaN</td>\n",
       "      <td>NaN</td>\n",
       "      <td>NaN</td>\n",
       "    </tr>\n",
       "    <tr>\n",
       "      <th>case_intake_arm_1</th>\n",
       "      <td>NaN</td>\n",
       "      <td>1.0</td>\n",
       "      <td>NaN</td>\n",
       "      <td>NaN</td>\n",
       "    </tr>\n",
       "    <tr>\n",
       "      <th>case_intake_arm_1</th>\n",
       "      <td>NaN</td>\n",
       "      <td>2.0</td>\n",
       "      <td>NaN</td>\n",
       "      <td>NaN</td>\n",
       "    </tr>\n",
       "  </tbody>\n",
       "</table>\n",
       "</div>"
      ],
      "text/plain": [
       "                               redcap_repeat_instrument  \\\n",
       "record_id redcap_event_name                               \n",
       "3         personal_info_arm_1                       NaN   \n",
       "          notifications_arm_1                       NaN   \n",
       "          case_intake_arm_1                         NaN   \n",
       "4         personal_info_arm_1                       NaN   \n",
       "          notifications_arm_1                       NaN   \n",
       "          case_intake_arm_1                         NaN   \n",
       "          case_intake_arm_1                         NaN   \n",
       "\n",
       "                               redcap_repeat_instance first_name last_name  \n",
       "record_id redcap_event_name                                                 \n",
       "3         personal_info_arm_1                     NaN       John       Doe  \n",
       "          notifications_arm_1                     NaN        NaN       NaN  \n",
       "          case_intake_arm_1                       1.0        NaN       NaN  \n",
       "4         personal_info_arm_1                     NaN       Jane       Doe  \n",
       "          notifications_arm_1                     NaN        NaN       NaN  \n",
       "          case_intake_arm_1                       1.0        NaN       NaN  \n",
       "          case_intake_arm_1                       2.0        NaN       NaN  "
      ]
     },
     "execution_count": 21,
     "metadata": {},
     "output_type": "execute_result"
    }
   ],
   "source": [
    "project.export_records(records=['3','4'], \n",
    "                       fields=[\"first_name\",\"last_name\"],\n",
    "                       format_type='df')"
   ]
  },
  {
   "cell_type": "markdown",
   "metadata": {},
   "source": [
    "**Note:** if `record_id` is not specified, all fields that make up the unique key will still be exported."
   ]
  },
  {
   "cell_type": "markdown",
   "metadata": {},
   "source": [
    ":::"
   ]
  },
  {
   "cell_type": "markdown",
   "metadata": {},
   "source": [
    "## Export Specific Instruments\n",
    "\n",
    "See @sec-forms_instruments to get a list of all the instrument names in your project. Specifying instruments to export will still export all rows of the project data (including rows not relevant to the desired instrument). However, it is useful because it will only export the fields (columns) in that instrument. Use the `filter_logic` argument and the `<form>_complete` variable (automatically created by REDCap for each form) to get the desired output. "
   ]
  },
  {
   "cell_type": "markdown",
   "metadata": {},
   "source": [
    "In this example, we use the `symptoms_complete` field to export the 'symptoms' form and all associated data."
   ]
  },
  {
   "cell_type": "markdown",
   "metadata": {},
   "source": [
    "::: {.panel-tabset}\r\n",
    "\r\n",
    "#### R"
   ]
  },
  {
   "cell_type": "code",
   "execution_count": 29,
   "metadata": {
    "tags": []
   },
   "outputs": [],
   "source": [
    "%%capture\n",
    "%%R\n",
    "\n",
    "records_dem <- redcap_read_oneshot(redcap_uri = url, \n",
    "                           fields = \"record_id\",\n",
    "                           forms = \"symptoms\", \n",
    "                           filter_logic = '[symptoms_complete] <> \"\"',\n",
    "                           token = token\n",
    "                                       )$data\n",
    "\n",
    "records_dem_tbl <- gt(head(records_dem))\n",
    "gt::gtsave(records_dem_tbl, filename = 'export_records6.html', path = \"./files/export_files/\")"
   ]
  },
  {
   "cell_type": "markdown",
   "metadata": {},
   "source": [
    "::: {.content-hidden when-format=\"html\"}"
   ]
  },
  {
   "cell_type": "code",
   "execution_count": 16,
   "metadata": {},
   "outputs": [],
   "source": [
    "%%capture\n",
    "%%R\n",
    "\n",
    "records_dem_tbl <- gt(records_dem)\n",
    "gt::gtsave(records_dem_tbl, filename = 'export_records6.html', path = \"./files/export_files/\")"
   ]
  },
  {
   "cell_type": "markdown",
   "metadata": {},
   "source": [
    ":::"
   ]
  },
  {
   "cell_type": "markdown",
   "metadata": {},
   "source": [
    "<p align=\"center\"><iframe width=\"100%\" height=\"300\" src=\"./files/export_files/export_records6.html\" title=\"Quarto Documentation\"></iframe></p>"
   ]
  },
  {
   "cell_type": "markdown",
   "metadata": {},
   "source": [
    "**Note:** You must add `record_id` to the `fields` argument for the data to export with the `record_id` and associated unique key attached."
   ]
  },
  {
   "cell_type": "markdown",
   "metadata": {},
   "source": [
    "#### Python"
   ]
  },
  {
   "cell_type": "code",
   "execution_count": 24,
   "metadata": {},
   "outputs": [
    {
     "data": {
      "text/html": [
       "<div>\n",
       "<style scoped>\n",
       "    .dataframe tbody tr th:only-of-type {\n",
       "        vertical-align: middle;\n",
       "    }\n",
       "\n",
       "    .dataframe tbody tr th {\n",
       "        vertical-align: top;\n",
       "    }\n",
       "\n",
       "    .dataframe thead th {\n",
       "        text-align: right;\n",
       "    }\n",
       "</style>\n",
       "<table border=\"1\" class=\"dataframe\">\n",
       "  <thead>\n",
       "    <tr style=\"text-align: right;\">\n",
       "      <th></th>\n",
       "      <th></th>\n",
       "      <th>redcap_repeat_instrument</th>\n",
       "      <th>redcap_repeat_instance</th>\n",
       "      <th>symptoms_yesno</th>\n",
       "      <th>symptom_onset</th>\n",
       "      <th>symptoms_exp___1</th>\n",
       "      <th>symptoms_exp___2</th>\n",
       "      <th>symptoms_exp___3</th>\n",
       "      <th>symptoms_exp___4</th>\n",
       "      <th>symptoms_exp___5</th>\n",
       "      <th>symptoms_exp___6</th>\n",
       "      <th>symptoms_exp___7</th>\n",
       "      <th>symptoms_exp___8</th>\n",
       "      <th>symptoms_exp___9</th>\n",
       "      <th>symptoms_exp___10</th>\n",
       "      <th>symptoms_exp___11</th>\n",
       "      <th>symptom_notes</th>\n",
       "      <th>symptoms_complete</th>\n",
       "    </tr>\n",
       "    <tr>\n",
       "      <th>record_id</th>\n",
       "      <th>redcap_event_name</th>\n",
       "      <th></th>\n",
       "      <th></th>\n",
       "      <th></th>\n",
       "      <th></th>\n",
       "      <th></th>\n",
       "      <th></th>\n",
       "      <th></th>\n",
       "      <th></th>\n",
       "      <th></th>\n",
       "      <th></th>\n",
       "      <th></th>\n",
       "      <th></th>\n",
       "      <th></th>\n",
       "      <th></th>\n",
       "      <th></th>\n",
       "      <th></th>\n",
       "      <th></th>\n",
       "    </tr>\n",
       "  </thead>\n",
       "  <tbody>\n",
       "    <tr>\n",
       "      <th>1</th>\n",
       "      <th>case_intake_arm_1</th>\n",
       "      <td>NaN</td>\n",
       "      <td>1</td>\n",
       "      <td>1</td>\n",
       "      <td>2023-10-09</td>\n",
       "      <td>1</td>\n",
       "      <td>1</td>\n",
       "      <td>0</td>\n",
       "      <td>0</td>\n",
       "      <td>0</td>\n",
       "      <td>0</td>\n",
       "      <td>1</td>\n",
       "      <td>0</td>\n",
       "      <td>0</td>\n",
       "      <td>0</td>\n",
       "      <td>0</td>\n",
       "      <td>NaN</td>\n",
       "      <td>2</td>\n",
       "    </tr>\n",
       "    <tr>\n",
       "      <th rowspan=\"2\" valign=\"top\">2</th>\n",
       "      <th>case_intake_arm_1</th>\n",
       "      <td>NaN</td>\n",
       "      <td>1</td>\n",
       "      <td>1</td>\n",
       "      <td>2023-10-11</td>\n",
       "      <td>1</td>\n",
       "      <td>1</td>\n",
       "      <td>0</td>\n",
       "      <td>0</td>\n",
       "      <td>0</td>\n",
       "      <td>0</td>\n",
       "      <td>0</td>\n",
       "      <td>1</td>\n",
       "      <td>0</td>\n",
       "      <td>0</td>\n",
       "      <td>0</td>\n",
       "      <td>NaN</td>\n",
       "      <td>2</td>\n",
       "    </tr>\n",
       "    <tr>\n",
       "      <th>case_intake_arm_1</th>\n",
       "      <td>NaN</td>\n",
       "      <td>2</td>\n",
       "      <td>1</td>\n",
       "      <td>2021-06-05</td>\n",
       "      <td>1</td>\n",
       "      <td>1</td>\n",
       "      <td>1</td>\n",
       "      <td>1</td>\n",
       "      <td>1</td>\n",
       "      <td>0</td>\n",
       "      <td>1</td>\n",
       "      <td>1</td>\n",
       "      <td>1</td>\n",
       "      <td>0</td>\n",
       "      <td>0</td>\n",
       "      <td>NaN</td>\n",
       "      <td>2</td>\n",
       "    </tr>\n",
       "    <tr>\n",
       "      <th>3</th>\n",
       "      <th>case_intake_arm_1</th>\n",
       "      <td>NaN</td>\n",
       "      <td>1</td>\n",
       "      <td>1</td>\n",
       "      <td>2023-10-09</td>\n",
       "      <td>1</td>\n",
       "      <td>1</td>\n",
       "      <td>0</td>\n",
       "      <td>0</td>\n",
       "      <td>0</td>\n",
       "      <td>0</td>\n",
       "      <td>1</td>\n",
       "      <td>0</td>\n",
       "      <td>0</td>\n",
       "      <td>0</td>\n",
       "      <td>0</td>\n",
       "      <td>NaN</td>\n",
       "      <td>2</td>\n",
       "    </tr>\n",
       "    <tr>\n",
       "      <th rowspan=\"2\" valign=\"top\">4</th>\n",
       "      <th>case_intake_arm_1</th>\n",
       "      <td>NaN</td>\n",
       "      <td>1</td>\n",
       "      <td>1</td>\n",
       "      <td>2023-10-11</td>\n",
       "      <td>1</td>\n",
       "      <td>1</td>\n",
       "      <td>0</td>\n",
       "      <td>0</td>\n",
       "      <td>0</td>\n",
       "      <td>0</td>\n",
       "      <td>0</td>\n",
       "      <td>1</td>\n",
       "      <td>0</td>\n",
       "      <td>0</td>\n",
       "      <td>0</td>\n",
       "      <td>NaN</td>\n",
       "      <td>2</td>\n",
       "    </tr>\n",
       "    <tr>\n",
       "      <th>case_intake_arm_1</th>\n",
       "      <td>NaN</td>\n",
       "      <td>2</td>\n",
       "      <td>1</td>\n",
       "      <td>2021-06-05</td>\n",
       "      <td>1</td>\n",
       "      <td>1</td>\n",
       "      <td>1</td>\n",
       "      <td>1</td>\n",
       "      <td>1</td>\n",
       "      <td>0</td>\n",
       "      <td>1</td>\n",
       "      <td>1</td>\n",
       "      <td>1</td>\n",
       "      <td>0</td>\n",
       "      <td>0</td>\n",
       "      <td>NaN</td>\n",
       "      <td>2</td>\n",
       "    </tr>\n",
       "    <tr>\n",
       "      <th>5</th>\n",
       "      <th>case_intake_arm_1</th>\n",
       "      <td>NaN</td>\n",
       "      <td>1</td>\n",
       "      <td>1</td>\n",
       "      <td>2023-10-08</td>\n",
       "      <td>1</td>\n",
       "      <td>0</td>\n",
       "      <td>0</td>\n",
       "      <td>0</td>\n",
       "      <td>0</td>\n",
       "      <td>0</td>\n",
       "      <td>0</td>\n",
       "      <td>0</td>\n",
       "      <td>0</td>\n",
       "      <td>0</td>\n",
       "      <td>0</td>\n",
       "      <td>NaN</td>\n",
       "      <td>2</td>\n",
       "    </tr>\n",
       "    <tr>\n",
       "      <th>6</th>\n",
       "      <th>case_intake_arm_1</th>\n",
       "      <td>NaN</td>\n",
       "      <td>1</td>\n",
       "      <td>1</td>\n",
       "      <td>2023-10-02</td>\n",
       "      <td>0</td>\n",
       "      <td>0</td>\n",
       "      <td>0</td>\n",
       "      <td>0</td>\n",
       "      <td>0</td>\n",
       "      <td>1</td>\n",
       "      <td>1</td>\n",
       "      <td>1</td>\n",
       "      <td>1</td>\n",
       "      <td>0</td>\n",
       "      <td>0</td>\n",
       "      <td>NaN</td>\n",
       "      <td>2</td>\n",
       "    </tr>\n",
       "  </tbody>\n",
       "</table>\n",
       "</div>"
      ],
      "text/plain": [
       "                             redcap_repeat_instrument  redcap_repeat_instance  \\\n",
       "record_id redcap_event_name                                                     \n",
       "1         case_intake_arm_1                       NaN                       1   \n",
       "2         case_intake_arm_1                       NaN                       1   \n",
       "          case_intake_arm_1                       NaN                       2   \n",
       "3         case_intake_arm_1                       NaN                       1   \n",
       "4         case_intake_arm_1                       NaN                       1   \n",
       "          case_intake_arm_1                       NaN                       2   \n",
       "5         case_intake_arm_1                       NaN                       1   \n",
       "6         case_intake_arm_1                       NaN                       1   \n",
       "\n",
       "                             symptoms_yesno symptom_onset  symptoms_exp___1  \\\n",
       "record_id redcap_event_name                                                   \n",
       "1         case_intake_arm_1               1    2023-10-09                 1   \n",
       "2         case_intake_arm_1               1    2023-10-11                 1   \n",
       "          case_intake_arm_1               1    2021-06-05                 1   \n",
       "3         case_intake_arm_1               1    2023-10-09                 1   \n",
       "4         case_intake_arm_1               1    2023-10-11                 1   \n",
       "          case_intake_arm_1               1    2021-06-05                 1   \n",
       "5         case_intake_arm_1               1    2023-10-08                 1   \n",
       "6         case_intake_arm_1               1    2023-10-02                 0   \n",
       "\n",
       "                             symptoms_exp___2  symptoms_exp___3  \\\n",
       "record_id redcap_event_name                                       \n",
       "1         case_intake_arm_1                 1                 0   \n",
       "2         case_intake_arm_1                 1                 0   \n",
       "          case_intake_arm_1                 1                 1   \n",
       "3         case_intake_arm_1                 1                 0   \n",
       "4         case_intake_arm_1                 1                 0   \n",
       "          case_intake_arm_1                 1                 1   \n",
       "5         case_intake_arm_1                 0                 0   \n",
       "6         case_intake_arm_1                 0                 0   \n",
       "\n",
       "                             symptoms_exp___4  symptoms_exp___5  \\\n",
       "record_id redcap_event_name                                       \n",
       "1         case_intake_arm_1                 0                 0   \n",
       "2         case_intake_arm_1                 0                 0   \n",
       "          case_intake_arm_1                 1                 1   \n",
       "3         case_intake_arm_1                 0                 0   \n",
       "4         case_intake_arm_1                 0                 0   \n",
       "          case_intake_arm_1                 1                 1   \n",
       "5         case_intake_arm_1                 0                 0   \n",
       "6         case_intake_arm_1                 0                 0   \n",
       "\n",
       "                             symptoms_exp___6  symptoms_exp___7  \\\n",
       "record_id redcap_event_name                                       \n",
       "1         case_intake_arm_1                 0                 1   \n",
       "2         case_intake_arm_1                 0                 0   \n",
       "          case_intake_arm_1                 0                 1   \n",
       "3         case_intake_arm_1                 0                 1   \n",
       "4         case_intake_arm_1                 0                 0   \n",
       "          case_intake_arm_1                 0                 1   \n",
       "5         case_intake_arm_1                 0                 0   \n",
       "6         case_intake_arm_1                 1                 1   \n",
       "\n",
       "                             symptoms_exp___8  symptoms_exp___9  \\\n",
       "record_id redcap_event_name                                       \n",
       "1         case_intake_arm_1                 0                 0   \n",
       "2         case_intake_arm_1                 1                 0   \n",
       "          case_intake_arm_1                 1                 1   \n",
       "3         case_intake_arm_1                 0                 0   \n",
       "4         case_intake_arm_1                 1                 0   \n",
       "          case_intake_arm_1                 1                 1   \n",
       "5         case_intake_arm_1                 0                 0   \n",
       "6         case_intake_arm_1                 1                 1   \n",
       "\n",
       "                             symptoms_exp___10  symptoms_exp___11  \\\n",
       "record_id redcap_event_name                                         \n",
       "1         case_intake_arm_1                  0                  0   \n",
       "2         case_intake_arm_1                  0                  0   \n",
       "          case_intake_arm_1                  0                  0   \n",
       "3         case_intake_arm_1                  0                  0   \n",
       "4         case_intake_arm_1                  0                  0   \n",
       "          case_intake_arm_1                  0                  0   \n",
       "5         case_intake_arm_1                  0                  0   \n",
       "6         case_intake_arm_1                  0                  0   \n",
       "\n",
       "                             symptom_notes  symptoms_complete  \n",
       "record_id redcap_event_name                                    \n",
       "1         case_intake_arm_1            NaN                  2  \n",
       "2         case_intake_arm_1            NaN                  2  \n",
       "          case_intake_arm_1            NaN                  2  \n",
       "3         case_intake_arm_1            NaN                  2  \n",
       "4         case_intake_arm_1            NaN                  2  \n",
       "          case_intake_arm_1            NaN                  2  \n",
       "5         case_intake_arm_1            NaN                  2  \n",
       "6         case_intake_arm_1            NaN                  2  "
      ]
     },
     "execution_count": 24,
     "metadata": {},
     "output_type": "execute_result"
    }
   ],
   "source": [
    "project.export_records(forms='symptoms',\n",
    "                       filter_logic =\"[symptoms_complete] <>''\",\n",
    "                       format_type='df')"
   ]
  },
  {
   "cell_type": "markdown",
   "metadata": {},
   "source": [
    "**Note:** if `record_id` is not specified, all fields that make up the unique key will still be exported."
   ]
  },
  {
   "cell_type": "markdown",
   "metadata": {},
   "source": [
    ":::"
   ]
  },
  {
   "cell_type": "markdown",
   "metadata": {},
   "source": [
    "## Export Data as CSV (PyCap Only) {#sec-csv}"
   ]
  },
  {
   "cell_type": "markdown",
   "metadata": {},
   "source": [
    "::: {.panel-tabset}\n",
    "\n",
    "#### Python"
   ]
  },
  {
   "cell_type": "markdown",
   "metadata": {},
   "source": [
    "In @sec-labeled and @sec-label_reports, it was noted that to export labeled headers, the data needs to be exported as a csv. See the example below on how to do this. "
   ]
  },
  {
   "cell_type": "code",
   "execution_count": 91,
   "metadata": {},
   "outputs": [
    {
     "data": {
      "text/html": [
       "<div>\n",
       "<style scoped>\n",
       "    .dataframe tbody tr th:only-of-type {\n",
       "        vertical-align: middle;\n",
       "    }\n",
       "\n",
       "    .dataframe tbody tr th {\n",
       "        vertical-align: top;\n",
       "    }\n",
       "\n",
       "    .dataframe thead th {\n",
       "        text-align: right;\n",
       "    }\n",
       "</style>\n",
       "<table border=\"1\" class=\"dataframe\">\n",
       "  <thead>\n",
       "    <tr style=\"text-align: right;\">\n",
       "      <th></th>\n",
       "      <th>Record ID</th>\n",
       "      <th>Event Name</th>\n",
       "      <th>Repeat Instrument</th>\n",
       "      <th>Repeat Instance</th>\n",
       "      <th>First Name</th>\n",
       "      <th>Last Name</th>\n",
       "      <th>Phone Number</th>\n",
       "      <th>ZIP Code</th>\n",
       "      <th>Date of birth</th>\n",
       "      <th>Age (years)</th>\n",
       "      <th>...</th>\n",
       "      <th>Phone number of close contact</th>\n",
       "      <th>Email of close contact</th>\n",
       "      <th>Complete?.3</th>\n",
       "      <th>Supervisor Name</th>\n",
       "      <th>Supervisor email</th>\n",
       "      <th>Do you ever work in-person?</th>\n",
       "      <th>Date you last worked in-person?</th>\n",
       "      <th>Was this person at work while contagious? Symptom Onset Date: [case_intake_arm_1][symptom_onset]</th>\n",
       "      <th>Was this person at work while contagious?</th>\n",
       "      <th>Complete?.4</th>\n",
       "    </tr>\n",
       "  </thead>\n",
       "  <tbody>\n",
       "    <tr>\n",
       "      <th>0</th>\n",
       "      <td>2</td>\n",
       "      <td>Personal Info</td>\n",
       "      <td>NaN</td>\n",
       "      <td>NaN</td>\n",
       "      <td>Jane</td>\n",
       "      <td>Doe</td>\n",
       "      <td>(999) 999-9999</td>\n",
       "      <td>98105.0</td>\n",
       "      <td>1994-06-29</td>\n",
       "      <td>29.0</td>\n",
       "      <td>...</td>\n",
       "      <td>NaN</td>\n",
       "      <td>NaN</td>\n",
       "      <td>NaN</td>\n",
       "      <td>NaN</td>\n",
       "      <td>NaN</td>\n",
       "      <td>NaN</td>\n",
       "      <td>NaN</td>\n",
       "      <td>NaN</td>\n",
       "      <td>NaN</td>\n",
       "      <td>NaN</td>\n",
       "    </tr>\n",
       "    <tr>\n",
       "      <th>1</th>\n",
       "      <td>2</td>\n",
       "      <td>Notifications</td>\n",
       "      <td>NaN</td>\n",
       "      <td>NaN</td>\n",
       "      <td>NaN</td>\n",
       "      <td>NaN</td>\n",
       "      <td>NaN</td>\n",
       "      <td>NaN</td>\n",
       "      <td>NaN</td>\n",
       "      <td>NaN</td>\n",
       "      <td>...</td>\n",
       "      <td>NaN</td>\n",
       "      <td>NaN</td>\n",
       "      <td>NaN</td>\n",
       "      <td>Boss</td>\n",
       "      <td>fake_email@gmail.com</td>\n",
       "      <td>Yes</td>\n",
       "      <td>2023-10-10</td>\n",
       "      <td>Yes</td>\n",
       "      <td>NaN</td>\n",
       "      <td>Complete</td>\n",
       "    </tr>\n",
       "    <tr>\n",
       "      <th>2</th>\n",
       "      <td>2</td>\n",
       "      <td>Case Intake</td>\n",
       "      <td>NaN</td>\n",
       "      <td>1.0</td>\n",
       "      <td>NaN</td>\n",
       "      <td>NaN</td>\n",
       "      <td>NaN</td>\n",
       "      <td>NaN</td>\n",
       "      <td>NaN</td>\n",
       "      <td>NaN</td>\n",
       "      <td>...</td>\n",
       "      <td>NaN</td>\n",
       "      <td>NaN</td>\n",
       "      <td>NaN</td>\n",
       "      <td>NaN</td>\n",
       "      <td>NaN</td>\n",
       "      <td>NaN</td>\n",
       "      <td>NaN</td>\n",
       "      <td>NaN</td>\n",
       "      <td>NaN</td>\n",
       "      <td>NaN</td>\n",
       "    </tr>\n",
       "    <tr>\n",
       "      <th>3</th>\n",
       "      <td>2</td>\n",
       "      <td>Case Intake</td>\n",
       "      <td>NaN</td>\n",
       "      <td>2.0</td>\n",
       "      <td>NaN</td>\n",
       "      <td>NaN</td>\n",
       "      <td>NaN</td>\n",
       "      <td>NaN</td>\n",
       "      <td>NaN</td>\n",
       "      <td>NaN</td>\n",
       "      <td>...</td>\n",
       "      <td>NaN</td>\n",
       "      <td>NaN</td>\n",
       "      <td>NaN</td>\n",
       "      <td>NaN</td>\n",
       "      <td>NaN</td>\n",
       "      <td>NaN</td>\n",
       "      <td>NaN</td>\n",
       "      <td>NaN</td>\n",
       "      <td>NaN</td>\n",
       "      <td>NaN</td>\n",
       "    </tr>\n",
       "    <tr>\n",
       "      <th>4</th>\n",
       "      <td>2</td>\n",
       "      <td>Notifications</td>\n",
       "      <td>Close Contacts</td>\n",
       "      <td>1.0</td>\n",
       "      <td>NaN</td>\n",
       "      <td>NaN</td>\n",
       "      <td>NaN</td>\n",
       "      <td>NaN</td>\n",
       "      <td>NaN</td>\n",
       "      <td>NaN</td>\n",
       "      <td>...</td>\n",
       "      <td>(999) 999-9999</td>\n",
       "      <td>fake_email@gmail.com</td>\n",
       "      <td>Complete</td>\n",
       "      <td>NaN</td>\n",
       "      <td>NaN</td>\n",
       "      <td>NaN</td>\n",
       "      <td>NaN</td>\n",
       "      <td>NaN</td>\n",
       "      <td>NaN</td>\n",
       "      <td>NaN</td>\n",
       "    </tr>\n",
       "    <tr>\n",
       "      <th>5</th>\n",
       "      <td>2</td>\n",
       "      <td>Notifications</td>\n",
       "      <td>Close Contacts</td>\n",
       "      <td>2.0</td>\n",
       "      <td>NaN</td>\n",
       "      <td>NaN</td>\n",
       "      <td>NaN</td>\n",
       "      <td>NaN</td>\n",
       "      <td>NaN</td>\n",
       "      <td>NaN</td>\n",
       "      <td>...</td>\n",
       "      <td>(999) 999-9999</td>\n",
       "      <td>NaN</td>\n",
       "      <td>Incomplete</td>\n",
       "      <td>NaN</td>\n",
       "      <td>NaN</td>\n",
       "      <td>NaN</td>\n",
       "      <td>NaN</td>\n",
       "      <td>NaN</td>\n",
       "      <td>NaN</td>\n",
       "      <td>NaN</td>\n",
       "    </tr>\n",
       "  </tbody>\n",
       "</table>\n",
       "<p>6 rows × 48 columns</p>\n",
       "</div>"
      ],
      "text/plain": [
       "   Record ID     Event Name Repeat Instrument  Repeat Instance First Name  \\\n",
       "0          2  Personal Info               NaN              NaN       Jane   \n",
       "1          2  Notifications               NaN              NaN        NaN   \n",
       "2          2    Case Intake               NaN              1.0        NaN   \n",
       "3          2    Case Intake               NaN              2.0        NaN   \n",
       "4          2  Notifications    Close Contacts              1.0        NaN   \n",
       "5          2  Notifications    Close Contacts              2.0        NaN   \n",
       "\n",
       "  Last Name    Phone Number  ZIP Code Date of birth  Age (years)  ...  \\\n",
       "0       Doe  (999) 999-9999   98105.0    1994-06-29         29.0  ...   \n",
       "1       NaN             NaN       NaN           NaN          NaN  ...   \n",
       "2       NaN             NaN       NaN           NaN          NaN  ...   \n",
       "3       NaN             NaN       NaN           NaN          NaN  ...   \n",
       "4       NaN             NaN       NaN           NaN          NaN  ...   \n",
       "5       NaN             NaN       NaN           NaN          NaN  ...   \n",
       "\n",
       "  Phone number of close contact Email of close contact Complete?.3  \\\n",
       "0                           NaN                    NaN         NaN   \n",
       "1                           NaN                    NaN         NaN   \n",
       "2                           NaN                    NaN         NaN   \n",
       "3                           NaN                    NaN         NaN   \n",
       "4                (999) 999-9999   fake_email@gmail.com    Complete   \n",
       "5                (999) 999-9999                    NaN  Incomplete   \n",
       "\n",
       "  Supervisor Name      Supervisor email Do you ever work in-person?  \\\n",
       "0             NaN                   NaN                         NaN   \n",
       "1            Boss  fake_email@gmail.com                         Yes   \n",
       "2             NaN                   NaN                         NaN   \n",
       "3             NaN                   NaN                         NaN   \n",
       "4             NaN                   NaN                         NaN   \n",
       "5             NaN                   NaN                         NaN   \n",
       "\n",
       "  Date you last worked in-person?  \\\n",
       "0                             NaN   \n",
       "1                      2023-10-10   \n",
       "2                             NaN   \n",
       "3                             NaN   \n",
       "4                             NaN   \n",
       "5                             NaN   \n",
       "\n",
       "  Was this person at work while contagious? Symptom Onset Date: [case_intake_arm_1][symptom_onset]  \\\n",
       "0                                                NaN                                                 \n",
       "1                                                Yes                                                 \n",
       "2                                                NaN                                                 \n",
       "3                                                NaN                                                 \n",
       "4                                                NaN                                                 \n",
       "5                                                NaN                                                 \n",
       "\n",
       "  Was this person at work while contagious?  Complete?.4  \n",
       "0                                        NaN         NaN  \n",
       "1                                        NaN    Complete  \n",
       "2                                        NaN         NaN  \n",
       "3                                        NaN         NaN  \n",
       "4                                        NaN         NaN  \n",
       "5                                        NaN         NaN  \n",
       "\n",
       "[6 rows x 48 columns]"
      ]
     },
     "execution_count": 91,
     "metadata": {},
     "output_type": "execute_result"
    }
   ],
   "source": [
    "from io import StringIO\n",
    "\n",
    "data_csv = StringIO(project.export_records(records='2',\n",
    "                       raw_or_label='label',\n",
    "                       raw_or_label_headers='label', \n",
    "                       format_type='csv'))\n",
    "df_csv = pd.read_csv(data_csv, sep=',')\n",
    "df_csv"
   ]
  },
  {
   "cell_type": "markdown",
   "metadata": {},
   "source": [
    ":::"
   ]
  },
  {
   "cell_type": "markdown",
   "metadata": {},
   "source": [
    "## Creating a Reference Class (REDCapR only)"
   ]
  },
  {
   "cell_type": "markdown",
   "metadata": {},
   "source": [
    "::: {.panel-tabset}\r\n",
    "\r\n",
    "#### R"
   ]
  },
  {
   "cell_type": "markdown",
   "metadata": {},
   "source": [
    "This [Reference Class](https://cran.r-project.org/web/packages/REDCapR/REDCapR.pdf) represents a REDCap project. Once some values are set that are specific to a REDCap project (such as the URI and token), later calls are less verbose (such as reading and writing data).\n",
    "\n",
    "**First, define the project:**"
   ]
  },
  {
   "cell_type": "code",
   "execution_count": 92,
   "metadata": {
    "tags": []
   },
   "outputs": [],
   "source": [
    "%%capture\n",
    "%%R\n",
    "project <- REDCapR::redcap_project$new(redcap_uri=url, token=token)\n",
    "ds_all <- project$read()"
   ]
  },
  {
   "cell_type": "code",
   "execution_count": 93,
   "metadata": {
    "tags": []
   },
   "outputs": [],
   "source": [
    "%%capture\n",
    "%%R\n",
    "data <- project$read(fields = c(\"record_id\", \"gender\", \"first_name\"))$data"
   ]
  },
  {
   "cell_type": "markdown",
   "metadata": {},
   "source": [
    "::: {.content-hidden when-format=\"html\"}"
   ]
  },
  {
   "cell_type": "code",
   "execution_count": 48,
   "metadata": {},
   "outputs": [],
   "source": [
    "%%capture\n",
    "%%R\n",
    "\n",
    "data_tbl <- gt(data)\n",
    "gt::gtsave(data_tbl, filename = 'export_records7.html', path = \"./files/export_files/\")"
   ]
  },
  {
   "cell_type": "markdown",
   "metadata": {},
   "source": [
    ":::"
   ]
  },
  {
   "cell_type": "raw",
   "metadata": {
    "tags": []
   },
   "source": [
    "<p align=\"center\"><iframe width=\"100%\" height=\"300\" src=\"./files/export_files/export_records7.html\" title=\"Quarto Documentation\"></iframe></p>"
   ]
  },
  {
   "cell_type": "markdown",
   "metadata": {},
   "source": [
    "**Pull the `record_id` for all 'female' records:**"
   ]
  },
  {
   "cell_type": "code",
   "execution_count": 58,
   "metadata": {
    "tags": []
   },
   "outputs": [
    {
     "name": "stdout",
     "output_type": "stream",
     "text": [
      " [1] NA NA  2 NA NA NA NA NA  4 NA NA NA NA NA  6 NA NA\n"
     ]
    }
   ],
   "source": [
    "%%R\n",
    "\n",
    "record_of_females <- data$record_id[data$gender=='0']\n",
    "record_of_females"
   ]
  },
  {
   "cell_type": "markdown",
   "metadata": {},
   "source": [
    ":::"
   ]
  },
  {
   "cell_type": "markdown",
   "metadata": {},
   "source": [
    "## Clean Checkbox Choices (REDCapR Only)"
   ]
  },
  {
   "cell_type": "markdown",
   "metadata": {},
   "source": [
    "::: {.panel-tabset}\r\n",
    "\r\n",
    "#### R"
   ]
  },
  {
   "cell_type": "markdown",
   "metadata": {},
   "source": [
    "REDCapR has a `checkbox_choices` function that can be used to neatly list all answer options for a checkbox field. \n",
    "\n",
    "First pull the metadata:"
   ]
  },
  {
   "cell_type": "code",
   "execution_count": 94,
   "metadata": {
    "tags": []
   },
   "outputs": [],
   "source": [
    "%%capture\n",
    "%%R\n",
    "\n",
    "metadata <- redcap_metadata_read(\n",
    "    redcap_uri = url, \n",
    "    token = token\n",
    ")$data"
   ]
  },
  {
   "cell_type": "markdown",
   "metadata": {},
   "source": [
    "Select the checkbox field that you would like to view:"
   ]
  },
  {
   "cell_type": "code",
   "execution_count": 97,
   "metadata": {
    "tags": []
   },
   "outputs": [
    {
     "name": "stdout",
     "output_type": "stream",
     "text": [
      "\u001b[38;5;246m# A tibble: 11 x 2\u001b[39m\n",
      "   id    label              \n",
      "   \u001b[3m\u001b[38;5;246m<chr>\u001b[39m\u001b[23m \u001b[3m\u001b[38;5;246m<chr>\u001b[39m\u001b[23m              \n",
      "\u001b[38;5;250m 1\u001b[39m 1     Sore Throat        \n",
      "\u001b[38;5;250m 2\u001b[39m 2     Cough              \n",
      "\u001b[38;5;250m 3\u001b[39m 3     Shortness of Breath\n",
      "\u001b[38;5;250m 4\u001b[39m 4     Chest Pain         \n",
      "\u001b[38;5;250m 5\u001b[39m 5     Headache           \n",
      "\u001b[38;5;250m 6\u001b[39m 6     Runny Nose         \n",
      "\u001b[38;5;250m 7\u001b[39m 7     Congestion         \n",
      "\u001b[38;5;250m 8\u001b[39m 8     Fever              \n",
      "\u001b[38;5;250m 9\u001b[39m 9     Body Aches         \n",
      "\u001b[38;5;250m10\u001b[39m 10    Nausea/Vomiting    \n",
      "\u001b[38;5;250m11\u001b[39m 11    Diarrhea           \n"
     ]
    }
   ],
   "source": [
    "%%R\n",
    "symptoms_exp <- metadata[metadata$field_name == \"symptoms_exp\",]$select_choices_or_calculations\n",
    "symptoms_exp_list <- REDCapR::checkbox_choices(select_choices=symptoms_exp)\n",
    "symptoms_exp_list"
   ]
  },
  {
   "cell_type": "markdown",
   "metadata": {},
   "source": [
    ":::"
   ]
  },
  {
   "cell_type": "markdown",
   "metadata": {},
   "source": [
    "## REDCap Constants (REDCapR Only)"
   ]
  },
  {
   "cell_type": "markdown",
   "metadata": {},
   "source": [
    "::: {.panel-tabset}\r\n",
    "\r\n",
    "#### R"
   ]
  },
  {
   "cell_type": "markdown",
   "metadata": {},
   "source": [
    "You can quickly search for the numerical values of several 'constants' within REDCap. For example, when exporting data from REDCap, all instruments end with a variable called `<form_name>_complete` that when exported as raw data will take the values of 0, 1 or 2. You can see what each numerical value means by using `constant(\"form_incomplete\")` and `constant(\"form_complete\")`.  \n",
    "\n",
    "Other constants across all REDCap projects include the values for the various user rights settings. For a full list of constants available, refer to the following [documentation.](https://ouhscbbmc.github.io/REDCapR/reference/constant.html)"
   ]
  },
  {
   "cell_type": "markdown",
   "metadata": {},
   "source": [
    "**View the `<form_name>_complete` REDCap constant values:**"
   ]
  },
  {
   "cell_type": "code",
   "execution_count": 81,
   "metadata": {
    "tags": []
   },
   "outputs": [
    {
     "name": "stdout",
     "output_type": "stream",
     "text": [
      "[1] 0 2 1\n"
     ]
    }
   ],
   "source": [
    "%%R\n",
    "REDCapR::constant(c(\n",
    "  \"form_incomplete\",\n",
    "  \"form_complete\",\n",
    "  \"form_unverified\"\n",
    "))"
   ]
  },
  {
   "cell_type": "markdown",
   "metadata": {},
   "source": [
    ":::"
   ]
  }
 ],
 "metadata": {
  "kernelspec": {
   "display_name": "Python 3 (ipykernel)",
   "language": "python",
   "name": "python3"
  },
  "language_info": {
   "codemirror_mode": {
    "name": "ipython",
    "version": 3
   },
   "file_extension": ".py",
   "mimetype": "text/x-python",
   "name": "python",
   "nbconvert_exporter": "python",
   "pygments_lexer": "ipython3",
   "version": "3.12.2"
  }
 },
 "nbformat": 4,
 "nbformat_minor": 4
}
