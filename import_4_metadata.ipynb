{
 "cells": [
  {
   "cell_type": "markdown",
   "id": "60f20aa1-f622-40ea-9e13-e7f07144b82b",
   "metadata": {},
   "source": [
    "# Metadata\n",
    "\n",
    "Metadata refers to the project's set up characteristics, including field attributes grouped by instrument assignment. Metadata can be thought of as the project's data dictionary.  \n",
    "\n",
    "In these examples, we will export the project metadata and re-import it so that no changes are made to the project."
   ]
  },
  {
   "cell_type": "code",
   "execution_count": 1,
   "id": "2d79f6e1-d4b1-4113-9a3e-9649a3563217",
   "metadata": {},
   "outputs": [],
   "source": [
    "#| echo: false\n",
    "#| output: false\n",
    "import os\n",
    "os.environ['R_HOME'] = f'C:/Users/{os.environ.get('USERNAME')}/Miniconda3/envs/r_python_jl/Lib/R'"
   ]
  },
  {
   "cell_type": "code",
   "execution_count": 2,
   "id": "5454914c-accb-4d92-977c-226c19e5ca9f",
   "metadata": {},
   "outputs": [
    {
     "name": "stderr",
     "output_type": "stream",
     "text": [
      "C:\\Users\\CMD3303\\Miniconda3\\envs\\r_python_jl\\Lib\\site-packages\\rpy2\\robjects\\packages.py:367: UserWarning: The symbol 'quartz' is not in this R namespace/package.\n",
      "  warnings.warn(\n"
     ]
    }
   ],
   "source": [
    "#| echo: false\n",
    "#| output: false\n",
    "# enables the %%R magic, not necessary if you've already done this\n",
    "%load_ext rpy2.ipython\n",
    "# only have to run once to allow the R magic command"
   ]
  },
  {
   "cell_type": "markdown",
   "id": "9ad8a37a-8eaf-4eab-bb61-4514e9f8766c",
   "metadata": {},
   "source": [
    "::: {.content-hidden when-format=\"html\"}"
   ]
  },
  {
   "cell_type": "markdown",
   "id": "54e1d64d-b83b-44c5-baf0-d5a8e810d5d3",
   "metadata": {},
   "source": [
    "### Project Setup\n",
    "\n",
    "::: {.panel-tabset}\n",
    "\n",
    "#### R"
   ]
  },
  {
   "cell_type": "code",
   "execution_count": 4,
   "id": "6c7868bb-e4cb-43e2-85b1-ef66d5ed0ca7",
   "metadata": {
    "tags": []
   },
   "outputs": [],
   "source": [
    "%%capture --no-display \n",
    "%%R\n",
    "library(\"dplyr\")\n",
    "library(\"jsonlite\")\n",
    "library(\"tidyr\")\n",
    "library(\"REDCapR\")\n",
    "library(\"knitr\")\n",
    "library(\"remotes\")\n",
    "library(\"gt\")"
   ]
  },
  {
   "cell_type": "code",
   "execution_count": 5,
   "id": "697807fb-7812-4cd8-b698-b136be02b239",
   "metadata": {},
   "outputs": [
    {
     "name": "stdout",
     "output_type": "stream",
     "text": [
      "[1] '1.1.9005'\n"
     ]
    }
   ],
   "source": [
    "%%capture --no-display --no-stdout\n",
    "%%R\n",
    "\n",
    "# Detach REDCapR if already loaded, and download the latest version\n",
    "if (version!='1.1.9005') {\n",
    "    detach(\"package:REDCapR\", unload=TRUE)\n",
    "    remotes::install_github(\"OuhscBbmc/REDCapR\")\n",
    "    library(\"REDCapR\")\n",
    "    print(packageVersion(\"REDCapR\"))\n",
    "}\n",
    "\n",
    "else {\n",
    "    print(\"REDCapR package up to date\")\n",
    "}"
   ]
  },
  {
   "cell_type": "code",
   "execution_count": 3,
   "id": "2b0e46df-012a-412b-a91d-54c3d9d2a4fb",
   "metadata": {
    "tags": []
   },
   "outputs": [],
   "source": [
    "%%R\n",
    "# Load API tokens from the json file\n",
    "token <- jsonlite::fromJSON('./../../json_api_data.json')$dev_token$'309'\n",
    "url <- \"https://dev-redcap.doh.wa.gov/api/\""
   ]
  },
  {
   "cell_type": "markdown",
   "id": "d084af26-b0f6-4a7d-9494-1d72627ffdac",
   "metadata": {},
   "source": [
    "#### Python"
   ]
  },
  {
   "cell_type": "code",
   "execution_count": 6,
   "id": "6a06455c-3201-4bb2-bf38-56cfe6476bd1",
   "metadata": {},
   "outputs": [],
   "source": [
    "import redcap\n",
    "import json\n",
    "import csv\n",
    "import pandas as pd\n",
    "import numpy as np\n",
    "import requests\n",
    "import tempfile"
   ]
  },
  {
   "cell_type": "code",
   "execution_count": 7,
   "id": "9f995e13-651c-4902-ac46-a19466eb4f12",
   "metadata": {},
   "outputs": [],
   "source": [
    "# Load API tokens from the json file\n",
    "key = json.load(open('./../../json_api_data.json'))\n",
    "token = key['dev_token']['309']\n",
    "url = key['dev_url']\n",
    "\n",
    "project = redcap.Project(url, token)"
   ]
  },
  {
   "cell_type": "markdown",
   "id": "765fe288-915b-41d4-a908-14f9076dee68",
   "metadata": {},
   "source": [
    ":::"
   ]
  },
  {
   "cell_type": "markdown",
   "id": "1b482cae-7256-418d-8fb4-56ccb00ac855",
   "metadata": {},
   "source": [
    ":::"
   ]
  },
  {
   "cell_type": "markdown",
   "id": "9bc696ce-e9ab-4702-8c5c-9422fcc54f51",
   "metadata": {},
   "source": [
    "::: {.panel-tabset}\n",
    "\n",
    "#### R\n",
    "\n",
    "`redcap_metadata_write()`"
   ]
  },
  {
   "cell_type": "code",
   "execution_count": 8,
   "id": "f26de462-69c1-4b5e-b120-2908aaa7c4bb",
   "metadata": {
    "tags": []
   },
   "outputs": [
    {
     "name": "stderr",
     "output_type": "stream",
     "text": [
      "R[write to console]: The data dictionary describing 30 fields was read from REDCap in 0.7 seconds.  The http status code was 200.\n",
      "\n"
     ]
    }
   ],
   "source": [
    "%%R\n",
    "metadata <- redcap_metadata_read(redcap_uri=url, token=token)$data"
   ]
  },
  {
   "cell_type": "markdown",
   "id": "c1213f38-1206-4a20-9f78-ba3f49282cd1",
   "metadata": {},
   "source": [
    "::: {.content-hidden when-format=\"html\"}"
   ]
  },
  {
   "cell_type": "code",
   "execution_count": 33,
   "id": "4154560d-6eac-4cd4-ae3a-ef187da30bbb",
   "metadata": {},
   "outputs": [],
   "source": [
    "%%R\n",
    "tbl<- gt(head(metadata))\n",
    "gt::gtsave(tbl, filename = 'import_metadata.html', path = \"./files/\")"
   ]
  },
  {
   "cell_type": "markdown",
   "id": "65dbb3ed-e25a-41f9-a7c6-da23f04d78ee",
   "metadata": {},
   "source": [
    ":::"
   ]
  },
  {
   "cell_type": "markdown",
   "id": "192c2a17-fc6a-41d5-9a45-2544e0faf797",
   "metadata": {},
   "source": [
    "<iframe width=\"100%\" height=\"500\" src=\"./files/import_metadata.html\" title=\"Quarto Documentation\"></iframe>"
   ]
  },
  {
   "cell_type": "code",
   "execution_count": 9,
   "id": "ffa156c4-f1ba-4709-bded-5a2b9f3d79d8",
   "metadata": {
    "tags": []
   },
   "outputs": [
    {
     "name": "stdout",
     "output_type": "stream",
     "text": [
      "$success\n",
      "[1] TRUE\n",
      "\n",
      "$status_code\n",
      "[1] 200\n",
      "\n",
      "$outcome_message\n",
      "[1] \"30 fields were written to the REDCap dictionary in 0.7 seconds.\"\n",
      "\n",
      "$field_count\n",
      "[1] 30\n",
      "\n",
      "$elapsed_seconds\n",
      "[1] 0.688035\n",
      "\n",
      "$raw_text\n",
      "[1] \"\"\n",
      "\n"
     ]
    }
   ],
   "source": [
    "%%capture --no-stdout \n",
    "%%R\n",
    "redcap_metadata_write(metadata, redcap_uri=url, token=token)"
   ]
  },
  {
   "cell_type": "markdown",
   "id": "62f4fa6e-0707-4461-97dd-bda8336ec230",
   "metadata": {},
   "source": [
    "#### Python\n",
    "\n",
    "`import_metadata()`"
   ]
  },
  {
   "cell_type": "code",
   "execution_count": 10,
   "id": "69f2744e-6170-49c1-8383-2a0bd621bbba",
   "metadata": {},
   "outputs": [
    {
     "data": {
      "text/plain": [
       "{'field_name': 'record_id',\n",
       " 'form_name': 'demographics',\n",
       " 'section_header': '',\n",
       " 'field_type': 'text',\n",
       " 'field_label': 'Study ID',\n",
       " 'select_choices_or_calculations': '',\n",
       " 'field_note': '',\n",
       " 'text_validation_type_or_show_slider_number': '',\n",
       " 'text_validation_min': '',\n",
       " 'text_validation_max': '',\n",
       " 'identifier': '',\n",
       " 'branching_logic': '',\n",
       " 'required_field': '',\n",
       " 'custom_alignment': '',\n",
       " 'question_number': '',\n",
       " 'matrix_group_name': '',\n",
       " 'matrix_ranking': '',\n",
       " 'field_annotation': ''}"
      ]
     },
     "execution_count": 10,
     "metadata": {},
     "output_type": "execute_result"
    }
   ],
   "source": [
    "metadata = project.metadata\n",
    "metadata[0]"
   ]
  },
  {
   "cell_type": "code",
   "execution_count": 11,
   "id": "b6cc5ed5-bfe1-458f-8a8e-3e4591dfec16",
   "metadata": {},
   "outputs": [
    {
     "data": {
      "text/plain": [
       "30"
      ]
     },
     "execution_count": 11,
     "metadata": {},
     "output_type": "execute_result"
    }
   ],
   "source": [
    "project.import_metadata(to_import=metadata)"
   ]
  },
  {
   "cell_type": "markdown",
   "id": "5df079c8-aa5c-4ff4-9ff7-14965737a8e9",
   "metadata": {},
   "source": [
    ":::"
   ]
  },
  {
   "cell_type": "code",
   "execution_count": null,
   "id": "f0b3ac9d-b9a8-42ec-8fd5-3d1d0d3c0513",
   "metadata": {},
   "outputs": [],
   "source": []
  }
 ],
 "metadata": {
  "kernelspec": {
   "display_name": "Python 3 (ipykernel)",
   "language": "python",
   "name": "python3"
  },
  "language_info": {
   "codemirror_mode": {
    "name": "ipython",
    "version": 3
   },
   "file_extension": ".py",
   "mimetype": "text/x-python",
   "name": "python",
   "nbconvert_exporter": "python",
   "pygments_lexer": "ipython3",
   "version": "3.12.2"
  }
 },
 "nbformat": 4,
 "nbformat_minor": 5
}
