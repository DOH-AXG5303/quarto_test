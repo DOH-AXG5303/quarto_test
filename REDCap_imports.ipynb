{
 "cells": [
  {
   "cell_type": "markdown",
   "id": "acd603bd-00c1-4b47-be5a-939e0087a25d",
   "metadata": {},
   "source": [
    "---\n",
    "title: Importing to REDCap\n",
    "format: html\n",
    "knitr:\n",
    "  opts_chunk: \n",
    "    collapse: true\n",
    "    comment: \"#>\" \n",
    "    R.options:\n",
    "      knitr.graphics.auto_pdf: true\n",
    "---"
   ]
  },
  {
   "cell_type": "markdown",
   "id": "8ef5a2c4-f5bc-4f89-a85c-68a2fecc64ea",
   "metadata": {},
   "source": [
    "## Project Setup\n",
    "\n",
    "Install and load the necessary packages and set up the REDCap project connection."
   ]
  },
  {
   "cell_type": "code",
   "execution_count": 2,
   "id": "2d79f6e1-d4b1-4113-9a3e-9649a3563217",
   "metadata": {},
   "outputs": [],
   "source": [
    "#| echo: false\n",
    "#| output: false\n",
    "import os\n",
    "os.environ['R_HOME'] = f'C:/Users/{os.environ.get('USERNAME')}/Miniconda3/envs/r_python_jl/Lib/R'"
   ]
  },
  {
   "cell_type": "code",
   "execution_count": 3,
   "id": "5454914c-accb-4d92-977c-226c19e5ca9f",
   "metadata": {},
   "outputs": [
    {
     "name": "stderr",
     "output_type": "stream",
     "text": [
      "C:\\Users\\CMD3303\\Miniconda3\\envs\\r_python_jl\\Lib\\site-packages\\rpy2\\robjects\\packages.py:367: UserWarning: The symbol 'quartz' is not in this R namespace/package.\n",
      "  warnings.warn(\n"
     ]
    }
   ],
   "source": [
    "#| echo: false\n",
    "#| output: false\n",
    "# enables the %%R magic, not necessary if you've already done this\n",
    "%load_ext rpy2.ipython\n",
    "# only have to run once to allow the R magic command"
   ]
  },
  {
   "cell_type": "markdown",
   "id": "54e1d64d-b83b-44c5-baf0-d5a8e810d5d3",
   "metadata": {},
   "source": [
    "::: {.panel-tabset}\n",
    "\n",
    "#### R"
   ]
  },
  {
   "cell_type": "code",
   "execution_count": 17,
   "id": "6c7868bb-e4cb-43e2-85b1-ef66d5ed0ca7",
   "metadata": {
    "tags": []
   },
   "outputs": [],
   "source": [
    "%%capture --no-display \n",
    "%%R\n",
    "library(\"dplyr\")\n",
    "library(\"jsonlite\")\n",
    "library(\"tidyr\")\n",
    "library(\"REDCapR\")\n",
    "library(\"knitr\")\n",
    "library(\"remotes\")\n",
    "library(\"gt\")"
   ]
  },
  {
   "cell_type": "code",
   "execution_count": 72,
   "id": "697807fb-7812-4cd8-b698-b136be02b239",
   "metadata": {},
   "outputs": [
    {
     "name": "stdout",
     "output_type": "stream",
     "text": [
      "[1] '1.1.9005'\n"
     ]
    }
   ],
   "source": [
    "%%capture --no-display --no-stdout\n",
    "%%R\n",
    "\n",
    "# Detach REDCapR if already loaded, and download the latest version\n",
    "if (version!='1.1.9005') {\n",
    "    detach(\"package:REDCapR\", unload=TRUE)\n",
    "    remotes::install_github(\"OuhscBbmc/REDCapR\")\n",
    "    library(\"REDCapR\")\n",
    "    print(packageVersion(\"REDCapR\"))\n",
    "}\n",
    "\n",
    "else {\n",
    "    print(\"REDCapR package up to date\")\n",
    "}"
   ]
  },
  {
   "cell_type": "code",
   "execution_count": 75,
   "id": "2b0e46df-012a-412b-a91d-54c3d9d2a4fb",
   "metadata": {
    "tags": []
   },
   "outputs": [],
   "source": [
    "%%R\n",
    "# Load API tokens from the json file\n",
    "token <- jsonlite::fromJSON('./../../json_api_data.json')$dev_token$'309'\n",
    "url <- \"https://dev-redcap.doh.wa.gov/api/\""
   ]
  },
  {
   "cell_type": "markdown",
   "id": "d084af26-b0f6-4a7d-9494-1d72627ffdac",
   "metadata": {},
   "source": [
    "#### Python"
   ]
  },
  {
   "cell_type": "code",
   "execution_count": 6,
   "id": "6a06455c-3201-4bb2-bf38-56cfe6476bd1",
   "metadata": {},
   "outputs": [],
   "source": [
    "import redcap\n",
    "import json\n",
    "import csv\n",
    "import pandas as pd\n",
    "import numpy as np\n",
    "import requests\n",
    "import tempfile"
   ]
  },
  {
   "cell_type": "code",
   "execution_count": 45,
   "id": "9f995e13-651c-4902-ac46-a19466eb4f12",
   "metadata": {},
   "outputs": [],
   "source": [
    "# Load API tokens from the json file\n",
    "key = json.load(open('./../../json_api_data.json'))\n",
    "token = key['dev_token']['309']\n",
    "url = key['dev_url']\n",
    "\n",
    "project = redcap.Project(url, token)"
   ]
  },
  {
   "cell_type": "markdown",
   "id": "765fe288-915b-41d4-a908-14f9076dee68",
   "metadata": {},
   "source": [
    ":::"
   ]
  },
  {
   "cell_type": "markdown",
   "id": "bf175fd0-30cd-42a8-a2e0-6665b94ad16f",
   "metadata": {},
   "source": [
    "## Records"
   ]
  },
  {
   "cell_type": "markdown",
   "id": "bc8fa161-ab3a-4fe7-9edd-6fd68c9cbfb5",
   "metadata": {},
   "source": [
    "::: {.panel-tabset}\n",
    "\n",
    "#### R\n",
    "\n",
    "\n",
    "`redcap_write_oneshot()` and `redcap_write()`\n",
    "\n",
    "Records can be imported into a REDCap project from a dataframe in R using `redcap_write_oneshot()` to write a records all at once, or using `redcap_write()` which can batch the records to be imported so the server is not overwhelmed in the case of large imports. These methods will accept either an R dataframe or tibble containing the data to be imported. \n",
    "\n",
    "If the record_id(s) being imported already exists in the REDCap project, the imported data will overwrite the previously existing data for that record. Using a record_id that does not already exist will create a new record. The `redcap_next_free_record_name()` function will show what the next unused record_id is. If Data Access Groups (DAGs) are used in the project, this method accounts for the special formatting of the record name for users in DAGs where the unique auto-assigned DAG number is a prefix to the actual record_id (e.g., DAG-ID; a user assigned to a DAG numbered 1732 with 3 existing records will return 1732-4)."
   ]
  },
  {
   "cell_type": "code",
   "execution_count": 12,
   "id": "1c77a26d-3ce4-41a1-984f-a1151774cab4",
   "metadata": {
    "tags": []
   },
   "outputs": [],
   "source": [
    "%%capture --no-display \n",
    "%%R\n",
    "# Define data to import\n",
    "df1 <- data.frame(record_id = c(7,8),\n",
    "                  first_name = c(\"John\",\"Jane\"),\n",
    "                  last_name = c(\"Doe\",\"Doe\")\n",
    "                  )"
   ]
  },
  {
   "cell_type": "code",
   "execution_count": 20,
   "id": "999df108-0b48-4f1c-ad61-5f7f1faf86f6",
   "metadata": {
    "tags": []
   },
   "outputs": [
    {
     "name": "stdout",
     "output_type": "stream",
     "text": [
      "$success\n",
      "[1] TRUE\n",
      "\n",
      "$status_code\n",
      "[1] 200\n",
      "\n",
      "$outcome_message\n",
      "[1] \"2 records were written to REDCap in 0.2 seconds.\"\n",
      "\n",
      "$records_affected_count\n",
      "[1] 2\n",
      "\n",
      "$affected_ids\n",
      "[1] \"7\" \"8\"\n",
      "\n",
      "$elapsed_seconds\n",
      "[1] 0.2243779\n",
      "\n",
      "$raw_text\n",
      "[1] \"\"\n",
      "\n"
     ]
    }
   ],
   "source": [
    "%%capture --no-stdout \n",
    "%%R\n",
    "redcap_write_oneshot(df1, redcap_uri=url, token=token)"
   ]
  },
  {
   "cell_type": "code",
   "execution_count": 73,
   "id": "eee2506b-66b6-43a1-a387-6d374db3a330",
   "metadata": {
    "tags": []
   },
   "outputs": [],
   "source": [
    "%%R\n",
    "df2 <- data.frame(record_id = 9,\n",
    "                  first_name = \"John\",\n",
    "                  last_name = \"Doe\"\n",
    "                  )"
   ]
  },
  {
   "cell_type": "code",
   "execution_count": 74,
   "id": "5be13c50-7e62-4854-bff8-b5f26ef581d1",
   "metadata": {
    "tags": []
   },
   "outputs": [
    {
     "name": "stdout",
     "output_type": "stream",
     "text": [
      "$success\n",
      "[1] TRUE\n",
      "\n",
      "$status_code\n",
      "[1] \"200\"\n",
      "\n",
      "$outcome_message\n",
      "[1] \"1 records were written to REDCap in 0.7 seconds.\"\n",
      "\n",
      "$records_affected_count\n",
      "[1] 1\n",
      "\n",
      "$affected_ids\n",
      "[1] \"9\"\n",
      "\n",
      "$elapsed_seconds\n",
      "[1] 1.260039\n",
      "\n"
     ]
    }
   ],
   "source": [
    "%%capture --no-stdout \n",
    "%%R\n",
    "redcap_write(df2, redcap_uri=url, token=token)\n",
    "#optional argument: batch_size = 100 (default)"
   ]
  },
  {
   "cell_type": "code",
   "execution_count": 77,
   "id": "200e7bdb-efa3-4219-bc56-f6a8e31c415a",
   "metadata": {
    "tags": []
   },
   "outputs": [
    {
     "name": "stdout",
     "output_type": "stream",
     "text": [
      "[1] \"14\"\n"
     ]
    }
   ],
   "source": [
    "%%capture --no-stdout \n",
    "%%R\n",
    "redcap_next_free_record_name(redcap_uri=url, token=token)"
   ]
  },
  {
   "cell_type": "markdown",
   "id": "27ccc7ac-2044-42f3-9bab-4da4454c4502",
   "metadata": {},
   "source": [
    "#### Python\n",
    "\n",
    "`import_records()`\n",
    "\n",
    "Data can be imported as a pandas dataframe, json, csv, or xml, specified by the `import_format` argument (default is json).\n",
    "\n",
    "If the record_id(s) being imported already exists in the REDCap project, the imported data will overwrite the previously existing data for that record. Using a record_id that does not already exist will create a new record. The `force_auto_number = 'True'` argument will automatically reassign existing record_ids to new record_ids during import. If set to 'False' and your record id's to import already exist in REDCap, they will overwrite the existing REDCap records during import. \n",
    "\n",
    "The overwrite argument is set to 'normal' by default; under this setting, if blank values are imported for fields on existing REDCap records and that data is not missing in REDCap, these values will not be overwritten as missing. If you want to overwrite existing data as missing, be sure to use `overwrite = 'overwrite'.`"
   ]
  },
  {
   "cell_type": "code",
   "execution_count": 25,
   "id": "e69722ac-716e-4558-83c0-a24799f0a4cf",
   "metadata": {},
   "outputs": [
    {
     "data": {
      "text/plain": [
       "{'count': 2}"
      ]
     },
     "execution_count": 25,
     "metadata": {},
     "output_type": "execute_result"
    }
   ],
   "source": [
    "df_py = [{'record_id': 7,\n",
    "  'redcap_event_name': 'personal_info_arm_1',\n",
    "  'redcap_repeat_instrument': '',\n",
    "  'redcap_repeat_instance': None,\n",
    "  'first_name': 'John',\n",
    "  'last_name': 'Doe'},\n",
    " {'record_id': 8,\n",
    "  'redcap_event_name': 'personal_info_arm_1',\n",
    "  'redcap_repeat_instrument': '',\n",
    "  'redcap_repeat_instance': None,\n",
    "  'first_name': 'Jane',\n",
    "  'last_name': 'Doe'}]\n",
    "\n",
    "project.import_records(df_py, force_auto_number=True)"
   ]
  },
  {
   "cell_type": "markdown",
   "id": "6c5e1209-24c3-4914-9dd5-811e19e0ca69",
   "metadata": {},
   "source": [
    ":::"
   ]
  },
  {
   "cell_type": "markdown",
   "id": "4159a80c-a331-48af-ae66-e4014a813617",
   "metadata": {},
   "source": [
    "## Files - optional attachments to individual records"
   ]
  },
  {
   "cell_type": "markdown",
   "id": "e32a1fbe-0d8c-41da-9fbd-c8051cb107db",
   "metadata": {},
   "source": [
    "File uploads are a unique field type in REDCap that accept a variety of file types, including images and other documents. Unlike other export methods, importing files only works for one file field for one record at a time. \n",
    "\n",
    "If the project has repeating events (i.e. a longitudinal project), the event name must be specified. If the file of interest is in a repeat instance, the instance number must also be specified."
   ]
  },
  {
   "cell_type": "markdown",
   "id": "56112d74-fea6-4b79-854c-442e7cfb7ece",
   "metadata": {},
   "source": [
    "::: {.panel-tabset}\n",
    "\n",
    "#### R\n",
    "\n",
    "`redcap_file_upload_oneshot()`"
   ]
  },
  {
   "cell_type": "code",
   "execution_count": 71,
   "id": "6179c12d-ece0-4e78-8eb9-a5b028ac9618",
   "metadata": {
    "tags": []
   },
   "outputs": [
    {
     "name": "stdout",
     "output_type": "stream",
     "text": [
      "$success\n",
      "[1] TRUE\n",
      "\n",
      "$status_code\n",
      "[1] 200\n",
      "\n",
      "$outcome_message\n",
      "[1] \"file uploaded to REDCap in 1.0 seconds.\"\n",
      "\n",
      "$records_affected_count\n",
      "[1] 1\n",
      "\n",
      "$affected_ids\n",
      "[1] \"7\"\n",
      "\n",
      "$elapsed_seconds\n",
      "[1] 1.024144\n",
      "\n",
      "$raw_text\n",
      "[1] \"\"\n",
      "\n"
     ]
    }
   ],
   "source": [
    "%%capture --no-stdout \n",
    "%%R\n",
    "redcap_file_upload_oneshot(file_name='./files/test_file.png', record=7, field='test_upload', event='case_intake_arm_1', redcap_uri=url, token=token)"
   ]
  },
  {
   "cell_type": "markdown",
   "id": "766110e9-76c5-4f06-89f0-f9de39eba57b",
   "metadata": {},
   "source": [
    "#### Python\n",
    "\n",
    "`import_file()`"
   ]
  },
  {
   "cell_type": "code",
   "execution_count": 28,
   "id": "dddeb9fa-fde3-4415-82b0-4119899185c6",
   "metadata": {},
   "outputs": [
    {
     "data": {
      "text/plain": [
       "[{}]"
      ]
     },
     "execution_count": 28,
     "metadata": {},
     "output_type": "execute_result"
    }
   ],
   "source": [
    "tmp_file = tempfile.TemporaryFile()\n",
    "project.import_file(record=\"7\",\n",
    "                 field=\"test_upload\", \n",
    "                 file_name=\"./files/test_file.png\",\n",
    "                 file_object=tmp_file,\n",
    "                 event=\"case_intake_arm_1\")"
   ]
  },
  {
   "cell_type": "markdown",
   "id": "81b798ce-a440-4d56-95e5-0fdc17210adc",
   "metadata": {},
   "source": [
    ":::"
   ]
  },
  {
   "cell_type": "markdown",
   "id": "6b19d3e9-3a90-4d92-a2d4-dd707aed738d",
   "metadata": {
    "tags": []
   },
   "source": [
    "## Metadata\n",
    "\n",
    "Metadata refers to the project's set up characteristics, including field attributes grouped by instrument assignment. Metadata can be thought of as the project's data dictionary.  \n",
    "\n",
    "In this example, we will export the project metadata and re-import it so that no changes are made to the project."
   ]
  },
  {
   "cell_type": "markdown",
   "id": "9bc696ce-e9ab-4702-8c5c-9422fcc54f51",
   "metadata": {},
   "source": [
    "::: {.panel-tabset}\n",
    "\n",
    "#### R\n",
    "\n",
    "`redcap_metadata_write()`"
   ]
  },
  {
   "cell_type": "code",
   "execution_count": 78,
   "id": "f26de462-69c1-4b5e-b120-2908aaa7c4bb",
   "metadata": {
    "tags": []
   },
   "outputs": [
    {
     "name": "stderr",
     "output_type": "stream",
     "text": [
      "R[write to console]: The data dictionary describing 30 fields was read from REDCap in 0.4 seconds.  The http status code was 200.\n",
      "\n"
     ]
    }
   ],
   "source": [
    "%%R\n",
    "metadata <- redcap_metadata_read(redcap_uri=url, token=token)$data"
   ]
  },
  {
   "cell_type": "markdown",
   "id": "c1213f38-1206-4a20-9f78-ba3f49282cd1",
   "metadata": {},
   "source": [
    "::: {.content-hidden when-format=\"html\"}"
   ]
  },
  {
   "cell_type": "code",
   "execution_count": 33,
   "id": "4154560d-6eac-4cd4-ae3a-ef187da30bbb",
   "metadata": {},
   "outputs": [],
   "source": [
    "%%R\n",
    "tbl<- gt(head(metadata))\n",
    "gt::gtsave(tbl, filename = 'import_metadata.html', path = \"./files/\")"
   ]
  },
  {
   "cell_type": "markdown",
   "id": "65dbb3ed-e25a-41f9-a7c6-da23f04d78ee",
   "metadata": {},
   "source": [
    ":::"
   ]
  },
  {
   "cell_type": "markdown",
   "id": "192c2a17-fc6a-41d5-9a45-2544e0faf797",
   "metadata": {},
   "source": [
    "\n",
    "<iframe width=\"100%\" height=\"500\" src=\"./files/import_metadata.html\" title=\"Quarto Documentation\"></iframe>"
   ]
  },
  {
   "cell_type": "code",
   "execution_count": 79,
   "id": "ffa156c4-f1ba-4709-bded-5a2b9f3d79d8",
   "metadata": {
    "tags": []
   },
   "outputs": [
    {
     "name": "stdout",
     "output_type": "stream",
     "text": [
      "$success\n",
      "[1] TRUE\n",
      "\n",
      "$status_code\n",
      "[1] 200\n",
      "\n",
      "$outcome_message\n",
      "[1] \"30 fields were written to the REDCap dictionary in 0.8 seconds.\"\n",
      "\n",
      "$field_count\n",
      "[1] 30\n",
      "\n",
      "$elapsed_seconds\n",
      "[1] 0.7923529\n",
      "\n",
      "$raw_text\n",
      "[1] \"\"\n",
      "\n"
     ]
    }
   ],
   "source": [
    "%%capture --no-stdout \n",
    "%%R\n",
    "redcap_metadata_write(metadata, redcap_uri=url, token=token)"
   ]
  },
  {
   "cell_type": "markdown",
   "id": "62f4fa6e-0707-4461-97dd-bda8336ec230",
   "metadata": {},
   "source": [
    "#### Python\n",
    "\n",
    "`import_metadata()`"
   ]
  },
  {
   "cell_type": "code",
   "execution_count": 29,
   "id": "69f2744e-6170-49c1-8383-2a0bd621bbba",
   "metadata": {},
   "outputs": [
    {
     "data": {
      "text/plain": [
       "{'field_name': 'record_id',\n",
       " 'form_name': 'demographics',\n",
       " 'section_header': '',\n",
       " 'field_type': 'text',\n",
       " 'field_label': 'Study ID',\n",
       " 'select_choices_or_calculations': '',\n",
       " 'field_note': '',\n",
       " 'text_validation_type_or_show_slider_number': '',\n",
       " 'text_validation_min': '',\n",
       " 'text_validation_max': '',\n",
       " 'identifier': '',\n",
       " 'branching_logic': '',\n",
       " 'required_field': '',\n",
       " 'custom_alignment': '',\n",
       " 'question_number': '',\n",
       " 'matrix_group_name': '',\n",
       " 'matrix_ranking': '',\n",
       " 'field_annotation': ''}"
      ]
     },
     "execution_count": 29,
     "metadata": {},
     "output_type": "execute_result"
    }
   ],
   "source": [
    "metadata = project.metadata\n",
    "metadata[0]"
   ]
  },
  {
   "cell_type": "code",
   "execution_count": 30,
   "id": "b6cc5ed5-bfe1-458f-8a8e-3e4591dfec16",
   "metadata": {},
   "outputs": [
    {
     "data": {
      "text/plain": [
       "30"
      ]
     },
     "execution_count": 30,
     "metadata": {},
     "output_type": "execute_result"
    }
   ],
   "source": [
    "project.import_metadata(to_import=metadata)"
   ]
  },
  {
   "cell_type": "markdown",
   "id": "5df079c8-aa5c-4ff4-9ff7-14965737a8e9",
   "metadata": {},
   "source": [
    ":::"
   ]
  },
  {
   "cell_type": "markdown",
   "id": "7adb65a6-2dc6-43ce-a46b-aea677d71acd",
   "metadata": {},
   "source": [
    "## Instrument Event Map\n",
    "\n",
    "::: {.panel-tabset}\n",
    "\n",
    "#### R\n",
    "\n",
    "Importing this would be covered by the `redcap_metadata_write()` function. *See <a href=\"#Limitations-to-Importing\">Limitations to Importing</a></n> for more.* \n",
    "\n",
    "#### Python\n",
    "\n",
    "`import_instrument_event_mappings()`\n",
    "\n",
    "In this example, we will export the project's instrument-event mapping and re-import it so that no changes are made to the project.  )"
   ]
  },
  {
   "cell_type": "code",
   "execution_count": 36,
   "id": "ed8879d6-9a5b-44ac-bd61-1b0e333e9ef3",
   "metadata": {},
   "outputs": [
    {
     "data": {
      "text/html": [
       "<div>\n",
       "<style scoped>\n",
       "    .dataframe tbody tr th:only-of-type {\n",
       "        vertical-align: middle;\n",
       "    }\n",
       "\n",
       "    .dataframe tbody tr th {\n",
       "        vertical-align: top;\n",
       "    }\n",
       "\n",
       "    .dataframe thead th {\n",
       "        text-align: right;\n",
       "    }\n",
       "</style>\n",
       "<table border=\"1\" class=\"dataframe\">\n",
       "  <thead>\n",
       "    <tr style=\"text-align: right;\">\n",
       "      <th></th>\n",
       "      <th>arm_num</th>\n",
       "      <th>unique_event_name</th>\n",
       "      <th>form</th>\n",
       "    </tr>\n",
       "  </thead>\n",
       "  <tbody>\n",
       "    <tr>\n",
       "      <th>0</th>\n",
       "      <td>1</td>\n",
       "      <td>personal_info_arm_1</td>\n",
       "      <td>demographics</td>\n",
       "    </tr>\n",
       "    <tr>\n",
       "      <th>1</th>\n",
       "      <td>1</td>\n",
       "      <td>case_intake_arm_1</td>\n",
       "      <td>symptoms</td>\n",
       "    </tr>\n",
       "    <tr>\n",
       "      <th>2</th>\n",
       "      <td>1</td>\n",
       "      <td>case_intake_arm_1</td>\n",
       "      <td>test_information</td>\n",
       "    </tr>\n",
       "    <tr>\n",
       "      <th>3</th>\n",
       "      <td>1</td>\n",
       "      <td>notifications_arm_1</td>\n",
       "      <td>close_contacts</td>\n",
       "    </tr>\n",
       "    <tr>\n",
       "      <th>4</th>\n",
       "      <td>1</td>\n",
       "      <td>notifications_arm_1</td>\n",
       "      <td>work_information</td>\n",
       "    </tr>\n",
       "  </tbody>\n",
       "</table>\n",
       "</div>"
      ],
      "text/plain": [
       "   arm_num    unique_event_name              form\n",
       "0        1  personal_info_arm_1      demographics\n",
       "1        1    case_intake_arm_1          symptoms\n",
       "2        1    case_intake_arm_1  test_information\n",
       "3        1  notifications_arm_1    close_contacts\n",
       "4        1  notifications_arm_1  work_information"
      ]
     },
     "execution_count": 36,
     "metadata": {},
     "output_type": "execute_result"
    }
   ],
   "source": [
    "instrument_event_mappings = project.export_instrument_event_mappings(format_type='df')\n",
    "instrument_event_mappings"
   ]
  },
  {
   "cell_type": "code",
   "execution_count": 39,
   "id": "ecbc4873-2559-4202-88d8-732d2a9be5d9",
   "metadata": {},
   "outputs": [
    {
     "data": {
      "text/plain": [
       "5"
      ]
     },
     "execution_count": 39,
     "metadata": {},
     "output_type": "execute_result"
    }
   ],
   "source": [
    "project.import_instrument_event_mappings(instrument_event_mappings, import_format='df')"
   ]
  },
  {
   "cell_type": "markdown",
   "id": "42493b63-17c7-4121-a92c-dcb69ba3c2cc",
   "metadata": {},
   "source": [
    ":::"
   ]
  },
  {
   "cell_type": "markdown",
   "id": "9c993435-9896-4c27-aeb0-33ed965ef0cf",
   "metadata": {},
   "source": [
    "## Users\n",
    "\n",
    "::: {.panel-tabset}\n",
    "\n",
    "#### R\n",
    "\n",
    "Cannot be imported with REDCapR. Can be imported with the native API or uploaded via CSV in REDCap under the `User Rights` application. *See <a href=\"#Limitations-to-Importing\">Limitations to Importing</a></n> for more.* \n",
    "\n",
    "#### Python\n",
    "\n",
    "`import_users()`\n",
    "\n",
    "In this example, we will export the project's users and re-import it so that no changes are made to the project. (Note: attemping to import a user already assigned to a user role will result in an error.)"
   ]
  },
  {
   "cell_type": "code",
   "execution_count": 50,
   "id": "4216d9b4-2829-4dbb-b9aa-c0d0ea77d6f1",
   "metadata": {},
   "outputs": [
    {
     "data": {
      "text/html": [
       "<div>\n",
       "<style scoped>\n",
       "    .dataframe tbody tr th:only-of-type {\n",
       "        vertical-align: middle;\n",
       "    }\n",
       "\n",
       "    .dataframe tbody tr th {\n",
       "        vertical-align: top;\n",
       "    }\n",
       "\n",
       "    .dataframe thead th {\n",
       "        text-align: right;\n",
       "    }\n",
       "</style>\n",
       "<table border=\"1\" class=\"dataframe\">\n",
       "  <thead>\n",
       "    <tr style=\"text-align: right;\">\n",
       "      <th></th>\n",
       "      <th>username</th>\n",
       "      <th>email</th>\n",
       "      <th>firstname</th>\n",
       "      <th>lastname</th>\n",
       "      <th>expiration</th>\n",
       "      <th>data_access_group</th>\n",
       "      <th>data_access_group_id</th>\n",
       "      <th>design</th>\n",
       "      <th>alerts</th>\n",
       "      <th>user_rights</th>\n",
       "      <th>...</th>\n",
       "      <th>mobile_app</th>\n",
       "      <th>mobile_app_download_data</th>\n",
       "      <th>record_create</th>\n",
       "      <th>record_rename</th>\n",
       "      <th>record_delete</th>\n",
       "      <th>lock_records_all_forms</th>\n",
       "      <th>lock_records</th>\n",
       "      <th>lock_records_customization</th>\n",
       "      <th>forms</th>\n",
       "      <th>forms_export</th>\n",
       "    </tr>\n",
       "  </thead>\n",
       "  <tbody>\n",
       "    <tr>\n",
       "      <th>0</th>\n",
       "      <td>alexey.gilman@doh.wa.gov</td>\n",
       "      <td>Alexey.Gilman@doh.wa.gov</td>\n",
       "      <td>Alexey</td>\n",
       "      <td>Gilman</td>\n",
       "      <td>NaN</td>\n",
       "      <td>NaN</td>\n",
       "      <td>NaN</td>\n",
       "      <td>1</td>\n",
       "      <td>1</td>\n",
       "      <td>1</td>\n",
       "      <td>...</td>\n",
       "      <td>1</td>\n",
       "      <td>0</td>\n",
       "      <td>1</td>\n",
       "      <td>1</td>\n",
       "      <td>1</td>\n",
       "      <td>0</td>\n",
       "      <td>0</td>\n",
       "      <td>1</td>\n",
       "      <td>demographics:3,symptoms:1,test_information:1,c...</td>\n",
       "      <td>demographics:1,symptoms:1,test_information:1,c...</td>\n",
       "    </tr>\n",
       "    <tr>\n",
       "      <th>1</th>\n",
       "      <td>caitlin.drover@doh.wa.gov</td>\n",
       "      <td>Caitlin.Drover@doh.wa.gov</td>\n",
       "      <td>Caitlin</td>\n",
       "      <td>Drover</td>\n",
       "      <td>NaN</td>\n",
       "      <td>NaN</td>\n",
       "      <td>NaN</td>\n",
       "      <td>1</td>\n",
       "      <td>1</td>\n",
       "      <td>1</td>\n",
       "      <td>...</td>\n",
       "      <td>1</td>\n",
       "      <td>0</td>\n",
       "      <td>1</td>\n",
       "      <td>1</td>\n",
       "      <td>1</td>\n",
       "      <td>0</td>\n",
       "      <td>0</td>\n",
       "      <td>1</td>\n",
       "      <td>demographics:3,symptoms:1,test_information:1,c...</td>\n",
       "      <td>demographics:1,symptoms:1,test_information:1,c...</td>\n",
       "    </tr>\n",
       "    <tr>\n",
       "      <th>2</th>\n",
       "      <td>emily.pearman@doh.wa.gov</td>\n",
       "      <td>emily.pearman@doh.wa.gov</td>\n",
       "      <td>Emily</td>\n",
       "      <td>Pearman</td>\n",
       "      <td>NaN</td>\n",
       "      <td>NaN</td>\n",
       "      <td>NaN</td>\n",
       "      <td>1</td>\n",
       "      <td>1</td>\n",
       "      <td>1</td>\n",
       "      <td>...</td>\n",
       "      <td>1</td>\n",
       "      <td>1</td>\n",
       "      <td>1</td>\n",
       "      <td>1</td>\n",
       "      <td>1</td>\n",
       "      <td>0</td>\n",
       "      <td>0</td>\n",
       "      <td>0</td>\n",
       "      <td>demographics:1,symptoms:1,test_information:1,c...</td>\n",
       "      <td>demographics:1,symptoms:1,test_information:1,c...</td>\n",
       "    </tr>\n",
       "  </tbody>\n",
       "</table>\n",
       "<p>3 rows × 34 columns</p>\n",
       "</div>"
      ],
      "text/plain": [
       "                    username                      email firstname lastname  \\\n",
       "0   alexey.gilman@doh.wa.gov   Alexey.Gilman@doh.wa.gov    Alexey   Gilman   \n",
       "1  caitlin.drover@doh.wa.gov  Caitlin.Drover@doh.wa.gov   Caitlin   Drover   \n",
       "2   emily.pearman@doh.wa.gov   emily.pearman@doh.wa.gov     Emily  Pearman   \n",
       "\n",
       "   expiration  data_access_group  data_access_group_id  design  alerts  \\\n",
       "0         NaN                NaN                   NaN       1       1   \n",
       "1         NaN                NaN                   NaN       1       1   \n",
       "2         NaN                NaN                   NaN       1       1   \n",
       "\n",
       "   user_rights  ...  mobile_app  mobile_app_download_data  record_create  \\\n",
       "0            1  ...           1                         0              1   \n",
       "1            1  ...           1                         0              1   \n",
       "2            1  ...           1                         1              1   \n",
       "\n",
       "   record_rename  record_delete  lock_records_all_forms  lock_records  \\\n",
       "0              1              1                       0             0   \n",
       "1              1              1                       0             0   \n",
       "2              1              1                       0             0   \n",
       "\n",
       "   lock_records_customization  \\\n",
       "0                           1   \n",
       "1                           1   \n",
       "2                           0   \n",
       "\n",
       "                                               forms  \\\n",
       "0  demographics:3,symptoms:1,test_information:1,c...   \n",
       "1  demographics:3,symptoms:1,test_information:1,c...   \n",
       "2  demographics:1,symptoms:1,test_information:1,c...   \n",
       "\n",
       "                                        forms_export  \n",
       "0  demographics:1,symptoms:1,test_information:1,c...  \n",
       "1  demographics:1,symptoms:1,test_information:1,c...  \n",
       "2  demographics:1,symptoms:1,test_information:1,c...  \n",
       "\n",
       "[3 rows x 34 columns]"
      ]
     },
     "execution_count": 50,
     "metadata": {},
     "output_type": "execute_result"
    }
   ],
   "source": [
    "users = project.export_users(format_type='df')\n",
    "users"
   ]
  },
  {
   "cell_type": "code",
   "execution_count": 51,
   "id": "7cd12b06-5319-4bac-8f4f-4907b290702e",
   "metadata": {},
   "outputs": [
    {
     "data": {
      "text/plain": [
       "3"
      ]
     },
     "execution_count": 51,
     "metadata": {},
     "output_type": "execute_result"
    }
   ],
   "source": [
    "project.import_users(users, import_format='df')"
   ]
  },
  {
   "cell_type": "markdown",
   "id": "cda78107-318c-473b-a87f-c4fc7cf5edbe",
   "metadata": {},
   "source": [
    ":::"
   ]
  },
  {
   "cell_type": "markdown",
   "id": "4a666b01-eb7f-4e68-993f-f086184cca9f",
   "metadata": {},
   "source": [
    "## User Roles\n",
    "\n",
    "::: {.panel-tabset}\n",
    "\n",
    "#### R\n",
    "\n",
    "Cannot be imported with REDCapR. Can be imported with the native API or uploaded via CSV in REDCap under the `User Rights` application. *See <a href=\"#Limitations-to-Importing\">Limitations to Importing</a></n> for more.* \n",
    "\n",
    "#### Python\n",
    "\n",
    "Roles can be imported using `import_user_roles()` and assigned using `import_user_role_assignment()`. "
   ]
  },
  {
   "cell_type": "code",
   "execution_count": 52,
   "id": "846ff2a4-4d99-4e80-b8b1-20d61a4ad2f4",
   "metadata": {},
   "outputs": [
    {
     "data": {
      "text/html": [
       "<div>\n",
       "<style scoped>\n",
       "    .dataframe tbody tr th:only-of-type {\n",
       "        vertical-align: middle;\n",
       "    }\n",
       "\n",
       "    .dataframe tbody tr th {\n",
       "        vertical-align: top;\n",
       "    }\n",
       "\n",
       "    .dataframe thead th {\n",
       "        text-align: right;\n",
       "    }\n",
       "</style>\n",
       "<table border=\"1\" class=\"dataframe\">\n",
       "  <thead>\n",
       "    <tr style=\"text-align: right;\">\n",
       "      <th></th>\n",
       "      <th>unique_role_name</th>\n",
       "      <th>role_label</th>\n",
       "      <th>design</th>\n",
       "      <th>alerts</th>\n",
       "      <th>user_rights</th>\n",
       "      <th>data_access_groups</th>\n",
       "      <th>reports</th>\n",
       "      <th>stats_and_charts</th>\n",
       "      <th>manage_survey_participants</th>\n",
       "      <th>calendar</th>\n",
       "      <th>...</th>\n",
       "      <th>mobile_app</th>\n",
       "      <th>mobile_app_download_data</th>\n",
       "      <th>record_create</th>\n",
       "      <th>record_rename</th>\n",
       "      <th>record_delete</th>\n",
       "      <th>lock_records_customization</th>\n",
       "      <th>lock_records</th>\n",
       "      <th>lock_records_all_forms</th>\n",
       "      <th>forms</th>\n",
       "      <th>forms_export</th>\n",
       "    </tr>\n",
       "  </thead>\n",
       "  <tbody>\n",
       "    <tr>\n",
       "      <th>0</th>\n",
       "      <td>U-131Y8RXN3P</td>\n",
       "      <td>Test Role</td>\n",
       "      <td>0</td>\n",
       "      <td>0</td>\n",
       "      <td>0</td>\n",
       "      <td>0</td>\n",
       "      <td>0</td>\n",
       "      <td>0</td>\n",
       "      <td>0</td>\n",
       "      <td>0</td>\n",
       "      <td>...</td>\n",
       "      <td>0</td>\n",
       "      <td>0</td>\n",
       "      <td>0</td>\n",
       "      <td>0</td>\n",
       "      <td>0</td>\n",
       "      <td>0</td>\n",
       "      <td>0</td>\n",
       "      <td>0</td>\n",
       "      <td>demographics:0,symptoms:0,test_information:0,c...</td>\n",
       "      <td>demographics:0,symptoms:0,test_information:0,c...</td>\n",
       "    </tr>\n",
       "    <tr>\n",
       "      <th>1</th>\n",
       "      <td>U-1564393FT9</td>\n",
       "      <td>Advanced Role</td>\n",
       "      <td>0</td>\n",
       "      <td>1</td>\n",
       "      <td>0</td>\n",
       "      <td>0</td>\n",
       "      <td>0</td>\n",
       "      <td>0</td>\n",
       "      <td>0</td>\n",
       "      <td>0</td>\n",
       "      <td>...</td>\n",
       "      <td>0</td>\n",
       "      <td>0</td>\n",
       "      <td>0</td>\n",
       "      <td>0</td>\n",
       "      <td>0</td>\n",
       "      <td>0</td>\n",
       "      <td>0</td>\n",
       "      <td>0</td>\n",
       "      <td>demographics:0,symptoms:3,test_information:0,c...</td>\n",
       "      <td>demographics:0,symptoms:3,test_information:0,c...</td>\n",
       "    </tr>\n",
       "    <tr>\n",
       "      <th>2</th>\n",
       "      <td>U-5354FA3HYL</td>\n",
       "      <td>Admin</td>\n",
       "      <td>1</td>\n",
       "      <td>1</td>\n",
       "      <td>1</td>\n",
       "      <td>1</td>\n",
       "      <td>1</td>\n",
       "      <td>1</td>\n",
       "      <td>1</td>\n",
       "      <td>1</td>\n",
       "      <td>...</td>\n",
       "      <td>1</td>\n",
       "      <td>0</td>\n",
       "      <td>1</td>\n",
       "      <td>1</td>\n",
       "      <td>1</td>\n",
       "      <td>1</td>\n",
       "      <td>0</td>\n",
       "      <td>0</td>\n",
       "      <td>demographics:3,symptoms:1,test_information:1,c...</td>\n",
       "      <td>demographics:3,symptoms:1,test_information:1,c...</td>\n",
       "    </tr>\n",
       "  </tbody>\n",
       "</table>\n",
       "<p>3 rows × 29 columns</p>\n",
       "</div>"
      ],
      "text/plain": [
       "  unique_role_name     role_label  design  alerts  user_rights  \\\n",
       "0     U-131Y8RXN3P      Test Role       0       0            0   \n",
       "1     U-1564393FT9  Advanced Role       0       1            0   \n",
       "2     U-5354FA3HYL          Admin       1       1            1   \n",
       "\n",
       "   data_access_groups  reports  stats_and_charts  manage_survey_participants  \\\n",
       "0                   0        0                 0                           0   \n",
       "1                   0        0                 0                           0   \n",
       "2                   1        1                 1                           1   \n",
       "\n",
       "   calendar  ...  mobile_app  mobile_app_download_data  record_create  \\\n",
       "0         0  ...           0                         0              0   \n",
       "1         0  ...           0                         0              0   \n",
       "2         1  ...           1                         0              1   \n",
       "\n",
       "   record_rename  record_delete  lock_records_customization  lock_records  \\\n",
       "0              0              0                           0             0   \n",
       "1              0              0                           0             0   \n",
       "2              1              1                           1             0   \n",
       "\n",
       "   lock_records_all_forms                                              forms  \\\n",
       "0                       0  demographics:0,symptoms:0,test_information:0,c...   \n",
       "1                       0  demographics:0,symptoms:3,test_information:0,c...   \n",
       "2                       0  demographics:3,symptoms:1,test_information:1,c...   \n",
       "\n",
       "                                        forms_export  \n",
       "0  demographics:0,symptoms:0,test_information:0,c...  \n",
       "1  demographics:0,symptoms:3,test_information:0,c...  \n",
       "2  demographics:3,symptoms:1,test_information:1,c...  \n",
       "\n",
       "[3 rows x 29 columns]"
      ]
     },
     "execution_count": 52,
     "metadata": {},
     "output_type": "execute_result"
    }
   ],
   "source": [
    "user_roles = project.export_user_roles(format_type='df')\n",
    "user_roles"
   ]
  },
  {
   "cell_type": "markdown",
   "id": "eee9494d-b650-4eee-8b8c-7d49cd611130",
   "metadata": {},
   "source": [
    "Note: the `unique_role_name` is automatically generated by REDCap."
   ]
  },
  {
   "cell_type": "code",
   "execution_count": 55,
   "id": "62eb6406-cadf-4dba-a683-236c843a6eb2",
   "metadata": {},
   "outputs": [
    {
     "data": {
      "text/plain": [
       "3"
      ]
     },
     "execution_count": 55,
     "metadata": {},
     "output_type": "execute_result"
    }
   ],
   "source": [
    "project.import_user_roles(user_roles, import_format='df')"
   ]
  },
  {
   "cell_type": "code",
   "execution_count": 56,
   "id": "ba2912a6-0586-4407-b8ea-3e1232f60f9c",
   "metadata": {},
   "outputs": [
    {
     "data": {
      "text/html": [
       "<div>\n",
       "<style scoped>\n",
       "    .dataframe tbody tr th:only-of-type {\n",
       "        vertical-align: middle;\n",
       "    }\n",
       "\n",
       "    .dataframe tbody tr th {\n",
       "        vertical-align: top;\n",
       "    }\n",
       "\n",
       "    .dataframe thead th {\n",
       "        text-align: right;\n",
       "    }\n",
       "</style>\n",
       "<table border=\"1\" class=\"dataframe\">\n",
       "  <thead>\n",
       "    <tr style=\"text-align: right;\">\n",
       "      <th></th>\n",
       "      <th>username</th>\n",
       "      <th>unique_role_name</th>\n",
       "      <th>data_access_group</th>\n",
       "    </tr>\n",
       "  </thead>\n",
       "  <tbody>\n",
       "    <tr>\n",
       "      <th>0</th>\n",
       "      <td>alexey.gilman@doh.wa.gov</td>\n",
       "      <td>NaN</td>\n",
       "      <td>NaN</td>\n",
       "    </tr>\n",
       "    <tr>\n",
       "      <th>1</th>\n",
       "      <td>caitlin.drover@doh.wa.gov</td>\n",
       "      <td>NaN</td>\n",
       "      <td>NaN</td>\n",
       "    </tr>\n",
       "    <tr>\n",
       "      <th>2</th>\n",
       "      <td>emily.pearman@doh.wa.gov</td>\n",
       "      <td>NaN</td>\n",
       "      <td>NaN</td>\n",
       "    </tr>\n",
       "  </tbody>\n",
       "</table>\n",
       "</div>"
      ],
      "text/plain": [
       "                    username  unique_role_name  data_access_group\n",
       "0   alexey.gilman@doh.wa.gov               NaN                NaN\n",
       "1  caitlin.drover@doh.wa.gov               NaN                NaN\n",
       "2   emily.pearman@doh.wa.gov               NaN                NaN"
      ]
     },
     "execution_count": 56,
     "metadata": {},
     "output_type": "execute_result"
    }
   ],
   "source": [
    "user_role_assign = project.export_user_role_assignment(format_type='df')\n",
    "user_role_assign"
   ]
  },
  {
   "cell_type": "code",
   "execution_count": 59,
   "id": "5b979119-699b-4bc6-be2a-08c407acf7e4",
   "metadata": {},
   "outputs": [
    {
     "data": {
      "text/html": [
       "<div>\n",
       "<style scoped>\n",
       "    .dataframe tbody tr th:only-of-type {\n",
       "        vertical-align: middle;\n",
       "    }\n",
       "\n",
       "    .dataframe tbody tr th {\n",
       "        vertical-align: top;\n",
       "    }\n",
       "\n",
       "    .dataframe thead th {\n",
       "        text-align: right;\n",
       "    }\n",
       "</style>\n",
       "<table border=\"1\" class=\"dataframe\">\n",
       "  <thead>\n",
       "    <tr style=\"text-align: right;\">\n",
       "      <th></th>\n",
       "      <th>username</th>\n",
       "      <th>unique_role_name</th>\n",
       "      <th>data_access_group</th>\n",
       "    </tr>\n",
       "  </thead>\n",
       "  <tbody>\n",
       "    <tr>\n",
       "      <th>0</th>\n",
       "      <td>alexey.gilman@doh.wa.gov</td>\n",
       "      <td>U-5354FA3HYL</td>\n",
       "      <td>NaN</td>\n",
       "    </tr>\n",
       "    <tr>\n",
       "      <th>1</th>\n",
       "      <td>caitlin.drover@doh.wa.gov</td>\n",
       "      <td>NaN</td>\n",
       "      <td>NaN</td>\n",
       "    </tr>\n",
       "    <tr>\n",
       "      <th>2</th>\n",
       "      <td>emily.pearman@doh.wa.gov</td>\n",
       "      <td>NaN</td>\n",
       "      <td>NaN</td>\n",
       "    </tr>\n",
       "  </tbody>\n",
       "</table>\n",
       "</div>"
      ],
      "text/plain": [
       "                    username unique_role_name  data_access_group\n",
       "0   alexey.gilman@doh.wa.gov     U-5354FA3HYL                NaN\n",
       "1  caitlin.drover@doh.wa.gov              NaN                NaN\n",
       "2   emily.pearman@doh.wa.gov              NaN                NaN"
      ]
     },
     "execution_count": 59,
     "metadata": {},
     "output_type": "execute_result"
    }
   ],
   "source": [
    "user_role_assign['unique_role_name'] = user_role_assign['unique_role_name'].astype('str').replace('nan', np.NaN)\n",
    "user_role_assign.loc[0,'unique_role_name'] = 'U-5354FA3HYL'\n",
    "user_role_assign"
   ]
  },
  {
   "cell_type": "code",
   "execution_count": 60,
   "id": "9de2e388-e6f9-4fab-91f0-51394bae9f67",
   "metadata": {},
   "outputs": [
    {
     "data": {
      "text/plain": [
       "3"
      ]
     },
     "execution_count": 60,
     "metadata": {},
     "output_type": "execute_result"
    }
   ],
   "source": [
    "project.import_user_role_assignment(user_role_assign, import_format='df')"
   ]
  },
  {
   "cell_type": "markdown",
   "id": "80edd720-5987-47bb-938d-df89d0ec1ff6",
   "metadata": {},
   "source": [
    ":::"
   ]
  },
  {
   "cell_type": "markdown",
   "id": "1d29dbb0-2d8f-4e85-8f48-30db416c0703",
   "metadata": {},
   "source": [
    "## DAGs\n",
    "\n",
    "::: {.panel-tabset}\n",
    "\n",
    "#### R\n",
    "\n",
    "Cannot be imported with REDCapR. Can be imported with the native API or uploaded via CSV in REDCap under the `DAGs` application. *See <a href=\"#Limitations-to-Importing\">Limitations to Importing</a></n> for more.* \n",
    "\n",
    "#### Python\n",
    "\n",
    "DAGs can be imported using `import_dags()` and assigned using `import_user_dag_assignment()`. If the API user is assigned to multiple DAGs, they can be switched between using `switch_dag()`. "
   ]
  },
  {
   "cell_type": "code",
   "execution_count": 65,
   "id": "bd5f20f6-9405-469a-b1ad-e1e8ebbf26dd",
   "metadata": {},
   "outputs": [
    {
     "data": {
      "text/html": [
       "<div>\n",
       "<style scoped>\n",
       "    .dataframe tbody tr th:only-of-type {\n",
       "        vertical-align: middle;\n",
       "    }\n",
       "\n",
       "    .dataframe tbody tr th {\n",
       "        vertical-align: top;\n",
       "    }\n",
       "\n",
       "    .dataframe thead th {\n",
       "        text-align: right;\n",
       "    }\n",
       "</style>\n",
       "<table border=\"1\" class=\"dataframe\">\n",
       "  <thead>\n",
       "    <tr style=\"text-align: right;\">\n",
       "      <th></th>\n",
       "      <th>data_access_group_name</th>\n",
       "      <th>unique_group_name</th>\n",
       "      <th>data_access_group_id</th>\n",
       "    </tr>\n",
       "  </thead>\n",
       "  <tbody>\n",
       "    <tr>\n",
       "      <th>0</th>\n",
       "      <td>Full Access</td>\n",
       "      <td>full_access</td>\n",
       "      <td>2708</td>\n",
       "    </tr>\n",
       "    <tr>\n",
       "      <th>1</th>\n",
       "      <td>Limited Access</td>\n",
       "      <td>limited_access</td>\n",
       "      <td>2709</td>\n",
       "    </tr>\n",
       "  </tbody>\n",
       "</table>\n",
       "</div>"
      ],
      "text/plain": [
       "  data_access_group_name unique_group_name  data_access_group_id\n",
       "0            Full Access       full_access                  2708\n",
       "1         Limited Access    limited_access                  2709"
      ]
     },
     "execution_count": 65,
     "metadata": {},
     "output_type": "execute_result"
    }
   ],
   "source": [
    "dags = project.export_dags(format_type='df')\n",
    "dags"
   ]
  },
  {
   "cell_type": "code",
   "execution_count": 67,
   "id": "d4f6e7f4-dbcc-47b7-b0a4-4db172cb0b9a",
   "metadata": {},
   "outputs": [
    {
     "data": {
      "text/plain": [
       "1"
      ]
     },
     "execution_count": 67,
     "metadata": {},
     "output_type": "execute_result"
    }
   ],
   "source": [
    "new_dag = [{\"data_access_group_name\": \"Test DAG\", \"unique_group_name\": \"\"}]\n",
    "project.import_dags(new_dag)"
   ]
  },
  {
   "cell_type": "markdown",
   "id": "e58b56dd-d02f-408a-bf96-bfc06a6cf477",
   "metadata": {},
   "source": [
    "Note: the `unique_group_name` field must be left blank as this is auto-generated by REDCap from the `data_access_group_name`."
   ]
  },
  {
   "cell_type": "code",
   "execution_count": 69,
   "id": "081b8ae0-75e8-4c7f-8bf5-71be05370913",
   "metadata": {},
   "outputs": [
    {
     "data": {
      "text/plain": [
       "1"
      ]
     },
     "execution_count": 69,
     "metadata": {},
     "output_type": "execute_result"
    }
   ],
   "source": [
    "dag_mapping = [{\"username\": 'alexey.gilman@doh.wa.gov', \"redcap_data_access_group\": \"full_access\"}]\n",
    "project.import_user_dag_assignment(dag_mapping)"
   ]
  },
  {
   "cell_type": "markdown",
   "id": "c47686a4-be50-4193-846a-faca633c6d90",
   "metadata": {},
   "source": [
    "Note: the `redcap_data_access_group` name when importing is the same as `unique_group_name` when exporting DAGs."
   ]
  },
  {
   "cell_type": "markdown",
   "id": "387ce0a1-024e-42e6-9a4d-a4cede3d7bd5",
   "metadata": {},
   "source": [
    ":::"
   ]
  },
  {
   "cell_type": "markdown",
   "id": "0bc32ad1-c77c-4d66-961a-630a212d6c98",
   "metadata": {
    "tags": []
   },
   "source": [
    "# Data Validations"
   ]
  },
  {
   "cell_type": "markdown",
   "id": "f0b218d9-218c-4812-b18d-e754dc5bf1a4",
   "metadata": {},
   "source": [
    "::: {.panel-tabset}\n",
    "\n",
    "#### R\n",
    "REDCapR has a few data validation functions that can be used to check your data before importing it to your REDCap project. These validations will not be specific to your paricular REDCap project but are general validations that apply to all REDCap projects.  \n",
    "\n",
    "For example, you can check if you have any boolean values (True/False) since REDCap will only accept a raw data import of 0/1 integers. You can also check for duplicates and unique IDs. You can view more details on these data validation functions [here](https://ouhscbbmc.github.io/REDCapR/reference/validate.html).\n",
    ":::"
   ]
  },
  {
   "cell_type": "markdown",
   "id": "040e662d-a492-43d8-aa6f-9a36223b2011",
   "metadata": {
    "tags": []
   },
   "source": [
    "# Appendix"
   ]
  },
  {
   "cell_type": "markdown",
   "id": "7d2641af-4443-4f9e-96bb-078368ff4bd2",
   "metadata": {},
   "source": [
    "## Limitations to Importing \n",
    "\n",
    "::: {.panel-tabset}\n",
    "\n",
    "#### R\n",
    "Field Names <br>\n",
    "- Importing this would be covered by the `redcap_metadata_write()` function. <br>\n",
    "- Can be exported using `redcap_variables()`. <br>\n",
    "\n",
    "Forms/Instruments <br>\n",
    "- Importing this would be covered by the `redcap_metadata_write()` function. <br>\n",
    "- Can be exported using `redcap_instruments()` or downloaded using `redcap_instrument_download()`. <br>\n",
    "\n",
    "Instrument Event Map <br>\n",
    "- Importing this would be covered by the `redcap_metadata_write()` function. <br> \n",
    "- Can be exported using `redcap_event_instruments()`. <br>\n",
    "\n",
    "Reports <br>\n",
    "- Cannot be imported. <br>\n",
    "- Can be exported using `redcap_report()`. <br>\n",
    "\n",
    "Users <br>\n",
    "- Cannot be imported with REDCapR. Can be imported with the native API or uploaded via CSV in REDCap under the `User Rights` application. <br> \n",
    "- Can be exported using `redcap_users_export()`. <br>\n",
    "\n",
    "User Roles <br>\n",
    "- Cannot be imported with REDCapR. Can be imported with the native API or uploaded via CSV in REDCap under the `User Rights` application. <br> \n",
    "- Can be exported using `redcap_users_export()`. <br>\n",
    "\n",
    "Data Access Groups (DAGs) <br>\n",
    "- Cannot be imported with REDCapR. Can be imported with the native API or uploaded via CSV in REDCap under the `DAGs` application. <br> \n",
    "- Can be exported using `redcap_dag_read()`. <br>\n",
    "\n",
    "Logging <br>\n",
    "- Cannot be imported. <br> \n",
    "- Can be exported using `redcap_log_read()`. <br>\n",
    "\n",
    "\n",
    "#### Python\n",
    "Field Names <br>\n",
    "- Importing this would be covered by the `import_metadata()` function. <br>\n",
    "- Can be exported using `export_field_names()`. <br>\n",
    "\n",
    "Forms/Instruments <br>\n",
    "- Importing non-repeating instruments would be covered by the `import_metadata()` function. Repeating instrument/event settings can be imported using the `import_repeating_instruments_events()` function. <br>\n",
    "- Can be exported using `export_instruments()` and `export_repeating_instruments_events()` for the settings. <br>\n",
    "\n",
    "Reports <br>\n",
    "- Cannot be imported. <br>\n",
    "- Can be exported using `export_records()`. <br>\n",
    "\n",
    "Logging <br>\n",
    "- Cannot be imported. <br> \n",
    "- Can be exported using `export_logging()`. <br>\n",
    "\n",
    ":::"
   ]
  },
  {
   "cell_type": "markdown",
   "id": "cceeba34-5aa5-4104-98d9-a7f718ef6509",
   "metadata": {},
   "source": [
    "## Example: Uploading Records from a CSV"
   ]
  },
  {
   "cell_type": "markdown",
   "id": "c19d7573-6d70-4fec-8bcd-dd183f8ce14b",
   "metadata": {},
   "source": [
    "In this example, we have a csv named \"data_to_import.csv\", with records to upload.\n",
    "\n",
    "::: {.panel-tabset}\n",
    "\n",
    "#### R"
   ]
  },
  {
   "cell_type": "code",
   "execution_count": 36,
   "id": "348d64ec-151f-49c0-9432-a855aa1e396b",
   "metadata": {
    "tags": []
   },
   "outputs": [
    {
     "data": {
      "text/html": [
       "<table class=\"dataframe\">\n",
       "<caption>A data.frame: 6 × 50</caption>\n",
       "<thead>\n",
       "\t<tr><th></th><th scope=col>record_id</th><th scope=col>redcap_event_name</th><th scope=col>redcap_repeat_instrument</th><th scope=col>redcap_repeat_instance</th><th scope=col>redcap_survey_identifier</th><th scope=col>demographics_timestamp</th><th scope=col>first_name</th><th scope=col>last_name</th><th scope=col>phone_num</th><th scope=col>zip_code</th><th scope=col>...</th><th scope=col>cc_phone</th><th scope=col>cc_email</th><th scope=col>close_contacts_complete</th><th scope=col>supervisor_name</th><th scope=col>supervisor_email</th><th scope=col>work_inperson_yesno</th><th scope=col>work_date</th><th scope=col>work_contagious</th><th scope=col>work_contagious_calc</th><th scope=col>work_information_complete</th></tr>\n",
       "\t<tr><th></th><th scope=col>&lt;int&gt;</th><th scope=col>&lt;chr&gt;</th><th scope=col>&lt;chr&gt;</th><th scope=col>&lt;int&gt;</th><th scope=col>&lt;lgl&gt;</th><th scope=col>&lt;lgl&gt;</th><th scope=col>&lt;chr&gt;</th><th scope=col>&lt;chr&gt;</th><th scope=col>&lt;chr&gt;</th><th scope=col>&lt;int&gt;</th><th scope=col>...</th><th scope=col>&lt;chr&gt;</th><th scope=col>&lt;chr&gt;</th><th scope=col>&lt;int&gt;</th><th scope=col>&lt;chr&gt;</th><th scope=col>&lt;chr&gt;</th><th scope=col>&lt;int&gt;</th><th scope=col>&lt;chr&gt;</th><th scope=col>&lt;int&gt;</th><th scope=col>&lt;lgl&gt;</th><th scope=col>&lt;int&gt;</th></tr>\n",
       "</thead>\n",
       "<tbody>\n",
       "\t<tr><th scope=row>1</th><td>3</td><td>personal_info_arm_1</td><td>              </td><td>NA</td><td>NA</td><td>NA</td><td>John</td><td>Doe</td><td>(999) 999-9999</td><td>98105</td><td>...</td><td>              </td><td>                    </td><td>NA</td><td>    </td><td></td><td>NA</td><td></td><td>NA</td><td>NA</td><td>NA</td></tr>\n",
       "\t<tr><th scope=row>2</th><td>3</td><td>notifications_arm_1</td><td>              </td><td>NA</td><td>NA</td><td>NA</td><td>    </td><td>   </td><td>              </td><td>   NA</td><td>...</td><td>              </td><td>                    </td><td>NA</td><td>Boss</td><td></td><td> 0</td><td></td><td> 0</td><td>NA</td><td> 2</td></tr>\n",
       "\t<tr><th scope=row>3</th><td>3</td><td>case_intake_arm_1  </td><td>              </td><td> 1</td><td>NA</td><td>NA</td><td>    </td><td>   </td><td>              </td><td>   NA</td><td>...</td><td>              </td><td>                    </td><td>NA</td><td>    </td><td></td><td>NA</td><td></td><td>NA</td><td>NA</td><td>NA</td></tr>\n",
       "\t<tr><th scope=row>4</th><td>3</td><td>notifications_arm_1</td><td>close_contacts</td><td> 1</td><td>NA</td><td>NA</td><td>    </td><td>   </td><td>              </td><td>   NA</td><td>...</td><td>(999) 999-9999</td><td>fake_email@gmail.com</td><td> 2</td><td>    </td><td></td><td>NA</td><td></td><td>NA</td><td>NA</td><td>NA</td></tr>\n",
       "\t<tr><th scope=row>5</th><td>3</td><td>notifications_arm_1</td><td>close_contacts</td><td> 2</td><td>NA</td><td>NA</td><td>    </td><td>   </td><td>              </td><td>   NA</td><td>...</td><td>(999) 999-9999</td><td>fake_email@gmail.com</td><td> 2</td><td>    </td><td></td><td>NA</td><td></td><td>NA</td><td>NA</td><td>NA</td></tr>\n",
       "\t<tr><th scope=row>6</th><td>4</td><td>personal_info_arm_1</td><td>              </td><td>NA</td><td>NA</td><td>NA</td><td>Jane</td><td>Doe</td><td>(999) 999-9999</td><td>98105</td><td>...</td><td>              </td><td>                    </td><td>NA</td><td>    </td><td></td><td>NA</td><td></td><td>NA</td><td>NA</td><td>NA</td></tr>\n",
       "</tbody>\n",
       "</table>\n"
      ],
      "text/latex": [
       "A data.frame: 6 × 50\n",
       "\\begin{tabular}{r|lllllllllllllllllllll}\n",
       "  & record\\_id & redcap\\_event\\_name & redcap\\_repeat\\_instrument & redcap\\_repeat\\_instance & redcap\\_survey\\_identifier & demographics\\_timestamp & first\\_name & last\\_name & phone\\_num & zip\\_code & ... & cc\\_phone & cc\\_email & close\\_contacts\\_complete & supervisor\\_name & supervisor\\_email & work\\_inperson\\_yesno & work\\_date & work\\_contagious & work\\_contagious\\_calc & work\\_information\\_complete\\\\\n",
       "  & <int> & <chr> & <chr> & <int> & <lgl> & <lgl> & <chr> & <chr> & <chr> & <int> & ... & <chr> & <chr> & <int> & <chr> & <chr> & <int> & <chr> & <int> & <lgl> & <int>\\\\\n",
       "\\hline\n",
       "\t1 & 3 & personal\\_info\\_arm\\_1 &                & NA & NA & NA & John & Doe & (999) 999-9999 & 98105 & ... &                &                      & NA &      &  & NA &  & NA & NA & NA\\\\\n",
       "\t2 & 3 & notifications\\_arm\\_1 &                & NA & NA & NA &      &     &                &    NA & ... &                &                      & NA & Boss &  &  0 &  &  0 & NA &  2\\\\\n",
       "\t3 & 3 & case\\_intake\\_arm\\_1   &                &  1 & NA & NA &      &     &                &    NA & ... &                &                      & NA &      &  & NA &  & NA & NA & NA\\\\\n",
       "\t4 & 3 & notifications\\_arm\\_1 & close\\_contacts &  1 & NA & NA &      &     &                &    NA & ... & (999) 999-9999 & fake\\_email@gmail.com &  2 &      &  & NA &  & NA & NA & NA\\\\\n",
       "\t5 & 3 & notifications\\_arm\\_1 & close\\_contacts &  2 & NA & NA &      &     &                &    NA & ... & (999) 999-9999 & fake\\_email@gmail.com &  2 &      &  & NA &  & NA & NA & NA\\\\\n",
       "\t6 & 4 & personal\\_info\\_arm\\_1 &                & NA & NA & NA & Jane & Doe & (999) 999-9999 & 98105 & ... &                &                      & NA &      &  & NA &  & NA & NA & NA\\\\\n",
       "\\end{tabular}\n"
      ],
      "text/markdown": [
       "\n",
       "A data.frame: 6 × 50\n",
       "\n",
       "| <!--/--> | record_id &lt;int&gt; | redcap_event_name &lt;chr&gt; | redcap_repeat_instrument &lt;chr&gt; | redcap_repeat_instance &lt;int&gt; | redcap_survey_identifier &lt;lgl&gt; | demographics_timestamp &lt;lgl&gt; | first_name &lt;chr&gt; | last_name &lt;chr&gt; | phone_num &lt;chr&gt; | zip_code &lt;int&gt; | ... ... | cc_phone &lt;chr&gt; | cc_email &lt;chr&gt; | close_contacts_complete &lt;int&gt; | supervisor_name &lt;chr&gt; | supervisor_email &lt;chr&gt; | work_inperson_yesno &lt;int&gt; | work_date &lt;chr&gt; | work_contagious &lt;int&gt; | work_contagious_calc &lt;lgl&gt; | work_information_complete &lt;int&gt; |\n",
       "|---|---|---|---|---|---|---|---|---|---|---|---|---|---|---|---|---|---|---|---|---|---|\n",
       "| 1 | 3 | personal_info_arm_1 | <!----> | NA | NA | NA | John | Doe | (999) 999-9999 | 98105 | ... | <!----> | <!----> | NA | <!----> | <!----> | NA | <!----> | NA | NA | NA |\n",
       "| 2 | 3 | notifications_arm_1 | <!----> | NA | NA | NA | <!----> | <!----> | <!----> |    NA | ... | <!----> | <!----> | NA | Boss | <!----> |  0 | <!----> |  0 | NA |  2 |\n",
       "| 3 | 3 | case_intake_arm_1   | <!----> |  1 | NA | NA | <!----> | <!----> | <!----> |    NA | ... | <!----> | <!----> | NA | <!----> | <!----> | NA | <!----> | NA | NA | NA |\n",
       "| 4 | 3 | notifications_arm_1 | close_contacts |  1 | NA | NA | <!----> | <!----> | <!----> |    NA | ... | (999) 999-9999 | fake_email@gmail.com |  2 | <!----> | <!----> | NA | <!----> | NA | NA | NA |\n",
       "| 5 | 3 | notifications_arm_1 | close_contacts |  2 | NA | NA | <!----> | <!----> | <!----> |    NA | ... | (999) 999-9999 | fake_email@gmail.com |  2 | <!----> | <!----> | NA | <!----> | NA | NA | NA |\n",
       "| 6 | 4 | personal_info_arm_1 | <!----> | NA | NA | NA | Jane | Doe | (999) 999-9999 | 98105 | ... | <!----> | <!----> | NA | <!----> | <!----> | NA | <!----> | NA | NA | NA |\n",
       "\n"
      ],
      "text/plain": [
       "  record_id redcap_event_name   redcap_repeat_instrument redcap_repeat_instance\n",
       "1 3         personal_info_arm_1                          NA                    \n",
       "2 3         notifications_arm_1                          NA                    \n",
       "3 3         case_intake_arm_1                             1                    \n",
       "4 3         notifications_arm_1 close_contacts            1                    \n",
       "5 3         notifications_arm_1 close_contacts            2                    \n",
       "6 4         personal_info_arm_1                          NA                    \n",
       "  redcap_survey_identifier demographics_timestamp first_name last_name\n",
       "1 NA                       NA                     John       Doe      \n",
       "2 NA                       NA                                         \n",
       "3 NA                       NA                                         \n",
       "4 NA                       NA                                         \n",
       "5 NA                       NA                                         \n",
       "6 NA                       NA                     Jane       Doe      \n",
       "  phone_num      zip_code ... cc_phone       cc_email            \n",
       "1 (999) 999-9999 98105    ...                                    \n",
       "2                   NA    ...                                    \n",
       "3                   NA    ...                                    \n",
       "4                   NA    ... (999) 999-9999 fake_email@gmail.com\n",
       "5                   NA    ... (999) 999-9999 fake_email@gmail.com\n",
       "6 (999) 999-9999 98105    ...                                    \n",
       "  close_contacts_complete supervisor_name supervisor_email work_inperson_yesno\n",
       "1 NA                                                       NA                 \n",
       "2 NA                      Boss                              0                 \n",
       "3 NA                                                       NA                 \n",
       "4  2                                                       NA                 \n",
       "5  2                                                       NA                 \n",
       "6 NA                                                       NA                 \n",
       "  work_date work_contagious work_contagious_calc work_information_complete\n",
       "1           NA              NA                   NA                       \n",
       "2            0              NA                    2                       \n",
       "3           NA              NA                   NA                       \n",
       "4           NA              NA                   NA                       \n",
       "5           NA              NA                   NA                       \n",
       "6           NA              NA                   NA                       "
      ]
     },
     "metadata": {},
     "output_type": "display_data"
    }
   ],
   "source": [
    "%%R\n",
    "df_to_import <- read.csv(\"../files/data_to_import.csv\")\n",
    "head(df_to_import)"
   ]
  },
  {
   "cell_type": "markdown",
   "id": "2ccd12b5-22e0-4526-ad0e-74faab13113e",
   "metadata": {},
   "source": [
    "Because this project is longitudinal with repeat instruments and events, there are multiple rows per record."
   ]
  },
  {
   "cell_type": "code",
   "execution_count": 37,
   "id": "b9af5b97-4604-48a9-b7fd-972cbed48255",
   "metadata": {
    "tags": []
   },
   "outputs": [
    {
     "data": {
      "text/html": [
       "<style>\n",
       ".list-inline {list-style: none; margin:0; padding: 0}\n",
       ".list-inline>li {display: inline-block}\n",
       ".list-inline>li:not(:last-child)::after {content: \"\\00b7\"; padding: 0 .5ex}\n",
       "</style>\n",
       "<ol class=list-inline><li>3</li><li>4</li><li>5</li><li>6</li></ol>\n"
      ],
      "text/latex": [
       "\\begin{enumerate*}\n",
       "\\item 3\n",
       "\\item 4\n",
       "\\item 5\n",
       "\\item 6\n",
       "\\end{enumerate*}\n"
      ],
      "text/markdown": [
       "1. 3\n",
       "2. 4\n",
       "3. 5\n",
       "4. 6\n",
       "\n",
       "\n"
      ],
      "text/plain": [
       "[1] 3 4 5 6"
      ]
     },
     "metadata": {},
     "output_type": "display_data"
    }
   ],
   "source": [
    "%%R\n",
    "# view which record_id's are currently being used in the data set to import. \n",
    "unique(df_to_import$record_id)"
   ]
  },
  {
   "cell_type": "markdown",
   "id": "837c4e58-ce66-4091-aad4-1482c337b9c4",
   "metadata": {},
   "source": [
    "In the dataframe we will import, the record IDs are 3-6. However, these IDs are already exist in the REDCap project and importing this data would overwrite the already exisiting record IDs 3-6. If we want to import these as new records, we will need to rename the record IDs. "
   ]
  },
  {
   "cell_type": "code",
   "execution_count": 38,
   "id": "40a81e23-3a48-4486-8e56-2701dc2ebe39",
   "metadata": {
    "tags": []
   },
   "outputs": [
    {
     "name": "stderr",
     "output_type": "stream",
     "text": [
      "The next free record name in REDCap was successfully determined in 0.4 seconds.  The http status code was 200.  Is is 10.\n",
      "\n"
     ]
    }
   ],
   "source": [
    "%%R\n",
    "# start by getting the next available record_id\n",
    "next_record <- redcap_next_free_record_name(redcap_uri=url, token=token)"
   ]
  },
  {
   "cell_type": "code",
   "execution_count": 39,
   "id": "8347e636-d7c1-4e0f-a13d-4eb93c65c7ac",
   "metadata": {
    "tags": []
   },
   "outputs": [],
   "source": [
    "%%R\n",
    "### sequence the df_to_import records starting at one\n",
    "df_to_import <- df_to_import[order(df_to_import$record_id), , drop = FALSE]\n",
    "df_to_import$seq <- as.numeric(factor(df_to_import$record_id))"
   ]
  },
  {
   "cell_type": "code",
   "execution_count": 40,
   "id": "fdbf5180-d613-4259-8b3b-3b061f8c62ea",
   "metadata": {
    "tags": []
   },
   "outputs": [
    {
     "name": "stderr",
     "output_type": "stream",
     "text": [
      "\u001b[1m\u001b[22m`summarise()` has grouped output by 'record_id'. You can override using the\n",
      "`.groups` argument.\n"
     ]
    },
    {
     "data": {
      "text/html": [
       "<table class=\"dataframe\">\n",
       "<caption>A grouped_df: 4 × 3</caption>\n",
       "<thead>\n",
       "\t<tr><th scope=col>record_id</th><th scope=col>seq</th><th scope=col>n</th></tr>\n",
       "\t<tr><th scope=col>&lt;int&gt;</th><th scope=col>&lt;dbl&gt;</th><th scope=col>&lt;int&gt;</th></tr>\n",
       "</thead>\n",
       "<tbody>\n",
       "\t<tr><td>3</td><td>1</td><td>5</td></tr>\n",
       "\t<tr><td>4</td><td>2</td><td>6</td></tr>\n",
       "\t<tr><td>5</td><td>3</td><td>4</td></tr>\n",
       "\t<tr><td>6</td><td>4</td><td>5</td></tr>\n",
       "</tbody>\n",
       "</table>\n"
      ],
      "text/latex": [
       "A grouped\\_df: 4 × 3\n",
       "\\begin{tabular}{lll}\n",
       " record\\_id & seq & n\\\\\n",
       " <int> & <dbl> & <int>\\\\\n",
       "\\hline\n",
       "\t 3 & 1 & 5\\\\\n",
       "\t 4 & 2 & 6\\\\\n",
       "\t 5 & 3 & 4\\\\\n",
       "\t 6 & 4 & 5\\\\\n",
       "\\end{tabular}\n"
      ],
      "text/markdown": [
       "\n",
       "A grouped_df: 4 × 3\n",
       "\n",
       "| record_id &lt;int&gt; | seq &lt;dbl&gt; | n &lt;int&gt; |\n",
       "|---|---|---|\n",
       "| 3 | 1 | 5 |\n",
       "| 4 | 2 | 6 |\n",
       "| 5 | 3 | 4 |\n",
       "| 6 | 4 | 5 |\n",
       "\n"
      ],
      "text/plain": [
       "  record_id seq n\n",
       "1 3         1   5\n",
       "2 4         2   6\n",
       "3 5         3   4\n",
       "4 6         4   5"
      ]
     },
     "metadata": {},
     "output_type": "display_data"
    }
   ],
   "source": [
    "%%R\n",
    "df_to_import %>% group_by(record_id, seq) %>% summarize(n=n())"
   ]
  },
  {
   "cell_type": "code",
   "execution_count": 41,
   "id": "52844632-51f4-4026-a354-a46624ddafe6",
   "metadata": {
    "tags": []
   },
   "outputs": [
    {
     "data": {
      "text/html": [
       "<style>\n",
       ".list-inline {list-style: none; margin:0; padding: 0}\n",
       ".list-inline>li {display: inline-block}\n",
       ".list-inline>li:not(:last-child)::after {content: \"\\00b7\"; padding: 0 .5ex}\n",
       "</style>\n",
       "<ol class=list-inline><li>10</li><li>11</li><li>12</li><li>13</li></ol>\n"
      ],
      "text/latex": [
       "\\begin{enumerate*}\n",
       "\\item 10\n",
       "\\item 11\n",
       "\\item 12\n",
       "\\item 13\n",
       "\\end{enumerate*}\n"
      ],
      "text/markdown": [
       "1. 10\n",
       "2. 11\n",
       "3. 12\n",
       "4. 13\n",
       "\n",
       "\n"
      ],
      "text/plain": [
       "[1] 10 11 12 13"
      ]
     },
     "metadata": {},
     "output_type": "display_data"
    }
   ],
   "source": [
    "%%R\n",
    "# Adjust record IDs to start at the next available record_id\n",
    "df_to_import$record_id <- as.numeric(df_to_import$seq) + (as.numeric(next_record)-1)\n",
    "unique(df_to_import$record_id)"
   ]
  },
  {
   "cell_type": "markdown",
   "id": "afbcecc8-dccd-4973-afba-2a58d427cf14",
   "metadata": {},
   "source": [
    "The record ID's have been changed to new IDs that don't already exist in the REDCap project."
   ]
  },
  {
   "cell_type": "code",
   "execution_count": 42,
   "id": "6bc6621c-ed87-4083-bd77-4700ed1b9f24",
   "metadata": {
    "tags": []
   },
   "outputs": [],
   "source": [
    "%%R\n",
    "# Remove the seq var that was created above\n",
    "df_to_import <- df_to_import %>% select(-seq)"
   ]
  },
  {
   "cell_type": "markdown",
   "id": "adde0f7b-b0d3-4615-9f2a-cac4c20ed2fb",
   "metadata": {},
   "source": [
    "Date fields in REDCap are character fields with a designated date validation added. There are many different types of date validations/formats that can be chosen for a date field. All date fields must be imported to REDCap only in the Y-M-D format, regardless of the specific date format designated for this field in the REDCap project. Below is an example on how to use the project metadata to isolate and format all date fields before importing data. "
   ]
  },
  {
   "cell_type": "code",
   "execution_count": 29,
   "id": "66bef81c-bff9-4368-a5d6-b10c6069a837",
   "metadata": {
    "tags": []
   },
   "outputs": [
    {
     "name": "stderr",
     "output_type": "stream",
     "text": [
      "The data dictionary describing 30 fields was read from REDCap in 2.2 seconds.  The http status code was 200.\n",
      "\n"
     ]
    }
   ],
   "source": [
    "%%R\n",
    "# Export metadata\n",
    "metadata <- redcap_metadata_read(redcap_uri = url, token = token)$data"
   ]
  },
  {
   "cell_type": "code",
   "execution_count": 30,
   "id": "221cdc08-a008-4a8a-848d-dc7f12ef1a5b",
   "metadata": {
    "tags": []
   },
   "outputs": [
    {
     "data": {
      "text/html": [
       "<table class=\"dataframe\">\n",
       "<caption>A tibble: 6 × 18</caption>\n",
       "<thead>\n",
       "\t<tr><th scope=col>field_name</th><th scope=col>form_name</th><th scope=col>section_header</th><th scope=col>field_type</th><th scope=col>field_label</th><th scope=col>select_choices_or_calculations</th><th scope=col>field_note</th><th scope=col>text_validation_type_or_show_slider_number</th><th scope=col>text_validation_min</th><th scope=col>text_validation_max</th><th scope=col>identifier</th><th scope=col>branching_logic</th><th scope=col>required_field</th><th scope=col>custom_alignment</th><th scope=col>question_number</th><th scope=col>matrix_group_name</th><th scope=col>matrix_ranking</th><th scope=col>field_annotation</th></tr>\n",
       "\t<tr><th scope=col>&lt;chr&gt;</th><th scope=col>&lt;chr&gt;</th><th scope=col>&lt;chr&gt;</th><th scope=col>&lt;chr&gt;</th><th scope=col>&lt;chr&gt;</th><th scope=col>&lt;chr&gt;</th><th scope=col>&lt;chr&gt;</th><th scope=col>&lt;chr&gt;</th><th scope=col>&lt;chr&gt;</th><th scope=col>&lt;chr&gt;</th><th scope=col>&lt;chr&gt;</th><th scope=col>&lt;chr&gt;</th><th scope=col>&lt;chr&gt;</th><th scope=col>&lt;chr&gt;</th><th scope=col>&lt;chr&gt;</th><th scope=col>&lt;chr&gt;</th><th scope=col>&lt;chr&gt;</th><th scope=col>&lt;chr&gt;</th></tr>\n",
       "</thead>\n",
       "<tbody>\n",
       "\t<tr><td>record_id </td><td>demographics</td><td>NA                  </td><td>text</td><td>Study ID     </td><td>NA</td><td>NA</td><td>NA      </td><td>NA   </td><td>NA   </td><td>NA</td><td>NA</td><td>NA</td><td>NA</td><td>NA</td><td>NA</td><td>NA</td><td>NA</td></tr>\n",
       "\t<tr><td>first_name</td><td>demographics</td><td>Personal Information</td><td>text</td><td>First Name   </td><td>NA</td><td>NA</td><td>NA      </td><td>NA   </td><td>NA   </td><td>NA</td><td>NA</td><td>NA</td><td>NA</td><td>NA</td><td>NA</td><td>NA</td><td>NA</td></tr>\n",
       "\t<tr><td>last_name </td><td>demographics</td><td>NA                  </td><td>text</td><td>Last Name    </td><td>NA</td><td>NA</td><td>NA      </td><td>NA   </td><td>NA   </td><td>NA</td><td>NA</td><td>NA</td><td>NA</td><td>NA</td><td>NA</td><td>NA</td><td>NA</td></tr>\n",
       "\t<tr><td>phone_num </td><td>demographics</td><td>NA                  </td><td>text</td><td>Phone Number </td><td>NA</td><td>NA</td><td>phone   </td><td>NA   </td><td>NA   </td><td>NA</td><td>NA</td><td>NA</td><td>NA</td><td>NA</td><td>NA</td><td>NA</td><td>NA</td></tr>\n",
       "\t<tr><td>zip_code  </td><td>demographics</td><td>NA                  </td><td>text</td><td>ZIP Code     </td><td>NA</td><td>NA</td><td>integer </td><td>10001</td><td>99999</td><td>y </td><td>NA</td><td>NA</td><td>NA</td><td>NA</td><td>NA</td><td>NA</td><td>NA</td></tr>\n",
       "\t<tr><td>dob       </td><td>demographics</td><td>NA                  </td><td>text</td><td>Date of birth</td><td>NA</td><td>NA</td><td>date_mdy</td><td>NA   </td><td>NA   </td><td>y </td><td>NA</td><td>NA</td><td>NA</td><td>NA</td><td>NA</td><td>NA</td><td>NA</td></tr>\n",
       "</tbody>\n",
       "</table>\n"
      ],
      "text/latex": [
       "A tibble: 6 × 18\n",
       "\\begin{tabular}{llllllllllllllllll}\n",
       " field\\_name & form\\_name & section\\_header & field\\_type & field\\_label & select\\_choices\\_or\\_calculations & field\\_note & text\\_validation\\_type\\_or\\_show\\_slider\\_number & text\\_validation\\_min & text\\_validation\\_max & identifier & branching\\_logic & required\\_field & custom\\_alignment & question\\_number & matrix\\_group\\_name & matrix\\_ranking & field\\_annotation\\\\\n",
       " <chr> & <chr> & <chr> & <chr> & <chr> & <chr> & <chr> & <chr> & <chr> & <chr> & <chr> & <chr> & <chr> & <chr> & <chr> & <chr> & <chr> & <chr>\\\\\n",
       "\\hline\n",
       "\t record\\_id  & demographics & NA                   & text & Study ID      & NA & NA & NA       & NA    & NA    & NA & NA & NA & NA & NA & NA & NA & NA\\\\\n",
       "\t first\\_name & demographics & Personal Information & text & First Name    & NA & NA & NA       & NA    & NA    & NA & NA & NA & NA & NA & NA & NA & NA\\\\\n",
       "\t last\\_name  & demographics & NA                   & text & Last Name     & NA & NA & NA       & NA    & NA    & NA & NA & NA & NA & NA & NA & NA & NA\\\\\n",
       "\t phone\\_num  & demographics & NA                   & text & Phone Number  & NA & NA & phone    & NA    & NA    & NA & NA & NA & NA & NA & NA & NA & NA\\\\\n",
       "\t zip\\_code   & demographics & NA                   & text & ZIP Code      & NA & NA & integer  & 10001 & 99999 & y  & NA & NA & NA & NA & NA & NA & NA\\\\\n",
       "\t dob        & demographics & NA                   & text & Date of birth & NA & NA & date\\_mdy & NA    & NA    & y  & NA & NA & NA & NA & NA & NA & NA\\\\\n",
       "\\end{tabular}\n"
      ],
      "text/markdown": [
       "\n",
       "A tibble: 6 × 18\n",
       "\n",
       "| field_name &lt;chr&gt; | form_name &lt;chr&gt; | section_header &lt;chr&gt; | field_type &lt;chr&gt; | field_label &lt;chr&gt; | select_choices_or_calculations &lt;chr&gt; | field_note &lt;chr&gt; | text_validation_type_or_show_slider_number &lt;chr&gt; | text_validation_min &lt;chr&gt; | text_validation_max &lt;chr&gt; | identifier &lt;chr&gt; | branching_logic &lt;chr&gt; | required_field &lt;chr&gt; | custom_alignment &lt;chr&gt; | question_number &lt;chr&gt; | matrix_group_name &lt;chr&gt; | matrix_ranking &lt;chr&gt; | field_annotation &lt;chr&gt; |\n",
       "|---|---|---|---|---|---|---|---|---|---|---|---|---|---|---|---|---|---|\n",
       "| record_id  | demographics | NA                   | text | Study ID      | NA | NA | NA       | NA    | NA    | NA | NA | NA | NA | NA | NA | NA | NA |\n",
       "| first_name | demographics | Personal Information | text | First Name    | NA | NA | NA       | NA    | NA    | NA | NA | NA | NA | NA | NA | NA | NA |\n",
       "| last_name  | demographics | NA                   | text | Last Name     | NA | NA | NA       | NA    | NA    | NA | NA | NA | NA | NA | NA | NA | NA |\n",
       "| phone_num  | demographics | NA                   | text | Phone Number  | NA | NA | phone    | NA    | NA    | NA | NA | NA | NA | NA | NA | NA | NA |\n",
       "| zip_code   | demographics | NA                   | text | ZIP Code      | NA | NA | integer  | 10001 | 99999 | y  | NA | NA | NA | NA | NA | NA | NA |\n",
       "| dob        | demographics | NA                   | text | Date of birth | NA | NA | date_mdy | NA    | NA    | y  | NA | NA | NA | NA | NA | NA | NA |\n",
       "\n"
      ],
      "text/plain": [
       "  field_name form_name    section_header       field_type field_label  \n",
       "1 record_id  demographics NA                   text       Study ID     \n",
       "2 first_name demographics Personal Information text       First Name   \n",
       "3 last_name  demographics NA                   text       Last Name    \n",
       "4 phone_num  demographics NA                   text       Phone Number \n",
       "5 zip_code   demographics NA                   text       ZIP Code     \n",
       "6 dob        demographics NA                   text       Date of birth\n",
       "  select_choices_or_calculations field_note\n",
       "1 NA                             NA        \n",
       "2 NA                             NA        \n",
       "3 NA                             NA        \n",
       "4 NA                             NA        \n",
       "5 NA                             NA        \n",
       "6 NA                             NA        \n",
       "  text_validation_type_or_show_slider_number text_validation_min\n",
       "1 NA                                         NA                 \n",
       "2 NA                                         NA                 \n",
       "3 NA                                         NA                 \n",
       "4 phone                                      NA                 \n",
       "5 integer                                    10001              \n",
       "6 date_mdy                                   NA                 \n",
       "  text_validation_max identifier branching_logic required_field\n",
       "1 NA                  NA         NA              NA            \n",
       "2 NA                  NA         NA              NA            \n",
       "3 NA                  NA         NA              NA            \n",
       "4 NA                  NA         NA              NA            \n",
       "5 99999               y          NA              NA            \n",
       "6 NA                  y          NA              NA            \n",
       "  custom_alignment question_number matrix_group_name matrix_ranking\n",
       "1 NA               NA              NA                NA            \n",
       "2 NA               NA              NA                NA            \n",
       "3 NA               NA              NA                NA            \n",
       "4 NA               NA              NA                NA            \n",
       "5 NA               NA              NA                NA            \n",
       "6 NA               NA              NA                NA            \n",
       "  field_annotation\n",
       "1 NA              \n",
       "2 NA              \n",
       "3 NA              \n",
       "4 NA              \n",
       "5 NA              \n",
       "6 NA              "
      ]
     },
     "metadata": {},
     "output_type": "display_data"
    }
   ],
   "source": [
    "%%R\n",
    "head(metadata)"
   ]
  },
  {
   "cell_type": "markdown",
   "id": "76453e42-36c4-445c-9d71-012a56f596fc",
   "metadata": {},
   "source": [
    "Note that the 'text_validation_type_or_show_slider_number' field in the metadata is where the date format is specified. "
   ]
  },
  {
   "cell_type": "code",
   "execution_count": 31,
   "id": "0405e8da-51de-4302-96e8-c38b6a07e17a",
   "metadata": {
    "tags": []
   },
   "outputs": [
    {
     "data": {
      "text/html": [
       "<style>\n",
       ".list-inline {list-style: none; margin:0; padding: 0}\n",
       ".list-inline>li {display: inline-block}\n",
       ".list-inline>li:not(:last-child)::after {content: \"\\00b7\"; padding: 0 .5ex}\n",
       "</style>\n",
       "<ol class=list-inline><li>NA</li><li>NA</li><li>NA</li><li>'phone'</li><li>'integer'</li><li>'date_mdy'</li><li>NA</li><li>NA</li><li>NA</li><li>NA</li><li>NA</li><li>'date_mdy'</li><li>NA</li><li>NA</li><li>NA</li><li>NA</li><li>'date_mdy'</li><li>NA</li><li>NA</li><li>'date_mdy'</li><li>NA</li><li>'date_mdy'</li><li>'phone'</li><li>'email'</li><li>NA</li><li>'email'</li><li>NA</li><li>'date_mdy'</li><li>NA</li><li>NA</li></ol>\n"
      ],
      "text/latex": [
       "\\begin{enumerate*}\n",
       "\\item NA\n",
       "\\item NA\n",
       "\\item NA\n",
       "\\item 'phone'\n",
       "\\item 'integer'\n",
       "\\item 'date\\_mdy'\n",
       "\\item NA\n",
       "\\item NA\n",
       "\\item NA\n",
       "\\item NA\n",
       "\\item NA\n",
       "\\item 'date\\_mdy'\n",
       "\\item NA\n",
       "\\item NA\n",
       "\\item NA\n",
       "\\item NA\n",
       "\\item 'date\\_mdy'\n",
       "\\item NA\n",
       "\\item NA\n",
       "\\item 'date\\_mdy'\n",
       "\\item NA\n",
       "\\item 'date\\_mdy'\n",
       "\\item 'phone'\n",
       "\\item 'email'\n",
       "\\item NA\n",
       "\\item 'email'\n",
       "\\item NA\n",
       "\\item 'date\\_mdy'\n",
       "\\item NA\n",
       "\\item NA\n",
       "\\end{enumerate*}\n"
      ],
      "text/markdown": [
       "1. NA\n",
       "2. NA\n",
       "3. NA\n",
       "4. 'phone'\n",
       "5. 'integer'\n",
       "6. 'date_mdy'\n",
       "7. NA\n",
       "8. NA\n",
       "9. NA\n",
       "10. NA\n",
       "11. NA\n",
       "12. 'date_mdy'\n",
       "13. NA\n",
       "14. NA\n",
       "15. NA\n",
       "16. NA\n",
       "17. 'date_mdy'\n",
       "18. NA\n",
       "19. NA\n",
       "20. 'date_mdy'\n",
       "21. NA\n",
       "22. 'date_mdy'\n",
       "23. 'phone'\n",
       "24. 'email'\n",
       "25. NA\n",
       "26. 'email'\n",
       "27. NA\n",
       "28. 'date_mdy'\n",
       "29. NA\n",
       "30. NA\n",
       "\n",
       "\n"
      ],
      "text/plain": [
       " [1] NA         NA         NA         \"phone\"    \"integer\"  \"date_mdy\"\n",
       " [7] NA         NA         NA         NA         NA         \"date_mdy\"\n",
       "[13] NA         NA         NA         NA         \"date_mdy\" NA        \n",
       "[19] NA         \"date_mdy\" NA         \"date_mdy\" \"phone\"    \"email\"   \n",
       "[25] NA         \"email\"    NA         \"date_mdy\" NA         NA        "
      ]
     },
     "metadata": {},
     "output_type": "display_data"
    }
   ],
   "source": [
    "%%R\n",
    "metadata$text_validation_type_or_show_slider_number"
   ]
  },
  {
   "cell_type": "code",
   "execution_count": 32,
   "id": "700788a9-6798-4984-bf41-07810052c37f",
   "metadata": {
    "tags": []
   },
   "outputs": [],
   "source": [
    "%%R\n",
    "# Isolate all field_names in the metadata that have any date validation \n",
    "date_fields <- metadata %>% filter(grepl(\"date\", text_validation_type_or_show_slider_number)) %>% select(field_name)"
   ]
  },
  {
   "cell_type": "code",
   "execution_count": 33,
   "id": "6ec5c97c-7a1e-4101-b21e-f4c254d72455",
   "metadata": {
    "tags": []
   },
   "outputs": [
    {
     "data": {
      "text/html": [
       "<style>\n",
       ".list-inline {list-style: none; margin:0; padding: 0}\n",
       ".list-inline>li {display: inline-block}\n",
       ".list-inline>li:not(:last-child)::after {content: \"\\00b7\"; padding: 0 .5ex}\n",
       "</style>\n",
       "<ol class=list-inline><li>'dob'</li><li>'symptom_onset'</li><li>'test_positive_date'</li><li>'prior_covid_date'</li><li>'cc_date'</li><li>'work_date'</li></ol>\n"
      ],
      "text/latex": [
       "\\begin{enumerate*}\n",
       "\\item 'dob'\n",
       "\\item 'symptom\\_onset'\n",
       "\\item 'test\\_positive\\_date'\n",
       "\\item 'prior\\_covid\\_date'\n",
       "\\item 'cc\\_date'\n",
       "\\item 'work\\_date'\n",
       "\\end{enumerate*}\n"
      ],
      "text/markdown": [
       "1. 'dob'\n",
       "2. 'symptom_onset'\n",
       "3. 'test_positive_date'\n",
       "4. 'prior_covid_date'\n",
       "5. 'cc_date'\n",
       "6. 'work_date'\n",
       "\n",
       "\n"
      ],
      "text/plain": [
       "[1] \"dob\"                \"symptom_onset\"      \"test_positive_date\"\n",
       "[4] \"prior_covid_date\"   \"cc_date\"            \"work_date\"         "
      ]
     },
     "metadata": {},
     "output_type": "display_data"
    }
   ],
   "source": [
    "%%R\n",
    "# Make a list of all the date fields\n",
    "date_list <- (date_fields$field_name)\n",
    "date_list"
   ]
  },
  {
   "cell_type": "code",
   "execution_count": 44,
   "id": "afbaac06-abcf-4e84-b29e-2066e22273c7",
   "metadata": {
    "tags": []
   },
   "outputs": [],
   "source": [
    "%%R\n",
    "# mutate across all date fields to get the desired Y-M-D format.  \n",
    "df_to_import2 <- df_to_import %>%\n",
    "  mutate(across(all_of(date_list), ~as.Date(., \"%m/%d/%Y\" )))"
   ]
  },
  {
   "cell_type": "code",
   "execution_count": 45,
   "id": "f794b32a-cf8a-47c0-b780-e397145039ac",
   "metadata": {
    "tags": []
   },
   "outputs": [
    {
     "name": "stdout",
     "output_type": "stream",
     "text": [
      " [1] NA           NA           \"2023-10-10\" NA           NA          \n",
      " [6] NA           NA           \"2023-10-12\" \"2021-06-07\" NA          \n",
      "[11] NA           NA           NA           NA           NA          \n",
      "[16] NA           NA           \"2023-10-03\" NA           NA          \n"
     ]
    }
   ],
   "source": [
    "%%R\n",
    "print(df_to_import2$test_positive_date)"
   ]
  },
  {
   "cell_type": "code",
   "execution_count": 46,
   "id": "b1227974-e130-4658-bf7b-c470b20ae964",
   "metadata": {
    "tags": []
   },
   "outputs": [
    {
     "name": "stderr",
     "output_type": "stream",
     "text": [
      "Starting to update 20 records to be written at 2024-03-20 10:19:47.\n",
      "\n",
      "Writing batch 1 of 1, with indices 1 through 20.\n",
      "\n",
      "4 records were written to REDCap in 2.1 seconds.\n",
      "\n"
     ]
    },
    {
     "data": {
      "text/html": [
       "<dl>\n",
       "\t<dt>$success</dt>\n",
       "\t\t<dd>TRUE</dd>\n",
       "\t<dt>$status_code</dt>\n",
       "\t\t<dd>'200'</dd>\n",
       "\t<dt>$outcome_message</dt>\n",
       "\t\t<dd>'4 records were written to REDCap in 2.1 seconds.'</dd>\n",
       "\t<dt>$records_affected_count</dt>\n",
       "\t\t<dd>4</dd>\n",
       "\t<dt>$affected_ids</dt>\n",
       "\t\t<dd><style>\n",
       ".list-inline {list-style: none; margin:0; padding: 0}\n",
       ".list-inline>li {display: inline-block}\n",
       ".list-inline>li:not(:last-child)::after {content: \"\\00b7\"; padding: 0 .5ex}\n",
       "</style>\n",
       "<ol class=list-inline><li>'10'</li><li>'11'</li><li>'12'</li><li>'13'</li></ol>\n",
       "</dd>\n",
       "\t<dt>$elapsed_seconds</dt>\n",
       "\t\t<dd>2.58322691917419</dd>\n",
       "</dl>\n"
      ],
      "text/latex": [
       "\\begin{description}\n",
       "\\item[\\$success] TRUE\n",
       "\\item[\\$status\\_code] '200'\n",
       "\\item[\\$outcome\\_message] '4 records were written to REDCap in 2.1 seconds.'\n",
       "\\item[\\$records\\_affected\\_count] 4\n",
       "\\item[\\$affected\\_ids] \\begin{enumerate*}\n",
       "\\item '10'\n",
       "\\item '11'\n",
       "\\item '12'\n",
       "\\item '13'\n",
       "\\end{enumerate*}\n",
       "\n",
       "\\item[\\$elapsed\\_seconds] 2.58322691917419\n",
       "\\end{description}\n"
      ],
      "text/markdown": [
       "$success\n",
       ":   TRUE\n",
       "$status_code\n",
       ":   '200'\n",
       "$outcome_message\n",
       ":   '4 records were written to REDCap in 2.1 seconds.'\n",
       "$records_affected_count\n",
       ":   4\n",
       "$affected_ids\n",
       ":   1. '10'\n",
       "2. '11'\n",
       "3. '12'\n",
       "4. '13'\n",
       "\n",
       "\n",
       "\n",
       "$elapsed_seconds\n",
       ":   2.58322691917419\n",
       "\n",
       "\n"
      ],
      "text/plain": [
       "$success\n",
       "[1] TRUE\n",
       "\n",
       "$status_code\n",
       "[1] \"200\"\n",
       "\n",
       "$outcome_message\n",
       "[1] \"4 records were written to REDCap in 2.1 seconds.\"\n",
       "\n",
       "$records_affected_count\n",
       "[1] 4\n",
       "\n",
       "$affected_ids\n",
       "[1] \"10\" \"11\" \"12\" \"13\"\n",
       "\n",
       "$elapsed_seconds\n",
       "[1] 2.583227\n"
      ]
     },
     "metadata": {},
     "output_type": "display_data"
    }
   ],
   "source": [
    "%%R\n",
    "# Import the new records\n",
    "redcap_write(df_to_import2, redcap_uri=url, token=token)"
   ]
  },
  {
   "cell_type": "markdown",
   "id": "73f9d017-3635-4b19-8815-40d27f03697a",
   "metadata": {},
   "source": [
    "#### Python\n",
    "\n",
    "When reading a csv as a pandas dataframe, python will take any numeric column with missing data and convert them to [float with NaN inserted](https://stackoverflow.com/questions/39666308/pd-read-csv-by-default-treats-integers-like-floats) in the blank cells. In longitudinal projects, we expect lots of blank cells since data is wide and for each row, only columns relevant to that event/instrument are filled out. Many of REDCap's field types (checkbox, yes/no, radio, and form_complete variables) are integers. Pandas will convert these columns to float variables with a decimal place added (i.e. 1.0 instead of 1 for 'Yes' in a yes/no field) and import to these integer field types in REDCap will fail."
   ]
  },
  {
   "cell_type": "code",
   "execution_count": 31,
   "id": "fea6ebfb-f2cd-4cc9-8362-de0e72359c32",
   "metadata": {},
   "outputs": [
    {
     "data": {
      "text/html": [
       "<div>\n",
       "<style scoped>\n",
       "    .dataframe tbody tr th:only-of-type {\n",
       "        vertical-align: middle;\n",
       "    }\n",
       "\n",
       "    .dataframe tbody tr th {\n",
       "        vertical-align: top;\n",
       "    }\n",
       "\n",
       "    .dataframe thead th {\n",
       "        text-align: right;\n",
       "    }\n",
       "</style>\n",
       "<table border=\"1\" class=\"dataframe\">\n",
       "  <thead>\n",
       "    <tr style=\"text-align: right;\">\n",
       "      <th></th>\n",
       "      <th>record_id</th>\n",
       "      <th>redcap_event_name</th>\n",
       "      <th>redcap_repeat_instrument</th>\n",
       "      <th>redcap_repeat_instance</th>\n",
       "      <th>redcap_survey_identifier</th>\n",
       "      <th>demographics_timestamp</th>\n",
       "      <th>first_name</th>\n",
       "      <th>last_name</th>\n",
       "      <th>phone_num</th>\n",
       "      <th>zip_code</th>\n",
       "      <th>...</th>\n",
       "      <th>cc_phone</th>\n",
       "      <th>cc_email</th>\n",
       "      <th>close_contacts_complete</th>\n",
       "      <th>supervisor_name</th>\n",
       "      <th>supervisor_email</th>\n",
       "      <th>work_inperson_yesno</th>\n",
       "      <th>work_date</th>\n",
       "      <th>work_contagious</th>\n",
       "      <th>work_contagious_calc</th>\n",
       "      <th>work_information_complete</th>\n",
       "    </tr>\n",
       "  </thead>\n",
       "  <tbody>\n",
       "    <tr>\n",
       "      <th>0</th>\n",
       "      <td>3</td>\n",
       "      <td>personal_info_arm_1</td>\n",
       "      <td>NaN</td>\n",
       "      <td>NaN</td>\n",
       "      <td>NaN</td>\n",
       "      <td>NaN</td>\n",
       "      <td>John</td>\n",
       "      <td>Doe</td>\n",
       "      <td>(999) 999-9999</td>\n",
       "      <td>98105.0</td>\n",
       "      <td>...</td>\n",
       "      <td>NaN</td>\n",
       "      <td>NaN</td>\n",
       "      <td>NaN</td>\n",
       "      <td>NaN</td>\n",
       "      <td>NaN</td>\n",
       "      <td>NaN</td>\n",
       "      <td>NaN</td>\n",
       "      <td>NaN</td>\n",
       "      <td>NaN</td>\n",
       "      <td>NaN</td>\n",
       "    </tr>\n",
       "    <tr>\n",
       "      <th>1</th>\n",
       "      <td>3</td>\n",
       "      <td>notifications_arm_1</td>\n",
       "      <td>NaN</td>\n",
       "      <td>NaN</td>\n",
       "      <td>NaN</td>\n",
       "      <td>NaN</td>\n",
       "      <td>NaN</td>\n",
       "      <td>NaN</td>\n",
       "      <td>NaN</td>\n",
       "      <td>NaN</td>\n",
       "      <td>...</td>\n",
       "      <td>NaN</td>\n",
       "      <td>NaN</td>\n",
       "      <td>NaN</td>\n",
       "      <td>Boss</td>\n",
       "      <td>NaN</td>\n",
       "      <td>0.0</td>\n",
       "      <td>NaN</td>\n",
       "      <td>0.0</td>\n",
       "      <td>NaN</td>\n",
       "      <td>2.0</td>\n",
       "    </tr>\n",
       "    <tr>\n",
       "      <th>2</th>\n",
       "      <td>3</td>\n",
       "      <td>case_intake_arm_1</td>\n",
       "      <td>NaN</td>\n",
       "      <td>1.0</td>\n",
       "      <td>NaN</td>\n",
       "      <td>NaN</td>\n",
       "      <td>NaN</td>\n",
       "      <td>NaN</td>\n",
       "      <td>NaN</td>\n",
       "      <td>NaN</td>\n",
       "      <td>...</td>\n",
       "      <td>NaN</td>\n",
       "      <td>NaN</td>\n",
       "      <td>NaN</td>\n",
       "      <td>NaN</td>\n",
       "      <td>NaN</td>\n",
       "      <td>NaN</td>\n",
       "      <td>NaN</td>\n",
       "      <td>NaN</td>\n",
       "      <td>NaN</td>\n",
       "      <td>NaN</td>\n",
       "    </tr>\n",
       "    <tr>\n",
       "      <th>3</th>\n",
       "      <td>3</td>\n",
       "      <td>notifications_arm_1</td>\n",
       "      <td>close_contacts</td>\n",
       "      <td>1.0</td>\n",
       "      <td>NaN</td>\n",
       "      <td>NaN</td>\n",
       "      <td>NaN</td>\n",
       "      <td>NaN</td>\n",
       "      <td>NaN</td>\n",
       "      <td>NaN</td>\n",
       "      <td>...</td>\n",
       "      <td>(999) 999-9999</td>\n",
       "      <td>fake_email@gmail.com</td>\n",
       "      <td>2.0</td>\n",
       "      <td>NaN</td>\n",
       "      <td>NaN</td>\n",
       "      <td>NaN</td>\n",
       "      <td>NaN</td>\n",
       "      <td>NaN</td>\n",
       "      <td>NaN</td>\n",
       "      <td>NaN</td>\n",
       "    </tr>\n",
       "    <tr>\n",
       "      <th>4</th>\n",
       "      <td>3</td>\n",
       "      <td>notifications_arm_1</td>\n",
       "      <td>close_contacts</td>\n",
       "      <td>2.0</td>\n",
       "      <td>NaN</td>\n",
       "      <td>NaN</td>\n",
       "      <td>NaN</td>\n",
       "      <td>NaN</td>\n",
       "      <td>NaN</td>\n",
       "      <td>NaN</td>\n",
       "      <td>...</td>\n",
       "      <td>(999) 999-9999</td>\n",
       "      <td>fake_email@gmail.com</td>\n",
       "      <td>2.0</td>\n",
       "      <td>NaN</td>\n",
       "      <td>NaN</td>\n",
       "      <td>NaN</td>\n",
       "      <td>NaN</td>\n",
       "      <td>NaN</td>\n",
       "      <td>NaN</td>\n",
       "      <td>NaN</td>\n",
       "    </tr>\n",
       "  </tbody>\n",
       "</table>\n",
       "<p>5 rows × 50 columns</p>\n",
       "</div>"
      ],
      "text/plain": [
       "   record_id    redcap_event_name redcap_repeat_instrument  \\\n",
       "0          3  personal_info_arm_1                      NaN   \n",
       "1          3  notifications_arm_1                      NaN   \n",
       "2          3    case_intake_arm_1                      NaN   \n",
       "3          3  notifications_arm_1           close_contacts   \n",
       "4          3  notifications_arm_1           close_contacts   \n",
       "\n",
       "   redcap_repeat_instance  redcap_survey_identifier  demographics_timestamp  \\\n",
       "0                     NaN                       NaN                     NaN   \n",
       "1                     NaN                       NaN                     NaN   \n",
       "2                     1.0                       NaN                     NaN   \n",
       "3                     1.0                       NaN                     NaN   \n",
       "4                     2.0                       NaN                     NaN   \n",
       "\n",
       "  first_name last_name       phone_num  zip_code  ...        cc_phone  \\\n",
       "0       John       Doe  (999) 999-9999   98105.0  ...             NaN   \n",
       "1        NaN       NaN             NaN       NaN  ...             NaN   \n",
       "2        NaN       NaN             NaN       NaN  ...             NaN   \n",
       "3        NaN       NaN             NaN       NaN  ...  (999) 999-9999   \n",
       "4        NaN       NaN             NaN       NaN  ...  (999) 999-9999   \n",
       "\n",
       "               cc_email  close_contacts_complete  supervisor_name  \\\n",
       "0                   NaN                      NaN              NaN   \n",
       "1                   NaN                      NaN             Boss   \n",
       "2                   NaN                      NaN              NaN   \n",
       "3  fake_email@gmail.com                      2.0              NaN   \n",
       "4  fake_email@gmail.com                      2.0              NaN   \n",
       "\n",
       "   supervisor_email  work_inperson_yesno  work_date work_contagious  \\\n",
       "0               NaN                  NaN        NaN             NaN   \n",
       "1               NaN                  0.0        NaN             0.0   \n",
       "2               NaN                  NaN        NaN             NaN   \n",
       "3               NaN                  NaN        NaN             NaN   \n",
       "4               NaN                  NaN        NaN             NaN   \n",
       "\n",
       "   work_contagious_calc  work_information_complete  \n",
       "0                   NaN                        NaN  \n",
       "1                   NaN                        2.0  \n",
       "2                   NaN                        NaN  \n",
       "3                   NaN                        NaN  \n",
       "4                   NaN                        NaN  \n",
       "\n",
       "[5 rows x 50 columns]"
      ]
     },
     "execution_count": 31,
     "metadata": {},
     "output_type": "execute_result"
    }
   ],
   "source": [
    "# Read and view data to import\n",
    "df_to_import = pd.read_csv(\"./files/data_to_import.csv\")\n",
    "df_to_import.head()"
   ]
  },
  {
   "cell_type": "markdown",
   "id": "e3a8cb0d-caa2-4977-afa7-8aedab2f36c2",
   "metadata": {},
   "source": [
    "Notice how the redcap_repeat_instance, close_contacts_complete, and work_inperson_yesno are some of the many fields that were converted to float with an added decimal. Importing this dataset as-is will produce errors.\n",
    "\n",
    "**Solution:** Convert all floats to Int64 Pandas datatype.\n",
    "- Int64 is a unique pandas datatype that allows numeric fields to contain missing values. For more information read the documentation [here](https://pandas.pydata.org/docs/reference/api/pandas.Int64Dtype.html)  \n",
    "\n",
    "- Note: Before applying this solution, ensure that there are no numeric fields in your REDCap Project that should have decimals (you will not want to convert these variables to int64 since they would lose their decimal places). Make sure you are familiar with your project's metadata. All radio, checkboxes, yes/no, redcap_repeat_instance, and form_complete variables need to be integers. In REDCap, actual numeric fields are stored as text fields with optional validation. Any text field in REDCap with no validation or with 'numeric' as their validation type, would allow numbers with decimal places. Any text fields with other validations types (i.e. zip code, phone number, integer) will not allow import of decimal places. "
   ]
  },
  {
   "cell_type": "code",
   "execution_count": 32,
   "id": "ba9c33fb-5e7d-4962-948f-142c19e12cb8",
   "metadata": {},
   "outputs": [
    {
     "name": "stdout",
     "output_type": "stream",
     "text": [
      "['redcap_repeat_instance', 'redcap_survey_identifier', 'demographics_timestamp', 'zip_code', 'age', 'ethnicity', 'race', 'gender', 'demographics_complete', 'symptoms_yesno', 'symptoms_exp___1', 'symptoms_exp___2', 'symptoms_exp___3', 'symptoms_exp___4', 'symptoms_exp___5', 'symptoms_exp___6', 'symptoms_exp___7', 'symptoms_exp___8', 'symptoms_exp___9', 'symptoms_exp___10', 'symptoms_exp___11', 'symptom_notes', 'symptoms_complete', 'test_yesno', 'test_positive_yesno', 'prior_covid_yesno', 'test_information_complete', 'close_contacts_complete', 'work_inperson_yesno', 'work_contagious', 'work_contagious_calc', 'work_information_complete']\n"
     ]
    }
   ],
   "source": [
    "float_list = df_to_import.select_dtypes(include=[np.float64]).columns.values.tolist()\n",
    "print(float_list)"
   ]
  },
  {
   "cell_type": "markdown",
   "id": "74b876d1-cf20-4a2c-9cca-899d05b65e23",
   "metadata": {},
   "source": [
    "At this point, if needed, you can remove any variables from this list that you need to keep in float format. "
   ]
  },
  {
   "cell_type": "code",
   "execution_count": 33,
   "id": "1d303e48-be64-4a81-bff2-daae19764c50",
   "metadata": {},
   "outputs": [
    {
     "data": {
      "text/html": [
       "<div>\n",
       "<style scoped>\n",
       "    .dataframe tbody tr th:only-of-type {\n",
       "        vertical-align: middle;\n",
       "    }\n",
       "\n",
       "    .dataframe tbody tr th {\n",
       "        vertical-align: top;\n",
       "    }\n",
       "\n",
       "    .dataframe thead th {\n",
       "        text-align: right;\n",
       "    }\n",
       "</style>\n",
       "<table border=\"1\" class=\"dataframe\">\n",
       "  <thead>\n",
       "    <tr style=\"text-align: right;\">\n",
       "      <th></th>\n",
       "      <th>record_id</th>\n",
       "      <th>redcap_event_name</th>\n",
       "      <th>redcap_repeat_instrument</th>\n",
       "      <th>redcap_repeat_instance</th>\n",
       "      <th>redcap_survey_identifier</th>\n",
       "      <th>demographics_timestamp</th>\n",
       "      <th>first_name</th>\n",
       "      <th>last_name</th>\n",
       "      <th>phone_num</th>\n",
       "      <th>zip_code</th>\n",
       "      <th>...</th>\n",
       "      <th>cc_phone</th>\n",
       "      <th>cc_email</th>\n",
       "      <th>close_contacts_complete</th>\n",
       "      <th>supervisor_name</th>\n",
       "      <th>supervisor_email</th>\n",
       "      <th>work_inperson_yesno</th>\n",
       "      <th>work_date</th>\n",
       "      <th>work_contagious</th>\n",
       "      <th>work_contagious_calc</th>\n",
       "      <th>work_information_complete</th>\n",
       "    </tr>\n",
       "  </thead>\n",
       "  <tbody>\n",
       "    <tr>\n",
       "      <th>0</th>\n",
       "      <td>3</td>\n",
       "      <td>personal_info_arm_1</td>\n",
       "      <td>NaN</td>\n",
       "      <td>&lt;NA&gt;</td>\n",
       "      <td>&lt;NA&gt;</td>\n",
       "      <td>&lt;NA&gt;</td>\n",
       "      <td>John</td>\n",
       "      <td>Doe</td>\n",
       "      <td>(999) 999-9999</td>\n",
       "      <td>98105</td>\n",
       "      <td>...</td>\n",
       "      <td>NaN</td>\n",
       "      <td>NaN</td>\n",
       "      <td>&lt;NA&gt;</td>\n",
       "      <td>NaN</td>\n",
       "      <td>NaN</td>\n",
       "      <td>&lt;NA&gt;</td>\n",
       "      <td>NaN</td>\n",
       "      <td>&lt;NA&gt;</td>\n",
       "      <td>&lt;NA&gt;</td>\n",
       "      <td>&lt;NA&gt;</td>\n",
       "    </tr>\n",
       "    <tr>\n",
       "      <th>1</th>\n",
       "      <td>3</td>\n",
       "      <td>notifications_arm_1</td>\n",
       "      <td>NaN</td>\n",
       "      <td>&lt;NA&gt;</td>\n",
       "      <td>&lt;NA&gt;</td>\n",
       "      <td>&lt;NA&gt;</td>\n",
       "      <td>NaN</td>\n",
       "      <td>NaN</td>\n",
       "      <td>NaN</td>\n",
       "      <td>&lt;NA&gt;</td>\n",
       "      <td>...</td>\n",
       "      <td>NaN</td>\n",
       "      <td>NaN</td>\n",
       "      <td>&lt;NA&gt;</td>\n",
       "      <td>Boss</td>\n",
       "      <td>NaN</td>\n",
       "      <td>0</td>\n",
       "      <td>NaN</td>\n",
       "      <td>0</td>\n",
       "      <td>&lt;NA&gt;</td>\n",
       "      <td>2</td>\n",
       "    </tr>\n",
       "    <tr>\n",
       "      <th>2</th>\n",
       "      <td>3</td>\n",
       "      <td>case_intake_arm_1</td>\n",
       "      <td>NaN</td>\n",
       "      <td>1</td>\n",
       "      <td>&lt;NA&gt;</td>\n",
       "      <td>&lt;NA&gt;</td>\n",
       "      <td>NaN</td>\n",
       "      <td>NaN</td>\n",
       "      <td>NaN</td>\n",
       "      <td>&lt;NA&gt;</td>\n",
       "      <td>...</td>\n",
       "      <td>NaN</td>\n",
       "      <td>NaN</td>\n",
       "      <td>&lt;NA&gt;</td>\n",
       "      <td>NaN</td>\n",
       "      <td>NaN</td>\n",
       "      <td>&lt;NA&gt;</td>\n",
       "      <td>NaN</td>\n",
       "      <td>&lt;NA&gt;</td>\n",
       "      <td>&lt;NA&gt;</td>\n",
       "      <td>&lt;NA&gt;</td>\n",
       "    </tr>\n",
       "    <tr>\n",
       "      <th>3</th>\n",
       "      <td>3</td>\n",
       "      <td>notifications_arm_1</td>\n",
       "      <td>close_contacts</td>\n",
       "      <td>1</td>\n",
       "      <td>&lt;NA&gt;</td>\n",
       "      <td>&lt;NA&gt;</td>\n",
       "      <td>NaN</td>\n",
       "      <td>NaN</td>\n",
       "      <td>NaN</td>\n",
       "      <td>&lt;NA&gt;</td>\n",
       "      <td>...</td>\n",
       "      <td>(999) 999-9999</td>\n",
       "      <td>fake_email@gmail.com</td>\n",
       "      <td>2</td>\n",
       "      <td>NaN</td>\n",
       "      <td>NaN</td>\n",
       "      <td>&lt;NA&gt;</td>\n",
       "      <td>NaN</td>\n",
       "      <td>&lt;NA&gt;</td>\n",
       "      <td>&lt;NA&gt;</td>\n",
       "      <td>&lt;NA&gt;</td>\n",
       "    </tr>\n",
       "    <tr>\n",
       "      <th>4</th>\n",
       "      <td>3</td>\n",
       "      <td>notifications_arm_1</td>\n",
       "      <td>close_contacts</td>\n",
       "      <td>2</td>\n",
       "      <td>&lt;NA&gt;</td>\n",
       "      <td>&lt;NA&gt;</td>\n",
       "      <td>NaN</td>\n",
       "      <td>NaN</td>\n",
       "      <td>NaN</td>\n",
       "      <td>&lt;NA&gt;</td>\n",
       "      <td>...</td>\n",
       "      <td>(999) 999-9999</td>\n",
       "      <td>fake_email@gmail.com</td>\n",
       "      <td>2</td>\n",
       "      <td>NaN</td>\n",
       "      <td>NaN</td>\n",
       "      <td>&lt;NA&gt;</td>\n",
       "      <td>NaN</td>\n",
       "      <td>&lt;NA&gt;</td>\n",
       "      <td>&lt;NA&gt;</td>\n",
       "      <td>&lt;NA&gt;</td>\n",
       "    </tr>\n",
       "  </tbody>\n",
       "</table>\n",
       "<p>5 rows × 50 columns</p>\n",
       "</div>"
      ],
      "text/plain": [
       "   record_id    redcap_event_name redcap_repeat_instrument  \\\n",
       "0          3  personal_info_arm_1                      NaN   \n",
       "1          3  notifications_arm_1                      NaN   \n",
       "2          3    case_intake_arm_1                      NaN   \n",
       "3          3  notifications_arm_1           close_contacts   \n",
       "4          3  notifications_arm_1           close_contacts   \n",
       "\n",
       "   redcap_repeat_instance  redcap_survey_identifier  demographics_timestamp  \\\n",
       "0                    <NA>                      <NA>                    <NA>   \n",
       "1                    <NA>                      <NA>                    <NA>   \n",
       "2                       1                      <NA>                    <NA>   \n",
       "3                       1                      <NA>                    <NA>   \n",
       "4                       2                      <NA>                    <NA>   \n",
       "\n",
       "  first_name last_name       phone_num  zip_code  ...        cc_phone  \\\n",
       "0       John       Doe  (999) 999-9999     98105  ...             NaN   \n",
       "1        NaN       NaN             NaN      <NA>  ...             NaN   \n",
       "2        NaN       NaN             NaN      <NA>  ...             NaN   \n",
       "3        NaN       NaN             NaN      <NA>  ...  (999) 999-9999   \n",
       "4        NaN       NaN             NaN      <NA>  ...  (999) 999-9999   \n",
       "\n",
       "               cc_email  close_contacts_complete  supervisor_name  \\\n",
       "0                   NaN                     <NA>              NaN   \n",
       "1                   NaN                     <NA>             Boss   \n",
       "2                   NaN                     <NA>              NaN   \n",
       "3  fake_email@gmail.com                        2              NaN   \n",
       "4  fake_email@gmail.com                        2              NaN   \n",
       "\n",
       "   supervisor_email  work_inperson_yesno  work_date work_contagious  \\\n",
       "0               NaN                 <NA>        NaN            <NA>   \n",
       "1               NaN                    0        NaN               0   \n",
       "2               NaN                 <NA>        NaN            <NA>   \n",
       "3               NaN                 <NA>        NaN            <NA>   \n",
       "4               NaN                 <NA>        NaN            <NA>   \n",
       "\n",
       "   work_contagious_calc  work_information_complete  \n",
       "0                  <NA>                       <NA>  \n",
       "1                  <NA>                          2  \n",
       "2                  <NA>                       <NA>  \n",
       "3                  <NA>                       <NA>  \n",
       "4                  <NA>                       <NA>  \n",
       "\n",
       "[5 rows x 50 columns]"
      ]
     },
     "execution_count": 33,
     "metadata": {},
     "output_type": "execute_result"
    }
   ],
   "source": [
    "df_to_import[float_list] = df_to_import[float_list].apply(lambda x: x.astype(\"Int64\"))\n",
    "df_to_import.head()"
   ]
  },
  {
   "cell_type": "markdown",
   "id": "f8f7e079-8d12-456c-85a8-53aa7d61dc8c",
   "metadata": {},
   "source": [
    "You can now see the `redcap_repeat_instance` and `clost_contacts_complete` fields are in integer format. The <NA> seen in the blank cells will not interfere with data import. Now you can make any edits necessary including numeric specific transformations on your integer fields. "
   ]
  },
  {
   "cell_type": "code",
   "execution_count": 34,
   "id": "7c675889-a2f7-45c2-9652-16afe932051b",
   "metadata": {},
   "outputs": [
    {
     "data": {
      "text/plain": [
       "{'count': 4}"
      ]
     },
     "execution_count": 34,
     "metadata": {},
     "output_type": "execute_result"
    }
   ],
   "source": [
    "# Import data\n",
    "project.import_records(df_to_import, date_format = 'MDY', import_format = 'df')"
   ]
  },
  {
   "cell_type": "markdown",
   "id": "3aa29234-f6b5-40e2-b8cf-8962cb718749",
   "metadata": {},
   "source": [
    ":::"
   ]
  },
  {
   "cell_type": "code",
   "execution_count": null,
   "id": "f0b3ac9d-b9a8-42ec-8fd5-3d1d0d3c0513",
   "metadata": {},
   "outputs": [],
   "source": []
  }
 ],
 "metadata": {
  "kernelspec": {
   "display_name": "Python 3 (ipykernel)",
   "language": "python",
   "name": "python3"
  },
  "language_info": {
   "codemirror_mode": {
    "name": "ipython",
    "version": 3
   },
   "file_extension": ".py",
   "mimetype": "text/x-python",
   "name": "python",
   "nbconvert_exporter": "python",
   "pygments_lexer": "ipython3",
   "version": "3.12.2"
  }
 },
 "nbformat": 4,
 "nbformat_minor": 5
}
