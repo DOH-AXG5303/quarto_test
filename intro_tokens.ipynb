{
 "cells": [
  {
   "cell_type": "markdown",
   "id": "ffd204b7-17cf-40db-ad71-bc388732b7bf",
   "metadata": {},
   "source": [
    "# Storing API tokens"
   ]
  },
  {
   "cell_type": "raw",
   "id": "c2c068ce-086d-4e3c-83ce-bb3be8fdf68d",
   "metadata": {},
   "source": [
    "Before you can make any API calls to your REDCap project, you will need to generate an API token for that project. You can do so in the REDCap web application under the 'API' page of your project. \n",
    "\n",
    "It is recommended to save your API tokens in a separate file on your local machine that is then called into your main script. That way you can share your script and push it to the GitHub without compromising your tokens. Tokens should be treated as secrets and should not be shared with others. \n",
    "\n",
    "To follow along with this guide, you can save your tokens for each REDCap project as a json file with the following the format:"
   ]
  },
  {
   "cell_type": "code",
   "execution_count": 3,
   "id": "ddec7e36-130d-4a00-b8f6-67257c52f7aa",
   "metadata": {},
   "outputs": [
    {
     "data": {
      "text/plain": [
       "{'prod_token': {'REDCap Project ID Goes Here': 'API token for that project goes here'},\n",
       " 'dev_token': {'REDCap Project ID Goes Here': 'API token for that project goes here'},\n",
       " 'qa_token': {'REDCap Project ID Goes Here': 'API token for that project goes here'}}"
      ]
     },
     "execution_count": 3,
     "metadata": {},
     "output_type": "execute_result"
    }
   ],
   "source": [
    "#| eval: false\n",
    "#| output: false\n",
    "{\n",
    "\t\"prod_token\": {\n",
    "\t  \"REDCap Project ID Goes Here\": \"API token for that project goes here\",\n",
    "  \t  \"REDCap Project ID Goes Here\": \"API token for that project goes here\"\n",
    "\t},\n",
    "\t\"dev_token\": {\n",
    "\t  \"REDCap Project ID Goes Here\": \"API token for that project goes here\",\n",
    "  \t  \"REDCap Project ID Goes Here\": \"API token for that project goes here\"\n",
    "\t \t},\n",
    "\t\"qa_token\": {\n",
    "\t  \"REDCap Project ID Goes Here\": \"API token for that project goes here\",\n",
    "  \t  \"REDCap Project ID Goes Here\": \"API token for that project goes here\"\n",
    "\t\t}\n",
    "}"
   ]
  },
  {
   "cell_type": "markdown",
   "id": "019af7d2-9b80-4c3a-9d2f-e10d3ff9dc6b",
   "metadata": {},
   "source": [
    "**Note:** You can create a json file in any text editor by saving your file with a '.json' extention."
   ]
  }
 ],
 "metadata": {
  "kernelspec": {
   "display_name": "Python 3 (ipykernel)",
   "language": "python",
   "name": "python3"
  },
  "language_info": {
   "codemirror_mode": {
    "name": "ipython",
    "version": 3
   },
   "file_extension": ".py",
   "mimetype": "text/x-python",
   "name": "python",
   "nbconvert_exporter": "python",
   "pygments_lexer": "ipython3",
   "version": "3.12.2"
  }
 },
 "nbformat": 4,
 "nbformat_minor": 5
}
