{
 "cells": [
  {
   "cell_type": "markdown",
   "id": "f41cccc3-6620-476f-8e9f-144857e6c9d3",
   "metadata": {},
   "source": [
    "## Instrument Event Map\n",
    "\n",
    "This shows which instruments are associated with each event in longitudinal projects. "
   ]
  },
  {
   "cell_type": "markdown",
   "id": "9ad8a37a-8eaf-4eab-bb61-4514e9f8766c",
   "metadata": {},
   "source": [
    "::: {.content-hidden when-format=\"html\"}"
   ]
  },
  {
   "cell_type": "code",
   "execution_count": 2,
   "id": "2d79f6e1-d4b1-4113-9a3e-9649a3563217",
   "metadata": {},
   "outputs": [],
   "source": [
    "#| echo: false\n",
    "#| output: false\n",
    "import os\n",
    "os.environ['R_HOME'] = f'C:/Users/{os.environ.get('USERNAME')}/Miniconda3/envs/r_python_jl/Lib/R'"
   ]
  },
  {
   "cell_type": "code",
   "execution_count": 3,
   "id": "5454914c-accb-4d92-977c-226c19e5ca9f",
   "metadata": {},
   "outputs": [
    {
     "name": "stderr",
     "output_type": "stream",
     "text": [
      "C:\\Users\\CMD3303\\Miniconda3\\envs\\r_python_jl\\Lib\\site-packages\\rpy2\\robjects\\packages.py:367: UserWarning: The symbol 'quartz' is not in this R namespace/package.\n",
      "  warnings.warn(\n"
     ]
    }
   ],
   "source": [
    "#| echo: false\n",
    "#| output: false\n",
    "# enables the %%R magic, not necessary if you've already done this\n",
    "%load_ext rpy2.ipython\n",
    "# only have to run once to allow the R magic command"
   ]
  },
  {
   "cell_type": "markdown",
   "id": "54e1d64d-b83b-44c5-baf0-d5a8e810d5d3",
   "metadata": {},
   "source": [
    "### Project Setup\n",
    "\n",
    "::: {.panel-tabset}\n",
    "\n",
    "#### R"
   ]
  },
  {
   "cell_type": "code",
   "execution_count": 17,
   "id": "6c7868bb-e4cb-43e2-85b1-ef66d5ed0ca7",
   "metadata": {
    "tags": []
   },
   "outputs": [],
   "source": [
    "%%capture --no-display \n",
    "%%R\n",
    "library(\"dplyr\")\n",
    "library(\"jsonlite\")\n",
    "library(\"tidyr\")\n",
    "library(\"REDCapR\")\n",
    "library(\"knitr\")\n",
    "library(\"remotes\")\n",
    "library(\"gt\")"
   ]
  },
  {
   "cell_type": "code",
   "execution_count": 72,
   "id": "697807fb-7812-4cd8-b698-b136be02b239",
   "metadata": {},
   "outputs": [
    {
     "name": "stdout",
     "output_type": "stream",
     "text": [
      "[1] '1.1.9005'\n"
     ]
    }
   ],
   "source": [
    "%%capture --no-display --no-stdout\n",
    "%%R\n",
    "\n",
    "# Detach REDCapR if already loaded, and download the latest version\n",
    "if (version!='1.1.9005') {\n",
    "    detach(\"package:REDCapR\", unload=TRUE)\n",
    "    remotes::install_github(\"OuhscBbmc/REDCapR\")\n",
    "    library(\"REDCapR\")\n",
    "    print(packageVersion(\"REDCapR\"))\n",
    "}\n",
    "\n",
    "else {\n",
    "    print(\"REDCapR package up to date\")\n",
    "}"
   ]
  },
  {
   "cell_type": "code",
   "execution_count": 75,
   "id": "2b0e46df-012a-412b-a91d-54c3d9d2a4fb",
   "metadata": {
    "tags": []
   },
   "outputs": [],
   "source": [
    "%%R\n",
    "# Load API tokens from the json file\n",
    "token <- jsonlite::fromJSON('./../../json_api_data.json')$dev_token$'309'\n",
    "url <- \"https://dev-redcap.doh.wa.gov/api/\""
   ]
  },
  {
   "cell_type": "markdown",
   "id": "d084af26-b0f6-4a7d-9494-1d72627ffdac",
   "metadata": {},
   "source": [
    "#### Python"
   ]
  },
  {
   "cell_type": "code",
   "execution_count": 6,
   "id": "6a06455c-3201-4bb2-bf38-56cfe6476bd1",
   "metadata": {},
   "outputs": [],
   "source": [
    "import redcap\n",
    "import json\n",
    "import csv\n",
    "import pandas as pd\n",
    "import numpy as np\n",
    "import requests\n",
    "import tempfile"
   ]
  },
  {
   "cell_type": "code",
   "execution_count": 45,
   "id": "9f995e13-651c-4902-ac46-a19466eb4f12",
   "metadata": {},
   "outputs": [],
   "source": [
    "# Load API tokens from the json file\n",
    "key = json.load(open('./../../json_api_data.json'))\n",
    "token = key['dev_token']['309']\n",
    "url = key['dev_url']\n",
    "\n",
    "project = redcap.Project(url, token)"
   ]
  },
  {
   "cell_type": "markdown",
   "id": "765fe288-915b-41d4-a908-14f9076dee68",
   "metadata": {},
   "source": [
    ":::"
   ]
  },
  {
   "cell_type": "markdown",
   "id": "1b482cae-7256-418d-8fb4-56ccb00ac855",
   "metadata": {},
   "source": [
    ":::"
   ]
  },
  {
   "cell_type": "markdown",
   "id": "7adb65a6-2dc6-43ce-a46b-aea677d71acd",
   "metadata": {},
   "source": [
    "::: {.panel-tabset}\n",
    "\n",
    "#### R\n",
    "\n",
    "Cannot be imported using REDCapR. *See @sec-import_limitations for more information.* \n",
    "\n",
    "#### Python\n",
    "\n",
    "`import_instrument_event_mappings()`\n",
    "\n",
    "In this example, we will export the project's instrument-event mapping and re-import it so that no changes are made to the project."
   ]
  },
  {
   "cell_type": "code",
   "execution_count": 36,
   "id": "ed8879d6-9a5b-44ac-bd61-1b0e333e9ef3",
   "metadata": {},
   "outputs": [
    {
     "data": {
      "text/html": [
       "<div>\n",
       "<style scoped>\n",
       "    .dataframe tbody tr th:only-of-type {\n",
       "        vertical-align: middle;\n",
       "    }\n",
       "\n",
       "    .dataframe tbody tr th {\n",
       "        vertical-align: top;\n",
       "    }\n",
       "\n",
       "    .dataframe thead th {\n",
       "        text-align: right;\n",
       "    }\n",
       "</style>\n",
       "<table border=\"1\" class=\"dataframe\">\n",
       "  <thead>\n",
       "    <tr style=\"text-align: right;\">\n",
       "      <th></th>\n",
       "      <th>arm_num</th>\n",
       "      <th>unique_event_name</th>\n",
       "      <th>form</th>\n",
       "    </tr>\n",
       "  </thead>\n",
       "  <tbody>\n",
       "    <tr>\n",
       "      <th>0</th>\n",
       "      <td>1</td>\n",
       "      <td>personal_info_arm_1</td>\n",
       "      <td>demographics</td>\n",
       "    </tr>\n",
       "    <tr>\n",
       "      <th>1</th>\n",
       "      <td>1</td>\n",
       "      <td>case_intake_arm_1</td>\n",
       "      <td>symptoms</td>\n",
       "    </tr>\n",
       "    <tr>\n",
       "      <th>2</th>\n",
       "      <td>1</td>\n",
       "      <td>case_intake_arm_1</td>\n",
       "      <td>test_information</td>\n",
       "    </tr>\n",
       "    <tr>\n",
       "      <th>3</th>\n",
       "      <td>1</td>\n",
       "      <td>notifications_arm_1</td>\n",
       "      <td>close_contacts</td>\n",
       "    </tr>\n",
       "    <tr>\n",
       "      <th>4</th>\n",
       "      <td>1</td>\n",
       "      <td>notifications_arm_1</td>\n",
       "      <td>work_information</td>\n",
       "    </tr>\n",
       "  </tbody>\n",
       "</table>\n",
       "</div>"
      ],
      "text/plain": [
       "   arm_num    unique_event_name              form\n",
       "0        1  personal_info_arm_1      demographics\n",
       "1        1    case_intake_arm_1          symptoms\n",
       "2        1    case_intake_arm_1  test_information\n",
       "3        1  notifications_arm_1    close_contacts\n",
       "4        1  notifications_arm_1  work_information"
      ]
     },
     "execution_count": 36,
     "metadata": {},
     "output_type": "execute_result"
    }
   ],
   "source": [
    "instrument_event_mappings = project.export_instrument_event_mappings(format_type='df')\n",
    "instrument_event_mappings"
   ]
  },
  {
   "cell_type": "code",
   "execution_count": 39,
   "id": "ecbc4873-2559-4202-88d8-732d2a9be5d9",
   "metadata": {},
   "outputs": [
    {
     "data": {
      "text/plain": [
       "5"
      ]
     },
     "execution_count": 39,
     "metadata": {},
     "output_type": "execute_result"
    }
   ],
   "source": [
    "project.import_instrument_event_mappings(instrument_event_mappings, import_format='df')"
   ]
  },
  {
   "cell_type": "markdown",
   "id": "42493b63-17c7-4121-a92c-dcb69ba3c2cc",
   "metadata": {},
   "source": [
    ":::"
   ]
  },
  {
   "cell_type": "code",
   "execution_count": null,
   "id": "f0b3ac9d-b9a8-42ec-8fd5-3d1d0d3c0513",
   "metadata": {},
   "outputs": [],
   "source": []
  }
 ],
 "metadata": {
  "kernelspec": {
   "display_name": "Python 3 (ipykernel)",
   "language": "python",
   "name": "python3"
  },
  "language_info": {
   "codemirror_mode": {
    "name": "ipython",
    "version": 3
   },
   "file_extension": ".py",
   "mimetype": "text/x-python",
   "name": "python",
   "nbconvert_exporter": "python",
   "pygments_lexer": "ipython3",
   "version": "3.12.2"
  }
 },
 "nbformat": 4,
 "nbformat_minor": 5
}
