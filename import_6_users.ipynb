{
 "cells": [
  {
   "cell_type": "markdown",
   "id": "3af38a76-27a7-40c3-81ae-6a99109443f8",
   "metadata": {},
   "source": [
    "# Users and User Roles"
   ]
  },
  {
   "cell_type": "markdown",
   "id": "9ad8a37a-8eaf-4eab-bb61-4514e9f8766c",
   "metadata": {},
   "source": [
    "::: {.content-hidden when-format=\"html\"}"
   ]
  },
  {
   "cell_type": "code",
   "execution_count": 1,
   "id": "2d79f6e1-d4b1-4113-9a3e-9649a3563217",
   "metadata": {},
   "outputs": [],
   "source": [
    "#| echo: false\n",
    "#| output: false\n",
    "import os\n",
    "os.environ['R_HOME'] = f'C:/Users/{os.environ.get('USERNAME')}/Miniconda3/envs/r_python_jl/Lib/R'"
   ]
  },
  {
   "cell_type": "code",
   "execution_count": 2,
   "id": "5454914c-accb-4d92-977c-226c19e5ca9f",
   "metadata": {},
   "outputs": [
    {
     "name": "stderr",
     "output_type": "stream",
     "text": [
      "C:\\Users\\CMD3303\\Miniconda3\\envs\\r_python_jl\\Lib\\site-packages\\rpy2\\robjects\\packages.py:367: UserWarning: The symbol 'quartz' is not in this R namespace/package.\n",
      "  warnings.warn(\n"
     ]
    }
   ],
   "source": [
    "#| echo: false\n",
    "#| output: false\n",
    "# enables the %%R magic, not necessary if you've already done this\n",
    "%load_ext rpy2.ipython\n",
    "# only have to run once to allow the R magic command"
   ]
  },
  {
   "cell_type": "markdown",
   "id": "54e1d64d-b83b-44c5-baf0-d5a8e810d5d3",
   "metadata": {},
   "source": [
    "### Project Setup\n",
    "\n",
    "::: {.panel-tabset}\n",
    "\n",
    "#### R"
   ]
  },
  {
   "cell_type": "code",
   "execution_count": 3,
   "id": "6c7868bb-e4cb-43e2-85b1-ef66d5ed0ca7",
   "metadata": {
    "tags": []
   },
   "outputs": [],
   "source": [
    "%%capture --no-display \n",
    "%%R\n",
    "library(\"dplyr\")\n",
    "library(\"jsonlite\")\n",
    "library(\"tidyr\")\n",
    "library(\"REDCapR\")\n",
    "library(\"knitr\")\n",
    "library(\"remotes\")\n",
    "library(\"gt\")"
   ]
  },
  {
   "cell_type": "code",
   "execution_count": 4,
   "id": "697807fb-7812-4cd8-b698-b136be02b239",
   "metadata": {},
   "outputs": [
    {
     "name": "stdout",
     "output_type": "stream",
     "text": [
      "[1] '1.1.9005'\n"
     ]
    }
   ],
   "source": [
    "%%capture --no-display --no-stdout\n",
    "%%R\n",
    "\n",
    "# Detach REDCapR if already loaded, and download the latest version\n",
    "if (version!='1.1.9005') {\n",
    "    detach(\"package:REDCapR\", unload=TRUE)\n",
    "    remotes::install_github(\"OuhscBbmc/REDCapR\")\n",
    "    library(\"REDCapR\")\n",
    "    print(packageVersion(\"REDCapR\"))\n",
    "}\n",
    "\n",
    "else {\n",
    "    print(\"REDCapR package up to date\")\n",
    "}"
   ]
  },
  {
   "cell_type": "code",
   "execution_count": 5,
   "id": "2b0e46df-012a-412b-a91d-54c3d9d2a4fb",
   "metadata": {
    "tags": []
   },
   "outputs": [],
   "source": [
    "%%R\n",
    "# Load API tokens from the json file\n",
    "token <- jsonlite::fromJSON('./../../json_api_data.json')$dev_token$'309'\n",
    "url <- \"https://dev-redcap.doh.wa.gov/api/\""
   ]
  },
  {
   "cell_type": "markdown",
   "id": "d084af26-b0f6-4a7d-9494-1d72627ffdac",
   "metadata": {},
   "source": [
    "#### Python"
   ]
  },
  {
   "cell_type": "code",
   "execution_count": 6,
   "id": "6a06455c-3201-4bb2-bf38-56cfe6476bd1",
   "metadata": {},
   "outputs": [],
   "source": [
    "import redcap\n",
    "import json\n",
    "import csv\n",
    "import pandas as pd\n",
    "import numpy as np\n",
    "import requests\n",
    "import tempfile"
   ]
  },
  {
   "cell_type": "code",
   "execution_count": 7,
   "id": "9f995e13-651c-4902-ac46-a19466eb4f12",
   "metadata": {},
   "outputs": [],
   "source": [
    "# Load API tokens from the json file\n",
    "key = json.load(open('./../../json_api_data.json'))\n",
    "token = key['dev_token']['309']\n",
    "url = key['dev_url']\n",
    "\n",
    "project = redcap.Project(url, token)"
   ]
  },
  {
   "cell_type": "markdown",
   "id": "765fe288-915b-41d4-a908-14f9076dee68",
   "metadata": {},
   "source": [
    ":::"
   ]
  },
  {
   "cell_type": "markdown",
   "id": "1b482cae-7256-418d-8fb4-56ccb00ac855",
   "metadata": {},
   "source": [
    ":::"
   ]
  },
  {
   "cell_type": "markdown",
   "id": "f392594a-99b9-4b7f-ab95-7582391c2de2",
   "metadata": {},
   "source": [
    "REDCap allows strict control of user rights for each project. These rights include a user's ability to edit, export and view data, add or edit reports, import data, create records, etc. Privileges to view and export data are specified for each instrument. \n",
    "\n",
    "User roles can be set with predefined privileges and users can then be assigned to these user role groups."
   ]
  },
  {
   "cell_type": "markdown",
   "id": "9c993435-9896-4c27-aeb0-33ed965ef0cf",
   "metadata": {},
   "source": [
    "## Users\n",
    "\n",
    "::: {.panel-tabset}\n",
    "\n",
    "#### R\n",
    "\n",
    "Cannot be imported with REDCapR. *See @sec-import_limitations for more information.* \n",
    "\n",
    "#### Python\n",
    "\n",
    "`import_users()`\n",
    "\n",
    "In this example, we will export the project's users and re-import it so that no changes are made to the project. "
   ]
  },
  {
   "cell_type": "code",
   "execution_count": 8,
   "id": "4216d9b4-2829-4dbb-b9aa-c0d0ea77d6f1",
   "metadata": {},
   "outputs": [
    {
     "data": {
      "text/html": [
       "<div>\n",
       "<style scoped>\n",
       "    .dataframe tbody tr th:only-of-type {\n",
       "        vertical-align: middle;\n",
       "    }\n",
       "\n",
       "    .dataframe tbody tr th {\n",
       "        vertical-align: top;\n",
       "    }\n",
       "\n",
       "    .dataframe thead th {\n",
       "        text-align: right;\n",
       "    }\n",
       "</style>\n",
       "<table border=\"1\" class=\"dataframe\">\n",
       "  <thead>\n",
       "    <tr style=\"text-align: right;\">\n",
       "      <th></th>\n",
       "      <th>username</th>\n",
       "      <th>email</th>\n",
       "      <th>firstname</th>\n",
       "      <th>lastname</th>\n",
       "      <th>expiration</th>\n",
       "      <th>data_access_group</th>\n",
       "      <th>data_access_group_id</th>\n",
       "      <th>design</th>\n",
       "      <th>alerts</th>\n",
       "      <th>user_rights</th>\n",
       "      <th>...</th>\n",
       "      <th>mobile_app</th>\n",
       "      <th>mobile_app_download_data</th>\n",
       "      <th>record_create</th>\n",
       "      <th>record_rename</th>\n",
       "      <th>record_delete</th>\n",
       "      <th>lock_records_all_forms</th>\n",
       "      <th>lock_records</th>\n",
       "      <th>lock_records_customization</th>\n",
       "      <th>forms</th>\n",
       "      <th>forms_export</th>\n",
       "    </tr>\n",
       "  </thead>\n",
       "  <tbody>\n",
       "    <tr>\n",
       "      <th>0</th>\n",
       "      <td>alexey.gilman@doh.wa.gov</td>\n",
       "      <td>Alexey.Gilman@doh.wa.gov</td>\n",
       "      <td>Alexey</td>\n",
       "      <td>Gilman</td>\n",
       "      <td>NaN</td>\n",
       "      <td>NaN</td>\n",
       "      <td>NaN</td>\n",
       "      <td>1</td>\n",
       "      <td>1</td>\n",
       "      <td>1</td>\n",
       "      <td>...</td>\n",
       "      <td>1</td>\n",
       "      <td>0</td>\n",
       "      <td>1</td>\n",
       "      <td>1</td>\n",
       "      <td>1</td>\n",
       "      <td>0</td>\n",
       "      <td>0</td>\n",
       "      <td>1</td>\n",
       "      <td>demographics:3,symptoms:1,test_information:1,c...</td>\n",
       "      <td>demographics:1,symptoms:1,test_information:1,c...</td>\n",
       "    </tr>\n",
       "    <tr>\n",
       "      <th>1</th>\n",
       "      <td>caitlin.drover@doh.wa.gov</td>\n",
       "      <td>Caitlin.Drover@doh.wa.gov</td>\n",
       "      <td>Caitlin</td>\n",
       "      <td>Drover</td>\n",
       "      <td>NaN</td>\n",
       "      <td>NaN</td>\n",
       "      <td>NaN</td>\n",
       "      <td>1</td>\n",
       "      <td>1</td>\n",
       "      <td>1</td>\n",
       "      <td>...</td>\n",
       "      <td>1</td>\n",
       "      <td>0</td>\n",
       "      <td>1</td>\n",
       "      <td>1</td>\n",
       "      <td>1</td>\n",
       "      <td>0</td>\n",
       "      <td>0</td>\n",
       "      <td>1</td>\n",
       "      <td>demographics:3,symptoms:1,test_information:1,c...</td>\n",
       "      <td>demographics:1,symptoms:1,test_information:1,c...</td>\n",
       "    </tr>\n",
       "    <tr>\n",
       "      <th>2</th>\n",
       "      <td>emily.pearman@doh.wa.gov</td>\n",
       "      <td>emily.pearman@doh.wa.gov</td>\n",
       "      <td>Emily</td>\n",
       "      <td>Pearman</td>\n",
       "      <td>NaN</td>\n",
       "      <td>NaN</td>\n",
       "      <td>NaN</td>\n",
       "      <td>1</td>\n",
       "      <td>1</td>\n",
       "      <td>1</td>\n",
       "      <td>...</td>\n",
       "      <td>1</td>\n",
       "      <td>1</td>\n",
       "      <td>1</td>\n",
       "      <td>1</td>\n",
       "      <td>1</td>\n",
       "      <td>0</td>\n",
       "      <td>0</td>\n",
       "      <td>0</td>\n",
       "      <td>demographics:1,symptoms:1,test_information:1,c...</td>\n",
       "      <td>demographics:1,symptoms:1,test_information:1,c...</td>\n",
       "    </tr>\n",
       "  </tbody>\n",
       "</table>\n",
       "<p>3 rows × 34 columns</p>\n",
       "</div>"
      ],
      "text/plain": [
       "                    username                      email firstname lastname  \\\n",
       "0   alexey.gilman@doh.wa.gov   Alexey.Gilman@doh.wa.gov    Alexey   Gilman   \n",
       "1  caitlin.drover@doh.wa.gov  Caitlin.Drover@doh.wa.gov   Caitlin   Drover   \n",
       "2   emily.pearman@doh.wa.gov   emily.pearman@doh.wa.gov     Emily  Pearman   \n",
       "\n",
       "   expiration  data_access_group  data_access_group_id  design  alerts  \\\n",
       "0         NaN                NaN                   NaN       1       1   \n",
       "1         NaN                NaN                   NaN       1       1   \n",
       "2         NaN                NaN                   NaN       1       1   \n",
       "\n",
       "   user_rights  ...  mobile_app  mobile_app_download_data  record_create  \\\n",
       "0            1  ...           1                         0              1   \n",
       "1            1  ...           1                         0              1   \n",
       "2            1  ...           1                         1              1   \n",
       "\n",
       "   record_rename  record_delete  lock_records_all_forms  lock_records  \\\n",
       "0              1              1                       0             0   \n",
       "1              1              1                       0             0   \n",
       "2              1              1                       0             0   \n",
       "\n",
       "   lock_records_customization  \\\n",
       "0                           1   \n",
       "1                           1   \n",
       "2                           0   \n",
       "\n",
       "                                               forms  \\\n",
       "0  demographics:3,symptoms:1,test_information:1,c...   \n",
       "1  demographics:3,symptoms:1,test_information:1,c...   \n",
       "2  demographics:1,symptoms:1,test_information:1,c...   \n",
       "\n",
       "                                        forms_export  \n",
       "0  demographics:1,symptoms:1,test_information:1,c...  \n",
       "1  demographics:1,symptoms:1,test_information:1,c...  \n",
       "2  demographics:1,symptoms:1,test_information:1,c...  \n",
       "\n",
       "[3 rows x 34 columns]"
      ]
     },
     "execution_count": 8,
     "metadata": {},
     "output_type": "execute_result"
    }
   ],
   "source": [
    "users = project.export_users(format_type='df')\n",
    "users"
   ]
  },
  {
   "cell_type": "code",
   "execution_count": 9,
   "id": "7cd12b06-5319-4bac-8f4f-4907b290702e",
   "metadata": {},
   "outputs": [
    {
     "data": {
      "text/plain": [
       "3"
      ]
     },
     "execution_count": 9,
     "metadata": {},
     "output_type": "execute_result"
    }
   ],
   "source": [
    "project.import_users(users, import_format='df')"
   ]
  },
  {
   "cell_type": "markdown",
   "id": "e80df2cb-ff32-4e92-89e6-159b032079e9",
   "metadata": {},
   "source": [
    "**Note:** attemping to import a user already assigned to a user role will result in an error."
   ]
  },
  {
   "cell_type": "markdown",
   "id": "cda78107-318c-473b-a87f-c4fc7cf5edbe",
   "metadata": {},
   "source": [
    ":::"
   ]
  },
  {
   "cell_type": "markdown",
   "id": "4a666b01-eb7f-4e68-993f-f086184cca9f",
   "metadata": {},
   "source": [
    "## User Roles\n",
    "\n",
    "::: {.panel-tabset}\n",
    "\n",
    "#### R\n",
    "\n",
    "Cannot be imported with REDCapR. *See @sec-import_limitations for more information.* \n",
    "\n",
    "#### Python\n",
    "\n",
    "Roles can be imported using `import_user_roles()` and assigned to a project user using `import_user_role_assignment()`. "
   ]
  },
  {
   "cell_type": "markdown",
   "id": "7becca60-8e5e-4b81-b902-84c109816998",
   "metadata": {},
   "source": [
    "**Importing User Roles**"
   ]
  },
  {
   "cell_type": "code",
   "execution_count": 17,
   "id": "846ff2a4-4d99-4e80-b8b1-20d61a4ad2f4",
   "metadata": {},
   "outputs": [
    {
     "data": {
      "text/html": [
       "<div>\n",
       "<style scoped>\n",
       "    .dataframe tbody tr th:only-of-type {\n",
       "        vertical-align: middle;\n",
       "    }\n",
       "\n",
       "    .dataframe tbody tr th {\n",
       "        vertical-align: top;\n",
       "    }\n",
       "\n",
       "    .dataframe thead th {\n",
       "        text-align: right;\n",
       "    }\n",
       "</style>\n",
       "<table border=\"1\" class=\"dataframe\">\n",
       "  <thead>\n",
       "    <tr style=\"text-align: right;\">\n",
       "      <th></th>\n",
       "      <th>unique_role_name</th>\n",
       "      <th>role_label</th>\n",
       "      <th>design</th>\n",
       "      <th>alerts</th>\n",
       "      <th>user_rights</th>\n",
       "      <th>data_access_groups</th>\n",
       "      <th>reports</th>\n",
       "      <th>stats_and_charts</th>\n",
       "      <th>manage_survey_participants</th>\n",
       "      <th>calendar</th>\n",
       "      <th>...</th>\n",
       "      <th>mobile_app</th>\n",
       "      <th>mobile_app_download_data</th>\n",
       "      <th>record_create</th>\n",
       "      <th>record_rename</th>\n",
       "      <th>record_delete</th>\n",
       "      <th>lock_records_customization</th>\n",
       "      <th>lock_records</th>\n",
       "      <th>lock_records_all_forms</th>\n",
       "      <th>forms</th>\n",
       "      <th>forms_export</th>\n",
       "    </tr>\n",
       "  </thead>\n",
       "  <tbody>\n",
       "    <tr>\n",
       "      <th>0</th>\n",
       "      <td>U-1564393FT9</td>\n",
       "      <td>Limited Role</td>\n",
       "      <td>0</td>\n",
       "      <td>0</td>\n",
       "      <td>0</td>\n",
       "      <td>0</td>\n",
       "      <td>0</td>\n",
       "      <td>0</td>\n",
       "      <td>0</td>\n",
       "      <td>0</td>\n",
       "      <td>...</td>\n",
       "      <td>0</td>\n",
       "      <td>0</td>\n",
       "      <td>0</td>\n",
       "      <td>0</td>\n",
       "      <td>0</td>\n",
       "      <td>0</td>\n",
       "      <td>0</td>\n",
       "      <td>0</td>\n",
       "      <td>demographics:0,symptoms:0,test_information:0,c...</td>\n",
       "      <td>demographics:0,symptoms:0,test_information:0,c...</td>\n",
       "    </tr>\n",
       "    <tr>\n",
       "      <th>1</th>\n",
       "      <td>U-5354FA3HYL</td>\n",
       "      <td>Admin</td>\n",
       "      <td>1</td>\n",
       "      <td>1</td>\n",
       "      <td>1</td>\n",
       "      <td>1</td>\n",
       "      <td>1</td>\n",
       "      <td>1</td>\n",
       "      <td>1</td>\n",
       "      <td>1</td>\n",
       "      <td>...</td>\n",
       "      <td>1</td>\n",
       "      <td>0</td>\n",
       "      <td>1</td>\n",
       "      <td>1</td>\n",
       "      <td>1</td>\n",
       "      <td>1</td>\n",
       "      <td>0</td>\n",
       "      <td>0</td>\n",
       "      <td>demographics:3,symptoms:1,test_information:1,c...</td>\n",
       "      <td>demographics:3,symptoms:1,test_information:1,c...</td>\n",
       "    </tr>\n",
       "  </tbody>\n",
       "</table>\n",
       "<p>2 rows × 29 columns</p>\n",
       "</div>"
      ],
      "text/plain": [
       "  unique_role_name    role_label  design  alerts  user_rights  \\\n",
       "0     U-1564393FT9  Limited Role       0       0            0   \n",
       "1     U-5354FA3HYL         Admin       1       1            1   \n",
       "\n",
       "   data_access_groups  reports  stats_and_charts  manage_survey_participants  \\\n",
       "0                   0        0                 0                           0   \n",
       "1                   1        1                 1                           1   \n",
       "\n",
       "   calendar  ...  mobile_app  mobile_app_download_data  record_create  \\\n",
       "0         0  ...           0                         0              0   \n",
       "1         1  ...           1                         0              1   \n",
       "\n",
       "   record_rename  record_delete  lock_records_customization  lock_records  \\\n",
       "0              0              0                           0             0   \n",
       "1              1              1                           1             0   \n",
       "\n",
       "   lock_records_all_forms                                              forms  \\\n",
       "0                       0  demographics:0,symptoms:0,test_information:0,c...   \n",
       "1                       0  demographics:3,symptoms:1,test_information:1,c...   \n",
       "\n",
       "                                        forms_export  \n",
       "0  demographics:0,symptoms:0,test_information:0,c...  \n",
       "1  demographics:3,symptoms:1,test_information:1,c...  \n",
       "\n",
       "[2 rows x 29 columns]"
      ]
     },
     "execution_count": 17,
     "metadata": {},
     "output_type": "execute_result"
    }
   ],
   "source": [
    "user_roles = project.export_user_roles(format_type='df')\n",
    "user_roles"
   ]
  },
  {
   "cell_type": "markdown",
   "id": "eee9494d-b650-4eee-8b8c-7d49cd611130",
   "metadata": {},
   "source": [
    "**Note:** the `unique_role_name` is automatically generated by REDCap."
   ]
  },
  {
   "cell_type": "code",
   "execution_count": 11,
   "id": "62eb6406-cadf-4dba-a683-236c843a6eb2",
   "metadata": {},
   "outputs": [
    {
     "data": {
      "text/plain": [
       "3"
      ]
     },
     "execution_count": 11,
     "metadata": {},
     "output_type": "execute_result"
    }
   ],
   "source": [
    "project.import_user_roles(user_roles, import_format='df')"
   ]
  },
  {
   "cell_type": "markdown",
   "id": "ba9de9ed-1887-47f4-a9c9-f2a79e04b709",
   "metadata": {},
   "source": [
    "**Importing User Role Assignments**"
   ]
  },
  {
   "cell_type": "code",
   "execution_count": 47,
   "id": "ba2912a6-0586-4407-b8ea-3e1232f60f9c",
   "metadata": {},
   "outputs": [
    {
     "data": {
      "text/html": [
       "<div>\n",
       "<style scoped>\n",
       "    .dataframe tbody tr th:only-of-type {\n",
       "        vertical-align: middle;\n",
       "    }\n",
       "\n",
       "    .dataframe tbody tr th {\n",
       "        vertical-align: top;\n",
       "    }\n",
       "\n",
       "    .dataframe thead th {\n",
       "        text-align: right;\n",
       "    }\n",
       "</style>\n",
       "<table border=\"1\" class=\"dataframe\">\n",
       "  <thead>\n",
       "    <tr style=\"text-align: right;\">\n",
       "      <th></th>\n",
       "      <th>username</th>\n",
       "      <th>unique_role_name</th>\n",
       "      <th>data_access_group</th>\n",
       "    </tr>\n",
       "  </thead>\n",
       "  <tbody>\n",
       "    <tr>\n",
       "      <th>0</th>\n",
       "      <td>alexey.gilman@doh.wa.gov</td>\n",
       "      <td>NaN</td>\n",
       "      <td>NaN</td>\n",
       "    </tr>\n",
       "    <tr>\n",
       "      <th>1</th>\n",
       "      <td>caitlin.drover@doh.wa.gov</td>\n",
       "      <td>NaN</td>\n",
       "      <td>NaN</td>\n",
       "    </tr>\n",
       "    <tr>\n",
       "      <th>2</th>\n",
       "      <td>emily.pearman@doh.wa.gov</td>\n",
       "      <td>NaN</td>\n",
       "      <td>NaN</td>\n",
       "    </tr>\n",
       "  </tbody>\n",
       "</table>\n",
       "</div>"
      ],
      "text/plain": [
       "                    username  unique_role_name  data_access_group\n",
       "0   alexey.gilman@doh.wa.gov               NaN                NaN\n",
       "1  caitlin.drover@doh.wa.gov               NaN                NaN\n",
       "2   emily.pearman@doh.wa.gov               NaN                NaN"
      ]
     },
     "execution_count": 47,
     "metadata": {},
     "output_type": "execute_result"
    }
   ],
   "source": [
    "user_role_assign = project.export_user_role_assignment(format_type='df')\n",
    "user_role_assign"
   ]
  },
  {
   "cell_type": "code",
   "execution_count": 49,
   "id": "5b979119-699b-4bc6-be2a-08c407acf7e4",
   "metadata": {},
   "outputs": [
    {
     "data": {
      "text/html": [
       "<div>\n",
       "<style scoped>\n",
       "    .dataframe tbody tr th:only-of-type {\n",
       "        vertical-align: middle;\n",
       "    }\n",
       "\n",
       "    .dataframe tbody tr th {\n",
       "        vertical-align: top;\n",
       "    }\n",
       "\n",
       "    .dataframe thead th {\n",
       "        text-align: right;\n",
       "    }\n",
       "</style>\n",
       "<table border=\"1\" class=\"dataframe\">\n",
       "  <thead>\n",
       "    <tr style=\"text-align: right;\">\n",
       "      <th></th>\n",
       "      <th>username</th>\n",
       "      <th>unique_role_name</th>\n",
       "      <th>data_access_group</th>\n",
       "    </tr>\n",
       "  </thead>\n",
       "  <tbody>\n",
       "    <tr>\n",
       "      <th>0</th>\n",
       "      <td>alexey.gilman@doh.wa.gov</td>\n",
       "      <td>U-5354FA3HYL</td>\n",
       "      <td>NaN</td>\n",
       "    </tr>\n",
       "    <tr>\n",
       "      <th>1</th>\n",
       "      <td>caitlin.drover@doh.wa.gov</td>\n",
       "      <td>NaN</td>\n",
       "      <td>NaN</td>\n",
       "    </tr>\n",
       "    <tr>\n",
       "      <th>2</th>\n",
       "      <td>emily.pearman@doh.wa.gov</td>\n",
       "      <td>NaN</td>\n",
       "      <td>NaN</td>\n",
       "    </tr>\n",
       "  </tbody>\n",
       "</table>\n",
       "</div>"
      ],
      "text/plain": [
       "                    username unique_role_name  data_access_group\n",
       "0   alexey.gilman@doh.wa.gov     U-5354FA3HYL                NaN\n",
       "1  caitlin.drover@doh.wa.gov              NaN                NaN\n",
       "2   emily.pearman@doh.wa.gov              NaN                NaN"
      ]
     },
     "execution_count": 49,
     "metadata": {},
     "output_type": "execute_result"
    }
   ],
   "source": [
    "user_role_assign['unique_role_name'].astype(str).replace('nan', np.NaN)\n",
    "user_role_assign.loc[0,'unique_role_name'] = 'U-5354FA3HYL'\n",
    "user_role_assign"
   ]
  },
  {
   "cell_type": "code",
   "execution_count": 50,
   "id": "9de2e388-e6f9-4fab-91f0-51394bae9f67",
   "metadata": {},
   "outputs": [
    {
     "data": {
      "text/plain": [
       "3"
      ]
     },
     "execution_count": 50,
     "metadata": {},
     "output_type": "execute_result"
    }
   ],
   "source": [
    "project.import_user_role_assignment(user_role_assign, import_format='df')"
   ]
  },
  {
   "cell_type": "markdown",
   "id": "14f86b34-f727-49fa-b899-3bce44a95bad",
   "metadata": {},
   "source": [
    "::: {.content-hidden when-format=\"html\"}"
   ]
  },
  {
   "cell_type": "code",
   "execution_count": 51,
   "id": "089a125a-3d27-4124-bbe4-142465bdba7d",
   "metadata": {},
   "outputs": [
    {
     "data": {
      "text/html": [
       "<div>\n",
       "<style scoped>\n",
       "    .dataframe tbody tr th:only-of-type {\n",
       "        vertical-align: middle;\n",
       "    }\n",
       "\n",
       "    .dataframe tbody tr th {\n",
       "        vertical-align: top;\n",
       "    }\n",
       "\n",
       "    .dataframe thead th {\n",
       "        text-align: right;\n",
       "    }\n",
       "</style>\n",
       "<table border=\"1\" class=\"dataframe\">\n",
       "  <thead>\n",
       "    <tr style=\"text-align: right;\">\n",
       "      <th></th>\n",
       "      <th>username</th>\n",
       "      <th>unique_role_name</th>\n",
       "      <th>data_access_group</th>\n",
       "    </tr>\n",
       "  </thead>\n",
       "  <tbody>\n",
       "    <tr>\n",
       "      <th>0</th>\n",
       "      <td>alexey.gilman@doh.wa.gov</td>\n",
       "      <td>NaN</td>\n",
       "      <td>NaN</td>\n",
       "    </tr>\n",
       "    <tr>\n",
       "      <th>1</th>\n",
       "      <td>caitlin.drover@doh.wa.gov</td>\n",
       "      <td>NaN</td>\n",
       "      <td>NaN</td>\n",
       "    </tr>\n",
       "    <tr>\n",
       "      <th>2</th>\n",
       "      <td>emily.pearman@doh.wa.gov</td>\n",
       "      <td>NaN</td>\n",
       "      <td>NaN</td>\n",
       "    </tr>\n",
       "  </tbody>\n",
       "</table>\n",
       "</div>"
      ],
      "text/plain": [
       "                    username unique_role_name  data_access_group\n",
       "0   alexey.gilman@doh.wa.gov              NaN                NaN\n",
       "1  caitlin.drover@doh.wa.gov              NaN                NaN\n",
       "2   emily.pearman@doh.wa.gov              NaN                NaN"
      ]
     },
     "execution_count": 51,
     "metadata": {},
     "output_type": "execute_result"
    }
   ],
   "source": [
    "user_role_assign.loc[0,'unique_role_name'] = np.NaN\n",
    "user_role_assign"
   ]
  },
  {
   "cell_type": "code",
   "execution_count": 52,
   "id": "713ff659-3b58-4eab-bce0-8398718a9811",
   "metadata": {},
   "outputs": [
    {
     "data": {
      "text/plain": [
       "3"
      ]
     },
     "execution_count": 52,
     "metadata": {},
     "output_type": "execute_result"
    }
   ],
   "source": [
    "project.import_user_role_assignment(user_role_assign, import_format='df')"
   ]
  },
  {
   "cell_type": "markdown",
   "id": "fa522494-957a-48fc-b023-2a43b03cdf08",
   "metadata": {},
   "source": [
    ":::"
   ]
  },
  {
   "cell_type": "markdown",
   "id": "80edd720-5987-47bb-938d-df89d0ec1ff6",
   "metadata": {},
   "source": [
    ":::"
   ]
  },
  {
   "cell_type": "code",
   "execution_count": null,
   "id": "f0b3ac9d-b9a8-42ec-8fd5-3d1d0d3c0513",
   "metadata": {},
   "outputs": [],
   "source": []
  }
 ],
 "metadata": {
  "kernelspec": {
   "display_name": "Python 3 (ipykernel)",
   "language": "python",
   "name": "python3"
  },
  "language_info": {
   "codemirror_mode": {
    "name": "ipython",
    "version": 3
   },
   "file_extension": ".py",
   "mimetype": "text/x-python",
   "name": "python",
   "nbconvert_exporter": "python",
   "pygments_lexer": "ipython3",
   "version": "3.12.2"
  }
 },
 "nbformat": 4,
 "nbformat_minor": 5
}
