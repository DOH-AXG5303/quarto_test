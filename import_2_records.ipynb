{
 "cells": [
  {
   "cell_type": "markdown",
   "id": "8a746e5c-925c-4e5d-83ff-e7af72039f91",
   "metadata": {},
   "source": [
    "# Records"
   ]
  },
  {
   "cell_type": "markdown",
   "id": "1def8fa4-be5b-41c5-b20f-ae3debb839e1",
   "metadata": {},
   "source": [
    "::: {.content-hidden when-format=\"html\"}"
   ]
  },
  {
   "cell_type": "code",
   "execution_count": 7,
   "id": "2d79f6e1-d4b1-4113-9a3e-9649a3563217",
   "metadata": {},
   "outputs": [],
   "source": [
    "#| echo: false\n",
    "#| output: false\n",
    "import os\n",
    "os.environ['R_HOME'] = f'C:/Users/{os.environ.get('USERNAME')}/Miniconda3/envs/r_python_jl/Lib/R'"
   ]
  },
  {
   "cell_type": "code",
   "execution_count": 8,
   "id": "5454914c-accb-4d92-977c-226c19e5ca9f",
   "metadata": {},
   "outputs": [
    {
     "name": "stderr",
     "output_type": "stream",
     "text": [
      "C:\\Users\\ekp0303\\Miniconda3\\envs\\r_python_jl\\Lib\\site-packages\\rpy2\\robjects\\packages.py:367: UserWarning: The symbol 'quartz' is not in this R namespace/package.\n",
      "  warnings.warn(\n"
     ]
    }
   ],
   "source": [
    "#| echo: false\n",
    "#| output: false\n",
    "# enables the %%R magic, not necessary if you've already done this\n",
    "%load_ext rpy2.ipython\n",
    "# only have to run once to allow the R magic command"
   ]
  },
  {
   "cell_type": "markdown",
   "id": "54e1d64d-b83b-44c5-baf0-d5a8e810d5d3",
   "metadata": {},
   "source": [
    "::: {.panel-tabset}\n",
    "\n",
    "#### R"
   ]
  },
  {
   "cell_type": "code",
   "execution_count": 9,
   "id": "6c7868bb-e4cb-43e2-85b1-ef66d5ed0ca7",
   "metadata": {
    "tags": []
   },
   "outputs": [],
   "source": [
    "%%capture --no-display \n",
    "%%R\n",
    "library(\"dplyr\")\n",
    "library(\"jsonlite\")\n",
    "library(\"tidyr\")\n",
    "library(\"REDCapR\")\n",
    "library(\"knitr\")\n",
    "library(\"remotes\")\n",
    "library(\"gt\")"
   ]
  },
  {
   "cell_type": "code",
   "execution_count": 10,
   "id": "697807fb-7812-4cd8-b698-b136be02b239",
   "metadata": {},
   "outputs": [
    {
     "name": "stdout",
     "output_type": "stream",
     "text": [
      "[1] '1.1.9005'\n"
     ]
    }
   ],
   "source": [
    "%%capture --no-display --no-stdout\n",
    "%%R\n",
    "\n",
    "# Detach REDCapR if already loaded, and download the latest version\n",
    "if (version!='1.1.9005') {\n",
    "    detach(\"package:REDCapR\", unload=TRUE)\n",
    "    remotes::install_github(\"OuhscBbmc/REDCapR\")\n",
    "    library(\"REDCapR\")\n",
    "    print(packageVersion(\"REDCapR\"))\n",
    "}\n",
    "\n",
    "else {\n",
    "    print(\"REDCapR package up to date\")\n",
    "}"
   ]
  },
  {
   "cell_type": "code",
   "execution_count": 11,
   "id": "2b0e46df-012a-412b-a91d-54c3d9d2a4fb",
   "metadata": {
    "tags": []
   },
   "outputs": [],
   "source": [
    "%%R\n",
    "# Load API tokens from the json file\n",
    "token <- jsonlite::fromJSON('./../../json_api_data.json')$dev_token$'309'\n",
    "url <- \"https://dev-redcap.doh.wa.gov/api/\""
   ]
  },
  {
   "cell_type": "markdown",
   "id": "d084af26-b0f6-4a7d-9494-1d72627ffdac",
   "metadata": {},
   "source": [
    "#### Python"
   ]
  },
  {
   "cell_type": "code",
   "execution_count": 12,
   "id": "6a06455c-3201-4bb2-bf38-56cfe6476bd1",
   "metadata": {},
   "outputs": [],
   "source": [
    "import redcap\n",
    "import json\n",
    "import csv\n",
    "import pandas as pd\n",
    "import numpy as np\n",
    "import requests\n",
    "import tempfile"
   ]
  },
  {
   "cell_type": "code",
   "execution_count": 13,
   "id": "9f995e13-651c-4902-ac46-a19466eb4f12",
   "metadata": {},
   "outputs": [],
   "source": [
    "# Load API tokens from the json file\n",
    "key = json.load(open('./../../json_api_data.json'))\n",
    "token = key['dev_token']['309']\n",
    "url = key['dev_url']\n",
    "\n",
    "project = redcap.Project(url, token)"
   ]
  },
  {
   "cell_type": "markdown",
   "id": "765fe288-915b-41d4-a908-14f9076dee68",
   "metadata": {},
   "source": [
    ":::"
   ]
  },
  {
   "cell_type": "markdown",
   "id": "960ef7d3-adf8-49d5-a42c-07f06d29bce9",
   "metadata": {},
   "source": [
    ":::"
   ]
  },
  {
   "cell_type": "markdown",
   "id": "bc8fa161-ab3a-4fe7-9edd-6fd68c9cbfb5",
   "metadata": {},
   "source": [
    "::: {.panel-tabset}\n",
    "\n",
    "#### R\n",
    "\n",
    "\n",
    "`redcap_write_oneshot()` and `redcap_write()`\n",
    "\n",
    "Records can be imported into a REDCap project from a dataframe in R using `redcap_write_oneshot()` to write a records all at once, or using `redcap_write()` which can batch the records to be imported so the server is not overwhelmed in the case of large imports. These methods will accept either an R dataframe or tibble containing the data to be imported. \n",
    "\n",
    "If the `record_id`(s) being imported already exists in the REDCap project, the imported data will overwrite the previously existing data for that record. Using a `record_id` that does not already exist will create a new record. See @sec-next_record on how to use the API to find the next available `record_id`.\n",
    "\n",
    "The `overwrite_with_blanks` argument is set to 'FALSE' by default; under this setting, if blank values are imported for fields on existing REDCap records and that data is not missing in REDCap, these values will not be overwritten as missing. If you want to overwrite existing data as missing, be sure to use `overwrite_with_blanks = 'TRUE'.`"
   ]
  },
  {
   "cell_type": "code",
   "execution_count": 14,
   "id": "1c77a26d-3ce4-41a1-984f-a1151774cab4",
   "metadata": {
    "tags": []
   },
   "outputs": [],
   "source": [
    "%%capture --no-display \n",
    "%%R\n",
    "# Define data to import\n",
    "df1 <- data.frame(record_id = c(7,8),\n",
    "                  first_name = c(\"John\",\"Jane\"),\n",
    "                  last_name = c(\"Doe\",\"Doe\")\n",
    "                  )"
   ]
  },
  {
   "cell_type": "code",
   "execution_count": 15,
   "id": "999df108-0b48-4f1c-ad61-5f7f1faf86f6",
   "metadata": {
    "tags": []
   },
   "outputs": [
    {
     "name": "stdout",
     "output_type": "stream",
     "text": [
      "$success\n",
      "[1] TRUE\n",
      "\n",
      "$status_code\n",
      "[1] 200\n",
      "\n",
      "$outcome_message\n",
      "[1] \"2 records were written to REDCap in 0.6 seconds.\"\n",
      "\n",
      "$records_affected_count\n",
      "[1] 2\n",
      "\n",
      "$affected_ids\n",
      "[1] \"7\" \"8\"\n",
      "\n",
      "$elapsed_seconds\n",
      "[1] 0.634845\n",
      "\n",
      "$raw_text\n",
      "[1] \"\"\n",
      "\n"
     ]
    }
   ],
   "source": [
    "%%capture --no-stdout \n",
    "%%R\n",
    "redcap_write_oneshot(df1, redcap_uri=url, token=token)"
   ]
  },
  {
   "cell_type": "code",
   "execution_count": 16,
   "id": "eee2506b-66b6-43a1-a387-6d374db3a330",
   "metadata": {
    "tags": []
   },
   "outputs": [],
   "source": [
    "%%R\n",
    "df2 <- data.frame(record_id = 9,\n",
    "                  first_name = \"John\",\n",
    "                  last_name = \"Doe\"\n",
    "                  )"
   ]
  },
  {
   "cell_type": "code",
   "execution_count": 17,
   "id": "5be13c50-7e62-4854-bff8-b5f26ef581d1",
   "metadata": {
    "tags": []
   },
   "outputs": [
    {
     "name": "stdout",
     "output_type": "stream",
     "text": [
      "$success\n",
      "[1] TRUE\n",
      "\n",
      "$status_code\n",
      "[1] \"200\"\n",
      "\n",
      "$outcome_message\n",
      "[1] \"1 records were written to REDCap in 0.4 seconds.\"\n",
      "\n",
      "$records_affected_count\n",
      "[1] 1\n",
      "\n",
      "$affected_ids\n",
      "[1] \"9\"\n",
      "\n",
      "$elapsed_seconds\n",
      "[1] 0.934711\n",
      "\n"
     ]
    }
   ],
   "source": [
    "%%capture --no-stdout \n",
    "%%R\n",
    "redcap_write(df2, redcap_uri=url, token=token)\n",
    "#optional argument: batch_size = 100 (default)"
   ]
  },
  {
   "cell_type": "markdown",
   "id": "27ccc7ac-2044-42f3-9bab-4da4454c4502",
   "metadata": {},
   "source": [
    "#### Python\n",
    "\n",
    "`import_records()`\n",
    "\n",
    "Data can be imported as a pandas dataframe, json, csv, or xml, specified by the `import_format` argument (default is json).\n",
    "\n",
    "If the `record_id`(s) being imported already exists in the REDCap project, the imported data will overwrite the previously existing data for that record. Using a `record_id` that does not already exist will create a new record. The `force_auto_number = 'True'` argument will automatically reassign existing `record_ids` to new `record_ids` during import. If set to 'False' and your Record ID's to import already exist in REDCap, they will overwrite the existing REDCap records during import. You can also see @sec-next_record on how to use the API to find the next available `record_id`.\n",
    "\n",
    "The `overwrite` argument is set to 'normal' by default; under this setting, if blank values are imported for fields on existing REDCap records and that data is not missing in REDCap, these values will not be overwritten as missing. If you want to overwrite existing data as missing, be sure to use `overwrite = 'overwrite'.`"
   ]
  },
  {
   "cell_type": "code",
   "execution_count": 25,
   "id": "e69722ac-716e-4558-83c0-a24799f0a4cf",
   "metadata": {},
   "outputs": [
    {
     "data": {
      "text/plain": [
       "{'count': 2}"
      ]
     },
     "execution_count": 25,
     "metadata": {},
     "output_type": "execute_result"
    }
   ],
   "source": [
    "df_py = [{'record_id': 7,\n",
    "  'redcap_event_name': 'personal_info_arm_1',\n",
    "  'redcap_repeat_instrument': '',\n",
    "  'redcap_repeat_instance': None,\n",
    "  'first_name': 'John',\n",
    "  'last_name': 'Doe'},\n",
    " {'record_id': 8,\n",
    "  'redcap_event_name': 'personal_info_arm_1',\n",
    "  'redcap_repeat_instrument': '',\n",
    "  'redcap_repeat_instance': None,\n",
    "  'first_name': 'Jane',\n",
    "  'last_name': 'Doe'}]\n",
    "\n",
    "project.import_records(df_py, force_auto_number=True)"
   ]
  },
  {
   "cell_type": "markdown",
   "id": "6c5e1209-24c3-4914-9dd5-811e19e0ca69",
   "metadata": {},
   "source": [
    ":::"
   ]
  },
  {
   "cell_type": "markdown",
   "id": "49f3d835-7729-40aa-bd36-f8160166b005",
   "metadata": {},
   "source": [
    "**Note:** For troubleshooting import errors, please thoroughly review @sec-import_appendix. This chapter goes into to detail about the limitations to importing and provides more detailed import examples. "
   ]
  },
  {
   "cell_type": "code",
   "execution_count": null,
   "id": "70cce367-129e-49e9-91ce-24702442482a",
   "metadata": {},
   "outputs": [],
   "source": []
  }
 ],
 "metadata": {
  "kernelspec": {
   "display_name": "Python 3 (ipykernel)",
   "language": "python",
   "name": "python3"
  },
  "language_info": {
   "codemirror_mode": {
    "name": "ipython",
    "version": 3
   },
   "file_extension": ".py",
   "mimetype": "text/x-python",
   "name": "python",
   "nbconvert_exporter": "python",
   "pygments_lexer": "ipython3",
   "version": "3.12.2"
  }
 },
 "nbformat": 4,
 "nbformat_minor": 5
}
