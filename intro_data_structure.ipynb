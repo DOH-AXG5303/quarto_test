{
 "cells": [
  {
   "cell_type": "markdown",
   "id": "8f09d26c-83b3-42f0-9255-8075271742ee",
   "metadata": {
    "tags": []
   },
   "source": [
    "# Data Structure {#sec-intro_data_structure}"
   ]
  },
  {
   "cell_type": "markdown",
   "id": "93d953c0-7016-401b-a1d7-69ba65ebe5b7",
   "metadata": {},
   "source": [
    "## Example REDCap Projects and Data Structures"
   ]
  },
  {
   "cell_type": "markdown",
   "id": "a4ab5866-94bf-43c7-841c-501f1c2cfc79",
   "metadata": {},
   "source": [
    "![](./files/project_examples_non-long.png)\n",
    "\n",
    "![](./files/project_examples_long_pt1.png)\n",
    "\n",
    "![](./files/project_examples_long_pt2.png)\n"
   ]
  },
  {
   "cell_type": "markdown",
   "id": "0a70f29a-b9b1-4f48-8511-a2df30f8a3bc",
   "metadata": {},
   "source": [
    "The base of every unique key is always the `record_id`. In non-longitudinal projects, there may also be a `repeat_instrument` and `repeat_instance` column if these features are enabled. In longitudinal projects, there will be an `event_name` column, as well as a `repeat_instance` column in the case of repeating events and a `repeat_instrument` column in the case of independently repeating instruments. \n",
    "\n",
    "This unique key applies for studies with and without multiple arms. Each value for the `event_name` includes the study arm as a suffix. The suffix will automatically be *\"_arm_1\"* for longitudinal studies without additional arms.  \n",
    "\n",
    "These special unique key fields must be appropriately filled out in the data being imported to REDCap."
   ]
  },
  {
   "cell_type": "markdown",
   "id": "27583245-0ab7-4b78-a291-6f61d2643219",
   "metadata": {},
   "source": [
    "## Repeating Events and Independently Repeating Instruments"
   ]
  },
  {
   "cell_type": "markdown",
   "id": "00372308-a6d4-4ef1-b28b-4ca238d1c709",
   "metadata": {},
   "source": [
    "Data is exported from REDCap projects as one large table where the length of the table (number of columns) is equal to all the fields across all project instruments. \n",
    "\n",
    "Assuming no repeating instruments or events, there is one row per record in non-longitudinal projects and one row per record-event in longitudinal projects. In the case of independently repeating instruments and repeating events, there is one additional row per repeat instance per record. Each row has all fields across all instruments, but the fields (columns) not associated with the instruments for that event (rows) will be NA."
   ]
  },
  {
   "cell_type": "markdown",
   "id": "1d4249bc-e092-441e-97b2-026acc2c12e1",
   "metadata": {},
   "source": [
    "Regardless of how you choose to export REDCap project data (directly in REDCap or using an API), the data structure will be the same. Here is an example of the data structure for the REDCap project we will be using in this tutorial. "
   ]
  },
  {
   "cell_type": "raw",
   "id": "011430a5-0383-46c5-bf68-f7ce3110f5ca",
   "metadata": {},
   "source": [
    "<p align=\"center\"><iframe width=\"100%\" height=\"500\" src=\"./files/export_files/export_records1.html\" title=\"Quarto Documentation\"></iframe></p>"
   ]
  },
  {
   "cell_type": "markdown",
   "id": "f47b8191-9fee-4dfb-aff3-687c8495b280",
   "metadata": {},
   "source": [
    "In this example:"
   ]
  },
  {
   "cell_type": "markdown",
   "id": "0a88b4a4-aab9-4dcb-91e8-f6a775cadf42",
   "metadata": {},
   "source": [
    "1. The 'close_contacts' instrument repeats independently within the 'notifications_arm_1' event (only responses to the 'close_contacts' instrument are in these rows with one row per record per instance of the instrument).\n",
    "2. One other instrument is also in the 'notifications_arm_1' event but does not repeat. This data populates a seperate row where the redcap_event_name = \"notifications_arm_1\", but the redcap_repeat_instrument = \"NA\"  and the redcap_repeat_instance = \"NA\". Non-repeating instruments in an event will have their own row, seperate from independently repeating instruments in that same event.\n",
    "3. The 'case_intake_arm_1' event repeats as an entire event, so each repeat of the event per record will occupy one row with the redcap_repeat_instance variable signifying the instance number.\n",
    "4. The 'personal_info_arm_1' is not repeating, nor are the instruments within this event, so it occupies one row per record-event."
   ]
  },
  {
   "cell_type": "markdown",
   "id": "de36dd72-6d37-4d7f-998b-4779e21161ad",
   "metadata": {},
   "source": [
    "**Note:** Since this is a longitudinal project example, the arm name is automatically appended as a suffix in the `redcap_event_name` column. In this project there is only one arm, so all events are exported with the \"arm_1\" suffix. However, if there were mutliple arms, the suffix would distinguish which arm each event is in."
   ]
  },
  {
   "cell_type": "markdown",
   "id": "d1e2cd0d-2331-4727-a062-a2ae8ef5beb4",
   "metadata": {},
   "source": [
    "Checking the instrument event map will give you a quick understanding of the project structure. See @sec-inst_event_map for how to do this via API."
   ]
  },
  {
   "cell_type": "markdown",
   "id": "6652a829-1dc6-4af5-bdfa-4fa9aef46e7e",
   "metadata": {},
   "source": [
    "## Notes on REDCap Data Types and API Exports\n",
    "\n",
    "### Standard Field Types\n",
    "- text\n",
    "- notes\n",
    "- calculated field\n",
    "- dropdown\n",
    "- radio\n",
    "- checkbox\n",
    "- yes/no\n",
    "- true/false\n",
    "- file upload\n",
    "- descriptive\n",
    "- dynamic query (sql)\n",
    "\n",
    "\n",
    "### Non-Standard Field types\n",
    "- instrument_name_complete  \n",
    "\n",
    "\n",
    "\n",
    "In addition to the standard types, each instrument (form) has a column to indicate if the instrument is complete/incomplete/unverified. The instrument_name_complete field is exported via standard API call.  \n",
    "\n",
    "\n",
    "### API Export Records (default settings)\n",
    "- text\n",
    "- notes\n",
    "- calculated field\n",
    "- dropdown\n",
    "- radio\n",
    "- checkbox\n",
    "- yes/no\n",
    "- true/false\n",
    "- file upload\n",
    "- ~~descriptive~~\n",
    "- dynamic query (sql)\n",
    "- instrument_name_complete\n",
    "\n",
    "\n",
    "Note: \"descriptive\" field type is NOT exported"
   ]
  },
  {
   "cell_type": "markdown",
   "id": "48e2aa01-ddca-4bea-bed5-cdaf65c3ab96",
   "metadata": {},
   "source": [
    "## Checkboxes"
   ]
  },
  {
   "cell_type": "markdown",
   "id": "ee6958dd-7336-4977-a7dd-0e3e768314b7",
   "metadata": {},
   "source": [
    "Checkboxes are exported as a wide data set with each checkbox option stored as its own variable. These variables will be appended with a double underscore and the number that the choice option is assigned within REDCap. Alternatively, the actual choice can be viewed if you export the dataset with labeled headers. \n",
    "\n",
    "See below for how the checkbox variable `sympoms_exp` exports. This checkbox had 11 different options and so it will occupy 11 columns. You can also see this question is asked in the `case_intake_arm_1` event and so the value is NA in any row not associated with this event. "
   ]
  },
  {
   "cell_type": "markdown",
   "id": "0eebe255-5402-49ad-aecc-2ea877f85ac6",
   "metadata": {},
   "source": [
    "<p align=\"center\"><iframe width=\"100%\" height=\"300\" src=\"./files/export_files/export_checkbox.html\" title=\"Quarto Documentation\"></iframe></p>"
   ]
  },
  {
   "cell_type": "markdown",
   "id": "fb51f03a-4b15-465f-bc55-ab0293279cd8",
   "metadata": {},
   "source": [
    "**Note:** When putting the exported data into a pandas dataframe in Python, any raw values for coded data that are integer strings in REDCap become floats with a decimal appended. If this exported dataset were to be re-imported into REDCap, errors will arise for all of the fields with the now float-type data when REDCap is expecting an integer. See the Python section under @sec-import_csv for more."
   ]
  },
  {
   "cell_type": "code",
   "execution_count": null,
   "id": "10f1ae45-2546-40b3-9d86-5985b77310d5",
   "metadata": {},
   "outputs": [],
   "source": []
  }
 ],
 "metadata": {
  "kernelspec": {
   "display_name": "Python 3 (ipykernel)",
   "language": "python",
   "name": "python3"
  },
  "language_info": {
   "codemirror_mode": {
    "name": "ipython",
    "version": 3
   },
   "file_extension": ".py",
   "mimetype": "text/x-python",
   "name": "python",
   "nbconvert_exporter": "python",
   "pygments_lexer": "ipython3",
   "version": "3.12.2"
  }
 },
 "nbformat": 4,
 "nbformat_minor": 5
}
