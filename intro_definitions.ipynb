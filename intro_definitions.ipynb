{
 "cells": [
  {
   "cell_type": "markdown",
   "id": "5da94f76-cbd8-4e8c-adf4-75e8dcb72375",
   "metadata": {},
   "source": [
    "# Definitions {#sec-definitions}"
   ]
  },
  {
   "cell_type": "markdown",
   "id": "1508dc42-42f9-42ba-98ae-fbf770b7cda4",
   "metadata": {},
   "source": [
    "## Records\n",
    "\n",
    "Records are the set of information for a unique participant. Each record is composed of a number of fields (pieces of data), which can be spread across multiple instruments per record.  \n",
    "\n",
    "Exporting records returns all of the data entered into the record(s) of interest. By default, all records in the project will be returned. A subset of records can be specified.  \n",
    "\n",
    "The labels for the questions can be exported rather than the variable names. Similarly, the labels for the data entered can be exported instead of the corresponding raw numeric values that REDCap uses. "
   ]
  },
  {
   "cell_type": "markdown",
   "id": "0da07a56-9182-4c16-ac78-b9931084a131",
   "metadata": {},
   "source": [
    "## Fields\n",
    "\n",
    "Fields are the individual places where data can be recorded (e.g., a question on a survey).  \n",
    "\n",
    "Exporting field names will capture the variable name, choice values (when applicable; e.g., for checkbox fields), and the modified export field name with the choice value appended. "
   ]
  },
  {
   "cell_type": "markdown",
   "id": "26aa7bc8-509e-46d5-b07a-5adda384c365",
   "metadata": {},
   "source": [
    "## Instruments/Forms\n",
    "\n",
    "Instruments are a collection of fields to collect data. Instruments may be referred to as \"forms\" when being filled out by a project user or a \"survey\" when being filled out by external users (via a web link or email invitation). \n",
    "\n",
    "Instruments may be repeating or non-repeating and can be in either longitudinal or non-longitudinal projects. Repeating instruments can be set up to repeat a defined number of times or repeat an indefinite number of times. Each repeat is called an “instance”."
   ]
  },
  {
   "cell_type": "markdown",
   "id": "4b350925-29b6-46ba-827f-c4cf4fce3b29",
   "metadata": {},
   "source": [
    "## Events\n",
    "\n",
    "Events are required when a project is enabled as longitudinal. An event may be a temporal event during your longitudinal project, such as a participant visit or a task to be performed. The default is 1 event. Once a project is enabled as longitudinal, each instrument must be associated with an event. \n",
    "\n",
    "Events may be repeating or non-repeating. When an event is set to repeating, all the instruments in that event will be repeated together. You can also specify to have specific instrument independtly repeat within an event. Each repeat of an Event or independent instrument is called an “instance”."
   ]
  },
  {
   "cell_type": "markdown",
   "id": "90919871-f50f-486f-88a6-b7a171f6cb8d",
   "metadata": {},
   "source": [
    "## Arms\n",
    "\n",
    "Events can be grouped into 'arms'. There may be one or more arms for a project. Arms can be though of as different groups in a clinical trial (e.g., a test group and a control group). Each arm can have as many events as you wish. Each arm can have the same events or different events with different instruments. The default is 1 arm."
   ]
  },
  {
   "cell_type": "markdown",
   "id": "5b729f9b-2a02-4d45-b74b-f486b0e01550",
   "metadata": {},
   "source": [
    "## Metadata\n",
    "\n",
    "Metadata refers to the project's set up characteristics, including field attributes grouped by instrument assignment. Metadata can be thought of as the project's data dictionary."
   ]
  },
  {
   "cell_type": "markdown",
   "id": "1869c4f1-b5fe-4f6a-a3e9-f7f958a2f893",
   "metadata": {},
   "source": [
    "## Reports\n",
    "\n",
    "Reports are a good way to view data from multiple records at once. REDCap has two default reports (A & B) and additional custom reports can be created. Report A displays all data for all records, while Report B can be customized to display data from specified instruments or events. Data can be exported from custom reports using the auto-generated report ID number.   "
   ]
  },
  {
   "cell_type": "code",
   "execution_count": null,
   "id": "10f1ae45-2546-40b3-9d86-5985b77310d5",
   "metadata": {},
   "outputs": [],
   "source": []
  }
 ],
 "metadata": {
  "kernelspec": {
   "display_name": "Python 3 (ipykernel)",
   "language": "python",
   "name": "python3"
  },
  "language_info": {
   "codemirror_mode": {
    "name": "ipython",
    "version": 3
   },
   "file_extension": ".py",
   "mimetype": "text/x-python",
   "name": "python",
   "nbconvert_exporter": "python",
   "pygments_lexer": "ipython3",
   "version": "3.12.2"
  }
 },
 "nbformat": 4,
 "nbformat_minor": 5
}
