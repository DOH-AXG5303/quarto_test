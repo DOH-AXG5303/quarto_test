{
 "cells": [
  {
   "cell_type": "raw",
   "metadata": {},
   "source": [
    "---\n",
    "title: Exporting from REDCap\n",
    "format: html\n",
    "---"
   ]
  },
  {
   "cell_type": "markdown",
   "metadata": {},
   "source": [
    "## Project Setup\n",
    "\n",
    "Install and load the necessary packages"
   ]
  },
  {
   "cell_type": "code",
   "execution_count": 159,
   "metadata": {},
   "outputs": [],
   "source": [
    "#| echo: false\n",
    "#| output: false\n",
    "import os\n",
    "os.environ['R_HOME'] = f'C:/Users/{os.environ.get('USERNAME')}/Miniconda3/envs/r_python_jl/Lib/R'"
   ]
  },
  {
   "cell_type": "code",
   "execution_count": 160,
   "metadata": {},
   "outputs": [
    {
     "name": "stdout",
     "output_type": "stream",
     "text": [
      "The rpy2.ipython extension is already loaded. To reload it, use:\n",
      "  %reload_ext rpy2.ipython\n"
     ]
    }
   ],
   "source": [
    "#| echo: false\n",
    "#| output: false\n",
    "%load_ext rpy2.ipython\n",
    "# only have to run once to allow the R magic command"
   ]
  },
  {
   "cell_type": "markdown",
   "metadata": {},
   "source": [
    "::: {.panel-tabset}\n",
    "\n",
    "#### R"
   ]
  },
  {
   "cell_type": "code",
   "execution_count": 161,
   "metadata": {},
   "outputs": [],
   "source": [
    "%%capture \n",
    "%%R\n",
    "\n",
    "library(\"dplyr\")\n",
    "library(\"jsonlite\")\n",
    "library(\"tidyr\")\n",
    "library(\"REDCapR\")\n",
    "library(\"knitr\")\n",
    "library(\"remotes\")\n",
    "library(\"gt\")"
   ]
  },
  {
   "cell_type": "code",
   "execution_count": 162,
   "metadata": {},
   "outputs": [
    {
     "name": "stdout",
     "output_type": "stream",
     "text": [
      "[1] '1.1.9005'\n"
     ]
    }
   ],
   "source": [
    "%%capture --no-display --no-stdout\n",
    "%%R\n",
    "\n",
    "version <- packageVersion(\"REDCapR\")\n",
    "version"
   ]
  },
  {
   "cell_type": "markdown",
   "metadata": {},
   "source": [
    "In this project, we will use the bleeding edge version of REDCapR available on Github"
   ]
  },
  {
   "cell_type": "code",
   "execution_count": 163,
   "metadata": {
    "scrolled": true
   },
   "outputs": [
    {
     "name": "stdout",
     "output_type": "stream",
     "text": [
      "[1] \"REDCapR package up to date\"\n"
     ]
    }
   ],
   "source": [
    "%%capture --no-display --no-stdout\n",
    "%%R\n",
    "\n",
    "# Detach REDCapR if already loaded, and download the latest version\n",
    "if (version!='1.1.9005') {\n",
    "    detach(\"package:REDCapR\", unload=TRUE)\n",
    "    remotes::install_github(\"OuhscBbmc/REDCapR\")\n",
    "    library(\"REDCapR\")\n",
    "    print(packageVersion(\"REDCapR\"))\n",
    "}\n",
    "\n",
    "else {\n",
    "    print(\"REDCapR package up to date\")\n",
    "}"
   ]
  },
  {
   "cell_type": "markdown",
   "metadata": {},
   "source": [
    "#### Python"
   ]
  },
  {
   "cell_type": "code",
   "execution_count": 164,
   "metadata": {
    "scrolled": true
   },
   "outputs": [],
   "source": [
    "# import pycap\n",
    "import redcap\n",
    "import json\n",
    "import pandas as pd\n",
    "# import requests"
   ]
  },
  {
   "cell_type": "markdown",
   "metadata": {},
   "source": [
    ":::"
   ]
  },
  {
   "cell_type": "markdown",
   "metadata": {},
   "source": [
    "Assign your project URL and Token"
   ]
  },
  {
   "cell_type": "markdown",
   "metadata": {},
   "source": [
    "::: {.panel-tabset}\n",
    "\n",
    "#### R"
   ]
  },
  {
   "cell_type": "code",
   "execution_count": 178,
   "metadata": {},
   "outputs": [],
   "source": [
    "%%R\n",
    "path = paste0(\"C:/Users/\", Sys.getenv(\"USERNAME\"), '/json_api_data.json')\n",
    "token <- jsonlite::fromJSON(path)$dev_token$'308'\n",
    "url <- \"https://dev-redcap.doh.wa.gov/api/\""
   ]
  },
  {
   "cell_type": "markdown",
   "metadata": {},
   "source": [
    "#### Python"
   ]
  },
  {
   "cell_type": "code",
   "execution_count": 180,
   "metadata": {
    "scrolled": true
   },
   "outputs": [],
   "source": [
    "path_to_json = f\"C:/Users/{os.environ.get('USERNAME')}/json_api_data.json\"\n",
    "api_key = json.load(open(path_to_json))\n",
    "api_token = api_key['dev_token']['308']\n",
    "api_url = api_key['dev_url']\n",
    "project = redcap.Project(api_url, api_token)"
   ]
  },
  {
   "cell_type": "markdown",
   "metadata": {},
   "source": [
    ":::"
   ]
  },
  {
   "cell_type": "markdown",
   "metadata": {},
   "source": [
    "## Exporting Records\n",
    "\n",
    "### Exporting Raw Data\n",
    "\n",
    "::: {.panel-tabset}\n",
    "\n",
    "#### R"
   ]
  },
  {
   "cell_type": "code",
   "execution_count": 280,
   "metadata": {},
   "outputs": [],
   "source": [
    "%%capture \n",
    "%%R\n",
    "records <- redcap_read_oneshot(\n",
    "    redcap_uri = url, \n",
    "    token = token\n",
    ")$data\n",
    "\n",
    "records_tbl<- gt(head(records))\n",
    "gt::gtsave(records_tbl, filename = 'export_records1.html', path = \"./files/export_files/\")"
   ]
  },
  {
   "cell_type": "raw",
   "metadata": {},
   "source": [
    "<p align=\"center\"><iframe width=\"100%\" height=\"500\" src=\"./files/export_files/export_records1.html\" title=\"Quarto Documentation\"></iframe></p>"
   ]
  },
  {
   "cell_type": "markdown",
   "metadata": {},
   "source": [
    "#### Python"
   ]
  },
  {
   "cell_type": "code",
   "execution_count": 281,
   "metadata": {
    "scrolled": true
   },
   "outputs": [
    {
     "data": {
      "text/html": [
       "<div>\n",
       "<style scoped>\n",
       "    .dataframe tbody tr th:only-of-type {\n",
       "        vertical-align: middle;\n",
       "    }\n",
       "\n",
       "    .dataframe tbody tr th {\n",
       "        vertical-align: top;\n",
       "    }\n",
       "\n",
       "    .dataframe thead th {\n",
       "        text-align: right;\n",
       "    }\n",
       "</style>\n",
       "<table border=\"1\" class=\"dataframe\">\n",
       "  <thead>\n",
       "    <tr style=\"text-align: right;\">\n",
       "      <th></th>\n",
       "      <th></th>\n",
       "      <th>redcap_repeat_instrument</th>\n",
       "      <th>redcap_repeat_instance</th>\n",
       "      <th>first_name</th>\n",
       "      <th>last_name</th>\n",
       "      <th>phone_num</th>\n",
       "      <th>zip_code</th>\n",
       "      <th>dob</th>\n",
       "      <th>age</th>\n",
       "      <th>ethnicity</th>\n",
       "      <th>race</th>\n",
       "      <th>...</th>\n",
       "      <th>cc_phone</th>\n",
       "      <th>cc_email</th>\n",
       "      <th>close_contacts_complete</th>\n",
       "      <th>supervisor_name</th>\n",
       "      <th>supervisor_email</th>\n",
       "      <th>work_inperson_yesno</th>\n",
       "      <th>work_date</th>\n",
       "      <th>work_contagious</th>\n",
       "      <th>work_contagious_calc</th>\n",
       "      <th>work_information_complete</th>\n",
       "    </tr>\n",
       "    <tr>\n",
       "      <th>record_id</th>\n",
       "      <th>redcap_event_name</th>\n",
       "      <th></th>\n",
       "      <th></th>\n",
       "      <th></th>\n",
       "      <th></th>\n",
       "      <th></th>\n",
       "      <th></th>\n",
       "      <th></th>\n",
       "      <th></th>\n",
       "      <th></th>\n",
       "      <th></th>\n",
       "      <th></th>\n",
       "      <th></th>\n",
       "      <th></th>\n",
       "      <th></th>\n",
       "      <th></th>\n",
       "      <th></th>\n",
       "      <th></th>\n",
       "      <th></th>\n",
       "      <th></th>\n",
       "      <th></th>\n",
       "      <th></th>\n",
       "    </tr>\n",
       "  </thead>\n",
       "  <tbody>\n",
       "    <tr>\n",
       "      <th rowspan=\"5\" valign=\"top\">1</th>\n",
       "      <th>personal_info_arm_1</th>\n",
       "      <td>NaN</td>\n",
       "      <td>NaN</td>\n",
       "      <td>John</td>\n",
       "      <td>Doe</td>\n",
       "      <td>(999) 999-9999</td>\n",
       "      <td>98105.0</td>\n",
       "      <td>2006-04-11</td>\n",
       "      <td>18.0</td>\n",
       "      <td>1.0</td>\n",
       "      <td>4.0</td>\n",
       "      <td>...</td>\n",
       "      <td>NaN</td>\n",
       "      <td>NaN</td>\n",
       "      <td>NaN</td>\n",
       "      <td>NaN</td>\n",
       "      <td>NaN</td>\n",
       "      <td>NaN</td>\n",
       "      <td>NaN</td>\n",
       "      <td>NaN</td>\n",
       "      <td>NaN</td>\n",
       "      <td>NaN</td>\n",
       "    </tr>\n",
       "    <tr>\n",
       "      <th>notifications_arm_1</th>\n",
       "      <td>NaN</td>\n",
       "      <td>NaN</td>\n",
       "      <td>NaN</td>\n",
       "      <td>NaN</td>\n",
       "      <td>NaN</td>\n",
       "      <td>NaN</td>\n",
       "      <td>NaN</td>\n",
       "      <td>NaN</td>\n",
       "      <td>NaN</td>\n",
       "      <td>NaN</td>\n",
       "      <td>...</td>\n",
       "      <td>NaN</td>\n",
       "      <td>NaN</td>\n",
       "      <td>NaN</td>\n",
       "      <td>Boss</td>\n",
       "      <td>NaN</td>\n",
       "      <td>0.0</td>\n",
       "      <td>NaN</td>\n",
       "      <td>0.0</td>\n",
       "      <td>NaN</td>\n",
       "      <td>2.0</td>\n",
       "    </tr>\n",
       "    <tr>\n",
       "      <th>case_intake_arm_1</th>\n",
       "      <td>NaN</td>\n",
       "      <td>1.0</td>\n",
       "      <td>NaN</td>\n",
       "      <td>NaN</td>\n",
       "      <td>NaN</td>\n",
       "      <td>NaN</td>\n",
       "      <td>NaN</td>\n",
       "      <td>NaN</td>\n",
       "      <td>NaN</td>\n",
       "      <td>NaN</td>\n",
       "      <td>...</td>\n",
       "      <td>NaN</td>\n",
       "      <td>NaN</td>\n",
       "      <td>NaN</td>\n",
       "      <td>NaN</td>\n",
       "      <td>NaN</td>\n",
       "      <td>NaN</td>\n",
       "      <td>NaN</td>\n",
       "      <td>NaN</td>\n",
       "      <td>NaN</td>\n",
       "      <td>NaN</td>\n",
       "    </tr>\n",
       "    <tr>\n",
       "      <th>notifications_arm_1</th>\n",
       "      <td>close_contacts</td>\n",
       "      <td>1.0</td>\n",
       "      <td>NaN</td>\n",
       "      <td>NaN</td>\n",
       "      <td>NaN</td>\n",
       "      <td>NaN</td>\n",
       "      <td>NaN</td>\n",
       "      <td>NaN</td>\n",
       "      <td>NaN</td>\n",
       "      <td>NaN</td>\n",
       "      <td>...</td>\n",
       "      <td>(999) 999-9999</td>\n",
       "      <td>fake_email@gmail.com</td>\n",
       "      <td>2.0</td>\n",
       "      <td>NaN</td>\n",
       "      <td>NaN</td>\n",
       "      <td>NaN</td>\n",
       "      <td>NaN</td>\n",
       "      <td>NaN</td>\n",
       "      <td>NaN</td>\n",
       "      <td>NaN</td>\n",
       "    </tr>\n",
       "    <tr>\n",
       "      <th>notifications_arm_1</th>\n",
       "      <td>close_contacts</td>\n",
       "      <td>2.0</td>\n",
       "      <td>NaN</td>\n",
       "      <td>NaN</td>\n",
       "      <td>NaN</td>\n",
       "      <td>NaN</td>\n",
       "      <td>NaN</td>\n",
       "      <td>NaN</td>\n",
       "      <td>NaN</td>\n",
       "      <td>NaN</td>\n",
       "      <td>...</td>\n",
       "      <td>(999) 999-9999</td>\n",
       "      <td>fake_email@gmail.com</td>\n",
       "      <td>2.0</td>\n",
       "      <td>NaN</td>\n",
       "      <td>NaN</td>\n",
       "      <td>NaN</td>\n",
       "      <td>NaN</td>\n",
       "      <td>NaN</td>\n",
       "      <td>NaN</td>\n",
       "      <td>NaN</td>\n",
       "    </tr>\n",
       "    <tr>\n",
       "      <th rowspan=\"5\" valign=\"top\">2</th>\n",
       "      <th>personal_info_arm_1</th>\n",
       "      <td>NaN</td>\n",
       "      <td>NaN</td>\n",
       "      <td>Jane</td>\n",
       "      <td>Doe</td>\n",
       "      <td>(999) 999-9999</td>\n",
       "      <td>98105.0</td>\n",
       "      <td>1994-06-29</td>\n",
       "      <td>29.0</td>\n",
       "      <td>0.0</td>\n",
       "      <td>5.0</td>\n",
       "      <td>...</td>\n",
       "      <td>NaN</td>\n",
       "      <td>NaN</td>\n",
       "      <td>NaN</td>\n",
       "      <td>NaN</td>\n",
       "      <td>NaN</td>\n",
       "      <td>NaN</td>\n",
       "      <td>NaN</td>\n",
       "      <td>NaN</td>\n",
       "      <td>NaN</td>\n",
       "      <td>NaN</td>\n",
       "    </tr>\n",
       "    <tr>\n",
       "      <th>notifications_arm_1</th>\n",
       "      <td>NaN</td>\n",
       "      <td>NaN</td>\n",
       "      <td>NaN</td>\n",
       "      <td>NaN</td>\n",
       "      <td>NaN</td>\n",
       "      <td>NaN</td>\n",
       "      <td>NaN</td>\n",
       "      <td>NaN</td>\n",
       "      <td>NaN</td>\n",
       "      <td>NaN</td>\n",
       "      <td>...</td>\n",
       "      <td>NaN</td>\n",
       "      <td>NaN</td>\n",
       "      <td>NaN</td>\n",
       "      <td>Boss</td>\n",
       "      <td>fake_email@gmail.com</td>\n",
       "      <td>1.0</td>\n",
       "      <td>2023-10-10</td>\n",
       "      <td>1.0</td>\n",
       "      <td>NaN</td>\n",
       "      <td>2.0</td>\n",
       "    </tr>\n",
       "    <tr>\n",
       "      <th>case_intake_arm_1</th>\n",
       "      <td>NaN</td>\n",
       "      <td>1.0</td>\n",
       "      <td>NaN</td>\n",
       "      <td>NaN</td>\n",
       "      <td>NaN</td>\n",
       "      <td>NaN</td>\n",
       "      <td>NaN</td>\n",
       "      <td>NaN</td>\n",
       "      <td>NaN</td>\n",
       "      <td>NaN</td>\n",
       "      <td>...</td>\n",
       "      <td>NaN</td>\n",
       "      <td>NaN</td>\n",
       "      <td>NaN</td>\n",
       "      <td>NaN</td>\n",
       "      <td>NaN</td>\n",
       "      <td>NaN</td>\n",
       "      <td>NaN</td>\n",
       "      <td>NaN</td>\n",
       "      <td>NaN</td>\n",
       "      <td>NaN</td>\n",
       "    </tr>\n",
       "    <tr>\n",
       "      <th>case_intake_arm_1</th>\n",
       "      <td>NaN</td>\n",
       "      <td>2.0</td>\n",
       "      <td>NaN</td>\n",
       "      <td>NaN</td>\n",
       "      <td>NaN</td>\n",
       "      <td>NaN</td>\n",
       "      <td>NaN</td>\n",
       "      <td>NaN</td>\n",
       "      <td>NaN</td>\n",
       "      <td>NaN</td>\n",
       "      <td>...</td>\n",
       "      <td>NaN</td>\n",
       "      <td>NaN</td>\n",
       "      <td>NaN</td>\n",
       "      <td>NaN</td>\n",
       "      <td>NaN</td>\n",
       "      <td>NaN</td>\n",
       "      <td>NaN</td>\n",
       "      <td>NaN</td>\n",
       "      <td>NaN</td>\n",
       "      <td>NaN</td>\n",
       "    </tr>\n",
       "    <tr>\n",
       "      <th>notifications_arm_1</th>\n",
       "      <td>close_contacts</td>\n",
       "      <td>1.0</td>\n",
       "      <td>NaN</td>\n",
       "      <td>NaN</td>\n",
       "      <td>NaN</td>\n",
       "      <td>NaN</td>\n",
       "      <td>NaN</td>\n",
       "      <td>NaN</td>\n",
       "      <td>NaN</td>\n",
       "      <td>NaN</td>\n",
       "      <td>...</td>\n",
       "      <td>(999) 999-9999</td>\n",
       "      <td>fake_email@gmail.com</td>\n",
       "      <td>2.0</td>\n",
       "      <td>NaN</td>\n",
       "      <td>NaN</td>\n",
       "      <td>NaN</td>\n",
       "      <td>NaN</td>\n",
       "      <td>NaN</td>\n",
       "      <td>NaN</td>\n",
       "      <td>NaN</td>\n",
       "    </tr>\n",
       "  </tbody>\n",
       "</table>\n",
       "<p>10 rows × 46 columns</p>\n",
       "</div>"
      ],
      "text/plain": [
       "                              redcap_repeat_instrument  \\\n",
       "record_id redcap_event_name                              \n",
       "1         personal_info_arm_1                      NaN   \n",
       "          notifications_arm_1                      NaN   \n",
       "          case_intake_arm_1                        NaN   \n",
       "          notifications_arm_1           close_contacts   \n",
       "          notifications_arm_1           close_contacts   \n",
       "2         personal_info_arm_1                      NaN   \n",
       "          notifications_arm_1                      NaN   \n",
       "          case_intake_arm_1                        NaN   \n",
       "          case_intake_arm_1                        NaN   \n",
       "          notifications_arm_1           close_contacts   \n",
       "\n",
       "                               redcap_repeat_instance first_name last_name  \\\n",
       "record_id redcap_event_name                                                  \n",
       "1         personal_info_arm_1                     NaN       John       Doe   \n",
       "          notifications_arm_1                     NaN        NaN       NaN   \n",
       "          case_intake_arm_1                       1.0        NaN       NaN   \n",
       "          notifications_arm_1                     1.0        NaN       NaN   \n",
       "          notifications_arm_1                     2.0        NaN       NaN   \n",
       "2         personal_info_arm_1                     NaN       Jane       Doe   \n",
       "          notifications_arm_1                     NaN        NaN       NaN   \n",
       "          case_intake_arm_1                       1.0        NaN       NaN   \n",
       "          case_intake_arm_1                       2.0        NaN       NaN   \n",
       "          notifications_arm_1                     1.0        NaN       NaN   \n",
       "\n",
       "                                    phone_num  zip_code         dob   age  \\\n",
       "record_id redcap_event_name                                                 \n",
       "1         personal_info_arm_1  (999) 999-9999   98105.0  2006-04-11  18.0   \n",
       "          notifications_arm_1             NaN       NaN         NaN   NaN   \n",
       "          case_intake_arm_1               NaN       NaN         NaN   NaN   \n",
       "          notifications_arm_1             NaN       NaN         NaN   NaN   \n",
       "          notifications_arm_1             NaN       NaN         NaN   NaN   \n",
       "2         personal_info_arm_1  (999) 999-9999   98105.0  1994-06-29  29.0   \n",
       "          notifications_arm_1             NaN       NaN         NaN   NaN   \n",
       "          case_intake_arm_1               NaN       NaN         NaN   NaN   \n",
       "          case_intake_arm_1               NaN       NaN         NaN   NaN   \n",
       "          notifications_arm_1             NaN       NaN         NaN   NaN   \n",
       "\n",
       "                               ethnicity  race  ...        cc_phone  \\\n",
       "record_id redcap_event_name                     ...                   \n",
       "1         personal_info_arm_1        1.0   4.0  ...             NaN   \n",
       "          notifications_arm_1        NaN   NaN  ...             NaN   \n",
       "          case_intake_arm_1          NaN   NaN  ...             NaN   \n",
       "          notifications_arm_1        NaN   NaN  ...  (999) 999-9999   \n",
       "          notifications_arm_1        NaN   NaN  ...  (999) 999-9999   \n",
       "2         personal_info_arm_1        0.0   5.0  ...             NaN   \n",
       "          notifications_arm_1        NaN   NaN  ...             NaN   \n",
       "          case_intake_arm_1          NaN   NaN  ...             NaN   \n",
       "          case_intake_arm_1          NaN   NaN  ...             NaN   \n",
       "          notifications_arm_1        NaN   NaN  ...  (999) 999-9999   \n",
       "\n",
       "                                           cc_email  close_contacts_complete  \\\n",
       "record_id redcap_event_name                                                    \n",
       "1         personal_info_arm_1                   NaN                      NaN   \n",
       "          notifications_arm_1                   NaN                      NaN   \n",
       "          case_intake_arm_1                     NaN                      NaN   \n",
       "          notifications_arm_1  fake_email@gmail.com                      2.0   \n",
       "          notifications_arm_1  fake_email@gmail.com                      2.0   \n",
       "2         personal_info_arm_1                   NaN                      NaN   \n",
       "          notifications_arm_1                   NaN                      NaN   \n",
       "          case_intake_arm_1                     NaN                      NaN   \n",
       "          case_intake_arm_1                     NaN                      NaN   \n",
       "          notifications_arm_1  fake_email@gmail.com                      2.0   \n",
       "\n",
       "                              supervisor_name      supervisor_email  \\\n",
       "record_id redcap_event_name                                           \n",
       "1         personal_info_arm_1             NaN                   NaN   \n",
       "          notifications_arm_1            Boss                   NaN   \n",
       "          case_intake_arm_1               NaN                   NaN   \n",
       "          notifications_arm_1             NaN                   NaN   \n",
       "          notifications_arm_1             NaN                   NaN   \n",
       "2         personal_info_arm_1             NaN                   NaN   \n",
       "          notifications_arm_1            Boss  fake_email@gmail.com   \n",
       "          case_intake_arm_1               NaN                   NaN   \n",
       "          case_intake_arm_1               NaN                   NaN   \n",
       "          notifications_arm_1             NaN                   NaN   \n",
       "\n",
       "                               work_inperson_yesno   work_date  \\\n",
       "record_id redcap_event_name                                      \n",
       "1         personal_info_arm_1                  NaN         NaN   \n",
       "          notifications_arm_1                  0.0         NaN   \n",
       "          case_intake_arm_1                    NaN         NaN   \n",
       "          notifications_arm_1                  NaN         NaN   \n",
       "          notifications_arm_1                  NaN         NaN   \n",
       "2         personal_info_arm_1                  NaN         NaN   \n",
       "          notifications_arm_1                  1.0  2023-10-10   \n",
       "          case_intake_arm_1                    NaN         NaN   \n",
       "          case_intake_arm_1                    NaN         NaN   \n",
       "          notifications_arm_1                  NaN         NaN   \n",
       "\n",
       "                               work_contagious  work_contagious_calc  \\\n",
       "record_id redcap_event_name                                            \n",
       "1         personal_info_arm_1              NaN                   NaN   \n",
       "          notifications_arm_1              0.0                   NaN   \n",
       "          case_intake_arm_1                NaN                   NaN   \n",
       "          notifications_arm_1              NaN                   NaN   \n",
       "          notifications_arm_1              NaN                   NaN   \n",
       "2         personal_info_arm_1              NaN                   NaN   \n",
       "          notifications_arm_1              1.0                   NaN   \n",
       "          case_intake_arm_1                NaN                   NaN   \n",
       "          case_intake_arm_1                NaN                   NaN   \n",
       "          notifications_arm_1              NaN                   NaN   \n",
       "\n",
       "                               work_information_complete  \n",
       "record_id redcap_event_name                               \n",
       "1         personal_info_arm_1                        NaN  \n",
       "          notifications_arm_1                        2.0  \n",
       "          case_intake_arm_1                          NaN  \n",
       "          notifications_arm_1                        NaN  \n",
       "          notifications_arm_1                        NaN  \n",
       "2         personal_info_arm_1                        NaN  \n",
       "          notifications_arm_1                        2.0  \n",
       "          case_intake_arm_1                          NaN  \n",
       "          case_intake_arm_1                          NaN  \n",
       "          notifications_arm_1                        NaN  \n",
       "\n",
       "[10 rows x 46 columns]"
      ]
     },
     "execution_count": 281,
     "metadata": {},
     "output_type": "execute_result"
    }
   ],
   "source": [
    "records = project.export_records(format_type='df') #all records with raw data values\n",
    "records.head(10)"
   ]
  },
  {
   "cell_type": "markdown",
   "metadata": {},
   "source": [
    "When the format type=df, there is a multi-index for both the record_id and redcap_event_name. **This maybe should not be the behavior - user should choose how to set the index or have a single index for record_id.** Exporting as a csv or json creates the index from the row number and the record_id and record_event_name are regular columns of data.\n",
    "\n",
    ":::"
   ]
  },
  {
   "cell_type": "markdown",
   "metadata": {},
   "source": [
    "#### Exporting Labeled Data & Headers"
   ]
  },
  {
   "cell_type": "markdown",
   "metadata": {},
   "source": [
    "Instead of exporting raw values, labeled values can be exported as well for coded values (i.e. 'male' instead of '1')."
   ]
  },
  {
   "cell_type": "markdown",
   "metadata": {},
   "source": [
    "::: {.panel-tabset}\n",
    "\n",
    "#### R"
   ]
  },
  {
   "cell_type": "code",
   "execution_count": 42,
   "metadata": {},
   "outputs": [],
   "source": [
    "%%capture\n",
    "%%R\n",
    "data_labeled <- redcap_read_oneshot(\n",
    "    redcap_uri = url, \n",
    "    token = token, \n",
    "    raw_or_label = \"label\", \n",
    "    raw_or_label_headers = \"label\")$data\n",
    "\n",
    "data_labeled_tbl<- gt(head(data_labeled)) %>% cols_width( everything() ~ px(150))\n",
    "gt::gtsave(data_labeled_tbl, filename = 'export_records2.html', path = \"./files/export_files/\")"
   ]
  },
  {
   "cell_type": "raw",
   "metadata": {
    "scrolled": true
   },
   "source": [
    "<p align=\"center\"><iframe width=\"100%\" height=\"500\" src=\"./files/export_files/export_records2.html\" title=\"Quarto Documentation\"></iframe></p>"
   ]
  },
  {
   "cell_type": "markdown",
   "metadata": {},
   "source": [
    "#### Python"
   ]
  },
  {
   "cell_type": "code",
   "execution_count": 43,
   "metadata": {
    "scrolled": true
   },
   "outputs": [
    {
     "data": {
      "text/html": [
       "<div>\n",
       "<style scoped>\n",
       "    .dataframe tbody tr th:only-of-type {\n",
       "        vertical-align: middle;\n",
       "    }\n",
       "\n",
       "    .dataframe tbody tr th {\n",
       "        vertical-align: top;\n",
       "    }\n",
       "\n",
       "    .dataframe thead th {\n",
       "        text-align: right;\n",
       "    }\n",
       "</style>\n",
       "<table border=\"1\" class=\"dataframe\">\n",
       "  <thead>\n",
       "    <tr style=\"text-align: right;\">\n",
       "      <th></th>\n",
       "      <th>record_id</th>\n",
       "      <th>redcap_event_name</th>\n",
       "      <th>redcap_repeat_instrument</th>\n",
       "      <th>redcap_repeat_instance</th>\n",
       "      <th>first_name</th>\n",
       "      <th>last_name</th>\n",
       "      <th>phone_num</th>\n",
       "      <th>zip_code</th>\n",
       "      <th>dob</th>\n",
       "      <th>age</th>\n",
       "      <th>...</th>\n",
       "      <th>cc_phone</th>\n",
       "      <th>cc_email</th>\n",
       "      <th>close_contacts_complete</th>\n",
       "      <th>supervisor_name</th>\n",
       "      <th>supervisor_email</th>\n",
       "      <th>work_inperson_yesno</th>\n",
       "      <th>work_date</th>\n",
       "      <th>work_contagious</th>\n",
       "      <th>work_contagious_calc</th>\n",
       "      <th>work_information_complete</th>\n",
       "    </tr>\n",
       "  </thead>\n",
       "  <tbody>\n",
       "    <tr>\n",
       "      <th>0</th>\n",
       "      <td>1</td>\n",
       "      <td>Personal Info</td>\n",
       "      <td>NaN</td>\n",
       "      <td>NaN</td>\n",
       "      <td>John</td>\n",
       "      <td>Doe</td>\n",
       "      <td>(999) 999-9999</td>\n",
       "      <td>98105.0</td>\n",
       "      <td>2004-12-05</td>\n",
       "      <td>18.0</td>\n",
       "      <td>...</td>\n",
       "      <td>NaN</td>\n",
       "      <td>NaN</td>\n",
       "      <td>NaN</td>\n",
       "      <td>NaN</td>\n",
       "      <td>NaN</td>\n",
       "      <td>NaN</td>\n",
       "      <td>NaN</td>\n",
       "      <td>NaN</td>\n",
       "      <td>NaN</td>\n",
       "      <td>NaN</td>\n",
       "    </tr>\n",
       "    <tr>\n",
       "      <th>1</th>\n",
       "      <td>1</td>\n",
       "      <td>Notifications</td>\n",
       "      <td>NaN</td>\n",
       "      <td>NaN</td>\n",
       "      <td>NaN</td>\n",
       "      <td>NaN</td>\n",
       "      <td>NaN</td>\n",
       "      <td>NaN</td>\n",
       "      <td>NaN</td>\n",
       "      <td>NaN</td>\n",
       "      <td>...</td>\n",
       "      <td>NaN</td>\n",
       "      <td>NaN</td>\n",
       "      <td>NaN</td>\n",
       "      <td>Boss</td>\n",
       "      <td>NaN</td>\n",
       "      <td>No</td>\n",
       "      <td>NaN</td>\n",
       "      <td>No</td>\n",
       "      <td>NaN</td>\n",
       "      <td>Complete</td>\n",
       "    </tr>\n",
       "    <tr>\n",
       "      <th>2</th>\n",
       "      <td>1</td>\n",
       "      <td>Case Intake</td>\n",
       "      <td>NaN</td>\n",
       "      <td>1.0</td>\n",
       "      <td>NaN</td>\n",
       "      <td>NaN</td>\n",
       "      <td>NaN</td>\n",
       "      <td>NaN</td>\n",
       "      <td>NaN</td>\n",
       "      <td>NaN</td>\n",
       "      <td>...</td>\n",
       "      <td>NaN</td>\n",
       "      <td>NaN</td>\n",
       "      <td>NaN</td>\n",
       "      <td>NaN</td>\n",
       "      <td>NaN</td>\n",
       "      <td>NaN</td>\n",
       "      <td>NaN</td>\n",
       "      <td>NaN</td>\n",
       "      <td>NaN</td>\n",
       "      <td>NaN</td>\n",
       "    </tr>\n",
       "    <tr>\n",
       "      <th>3</th>\n",
       "      <td>1</td>\n",
       "      <td>Notifications</td>\n",
       "      <td>Close Contacts</td>\n",
       "      <td>1.0</td>\n",
       "      <td>NaN</td>\n",
       "      <td>NaN</td>\n",
       "      <td>NaN</td>\n",
       "      <td>NaN</td>\n",
       "      <td>NaN</td>\n",
       "      <td>NaN</td>\n",
       "      <td>...</td>\n",
       "      <td>(999) 999-9999</td>\n",
       "      <td>fake_email@gmail.com</td>\n",
       "      <td>Complete</td>\n",
       "      <td>NaN</td>\n",
       "      <td>NaN</td>\n",
       "      <td>NaN</td>\n",
       "      <td>NaN</td>\n",
       "      <td>NaN</td>\n",
       "      <td>NaN</td>\n",
       "      <td>NaN</td>\n",
       "    </tr>\n",
       "    <tr>\n",
       "      <th>4</th>\n",
       "      <td>1</td>\n",
       "      <td>Notifications</td>\n",
       "      <td>Close Contacts</td>\n",
       "      <td>2.0</td>\n",
       "      <td>NaN</td>\n",
       "      <td>NaN</td>\n",
       "      <td>NaN</td>\n",
       "      <td>NaN</td>\n",
       "      <td>NaN</td>\n",
       "      <td>NaN</td>\n",
       "      <td>...</td>\n",
       "      <td>(999) 999-9999</td>\n",
       "      <td>fake_email@gmail.com</td>\n",
       "      <td>Complete</td>\n",
       "      <td>NaN</td>\n",
       "      <td>NaN</td>\n",
       "      <td>NaN</td>\n",
       "      <td>NaN</td>\n",
       "      <td>NaN</td>\n",
       "      <td>NaN</td>\n",
       "      <td>NaN</td>\n",
       "    </tr>\n",
       "    <tr>\n",
       "      <th>5</th>\n",
       "      <td>2</td>\n",
       "      <td>Personal Info</td>\n",
       "      <td>NaN</td>\n",
       "      <td>NaN</td>\n",
       "      <td>Jane</td>\n",
       "      <td>Doe</td>\n",
       "      <td>(999) 999-9999</td>\n",
       "      <td>98105.0</td>\n",
       "      <td>1995-06-29</td>\n",
       "      <td>28.0</td>\n",
       "      <td>...</td>\n",
       "      <td>NaN</td>\n",
       "      <td>NaN</td>\n",
       "      <td>NaN</td>\n",
       "      <td>NaN</td>\n",
       "      <td>NaN</td>\n",
       "      <td>NaN</td>\n",
       "      <td>NaN</td>\n",
       "      <td>NaN</td>\n",
       "      <td>NaN</td>\n",
       "      <td>NaN</td>\n",
       "    </tr>\n",
       "    <tr>\n",
       "      <th>6</th>\n",
       "      <td>2</td>\n",
       "      <td>Notifications</td>\n",
       "      <td>NaN</td>\n",
       "      <td>NaN</td>\n",
       "      <td>NaN</td>\n",
       "      <td>NaN</td>\n",
       "      <td>NaN</td>\n",
       "      <td>NaN</td>\n",
       "      <td>NaN</td>\n",
       "      <td>NaN</td>\n",
       "      <td>...</td>\n",
       "      <td>NaN</td>\n",
       "      <td>NaN</td>\n",
       "      <td>NaN</td>\n",
       "      <td>Boss</td>\n",
       "      <td>fake_email@gmail.com</td>\n",
       "      <td>Yes</td>\n",
       "      <td>2023-10-10</td>\n",
       "      <td>Yes</td>\n",
       "      <td>NaN</td>\n",
       "      <td>Complete</td>\n",
       "    </tr>\n",
       "    <tr>\n",
       "      <th>7</th>\n",
       "      <td>2</td>\n",
       "      <td>Case Intake</td>\n",
       "      <td>NaN</td>\n",
       "      <td>1.0</td>\n",
       "      <td>NaN</td>\n",
       "      <td>NaN</td>\n",
       "      <td>NaN</td>\n",
       "      <td>NaN</td>\n",
       "      <td>NaN</td>\n",
       "      <td>NaN</td>\n",
       "      <td>...</td>\n",
       "      <td>NaN</td>\n",
       "      <td>NaN</td>\n",
       "      <td>NaN</td>\n",
       "      <td>NaN</td>\n",
       "      <td>NaN</td>\n",
       "      <td>NaN</td>\n",
       "      <td>NaN</td>\n",
       "      <td>NaN</td>\n",
       "      <td>NaN</td>\n",
       "      <td>NaN</td>\n",
       "    </tr>\n",
       "    <tr>\n",
       "      <th>8</th>\n",
       "      <td>2</td>\n",
       "      <td>Case Intake</td>\n",
       "      <td>NaN</td>\n",
       "      <td>2.0</td>\n",
       "      <td>NaN</td>\n",
       "      <td>NaN</td>\n",
       "      <td>NaN</td>\n",
       "      <td>NaN</td>\n",
       "      <td>NaN</td>\n",
       "      <td>NaN</td>\n",
       "      <td>...</td>\n",
       "      <td>NaN</td>\n",
       "      <td>NaN</td>\n",
       "      <td>NaN</td>\n",
       "      <td>NaN</td>\n",
       "      <td>NaN</td>\n",
       "      <td>NaN</td>\n",
       "      <td>NaN</td>\n",
       "      <td>NaN</td>\n",
       "      <td>NaN</td>\n",
       "      <td>NaN</td>\n",
       "    </tr>\n",
       "    <tr>\n",
       "      <th>9</th>\n",
       "      <td>2</td>\n",
       "      <td>Notifications</td>\n",
       "      <td>Close Contacts</td>\n",
       "      <td>1.0</td>\n",
       "      <td>NaN</td>\n",
       "      <td>NaN</td>\n",
       "      <td>NaN</td>\n",
       "      <td>NaN</td>\n",
       "      <td>NaN</td>\n",
       "      <td>NaN</td>\n",
       "      <td>...</td>\n",
       "      <td>(999) 999-9999</td>\n",
       "      <td>fake_email@gmail.com</td>\n",
       "      <td>Complete</td>\n",
       "      <td>NaN</td>\n",
       "      <td>NaN</td>\n",
       "      <td>NaN</td>\n",
       "      <td>NaN</td>\n",
       "      <td>NaN</td>\n",
       "      <td>NaN</td>\n",
       "      <td>NaN</td>\n",
       "    </tr>\n",
       "  </tbody>\n",
       "</table>\n",
       "<p>10 rows × 48 columns</p>\n",
       "</div>"
      ],
      "text/plain": [
       "   record_id redcap_event_name redcap_repeat_instrument  \\\n",
       "0          1     Personal Info                      NaN   \n",
       "1          1     Notifications                      NaN   \n",
       "2          1       Case Intake                      NaN   \n",
       "3          1     Notifications           Close Contacts   \n",
       "4          1     Notifications           Close Contacts   \n",
       "5          2     Personal Info                      NaN   \n",
       "6          2     Notifications                      NaN   \n",
       "7          2       Case Intake                      NaN   \n",
       "8          2       Case Intake                      NaN   \n",
       "9          2     Notifications           Close Contacts   \n",
       "\n",
       "   redcap_repeat_instance first_name last_name       phone_num  zip_code  \\\n",
       "0                     NaN       John       Doe  (999) 999-9999   98105.0   \n",
       "1                     NaN        NaN       NaN             NaN       NaN   \n",
       "2                     1.0        NaN       NaN             NaN       NaN   \n",
       "3                     1.0        NaN       NaN             NaN       NaN   \n",
       "4                     2.0        NaN       NaN             NaN       NaN   \n",
       "5                     NaN       Jane       Doe  (999) 999-9999   98105.0   \n",
       "6                     NaN        NaN       NaN             NaN       NaN   \n",
       "7                     1.0        NaN       NaN             NaN       NaN   \n",
       "8                     2.0        NaN       NaN             NaN       NaN   \n",
       "9                     1.0        NaN       NaN             NaN       NaN   \n",
       "\n",
       "          dob   age  ...        cc_phone              cc_email  \\\n",
       "0  2004-12-05  18.0  ...             NaN                   NaN   \n",
       "1         NaN   NaN  ...             NaN                   NaN   \n",
       "2         NaN   NaN  ...             NaN                   NaN   \n",
       "3         NaN   NaN  ...  (999) 999-9999  fake_email@gmail.com   \n",
       "4         NaN   NaN  ...  (999) 999-9999  fake_email@gmail.com   \n",
       "5  1995-06-29  28.0  ...             NaN                   NaN   \n",
       "6         NaN   NaN  ...             NaN                   NaN   \n",
       "7         NaN   NaN  ...             NaN                   NaN   \n",
       "8         NaN   NaN  ...             NaN                   NaN   \n",
       "9         NaN   NaN  ...  (999) 999-9999  fake_email@gmail.com   \n",
       "\n",
       "  close_contacts_complete supervisor_name      supervisor_email  \\\n",
       "0                     NaN             NaN                   NaN   \n",
       "1                     NaN            Boss                   NaN   \n",
       "2                     NaN             NaN                   NaN   \n",
       "3                Complete             NaN                   NaN   \n",
       "4                Complete             NaN                   NaN   \n",
       "5                     NaN             NaN                   NaN   \n",
       "6                     NaN            Boss  fake_email@gmail.com   \n",
       "7                     NaN             NaN                   NaN   \n",
       "8                     NaN             NaN                   NaN   \n",
       "9                Complete             NaN                   NaN   \n",
       "\n",
       "  work_inperson_yesno   work_date work_contagious work_contagious_calc  \\\n",
       "0                 NaN         NaN             NaN                  NaN   \n",
       "1                  No         NaN              No                  NaN   \n",
       "2                 NaN         NaN             NaN                  NaN   \n",
       "3                 NaN         NaN             NaN                  NaN   \n",
       "4                 NaN         NaN             NaN                  NaN   \n",
       "5                 NaN         NaN             NaN                  NaN   \n",
       "6                 Yes  2023-10-10             Yes                  NaN   \n",
       "7                 NaN         NaN             NaN                  NaN   \n",
       "8                 NaN         NaN             NaN                  NaN   \n",
       "9                 NaN         NaN             NaN                  NaN   \n",
       "\n",
       "  work_information_complete  \n",
       "0                       NaN  \n",
       "1                  Complete  \n",
       "2                       NaN  \n",
       "3                       NaN  \n",
       "4                       NaN  \n",
       "5                       NaN  \n",
       "6                  Complete  \n",
       "7                       NaN  \n",
       "8                       NaN  \n",
       "9                       NaN  \n",
       "\n",
       "[10 rows x 48 columns]"
      ]
     },
     "execution_count": 43,
     "metadata": {},
     "output_type": "execute_result"
    }
   ],
   "source": [
    "# tip: add `reset_index()` if you want to avoid the automatic multi-indexing of the data\n",
    "data_labeled = project.export_records(raw_or_label='label', format_type='df').reset_index()\n",
    "data_labeled.head(10)"
   ]
  },
  {
   "cell_type": "markdown",
   "metadata": {},
   "source": [
    ":::"
   ]
  },
  {
   "cell_type": "markdown",
   "metadata": {},
   "source": [
    "### Export Data In Batches (REDCapR Only)"
   ]
  },
  {
   "cell_type": "markdown",
   "metadata": {},
   "source": [
    "::: {.panel-tabset}\n",
    "\n",
    "#### R"
   ]
  },
  {
   "cell_type": "markdown",
   "metadata": {},
   "source": [
    "A note about `redcap_read()`: From an external perspective, this function is similar to `redcap_read_oneshot()`. The internals differ in that `redcap_read()` retrieves subsets of the data, and then combines them before returning (among other objects) a single tibble::tibble(). This function can be more appropriate than `redcap_read_oneshot()` when returning large datasets that could tie up the server. [(Source)](https://ouhscbbmc.github.io/REDCapR/reference/redcap_read.html)\n"
   ]
  },
  {
   "cell_type": "code",
   "execution_count": 51,
   "metadata": {},
   "outputs": [],
   "source": [
    "%%capture\n",
    "%%R\n",
    "batched_export <- redcap_read(\n",
    "    redcap_uri = url, \n",
    "    token = token, \n",
    "    batch_size = 50L\n",
    ")$data"
   ]
  },
  {
   "cell_type": "markdown",
   "metadata": {},
   "source": [
    "In this example, the batch size was set to 50 records. The default is 100 records. The data exported using this method has the exact same format as `redcap_read_oneshot`."
   ]
  },
  {
   "cell_type": "markdown",
   "metadata": {},
   "source": [
    ":::"
   ]
  },
  {
   "cell_type": "markdown",
   "metadata": {},
   "source": [
    "### Filtering Exported Records\n",
    "\n",
    "Although the REDCapR and Pycap functions have options for filtering data upon export, for smaller datasets, we recommend exporting the entire data set, then filter it R or Python functions. See the appendix @sec-filtering for more information. \n",
    "\n",
    "If a project has a large amount of data that is burdensome to export all together, then we recommend using REDCapR/Pycap functions to filter the data during export.\n",
    "\n",
    "Creating custom reports within REDCap and then exporting those filtered reports, is another option for filtering the data before export for projects with a large amount of data. See @sec-reports"
   ]
  },
  {
   "cell_type": "markdown",
   "metadata": {},
   "source": [
    "### Exporting the next available record_id\n",
    "\n",
    "When a project is set up in REDCap it has **Auto-numbering for records** enabled by default. This allows a new and unique record_id to be automatically assigned every time you enter a new record. Before importing new records you may want to know what the next available record_id is to ensure you are assigning new record_id's to these new records before import (rather than overwriting an existing record). "
   ]
  },
  {
   "cell_type": "markdown",
   "metadata": {},
   "source": [
    "::: {.panel-tabset}\n",
    "\n",
    "#### R"
   ]
  },
  {
   "cell_type": "code",
   "execution_count": 52,
   "metadata": {
    "tags": []
   },
   "outputs": [
    {
     "name": "stderr",
     "output_type": "stream",
     "text": [
      "R[write to console]: The next free record name in REDCap was successfully determined in 0.3 seconds.  The http status code was 200.  Is is 7.\n",
      "\n"
     ]
    },
    {
     "name": "stdout",
     "output_type": "stream",
     "text": [
      "[1] \"7\"\n"
     ]
    }
   ],
   "source": [
    "%%R\n",
    "next_record <- redcap_next_free_record_name(\n",
    "    redcap_uri = url, \n",
    "    token = token, \n",
    "    verbose = TRUE,\n",
    "    config_options = NULL)\n",
    "\n",
    "next_record"
   ]
  },
  {
   "cell_type": "markdown",
   "metadata": {},
   "source": [
    "#### Python"
   ]
  },
  {
   "cell_type": "code",
   "execution_count": 53,
   "metadata": {},
   "outputs": [
    {
     "data": {
      "text/plain": [
       "'7'"
      ]
     },
     "execution_count": 53,
     "metadata": {},
     "output_type": "execute_result"
    }
   ],
   "source": [
    "project.generate_next_record_name()"
   ]
  },
  {
   "cell_type": "markdown",
   "metadata": {},
   "source": [
    ":::"
   ]
  },
  {
   "cell_type": "markdown",
   "metadata": {},
   "source": [
    "## Reports {#sec-reports}\n",
    "\n",
    "To export reports via API you will need the 'Report ID' of your desired report. You can find the 'Report ID' of the report you want to export by going to your REDCap project and selecting \"Data Export, Reports, and Stats\" then \"My Reports & Exports\".\n",
    "![report](./files/REDCAp_project.png){width=700, fig-align=\"center\"}"
   ]
  },
  {
   "cell_type": "markdown",
   "metadata": {},
   "source": [
    "### Exporting Raw Reports"
   ]
  },
  {
   "cell_type": "markdown",
   "metadata": {},
   "source": [
    "::: {.panel-tabset}\n",
    "\n",
    "#### R"
   ]
  },
  {
   "cell_type": "code",
   "execution_count": 54,
   "metadata": {
    "tags": []
   },
   "outputs": [],
   "source": [
    "%%capture\n",
    "%%R\n",
    "cases_oct_2023 <- redcap_report(\n",
    "    redcap_uri = url, \n",
    "    token = token, \n",
    "    report_id = 2178\n",
    ")$data\n",
    "\n",
    "tbl<- gt(head(cases_oct_2023))\n",
    "gt::gtsave(tbl, filename = 'export_reports1.html',  path = \"./files/\")"
   ]
  },
  {
   "cell_type": "raw",
   "metadata": {},
   "source": [
    "<p align=\"center\"><iframe width=\"100%\" height=\"400\" src=\"./files/export_reports1.html\" title=\"Quarto Documentation\"></iframe></p>"
   ]
  },
  {
   "cell_type": "markdown",
   "metadata": {},
   "source": [
    "#### Python"
   ]
  },
  {
   "cell_type": "code",
   "execution_count": 56,
   "metadata": {},
   "outputs": [
    {
     "data": {
      "text/html": [
       "<div>\n",
       "<style scoped>\n",
       "    .dataframe tbody tr th:only-of-type {\n",
       "        vertical-align: middle;\n",
       "    }\n",
       "\n",
       "    .dataframe tbody tr th {\n",
       "        vertical-align: top;\n",
       "    }\n",
       "\n",
       "    .dataframe thead th {\n",
       "        text-align: right;\n",
       "    }\n",
       "</style>\n",
       "<table border=\"1\" class=\"dataframe\">\n",
       "  <thead>\n",
       "    <tr style=\"text-align: right;\">\n",
       "      <th></th>\n",
       "      <th></th>\n",
       "      <th>redcap_repeat_instrument</th>\n",
       "      <th>redcap_repeat_instance</th>\n",
       "      <th>first_name</th>\n",
       "      <th>last_name</th>\n",
       "      <th>phone_num</th>\n",
       "      <th>zip_code</th>\n",
       "      <th>dob</th>\n",
       "      <th>age</th>\n",
       "      <th>ethnicity</th>\n",
       "      <th>race</th>\n",
       "      <th>...</th>\n",
       "      <th>symptoms_yesno</th>\n",
       "      <th>symptom_onset</th>\n",
       "      <th>symptoms_exp</th>\n",
       "      <th>symptom_notes</th>\n",
       "      <th>test_yesno</th>\n",
       "      <th>test_positive_yesno</th>\n",
       "      <th>test_positive_date</th>\n",
       "      <th>test_upload</th>\n",
       "      <th>prior_covid_yesno</th>\n",
       "      <th>prior_covid_date</th>\n",
       "    </tr>\n",
       "    <tr>\n",
       "      <th>record_id</th>\n",
       "      <th>redcap_event_name</th>\n",
       "      <th></th>\n",
       "      <th></th>\n",
       "      <th></th>\n",
       "      <th></th>\n",
       "      <th></th>\n",
       "      <th></th>\n",
       "      <th></th>\n",
       "      <th></th>\n",
       "      <th></th>\n",
       "      <th></th>\n",
       "      <th></th>\n",
       "      <th></th>\n",
       "      <th></th>\n",
       "      <th></th>\n",
       "      <th></th>\n",
       "      <th></th>\n",
       "      <th></th>\n",
       "      <th></th>\n",
       "      <th></th>\n",
       "      <th></th>\n",
       "      <th></th>\n",
       "    </tr>\n",
       "  </thead>\n",
       "  <tbody>\n",
       "    <tr>\n",
       "      <th rowspan=\"3\" valign=\"top\">1</th>\n",
       "      <th>notifications_arm_1</th>\n",
       "      <td>NaN</td>\n",
       "      <td>NaN</td>\n",
       "      <td>NaN</td>\n",
       "      <td>NaN</td>\n",
       "      <td>NaN</td>\n",
       "      <td>NaN</td>\n",
       "      <td>NaN</td>\n",
       "      <td>NaN</td>\n",
       "      <td>NaN</td>\n",
       "      <td>NaN</td>\n",
       "      <td>...</td>\n",
       "      <td>NaN</td>\n",
       "      <td>NaN</td>\n",
       "      <td>NaN</td>\n",
       "      <td>NaN</td>\n",
       "      <td>NaN</td>\n",
       "      <td>NaN</td>\n",
       "      <td>NaN</td>\n",
       "      <td>NaN</td>\n",
       "      <td>NaN</td>\n",
       "      <td>NaN</td>\n",
       "    </tr>\n",
       "    <tr>\n",
       "      <th>personal_info_arm_1</th>\n",
       "      <td>NaN</td>\n",
       "      <td>NaN</td>\n",
       "      <td>John</td>\n",
       "      <td>Doe</td>\n",
       "      <td>(999) 999-9999</td>\n",
       "      <td>98105.0</td>\n",
       "      <td>2004-12-05</td>\n",
       "      <td>18.0</td>\n",
       "      <td>1.0</td>\n",
       "      <td>4.0</td>\n",
       "      <td>...</td>\n",
       "      <td>NaN</td>\n",
       "      <td>NaN</td>\n",
       "      <td>NaN</td>\n",
       "      <td>NaN</td>\n",
       "      <td>NaN</td>\n",
       "      <td>NaN</td>\n",
       "      <td>NaN</td>\n",
       "      <td>NaN</td>\n",
       "      <td>NaN</td>\n",
       "      <td>NaN</td>\n",
       "    </tr>\n",
       "    <tr>\n",
       "      <th>case_intake_arm_1</th>\n",
       "      <td>NaN</td>\n",
       "      <td>1.0</td>\n",
       "      <td>NaN</td>\n",
       "      <td>NaN</td>\n",
       "      <td>NaN</td>\n",
       "      <td>NaN</td>\n",
       "      <td>NaN</td>\n",
       "      <td>NaN</td>\n",
       "      <td>NaN</td>\n",
       "      <td>NaN</td>\n",
       "      <td>...</td>\n",
       "      <td>1.0</td>\n",
       "      <td>2023-10-09</td>\n",
       "      <td>1,2,7</td>\n",
       "      <td>NaN</td>\n",
       "      <td>1.0</td>\n",
       "      <td>1.0</td>\n",
       "      <td>2023-10-10</td>\n",
       "      <td>test_api_export_image.png</td>\n",
       "      <td>0.0</td>\n",
       "      <td>NaN</td>\n",
       "    </tr>\n",
       "    <tr>\n",
       "      <th rowspan=\"4\" valign=\"top\">2</th>\n",
       "      <th>notifications_arm_1</th>\n",
       "      <td>NaN</td>\n",
       "      <td>NaN</td>\n",
       "      <td>NaN</td>\n",
       "      <td>NaN</td>\n",
       "      <td>NaN</td>\n",
       "      <td>NaN</td>\n",
       "      <td>NaN</td>\n",
       "      <td>NaN</td>\n",
       "      <td>NaN</td>\n",
       "      <td>NaN</td>\n",
       "      <td>...</td>\n",
       "      <td>NaN</td>\n",
       "      <td>NaN</td>\n",
       "      <td>NaN</td>\n",
       "      <td>NaN</td>\n",
       "      <td>NaN</td>\n",
       "      <td>NaN</td>\n",
       "      <td>NaN</td>\n",
       "      <td>NaN</td>\n",
       "      <td>NaN</td>\n",
       "      <td>NaN</td>\n",
       "    </tr>\n",
       "    <tr>\n",
       "      <th>personal_info_arm_1</th>\n",
       "      <td>NaN</td>\n",
       "      <td>NaN</td>\n",
       "      <td>Jane</td>\n",
       "      <td>Doe</td>\n",
       "      <td>(999) 999-9999</td>\n",
       "      <td>98105.0</td>\n",
       "      <td>1995-06-29</td>\n",
       "      <td>28.0</td>\n",
       "      <td>0.0</td>\n",
       "      <td>5.0</td>\n",
       "      <td>...</td>\n",
       "      <td>NaN</td>\n",
       "      <td>NaN</td>\n",
       "      <td>NaN</td>\n",
       "      <td>NaN</td>\n",
       "      <td>NaN</td>\n",
       "      <td>NaN</td>\n",
       "      <td>NaN</td>\n",
       "      <td>NaN</td>\n",
       "      <td>NaN</td>\n",
       "      <td>NaN</td>\n",
       "    </tr>\n",
       "    <tr>\n",
       "      <th>case_intake_arm_1</th>\n",
       "      <td>NaN</td>\n",
       "      <td>2.0</td>\n",
       "      <td>NaN</td>\n",
       "      <td>NaN</td>\n",
       "      <td>NaN</td>\n",
       "      <td>NaN</td>\n",
       "      <td>NaN</td>\n",
       "      <td>NaN</td>\n",
       "      <td>NaN</td>\n",
       "      <td>NaN</td>\n",
       "      <td>...</td>\n",
       "      <td>1.0</td>\n",
       "      <td>2021-06-05</td>\n",
       "      <td>1,2,3,4,5,7,8,9</td>\n",
       "      <td>NaN</td>\n",
       "      <td>1.0</td>\n",
       "      <td>1.0</td>\n",
       "      <td>2021-06-07</td>\n",
       "      <td>test_api_export_pdf.pdf</td>\n",
       "      <td>0.0</td>\n",
       "      <td>NaN</td>\n",
       "    </tr>\n",
       "    <tr>\n",
       "      <th>case_intake_arm_1</th>\n",
       "      <td>NaN</td>\n",
       "      <td>1.0</td>\n",
       "      <td>NaN</td>\n",
       "      <td>NaN</td>\n",
       "      <td>NaN</td>\n",
       "      <td>NaN</td>\n",
       "      <td>NaN</td>\n",
       "      <td>NaN</td>\n",
       "      <td>NaN</td>\n",
       "      <td>NaN</td>\n",
       "      <td>...</td>\n",
       "      <td>1.0</td>\n",
       "      <td>2023-10-11</td>\n",
       "      <td>1,2,8</td>\n",
       "      <td>NaN</td>\n",
       "      <td>1.0</td>\n",
       "      <td>1.0</td>\n",
       "      <td>2023-10-12</td>\n",
       "      <td>test_api_export_pdf.pdf</td>\n",
       "      <td>1.0</td>\n",
       "      <td>2021-06-06</td>\n",
       "    </tr>\n",
       "  </tbody>\n",
       "</table>\n",
       "<p>7 rows × 21 columns</p>\n",
       "</div>"
      ],
      "text/plain": [
       "                               redcap_repeat_instrument  \\\n",
       "record_id redcap_event_name                               \n",
       "1         notifications_arm_1                       NaN   \n",
       "          personal_info_arm_1                       NaN   \n",
       "          case_intake_arm_1                         NaN   \n",
       "2         notifications_arm_1                       NaN   \n",
       "          personal_info_arm_1                       NaN   \n",
       "          case_intake_arm_1                         NaN   \n",
       "          case_intake_arm_1                         NaN   \n",
       "\n",
       "                               redcap_repeat_instance first_name last_name  \\\n",
       "record_id redcap_event_name                                                  \n",
       "1         notifications_arm_1                     NaN        NaN       NaN   \n",
       "          personal_info_arm_1                     NaN       John       Doe   \n",
       "          case_intake_arm_1                       1.0        NaN       NaN   \n",
       "2         notifications_arm_1                     NaN        NaN       NaN   \n",
       "          personal_info_arm_1                     NaN       Jane       Doe   \n",
       "          case_intake_arm_1                       2.0        NaN       NaN   \n",
       "          case_intake_arm_1                       1.0        NaN       NaN   \n",
       "\n",
       "                                    phone_num  zip_code         dob   age  \\\n",
       "record_id redcap_event_name                                                 \n",
       "1         notifications_arm_1             NaN       NaN         NaN   NaN   \n",
       "          personal_info_arm_1  (999) 999-9999   98105.0  2004-12-05  18.0   \n",
       "          case_intake_arm_1               NaN       NaN         NaN   NaN   \n",
       "2         notifications_arm_1             NaN       NaN         NaN   NaN   \n",
       "          personal_info_arm_1  (999) 999-9999   98105.0  1995-06-29  28.0   \n",
       "          case_intake_arm_1               NaN       NaN         NaN   NaN   \n",
       "          case_intake_arm_1               NaN       NaN         NaN   NaN   \n",
       "\n",
       "                               ethnicity  race  ...  symptoms_yesno  \\\n",
       "record_id redcap_event_name                     ...                   \n",
       "1         notifications_arm_1        NaN   NaN  ...             NaN   \n",
       "          personal_info_arm_1        1.0   4.0  ...             NaN   \n",
       "          case_intake_arm_1          NaN   NaN  ...             1.0   \n",
       "2         notifications_arm_1        NaN   NaN  ...             NaN   \n",
       "          personal_info_arm_1        0.0   5.0  ...             NaN   \n",
       "          case_intake_arm_1          NaN   NaN  ...             1.0   \n",
       "          case_intake_arm_1          NaN   NaN  ...             1.0   \n",
       "\n",
       "                               symptom_onset     symptoms_exp symptom_notes  \\\n",
       "record_id redcap_event_name                                                   \n",
       "1         notifications_arm_1            NaN              NaN           NaN   \n",
       "          personal_info_arm_1            NaN              NaN           NaN   \n",
       "          case_intake_arm_1       2023-10-09            1,2,7           NaN   \n",
       "2         notifications_arm_1            NaN              NaN           NaN   \n",
       "          personal_info_arm_1            NaN              NaN           NaN   \n",
       "          case_intake_arm_1       2021-06-05  1,2,3,4,5,7,8,9           NaN   \n",
       "          case_intake_arm_1       2023-10-11            1,2,8           NaN   \n",
       "\n",
       "                               test_yesno  test_positive_yesno  \\\n",
       "record_id redcap_event_name                                      \n",
       "1         notifications_arm_1         NaN                  NaN   \n",
       "          personal_info_arm_1         NaN                  NaN   \n",
       "          case_intake_arm_1           1.0                  1.0   \n",
       "2         notifications_arm_1         NaN                  NaN   \n",
       "          personal_info_arm_1         NaN                  NaN   \n",
       "          case_intake_arm_1           1.0                  1.0   \n",
       "          case_intake_arm_1           1.0                  1.0   \n",
       "\n",
       "                               test_positive_date                test_upload  \\\n",
       "record_id redcap_event_name                                                    \n",
       "1         notifications_arm_1                 NaN                        NaN   \n",
       "          personal_info_arm_1                 NaN                        NaN   \n",
       "          case_intake_arm_1            2023-10-10  test_api_export_image.png   \n",
       "2         notifications_arm_1                 NaN                        NaN   \n",
       "          personal_info_arm_1                 NaN                        NaN   \n",
       "          case_intake_arm_1            2021-06-07    test_api_export_pdf.pdf   \n",
       "          case_intake_arm_1            2023-10-12    test_api_export_pdf.pdf   \n",
       "\n",
       "                              prior_covid_yesno  prior_covid_date  \n",
       "record_id redcap_event_name                                        \n",
       "1         notifications_arm_1               NaN               NaN  \n",
       "          personal_info_arm_1               NaN               NaN  \n",
       "          case_intake_arm_1                 0.0               NaN  \n",
       "2         notifications_arm_1               NaN               NaN  \n",
       "          personal_info_arm_1               NaN               NaN  \n",
       "          case_intake_arm_1                 0.0               NaN  \n",
       "          case_intake_arm_1                 1.0        2021-06-06  \n",
       "\n",
       "[7 rows x 21 columns]"
      ]
     },
     "execution_count": 56,
     "metadata": {},
     "output_type": "execute_result"
    }
   ],
   "source": [
    "project.export_report(report_id='2178', format_type='df', raw_or_label='raw').head(7)"
   ]
  },
  {
   "cell_type": "markdown",
   "metadata": {},
   "source": [
    ":::"
   ]
  },
  {
   "cell_type": "markdown",
   "metadata": {},
   "source": [
    "### Exporting Labelled Reports\n",
    "Reports can also be exported as labeled data for readability."
   ]
  },
  {
   "cell_type": "markdown",
   "metadata": {},
   "source": [
    "::: {.panel-tabset}\n",
    "\n",
    "#### R"
   ]
  },
  {
   "cell_type": "code",
   "execution_count": 57,
   "metadata": {
    "tags": []
   },
   "outputs": [],
   "source": [
    "%%capture\n",
    "%%R\n",
    "cases_oct_2023_labeled <- redcap_report(\n",
    "    redcap_uri = url, \n",
    "    token = token,\n",
    "    report_id = 2178, \n",
    "    raw_or_label = 'label'\n",
    ")$data"
   ]
  },
  {
   "cell_type": "code",
   "execution_count": 58,
   "metadata": {
    "tags": []
   },
   "outputs": [],
   "source": [
    "%%R\n",
    "tbl<- gt(head(cases_oct_2023_labeled))\n",
    "gt::gtsave(tbl, filename = 'export_reports2.html', path = \"./files/\")"
   ]
  },
  {
   "cell_type": "raw",
   "metadata": {},
   "source": [
    "<p align=\"center\"><iframe width=\"100%\" height=\"600\" src=\"./files/export_reports2.html\" title=\"Quarto Documentation\"></iframe></p>"
   ]
  },
  {
   "cell_type": "markdown",
   "metadata": {},
   "source": [
    "#### Python"
   ]
  },
  {
   "cell_type": "code",
   "execution_count": 59,
   "metadata": {},
   "outputs": [
    {
     "data": {
      "text/html": [
       "<div>\n",
       "<style scoped>\n",
       "    .dataframe tbody tr th:only-of-type {\n",
       "        vertical-align: middle;\n",
       "    }\n",
       "\n",
       "    .dataframe tbody tr th {\n",
       "        vertical-align: top;\n",
       "    }\n",
       "\n",
       "    .dataframe thead th {\n",
       "        text-align: right;\n",
       "    }\n",
       "</style>\n",
       "<table border=\"1\" class=\"dataframe\">\n",
       "  <thead>\n",
       "    <tr style=\"text-align: right;\">\n",
       "      <th></th>\n",
       "      <th></th>\n",
       "      <th>redcap_repeat_instrument</th>\n",
       "      <th>redcap_repeat_instance</th>\n",
       "      <th>first_name</th>\n",
       "      <th>last_name</th>\n",
       "      <th>phone_num</th>\n",
       "      <th>zip_code</th>\n",
       "      <th>dob</th>\n",
       "      <th>age</th>\n",
       "      <th>ethnicity</th>\n",
       "      <th>race</th>\n",
       "      <th>...</th>\n",
       "      <th>symptoms_yesno</th>\n",
       "      <th>symptom_onset</th>\n",
       "      <th>symptoms_exp</th>\n",
       "      <th>symptom_notes</th>\n",
       "      <th>test_yesno</th>\n",
       "      <th>test_positive_yesno</th>\n",
       "      <th>test_positive_date</th>\n",
       "      <th>test_upload</th>\n",
       "      <th>prior_covid_yesno</th>\n",
       "      <th>prior_covid_date</th>\n",
       "    </tr>\n",
       "    <tr>\n",
       "      <th>record_id</th>\n",
       "      <th>redcap_event_name</th>\n",
       "      <th></th>\n",
       "      <th></th>\n",
       "      <th></th>\n",
       "      <th></th>\n",
       "      <th></th>\n",
       "      <th></th>\n",
       "      <th></th>\n",
       "      <th></th>\n",
       "      <th></th>\n",
       "      <th></th>\n",
       "      <th></th>\n",
       "      <th></th>\n",
       "      <th></th>\n",
       "      <th></th>\n",
       "      <th></th>\n",
       "      <th></th>\n",
       "      <th></th>\n",
       "      <th></th>\n",
       "      <th></th>\n",
       "      <th></th>\n",
       "      <th></th>\n",
       "    </tr>\n",
       "  </thead>\n",
       "  <tbody>\n",
       "    <tr>\n",
       "      <th rowspan=\"3\" valign=\"top\">1</th>\n",
       "      <th>Notifications</th>\n",
       "      <td>NaN</td>\n",
       "      <td>NaN</td>\n",
       "      <td>NaN</td>\n",
       "      <td>NaN</td>\n",
       "      <td>NaN</td>\n",
       "      <td>NaN</td>\n",
       "      <td>NaN</td>\n",
       "      <td>NaN</td>\n",
       "      <td>NaN</td>\n",
       "      <td>NaN</td>\n",
       "      <td>...</td>\n",
       "      <td>NaN</td>\n",
       "      <td>NaN</td>\n",
       "      <td>NaN</td>\n",
       "      <td>NaN</td>\n",
       "      <td>NaN</td>\n",
       "      <td>NaN</td>\n",
       "      <td>NaN</td>\n",
       "      <td>NaN</td>\n",
       "      <td>NaN</td>\n",
       "      <td>NaN</td>\n",
       "    </tr>\n",
       "    <tr>\n",
       "      <th>Personal Info</th>\n",
       "      <td>NaN</td>\n",
       "      <td>NaN</td>\n",
       "      <td>John</td>\n",
       "      <td>Doe</td>\n",
       "      <td>(999) 999-9999</td>\n",
       "      <td>98105.0</td>\n",
       "      <td>2004-12-05</td>\n",
       "      <td>18.0</td>\n",
       "      <td>NOT Hispanic or Latino</td>\n",
       "      <td>White</td>\n",
       "      <td>...</td>\n",
       "      <td>NaN</td>\n",
       "      <td>NaN</td>\n",
       "      <td>NaN</td>\n",
       "      <td>NaN</td>\n",
       "      <td>NaN</td>\n",
       "      <td>NaN</td>\n",
       "      <td>NaN</td>\n",
       "      <td>NaN</td>\n",
       "      <td>NaN</td>\n",
       "      <td>NaN</td>\n",
       "    </tr>\n",
       "    <tr>\n",
       "      <th>Case Intake</th>\n",
       "      <td>NaN</td>\n",
       "      <td>1.0</td>\n",
       "      <td>NaN</td>\n",
       "      <td>NaN</td>\n",
       "      <td>NaN</td>\n",
       "      <td>NaN</td>\n",
       "      <td>NaN</td>\n",
       "      <td>NaN</td>\n",
       "      <td>NaN</td>\n",
       "      <td>NaN</td>\n",
       "      <td>...</td>\n",
       "      <td>Yes</td>\n",
       "      <td>2023-10-09</td>\n",
       "      <td>Sore Throat,Cough,Congestion</td>\n",
       "      <td>NaN</td>\n",
       "      <td>Yes</td>\n",
       "      <td>Yes</td>\n",
       "      <td>2023-10-10</td>\n",
       "      <td>test_api_export_image.png</td>\n",
       "      <td>No</td>\n",
       "      <td>NaN</td>\n",
       "    </tr>\n",
       "    <tr>\n",
       "      <th rowspan=\"4\" valign=\"top\">2</th>\n",
       "      <th>Notifications</th>\n",
       "      <td>NaN</td>\n",
       "      <td>NaN</td>\n",
       "      <td>NaN</td>\n",
       "      <td>NaN</td>\n",
       "      <td>NaN</td>\n",
       "      <td>NaN</td>\n",
       "      <td>NaN</td>\n",
       "      <td>NaN</td>\n",
       "      <td>NaN</td>\n",
       "      <td>NaN</td>\n",
       "      <td>...</td>\n",
       "      <td>NaN</td>\n",
       "      <td>NaN</td>\n",
       "      <td>NaN</td>\n",
       "      <td>NaN</td>\n",
       "      <td>NaN</td>\n",
       "      <td>NaN</td>\n",
       "      <td>NaN</td>\n",
       "      <td>NaN</td>\n",
       "      <td>NaN</td>\n",
       "      <td>NaN</td>\n",
       "    </tr>\n",
       "    <tr>\n",
       "      <th>Personal Info</th>\n",
       "      <td>NaN</td>\n",
       "      <td>NaN</td>\n",
       "      <td>Jane</td>\n",
       "      <td>Doe</td>\n",
       "      <td>(999) 999-9999</td>\n",
       "      <td>98105.0</td>\n",
       "      <td>1995-06-29</td>\n",
       "      <td>28.0</td>\n",
       "      <td>Hispanic or Latino</td>\n",
       "      <td>More Than One Race</td>\n",
       "      <td>...</td>\n",
       "      <td>NaN</td>\n",
       "      <td>NaN</td>\n",
       "      <td>NaN</td>\n",
       "      <td>NaN</td>\n",
       "      <td>NaN</td>\n",
       "      <td>NaN</td>\n",
       "      <td>NaN</td>\n",
       "      <td>NaN</td>\n",
       "      <td>NaN</td>\n",
       "      <td>NaN</td>\n",
       "    </tr>\n",
       "    <tr>\n",
       "      <th>Case Intake</th>\n",
       "      <td>NaN</td>\n",
       "      <td>2.0</td>\n",
       "      <td>NaN</td>\n",
       "      <td>NaN</td>\n",
       "      <td>NaN</td>\n",
       "      <td>NaN</td>\n",
       "      <td>NaN</td>\n",
       "      <td>NaN</td>\n",
       "      <td>NaN</td>\n",
       "      <td>NaN</td>\n",
       "      <td>...</td>\n",
       "      <td>Yes</td>\n",
       "      <td>2021-06-05</td>\n",
       "      <td>Sore Throat,Cough,Shortness of Breath,Chest Pa...</td>\n",
       "      <td>NaN</td>\n",
       "      <td>Yes</td>\n",
       "      <td>Yes</td>\n",
       "      <td>2021-06-07</td>\n",
       "      <td>test_api_export_pdf.pdf</td>\n",
       "      <td>No</td>\n",
       "      <td>NaN</td>\n",
       "    </tr>\n",
       "    <tr>\n",
       "      <th>Case Intake</th>\n",
       "      <td>NaN</td>\n",
       "      <td>1.0</td>\n",
       "      <td>NaN</td>\n",
       "      <td>NaN</td>\n",
       "      <td>NaN</td>\n",
       "      <td>NaN</td>\n",
       "      <td>NaN</td>\n",
       "      <td>NaN</td>\n",
       "      <td>NaN</td>\n",
       "      <td>NaN</td>\n",
       "      <td>...</td>\n",
       "      <td>Yes</td>\n",
       "      <td>2023-10-11</td>\n",
       "      <td>Sore Throat,Cough,Fever</td>\n",
       "      <td>NaN</td>\n",
       "      <td>Yes</td>\n",
       "      <td>Yes</td>\n",
       "      <td>2023-10-12</td>\n",
       "      <td>test_api_export_pdf.pdf</td>\n",
       "      <td>Yes</td>\n",
       "      <td>2021-06-06</td>\n",
       "    </tr>\n",
       "  </tbody>\n",
       "</table>\n",
       "<p>7 rows × 21 columns</p>\n",
       "</div>"
      ],
      "text/plain": [
       "                             redcap_repeat_instrument  redcap_repeat_instance  \\\n",
       "record_id redcap_event_name                                                     \n",
       "1         Notifications                           NaN                     NaN   \n",
       "          Personal Info                           NaN                     NaN   \n",
       "          Case Intake                             NaN                     1.0   \n",
       "2         Notifications                           NaN                     NaN   \n",
       "          Personal Info                           NaN                     NaN   \n",
       "          Case Intake                             NaN                     2.0   \n",
       "          Case Intake                             NaN                     1.0   \n",
       "\n",
       "                            first_name last_name       phone_num  zip_code  \\\n",
       "record_id redcap_event_name                                                  \n",
       "1         Notifications            NaN       NaN             NaN       NaN   \n",
       "          Personal Info           John       Doe  (999) 999-9999   98105.0   \n",
       "          Case Intake              NaN       NaN             NaN       NaN   \n",
       "2         Notifications            NaN       NaN             NaN       NaN   \n",
       "          Personal Info           Jane       Doe  (999) 999-9999   98105.0   \n",
       "          Case Intake              NaN       NaN             NaN       NaN   \n",
       "          Case Intake              NaN       NaN             NaN       NaN   \n",
       "\n",
       "                                    dob   age               ethnicity  \\\n",
       "record_id redcap_event_name                                             \n",
       "1         Notifications             NaN   NaN                     NaN   \n",
       "          Personal Info      2004-12-05  18.0  NOT Hispanic or Latino   \n",
       "          Case Intake               NaN   NaN                     NaN   \n",
       "2         Notifications             NaN   NaN                     NaN   \n",
       "          Personal Info      1995-06-29  28.0      Hispanic or Latino   \n",
       "          Case Intake               NaN   NaN                     NaN   \n",
       "          Case Intake               NaN   NaN                     NaN   \n",
       "\n",
       "                                           race  ... symptoms_yesno  \\\n",
       "record_id redcap_event_name                      ...                  \n",
       "1         Notifications                     NaN  ...            NaN   \n",
       "          Personal Info                   White  ...            NaN   \n",
       "          Case Intake                       NaN  ...            Yes   \n",
       "2         Notifications                     NaN  ...            NaN   \n",
       "          Personal Info      More Than One Race  ...            NaN   \n",
       "          Case Intake                       NaN  ...            Yes   \n",
       "          Case Intake                       NaN  ...            Yes   \n",
       "\n",
       "                            symptom_onset  \\\n",
       "record_id redcap_event_name                 \n",
       "1         Notifications               NaN   \n",
       "          Personal Info               NaN   \n",
       "          Case Intake          2023-10-09   \n",
       "2         Notifications               NaN   \n",
       "          Personal Info               NaN   \n",
       "          Case Intake          2021-06-05   \n",
       "          Case Intake          2023-10-11   \n",
       "\n",
       "                                                                  symptoms_exp  \\\n",
       "record_id redcap_event_name                                                      \n",
       "1         Notifications                                                    NaN   \n",
       "          Personal Info                                                    NaN   \n",
       "          Case Intake                             Sore Throat,Cough,Congestion   \n",
       "2         Notifications                                                    NaN   \n",
       "          Personal Info                                                    NaN   \n",
       "          Case Intake        Sore Throat,Cough,Shortness of Breath,Chest Pa...   \n",
       "          Case Intake                                  Sore Throat,Cough,Fever   \n",
       "\n",
       "                            symptom_notes  test_yesno test_positive_yesno  \\\n",
       "record_id redcap_event_name                                                 \n",
       "1         Notifications               NaN         NaN                 NaN   \n",
       "          Personal Info               NaN         NaN                 NaN   \n",
       "          Case Intake                 NaN         Yes                 Yes   \n",
       "2         Notifications               NaN         NaN                 NaN   \n",
       "          Personal Info               NaN         NaN                 NaN   \n",
       "          Case Intake                 NaN         Yes                 Yes   \n",
       "          Case Intake                 NaN         Yes                 Yes   \n",
       "\n",
       "                            test_positive_date                test_upload  \\\n",
       "record_id redcap_event_name                                                 \n",
       "1         Notifications                    NaN                        NaN   \n",
       "          Personal Info                    NaN                        NaN   \n",
       "          Case Intake               2023-10-10  test_api_export_image.png   \n",
       "2         Notifications                    NaN                        NaN   \n",
       "          Personal Info                    NaN                        NaN   \n",
       "          Case Intake               2021-06-07    test_api_export_pdf.pdf   \n",
       "          Case Intake               2023-10-12    test_api_export_pdf.pdf   \n",
       "\n",
       "                            prior_covid_yesno prior_covid_date  \n",
       "record_id redcap_event_name                                     \n",
       "1         Notifications                   NaN              NaN  \n",
       "          Personal Info                   NaN              NaN  \n",
       "          Case Intake                      No              NaN  \n",
       "2         Notifications                   NaN              NaN  \n",
       "          Personal Info                   NaN              NaN  \n",
       "          Case Intake                      No              NaN  \n",
       "          Case Intake                     Yes       2021-06-06  \n",
       "\n",
       "[7 rows x 21 columns]"
      ]
     },
     "execution_count": 59,
     "metadata": {},
     "output_type": "execute_result"
    }
   ],
   "source": [
    "project.export_report(report_id='2178', format_type='df', raw_or_label='label').head(7)"
   ]
  },
  {
   "cell_type": "markdown",
   "metadata": {},
   "source": [
    ":::"
   ]
  },
  {
   "cell_type": "markdown",
   "metadata": {},
   "source": [
    "## Files: Attachments to Individual Records\n",
    "\n",
    "File uploads are a unique field type in REDCap that accept a variety of file types, including images and other documents. Unlike other export methods, exporting files only works for one file field from one record at a time. \n",
    "\n",
    "If the project has repeating events (i.e. a longitudinal project), the event name must be specified. If the file of interest is in a repeat instance, the instance number must also be specified."
   ]
  },
  {
   "cell_type": "markdown",
   "metadata": {},
   "source": [
    "::: {.panel-tabset}\n",
    "\n",
    "#### R"
   ]
  },
  {
   "cell_type": "code",
   "execution_count": 60,
   "metadata": {
    "tags": []
   },
   "outputs": [],
   "source": [
    "%%capture\n",
    "%%R\n",
    "redcap_file_download_oneshot(\n",
    "    event = \"case_intake_arm_1\",\n",
    "    directory = \"./files/export_files/\",\n",
    "    file_name = \"test_file_export_r.png\",\n",
    "    record = 1,\n",
    "    field = \"test_upload\",\n",
    "    redcap_uri = url,\n",
    "    token = token,\n",
    "    overwrite = TRUE\n",
    ")"
   ]
  },
  {
   "cell_type": "markdown",
   "metadata": {},
   "source": [
    "![file_r](./files/export_files/test_file_export_r.png){width=700, fig-align=\"center\"}"
   ]
  },
  {
   "cell_type": "markdown",
   "metadata": {},
   "source": [
    "#### Python"
   ]
  },
  {
   "cell_type": "markdown",
   "metadata": {},
   "source": [
    "The following code can be used to save and display the file in the format we expect:"
   ]
  },
  {
   "cell_type": "code",
   "execution_count": 61,
   "metadata": {},
   "outputs": [],
   "source": [
    "export_file_image = project.export_file(record=\"1\", \n",
    "                                        field=\"test_upload\", \n",
    "                                        event=\"case_intake_arm_1\")\n",
    "with open(\"files/export_files/test_file_export_py.png\",\"wb\") as binary_file:\n",
    "    binary_file.write(export_file_image[0])"
   ]
  },
  {
   "cell_type": "code",
   "execution_count": 62,
   "metadata": {},
   "outputs": [
    {
     "data": {
      "image/png": "[encoded data removed]",
      "text/plain": [
       "<IPython.core.display.Image object>"
      ]
     },
     "execution_count": 62,
     "metadata": {
      "image/png": {
       "width": 400
      }
     },
     "output_type": "execute_result"
    }
   ],
   "source": [
    "from IPython.display import Image\n",
    "Image(\"files/export_files/test_file_export_py.png\", width=400)"
   ]
  },
  {
   "cell_type": "markdown",
   "metadata": {},
   "source": [
    ":::"
   ]
  },
  {
   "cell_type": "markdown",
   "metadata": {
    "tags": []
   },
   "source": [
    "## Survey Metadata"
   ]
  },
  {
   "cell_type": "markdown",
   "metadata": {},
   "source": [
    "::: {.panel-tabset}\n",
    "\n",
    "#### R"
   ]
  },
  {
   "cell_type": "code",
   "execution_count": 63,
   "metadata": {
    "tags": []
   },
   "outputs": [],
   "source": [
    "%%capture\n",
    "%%R\n",
    "metadata <- redcap_metadata_read(\n",
    "    redcap_uri = url, \n",
    "    token = token\n",
    ")$data\n",
    "\n",
    "metadata_tbl<- gt(head(metadata))\n",
    "gt::gtsave(data_tbl, filename = 'metadata.html', path = \"./files/export_files/\")"
   ]
  },
  {
   "cell_type": "raw",
   "metadata": {
    "tags": []
   },
   "source": [
    "<p align=\"center\"><iframe width=\"100%\" height=\"500\" src=\"./files/export_files/metadata.html\" title=\"Quarto Documentation\"></iframe></p>"
   ]
  },
  {
   "cell_type": "markdown",
   "metadata": {},
   "source": [
    "#### Python"
   ]
  },
  {
   "cell_type": "code",
   "execution_count": 64,
   "metadata": {},
   "outputs": [
    {
     "data": {
      "text/html": [
       "<div>\n",
       "<style scoped>\n",
       "    .dataframe tbody tr th:only-of-type {\n",
       "        vertical-align: middle;\n",
       "    }\n",
       "\n",
       "    .dataframe tbody tr th {\n",
       "        vertical-align: top;\n",
       "    }\n",
       "\n",
       "    .dataframe thead th {\n",
       "        text-align: right;\n",
       "    }\n",
       "</style>\n",
       "<table border=\"1\" class=\"dataframe\">\n",
       "  <thead>\n",
       "    <tr style=\"text-align: right;\">\n",
       "      <th></th>\n",
       "      <th>form_name</th>\n",
       "      <th>section_header</th>\n",
       "      <th>field_type</th>\n",
       "      <th>field_label</th>\n",
       "      <th>select_choices_or_calculations</th>\n",
       "      <th>field_note</th>\n",
       "      <th>text_validation_type_or_show_slider_number</th>\n",
       "      <th>text_validation_min</th>\n",
       "      <th>text_validation_max</th>\n",
       "      <th>identifier</th>\n",
       "      <th>branching_logic</th>\n",
       "      <th>required_field</th>\n",
       "      <th>custom_alignment</th>\n",
       "      <th>question_number</th>\n",
       "      <th>matrix_group_name</th>\n",
       "      <th>matrix_ranking</th>\n",
       "      <th>field_annotation</th>\n",
       "    </tr>\n",
       "    <tr>\n",
       "      <th>field_name</th>\n",
       "      <th></th>\n",
       "      <th></th>\n",
       "      <th></th>\n",
       "      <th></th>\n",
       "      <th></th>\n",
       "      <th></th>\n",
       "      <th></th>\n",
       "      <th></th>\n",
       "      <th></th>\n",
       "      <th></th>\n",
       "      <th></th>\n",
       "      <th></th>\n",
       "      <th></th>\n",
       "      <th></th>\n",
       "      <th></th>\n",
       "      <th></th>\n",
       "      <th></th>\n",
       "    </tr>\n",
       "  </thead>\n",
       "  <tbody>\n",
       "    <tr>\n",
       "      <th>record_id</th>\n",
       "      <td>demographics</td>\n",
       "      <td>NaN</td>\n",
       "      <td>text</td>\n",
       "      <td>Record ID</td>\n",
       "      <td>NaN</td>\n",
       "      <td>NaN</td>\n",
       "      <td>NaN</td>\n",
       "      <td>NaN</td>\n",
       "      <td>NaN</td>\n",
       "      <td>NaN</td>\n",
       "      <td>NaN</td>\n",
       "      <td>NaN</td>\n",
       "      <td>NaN</td>\n",
       "      <td>NaN</td>\n",
       "      <td>NaN</td>\n",
       "      <td>NaN</td>\n",
       "      <td>NaN</td>\n",
       "    </tr>\n",
       "    <tr>\n",
       "      <th>first_name</th>\n",
       "      <td>demographics</td>\n",
       "      <td>Personal Information</td>\n",
       "      <td>text</td>\n",
       "      <td>First Name</td>\n",
       "      <td>NaN</td>\n",
       "      <td>NaN</td>\n",
       "      <td>NaN</td>\n",
       "      <td>NaN</td>\n",
       "      <td>NaN</td>\n",
       "      <td>NaN</td>\n",
       "      <td>NaN</td>\n",
       "      <td>NaN</td>\n",
       "      <td>NaN</td>\n",
       "      <td>NaN</td>\n",
       "      <td>NaN</td>\n",
       "      <td>NaN</td>\n",
       "      <td>NaN</td>\n",
       "    </tr>\n",
       "    <tr>\n",
       "      <th>last_name</th>\n",
       "      <td>demographics</td>\n",
       "      <td>NaN</td>\n",
       "      <td>text</td>\n",
       "      <td>Last Name</td>\n",
       "      <td>NaN</td>\n",
       "      <td>NaN</td>\n",
       "      <td>NaN</td>\n",
       "      <td>NaN</td>\n",
       "      <td>NaN</td>\n",
       "      <td>NaN</td>\n",
       "      <td>NaN</td>\n",
       "      <td>NaN</td>\n",
       "      <td>NaN</td>\n",
       "      <td>NaN</td>\n",
       "      <td>NaN</td>\n",
       "      <td>NaN</td>\n",
       "      <td>NaN</td>\n",
       "    </tr>\n",
       "    <tr>\n",
       "      <th>phone_num</th>\n",
       "      <td>demographics</td>\n",
       "      <td>NaN</td>\n",
       "      <td>text</td>\n",
       "      <td>Phone Number</td>\n",
       "      <td>NaN</td>\n",
       "      <td>NaN</td>\n",
       "      <td>phone</td>\n",
       "      <td>NaN</td>\n",
       "      <td>NaN</td>\n",
       "      <td>NaN</td>\n",
       "      <td>NaN</td>\n",
       "      <td>NaN</td>\n",
       "      <td>NaN</td>\n",
       "      <td>NaN</td>\n",
       "      <td>NaN</td>\n",
       "      <td>NaN</td>\n",
       "      <td>NaN</td>\n",
       "    </tr>\n",
       "    <tr>\n",
       "      <th>zip_code</th>\n",
       "      <td>demographics</td>\n",
       "      <td>NaN</td>\n",
       "      <td>text</td>\n",
       "      <td>ZIP Code</td>\n",
       "      <td>NaN</td>\n",
       "      <td>NaN</td>\n",
       "      <td>integer</td>\n",
       "      <td>10001.0</td>\n",
       "      <td>99999</td>\n",
       "      <td>y</td>\n",
       "      <td>NaN</td>\n",
       "      <td>NaN</td>\n",
       "      <td>NaN</td>\n",
       "      <td>NaN</td>\n",
       "      <td>NaN</td>\n",
       "      <td>NaN</td>\n",
       "      <td>NaN</td>\n",
       "    </tr>\n",
       "    <tr>\n",
       "      <th>dob</th>\n",
       "      <td>demographics</td>\n",
       "      <td>NaN</td>\n",
       "      <td>text</td>\n",
       "      <td>Date of birth</td>\n",
       "      <td>NaN</td>\n",
       "      <td>NaN</td>\n",
       "      <td>date_mdy</td>\n",
       "      <td>NaN</td>\n",
       "      <td>NaN</td>\n",
       "      <td>y</td>\n",
       "      <td>NaN</td>\n",
       "      <td>NaN</td>\n",
       "      <td>NaN</td>\n",
       "      <td>NaN</td>\n",
       "      <td>NaN</td>\n",
       "      <td>NaN</td>\n",
       "      <td>NaN</td>\n",
       "    </tr>\n",
       "    <tr>\n",
       "      <th>age</th>\n",
       "      <td>demographics</td>\n",
       "      <td>NaN</td>\n",
       "      <td>calc</td>\n",
       "      <td>Age (years)</td>\n",
       "      <td>rounddown(datediff([dob],'today','y'))</td>\n",
       "      <td>NaN</td>\n",
       "      <td>NaN</td>\n",
       "      <td>NaN</td>\n",
       "      <td>NaN</td>\n",
       "      <td>NaN</td>\n",
       "      <td>NaN</td>\n",
       "      <td>NaN</td>\n",
       "      <td>NaN</td>\n",
       "      <td>NaN</td>\n",
       "      <td>NaN</td>\n",
       "      <td>NaN</td>\n",
       "      <td>NaN</td>\n",
       "    </tr>\n",
       "    <tr>\n",
       "      <th>ethnicity</th>\n",
       "      <td>demographics</td>\n",
       "      <td>NaN</td>\n",
       "      <td>radio</td>\n",
       "      <td>Ethnicity</td>\n",
       "      <td>0, Hispanic or Latino|1, NOT Hispanic or Latin...</td>\n",
       "      <td>NaN</td>\n",
       "      <td>NaN</td>\n",
       "      <td>NaN</td>\n",
       "      <td>NaN</td>\n",
       "      <td>NaN</td>\n",
       "      <td>NaN</td>\n",
       "      <td>NaN</td>\n",
       "      <td>LH</td>\n",
       "      <td>NaN</td>\n",
       "      <td>NaN</td>\n",
       "      <td>NaN</td>\n",
       "      <td>NaN</td>\n",
       "    </tr>\n",
       "    <tr>\n",
       "      <th>race</th>\n",
       "      <td>demographics</td>\n",
       "      <td>NaN</td>\n",
       "      <td>dropdown</td>\n",
       "      <td>Race</td>\n",
       "      <td>0, American Indian/Alaska Native|1, Asian|2, N...</td>\n",
       "      <td>NaN</td>\n",
       "      <td>NaN</td>\n",
       "      <td>NaN</td>\n",
       "      <td>NaN</td>\n",
       "      <td>NaN</td>\n",
       "      <td>NaN</td>\n",
       "      <td>NaN</td>\n",
       "      <td>NaN</td>\n",
       "      <td>NaN</td>\n",
       "      <td>NaN</td>\n",
       "      <td>NaN</td>\n",
       "      <td>NaN</td>\n",
       "    </tr>\n",
       "    <tr>\n",
       "      <th>gender</th>\n",
       "      <td>demographics</td>\n",
       "      <td>NaN</td>\n",
       "      <td>radio</td>\n",
       "      <td>Gender</td>\n",
       "      <td>0, Female|1, Male|2, Other|3, Prefer not to say</td>\n",
       "      <td>NaN</td>\n",
       "      <td>NaN</td>\n",
       "      <td>NaN</td>\n",
       "      <td>NaN</td>\n",
       "      <td>NaN</td>\n",
       "      <td>NaN</td>\n",
       "      <td>NaN</td>\n",
       "      <td>NaN</td>\n",
       "      <td>NaN</td>\n",
       "      <td>NaN</td>\n",
       "      <td>NaN</td>\n",
       "      <td>NaN</td>\n",
       "    </tr>\n",
       "  </tbody>\n",
       "</table>\n",
       "</div>"
      ],
      "text/plain": [
       "               form_name        section_header field_type    field_label  \\\n",
       "field_name                                                                 \n",
       "record_id   demographics                   NaN       text      Record ID   \n",
       "first_name  demographics  Personal Information       text     First Name   \n",
       "last_name   demographics                   NaN       text      Last Name   \n",
       "phone_num   demographics                   NaN       text   Phone Number   \n",
       "zip_code    demographics                   NaN       text       ZIP Code   \n",
       "dob         demographics                   NaN       text  Date of birth   \n",
       "age         demographics                   NaN       calc    Age (years)   \n",
       "ethnicity   demographics                   NaN      radio      Ethnicity   \n",
       "race        demographics                   NaN   dropdown           Race   \n",
       "gender      demographics                   NaN      radio         Gender   \n",
       "\n",
       "                               select_choices_or_calculations field_note  \\\n",
       "field_name                                                                 \n",
       "record_id                                                 NaN        NaN   \n",
       "first_name                                                NaN        NaN   \n",
       "last_name                                                 NaN        NaN   \n",
       "phone_num                                                 NaN        NaN   \n",
       "zip_code                                                  NaN        NaN   \n",
       "dob                                                       NaN        NaN   \n",
       "age                    rounddown(datediff([dob],'today','y'))        NaN   \n",
       "ethnicity   0, Hispanic or Latino|1, NOT Hispanic or Latin...        NaN   \n",
       "race        0, American Indian/Alaska Native|1, Asian|2, N...        NaN   \n",
       "gender        0, Female|1, Male|2, Other|3, Prefer not to say        NaN   \n",
       "\n",
       "           text_validation_type_or_show_slider_number  text_validation_min  \\\n",
       "field_name                                                                   \n",
       "record_id                                         NaN                  NaN   \n",
       "first_name                                        NaN                  NaN   \n",
       "last_name                                         NaN                  NaN   \n",
       "phone_num                                       phone                  NaN   \n",
       "zip_code                                      integer              10001.0   \n",
       "dob                                          date_mdy                  NaN   \n",
       "age                                               NaN                  NaN   \n",
       "ethnicity                                         NaN                  NaN   \n",
       "race                                              NaN                  NaN   \n",
       "gender                                            NaN                  NaN   \n",
       "\n",
       "           text_validation_max identifier branching_logic  required_field  \\\n",
       "field_name                                                                  \n",
       "record_id                  NaN        NaN             NaN             NaN   \n",
       "first_name                 NaN        NaN             NaN             NaN   \n",
       "last_name                  NaN        NaN             NaN             NaN   \n",
       "phone_num                  NaN        NaN             NaN             NaN   \n",
       "zip_code                 99999          y             NaN             NaN   \n",
       "dob                        NaN          y             NaN             NaN   \n",
       "age                        NaN        NaN             NaN             NaN   \n",
       "ethnicity                  NaN        NaN             NaN             NaN   \n",
       "race                       NaN        NaN             NaN             NaN   \n",
       "gender                     NaN        NaN             NaN             NaN   \n",
       "\n",
       "           custom_alignment  question_number  matrix_group_name  \\\n",
       "field_name                                                        \n",
       "record_id               NaN              NaN                NaN   \n",
       "first_name              NaN              NaN                NaN   \n",
       "last_name               NaN              NaN                NaN   \n",
       "phone_num               NaN              NaN                NaN   \n",
       "zip_code                NaN              NaN                NaN   \n",
       "dob                     NaN              NaN                NaN   \n",
       "age                     NaN              NaN                NaN   \n",
       "ethnicity                LH              NaN                NaN   \n",
       "race                    NaN              NaN                NaN   \n",
       "gender                  NaN              NaN                NaN   \n",
       "\n",
       "            matrix_ranking field_annotation  \n",
       "field_name                                   \n",
       "record_id              NaN              NaN  \n",
       "first_name             NaN              NaN  \n",
       "last_name              NaN              NaN  \n",
       "phone_num              NaN              NaN  \n",
       "zip_code               NaN              NaN  \n",
       "dob                    NaN              NaN  \n",
       "age                    NaN              NaN  \n",
       "ethnicity              NaN              NaN  \n",
       "race                   NaN              NaN  \n",
       "gender                 NaN              NaN  "
      ]
     },
     "execution_count": 64,
     "metadata": {},
     "output_type": "execute_result"
    }
   ],
   "source": [
    "project.export_metadata(format_type=\"df\").head(10)"
   ]
  },
  {
   "cell_type": "markdown",
   "metadata": {},
   "source": [
    ":::"
   ]
  },
  {
   "cell_type": "markdown",
   "metadata": {},
   "source": [
    "## Field Names"
   ]
  },
  {
   "cell_type": "markdown",
   "metadata": {},
   "source": [
    "::: {.panel-tabset}\n",
    "\n",
    "#### R"
   ]
  },
  {
   "cell_type": "code",
   "execution_count": 65,
   "metadata": {
    "tags": []
   },
   "outputs": [],
   "source": [
    "%%capture\n",
    "%%R\n",
    "field_names <- redcap_variables(\n",
    "    redcap_uri = url, \n",
    "    token = token, \n",
    "    verbose = TRUE, \n",
    "    config_options = NULL\n",
    ")$data\n",
    "\n",
    "field_names_tbl<- gt(head(field_names,15))\n",
    "gt::gtsave(field_names_tbl, filename = 'field_names.html', path = \"./files/export_files/\")"
   ]
  },
  {
   "cell_type": "raw",
   "metadata": {
    "scrolled": true,
    "tags": []
   },
   "source": [
    "<p align=\"center\"><iframe width=\"100%\" height=\"300\" src=\"./files/export_files/field_names.html\" title=\"Quarto Documentation\"></iframe></p>"
   ]
  },
  {
   "cell_type": "markdown",
   "metadata": {},
   "source": [
    "#### Python"
   ]
  },
  {
   "cell_type": "code",
   "execution_count": 66,
   "metadata": {},
   "outputs": [
    {
     "data": {
      "text/html": [
       "<div>\n",
       "<style scoped>\n",
       "    .dataframe tbody tr th:only-of-type {\n",
       "        vertical-align: middle;\n",
       "    }\n",
       "\n",
       "    .dataframe tbody tr th {\n",
       "        vertical-align: top;\n",
       "    }\n",
       "\n",
       "    .dataframe thead th {\n",
       "        text-align: right;\n",
       "    }\n",
       "</style>\n",
       "<table border=\"1\" class=\"dataframe\">\n",
       "  <thead>\n",
       "    <tr style=\"text-align: right;\">\n",
       "      <th></th>\n",
       "      <th>choice_value</th>\n",
       "      <th>export_field_name</th>\n",
       "    </tr>\n",
       "    <tr>\n",
       "      <th>original_field_name</th>\n",
       "      <th></th>\n",
       "      <th></th>\n",
       "    </tr>\n",
       "  </thead>\n",
       "  <tbody>\n",
       "    <tr>\n",
       "      <th>record_id</th>\n",
       "      <td>NaN</td>\n",
       "      <td>record_id</td>\n",
       "    </tr>\n",
       "    <tr>\n",
       "      <th>first_name</th>\n",
       "      <td>NaN</td>\n",
       "      <td>first_name</td>\n",
       "    </tr>\n",
       "    <tr>\n",
       "      <th>last_name</th>\n",
       "      <td>NaN</td>\n",
       "      <td>last_name</td>\n",
       "    </tr>\n",
       "    <tr>\n",
       "      <th>phone_num</th>\n",
       "      <td>NaN</td>\n",
       "      <td>phone_num</td>\n",
       "    </tr>\n",
       "    <tr>\n",
       "      <th>zip_code</th>\n",
       "      <td>NaN</td>\n",
       "      <td>zip_code</td>\n",
       "    </tr>\n",
       "    <tr>\n",
       "      <th>dob</th>\n",
       "      <td>NaN</td>\n",
       "      <td>dob</td>\n",
       "    </tr>\n",
       "    <tr>\n",
       "      <th>age</th>\n",
       "      <td>NaN</td>\n",
       "      <td>age</td>\n",
       "    </tr>\n",
       "    <tr>\n",
       "      <th>ethnicity</th>\n",
       "      <td>NaN</td>\n",
       "      <td>ethnicity</td>\n",
       "    </tr>\n",
       "    <tr>\n",
       "      <th>race</th>\n",
       "      <td>NaN</td>\n",
       "      <td>race</td>\n",
       "    </tr>\n",
       "    <tr>\n",
       "      <th>gender</th>\n",
       "      <td>NaN</td>\n",
       "      <td>gender</td>\n",
       "    </tr>\n",
       "    <tr>\n",
       "      <th>demographics_complete</th>\n",
       "      <td>NaN</td>\n",
       "      <td>demographics_complete</td>\n",
       "    </tr>\n",
       "    <tr>\n",
       "      <th>symptoms_yesno</th>\n",
       "      <td>NaN</td>\n",
       "      <td>symptoms_yesno</td>\n",
       "    </tr>\n",
       "    <tr>\n",
       "      <th>symptom_onset</th>\n",
       "      <td>NaN</td>\n",
       "      <td>symptom_onset</td>\n",
       "    </tr>\n",
       "    <tr>\n",
       "      <th>symptoms_exp</th>\n",
       "      <td>1.0</td>\n",
       "      <td>symptoms_exp___1</td>\n",
       "    </tr>\n",
       "    <tr>\n",
       "      <th>symptoms_exp</th>\n",
       "      <td>2.0</td>\n",
       "      <td>symptoms_exp___2</td>\n",
       "    </tr>\n",
       "  </tbody>\n",
       "</table>\n",
       "</div>"
      ],
      "text/plain": [
       "                       choice_value      export_field_name\n",
       "original_field_name                                       \n",
       "record_id                       NaN              record_id\n",
       "first_name                      NaN             first_name\n",
       "last_name                       NaN              last_name\n",
       "phone_num                       NaN              phone_num\n",
       "zip_code                        NaN               zip_code\n",
       "dob                             NaN                    dob\n",
       "age                             NaN                    age\n",
       "ethnicity                       NaN              ethnicity\n",
       "race                            NaN                   race\n",
       "gender                          NaN                 gender\n",
       "demographics_complete           NaN  demographics_complete\n",
       "symptoms_yesno                  NaN         symptoms_yesno\n",
       "symptom_onset                   NaN          symptom_onset\n",
       "symptoms_exp                    1.0       symptoms_exp___1\n",
       "symptoms_exp                    2.0       symptoms_exp___2"
      ]
     },
     "execution_count": 66,
     "metadata": {},
     "output_type": "execute_result"
    }
   ],
   "source": [
    "project.export_field_names(format_type=\"df\").head(15)"
   ]
  },
  {
   "cell_type": "markdown",
   "metadata": {},
   "source": [
    ":::"
   ]
  },
  {
   "cell_type": "markdown",
   "metadata": {},
   "source": [
    "## Forms and Instruments {#sec-forms_instruments}\n",
    "\n",
    "### Instrument Names and Labels"
   ]
  },
  {
   "cell_type": "markdown",
   "metadata": {},
   "source": [
    "**Note:** Use the value specified under `instrument_name` (not `instrument_label`) when specifying specific instruments as arguments in REDCapR and Pycap functions."
   ]
  },
  {
   "cell_type": "markdown",
   "metadata": {},
   "source": [
    "::: {.panel-tabset}\n",
    "\n",
    "#### R"
   ]
  },
  {
   "cell_type": "code",
   "execution_count": 67,
   "metadata": {
    "tags": []
   },
   "outputs": [],
   "source": [
    "%%capture\n",
    "%%R\n",
    "instruments <- redcap_instruments(\n",
    "    redcap_uri = url, \n",
    "    token = token, \n",
    "    verbose = TRUE, \n",
    "    config_options = NULL\n",
    ")$data\n",
    "\n",
    "instruments_tbl<- gt(head(instruments))\n",
    "gt::gtsave(instruments_tbl, filename = 'instruments.html', path = \"./files/export_files/\")"
   ]
  },
  {
   "cell_type": "raw",
   "metadata": {
    "tags": []
   },
   "source": [
    "<p align=\"center\"><iframe width=\"100%\" height=\"300\" src=\"./files/export_files/instruments.html\" title=\"Quarto Documentation\"></iframe></p>"
   ]
  },
  {
   "cell_type": "markdown",
   "metadata": {},
   "source": [
    "#### Python"
   ]
  },
  {
   "cell_type": "code",
   "execution_count": 68,
   "metadata": {},
   "outputs": [
    {
     "data": {
      "text/html": [
       "<div>\n",
       "<style scoped>\n",
       "    .dataframe tbody tr th:only-of-type {\n",
       "        vertical-align: middle;\n",
       "    }\n",
       "\n",
       "    .dataframe tbody tr th {\n",
       "        vertical-align: top;\n",
       "    }\n",
       "\n",
       "    .dataframe thead th {\n",
       "        text-align: right;\n",
       "    }\n",
       "</style>\n",
       "<table border=\"1\" class=\"dataframe\">\n",
       "  <thead>\n",
       "    <tr style=\"text-align: right;\">\n",
       "      <th></th>\n",
       "      <th>instrument_name</th>\n",
       "      <th>instrument_label</th>\n",
       "    </tr>\n",
       "  </thead>\n",
       "  <tbody>\n",
       "    <tr>\n",
       "      <th>0</th>\n",
       "      <td>demographics</td>\n",
       "      <td>Demographics</td>\n",
       "    </tr>\n",
       "    <tr>\n",
       "      <th>1</th>\n",
       "      <td>symptoms</td>\n",
       "      <td>Symptoms</td>\n",
       "    </tr>\n",
       "    <tr>\n",
       "      <th>2</th>\n",
       "      <td>test_information</td>\n",
       "      <td>Test Information</td>\n",
       "    </tr>\n",
       "    <tr>\n",
       "      <th>3</th>\n",
       "      <td>close_contacts</td>\n",
       "      <td>Close Contacts</td>\n",
       "    </tr>\n",
       "    <tr>\n",
       "      <th>4</th>\n",
       "      <td>work_information</td>\n",
       "      <td>Work Information</td>\n",
       "    </tr>\n",
       "  </tbody>\n",
       "</table>\n",
       "</div>"
      ],
      "text/plain": [
       "    instrument_name  instrument_label\n",
       "0      demographics      Demographics\n",
       "1          symptoms          Symptoms\n",
       "2  test_information  Test Information\n",
       "3    close_contacts    Close Contacts\n",
       "4  work_information  Work Information"
      ]
     },
     "execution_count": 68,
     "metadata": {},
     "output_type": "execute_result"
    }
   ],
   "source": [
    "project.export_instruments(format_type = \"df\")"
   ]
  },
  {
   "cell_type": "markdown",
   "metadata": {},
   "source": [
    ":::"
   ]
  },
  {
   "cell_type": "markdown",
   "metadata": {},
   "source": [
    "### Download PDF of Instruments\n",
    "\n",
    "These functions will download the instrument specified and all of the fields as a cleanly formatted questionnaire pdf file. "
   ]
  },
  {
   "cell_type": "markdown",
   "metadata": {},
   "source": [
    "::: {.panel-tabset}\n",
    "\n",
    "#### R"
   ]
  },
  {
   "cell_type": "code",
   "execution_count": 69,
   "metadata": {
    "tags": []
   },
   "outputs": [],
   "source": [
    "%%capture\n",
    "%%R\n",
    "redcap_instrument_download(\n",
    "    instrument = \"symptoms\",\n",
    "    directory = \"./files/instruments/\",\n",
    "    file_name = \"symptoms_instrument.pdf\",\n",
    "    redcap_uri = url,\n",
    "    overwrite = TRUE,\n",
    "    token = token\n",
    ")"
   ]
  },
  {
   "cell_type": "raw",
   "metadata": {},
   "source": [
    "<p align=\"center\"><iframe width=\"100%\" height=\"500\" src=\"./files/instruments/symptoms_instrument.pdf\" title=\"Quarto Documentation\"></iframe></p>"
   ]
  },
  {
   "cell_type": "markdown",
   "metadata": {},
   "source": [
    "#### Python"
   ]
  },
  {
   "cell_type": "code",
   "execution_count": 70,
   "metadata": {},
   "outputs": [],
   "source": [
    "close_contact  = project.export_pdf(instrument = 'close_contacts')\n",
    "with open(\"files/instruments/close_contacts.pdf\",\"wb\") as binary_file:\n",
    "    binary_file.write(close_contact[0])"
   ]
  },
  {
   "cell_type": "code",
   "execution_count": 95,
   "metadata": {},
   "outputs": [
    {
     "data": {
      "text/html": [
       "\n",
       "        <iframe\n",
       "            width=\"800\"\n",
       "            height=\"300\"\n",
       "            src=\"files/instruments/close_contacts.pdf\"\n",
       "            frameborder=\"0\"\n",
       "            allowfullscreen\n",
       "            \n",
       "        ></iframe>\n",
       "        "
      ],
      "text/plain": [
       "<IPython.lib.display.IFrame at 0x252aea351f0>"
      ]
     },
     "execution_count": 95,
     "metadata": {},
     "output_type": "execute_result"
    }
   ],
   "source": [
    "from IPython.display import IFrame\n",
    "IFrame(\"files/instruments/close_contacts.pdf\", width=800, height=300)"
   ]
  },
  {
   "cell_type": "markdown",
   "metadata": {},
   "source": [
    ":::"
   ]
  },
  {
   "cell_type": "markdown",
   "metadata": {},
   "source": [
    "## Instrument/Event Map\n",
    "\n",
    "The Instrument/Event map is a quick way to see what instruments are associated with which events in longitudinal REDCap projects"
   ]
  },
  {
   "cell_type": "markdown",
   "metadata": {},
   "source": [
    "::: {.panel-tabset}\n",
    "\n",
    "#### R"
   ]
  },
  {
   "cell_type": "code",
   "execution_count": 165,
   "metadata": {
    "tags": []
   },
   "outputs": [],
   "source": [
    "%%capture\n",
    "%%R\n",
    "final_mapping <- redcap_event_instruments(\n",
    "    redcap_uri = url, \n",
    "    token, \n",
    "    verbose = TRUE, \n",
    "    config_options = NULL\n",
    ")$data\n",
    "\n",
    "final_mapping_tbl<- gt(head(final_mapping))\n",
    "gt::gtsave(final_mapping_tbl, filename = 'export_instrument_event.html', path = \"./files/export_files/\")"
   ]
  },
  {
   "cell_type": "raw",
   "metadata": {
    "tags": []
   },
   "source": [
    "<p align=\"center\"><iframe width=\"100%\" height=\"300\" src=\"./files/export_files/export_instrument_event.html\" title=\"Quarto Documentation\"></iframe></p>"
   ]
  },
  {
   "cell_type": "markdown",
   "metadata": {},
   "source": [
    "#### Python"
   ]
  },
  {
   "cell_type": "code",
   "execution_count": 167,
   "metadata": {},
   "outputs": [
    {
     "data": {
      "text/html": [
       "<div>\n",
       "<style scoped>\n",
       "    .dataframe tbody tr th:only-of-type {\n",
       "        vertical-align: middle;\n",
       "    }\n",
       "\n",
       "    .dataframe tbody tr th {\n",
       "        vertical-align: top;\n",
       "    }\n",
       "\n",
       "    .dataframe thead th {\n",
       "        text-align: right;\n",
       "    }\n",
       "</style>\n",
       "<table border=\"1\" class=\"dataframe\">\n",
       "  <thead>\n",
       "    <tr style=\"text-align: right;\">\n",
       "      <th></th>\n",
       "      <th>arm_num</th>\n",
       "      <th>unique_event_name</th>\n",
       "      <th>form</th>\n",
       "    </tr>\n",
       "  </thead>\n",
       "  <tbody>\n",
       "    <tr>\n",
       "      <th>0</th>\n",
       "      <td>1</td>\n",
       "      <td>personal_info_arm_1</td>\n",
       "      <td>demographics</td>\n",
       "    </tr>\n",
       "    <tr>\n",
       "      <th>1</th>\n",
       "      <td>1</td>\n",
       "      <td>case_intake_arm_1</td>\n",
       "      <td>symptoms</td>\n",
       "    </tr>\n",
       "    <tr>\n",
       "      <th>2</th>\n",
       "      <td>1</td>\n",
       "      <td>case_intake_arm_1</td>\n",
       "      <td>test_information</td>\n",
       "    </tr>\n",
       "    <tr>\n",
       "      <th>3</th>\n",
       "      <td>1</td>\n",
       "      <td>notifications_arm_1</td>\n",
       "      <td>close_contacts</td>\n",
       "    </tr>\n",
       "    <tr>\n",
       "      <th>4</th>\n",
       "      <td>1</td>\n",
       "      <td>notifications_arm_1</td>\n",
       "      <td>work_information</td>\n",
       "    </tr>\n",
       "  </tbody>\n",
       "</table>\n",
       "</div>"
      ],
      "text/plain": [
       "   arm_num    unique_event_name              form\n",
       "0        1  personal_info_arm_1      demographics\n",
       "1        1    case_intake_arm_1          symptoms\n",
       "2        1    case_intake_arm_1  test_information\n",
       "3        1  notifications_arm_1    close_contacts\n",
       "4        1  notifications_arm_1  work_information"
      ]
     },
     "execution_count": 167,
     "metadata": {},
     "output_type": "execute_result"
    }
   ],
   "source": [
    "project.export_instrument_event_mappings(format_type='df')"
   ]
  },
  {
   "cell_type": "markdown",
   "metadata": {},
   "source": [
    ":::"
   ]
  },
  {
   "cell_type": "markdown",
   "metadata": {},
   "source": [
    "**Note:** Events with multiple instruments will occupy multiple rows, with one row per instrument. "
   ]
  },
  {
   "cell_type": "markdown",
   "metadata": {},
   "source": [
    "## Survey Settings and Other Information\n",
    "\n",
    "### Users and User Roles"
   ]
  },
  {
   "cell_type": "markdown",
   "metadata": {},
   "source": [
    "::: {.panel-tabset}\n",
    "\n",
    "#### R"
   ]
  },
  {
   "cell_type": "code",
   "execution_count": 101,
   "metadata": {
    "tags": []
   },
   "outputs": [
    {
     "name": "stdout",
     "output_type": "stream",
     "text": [
      "[1] \"data_user\"       \"data_user_form\"  \"success\"         \"status_code\"    \n",
      "[5] \"outcome_message\" \"elapsed_seconds\" \"raw_text\"       \n"
     ]
    }
   ],
   "source": [
    "%%capture --no-display --no-stdout\n",
    "%%R\n",
    "users_data <- redcap_users_export(redcap_uri = url, token = token)\n",
    "names(users_data)"
   ]
  },
  {
   "cell_type": "markdown",
   "metadata": {},
   "source": [
    "`redcap_users_export` output provides a list with several elements. The two most useful elements are the \"data_user\" and the \"data_user_form\". "
   ]
  },
  {
   "cell_type": "markdown",
   "metadata": {},
   "source": [
    "##### Extract the data_user table to see users who have access to the project:"
   ]
  },
  {
   "cell_type": "code",
   "execution_count": 102,
   "metadata": {
    "tags": []
   },
   "outputs": [],
   "source": [
    "%%capture\n",
    "%%R\n",
    "users <- users_data$data_user\n",
    "\n",
    "users_tbl<- gt(head(users))\n",
    "gt::gtsave(users_tbl, filename = 'export_users1.html', path = \"./files/export_files/\")"
   ]
  },
  {
   "cell_type": "raw",
   "metadata": {},
   "source": [
    "<p align=\"center\"><iframe width=\"100%\" height=\"200\" src=\"./files/export_files/export_users1.html\" title=\"Quarto Documentation\"></iframe></p>"
   ]
  },
  {
   "cell_type": "markdown",
   "metadata": {},
   "source": [
    "There does not appear to be a way to export which user is in which named user role group with REDCapR or the native API. When you export this data, if a user has been assigned to a user role then it will return the user with the role's defined privileges."
   ]
  },
  {
   "cell_type": "markdown",
   "metadata": {},
   "source": [
    "##### Extract the data_user_form table to see which forms each users has access to:"
   ]
  },
  {
   "cell_type": "code",
   "execution_count": 103,
   "metadata": {
    "tags": []
   },
   "outputs": [],
   "source": [
    "%%capture\n",
    "%%R\n",
    "users_forms <- users_data$data_user_form\n",
    "\n",
    "users_forms_tbl<- gt(head(users_forms))\n",
    "gt::gtsave(users_forms_tbl, filename = 'export_users2.html', path = \"./files/export_files/\")"
   ]
  },
  {
   "cell_type": "raw",
   "metadata": {
    "tags": []
   },
   "source": [
    "<p align=\"center\"><iframe width=\"100%\" height=\"200\" src=\"./files/export_files/export_users2.html\" title=\"Quarto Documentation\"></iframe></p>"
   ]
  },
  {
   "cell_type": "markdown",
   "metadata": {},
   "source": [
    "#### Python"
   ]
  },
  {
   "cell_type": "code",
   "execution_count": 104,
   "metadata": {},
   "outputs": [
    {
     "data": {
      "text/html": [
       "<div>\n",
       "<style scoped>\n",
       "    .dataframe tbody tr th:only-of-type {\n",
       "        vertical-align: middle;\n",
       "    }\n",
       "\n",
       "    .dataframe tbody tr th {\n",
       "        vertical-align: top;\n",
       "    }\n",
       "\n",
       "    .dataframe thead th {\n",
       "        text-align: right;\n",
       "    }\n",
       "</style>\n",
       "<table border=\"1\" class=\"dataframe\">\n",
       "  <thead>\n",
       "    <tr style=\"text-align: right;\">\n",
       "      <th></th>\n",
       "      <th>username</th>\n",
       "      <th>email</th>\n",
       "      <th>firstname</th>\n",
       "      <th>lastname</th>\n",
       "      <th>expiration</th>\n",
       "      <th>data_access_group</th>\n",
       "      <th>data_access_group_id</th>\n",
       "      <th>design</th>\n",
       "      <th>alerts</th>\n",
       "      <th>user_rights</th>\n",
       "      <th>...</th>\n",
       "      <th>mobile_app</th>\n",
       "      <th>mobile_app_download_data</th>\n",
       "      <th>record_create</th>\n",
       "      <th>record_rename</th>\n",
       "      <th>record_delete</th>\n",
       "      <th>lock_records_all_forms</th>\n",
       "      <th>lock_records</th>\n",
       "      <th>lock_records_customization</th>\n",
       "      <th>forms</th>\n",
       "      <th>forms_export</th>\n",
       "    </tr>\n",
       "  </thead>\n",
       "  <tbody>\n",
       "    <tr>\n",
       "      <th>0</th>\n",
       "      <td>alexey.gilman@doh.wa.gov</td>\n",
       "      <td>Alexey.Gilman@doh.wa.gov</td>\n",
       "      <td>Alexey</td>\n",
       "      <td>Gilman</td>\n",
       "      <td>NaN</td>\n",
       "      <td>records1_2</td>\n",
       "      <td>2716.0</td>\n",
       "      <td>0</td>\n",
       "      <td>0</td>\n",
       "      <td>1</td>\n",
       "      <td>...</td>\n",
       "      <td>1</td>\n",
       "      <td>1</td>\n",
       "      <td>1</td>\n",
       "      <td>1</td>\n",
       "      <td>1</td>\n",
       "      <td>1</td>\n",
       "      <td>0</td>\n",
       "      <td>1</td>\n",
       "      <td>demographics:3,symptoms:1,test_information:3,c...</td>\n",
       "      <td>demographics:1,symptoms:1,test_information:1,c...</td>\n",
       "    </tr>\n",
       "    <tr>\n",
       "      <th>1</th>\n",
       "      <td>caitlin.drover@doh.wa.gov</td>\n",
       "      <td>Caitlin.Drover@doh.wa.gov</td>\n",
       "      <td>Caitlin</td>\n",
       "      <td>Drover</td>\n",
       "      <td>NaN</td>\n",
       "      <td>NaN</td>\n",
       "      <td>NaN</td>\n",
       "      <td>1</td>\n",
       "      <td>1</td>\n",
       "      <td>1</td>\n",
       "      <td>...</td>\n",
       "      <td>1</td>\n",
       "      <td>0</td>\n",
       "      <td>1</td>\n",
       "      <td>1</td>\n",
       "      <td>1</td>\n",
       "      <td>0</td>\n",
       "      <td>0</td>\n",
       "      <td>1</td>\n",
       "      <td>demographics:1,symptoms:1,test_information:1,c...</td>\n",
       "      <td>demographics:1,symptoms:1,test_information:1,c...</td>\n",
       "    </tr>\n",
       "    <tr>\n",
       "      <th>2</th>\n",
       "      <td>emily.pearman@doh.wa.gov</td>\n",
       "      <td>emily.pearman@doh.wa.gov</td>\n",
       "      <td>Emily</td>\n",
       "      <td>Pearman</td>\n",
       "      <td>NaN</td>\n",
       "      <td>NaN</td>\n",
       "      <td>NaN</td>\n",
       "      <td>1</td>\n",
       "      <td>1</td>\n",
       "      <td>1</td>\n",
       "      <td>...</td>\n",
       "      <td>1</td>\n",
       "      <td>1</td>\n",
       "      <td>1</td>\n",
       "      <td>1</td>\n",
       "      <td>1</td>\n",
       "      <td>0</td>\n",
       "      <td>0</td>\n",
       "      <td>0</td>\n",
       "      <td>demographics:1,symptoms:1,test_information:1,c...</td>\n",
       "      <td>demographics:1,symptoms:1,test_information:1,c...</td>\n",
       "    </tr>\n",
       "  </tbody>\n",
       "</table>\n",
       "<p>3 rows × 34 columns</p>\n",
       "</div>"
      ],
      "text/plain": [
       "                    username                      email firstname lastname  \\\n",
       "0   alexey.gilman@doh.wa.gov   Alexey.Gilman@doh.wa.gov    Alexey   Gilman   \n",
       "1  caitlin.drover@doh.wa.gov  Caitlin.Drover@doh.wa.gov   Caitlin   Drover   \n",
       "2   emily.pearman@doh.wa.gov   emily.pearman@doh.wa.gov     Emily  Pearman   \n",
       "\n",
       "   expiration data_access_group  data_access_group_id  design  alerts  \\\n",
       "0         NaN        records1_2                2716.0       0       0   \n",
       "1         NaN               NaN                   NaN       1       1   \n",
       "2         NaN               NaN                   NaN       1       1   \n",
       "\n",
       "   user_rights  ...  mobile_app  mobile_app_download_data  record_create  \\\n",
       "0            1  ...           1                         1              1   \n",
       "1            1  ...           1                         0              1   \n",
       "2            1  ...           1                         1              1   \n",
       "\n",
       "   record_rename  record_delete  lock_records_all_forms  lock_records  \\\n",
       "0              1              1                       1             0   \n",
       "1              1              1                       0             0   \n",
       "2              1              1                       0             0   \n",
       "\n",
       "   lock_records_customization  \\\n",
       "0                           1   \n",
       "1                           1   \n",
       "2                           0   \n",
       "\n",
       "                                               forms  \\\n",
       "0  demographics:3,symptoms:1,test_information:3,c...   \n",
       "1  demographics:1,symptoms:1,test_information:1,c...   \n",
       "2  demographics:1,symptoms:1,test_information:1,c...   \n",
       "\n",
       "                                        forms_export  \n",
       "0  demographics:1,symptoms:1,test_information:1,c...  \n",
       "1  demographics:1,symptoms:1,test_information:1,c...  \n",
       "2  demographics:1,symptoms:1,test_information:1,c...  \n",
       "\n",
       "[3 rows x 34 columns]"
      ]
     },
     "execution_count": 104,
     "metadata": {},
     "output_type": "execute_result"
    }
   ],
   "source": [
    "project.export_users(format_type='df') "
   ]
  },
  {
   "cell_type": "code",
   "execution_count": 105,
   "metadata": {},
   "outputs": [
    {
     "data": {
      "text/html": [
       "<div>\n",
       "<style scoped>\n",
       "    .dataframe tbody tr th:only-of-type {\n",
       "        vertical-align: middle;\n",
       "    }\n",
       "\n",
       "    .dataframe tbody tr th {\n",
       "        vertical-align: top;\n",
       "    }\n",
       "\n",
       "    .dataframe thead th {\n",
       "        text-align: right;\n",
       "    }\n",
       "</style>\n",
       "<table border=\"1\" class=\"dataframe\">\n",
       "  <thead>\n",
       "    <tr style=\"text-align: right;\">\n",
       "      <th></th>\n",
       "      <th>unique_role_name</th>\n",
       "      <th>role_label</th>\n",
       "      <th>design</th>\n",
       "      <th>alerts</th>\n",
       "      <th>user_rights</th>\n",
       "      <th>data_access_groups</th>\n",
       "      <th>reports</th>\n",
       "      <th>stats_and_charts</th>\n",
       "      <th>manage_survey_participants</th>\n",
       "      <th>calendar</th>\n",
       "      <th>...</th>\n",
       "      <th>mobile_app</th>\n",
       "      <th>mobile_app_download_data</th>\n",
       "      <th>record_create</th>\n",
       "      <th>record_rename</th>\n",
       "      <th>record_delete</th>\n",
       "      <th>lock_records_customization</th>\n",
       "      <th>lock_records</th>\n",
       "      <th>lock_records_all_forms</th>\n",
       "      <th>forms</th>\n",
       "      <th>forms_export</th>\n",
       "    </tr>\n",
       "  </thead>\n",
       "  <tbody>\n",
       "    <tr>\n",
       "      <th>0</th>\n",
       "      <td>U-5354FA3HYL</td>\n",
       "      <td>Admin</td>\n",
       "      <td>1</td>\n",
       "      <td>1</td>\n",
       "      <td>1</td>\n",
       "      <td>1</td>\n",
       "      <td>1</td>\n",
       "      <td>1</td>\n",
       "      <td>1</td>\n",
       "      <td>1</td>\n",
       "      <td>...</td>\n",
       "      <td>1</td>\n",
       "      <td>0</td>\n",
       "      <td>1</td>\n",
       "      <td>1</td>\n",
       "      <td>1</td>\n",
       "      <td>1</td>\n",
       "      <td>0</td>\n",
       "      <td>0</td>\n",
       "      <td>demographics:1,symptoms:1,test_information:1,c...</td>\n",
       "      <td>demographics:1,symptoms:1,test_information:1,c...</td>\n",
       "    </tr>\n",
       "  </tbody>\n",
       "</table>\n",
       "<p>1 rows × 29 columns</p>\n",
       "</div>"
      ],
      "text/plain": [
       "  unique_role_name role_label  design  alerts  user_rights  \\\n",
       "0     U-5354FA3HYL      Admin       1       1            1   \n",
       "\n",
       "   data_access_groups  reports  stats_and_charts  manage_survey_participants  \\\n",
       "0                   1        1                 1                           1   \n",
       "\n",
       "   calendar  ...  mobile_app  mobile_app_download_data  record_create  \\\n",
       "0         1  ...           1                         0              1   \n",
       "\n",
       "   record_rename  record_delete  lock_records_customization  lock_records  \\\n",
       "0              1              1                           1             0   \n",
       "\n",
       "   lock_records_all_forms                                              forms  \\\n",
       "0                       0  demographics:1,symptoms:1,test_information:1,c...   \n",
       "\n",
       "                                        forms_export  \n",
       "0  demographics:1,symptoms:1,test_information:1,c...  \n",
       "\n",
       "[1 rows x 29 columns]"
      ]
     },
     "execution_count": 105,
     "metadata": {},
     "output_type": "execute_result"
    }
   ],
   "source": [
    "project.export_user_roles(format_type='df') "
   ]
  },
  {
   "cell_type": "code",
   "execution_count": 106,
   "metadata": {},
   "outputs": [
    {
     "data": {
      "text/html": [
       "<div>\n",
       "<style scoped>\n",
       "    .dataframe tbody tr th:only-of-type {\n",
       "        vertical-align: middle;\n",
       "    }\n",
       "\n",
       "    .dataframe tbody tr th {\n",
       "        vertical-align: top;\n",
       "    }\n",
       "\n",
       "    .dataframe thead th {\n",
       "        text-align: right;\n",
       "    }\n",
       "</style>\n",
       "<table border=\"1\" class=\"dataframe\">\n",
       "  <thead>\n",
       "    <tr style=\"text-align: right;\">\n",
       "      <th></th>\n",
       "      <th>username</th>\n",
       "      <th>unique_role_name</th>\n",
       "      <th>data_access_group</th>\n",
       "    </tr>\n",
       "  </thead>\n",
       "  <tbody>\n",
       "    <tr>\n",
       "      <th>0</th>\n",
       "      <td>alexey.gilman@doh.wa.gov</td>\n",
       "      <td>NaN</td>\n",
       "      <td>records1_2</td>\n",
       "    </tr>\n",
       "    <tr>\n",
       "      <th>1</th>\n",
       "      <td>caitlin.drover@doh.wa.gov</td>\n",
       "      <td>U-5354FA3HYL</td>\n",
       "      <td>NaN</td>\n",
       "    </tr>\n",
       "    <tr>\n",
       "      <th>2</th>\n",
       "      <td>emily.pearman@doh.wa.gov</td>\n",
       "      <td>NaN</td>\n",
       "      <td>NaN</td>\n",
       "    </tr>\n",
       "  </tbody>\n",
       "</table>\n",
       "</div>"
      ],
      "text/plain": [
       "                    username unique_role_name data_access_group\n",
       "0   alexey.gilman@doh.wa.gov              NaN        records1_2\n",
       "1  caitlin.drover@doh.wa.gov     U-5354FA3HYL               NaN\n",
       "2   emily.pearman@doh.wa.gov              NaN               NaN"
      ]
     },
     "execution_count": 106,
     "metadata": {},
     "output_type": "execute_result"
    }
   ],
   "source": [
    "project.export_user_role_assignment(format_type='df')"
   ]
  },
  {
   "cell_type": "markdown",
   "metadata": {},
   "source": [
    "You can use the \"unique_role_name\" field from `export_user_roles` to see which user is assigned to which user role in the ouput of `export_user_role_assignment`"
   ]
  },
  {
   "cell_type": "markdown",
   "metadata": {},
   "source": [
    ":::"
   ]
  },
  {
   "cell_type": "markdown",
   "metadata": {},
   "source": [
    "### Data Access Groups (DAGs)"
   ]
  },
  {
   "cell_type": "markdown",
   "metadata": {},
   "source": [
    "In addition to user roles for access control, DAGs control which records each user can access. Users assigned to a DAG can only access records assigned to that group, and are blinded to records outside of their group. DAGs are particularly useful in multi-site or multi-jurisdictional projects to restrict sites from viewing records from other sites.  \n",
    "\n",
    "Users can be assigned to a DAG after being added to the project. Users can be in multiple DAGs. Users not assigned to any DAG have global access and can see all records in the project. "
   ]
  },
  {
   "cell_type": "markdown",
   "metadata": {},
   "source": [
    "::: {.panel-tabset}\n",
    "\n",
    "#### R"
   ]
  },
  {
   "cell_type": "markdown",
   "metadata": {},
   "source": [
    "View the Dags and their unique 'data_access_group_id'"
   ]
  },
  {
   "cell_type": "code",
   "execution_count": 107,
   "metadata": {
    "tags": []
   },
   "outputs": [],
   "source": [
    "%%capture\n",
    "%%R \n",
    "dag <- redcap_dag_read(redcap_uri = url, token)$data\n",
    "\n",
    "dag_tbl<- gt(head(dag))\n",
    "gt::gtsave(dag_tbl, filename = 'export_dag1.html', path = \"./files/export_files/\")"
   ]
  },
  {
   "cell_type": "raw",
   "metadata": {},
   "source": [
    "<p align=\"center\"><iframe width=\"100%\" height=\"150\" src=\"./files/export_files/export_dag1.html\" title=\"Quarto Documentation\"></iframe></p>"
   ]
  },
  {
   "cell_type": "markdown",
   "metadata": {},
   "source": [
    "Use `redcap_read_oneshot` to view which records belong to which data access group."
   ]
  },
  {
   "cell_type": "code",
   "execution_count": 112,
   "metadata": {
    "tags": []
   },
   "outputs": [],
   "source": [
    "%%capture\n",
    "%%R\n",
    "data_dag <- redcap_read_oneshot(\n",
    "    redcap_uri = url, \n",
    "    token = token,\n",
    "    export_data_access_groups = TRUE, \n",
    "    fields = \"record_id\")$data\n",
    "\n",
    "data_dag_tbl<- gt(head(data_dag))\n",
    "gt::gtsave(data_dag_tbl, filename = 'export_dag2.html', path = \"./files/export_files/\")"
   ]
  },
  {
   "cell_type": "raw",
   "metadata": {},
   "source": [
    "<p align=\"center\"><iframe width=\"100%\" height=\"300\" src=\"./files/export_files/export_dag2.html\" title=\"Quarto Documentation\"></iframe></p>"
   ]
  },
  {
   "cell_type": "markdown",
   "metadata": {},
   "source": [
    "Even though only 'record_id' was specified for export under the 'fields' argument, Pycap will automatically include all the variables that make the unique_key (record_id, redcap_event_name, redcap_repeat_instrument, redcap_repeat_instance).\n",
    "\n",
    "For the REDCapR package, refer to the `data_user` table printed in the section above to see which user is assigned to which DAG group. "
   ]
  },
  {
   "cell_type": "markdown",
   "metadata": {},
   "source": [
    "#### Python"
   ]
  },
  {
   "cell_type": "markdown",
   "metadata": {},
   "source": [
    "View the Dags and their unique 'data_access_group_id'"
   ]
  },
  {
   "cell_type": "code",
   "execution_count": 109,
   "metadata": {},
   "outputs": [
    {
     "data": {
      "text/html": [
       "<div>\n",
       "<style scoped>\n",
       "    .dataframe tbody tr th:only-of-type {\n",
       "        vertical-align: middle;\n",
       "    }\n",
       "\n",
       "    .dataframe tbody tr th {\n",
       "        vertical-align: top;\n",
       "    }\n",
       "\n",
       "    .dataframe thead th {\n",
       "        text-align: right;\n",
       "    }\n",
       "</style>\n",
       "<table border=\"1\" class=\"dataframe\">\n",
       "  <thead>\n",
       "    <tr style=\"text-align: right;\">\n",
       "      <th></th>\n",
       "      <th>data_access_group_name</th>\n",
       "      <th>unique_group_name</th>\n",
       "      <th>data_access_group_id</th>\n",
       "    </tr>\n",
       "  </thead>\n",
       "  <tbody>\n",
       "    <tr>\n",
       "      <th>0</th>\n",
       "      <td>Limited Access</td>\n",
       "      <td>limited_access</td>\n",
       "      <td>2707</td>\n",
       "    </tr>\n",
       "    <tr>\n",
       "      <th>1</th>\n",
       "      <td>records1_2</td>\n",
       "      <td>records1_2</td>\n",
       "      <td>2716</td>\n",
       "    </tr>\n",
       "  </tbody>\n",
       "</table>\n",
       "</div>"
      ],
      "text/plain": [
       "  data_access_group_name unique_group_name  data_access_group_id\n",
       "0         Limited Access    limited_access                  2707\n",
       "1             records1_2        records1_2                  2716"
      ]
     },
     "execution_count": 109,
     "metadata": {},
     "output_type": "execute_result"
    }
   ],
   "source": [
    "project.export_dags(format_type='df') "
   ]
  },
  {
   "cell_type": "markdown",
   "metadata": {},
   "source": [
    "View which user is assigned to which DAG group"
   ]
  },
  {
   "cell_type": "code",
   "execution_count": 110,
   "metadata": {
    "scrolled": true
   },
   "outputs": [
    {
     "data": {
      "text/html": [
       "<div>\n",
       "<style scoped>\n",
       "    .dataframe tbody tr th:only-of-type {\n",
       "        vertical-align: middle;\n",
       "    }\n",
       "\n",
       "    .dataframe tbody tr th {\n",
       "        vertical-align: top;\n",
       "    }\n",
       "\n",
       "    .dataframe thead th {\n",
       "        text-align: right;\n",
       "    }\n",
       "</style>\n",
       "<table border=\"1\" class=\"dataframe\">\n",
       "  <thead>\n",
       "    <tr style=\"text-align: right;\">\n",
       "      <th></th>\n",
       "      <th>username</th>\n",
       "      <th>redcap_data_access_group</th>\n",
       "    </tr>\n",
       "  </thead>\n",
       "  <tbody>\n",
       "    <tr>\n",
       "      <th>0</th>\n",
       "      <td>alexey.gilman@doh.wa.gov</td>\n",
       "      <td>records1_2</td>\n",
       "    </tr>\n",
       "    <tr>\n",
       "      <th>1</th>\n",
       "      <td>caitlin.drover@doh.wa.gov</td>\n",
       "      <td>NaN</td>\n",
       "    </tr>\n",
       "    <tr>\n",
       "      <th>2</th>\n",
       "      <td>emily.pearman@doh.wa.gov</td>\n",
       "      <td>NaN</td>\n",
       "    </tr>\n",
       "  </tbody>\n",
       "</table>\n",
       "</div>"
      ],
      "text/plain": [
       "                    username redcap_data_access_group\n",
       "0   alexey.gilman@doh.wa.gov               records1_2\n",
       "1  caitlin.drover@doh.wa.gov                      NaN\n",
       "2   emily.pearman@doh.wa.gov                      NaN"
      ]
     },
     "execution_count": 110,
     "metadata": {},
     "output_type": "execute_result"
    }
   ],
   "source": [
    "project.export_user_dag_assignment(format_type='df') #exports users and their assigned DAGs (username and DAG)"
   ]
  },
  {
   "cell_type": "markdown",
   "metadata": {},
   "source": [
    "Use `export_records` to view which records belong to which data access group."
   ]
  },
  {
   "cell_type": "code",
   "execution_count": 117,
   "metadata": {},
   "outputs": [
    {
     "data": {
      "text/html": [
       "<div>\n",
       "<style scoped>\n",
       "    .dataframe tbody tr th:only-of-type {\n",
       "        vertical-align: middle;\n",
       "    }\n",
       "\n",
       "    .dataframe tbody tr th {\n",
       "        vertical-align: top;\n",
       "    }\n",
       "\n",
       "    .dataframe thead th {\n",
       "        text-align: right;\n",
       "    }\n",
       "</style>\n",
       "<table border=\"1\" class=\"dataframe\">\n",
       "  <thead>\n",
       "    <tr style=\"text-align: right;\">\n",
       "      <th></th>\n",
       "      <th></th>\n",
       "      <th>redcap_repeat_instrument</th>\n",
       "      <th>redcap_repeat_instance</th>\n",
       "      <th>redcap_data_access_group</th>\n",
       "    </tr>\n",
       "    <tr>\n",
       "      <th>record_id</th>\n",
       "      <th>redcap_event_name</th>\n",
       "      <th></th>\n",
       "      <th></th>\n",
       "      <th></th>\n",
       "    </tr>\n",
       "  </thead>\n",
       "  <tbody>\n",
       "    <tr>\n",
       "      <th rowspan=\"3\" valign=\"top\">1</th>\n",
       "      <th>personal_info_arm_1</th>\n",
       "      <td>NaN</td>\n",
       "      <td>NaN</td>\n",
       "      <td>records1_2</td>\n",
       "    </tr>\n",
       "    <tr>\n",
       "      <th>notifications_arm_1</th>\n",
       "      <td>NaN</td>\n",
       "      <td>NaN</td>\n",
       "      <td>records1_2</td>\n",
       "    </tr>\n",
       "    <tr>\n",
       "      <th>case_intake_arm_1</th>\n",
       "      <td>NaN</td>\n",
       "      <td>1.0</td>\n",
       "      <td>records1_2</td>\n",
       "    </tr>\n",
       "    <tr>\n",
       "      <th rowspan=\"2\" valign=\"top\">2</th>\n",
       "      <th>personal_info_arm_1</th>\n",
       "      <td>NaN</td>\n",
       "      <td>NaN</td>\n",
       "      <td>records1_2</td>\n",
       "    </tr>\n",
       "    <tr>\n",
       "      <th>notifications_arm_1</th>\n",
       "      <td>NaN</td>\n",
       "      <td>NaN</td>\n",
       "      <td>records1_2</td>\n",
       "    </tr>\n",
       "  </tbody>\n",
       "</table>\n",
       "</div>"
      ],
      "text/plain": [
       "                               redcap_repeat_instrument  \\\n",
       "record_id redcap_event_name                               \n",
       "1         personal_info_arm_1                       NaN   \n",
       "          notifications_arm_1                       NaN   \n",
       "          case_intake_arm_1                         NaN   \n",
       "2         personal_info_arm_1                       NaN   \n",
       "          notifications_arm_1                       NaN   \n",
       "\n",
       "                               redcap_repeat_instance redcap_data_access_group  \n",
       "record_id redcap_event_name                                                     \n",
       "1         personal_info_arm_1                     NaN               records1_2  \n",
       "          notifications_arm_1                     NaN               records1_2  \n",
       "          case_intake_arm_1                       1.0               records1_2  \n",
       "2         personal_info_arm_1                     NaN               records1_2  \n",
       "          notifications_arm_1                     NaN               records1_2  "
      ]
     },
     "execution_count": 117,
     "metadata": {},
     "output_type": "execute_result"
    }
   ],
   "source": [
    "dag = project.export_records(format_type = 'df', export_data_access_groups = True, fields = 'record_id')\n",
    "dag.head()"
   ]
  },
  {
   "cell_type": "markdown",
   "metadata": {},
   "source": [
    "Even though only 'record_id' was specified for export under the 'fields' argument, Pycap will automatically include all the variables that make the unique_key (record_id, redcap_event_name, redcap_repeat_instrument, redcap_repeat_instance)."
   ]
  },
  {
   "cell_type": "markdown",
   "metadata": {},
   "source": [
    ":::"
   ]
  },
  {
   "cell_type": "markdown",
   "metadata": {},
   "source": [
    "### Logging"
   ]
  },
  {
   "cell_type": "markdown",
   "metadata": {},
   "source": [
    "The REDCap log provides an audit trail to track record creation, deletion, update and export. It also tracks changes made to the survey design and user rights."
   ]
  },
  {
   "cell_type": "markdown",
   "metadata": {},
   "source": [
    "::: {.panel-tabset}\n",
    "\n",
    "#### R"
   ]
  },
  {
   "cell_type": "markdown",
   "metadata": {},
   "source": [
    "The `redcap_log_read` function is only available on REDCapR Version 1.1.9 and later."
   ]
  },
  {
   "cell_type": "code",
   "execution_count": 196,
   "metadata": {
    "tags": []
   },
   "outputs": [],
   "source": [
    "%%capture\n",
    "%%R\n",
    "\n",
    "log <- redcap_log_read(redcap_uri = url, token)$data\n",
    "\n",
    "log_tbl<- gt(head(log))\n",
    "gt::gtsave(log_tbl, filename = 'export_log.html', path = \"./files/export_files/\")"
   ]
  },
  {
   "cell_type": "raw",
   "metadata": {
    "tags": []
   },
   "source": [
    "<p align=\"center\"><iframe width=\"100%\" height=\"400\" src=\"./files/export_files/export_log.html\" title=\"Quarto Documentation\"></iframe></p>"
   ]
  },
  {
   "cell_type": "markdown",
   "metadata": {},
   "source": [
    "#### Python"
   ]
  },
  {
   "cell_type": "code",
   "execution_count": 143,
   "metadata": {},
   "outputs": [
    {
     "data": {
      "text/html": [
       "<div>\n",
       "<style scoped>\n",
       "    .dataframe tbody tr th:only-of-type {\n",
       "        vertical-align: middle;\n",
       "    }\n",
       "\n",
       "    .dataframe tbody tr th {\n",
       "        vertical-align: top;\n",
       "    }\n",
       "\n",
       "    .dataframe thead th {\n",
       "        text-align: right;\n",
       "    }\n",
       "</style>\n",
       "<table border=\"1\" class=\"dataframe\">\n",
       "  <thead>\n",
       "    <tr style=\"text-align: right;\">\n",
       "      <th></th>\n",
       "      <th>timestamp</th>\n",
       "      <th>username</th>\n",
       "      <th>action</th>\n",
       "      <th>details</th>\n",
       "      <th>record</th>\n",
       "    </tr>\n",
       "  </thead>\n",
       "  <tbody>\n",
       "    <tr>\n",
       "      <th>0</th>\n",
       "      <td>2024-04-09 16:17</td>\n",
       "      <td>emily.pearman@doh.wa.gov</td>\n",
       "      <td>Manage/Design</td>\n",
       "      <td>Export Logging (API)</td>\n",
       "      <td>NaN</td>\n",
       "    </tr>\n",
       "    <tr>\n",
       "      <th>1</th>\n",
       "      <td>2024-04-09 16:17</td>\n",
       "      <td>emily.pearman@doh.wa.gov</td>\n",
       "      <td>Manage/Design</td>\n",
       "      <td>Export Logging (API)</td>\n",
       "      <td>NaN</td>\n",
       "    </tr>\n",
       "    <tr>\n",
       "      <th>2</th>\n",
       "      <td>2024-04-09 16:17</td>\n",
       "      <td>emily.pearman@doh.wa.gov</td>\n",
       "      <td>Manage/Design</td>\n",
       "      <td>Export Logging (API)</td>\n",
       "      <td>NaN</td>\n",
       "    </tr>\n",
       "    <tr>\n",
       "      <th>3</th>\n",
       "      <td>2024-04-09 16:11</td>\n",
       "      <td>emily.pearman@doh.wa.gov</td>\n",
       "      <td>Manage/Design</td>\n",
       "      <td>Export Logging (API)</td>\n",
       "      <td>NaN</td>\n",
       "    </tr>\n",
       "    <tr>\n",
       "      <th>4</th>\n",
       "      <td>2024-04-09 16:06</td>\n",
       "      <td>emily.pearman@doh.wa.gov</td>\n",
       "      <td>Manage/Design</td>\n",
       "      <td>Export Logging (API)</td>\n",
       "      <td>NaN</td>\n",
       "    </tr>\n",
       "  </tbody>\n",
       "</table>\n",
       "</div>"
      ],
      "text/plain": [
       "          timestamp                  username          action  \\\n",
       "0  2024-04-09 16:17  emily.pearman@doh.wa.gov  Manage/Design    \n",
       "1  2024-04-09 16:17  emily.pearman@doh.wa.gov  Manage/Design    \n",
       "2  2024-04-09 16:17  emily.pearman@doh.wa.gov  Manage/Design    \n",
       "3  2024-04-09 16:11  emily.pearman@doh.wa.gov  Manage/Design    \n",
       "4  2024-04-09 16:06  emily.pearman@doh.wa.gov  Manage/Design    \n",
       "\n",
       "                details record  \n",
       "0  Export Logging (API)    NaN  \n",
       "1  Export Logging (API)    NaN  \n",
       "2  Export Logging (API)    NaN  \n",
       "3  Export Logging (API)    NaN  \n",
       "4  Export Logging (API)    NaN  "
      ]
     },
     "execution_count": 143,
     "metadata": {},
     "output_type": "execute_result"
    }
   ],
   "source": [
    "log = project.export_logging(format_type='df')\n",
    "log.head()"
   ]
  },
  {
   "cell_type": "markdown",
   "metadata": {},
   "source": [
    ":::"
   ]
  },
  {
   "cell_type": "markdown",
   "metadata": {},
   "source": [
    "### Survey Link (REDCapR Only)"
   ]
  },
  {
   "cell_type": "markdown",
   "metadata": {},
   "source": [
    "::: {.panel-tabset}\n",
    "\n",
    "#### R"
   ]
  },
  {
   "cell_type": "markdown",
   "metadata": {},
   "source": [
    "To export the survey link, the instrument must be enabled as a survey in REDCap. If it is a longitudinal survey, you must specify the event name (and instance if repeating) along with the instrument name. This export can only return a survey link for already existing records."
   ]
  },
  {
   "cell_type": "code",
   "execution_count": 194,
   "metadata": {
    "tags": []
   },
   "outputs": [],
   "source": [
    "%%capture\n",
    "%%R \n",
    "\n",
    "link <- redcap_survey_link_export_oneshot(\n",
    "    record = 6,\n",
    "    instrument = \"test_information\",\n",
    "    redcap_uri = url,\n",
    "    token = token,\n",
    "    event = \"case_intake_arm_1\"\n",
    ")\n",
    "result$survey_link"
   ]
  },
  {
   "cell_type": "code",
   "execution_count": 195,
   "metadata": {},
   "outputs": [
    {
     "name": "stdout",
     "output_type": "stream",
     "text": [
      "[1] \"https://dev-redcap.doh.wa.gov/surveys/?s=k4z7SZWpuKBi4mQt\"\n"
     ]
    }
   ],
   "source": [
    "%%R\n",
    "\n",
    "link$survey_link"
   ]
  },
  {
   "cell_type": "markdown",
   "metadata": {},
   "source": [
    ":::"
   ]
  },
  {
   "cell_type": "markdown",
   "metadata": {
    "tags": []
   },
   "source": [
    "### REDCap Version"
   ]
  },
  {
   "cell_type": "markdown",
   "metadata": {},
   "source": [
    "::: {.panel-tabset}\n",
    "\n",
    "#### R"
   ]
  },
  {
   "cell_type": "code",
   "execution_count": 200,
   "metadata": {},
   "outputs": [
    {
     "name": "stderr",
     "output_type": "stream",
     "text": [
      "R[write to console]: The REDCap version was successfully determined in 0.2 seconds. The http status code was 200.  Is is 14.0.18.\n",
      "\n"
     ]
    },
    {
     "name": "stdout",
     "output_type": "stream",
     "text": [
      "[1] '14.0.18'\n"
     ]
    }
   ],
   "source": [
    "%%R\n",
    "redcap_version(\n",
    "  url,\n",
    "  token, \n",
    "  verbose = TRUE, \n",
    "  config_options = NULL\n",
    ")"
   ]
  },
  {
   "cell_type": "markdown",
   "metadata": {},
   "source": [
    "#### Python"
   ]
  },
  {
   "cell_type": "code",
   "execution_count": 202,
   "metadata": {},
   "outputs": [
    {
     "data": {
      "text/plain": [
       "Version('14.0.18')"
      ]
     },
     "execution_count": 202,
     "metadata": {},
     "output_type": "execute_result"
    }
   ],
   "source": [
    "project.export_version()"
   ]
  },
  {
   "cell_type": "markdown",
   "metadata": {},
   "source": [
    ":::"
   ]
  },
  {
   "cell_type": "markdown",
   "metadata": {},
   "source": [
    "## Appendix"
   ]
  },
  {
   "cell_type": "markdown",
   "metadata": {},
   "source": [
    "### Filtering Data {#sec-filtering}\n"
   ]
  },
  {
   "cell_type": "markdown",
   "metadata": {},
   "source": [
    "#### Filtering by record_id \n",
    "\n",
    "Export data for record 1 and 2 only using REDCapR"
   ]
  },
  {
   "cell_type": "markdown",
   "metadata": {},
   "source": [
    "::: {.panel-tabset}\n",
    "\n",
    "#### R"
   ]
  },
  {
   "cell_type": "code",
   "execution_count": 212,
   "metadata": {
    "tags": []
   },
   "outputs": [],
   "source": [
    "%%capture\n",
    "%%R\n",
    "data_by_record <- redcap_read_oneshot(\n",
    "    records = c(1,2), \n",
    "    redcap_uri = url, \n",
    "    token = token\n",
    ")$data\n",
    "\n",
    "data_by_record_tbl<- gt(head(data_by_record))\n",
    "gt::gtsave(data_by_record_tbl, filename = 'export_records_filtered_2.html', path = \"./files/export_files/\")"
   ]
  },
  {
   "cell_type": "raw",
   "metadata": {
    "tags": []
   },
   "source": [
    "<p align=\"center\"><iframe width=\"700px\" height=\"300\" src=\"./files/export_files/export_records_filtered_2.html\" title=\"Quarto Documentation\"></iframe></p>"
   ]
  },
  {
   "cell_type": "markdown",
   "metadata": {},
   "source": [
    "You can also export the entire data set and filter by record_id after. The code below will give the same result. "
   ]
  },
  {
   "cell_type": "code",
   "execution_count": 271,
   "metadata": {},
   "outputs": [],
   "source": [
    "%%capture\n",
    "%%R\n",
    "data <- redcap_read_oneshot(\n",
    "    redcap_uri = url, \n",
    "    token = token\n",
    ")$data\n",
    "\n",
    "data_by_record2 <- data %>% filter(record_id == 1 | record_id == 2)"
   ]
  },
  {
   "cell_type": "markdown",
   "metadata": {},
   "source": [
    "#### Python"
   ]
  },
  {
   "cell_type": "code",
   "execution_count": 221,
   "metadata": {},
   "outputs": [
    {
     "data": {
      "text/html": [
       "<div>\n",
       "<style scoped>\n",
       "    .dataframe tbody tr th:only-of-type {\n",
       "        vertical-align: middle;\n",
       "    }\n",
       "\n",
       "    .dataframe tbody tr th {\n",
       "        vertical-align: top;\n",
       "    }\n",
       "\n",
       "    .dataframe thead th {\n",
       "        text-align: right;\n",
       "    }\n",
       "</style>\n",
       "<table border=\"1\" class=\"dataframe\">\n",
       "  <thead>\n",
       "    <tr style=\"text-align: right;\">\n",
       "      <th></th>\n",
       "      <th>record_id</th>\n",
       "      <th>redcap_event_name</th>\n",
       "      <th>redcap_repeat_instrument</th>\n",
       "      <th>redcap_repeat_instance</th>\n",
       "      <th>first_name</th>\n",
       "      <th>last_name</th>\n",
       "      <th>phone_num</th>\n",
       "      <th>zip_code</th>\n",
       "      <th>dob</th>\n",
       "      <th>age</th>\n",
       "      <th>...</th>\n",
       "      <th>cc_phone</th>\n",
       "      <th>cc_email</th>\n",
       "      <th>close_contacts_complete</th>\n",
       "      <th>supervisor_name</th>\n",
       "      <th>supervisor_email</th>\n",
       "      <th>work_inperson_yesno</th>\n",
       "      <th>work_date</th>\n",
       "      <th>work_contagious</th>\n",
       "      <th>work_contagious_calc</th>\n",
       "      <th>work_information_complete</th>\n",
       "    </tr>\n",
       "  </thead>\n",
       "  <tbody>\n",
       "    <tr>\n",
       "      <th>0</th>\n",
       "      <td>1</td>\n",
       "      <td>Personal Info</td>\n",
       "      <td>NaN</td>\n",
       "      <td>NaN</td>\n",
       "      <td>John</td>\n",
       "      <td>Doe</td>\n",
       "      <td>(999) 999-9999</td>\n",
       "      <td>98105.0</td>\n",
       "      <td>2006-04-11</td>\n",
       "      <td>18.0</td>\n",
       "      <td>...</td>\n",
       "      <td>NaN</td>\n",
       "      <td>NaN</td>\n",
       "      <td>NaN</td>\n",
       "      <td>NaN</td>\n",
       "      <td>NaN</td>\n",
       "      <td>NaN</td>\n",
       "      <td>NaN</td>\n",
       "      <td>NaN</td>\n",
       "      <td>NaN</td>\n",
       "      <td>NaN</td>\n",
       "    </tr>\n",
       "    <tr>\n",
       "      <th>1</th>\n",
       "      <td>1</td>\n",
       "      <td>Notifications</td>\n",
       "      <td>NaN</td>\n",
       "      <td>NaN</td>\n",
       "      <td>NaN</td>\n",
       "      <td>NaN</td>\n",
       "      <td>NaN</td>\n",
       "      <td>NaN</td>\n",
       "      <td>NaN</td>\n",
       "      <td>NaN</td>\n",
       "      <td>...</td>\n",
       "      <td>NaN</td>\n",
       "      <td>NaN</td>\n",
       "      <td>NaN</td>\n",
       "      <td>Boss</td>\n",
       "      <td>NaN</td>\n",
       "      <td>No</td>\n",
       "      <td>NaN</td>\n",
       "      <td>No</td>\n",
       "      <td>NaN</td>\n",
       "      <td>Complete</td>\n",
       "    </tr>\n",
       "    <tr>\n",
       "      <th>2</th>\n",
       "      <td>1</td>\n",
       "      <td>Case Intake</td>\n",
       "      <td>NaN</td>\n",
       "      <td>1.0</td>\n",
       "      <td>NaN</td>\n",
       "      <td>NaN</td>\n",
       "      <td>NaN</td>\n",
       "      <td>NaN</td>\n",
       "      <td>NaN</td>\n",
       "      <td>NaN</td>\n",
       "      <td>...</td>\n",
       "      <td>NaN</td>\n",
       "      <td>NaN</td>\n",
       "      <td>NaN</td>\n",
       "      <td>NaN</td>\n",
       "      <td>NaN</td>\n",
       "      <td>NaN</td>\n",
       "      <td>NaN</td>\n",
       "      <td>NaN</td>\n",
       "      <td>NaN</td>\n",
       "      <td>NaN</td>\n",
       "    </tr>\n",
       "    <tr>\n",
       "      <th>3</th>\n",
       "      <td>1</td>\n",
       "      <td>Notifications</td>\n",
       "      <td>Close Contacts</td>\n",
       "      <td>1.0</td>\n",
       "      <td>NaN</td>\n",
       "      <td>NaN</td>\n",
       "      <td>NaN</td>\n",
       "      <td>NaN</td>\n",
       "      <td>NaN</td>\n",
       "      <td>NaN</td>\n",
       "      <td>...</td>\n",
       "      <td>(999) 999-9999</td>\n",
       "      <td>fake_email@gmail.com</td>\n",
       "      <td>Complete</td>\n",
       "      <td>NaN</td>\n",
       "      <td>NaN</td>\n",
       "      <td>NaN</td>\n",
       "      <td>NaN</td>\n",
       "      <td>NaN</td>\n",
       "      <td>NaN</td>\n",
       "      <td>NaN</td>\n",
       "    </tr>\n",
       "    <tr>\n",
       "      <th>4</th>\n",
       "      <td>1</td>\n",
       "      <td>Notifications</td>\n",
       "      <td>Close Contacts</td>\n",
       "      <td>2.0</td>\n",
       "      <td>NaN</td>\n",
       "      <td>NaN</td>\n",
       "      <td>NaN</td>\n",
       "      <td>NaN</td>\n",
       "      <td>NaN</td>\n",
       "      <td>NaN</td>\n",
       "      <td>...</td>\n",
       "      <td>(999) 999-9999</td>\n",
       "      <td>fake_email@gmail.com</td>\n",
       "      <td>Complete</td>\n",
       "      <td>NaN</td>\n",
       "      <td>NaN</td>\n",
       "      <td>NaN</td>\n",
       "      <td>NaN</td>\n",
       "      <td>NaN</td>\n",
       "      <td>NaN</td>\n",
       "      <td>NaN</td>\n",
       "    </tr>\n",
       "    <tr>\n",
       "      <th>5</th>\n",
       "      <td>2</td>\n",
       "      <td>Personal Info</td>\n",
       "      <td>NaN</td>\n",
       "      <td>NaN</td>\n",
       "      <td>Jane</td>\n",
       "      <td>Doe</td>\n",
       "      <td>(999) 999-9999</td>\n",
       "      <td>98105.0</td>\n",
       "      <td>1994-06-29</td>\n",
       "      <td>29.0</td>\n",
       "      <td>...</td>\n",
       "      <td>NaN</td>\n",
       "      <td>NaN</td>\n",
       "      <td>NaN</td>\n",
       "      <td>NaN</td>\n",
       "      <td>NaN</td>\n",
       "      <td>NaN</td>\n",
       "      <td>NaN</td>\n",
       "      <td>NaN</td>\n",
       "      <td>NaN</td>\n",
       "      <td>NaN</td>\n",
       "    </tr>\n",
       "    <tr>\n",
       "      <th>6</th>\n",
       "      <td>2</td>\n",
       "      <td>Notifications</td>\n",
       "      <td>NaN</td>\n",
       "      <td>NaN</td>\n",
       "      <td>NaN</td>\n",
       "      <td>NaN</td>\n",
       "      <td>NaN</td>\n",
       "      <td>NaN</td>\n",
       "      <td>NaN</td>\n",
       "      <td>NaN</td>\n",
       "      <td>...</td>\n",
       "      <td>NaN</td>\n",
       "      <td>NaN</td>\n",
       "      <td>NaN</td>\n",
       "      <td>Boss</td>\n",
       "      <td>fake_email@gmail.com</td>\n",
       "      <td>Yes</td>\n",
       "      <td>2023-10-10</td>\n",
       "      <td>Yes</td>\n",
       "      <td>NaN</td>\n",
       "      <td>Complete</td>\n",
       "    </tr>\n",
       "    <tr>\n",
       "      <th>7</th>\n",
       "      <td>2</td>\n",
       "      <td>Case Intake</td>\n",
       "      <td>NaN</td>\n",
       "      <td>1.0</td>\n",
       "      <td>NaN</td>\n",
       "      <td>NaN</td>\n",
       "      <td>NaN</td>\n",
       "      <td>NaN</td>\n",
       "      <td>NaN</td>\n",
       "      <td>NaN</td>\n",
       "      <td>...</td>\n",
       "      <td>NaN</td>\n",
       "      <td>NaN</td>\n",
       "      <td>NaN</td>\n",
       "      <td>NaN</td>\n",
       "      <td>NaN</td>\n",
       "      <td>NaN</td>\n",
       "      <td>NaN</td>\n",
       "      <td>NaN</td>\n",
       "      <td>NaN</td>\n",
       "      <td>NaN</td>\n",
       "    </tr>\n",
       "    <tr>\n",
       "      <th>8</th>\n",
       "      <td>2</td>\n",
       "      <td>Case Intake</td>\n",
       "      <td>NaN</td>\n",
       "      <td>2.0</td>\n",
       "      <td>NaN</td>\n",
       "      <td>NaN</td>\n",
       "      <td>NaN</td>\n",
       "      <td>NaN</td>\n",
       "      <td>NaN</td>\n",
       "      <td>NaN</td>\n",
       "      <td>...</td>\n",
       "      <td>NaN</td>\n",
       "      <td>NaN</td>\n",
       "      <td>NaN</td>\n",
       "      <td>NaN</td>\n",
       "      <td>NaN</td>\n",
       "      <td>NaN</td>\n",
       "      <td>NaN</td>\n",
       "      <td>NaN</td>\n",
       "      <td>NaN</td>\n",
       "      <td>NaN</td>\n",
       "    </tr>\n",
       "    <tr>\n",
       "      <th>9</th>\n",
       "      <td>2</td>\n",
       "      <td>Notifications</td>\n",
       "      <td>Close Contacts</td>\n",
       "      <td>1.0</td>\n",
       "      <td>NaN</td>\n",
       "      <td>NaN</td>\n",
       "      <td>NaN</td>\n",
       "      <td>NaN</td>\n",
       "      <td>NaN</td>\n",
       "      <td>NaN</td>\n",
       "      <td>...</td>\n",
       "      <td>(999) 999-9999</td>\n",
       "      <td>fake_email@gmail.com</td>\n",
       "      <td>Complete</td>\n",
       "      <td>NaN</td>\n",
       "      <td>NaN</td>\n",
       "      <td>NaN</td>\n",
       "      <td>NaN</td>\n",
       "      <td>NaN</td>\n",
       "      <td>NaN</td>\n",
       "      <td>NaN</td>\n",
       "    </tr>\n",
       "    <tr>\n",
       "      <th>10</th>\n",
       "      <td>2</td>\n",
       "      <td>Notifications</td>\n",
       "      <td>Close Contacts</td>\n",
       "      <td>2.0</td>\n",
       "      <td>NaN</td>\n",
       "      <td>NaN</td>\n",
       "      <td>NaN</td>\n",
       "      <td>NaN</td>\n",
       "      <td>NaN</td>\n",
       "      <td>NaN</td>\n",
       "      <td>...</td>\n",
       "      <td>(999) 999-9999</td>\n",
       "      <td>NaN</td>\n",
       "      <td>Incomplete</td>\n",
       "      <td>NaN</td>\n",
       "      <td>NaN</td>\n",
       "      <td>NaN</td>\n",
       "      <td>NaN</td>\n",
       "      <td>NaN</td>\n",
       "      <td>NaN</td>\n",
       "      <td>NaN</td>\n",
       "    </tr>\n",
       "  </tbody>\n",
       "</table>\n",
       "<p>11 rows × 48 columns</p>\n",
       "</div>"
      ],
      "text/plain": [
       "    record_id redcap_event_name redcap_repeat_instrument  \\\n",
       "0           1     Personal Info                      NaN   \n",
       "1           1     Notifications                      NaN   \n",
       "2           1       Case Intake                      NaN   \n",
       "3           1     Notifications           Close Contacts   \n",
       "4           1     Notifications           Close Contacts   \n",
       "5           2     Personal Info                      NaN   \n",
       "6           2     Notifications                      NaN   \n",
       "7           2       Case Intake                      NaN   \n",
       "8           2       Case Intake                      NaN   \n",
       "9           2     Notifications           Close Contacts   \n",
       "10          2     Notifications           Close Contacts   \n",
       "\n",
       "    redcap_repeat_instance first_name last_name       phone_num  zip_code  \\\n",
       "0                      NaN       John       Doe  (999) 999-9999   98105.0   \n",
       "1                      NaN        NaN       NaN             NaN       NaN   \n",
       "2                      1.0        NaN       NaN             NaN       NaN   \n",
       "3                      1.0        NaN       NaN             NaN       NaN   \n",
       "4                      2.0        NaN       NaN             NaN       NaN   \n",
       "5                      NaN       Jane       Doe  (999) 999-9999   98105.0   \n",
       "6                      NaN        NaN       NaN             NaN       NaN   \n",
       "7                      1.0        NaN       NaN             NaN       NaN   \n",
       "8                      2.0        NaN       NaN             NaN       NaN   \n",
       "9                      1.0        NaN       NaN             NaN       NaN   \n",
       "10                     2.0        NaN       NaN             NaN       NaN   \n",
       "\n",
       "           dob   age  ...        cc_phone              cc_email  \\\n",
       "0   2006-04-11  18.0  ...             NaN                   NaN   \n",
       "1          NaN   NaN  ...             NaN                   NaN   \n",
       "2          NaN   NaN  ...             NaN                   NaN   \n",
       "3          NaN   NaN  ...  (999) 999-9999  fake_email@gmail.com   \n",
       "4          NaN   NaN  ...  (999) 999-9999  fake_email@gmail.com   \n",
       "5   1994-06-29  29.0  ...             NaN                   NaN   \n",
       "6          NaN   NaN  ...             NaN                   NaN   \n",
       "7          NaN   NaN  ...             NaN                   NaN   \n",
       "8          NaN   NaN  ...             NaN                   NaN   \n",
       "9          NaN   NaN  ...  (999) 999-9999  fake_email@gmail.com   \n",
       "10         NaN   NaN  ...  (999) 999-9999                   NaN   \n",
       "\n",
       "   close_contacts_complete supervisor_name      supervisor_email  \\\n",
       "0                      NaN             NaN                   NaN   \n",
       "1                      NaN            Boss                   NaN   \n",
       "2                      NaN             NaN                   NaN   \n",
       "3                 Complete             NaN                   NaN   \n",
       "4                 Complete             NaN                   NaN   \n",
       "5                      NaN             NaN                   NaN   \n",
       "6                      NaN            Boss  fake_email@gmail.com   \n",
       "7                      NaN             NaN                   NaN   \n",
       "8                      NaN             NaN                   NaN   \n",
       "9                 Complete             NaN                   NaN   \n",
       "10              Incomplete             NaN                   NaN   \n",
       "\n",
       "   work_inperson_yesno   work_date work_contagious work_contagious_calc  \\\n",
       "0                  NaN         NaN             NaN                  NaN   \n",
       "1                   No         NaN              No                  NaN   \n",
       "2                  NaN         NaN             NaN                  NaN   \n",
       "3                  NaN         NaN             NaN                  NaN   \n",
       "4                  NaN         NaN             NaN                  NaN   \n",
       "5                  NaN         NaN             NaN                  NaN   \n",
       "6                  Yes  2023-10-10             Yes                  NaN   \n",
       "7                  NaN         NaN             NaN                  NaN   \n",
       "8                  NaN         NaN             NaN                  NaN   \n",
       "9                  NaN         NaN             NaN                  NaN   \n",
       "10                 NaN         NaN             NaN                  NaN   \n",
       "\n",
       "   work_information_complete  \n",
       "0                        NaN  \n",
       "1                   Complete  \n",
       "2                        NaN  \n",
       "3                        NaN  \n",
       "4                        NaN  \n",
       "5                        NaN  \n",
       "6                   Complete  \n",
       "7                        NaN  \n",
       "8                        NaN  \n",
       "9                        NaN  \n",
       "10                       NaN  \n",
       "\n",
       "[11 rows x 48 columns]"
      ]
     },
     "execution_count": 221,
     "metadata": {},
     "output_type": "execute_result"
    }
   ],
   "source": [
    "project.export_records(records=['1','2'],\n",
    "                       raw_or_label='label',\n",
    "                       format_type='df'\n",
    "                      ).reset_index()"
   ]
  },
  {
   "cell_type": "markdown",
   "metadata": {},
   "source": [
    "You can also export the entire data set and filter by record_id after. The code below will give the same result. "
   ]
  },
  {
   "cell_type": "code",
   "execution_count": 279,
   "metadata": {},
   "outputs": [
    {
     "data": {
      "text/html": [
       "<div>\n",
       "<style scoped>\n",
       "    .dataframe tbody tr th:only-of-type {\n",
       "        vertical-align: middle;\n",
       "    }\n",
       "\n",
       "    .dataframe tbody tr th {\n",
       "        vertical-align: top;\n",
       "    }\n",
       "\n",
       "    .dataframe thead th {\n",
       "        text-align: right;\n",
       "    }\n",
       "</style>\n",
       "<table border=\"1\" class=\"dataframe\">\n",
       "  <thead>\n",
       "    <tr style=\"text-align: right;\">\n",
       "      <th></th>\n",
       "      <th>record_id</th>\n",
       "      <th>redcap_event_name</th>\n",
       "      <th>redcap_repeat_instrument</th>\n",
       "      <th>redcap_repeat_instance</th>\n",
       "      <th>first_name</th>\n",
       "      <th>last_name</th>\n",
       "      <th>phone_num</th>\n",
       "      <th>zip_code</th>\n",
       "      <th>dob</th>\n",
       "      <th>age</th>\n",
       "      <th>...</th>\n",
       "      <th>cc_phone</th>\n",
       "      <th>cc_email</th>\n",
       "      <th>close_contacts_complete</th>\n",
       "      <th>supervisor_name</th>\n",
       "      <th>supervisor_email</th>\n",
       "      <th>work_inperson_yesno</th>\n",
       "      <th>work_date</th>\n",
       "      <th>work_contagious</th>\n",
       "      <th>work_contagious_calc</th>\n",
       "      <th>work_information_complete</th>\n",
       "    </tr>\n",
       "  </thead>\n",
       "  <tbody>\n",
       "    <tr>\n",
       "      <th>0</th>\n",
       "      <td>1</td>\n",
       "      <td>Personal Info</td>\n",
       "      <td>NaN</td>\n",
       "      <td>NaN</td>\n",
       "      <td>John</td>\n",
       "      <td>Doe</td>\n",
       "      <td>(999) 999-9999</td>\n",
       "      <td>98105.0</td>\n",
       "      <td>2006-04-11</td>\n",
       "      <td>18.0</td>\n",
       "      <td>...</td>\n",
       "      <td>NaN</td>\n",
       "      <td>NaN</td>\n",
       "      <td>NaN</td>\n",
       "      <td>NaN</td>\n",
       "      <td>NaN</td>\n",
       "      <td>NaN</td>\n",
       "      <td>NaN</td>\n",
       "      <td>NaN</td>\n",
       "      <td>NaN</td>\n",
       "      <td>NaN</td>\n",
       "    </tr>\n",
       "    <tr>\n",
       "      <th>1</th>\n",
       "      <td>1</td>\n",
       "      <td>Notifications</td>\n",
       "      <td>NaN</td>\n",
       "      <td>NaN</td>\n",
       "      <td>NaN</td>\n",
       "      <td>NaN</td>\n",
       "      <td>NaN</td>\n",
       "      <td>NaN</td>\n",
       "      <td>NaN</td>\n",
       "      <td>NaN</td>\n",
       "      <td>...</td>\n",
       "      <td>NaN</td>\n",
       "      <td>NaN</td>\n",
       "      <td>NaN</td>\n",
       "      <td>Boss</td>\n",
       "      <td>NaN</td>\n",
       "      <td>No</td>\n",
       "      <td>NaN</td>\n",
       "      <td>No</td>\n",
       "      <td>NaN</td>\n",
       "      <td>Complete</td>\n",
       "    </tr>\n",
       "    <tr>\n",
       "      <th>2</th>\n",
       "      <td>1</td>\n",
       "      <td>Case Intake</td>\n",
       "      <td>NaN</td>\n",
       "      <td>1.0</td>\n",
       "      <td>NaN</td>\n",
       "      <td>NaN</td>\n",
       "      <td>NaN</td>\n",
       "      <td>NaN</td>\n",
       "      <td>NaN</td>\n",
       "      <td>NaN</td>\n",
       "      <td>...</td>\n",
       "      <td>NaN</td>\n",
       "      <td>NaN</td>\n",
       "      <td>NaN</td>\n",
       "      <td>NaN</td>\n",
       "      <td>NaN</td>\n",
       "      <td>NaN</td>\n",
       "      <td>NaN</td>\n",
       "      <td>NaN</td>\n",
       "      <td>NaN</td>\n",
       "      <td>NaN</td>\n",
       "    </tr>\n",
       "    <tr>\n",
       "      <th>3</th>\n",
       "      <td>1</td>\n",
       "      <td>Notifications</td>\n",
       "      <td>Close Contacts</td>\n",
       "      <td>1.0</td>\n",
       "      <td>NaN</td>\n",
       "      <td>NaN</td>\n",
       "      <td>NaN</td>\n",
       "      <td>NaN</td>\n",
       "      <td>NaN</td>\n",
       "      <td>NaN</td>\n",
       "      <td>...</td>\n",
       "      <td>(999) 999-9999</td>\n",
       "      <td>fake_email@gmail.com</td>\n",
       "      <td>Complete</td>\n",
       "      <td>NaN</td>\n",
       "      <td>NaN</td>\n",
       "      <td>NaN</td>\n",
       "      <td>NaN</td>\n",
       "      <td>NaN</td>\n",
       "      <td>NaN</td>\n",
       "      <td>NaN</td>\n",
       "    </tr>\n",
       "    <tr>\n",
       "      <th>4</th>\n",
       "      <td>1</td>\n",
       "      <td>Notifications</td>\n",
       "      <td>Close Contacts</td>\n",
       "      <td>2.0</td>\n",
       "      <td>NaN</td>\n",
       "      <td>NaN</td>\n",
       "      <td>NaN</td>\n",
       "      <td>NaN</td>\n",
       "      <td>NaN</td>\n",
       "      <td>NaN</td>\n",
       "      <td>...</td>\n",
       "      <td>(999) 999-9999</td>\n",
       "      <td>fake_email@gmail.com</td>\n",
       "      <td>Complete</td>\n",
       "      <td>NaN</td>\n",
       "      <td>NaN</td>\n",
       "      <td>NaN</td>\n",
       "      <td>NaN</td>\n",
       "      <td>NaN</td>\n",
       "      <td>NaN</td>\n",
       "      <td>NaN</td>\n",
       "    </tr>\n",
       "    <tr>\n",
       "      <th>5</th>\n",
       "      <td>2</td>\n",
       "      <td>Personal Info</td>\n",
       "      <td>NaN</td>\n",
       "      <td>NaN</td>\n",
       "      <td>Jane</td>\n",
       "      <td>Doe</td>\n",
       "      <td>(999) 999-9999</td>\n",
       "      <td>98105.0</td>\n",
       "      <td>1994-06-29</td>\n",
       "      <td>29.0</td>\n",
       "      <td>...</td>\n",
       "      <td>NaN</td>\n",
       "      <td>NaN</td>\n",
       "      <td>NaN</td>\n",
       "      <td>NaN</td>\n",
       "      <td>NaN</td>\n",
       "      <td>NaN</td>\n",
       "      <td>NaN</td>\n",
       "      <td>NaN</td>\n",
       "      <td>NaN</td>\n",
       "      <td>NaN</td>\n",
       "    </tr>\n",
       "    <tr>\n",
       "      <th>6</th>\n",
       "      <td>2</td>\n",
       "      <td>Notifications</td>\n",
       "      <td>NaN</td>\n",
       "      <td>NaN</td>\n",
       "      <td>NaN</td>\n",
       "      <td>NaN</td>\n",
       "      <td>NaN</td>\n",
       "      <td>NaN</td>\n",
       "      <td>NaN</td>\n",
       "      <td>NaN</td>\n",
       "      <td>...</td>\n",
       "      <td>NaN</td>\n",
       "      <td>NaN</td>\n",
       "      <td>NaN</td>\n",
       "      <td>Boss</td>\n",
       "      <td>fake_email@gmail.com</td>\n",
       "      <td>Yes</td>\n",
       "      <td>2023-10-10</td>\n",
       "      <td>Yes</td>\n",
       "      <td>NaN</td>\n",
       "      <td>Complete</td>\n",
       "    </tr>\n",
       "    <tr>\n",
       "      <th>7</th>\n",
       "      <td>2</td>\n",
       "      <td>Case Intake</td>\n",
       "      <td>NaN</td>\n",
       "      <td>1.0</td>\n",
       "      <td>NaN</td>\n",
       "      <td>NaN</td>\n",
       "      <td>NaN</td>\n",
       "      <td>NaN</td>\n",
       "      <td>NaN</td>\n",
       "      <td>NaN</td>\n",
       "      <td>...</td>\n",
       "      <td>NaN</td>\n",
       "      <td>NaN</td>\n",
       "      <td>NaN</td>\n",
       "      <td>NaN</td>\n",
       "      <td>NaN</td>\n",
       "      <td>NaN</td>\n",
       "      <td>NaN</td>\n",
       "      <td>NaN</td>\n",
       "      <td>NaN</td>\n",
       "      <td>NaN</td>\n",
       "    </tr>\n",
       "    <tr>\n",
       "      <th>8</th>\n",
       "      <td>2</td>\n",
       "      <td>Case Intake</td>\n",
       "      <td>NaN</td>\n",
       "      <td>2.0</td>\n",
       "      <td>NaN</td>\n",
       "      <td>NaN</td>\n",
       "      <td>NaN</td>\n",
       "      <td>NaN</td>\n",
       "      <td>NaN</td>\n",
       "      <td>NaN</td>\n",
       "      <td>...</td>\n",
       "      <td>NaN</td>\n",
       "      <td>NaN</td>\n",
       "      <td>NaN</td>\n",
       "      <td>NaN</td>\n",
       "      <td>NaN</td>\n",
       "      <td>NaN</td>\n",
       "      <td>NaN</td>\n",
       "      <td>NaN</td>\n",
       "      <td>NaN</td>\n",
       "      <td>NaN</td>\n",
       "    </tr>\n",
       "    <tr>\n",
       "      <th>9</th>\n",
       "      <td>2</td>\n",
       "      <td>Notifications</td>\n",
       "      <td>Close Contacts</td>\n",
       "      <td>1.0</td>\n",
       "      <td>NaN</td>\n",
       "      <td>NaN</td>\n",
       "      <td>NaN</td>\n",
       "      <td>NaN</td>\n",
       "      <td>NaN</td>\n",
       "      <td>NaN</td>\n",
       "      <td>...</td>\n",
       "      <td>(999) 999-9999</td>\n",
       "      <td>fake_email@gmail.com</td>\n",
       "      <td>Complete</td>\n",
       "      <td>NaN</td>\n",
       "      <td>NaN</td>\n",
       "      <td>NaN</td>\n",
       "      <td>NaN</td>\n",
       "      <td>NaN</td>\n",
       "      <td>NaN</td>\n",
       "      <td>NaN</td>\n",
       "    </tr>\n",
       "    <tr>\n",
       "      <th>10</th>\n",
       "      <td>2</td>\n",
       "      <td>Notifications</td>\n",
       "      <td>Close Contacts</td>\n",
       "      <td>2.0</td>\n",
       "      <td>NaN</td>\n",
       "      <td>NaN</td>\n",
       "      <td>NaN</td>\n",
       "      <td>NaN</td>\n",
       "      <td>NaN</td>\n",
       "      <td>NaN</td>\n",
       "      <td>...</td>\n",
       "      <td>(999) 999-9999</td>\n",
       "      <td>NaN</td>\n",
       "      <td>Incomplete</td>\n",
       "      <td>NaN</td>\n",
       "      <td>NaN</td>\n",
       "      <td>NaN</td>\n",
       "      <td>NaN</td>\n",
       "      <td>NaN</td>\n",
       "      <td>NaN</td>\n",
       "      <td>NaN</td>\n",
       "    </tr>\n",
       "  </tbody>\n",
       "</table>\n",
       "<p>11 rows × 48 columns</p>\n",
       "</div>"
      ],
      "text/plain": [
       "    record_id redcap_event_name redcap_repeat_instrument  \\\n",
       "0           1     Personal Info                      NaN   \n",
       "1           1     Notifications                      NaN   \n",
       "2           1       Case Intake                      NaN   \n",
       "3           1     Notifications           Close Contacts   \n",
       "4           1     Notifications           Close Contacts   \n",
       "5           2     Personal Info                      NaN   \n",
       "6           2     Notifications                      NaN   \n",
       "7           2       Case Intake                      NaN   \n",
       "8           2       Case Intake                      NaN   \n",
       "9           2     Notifications           Close Contacts   \n",
       "10          2     Notifications           Close Contacts   \n",
       "\n",
       "    redcap_repeat_instance first_name last_name       phone_num  zip_code  \\\n",
       "0                      NaN       John       Doe  (999) 999-9999   98105.0   \n",
       "1                      NaN        NaN       NaN             NaN       NaN   \n",
       "2                      1.0        NaN       NaN             NaN       NaN   \n",
       "3                      1.0        NaN       NaN             NaN       NaN   \n",
       "4                      2.0        NaN       NaN             NaN       NaN   \n",
       "5                      NaN       Jane       Doe  (999) 999-9999   98105.0   \n",
       "6                      NaN        NaN       NaN             NaN       NaN   \n",
       "7                      1.0        NaN       NaN             NaN       NaN   \n",
       "8                      2.0        NaN       NaN             NaN       NaN   \n",
       "9                      1.0        NaN       NaN             NaN       NaN   \n",
       "10                     2.0        NaN       NaN             NaN       NaN   \n",
       "\n",
       "           dob   age  ...        cc_phone              cc_email  \\\n",
       "0   2006-04-11  18.0  ...             NaN                   NaN   \n",
       "1          NaN   NaN  ...             NaN                   NaN   \n",
       "2          NaN   NaN  ...             NaN                   NaN   \n",
       "3          NaN   NaN  ...  (999) 999-9999  fake_email@gmail.com   \n",
       "4          NaN   NaN  ...  (999) 999-9999  fake_email@gmail.com   \n",
       "5   1994-06-29  29.0  ...             NaN                   NaN   \n",
       "6          NaN   NaN  ...             NaN                   NaN   \n",
       "7          NaN   NaN  ...             NaN                   NaN   \n",
       "8          NaN   NaN  ...             NaN                   NaN   \n",
       "9          NaN   NaN  ...  (999) 999-9999  fake_email@gmail.com   \n",
       "10         NaN   NaN  ...  (999) 999-9999                   NaN   \n",
       "\n",
       "   close_contacts_complete supervisor_name      supervisor_email  \\\n",
       "0                      NaN             NaN                   NaN   \n",
       "1                      NaN            Boss                   NaN   \n",
       "2                      NaN             NaN                   NaN   \n",
       "3                 Complete             NaN                   NaN   \n",
       "4                 Complete             NaN                   NaN   \n",
       "5                      NaN             NaN                   NaN   \n",
       "6                      NaN            Boss  fake_email@gmail.com   \n",
       "7                      NaN             NaN                   NaN   \n",
       "8                      NaN             NaN                   NaN   \n",
       "9                 Complete             NaN                   NaN   \n",
       "10              Incomplete             NaN                   NaN   \n",
       "\n",
       "   work_inperson_yesno   work_date work_contagious work_contagious_calc  \\\n",
       "0                  NaN         NaN             NaN                  NaN   \n",
       "1                   No         NaN              No                  NaN   \n",
       "2                  NaN         NaN             NaN                  NaN   \n",
       "3                  NaN         NaN             NaN                  NaN   \n",
       "4                  NaN         NaN             NaN                  NaN   \n",
       "5                  NaN         NaN             NaN                  NaN   \n",
       "6                  Yes  2023-10-10             Yes                  NaN   \n",
       "7                  NaN         NaN             NaN                  NaN   \n",
       "8                  NaN         NaN             NaN                  NaN   \n",
       "9                  NaN         NaN             NaN                  NaN   \n",
       "10                 NaN         NaN             NaN                  NaN   \n",
       "\n",
       "   work_information_complete  \n",
       "0                        NaN  \n",
       "1                   Complete  \n",
       "2                        NaN  \n",
       "3                        NaN  \n",
       "4                        NaN  \n",
       "5                        NaN  \n",
       "6                   Complete  \n",
       "7                        NaN  \n",
       "8                        NaN  \n",
       "9                        NaN  \n",
       "10                       NaN  \n",
       "\n",
       "[11 rows x 48 columns]"
      ]
     },
     "execution_count": 279,
     "metadata": {},
     "output_type": "execute_result"
    }
   ],
   "source": [
    "#| echo: false\n",
    "#| output: false\n",
    "records = project.export_records(\n",
    "                       raw_or_label='label',\n",
    "                       format_type='df'\n",
    "                      ).reset_index(\n",
    "                      )\n",
    "\n",
    "records[records[\"record_id\"].isin([1,2])]"
   ]
  },
  {
   "cell_type": "markdown",
   "metadata": {},
   "source": [
    ":::"
   ]
  },
  {
   "cell_type": "markdown",
   "metadata": {},
   "source": [
    "#### By Date\n",
    "\n",
    "Filtering export by Date Record Was Added or Modified\n",
    "In the following example we will view all records that were modified or added after April 9, 2024. For more information on how this records were modified you can view the REDCap log.\n",
    "\n",
    "This is particularly useful as filtering by date the record was modified or added cannot be done after record export without linking the records to the REDCap log. "
   ]
  },
  {
   "cell_type": "markdown",
   "metadata": {},
   "source": [
    "::: {.panel-tabset}\n",
    "\n",
    "#### R"
   ]
  },
  {
   "cell_type": "code",
   "execution_count": 206,
   "metadata": {
    "tags": []
   },
   "outputs": [],
   "source": [
    "%%capture\n",
    "%%R\n",
    "data_by_date <- redcap_read_oneshot(\n",
    "    redcap_uri = url, \n",
    "    token = token, \n",
    "    datetime_range_begin = as.POSIXct(\"2024/04/09\", \n",
    "                                    format = \"%Y/%m/%d\")\n",
    ")$data\n",
    "\n",
    "data_by_date_tbl<- gt(head(data_by_date))\n",
    "gt::gtsave(data_by_date_tbl, filename = 'export_records_filtered_1.html', path = \"./files/export_files/\")"
   ]
  },
  {
   "cell_type": "raw",
   "metadata": {
    "tags": []
   },
   "source": [
    "<p align=\"center\"><iframe width=\"700px\" height=\"500\" src=\"./files/export_files/export_records_filtered_1.html\" title=\"Quarto Documentation\"></iframe></p>"
   ]
  },
  {
   "cell_type": "markdown",
   "metadata": {},
   "source": [
    "\n",
    "**Note:** Need to specify date format as seen above using [as.POSIXct](https://rdrr.io/r/base/as.POSIXlt.html)"
   ]
  },
  {
   "cell_type": "markdown",
   "metadata": {},
   "source": [
    "#### Python"
   ]
  },
  {
   "cell_type": "code",
   "execution_count": 208,
   "metadata": {},
   "outputs": [
    {
     "data": {
      "text/html": [
       "<div>\n",
       "<style scoped>\n",
       "    .dataframe tbody tr th:only-of-type {\n",
       "        vertical-align: middle;\n",
       "    }\n",
       "\n",
       "    .dataframe tbody tr th {\n",
       "        vertical-align: top;\n",
       "    }\n",
       "\n",
       "    .dataframe thead th {\n",
       "        text-align: right;\n",
       "    }\n",
       "</style>\n",
       "<table border=\"1\" class=\"dataframe\">\n",
       "  <thead>\n",
       "    <tr style=\"text-align: right;\">\n",
       "      <th></th>\n",
       "      <th></th>\n",
       "      <th>redcap_repeat_instrument</th>\n",
       "      <th>redcap_repeat_instance</th>\n",
       "      <th>first_name</th>\n",
       "      <th>last_name</th>\n",
       "      <th>phone_num</th>\n",
       "      <th>zip_code</th>\n",
       "      <th>dob</th>\n",
       "      <th>age</th>\n",
       "      <th>ethnicity</th>\n",
       "      <th>race</th>\n",
       "      <th>...</th>\n",
       "      <th>cc_phone</th>\n",
       "      <th>cc_email</th>\n",
       "      <th>close_contacts_complete</th>\n",
       "      <th>supervisor_name</th>\n",
       "      <th>supervisor_email</th>\n",
       "      <th>work_inperson_yesno</th>\n",
       "      <th>work_date</th>\n",
       "      <th>work_contagious</th>\n",
       "      <th>work_contagious_calc</th>\n",
       "      <th>work_information_complete</th>\n",
       "    </tr>\n",
       "    <tr>\n",
       "      <th>record_id</th>\n",
       "      <th>redcap_event_name</th>\n",
       "      <th></th>\n",
       "      <th></th>\n",
       "      <th></th>\n",
       "      <th></th>\n",
       "      <th></th>\n",
       "      <th></th>\n",
       "      <th></th>\n",
       "      <th></th>\n",
       "      <th></th>\n",
       "      <th></th>\n",
       "      <th></th>\n",
       "      <th></th>\n",
       "      <th></th>\n",
       "      <th></th>\n",
       "      <th></th>\n",
       "      <th></th>\n",
       "      <th></th>\n",
       "      <th></th>\n",
       "      <th></th>\n",
       "      <th></th>\n",
       "      <th></th>\n",
       "    </tr>\n",
       "  </thead>\n",
       "  <tbody>\n",
       "    <tr>\n",
       "      <th rowspan=\"5\" valign=\"top\">1</th>\n",
       "      <th>personal_info_arm_1</th>\n",
       "      <td>NaN</td>\n",
       "      <td>NaN</td>\n",
       "      <td>John</td>\n",
       "      <td>Doe</td>\n",
       "      <td>(999) 999-9999</td>\n",
       "      <td>98105.0</td>\n",
       "      <td>2006-04-11</td>\n",
       "      <td>18.0</td>\n",
       "      <td>1.0</td>\n",
       "      <td>4.0</td>\n",
       "      <td>...</td>\n",
       "      <td>NaN</td>\n",
       "      <td>NaN</td>\n",
       "      <td>NaN</td>\n",
       "      <td>NaN</td>\n",
       "      <td>NaN</td>\n",
       "      <td>NaN</td>\n",
       "      <td>NaN</td>\n",
       "      <td>NaN</td>\n",
       "      <td>NaN</td>\n",
       "      <td>NaN</td>\n",
       "    </tr>\n",
       "    <tr>\n",
       "      <th>notifications_arm_1</th>\n",
       "      <td>NaN</td>\n",
       "      <td>NaN</td>\n",
       "      <td>NaN</td>\n",
       "      <td>NaN</td>\n",
       "      <td>NaN</td>\n",
       "      <td>NaN</td>\n",
       "      <td>NaN</td>\n",
       "      <td>NaN</td>\n",
       "      <td>NaN</td>\n",
       "      <td>NaN</td>\n",
       "      <td>...</td>\n",
       "      <td>NaN</td>\n",
       "      <td>NaN</td>\n",
       "      <td>NaN</td>\n",
       "      <td>Boss</td>\n",
       "      <td>NaN</td>\n",
       "      <td>0.0</td>\n",
       "      <td>NaN</td>\n",
       "      <td>0.0</td>\n",
       "      <td>NaN</td>\n",
       "      <td>2.0</td>\n",
       "    </tr>\n",
       "    <tr>\n",
       "      <th>case_intake_arm_1</th>\n",
       "      <td>NaN</td>\n",
       "      <td>1.0</td>\n",
       "      <td>NaN</td>\n",
       "      <td>NaN</td>\n",
       "      <td>NaN</td>\n",
       "      <td>NaN</td>\n",
       "      <td>NaN</td>\n",
       "      <td>NaN</td>\n",
       "      <td>NaN</td>\n",
       "      <td>NaN</td>\n",
       "      <td>...</td>\n",
       "      <td>NaN</td>\n",
       "      <td>NaN</td>\n",
       "      <td>NaN</td>\n",
       "      <td>NaN</td>\n",
       "      <td>NaN</td>\n",
       "      <td>NaN</td>\n",
       "      <td>NaN</td>\n",
       "      <td>NaN</td>\n",
       "      <td>NaN</td>\n",
       "      <td>NaN</td>\n",
       "    </tr>\n",
       "    <tr>\n",
       "      <th>notifications_arm_1</th>\n",
       "      <td>close_contacts</td>\n",
       "      <td>1.0</td>\n",
       "      <td>NaN</td>\n",
       "      <td>NaN</td>\n",
       "      <td>NaN</td>\n",
       "      <td>NaN</td>\n",
       "      <td>NaN</td>\n",
       "      <td>NaN</td>\n",
       "      <td>NaN</td>\n",
       "      <td>NaN</td>\n",
       "      <td>...</td>\n",
       "      <td>(999) 999-9999</td>\n",
       "      <td>fake_email@gmail.com</td>\n",
       "      <td>2.0</td>\n",
       "      <td>NaN</td>\n",
       "      <td>NaN</td>\n",
       "      <td>NaN</td>\n",
       "      <td>NaN</td>\n",
       "      <td>NaN</td>\n",
       "      <td>NaN</td>\n",
       "      <td>NaN</td>\n",
       "    </tr>\n",
       "    <tr>\n",
       "      <th>notifications_arm_1</th>\n",
       "      <td>close_contacts</td>\n",
       "      <td>2.0</td>\n",
       "      <td>NaN</td>\n",
       "      <td>NaN</td>\n",
       "      <td>NaN</td>\n",
       "      <td>NaN</td>\n",
       "      <td>NaN</td>\n",
       "      <td>NaN</td>\n",
       "      <td>NaN</td>\n",
       "      <td>NaN</td>\n",
       "      <td>...</td>\n",
       "      <td>(999) 999-9999</td>\n",
       "      <td>fake_email@gmail.com</td>\n",
       "      <td>2.0</td>\n",
       "      <td>NaN</td>\n",
       "      <td>NaN</td>\n",
       "      <td>NaN</td>\n",
       "      <td>NaN</td>\n",
       "      <td>NaN</td>\n",
       "      <td>NaN</td>\n",
       "      <td>NaN</td>\n",
       "    </tr>\n",
       "    <tr>\n",
       "      <th rowspan=\"6\" valign=\"top\">2</th>\n",
       "      <th>personal_info_arm_1</th>\n",
       "      <td>NaN</td>\n",
       "      <td>NaN</td>\n",
       "      <td>Jane</td>\n",
       "      <td>Doe</td>\n",
       "      <td>(999) 999-9999</td>\n",
       "      <td>98105.0</td>\n",
       "      <td>1994-06-29</td>\n",
       "      <td>29.0</td>\n",
       "      <td>0.0</td>\n",
       "      <td>5.0</td>\n",
       "      <td>...</td>\n",
       "      <td>NaN</td>\n",
       "      <td>NaN</td>\n",
       "      <td>NaN</td>\n",
       "      <td>NaN</td>\n",
       "      <td>NaN</td>\n",
       "      <td>NaN</td>\n",
       "      <td>NaN</td>\n",
       "      <td>NaN</td>\n",
       "      <td>NaN</td>\n",
       "      <td>NaN</td>\n",
       "    </tr>\n",
       "    <tr>\n",
       "      <th>notifications_arm_1</th>\n",
       "      <td>NaN</td>\n",
       "      <td>NaN</td>\n",
       "      <td>NaN</td>\n",
       "      <td>NaN</td>\n",
       "      <td>NaN</td>\n",
       "      <td>NaN</td>\n",
       "      <td>NaN</td>\n",
       "      <td>NaN</td>\n",
       "      <td>NaN</td>\n",
       "      <td>NaN</td>\n",
       "      <td>...</td>\n",
       "      <td>NaN</td>\n",
       "      <td>NaN</td>\n",
       "      <td>NaN</td>\n",
       "      <td>Boss</td>\n",
       "      <td>fake_email@gmail.com</td>\n",
       "      <td>1.0</td>\n",
       "      <td>2023-10-10</td>\n",
       "      <td>1.0</td>\n",
       "      <td>NaN</td>\n",
       "      <td>2.0</td>\n",
       "    </tr>\n",
       "    <tr>\n",
       "      <th>case_intake_arm_1</th>\n",
       "      <td>NaN</td>\n",
       "      <td>1.0</td>\n",
       "      <td>NaN</td>\n",
       "      <td>NaN</td>\n",
       "      <td>NaN</td>\n",
       "      <td>NaN</td>\n",
       "      <td>NaN</td>\n",
       "      <td>NaN</td>\n",
       "      <td>NaN</td>\n",
       "      <td>NaN</td>\n",
       "      <td>...</td>\n",
       "      <td>NaN</td>\n",
       "      <td>NaN</td>\n",
       "      <td>NaN</td>\n",
       "      <td>NaN</td>\n",
       "      <td>NaN</td>\n",
       "      <td>NaN</td>\n",
       "      <td>NaN</td>\n",
       "      <td>NaN</td>\n",
       "      <td>NaN</td>\n",
       "      <td>NaN</td>\n",
       "    </tr>\n",
       "    <tr>\n",
       "      <th>case_intake_arm_1</th>\n",
       "      <td>NaN</td>\n",
       "      <td>2.0</td>\n",
       "      <td>NaN</td>\n",
       "      <td>NaN</td>\n",
       "      <td>NaN</td>\n",
       "      <td>NaN</td>\n",
       "      <td>NaN</td>\n",
       "      <td>NaN</td>\n",
       "      <td>NaN</td>\n",
       "      <td>NaN</td>\n",
       "      <td>...</td>\n",
       "      <td>NaN</td>\n",
       "      <td>NaN</td>\n",
       "      <td>NaN</td>\n",
       "      <td>NaN</td>\n",
       "      <td>NaN</td>\n",
       "      <td>NaN</td>\n",
       "      <td>NaN</td>\n",
       "      <td>NaN</td>\n",
       "      <td>NaN</td>\n",
       "      <td>NaN</td>\n",
       "    </tr>\n",
       "    <tr>\n",
       "      <th>notifications_arm_1</th>\n",
       "      <td>close_contacts</td>\n",
       "      <td>1.0</td>\n",
       "      <td>NaN</td>\n",
       "      <td>NaN</td>\n",
       "      <td>NaN</td>\n",
       "      <td>NaN</td>\n",
       "      <td>NaN</td>\n",
       "      <td>NaN</td>\n",
       "      <td>NaN</td>\n",
       "      <td>NaN</td>\n",
       "      <td>...</td>\n",
       "      <td>(999) 999-9999</td>\n",
       "      <td>fake_email@gmail.com</td>\n",
       "      <td>2.0</td>\n",
       "      <td>NaN</td>\n",
       "      <td>NaN</td>\n",
       "      <td>NaN</td>\n",
       "      <td>NaN</td>\n",
       "      <td>NaN</td>\n",
       "      <td>NaN</td>\n",
       "      <td>NaN</td>\n",
       "    </tr>\n",
       "    <tr>\n",
       "      <th>notifications_arm_1</th>\n",
       "      <td>close_contacts</td>\n",
       "      <td>2.0</td>\n",
       "      <td>NaN</td>\n",
       "      <td>NaN</td>\n",
       "      <td>NaN</td>\n",
       "      <td>NaN</td>\n",
       "      <td>NaN</td>\n",
       "      <td>NaN</td>\n",
       "      <td>NaN</td>\n",
       "      <td>NaN</td>\n",
       "      <td>...</td>\n",
       "      <td>(999) 999-9999</td>\n",
       "      <td>NaN</td>\n",
       "      <td>0.0</td>\n",
       "      <td>NaN</td>\n",
       "      <td>NaN</td>\n",
       "      <td>NaN</td>\n",
       "      <td>NaN</td>\n",
       "      <td>NaN</td>\n",
       "      <td>NaN</td>\n",
       "      <td>NaN</td>\n",
       "    </tr>\n",
       "    <tr>\n",
       "      <th rowspan=\"5\" valign=\"top\">3</th>\n",
       "      <th>personal_info_arm_1</th>\n",
       "      <td>NaN</td>\n",
       "      <td>NaN</td>\n",
       "      <td>John</td>\n",
       "      <td>Doe</td>\n",
       "      <td>(999) 999-9999</td>\n",
       "      <td>98105.0</td>\n",
       "      <td>NaN</td>\n",
       "      <td>NaN</td>\n",
       "      <td>1.0</td>\n",
       "      <td>4.0</td>\n",
       "      <td>...</td>\n",
       "      <td>NaN</td>\n",
       "      <td>NaN</td>\n",
       "      <td>NaN</td>\n",
       "      <td>NaN</td>\n",
       "      <td>NaN</td>\n",
       "      <td>NaN</td>\n",
       "      <td>NaN</td>\n",
       "      <td>NaN</td>\n",
       "      <td>NaN</td>\n",
       "      <td>NaN</td>\n",
       "    </tr>\n",
       "    <tr>\n",
       "      <th>notifications_arm_1</th>\n",
       "      <td>NaN</td>\n",
       "      <td>NaN</td>\n",
       "      <td>NaN</td>\n",
       "      <td>NaN</td>\n",
       "      <td>NaN</td>\n",
       "      <td>NaN</td>\n",
       "      <td>NaN</td>\n",
       "      <td>NaN</td>\n",
       "      <td>NaN</td>\n",
       "      <td>NaN</td>\n",
       "      <td>...</td>\n",
       "      <td>NaN</td>\n",
       "      <td>NaN</td>\n",
       "      <td>NaN</td>\n",
       "      <td>Boss</td>\n",
       "      <td>NaN</td>\n",
       "      <td>0.0</td>\n",
       "      <td>NaN</td>\n",
       "      <td>0.0</td>\n",
       "      <td>NaN</td>\n",
       "      <td>2.0</td>\n",
       "    </tr>\n",
       "    <tr>\n",
       "      <th>case_intake_arm_1</th>\n",
       "      <td>NaN</td>\n",
       "      <td>1.0</td>\n",
       "      <td>NaN</td>\n",
       "      <td>NaN</td>\n",
       "      <td>NaN</td>\n",
       "      <td>NaN</td>\n",
       "      <td>NaN</td>\n",
       "      <td>NaN</td>\n",
       "      <td>NaN</td>\n",
       "      <td>NaN</td>\n",
       "      <td>...</td>\n",
       "      <td>NaN</td>\n",
       "      <td>NaN</td>\n",
       "      <td>NaN</td>\n",
       "      <td>NaN</td>\n",
       "      <td>NaN</td>\n",
       "      <td>NaN</td>\n",
       "      <td>NaN</td>\n",
       "      <td>NaN</td>\n",
       "      <td>NaN</td>\n",
       "      <td>NaN</td>\n",
       "    </tr>\n",
       "    <tr>\n",
       "      <th>notifications_arm_1</th>\n",
       "      <td>close_contacts</td>\n",
       "      <td>1.0</td>\n",
       "      <td>NaN</td>\n",
       "      <td>NaN</td>\n",
       "      <td>NaN</td>\n",
       "      <td>NaN</td>\n",
       "      <td>NaN</td>\n",
       "      <td>NaN</td>\n",
       "      <td>NaN</td>\n",
       "      <td>NaN</td>\n",
       "      <td>...</td>\n",
       "      <td>(999) 999-9999</td>\n",
       "      <td>fake_email@gmail.com</td>\n",
       "      <td>2.0</td>\n",
       "      <td>NaN</td>\n",
       "      <td>NaN</td>\n",
       "      <td>NaN</td>\n",
       "      <td>NaN</td>\n",
       "      <td>NaN</td>\n",
       "      <td>NaN</td>\n",
       "      <td>NaN</td>\n",
       "    </tr>\n",
       "    <tr>\n",
       "      <th>notifications_arm_1</th>\n",
       "      <td>close_contacts</td>\n",
       "      <td>2.0</td>\n",
       "      <td>NaN</td>\n",
       "      <td>NaN</td>\n",
       "      <td>NaN</td>\n",
       "      <td>NaN</td>\n",
       "      <td>NaN</td>\n",
       "      <td>NaN</td>\n",
       "      <td>NaN</td>\n",
       "      <td>NaN</td>\n",
       "      <td>...</td>\n",
       "      <td>(999) 999-9999</td>\n",
       "      <td>fake_email@gmail.com</td>\n",
       "      <td>2.0</td>\n",
       "      <td>NaN</td>\n",
       "      <td>NaN</td>\n",
       "      <td>NaN</td>\n",
       "      <td>NaN</td>\n",
       "      <td>NaN</td>\n",
       "      <td>NaN</td>\n",
       "      <td>NaN</td>\n",
       "    </tr>\n",
       "  </tbody>\n",
       "</table>\n",
       "<p>16 rows × 46 columns</p>\n",
       "</div>"
      ],
      "text/plain": [
       "                              redcap_repeat_instrument  \\\n",
       "record_id redcap_event_name                              \n",
       "1         personal_info_arm_1                      NaN   \n",
       "          notifications_arm_1                      NaN   \n",
       "          case_intake_arm_1                        NaN   \n",
       "          notifications_arm_1           close_contacts   \n",
       "          notifications_arm_1           close_contacts   \n",
       "2         personal_info_arm_1                      NaN   \n",
       "          notifications_arm_1                      NaN   \n",
       "          case_intake_arm_1                        NaN   \n",
       "          case_intake_arm_1                        NaN   \n",
       "          notifications_arm_1           close_contacts   \n",
       "          notifications_arm_1           close_contacts   \n",
       "3         personal_info_arm_1                      NaN   \n",
       "          notifications_arm_1                      NaN   \n",
       "          case_intake_arm_1                        NaN   \n",
       "          notifications_arm_1           close_contacts   \n",
       "          notifications_arm_1           close_contacts   \n",
       "\n",
       "                               redcap_repeat_instance first_name last_name  \\\n",
       "record_id redcap_event_name                                                  \n",
       "1         personal_info_arm_1                     NaN       John       Doe   \n",
       "          notifications_arm_1                     NaN        NaN       NaN   \n",
       "          case_intake_arm_1                       1.0        NaN       NaN   \n",
       "          notifications_arm_1                     1.0        NaN       NaN   \n",
       "          notifications_arm_1                     2.0        NaN       NaN   \n",
       "2         personal_info_arm_1                     NaN       Jane       Doe   \n",
       "          notifications_arm_1                     NaN        NaN       NaN   \n",
       "          case_intake_arm_1                       1.0        NaN       NaN   \n",
       "          case_intake_arm_1                       2.0        NaN       NaN   \n",
       "          notifications_arm_1                     1.0        NaN       NaN   \n",
       "          notifications_arm_1                     2.0        NaN       NaN   \n",
       "3         personal_info_arm_1                     NaN       John       Doe   \n",
       "          notifications_arm_1                     NaN        NaN       NaN   \n",
       "          case_intake_arm_1                       1.0        NaN       NaN   \n",
       "          notifications_arm_1                     1.0        NaN       NaN   \n",
       "          notifications_arm_1                     2.0        NaN       NaN   \n",
       "\n",
       "                                    phone_num  zip_code         dob   age  \\\n",
       "record_id redcap_event_name                                                 \n",
       "1         personal_info_arm_1  (999) 999-9999   98105.0  2006-04-11  18.0   \n",
       "          notifications_arm_1             NaN       NaN         NaN   NaN   \n",
       "          case_intake_arm_1               NaN       NaN         NaN   NaN   \n",
       "          notifications_arm_1             NaN       NaN         NaN   NaN   \n",
       "          notifications_arm_1             NaN       NaN         NaN   NaN   \n",
       "2         personal_info_arm_1  (999) 999-9999   98105.0  1994-06-29  29.0   \n",
       "          notifications_arm_1             NaN       NaN         NaN   NaN   \n",
       "          case_intake_arm_1               NaN       NaN         NaN   NaN   \n",
       "          case_intake_arm_1               NaN       NaN         NaN   NaN   \n",
       "          notifications_arm_1             NaN       NaN         NaN   NaN   \n",
       "          notifications_arm_1             NaN       NaN         NaN   NaN   \n",
       "3         personal_info_arm_1  (999) 999-9999   98105.0         NaN   NaN   \n",
       "          notifications_arm_1             NaN       NaN         NaN   NaN   \n",
       "          case_intake_arm_1               NaN       NaN         NaN   NaN   \n",
       "          notifications_arm_1             NaN       NaN         NaN   NaN   \n",
       "          notifications_arm_1             NaN       NaN         NaN   NaN   \n",
       "\n",
       "                               ethnicity  race  ...        cc_phone  \\\n",
       "record_id redcap_event_name                     ...                   \n",
       "1         personal_info_arm_1        1.0   4.0  ...             NaN   \n",
       "          notifications_arm_1        NaN   NaN  ...             NaN   \n",
       "          case_intake_arm_1          NaN   NaN  ...             NaN   \n",
       "          notifications_arm_1        NaN   NaN  ...  (999) 999-9999   \n",
       "          notifications_arm_1        NaN   NaN  ...  (999) 999-9999   \n",
       "2         personal_info_arm_1        0.0   5.0  ...             NaN   \n",
       "          notifications_arm_1        NaN   NaN  ...             NaN   \n",
       "          case_intake_arm_1          NaN   NaN  ...             NaN   \n",
       "          case_intake_arm_1          NaN   NaN  ...             NaN   \n",
       "          notifications_arm_1        NaN   NaN  ...  (999) 999-9999   \n",
       "          notifications_arm_1        NaN   NaN  ...  (999) 999-9999   \n",
       "3         personal_info_arm_1        1.0   4.0  ...             NaN   \n",
       "          notifications_arm_1        NaN   NaN  ...             NaN   \n",
       "          case_intake_arm_1          NaN   NaN  ...             NaN   \n",
       "          notifications_arm_1        NaN   NaN  ...  (999) 999-9999   \n",
       "          notifications_arm_1        NaN   NaN  ...  (999) 999-9999   \n",
       "\n",
       "                                           cc_email  close_contacts_complete  \\\n",
       "record_id redcap_event_name                                                    \n",
       "1         personal_info_arm_1                   NaN                      NaN   \n",
       "          notifications_arm_1                   NaN                      NaN   \n",
       "          case_intake_arm_1                     NaN                      NaN   \n",
       "          notifications_arm_1  fake_email@gmail.com                      2.0   \n",
       "          notifications_arm_1  fake_email@gmail.com                      2.0   \n",
       "2         personal_info_arm_1                   NaN                      NaN   \n",
       "          notifications_arm_1                   NaN                      NaN   \n",
       "          case_intake_arm_1                     NaN                      NaN   \n",
       "          case_intake_arm_1                     NaN                      NaN   \n",
       "          notifications_arm_1  fake_email@gmail.com                      2.0   \n",
       "          notifications_arm_1                   NaN                      0.0   \n",
       "3         personal_info_arm_1                   NaN                      NaN   \n",
       "          notifications_arm_1                   NaN                      NaN   \n",
       "          case_intake_arm_1                     NaN                      NaN   \n",
       "          notifications_arm_1  fake_email@gmail.com                      2.0   \n",
       "          notifications_arm_1  fake_email@gmail.com                      2.0   \n",
       "\n",
       "                              supervisor_name      supervisor_email  \\\n",
       "record_id redcap_event_name                                           \n",
       "1         personal_info_arm_1             NaN                   NaN   \n",
       "          notifications_arm_1            Boss                   NaN   \n",
       "          case_intake_arm_1               NaN                   NaN   \n",
       "          notifications_arm_1             NaN                   NaN   \n",
       "          notifications_arm_1             NaN                   NaN   \n",
       "2         personal_info_arm_1             NaN                   NaN   \n",
       "          notifications_arm_1            Boss  fake_email@gmail.com   \n",
       "          case_intake_arm_1               NaN                   NaN   \n",
       "          case_intake_arm_1               NaN                   NaN   \n",
       "          notifications_arm_1             NaN                   NaN   \n",
       "          notifications_arm_1             NaN                   NaN   \n",
       "3         personal_info_arm_1             NaN                   NaN   \n",
       "          notifications_arm_1            Boss                   NaN   \n",
       "          case_intake_arm_1               NaN                   NaN   \n",
       "          notifications_arm_1             NaN                   NaN   \n",
       "          notifications_arm_1             NaN                   NaN   \n",
       "\n",
       "                               work_inperson_yesno   work_date  \\\n",
       "record_id redcap_event_name                                      \n",
       "1         personal_info_arm_1                  NaN         NaN   \n",
       "          notifications_arm_1                  0.0         NaN   \n",
       "          case_intake_arm_1                    NaN         NaN   \n",
       "          notifications_arm_1                  NaN         NaN   \n",
       "          notifications_arm_1                  NaN         NaN   \n",
       "2         personal_info_arm_1                  NaN         NaN   \n",
       "          notifications_arm_1                  1.0  2023-10-10   \n",
       "          case_intake_arm_1                    NaN         NaN   \n",
       "          case_intake_arm_1                    NaN         NaN   \n",
       "          notifications_arm_1                  NaN         NaN   \n",
       "          notifications_arm_1                  NaN         NaN   \n",
       "3         personal_info_arm_1                  NaN         NaN   \n",
       "          notifications_arm_1                  0.0         NaN   \n",
       "          case_intake_arm_1                    NaN         NaN   \n",
       "          notifications_arm_1                  NaN         NaN   \n",
       "          notifications_arm_1                  NaN         NaN   \n",
       "\n",
       "                               work_contagious  work_contagious_calc  \\\n",
       "record_id redcap_event_name                                            \n",
       "1         personal_info_arm_1              NaN                   NaN   \n",
       "          notifications_arm_1              0.0                   NaN   \n",
       "          case_intake_arm_1                NaN                   NaN   \n",
       "          notifications_arm_1              NaN                   NaN   \n",
       "          notifications_arm_1              NaN                   NaN   \n",
       "2         personal_info_arm_1              NaN                   NaN   \n",
       "          notifications_arm_1              1.0                   NaN   \n",
       "          case_intake_arm_1                NaN                   NaN   \n",
       "          case_intake_arm_1                NaN                   NaN   \n",
       "          notifications_arm_1              NaN                   NaN   \n",
       "          notifications_arm_1              NaN                   NaN   \n",
       "3         personal_info_arm_1              NaN                   NaN   \n",
       "          notifications_arm_1              0.0                   NaN   \n",
       "          case_intake_arm_1                NaN                   NaN   \n",
       "          notifications_arm_1              NaN                   NaN   \n",
       "          notifications_arm_1              NaN                   NaN   \n",
       "\n",
       "                               work_information_complete  \n",
       "record_id redcap_event_name                               \n",
       "1         personal_info_arm_1                        NaN  \n",
       "          notifications_arm_1                        2.0  \n",
       "          case_intake_arm_1                          NaN  \n",
       "          notifications_arm_1                        NaN  \n",
       "          notifications_arm_1                        NaN  \n",
       "2         personal_info_arm_1                        NaN  \n",
       "          notifications_arm_1                        2.0  \n",
       "          case_intake_arm_1                          NaN  \n",
       "          case_intake_arm_1                          NaN  \n",
       "          notifications_arm_1                        NaN  \n",
       "          notifications_arm_1                        NaN  \n",
       "3         personal_info_arm_1                        NaN  \n",
       "          notifications_arm_1                        2.0  \n",
       "          case_intake_arm_1                          NaN  \n",
       "          notifications_arm_1                        NaN  \n",
       "          notifications_arm_1                        NaN  \n",
       "\n",
       "[16 rows x 46 columns]"
      ]
     },
     "execution_count": 208,
     "metadata": {},
     "output_type": "execute_result"
    }
   ],
   "source": [
    "from datetime import datetime\n",
    "project.export_records(date_begin=datetime.fromisoformat(\"2024-04-09\"), \n",
    "                       format_type='df')"
   ]
  },
  {
   "cell_type": "markdown",
   "metadata": {},
   "source": [
    ":::"
   ]
  },
  {
   "cell_type": "markdown",
   "metadata": {},
   "source": [
    "#### Filtering export by a specific field's value\n",
    "\n",
    "ex. Filter by Gender "
   ]
  },
  {
   "cell_type": "markdown",
   "metadata": {},
   "source": [
    "::: {.panel-tabset}\n",
    "\n",
    "#### R"
   ]
  },
  {
   "cell_type": "code",
   "execution_count": 231,
   "metadata": {
    "tags": []
   },
   "outputs": [],
   "source": [
    "%%capture\n",
    "%%R\n",
    "data_by_gender <- redcap_read_oneshot(\n",
    "    redcap_uri = url, \n",
    "    token = token,\n",
    "    filter_logic = \"[gender] = '0'\" \n",
    ")$data %>%\n",
    " select(c(record_id, gender))\n",
    "\n",
    "data_by_gender_tbl<- gt(head(data_by_gender))\n",
    "gt::gtsave(data_by_gender_tbl, filename = 'export_records_filtered_3.html', path = \"./files/export_files/\")"
   ]
  },
  {
   "cell_type": "raw",
   "metadata": {
    "tags": []
   },
   "source": [
    "<p align=\"center\"><iframe width=\"700px\" height=\"200\" src=\"./files/export_files/export_records_filtered_3.html\" title=\"Quarto Documentation\"></iframe></p>"
   ]
  },
  {
   "cell_type": "markdown",
   "metadata": {},
   "source": [
    "**Note:** When filtering on REDCap multiple choice variables, yes/no variables, and checkboxes, you must put quotes around the coded value when using the `filter_logic` argument, otherwise REDCap will not perform the filtering correctly. "
   ]
  },
  {
   "cell_type": "markdown",
   "metadata": {},
   "source": [
    "#### Python"
   ]
  },
  {
   "cell_type": "code",
   "execution_count": 236,
   "metadata": {},
   "outputs": [
    {
     "data": {
      "text/html": [
       "<div>\n",
       "<style scoped>\n",
       "    .dataframe tbody tr th:only-of-type {\n",
       "        vertical-align: middle;\n",
       "    }\n",
       "\n",
       "    .dataframe tbody tr th {\n",
       "        vertical-align: top;\n",
       "    }\n",
       "\n",
       "    .dataframe thead th {\n",
       "        text-align: right;\n",
       "    }\n",
       "</style>\n",
       "<table border=\"1\" class=\"dataframe\">\n",
       "  <thead>\n",
       "    <tr style=\"text-align: right;\">\n",
       "      <th></th>\n",
       "      <th>record_id</th>\n",
       "      <th>gender</th>\n",
       "    </tr>\n",
       "  </thead>\n",
       "  <tbody>\n",
       "    <tr>\n",
       "      <th>0</th>\n",
       "      <td>2</td>\n",
       "      <td>0</td>\n",
       "    </tr>\n",
       "    <tr>\n",
       "      <th>1</th>\n",
       "      <td>4</td>\n",
       "      <td>0</td>\n",
       "    </tr>\n",
       "    <tr>\n",
       "      <th>2</th>\n",
       "      <td>6</td>\n",
       "      <td>0</td>\n",
       "    </tr>\n",
       "  </tbody>\n",
       "</table>\n",
       "</div>"
      ],
      "text/plain": [
       "   record_id  gender\n",
       "0          2       0\n",
       "1          4       0\n",
       "2          6       0"
      ]
     },
     "execution_count": 236,
     "metadata": {},
     "output_type": "execute_result"
    }
   ],
   "source": [
    "project.export_records(filter_logic=\"[gender] = 0\", \n",
    "                       format_type='df'\n",
    "                      ).reset_index()[['record_id', 'gender']]"
   ]
  },
  {
   "cell_type": "markdown",
   "metadata": {},
   "source": [
    ":::"
   ]
  },
  {
   "cell_type": "markdown",
   "metadata": {},
   "source": [
    "ex Filter by Age "
   ]
  },
  {
   "cell_type": "markdown",
   "metadata": {},
   "source": [
    "::: {.panel-tabset}\n",
    "\n",
    "#### R"
   ]
  },
  {
   "cell_type": "code",
   "execution_count": 234,
   "metadata": {
    "tags": []
   },
   "outputs": [],
   "source": [
    "%%capture\n",
    "%%R\n",
    "data_by_age <- redcap_read_oneshot(\n",
    "    redcap_uri = url, \n",
    "    token = token, \n",
    "    filter_logic = \"[age] > 20 \" \n",
    ")$data%>%\n",
    " select(c(record_id, age))\n",
    "\n",
    "data_by_age_tbl<- gt(head(data_by_age))\n",
    "gt::gtsave(data_by_age_tbl, filename = 'export_records_filtered_4.html', path = \"./files/export_files/\")"
   ]
  },
  {
   "cell_type": "raw",
   "metadata": {
    "tags": []
   },
   "source": [
    "<p align=\"center\"><iframe width=\"700px\" height=\"200\" src=\"./files/export_files/export_records_filtered_3.html\" title=\"Quarto Documentation\"></iframe></p>"
   ]
  },
  {
   "cell_type": "markdown",
   "metadata": {},
   "source": [
    "**Note:** Because age is a numeric field in REDCap, it does not need quotes around the number 20 in this example."
   ]
  },
  {
   "cell_type": "markdown",
   "metadata": {
    "tags": []
   },
   "source": [
    "#### Python"
   ]
  },
  {
   "cell_type": "code",
   "execution_count": 235,
   "metadata": {},
   "outputs": [
    {
     "data": {
      "text/html": [
       "<div>\n",
       "<style scoped>\n",
       "    .dataframe tbody tr th:only-of-type {\n",
       "        vertical-align: middle;\n",
       "    }\n",
       "\n",
       "    .dataframe tbody tr th {\n",
       "        vertical-align: top;\n",
       "    }\n",
       "\n",
       "    .dataframe thead th {\n",
       "        text-align: right;\n",
       "    }\n",
       "</style>\n",
       "<table border=\"1\" class=\"dataframe\">\n",
       "  <thead>\n",
       "    <tr style=\"text-align: right;\">\n",
       "      <th></th>\n",
       "      <th>record_id</th>\n",
       "      <th>age</th>\n",
       "    </tr>\n",
       "  </thead>\n",
       "  <tbody>\n",
       "    <tr>\n",
       "      <th>0</th>\n",
       "      <td>2</td>\n",
       "      <td>29</td>\n",
       "    </tr>\n",
       "    <tr>\n",
       "      <th>1</th>\n",
       "      <td>4</td>\n",
       "      <td>28</td>\n",
       "    </tr>\n",
       "    <tr>\n",
       "      <th>2</th>\n",
       "      <td>5</td>\n",
       "      <td>34</td>\n",
       "    </tr>\n",
       "    <tr>\n",
       "      <th>3</th>\n",
       "      <td>6</td>\n",
       "      <td>25</td>\n",
       "    </tr>\n",
       "  </tbody>\n",
       "</table>\n",
       "</div>"
      ],
      "text/plain": [
       "   record_id  age\n",
       "0          2   29\n",
       "1          4   28\n",
       "2          5   34\n",
       "3          6   25"
      ]
     },
     "execution_count": 235,
     "metadata": {},
     "output_type": "execute_result"
    }
   ],
   "source": [
    "project.export_records(filter_logic=\"[age] > 20\", \n",
    "                       format_type='df'\n",
    "                      ).reset_index()[['record_id', 'age']]"
   ]
  },
  {
   "cell_type": "markdown",
   "metadata": {},
   "source": [
    ":::"
   ]
  },
  {
   "cell_type": "markdown",
   "metadata": {},
   "source": [
    "### Export specific fields\n",
    "\n",
    "ex. Export name fields"
   ]
  },
  {
   "cell_type": "markdown",
   "metadata": {},
   "source": [
    "::: {.panel-tabset}\n",
    "\n",
    "#### R"
   ]
  },
  {
   "cell_type": "code",
   "execution_count": 239,
   "metadata": {
    "tags": []
   },
   "outputs": [],
   "source": [
    "%%capture\n",
    "%%R\n",
    "#specifying record_id automatically also pulls the event, instrument and instance columns (when applicable).\n",
    "field_subset_1 <- redcap_read_oneshot(\n",
    "    fields = c(\"record_id\",\"first_name\",\"last_name\"), \n",
    "    redcap_uri = url, \n",
    "    token = token\n",
    ")$data\n",
    "\n",
    "field_subset_1_tbl<- gt(head(field_subset_1))\n",
    "gt::gtsave(field_subset_1_tbl, filename = 'export_records5.html', path = \"./files/export_files/\")"
   ]
  },
  {
   "cell_type": "raw",
   "metadata": {},
   "source": [
    "<p align=\"center\"><iframe width=\"700px\" height=\"400\" src=\"./files/export_files/export_records5.html\" title=\"Quarto Documentation\"></iframe></p>"
   ]
  },
  {
   "cell_type": "markdown",
   "metadata": {
    "jp-MarkdownHeadingCollapsed": true
   },
   "source": [
    "**Note:** if record_id is not specified, no identifier fields will be exported and only the specific fields listed will be returned."
   ]
  },
  {
   "cell_type": "markdown",
   "metadata": {},
   "source": [
    "#### Python"
   ]
  },
  {
   "cell_type": "code",
   "execution_count": 278,
   "metadata": {
    "scrolled": true
   },
   "outputs": [
    {
     "data": {
      "text/html": [
       "<div>\n",
       "<style scoped>\n",
       "    .dataframe tbody tr th:only-of-type {\n",
       "        vertical-align: middle;\n",
       "    }\n",
       "\n",
       "    .dataframe tbody tr th {\n",
       "        vertical-align: top;\n",
       "    }\n",
       "\n",
       "    .dataframe thead th {\n",
       "        text-align: right;\n",
       "    }\n",
       "</style>\n",
       "<table border=\"1\" class=\"dataframe\">\n",
       "  <thead>\n",
       "    <tr style=\"text-align: right;\">\n",
       "      <th></th>\n",
       "      <th></th>\n",
       "      <th>redcap_repeat_instrument</th>\n",
       "      <th>redcap_repeat_instance</th>\n",
       "      <th>first_name</th>\n",
       "      <th>last_name</th>\n",
       "    </tr>\n",
       "    <tr>\n",
       "      <th>record_id</th>\n",
       "      <th>redcap_event_name</th>\n",
       "      <th></th>\n",
       "      <th></th>\n",
       "      <th></th>\n",
       "      <th></th>\n",
       "    </tr>\n",
       "  </thead>\n",
       "  <tbody>\n",
       "    <tr>\n",
       "      <th rowspan=\"3\" valign=\"top\">3</th>\n",
       "      <th>personal_info_arm_1</th>\n",
       "      <td>NaN</td>\n",
       "      <td>NaN</td>\n",
       "      <td>John</td>\n",
       "      <td>Doe</td>\n",
       "    </tr>\n",
       "    <tr>\n",
       "      <th>notifications_arm_1</th>\n",
       "      <td>NaN</td>\n",
       "      <td>NaN</td>\n",
       "      <td>NaN</td>\n",
       "      <td>NaN</td>\n",
       "    </tr>\n",
       "    <tr>\n",
       "      <th>case_intake_arm_1</th>\n",
       "      <td>NaN</td>\n",
       "      <td>1.0</td>\n",
       "      <td>NaN</td>\n",
       "      <td>NaN</td>\n",
       "    </tr>\n",
       "    <tr>\n",
       "      <th rowspan=\"4\" valign=\"top\">4</th>\n",
       "      <th>personal_info_arm_1</th>\n",
       "      <td>NaN</td>\n",
       "      <td>NaN</td>\n",
       "      <td>Jane</td>\n",
       "      <td>Doe</td>\n",
       "    </tr>\n",
       "    <tr>\n",
       "      <th>notifications_arm_1</th>\n",
       "      <td>NaN</td>\n",
       "      <td>NaN</td>\n",
       "      <td>NaN</td>\n",
       "      <td>NaN</td>\n",
       "    </tr>\n",
       "    <tr>\n",
       "      <th>case_intake_arm_1</th>\n",
       "      <td>NaN</td>\n",
       "      <td>1.0</td>\n",
       "      <td>NaN</td>\n",
       "      <td>NaN</td>\n",
       "    </tr>\n",
       "    <tr>\n",
       "      <th>case_intake_arm_1</th>\n",
       "      <td>NaN</td>\n",
       "      <td>2.0</td>\n",
       "      <td>NaN</td>\n",
       "      <td>NaN</td>\n",
       "    </tr>\n",
       "  </tbody>\n",
       "</table>\n",
       "</div>"
      ],
      "text/plain": [
       "                               redcap_repeat_instrument  \\\n",
       "record_id redcap_event_name                               \n",
       "3         personal_info_arm_1                       NaN   \n",
       "          notifications_arm_1                       NaN   \n",
       "          case_intake_arm_1                         NaN   \n",
       "4         personal_info_arm_1                       NaN   \n",
       "          notifications_arm_1                       NaN   \n",
       "          case_intake_arm_1                         NaN   \n",
       "          case_intake_arm_1                         NaN   \n",
       "\n",
       "                               redcap_repeat_instance first_name last_name  \n",
       "record_id redcap_event_name                                                 \n",
       "3         personal_info_arm_1                     NaN       John       Doe  \n",
       "          notifications_arm_1                     NaN        NaN       NaN  \n",
       "          case_intake_arm_1                       1.0        NaN       NaN  \n",
       "4         personal_info_arm_1                     NaN       Jane       Doe  \n",
       "          notifications_arm_1                     NaN        NaN       NaN  \n",
       "          case_intake_arm_1                       1.0        NaN       NaN  \n",
       "          case_intake_arm_1                       2.0        NaN       NaN  "
      ]
     },
     "execution_count": 278,
     "metadata": {},
     "output_type": "execute_result"
    }
   ],
   "source": [
    "#| echo: false\n",
    "#| output: false\n",
    "\n",
    "project.export_records(records=['3','4'], \n",
    "                       fields=[\"first_name\",\"last_name\"],\n",
    "                       format_type='df')"
   ]
  },
  {
   "cell_type": "markdown",
   "metadata": {},
   "source": [
    "**Note:** if record_id is not specified, all fields that make up the unique key will still be exported."
   ]
  },
  {
   "cell_type": "markdown",
   "metadata": {},
   "source": [
    ":::"
   ]
  },
  {
   "cell_type": "markdown",
   "metadata": {},
   "source": [
    "### Export only specific instruments\n",
    "\n",
    "See @sec-forms_instruments for how to use the `redcap_instruments` function to get a list of instrument names."
   ]
  },
  {
   "cell_type": "markdown",
   "metadata": {},
   "source": [
    "::: {.panel-tabset}\n",
    "\n",
    "#### R"
   ]
  },
  {
   "cell_type": "code",
   "execution_count": 263,
   "metadata": {
    "tags": []
   },
   "outputs": [],
   "source": [
    "%%capture\n",
    "%%R\n",
    "\n",
    "records_dem <- redcap_read_oneshot(redcap_uri = url, \n",
    "                           fields = \"record_id\",\n",
    "                           forms = \"symptoms\", \n",
    "                           token = token\n",
    "                                       )$data\n",
    "\n",
    "records_dem_tbl <- gt(head(records_dem))\n",
    "gt::gtsave(records_dem_tbl, filename = 'export_records6.html', path = \"./files/export_files/\")"
   ]
  },
  {
   "cell_type": "raw",
   "metadata": {},
   "source": [
    "<p align=\"center\"><iframe width=\"700px\" height=\"400\" src=\"./files/export_files/export_records6.html\" title=\"Quarto Documentation\"></iframe></p>"
   ]
  },
  {
   "cell_type": "markdown",
   "metadata": {},
   "source": [
    "You must add `record_id` to the `fields_collapsed` argument for the data to export with the `record_id` attached. This API call will export all rows (including rows not relevant to the desired instrument). However, this is still useful because it only exports fields in that instrument and you can further filter the data to include only rows for that instrument."
   ]
  },
  {
   "cell_type": "code",
   "execution_count": 264,
   "metadata": {},
   "outputs": [],
   "source": [
    "%%capture\n",
    "%%R\n",
    "records_dem_final <- records_dem %>% filter(!is.na(symptoms_complete))\n",
    "\n",
    "records_dem_final_tbl <- gt(head(records_dem_final))\n",
    "gt::gtsave(records_dem_final_tbl, filename = 'export_records7.html', path = \"./files/export_files/\")"
   ]
  },
  {
   "cell_type": "raw",
   "metadata": {},
   "source": [
    "<p align=\"center\"><iframe width=\"700px\" height=\"400\" src=\"./files/export_files/export_records7.html\" title=\"Quarto Documentation\"></iframe></p>"
   ]
  },
  {
   "cell_type": "markdown",
   "metadata": {},
   "source": [
    "Using the \"demographics_complete\" field that REDCap automoatically generates to filter rows to just those relevant to that instrument."
   ]
  },
  {
   "cell_type": "markdown",
   "metadata": {},
   "source": [
    "You can also filter the data upon export."
   ]
  },
  {
   "cell_type": "code",
   "execution_count": 265,
   "metadata": {
    "tags": []
   },
   "outputs": [],
   "source": [
    "%%capture\n",
    "%%R\n",
    "\n",
    "records_dem_final2 <- redcap_read_oneshot(redcap_uri = url, \n",
    "                           fields = \"record_id\",\n",
    "                           forms = \"symptoms\", \n",
    "                           filter_logic = '[symptoms_complete] <> \"\"',\n",
    "                           token = token\n",
    "                                       )$data\n",
    "\n",
    "records_dem_final2_tbl <- gt(head(records_dem_final2))\n",
    "gt::gtsave(records_dem_final2_tbl, filename = 'export_records8.html', path = \"./files/export_files/\")"
   ]
  },
  {
   "cell_type": "raw",
   "metadata": {},
   "source": [
    "<p align=\"center\"><iframe width=\"700px\" height=\"400\" src=\"./files/export_files/export_records8.html\" title=\"Quarto Documentation\"></iframe></p>"
   ]
  },
  {
   "cell_type": "markdown",
   "metadata": {},
   "source": [
    "#### Python"
   ]
  },
  {
   "cell_type": "code",
   "execution_count": null,
   "metadata": {},
   "outputs": [],
   "source": []
  },
  {
   "cell_type": "markdown",
   "metadata": {},
   "source": [
    ":::"
   ]
  },
  {
   "cell_type": "markdown",
   "metadata": {},
   "source": [
    "::: {.panel-tabset}\n",
    "\n",
    "#### R"
   ]
  },
  {
   "cell_type": "code",
   "execution_count": null,
   "metadata": {},
   "outputs": [],
   "source": []
  },
  {
   "cell_type": "markdown",
   "metadata": {},
   "source": [
    "#### Python"
   ]
  },
  {
   "cell_type": "code",
   "execution_count": null,
   "metadata": {},
   "outputs": [],
   "source": []
  },
  {
   "cell_type": "markdown",
   "metadata": {},
   "source": [
    ":::"
   ]
  },
  {
   "cell_type": "markdown",
   "metadata": {},
   "source": [
    "::: {.panel-tabset}\n",
    "\n",
    "#### R"
   ]
  },
  {
   "cell_type": "code",
   "execution_count": null,
   "metadata": {},
   "outputs": [],
   "source": []
  },
  {
   "cell_type": "markdown",
   "metadata": {},
   "source": [
    "#### Python"
   ]
  },
  {
   "cell_type": "code",
   "execution_count": null,
   "metadata": {},
   "outputs": [],
   "source": []
  },
  {
   "cell_type": "markdown",
   "metadata": {},
   "source": [
    ":::"
   ]
  },
  {
   "cell_type": "markdown",
   "metadata": {},
   "source": [
    "::: {.panel-tabset}\n",
    "\n",
    "#### R"
   ]
  },
  {
   "cell_type": "code",
   "execution_count": null,
   "metadata": {},
   "outputs": [],
   "source": []
  },
  {
   "cell_type": "markdown",
   "metadata": {},
   "source": [
    "#### Python"
   ]
  },
  {
   "cell_type": "code",
   "execution_count": null,
   "metadata": {},
   "outputs": [],
   "source": []
  },
  {
   "cell_type": "markdown",
   "metadata": {},
   "source": [
    ":::"
   ]
  },
  {
   "cell_type": "code",
   "execution_count": null,
   "metadata": {
    "tags": []
   },
   "outputs": [],
   "source": [
    "symptoms_wrapper"
   ]
  },
  {
   "cell_type": "markdown",
   "metadata": {},
   "source": [
    "### Filtering Data Using R\n",
    "\n",
    "#### Filter by Date Record Was Added or Modified\n",
    "\n",
    "##### Filtering Data Based on record_id\n",
    "\n",
    "ex. Filter all exported data for record 1 and 2 only using R"
   ]
  },
  {
   "cell_type": "code",
   "execution_count": null,
   "metadata": {
    "tags": []
   },
   "outputs": [],
   "source": [
    "record_subset_v2 <- Data %>% filter(record_id == 1 | record_id == 2)\n",
    "head(record_subset_v2)"
   ]
  },
  {
   "cell_type": "markdown",
   "metadata": {},
   "source": [
    "#### Filtering for Certain Fields of Data \n",
    "\n",
    "##### ex. Filter all exported data for name fields using R"
   ]
  },
  {
   "cell_type": "code",
   "execution_count": null,
   "metadata": {
    "tags": []
   },
   "outputs": [],
   "source": [
    "#selecting columns in R will only keep the columns explicity listed\n",
    "field_subset_v2 <- Data %>% select(\"record_id\",\"first_name\",\"last_name\")\n",
    "head(field_subset_v2)"
   ]
  },
  {
   "cell_type": "markdown",
   "metadata": {},
   "source": [
    "#### Filtering Data Based on Field Values\n",
    "\n",
    "##### ex. Filter all exported data for female participants"
   ]
  },
  {
   "cell_type": "code",
   "execution_count": null,
   "metadata": {
    "tags": []
   },
   "outputs": [],
   "source": [
    "female_records <- Data_labeled %>% inner_join(Data %>% filter(gender == 0) %>% select(record_id), by = 'record_id')\n",
    "# or just \"female_records = Data %>% filter(gender == 0)\" if you only want the event where gender was defined. "
   ]
  },
  {
   "cell_type": "code",
   "execution_count": null,
   "metadata": {
    "tags": []
   },
   "outputs": [],
   "source": [
    "head(female_records)\n",
    "# now all records for females have been isolated including all events/instrument that participant filled out"
   ]
  },
  {
   "cell_type": "markdown",
   "metadata": {},
   "source": [
    "#### Export Specific Instruments\n",
    "\n",
    "##### ex. Filter rows for the event where 'Symptoms' instrument is complete (in the case_instake_arm_1 event)"
   ]
  },
  {
   "cell_type": "code",
   "execution_count": null,
   "metadata": {
    "tags": []
   },
   "outputs": [],
   "source": [
    "symptoms_wrapper_final <- Data %>% filter(!is.na(symptoms_complete))"
   ]
  },
  {
   "cell_type": "code",
   "execution_count": null,
   "metadata": {
    "tags": []
   },
   "outputs": [],
   "source": [
    "symptoms_wrapper_final"
   ]
  },
  {
   "cell_type": "markdown",
   "metadata": {},
   "source": [
    "### Other Functions for Exporting REDCap Records\n",
    "\n",
    "This Reference Class represents a REDCap project. Once some values are set that are specific to a REDCap project (such as the URI and token), later calls are less verbose (such as reading and writing data). [(Source)](https://cran.r-project.org/web/packages/REDCapR/REDCapR.pdf)"
   ]
  },
  {
   "cell_type": "code",
   "execution_count": null,
   "metadata": {
    "tags": []
   },
   "outputs": [],
   "source": [
    "project <- REDCapR::redcap_project$new(redcap_uri=url, token=token)\n",
    "ds_all <- project$read()"
   ]
  },
  {
   "cell_type": "code",
   "execution_count": null,
   "metadata": {
    "tags": []
   },
   "outputs": [],
   "source": [
    "head(ds_all$data)"
   ]
  },
  {
   "cell_type": "code",
   "execution_count": null,
   "metadata": {
    "tags": []
   },
   "outputs": [],
   "source": [
    "data_skinny <- project$read(fields = c(\"record_id\", \"gender\", \"first_name\"))$data"
   ]
  },
  {
   "cell_type": "code",
   "execution_count": null,
   "metadata": {
    "tags": []
   },
   "outputs": [],
   "source": [
    "head(data_skinny)"
   ]
  },
  {
   "cell_type": "code",
   "execution_count": null,
   "metadata": {
    "tags": []
   },
   "outputs": [],
   "source": [
    "record_of_females <- data_skinny$record_id[data_skinny$gender=='0']"
   ]
  },
  {
   "cell_type": "code",
   "execution_count": null,
   "metadata": {
    "tags": []
   },
   "outputs": [],
   "source": [
    "print(record_of_females)"
   ]
  },
  {
   "cell_type": "markdown",
   "metadata": {},
   "source": [
    "### Metadata (generic)\n",
    "\n",
    "#### Clean checkbox choices using `checkbox_choices`"
   ]
  },
  {
   "cell_type": "code",
   "execution_count": null,
   "metadata": {
    "tags": []
   },
   "outputs": [],
   "source": [
    "metadata <- redcap_metadata_read(\n",
    "    redcap_uri = url, \n",
    "    token = token\n",
    ")$data"
   ]
  },
  {
   "cell_type": "code",
   "execution_count": null,
   "metadata": {
    "tags": []
   },
   "outputs": [],
   "source": [
    "head(metadata)"
   ]
  },
  {
   "cell_type": "code",
   "execution_count": null,
   "metadata": {
    "tags": []
   },
   "outputs": [],
   "source": [
    "# select the check box field you would like to clean\n",
    "choices_2 <- metadata[metadata$field_name == \"symptoms_exp\",]$select_choices_or_calculations\n",
    "choices_2"
   ]
  },
  {
   "cell_type": "code",
   "execution_count": null,
   "metadata": {
    "tags": []
   },
   "outputs": [],
   "source": [
    "choices3 <- REDCapR::checkbox_choices(select_choices=choices_2)\n",
    "choices3"
   ]
  },
  {
   "cell_type": "markdown",
   "metadata": {},
   "source": [
    "### REDCap Constants\n",
    "\n",
    "You can quickly search for the numerical values of several 'constants' within REDCap. For example, when exporting data from REDCap, all instruments end with a variable called \"{form_name}\\_complete\" that when exported as raw data will take the values of 0, 1 or 2. You can see which values belong to complete vs incomplete using `constant(\"form_incomplete\")` and `constant(\"form_complete\")`.  \n",
    "\n",
    "Other constants across all REDCap projects include the values for the various user rights settings. For a full list of constants available, refer to the following [documentation.](https://ouhscbbmc.github.io/REDCapR/reference/constant.html)"
   ]
  },
  {
   "cell_type": "code",
   "execution_count": 76,
   "metadata": {
    "tags": []
   },
   "outputs": [
    {
     "ename": "NameError",
     "evalue": "name 'constant' is not defined",
     "output_type": "error",
     "traceback": [
      "\u001b[1;31m---------------------------------------------------------------------------\u001b[0m",
      "\u001b[1;31mNameError\u001b[0m                                 Traceback (most recent call last)",
      "Cell \u001b[1;32mIn[76], line 2\u001b[0m\n\u001b[0;32m      1\u001b[0m \u001b[38;5;66;03m# value for form incomplete\u001b[39;00m\n\u001b[1;32m----> 2\u001b[0m \u001b[43mconstant\u001b[49m(\u001b[38;5;124m\"\u001b[39m\u001b[38;5;124mform_incomplete\u001b[39m\u001b[38;5;124m\"\u001b[39m)\n",
      "\u001b[1;31mNameError\u001b[0m: name 'constant' is not defined"
     ]
    }
   ],
   "source": [
    "# value for form incomplete\n",
    "constant(\"form_incomplete\")"
   ]
  },
  {
   "cell_type": "code",
   "execution_count": null,
   "metadata": {
    "tags": []
   },
   "outputs": [],
   "source": [
    "# value for form complete\n",
    "constant(\"form_complete\")"
   ]
  },
  {
   "cell_type": "code",
   "execution_count": null,
   "metadata": {
    "tags": []
   },
   "outputs": [],
   "source": [
    "# value for form unverified\n",
    "constant(\"form_unverified\")"
   ]
  },
  {
   "cell_type": "code",
   "execution_count": null,
   "metadata": {
    "tags": []
   },
   "outputs": [],
   "source": [
    "users_data <- redcap_users_export(redcap_uri = url, token, verbose = TRUE, config_options = NULL)"
   ]
  },
  {
   "cell_type": "code",
   "execution_count": null,
   "metadata": {
    "tags": []
   },
   "outputs": [],
   "source": [
    "user_rights <- users_data$data_user\n",
    "user_rights"
   ]
  },
  {
   "cell_type": "code",
   "execution_count": null,
   "metadata": {
    "tags": []
   },
   "outputs": [],
   "source": [
    "str(user_rights)"
   ]
  },
  {
   "cell_type": "code",
   "execution_count": null,
   "metadata": {
    "tags": []
   },
   "outputs": [],
   "source": [
    "REDCapR::constant(c(\n",
    "  \"form_rights_no_access\",\n",
    "  \"form_rights_readonly\",\n",
    "  \"form_rights_edit_form\",\n",
    "  \"form_rights_edit_survey\"\n",
    "))"
   ]
  },
  {
   "cell_type": "code",
   "execution_count": null,
   "metadata": {
    "tags": []
   },
   "outputs": [],
   "source": [
    "REDCapR::constant(\"data_export_rights_no_access\")\n",
    "REDCapR::constant(\"data_export_rights_deidentified\")\n",
    "REDCapR::constant(\"data_export_rights_full\") "
   ]
  }
 ],
 "metadata": {
  "kernelspec": {
   "display_name": "Python 3 (ipykernel)",
   "language": "python",
   "name": "python3"
  },
  "language_info": {
   "codemirror_mode": {
    "name": "ipython",
    "version": 3
   },
   "file_extension": ".py",
   "mimetype": "text/x-python",
   "name": "python",
   "nbconvert_exporter": "python",
   "pygments_lexer": "ipython3",
   "version": "3.12.2"
  }
 },
 "nbformat": 4,
 "nbformat_minor": 4
}
