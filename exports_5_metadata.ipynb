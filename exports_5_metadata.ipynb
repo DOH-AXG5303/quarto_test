{
 "cells": [
  {
   "cell_type": "markdown",
   "metadata": {},
   "source": [
    "# Metadata"
   ]
  },
  {
   "cell_type": "markdown",
   "metadata": {},
   "source": [
    "::: {.content-hidden when-format=\"html\"}"
   ]
  },
  {
   "cell_type": "markdown",
   "metadata": {},
   "source": [
    "## Project Setup\n",
    "\n",
    "Install and load the necessary packages"
   ]
  },
  {
   "cell_type": "code",
   "execution_count": 13,
   "metadata": {},
   "outputs": [],
   "source": [
    "#| echo: false\n",
    "#| output: false\n",
    "import os\n",
    "os.environ['R_HOME'] = f'C:/Users/{os.environ.get('USERNAME')}/Miniconda3/envs/r_python_jl/Lib/R'"
   ]
  },
  {
   "cell_type": "code",
   "execution_count": 14,
   "metadata": {},
   "outputs": [
    {
     "name": "stdout",
     "output_type": "stream",
     "text": [
      "The rpy2.ipython extension is already loaded. To reload it, use:\n",
      "  %reload_ext rpy2.ipython\n"
     ]
    }
   ],
   "source": [
    "#| echo: false\n",
    "#| output: false\n",
    "%load_ext rpy2.ipython\n",
    "# only have to run once to allow the R magic command"
   ]
  },
  {
   "cell_type": "markdown",
   "metadata": {},
   "source": [
    "::: {.panel-tabset}\n",
    "\n",
    "#### R"
   ]
  },
  {
   "cell_type": "code",
   "execution_count": 15,
   "metadata": {},
   "outputs": [],
   "source": [
    "%%capture \n",
    "%%R\n",
    "\n",
    "library(\"dplyr\")\n",
    "library(\"jsonlite\")\n",
    "library(\"tidyr\")\n",
    "library(\"REDCapR\")\n",
    "library(\"knitr\")\n",
    "library(\"remotes\")\n",
    "library(\"gt\")"
   ]
  },
  {
   "cell_type": "code",
   "execution_count": 16,
   "metadata": {},
   "outputs": [
    {
     "name": "stdout",
     "output_type": "stream",
     "text": [
      "[1] '1.1.9005'\n"
     ]
    }
   ],
   "source": [
    "%%capture --no-display --no-stdout\n",
    "%%R\n",
    "\n",
    "version <- packageVersion(\"REDCapR\")\n",
    "version"
   ]
  },
  {
   "cell_type": "markdown",
   "metadata": {},
   "source": [
    "In this project, we will use the bleeding edge version of REDCapR available on Github"
   ]
  },
  {
   "cell_type": "code",
   "execution_count": 6,
   "metadata": {},
   "outputs": [
    {
     "name": "stdout",
     "output_type": "stream",
     "text": [
      "[1] \"REDCapR package up to date\"\n"
     ]
    }
   ],
   "source": [
    "%%capture --no-display --no-stdout\n",
    "%%R\n",
    "\n",
    "# Detach REDCapR if already loaded, and download the latest version\n",
    "if (version!='1.1.9005') {\n",
    "    detach(\"package:REDCapR\", unload=TRUE)\n",
    "    remotes::install_github(\"OuhscBbmc/REDCapR\")\n",
    "    library(\"REDCapR\")\n",
    "    print(packageVersion(\"REDCapR\"))\n",
    "}\n",
    "\n",
    "else {\n",
    "    print(\"REDCapR package up to date\")\n",
    "}"
   ]
  },
  {
   "cell_type": "markdown",
   "metadata": {},
   "source": [
    "#### Python"
   ]
  },
  {
   "cell_type": "code",
   "execution_count": 17,
   "metadata": {
    "scrolled": true
   },
   "outputs": [],
   "source": [
    "import redcap\n",
    "import json\n",
    "import pandas as pd"
   ]
  },
  {
   "cell_type": "markdown",
   "metadata": {},
   "source": [
    ":::"
   ]
  },
  {
   "cell_type": "markdown",
   "metadata": {},
   "source": [
    "Assign your project URL and Token"
   ]
  },
  {
   "cell_type": "markdown",
   "metadata": {},
   "source": [
    "::: {.panel-tabset}\n",
    "\n",
    "#### R"
   ]
  },
  {
   "cell_type": "code",
   "execution_count": 18,
   "metadata": {},
   "outputs": [],
   "source": [
    "%%R\n",
    "path = paste0(\"C:/Users/\", Sys.getenv(\"USERNAME\"), '/json_api_data.json')\n",
    "token <- jsonlite::fromJSON(path)$dev_token$'308'\n",
    "url <- \"https://dev-redcap.doh.wa.gov/api/\""
   ]
  },
  {
   "cell_type": "markdown",
   "metadata": {},
   "source": [
    "#### Python"
   ]
  },
  {
   "cell_type": "code",
   "execution_count": 19,
   "metadata": {
    "scrolled": true
   },
   "outputs": [],
   "source": [
    "path_to_json = f\"C:/Users/{os.environ.get('USERNAME')}/json_api_data.json\"\n",
    "api_key = json.load(open(path_to_json))\n",
    "api_token = api_key['dev_token']['308']\n",
    "api_url = api_key['dev_url']\n",
    "project = redcap.Project(api_url, api_token)"
   ]
  },
  {
   "cell_type": "markdown",
   "metadata": {},
   "source": [
    ":::"
   ]
  },
  {
   "cell_type": "markdown",
   "metadata": {},
   "source": [
    ":::"
   ]
  },
  {
   "cell_type": "markdown",
   "metadata": {},
   "source": [
    "REDCap metadata can be exported via the API. \n",
    "\n",
    "The REDCap metadata will contain all the fields in your REDCap project *excluding*:\n",
    "\n",
    "1) Any survey timestamp or survey identifier fields (automatically generated when a form is enabled as a survey).\n",
    "2) Any fields that are part of the unique key aside from the `record_id` (`redcap_event_name`, `redcap_repeat_instrument` and `redcap_repeat_instance`).\n",
    "3) Any `<form_name>_complete` fields.\n",
    "4) Checkbox fields are exported as one field per checkbox (not in the wide format as they appear in the data export).\n",
    "\n",
    "In REDCap the `record_id` field can be renamed. The first field in the exported metadata will always be `record_id` or the 'record_id' equivalent field."
   ]
  },
  {
   "cell_type": "markdown",
   "metadata": {},
   "source": [
    "::: {.panel-tabset}\n",
    "\n",
    "#### R\n",
    "\n",
    "`redcap_metadata_read()`"
   ]
  },
  {
   "cell_type": "code",
   "execution_count": 9,
   "metadata": {
    "tags": []
   },
   "outputs": [],
   "source": [
    "%%capture\n",
    "%%R\n",
    "metadata <- redcap_metadata_read(\n",
    "    redcap_uri = url, \n",
    "    token = token\n",
    ")$data"
   ]
  },
  {
   "cell_type": "markdown",
   "metadata": {},
   "source": [
    "::: {.content-hidden when-format=\"html\"}"
   ]
  },
  {
   "cell_type": "code",
   "execution_count": 11,
   "metadata": {},
   "outputs": [],
   "source": [
    "%%R\n",
    "metadata_tbl <- gt(head(metadata))\n",
    "gt::gtsave(metadata_tbl, filename = 'metadata.html', path = \"./files/export_files/\")"
   ]
  },
  {
   "cell_type": "markdown",
   "metadata": {},
   "source": [
    ":::"
   ]
  },
  {
   "cell_type": "markdown",
   "metadata": {
    "tags": []
   },
   "source": [
    "<p align=\"center\"><iframe width=\"100%\" height=\"500\" src=\"./files/export_files/metadata.html\" title=\"Quarto Documentation\"></iframe></p>"
   ]
  },
  {
   "cell_type": "markdown",
   "metadata": {},
   "source": [
    "#### Python\n",
    "\n",
    "`export_metadata()`"
   ]
  },
  {
   "cell_type": "code",
   "execution_count": 22,
   "metadata": {},
   "outputs": [
    {
     "data": {
      "text/html": [
       "<div>\n",
       "<style scoped>\n",
       "    .dataframe tbody tr th:only-of-type {\n",
       "        vertical-align: middle;\n",
       "    }\n",
       "\n",
       "    .dataframe tbody tr th {\n",
       "        vertical-align: top;\n",
       "    }\n",
       "\n",
       "    .dataframe thead th {\n",
       "        text-align: right;\n",
       "    }\n",
       "</style>\n",
       "<table border=\"1\" class=\"dataframe\">\n",
       "  <thead>\n",
       "    <tr style=\"text-align: right;\">\n",
       "      <th></th>\n",
       "      <th>form_name</th>\n",
       "      <th>section_header</th>\n",
       "      <th>field_type</th>\n",
       "      <th>field_label</th>\n",
       "      <th>select_choices_or_calculations</th>\n",
       "      <th>field_note</th>\n",
       "      <th>text_validation_type_or_show_slider_number</th>\n",
       "      <th>text_validation_min</th>\n",
       "      <th>text_validation_max</th>\n",
       "      <th>identifier</th>\n",
       "      <th>branching_logic</th>\n",
       "      <th>required_field</th>\n",
       "      <th>custom_alignment</th>\n",
       "      <th>question_number</th>\n",
       "      <th>matrix_group_name</th>\n",
       "      <th>matrix_ranking</th>\n",
       "      <th>field_annotation</th>\n",
       "    </tr>\n",
       "    <tr>\n",
       "      <th>field_name</th>\n",
       "      <th></th>\n",
       "      <th></th>\n",
       "      <th></th>\n",
       "      <th></th>\n",
       "      <th></th>\n",
       "      <th></th>\n",
       "      <th></th>\n",
       "      <th></th>\n",
       "      <th></th>\n",
       "      <th></th>\n",
       "      <th></th>\n",
       "      <th></th>\n",
       "      <th></th>\n",
       "      <th></th>\n",
       "      <th></th>\n",
       "      <th></th>\n",
       "      <th></th>\n",
       "    </tr>\n",
       "  </thead>\n",
       "  <tbody>\n",
       "    <tr>\n",
       "      <th>record_id</th>\n",
       "      <td>demographics</td>\n",
       "      <td>NaN</td>\n",
       "      <td>text</td>\n",
       "      <td>Record ID</td>\n",
       "      <td>NaN</td>\n",
       "      <td>NaN</td>\n",
       "      <td>NaN</td>\n",
       "      <td>NaN</td>\n",
       "      <td>NaN</td>\n",
       "      <td>NaN</td>\n",
       "      <td>NaN</td>\n",
       "      <td>NaN</td>\n",
       "      <td>NaN</td>\n",
       "      <td>NaN</td>\n",
       "      <td>NaN</td>\n",
       "      <td>NaN</td>\n",
       "      <td>NaN</td>\n",
       "    </tr>\n",
       "    <tr>\n",
       "      <th>first_name</th>\n",
       "      <td>demographics</td>\n",
       "      <td>Personal Information</td>\n",
       "      <td>text</td>\n",
       "      <td>First Name</td>\n",
       "      <td>NaN</td>\n",
       "      <td>NaN</td>\n",
       "      <td>NaN</td>\n",
       "      <td>NaN</td>\n",
       "      <td>NaN</td>\n",
       "      <td>NaN</td>\n",
       "      <td>NaN</td>\n",
       "      <td>NaN</td>\n",
       "      <td>NaN</td>\n",
       "      <td>NaN</td>\n",
       "      <td>NaN</td>\n",
       "      <td>NaN</td>\n",
       "      <td>NaN</td>\n",
       "    </tr>\n",
       "    <tr>\n",
       "      <th>last_name</th>\n",
       "      <td>demographics</td>\n",
       "      <td>NaN</td>\n",
       "      <td>text</td>\n",
       "      <td>Last Name</td>\n",
       "      <td>NaN</td>\n",
       "      <td>NaN</td>\n",
       "      <td>NaN</td>\n",
       "      <td>NaN</td>\n",
       "      <td>NaN</td>\n",
       "      <td>NaN</td>\n",
       "      <td>NaN</td>\n",
       "      <td>NaN</td>\n",
       "      <td>NaN</td>\n",
       "      <td>NaN</td>\n",
       "      <td>NaN</td>\n",
       "      <td>NaN</td>\n",
       "      <td>NaN</td>\n",
       "    </tr>\n",
       "    <tr>\n",
       "      <th>phone_num</th>\n",
       "      <td>demographics</td>\n",
       "      <td>NaN</td>\n",
       "      <td>text</td>\n",
       "      <td>Phone Number</td>\n",
       "      <td>NaN</td>\n",
       "      <td>NaN</td>\n",
       "      <td>phone</td>\n",
       "      <td>NaN</td>\n",
       "      <td>NaN</td>\n",
       "      <td>NaN</td>\n",
       "      <td>NaN</td>\n",
       "      <td>NaN</td>\n",
       "      <td>NaN</td>\n",
       "      <td>NaN</td>\n",
       "      <td>NaN</td>\n",
       "      <td>NaN</td>\n",
       "      <td>NaN</td>\n",
       "    </tr>\n",
       "    <tr>\n",
       "      <th>zip_code</th>\n",
       "      <td>demographics</td>\n",
       "      <td>NaN</td>\n",
       "      <td>text</td>\n",
       "      <td>ZIP Code</td>\n",
       "      <td>NaN</td>\n",
       "      <td>NaN</td>\n",
       "      <td>integer</td>\n",
       "      <td>10001.0</td>\n",
       "      <td>99999</td>\n",
       "      <td>y</td>\n",
       "      <td>NaN</td>\n",
       "      <td>NaN</td>\n",
       "      <td>NaN</td>\n",
       "      <td>NaN</td>\n",
       "      <td>NaN</td>\n",
       "      <td>NaN</td>\n",
       "      <td>NaN</td>\n",
       "    </tr>\n",
       "    <tr>\n",
       "      <th>dob</th>\n",
       "      <td>demographics</td>\n",
       "      <td>NaN</td>\n",
       "      <td>text</td>\n",
       "      <td>Date of birth</td>\n",
       "      <td>NaN</td>\n",
       "      <td>NaN</td>\n",
       "      <td>date_mdy</td>\n",
       "      <td>NaN</td>\n",
       "      <td>NaN</td>\n",
       "      <td>y</td>\n",
       "      <td>NaN</td>\n",
       "      <td>NaN</td>\n",
       "      <td>NaN</td>\n",
       "      <td>NaN</td>\n",
       "      <td>NaN</td>\n",
       "      <td>NaN</td>\n",
       "      <td>NaN</td>\n",
       "    </tr>\n",
       "    <tr>\n",
       "      <th>age</th>\n",
       "      <td>demographics</td>\n",
       "      <td>NaN</td>\n",
       "      <td>calc</td>\n",
       "      <td>Age (years)</td>\n",
       "      <td>rounddown(datediff([dob],'today','y'))</td>\n",
       "      <td>NaN</td>\n",
       "      <td>NaN</td>\n",
       "      <td>NaN</td>\n",
       "      <td>NaN</td>\n",
       "      <td>NaN</td>\n",
       "      <td>NaN</td>\n",
       "      <td>NaN</td>\n",
       "      <td>NaN</td>\n",
       "      <td>NaN</td>\n",
       "      <td>NaN</td>\n",
       "      <td>NaN</td>\n",
       "      <td>NaN</td>\n",
       "    </tr>\n",
       "    <tr>\n",
       "      <th>ethnicity</th>\n",
       "      <td>demographics</td>\n",
       "      <td>NaN</td>\n",
       "      <td>radio</td>\n",
       "      <td>Ethnicity</td>\n",
       "      <td>0, Hispanic or Latino|1, NOT Hispanic or Latin...</td>\n",
       "      <td>NaN</td>\n",
       "      <td>NaN</td>\n",
       "      <td>NaN</td>\n",
       "      <td>NaN</td>\n",
       "      <td>NaN</td>\n",
       "      <td>NaN</td>\n",
       "      <td>NaN</td>\n",
       "      <td>LH</td>\n",
       "      <td>NaN</td>\n",
       "      <td>NaN</td>\n",
       "      <td>NaN</td>\n",
       "      <td>NaN</td>\n",
       "    </tr>\n",
       "    <tr>\n",
       "      <th>race</th>\n",
       "      <td>demographics</td>\n",
       "      <td>NaN</td>\n",
       "      <td>dropdown</td>\n",
       "      <td>Race</td>\n",
       "      <td>0, American Indian/Alaska Native|1, Asian|2, N...</td>\n",
       "      <td>NaN</td>\n",
       "      <td>NaN</td>\n",
       "      <td>NaN</td>\n",
       "      <td>NaN</td>\n",
       "      <td>NaN</td>\n",
       "      <td>NaN</td>\n",
       "      <td>NaN</td>\n",
       "      <td>NaN</td>\n",
       "      <td>NaN</td>\n",
       "      <td>NaN</td>\n",
       "      <td>NaN</td>\n",
       "      <td>NaN</td>\n",
       "    </tr>\n",
       "    <tr>\n",
       "      <th>gender</th>\n",
       "      <td>demographics</td>\n",
       "      <td>NaN</td>\n",
       "      <td>radio</td>\n",
       "      <td>Gender</td>\n",
       "      <td>0, Female|1, Male|2, Other|3, Prefer not to say</td>\n",
       "      <td>NaN</td>\n",
       "      <td>NaN</td>\n",
       "      <td>NaN</td>\n",
       "      <td>NaN</td>\n",
       "      <td>NaN</td>\n",
       "      <td>NaN</td>\n",
       "      <td>NaN</td>\n",
       "      <td>NaN</td>\n",
       "      <td>NaN</td>\n",
       "      <td>NaN</td>\n",
       "      <td>NaN</td>\n",
       "      <td>NaN</td>\n",
       "    </tr>\n",
       "  </tbody>\n",
       "</table>\n",
       "</div>"
      ],
      "text/plain": [
       "               form_name        section_header field_type    field_label  \\\n",
       "field_name                                                                 \n",
       "record_id   demographics                   NaN       text      Record ID   \n",
       "first_name  demographics  Personal Information       text     First Name   \n",
       "last_name   demographics                   NaN       text      Last Name   \n",
       "phone_num   demographics                   NaN       text   Phone Number   \n",
       "zip_code    demographics                   NaN       text       ZIP Code   \n",
       "dob         demographics                   NaN       text  Date of birth   \n",
       "age         demographics                   NaN       calc    Age (years)   \n",
       "ethnicity   demographics                   NaN      radio      Ethnicity   \n",
       "race        demographics                   NaN   dropdown           Race   \n",
       "gender      demographics                   NaN      radio         Gender   \n",
       "\n",
       "                               select_choices_or_calculations field_note  \\\n",
       "field_name                                                                 \n",
       "record_id                                                 NaN        NaN   \n",
       "first_name                                                NaN        NaN   \n",
       "last_name                                                 NaN        NaN   \n",
       "phone_num                                                 NaN        NaN   \n",
       "zip_code                                                  NaN        NaN   \n",
       "dob                                                       NaN        NaN   \n",
       "age                    rounddown(datediff([dob],'today','y'))        NaN   \n",
       "ethnicity   0, Hispanic or Latino|1, NOT Hispanic or Latin...        NaN   \n",
       "race        0, American Indian/Alaska Native|1, Asian|2, N...        NaN   \n",
       "gender        0, Female|1, Male|2, Other|3, Prefer not to say        NaN   \n",
       "\n",
       "           text_validation_type_or_show_slider_number  text_validation_min  \\\n",
       "field_name                                                                   \n",
       "record_id                                         NaN                  NaN   \n",
       "first_name                                        NaN                  NaN   \n",
       "last_name                                         NaN                  NaN   \n",
       "phone_num                                       phone                  NaN   \n",
       "zip_code                                      integer              10001.0   \n",
       "dob                                          date_mdy                  NaN   \n",
       "age                                               NaN                  NaN   \n",
       "ethnicity                                         NaN                  NaN   \n",
       "race                                              NaN                  NaN   \n",
       "gender                                            NaN                  NaN   \n",
       "\n",
       "           text_validation_max identifier branching_logic  required_field  \\\n",
       "field_name                                                                  \n",
       "record_id                  NaN        NaN             NaN             NaN   \n",
       "first_name                 NaN        NaN             NaN             NaN   \n",
       "last_name                  NaN        NaN             NaN             NaN   \n",
       "phone_num                  NaN        NaN             NaN             NaN   \n",
       "zip_code                 99999          y             NaN             NaN   \n",
       "dob                        NaN          y             NaN             NaN   \n",
       "age                        NaN        NaN             NaN             NaN   \n",
       "ethnicity                  NaN        NaN             NaN             NaN   \n",
       "race                       NaN        NaN             NaN             NaN   \n",
       "gender                     NaN        NaN             NaN             NaN   \n",
       "\n",
       "           custom_alignment  question_number  matrix_group_name  \\\n",
       "field_name                                                        \n",
       "record_id               NaN              NaN                NaN   \n",
       "first_name              NaN              NaN                NaN   \n",
       "last_name               NaN              NaN                NaN   \n",
       "phone_num               NaN              NaN                NaN   \n",
       "zip_code                NaN              NaN                NaN   \n",
       "dob                     NaN              NaN                NaN   \n",
       "age                     NaN              NaN                NaN   \n",
       "ethnicity                LH              NaN                NaN   \n",
       "race                    NaN              NaN                NaN   \n",
       "gender                  NaN              NaN                NaN   \n",
       "\n",
       "            matrix_ranking field_annotation  \n",
       "field_name                                   \n",
       "record_id              NaN              NaN  \n",
       "first_name             NaN              NaN  \n",
       "last_name              NaN              NaN  \n",
       "phone_num              NaN              NaN  \n",
       "zip_code               NaN              NaN  \n",
       "dob                    NaN              NaN  \n",
       "age                    NaN              NaN  \n",
       "ethnicity              NaN              NaN  \n",
       "race                   NaN              NaN  \n",
       "gender                 NaN              NaN  "
      ]
     },
     "execution_count": 22,
     "metadata": {},
     "output_type": "execute_result"
    }
   ],
   "source": [
    "project.export_metadata(format_type=\"df\").head(10)"
   ]
  },
  {
   "cell_type": "markdown",
   "metadata": {},
   "source": [
    ":::"
   ]
  }
 ],
 "metadata": {
  "kernelspec": {
   "display_name": "Python 3 (ipykernel)",
   "language": "python",
   "name": "python3"
  },
  "language_info": {
   "codemirror_mode": {
    "name": "ipython",
    "version": 3
   },
   "file_extension": ".py",
   "mimetype": "text/x-python",
   "name": "python",
   "nbconvert_exporter": "python",
   "pygments_lexer": "ipython3",
   "version": "3.12.2"
  }
 },
 "nbformat": 4,
 "nbformat_minor": 4
}
