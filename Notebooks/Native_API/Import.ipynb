{
 "cells": [
  {
   "cell_type": "markdown",
   "id": "45ea1f9a-9f35-4f05-b84d-2271ad981f1d",
   "metadata": {
    "jp-MarkdownHeadingCollapsed": true,
    "tags": []
   },
   "source": [
    "# Gathered Survey Data"
   ]
  },
  {
   "cell_type": "markdown",
   "id": "bf175fd0-30cd-42a8-a2e0-6665b94ad16f",
   "metadata": {},
   "source": [
    "## Records"
   ]
  },
  {
   "cell_type": "code",
   "execution_count": null,
   "id": "5be13c50-7e62-4854-bff8-b5f26ef581d1",
   "metadata": {},
   "outputs": [],
   "source": []
  },
  {
   "cell_type": "markdown",
   "id": "a017f1e5-7ae0-4d2f-8fac-9b4e6b7dcdbb",
   "metadata": {},
   "source": [
    "## Reports"
   ]
  },
  {
   "cell_type": "code",
   "execution_count": null,
   "id": "847659d0-94a0-43aa-9dcf-43305df7c88b",
   "metadata": {},
   "outputs": [],
   "source": []
  },
  {
   "cell_type": "markdown",
   "id": "4159a80c-a331-48af-ae66-e4014a813617",
   "metadata": {},
   "source": [
    "## Files - optional attachments to individual records"
   ]
  },
  {
   "cell_type": "code",
   "execution_count": null,
   "id": "6179c12d-ece0-4e78-8eb9-a5b028ac9618",
   "metadata": {},
   "outputs": [],
   "source": []
  },
  {
   "cell_type": "markdown",
   "id": "6b19d3e9-3a90-4d92-a2d4-dd707aed738d",
   "metadata": {
    "jp-MarkdownHeadingCollapsed": true,
    "tags": []
   },
   "source": [
    "# Survey Metadata"
   ]
  },
  {
   "cell_type": "markdown",
   "id": "43be4f7b-05d8-4c66-80f0-2a261a1a457e",
   "metadata": {},
   "source": [
    "## Metadata (generic)"
   ]
  },
  {
   "cell_type": "code",
   "execution_count": null,
   "id": "ffa156c4-f1ba-4709-bded-5a2b9f3d79d8",
   "metadata": {},
   "outputs": [],
   "source": []
  },
  {
   "cell_type": "markdown",
   "id": "020c5354-58b7-4e98-8030-f4d4bb7b64dc",
   "metadata": {},
   "source": [
    "## Field Names"
   ]
  },
  {
   "cell_type": "code",
   "execution_count": null,
   "id": "9546b87d-0555-4b32-95a3-15c03f51bd7b",
   "metadata": {},
   "outputs": [],
   "source": []
  },
  {
   "cell_type": "markdown",
   "id": "48ace334-5af0-4974-a281-b8b28630c957",
   "metadata": {},
   "source": [
    "## Forms/Instruments"
   ]
  },
  {
   "cell_type": "code",
   "execution_count": null,
   "id": "ed9e6ac4-3839-47a2-b803-8337b4588816",
   "metadata": {},
   "outputs": [],
   "source": []
  },
  {
   "cell_type": "markdown",
   "id": "ebc49c1e-54a1-4a31-bc81-01203563ac0a",
   "metadata": {},
   "source": [
    "## Instrument Event Map"
   ]
  },
  {
   "cell_type": "code",
   "execution_count": null,
   "id": "765a4222-df38-4b25-84c6-d7e66450052f",
   "metadata": {},
   "outputs": [],
   "source": []
  },
  {
   "cell_type": "markdown",
   "id": "385c2ee5-1d64-4426-b4cf-0e9602e14446",
   "metadata": {
    "jp-MarkdownHeadingCollapsed": true,
    "tags": []
   },
   "source": [
    "# Survery Settings and Other Information"
   ]
  },
  {
   "cell_type": "markdown",
   "id": "ed9d8999-1a9c-4a1b-b47f-b097b5206b32",
   "metadata": {},
   "source": [
    "## Users"
   ]
  },
  {
   "cell_type": "code",
   "execution_count": null,
   "id": "1f138e94-4262-49c1-ba11-4663e22ad630",
   "metadata": {},
   "outputs": [],
   "source": []
  },
  {
   "cell_type": "markdown",
   "id": "8462ea81-6107-47d8-855c-dc13aade5564",
   "metadata": {},
   "source": [
    "## User Roles"
   ]
  },
  {
   "cell_type": "code",
   "execution_count": null,
   "id": "2f9f0704-0774-47c0-8807-3ce4b693d13f",
   "metadata": {},
   "outputs": [],
   "source": []
  },
  {
   "cell_type": "markdown",
   "id": "2279f4ce-d7f4-490e-a6a7-2e8c5a0ff208",
   "metadata": {},
   "source": [
    "## Data Access Groups (DAGs)"
   ]
  },
  {
   "cell_type": "code",
   "execution_count": null,
   "id": "c1138b9d-3200-488c-b552-803715c9910b",
   "metadata": {},
   "outputs": [],
   "source": []
  },
  {
   "cell_type": "markdown",
   "id": "2b3e01aa-0997-4314-aa12-b4d89483c917",
   "metadata": {},
   "source": [
    "## Logging"
   ]
  },
  {
   "cell_type": "code",
   "execution_count": null,
   "id": "7f347609-cbdf-4a9e-aa24-7311c25a9679",
   "metadata": {},
   "outputs": [],
   "source": []
  }
 ],
 "metadata": {
  "kernelspec": {
   "display_name": "R [conda env:Rtransform23]",
   "language": "R",
   "name": "conda-env-Rtransform23-r"
  },
  "language_info": {
   "codemirror_mode": "r",
   "file_extension": ".r",
   "mimetype": "text/x-r-source",
   "name": "R",
   "pygments_lexer": "r",
   "version": "4.1.3"
  }
 },
 "nbformat": 4,
 "nbformat_minor": 5
}
