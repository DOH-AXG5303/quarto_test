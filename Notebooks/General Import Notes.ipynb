{
 "cells": [
  {
   "cell_type": "markdown",
   "id": "2954668a-bd48-49d3-ba29-06d559b37e39",
   "metadata": {},
   "source": [
    "# General Import notes (regardless of package used)"
   ]
  },
  {
   "cell_type": "markdown",
   "id": "44fc9d02-7864-4ec6-8c19-dc81a44bc566",
   "metadata": {},
   "source": [
    "### REDCap API native validations"
   ]
  },
  {
   "cell_type": "markdown",
   "id": "6e72e387-d83a-4665-a7fd-2d108c26fae9",
   "metadata": {},
   "source": [
    "**There are certain validations required for API import into REDCap, including:** <br>\n",
    "\n",
    "**Identifiers** <br>\n",
    "1. That there are no duplicates in the unique key. <br>\n",
    "    - Note: For PyCap, duplicates in the unique key will be automatically dropped during import (the first occurence of the duplicate will be uploaded) without any warning or error message prompt. Need to see if this is the case for REDCapR\n",
    "2. That if `redcap_repeat_instrument` is part of the unique key that its values are valid and associated with the correct event. <br>\n",
    "3. Exception for longitudinal projects with repeating events and no repeating instruments: Data exported form these projects will have the 'redcap_repeat_instrument' column with all values set to NA. This column is technically not needed in this type of project and API import will be accepted with (as long as all values are NA) or without it. \n",
    "\n",
    "**Data Structure** <br>\n",
    "1. That non-missing fields are in the correct instrument/event row (for longitudinal projects or projects with repeating instruments).\n",
    "2. That 'redcap_repeat_instance' is filled when required and missing when required (for projects with repeating events or instruments).\n",
    "3. That there are no extra columns in the data being imported that are not fields in the REDCap project.\n",
    "\n",
    "**Values** <br>\n",
    "1. Radio and Dropdown Fields\n",
    "    - That values are within the set of `select_choices_or_calculations` as defined in the metadata. <br>\n",
    "<br>\n",
    "2. Text Fields\n",
    "    - That numeric values only are present in numeric validation fields. <br>\n",
    "    - That integer values only are present in integer validation fields. <br>\n",
    "    - That date and datetime fields are in the YMD format (not sure about time fields?) (can be Y/M/D or Y-M-D). <br>\n",
    "    - That email fields have an 'something' + @ + 'something' + . + 'something' (does not check for valid domain names; multiple '.somethings' are accepted after @ symbol (e.g., @doh.wa.gov)). <br>\n",
    "    - That phone numbers have 10 digits and that the area code starts with digits 2-9 (can have ###-###-#### format or just ##########). <br>\n",
    "    - That zipcode fields have either 5 or 9 digits, and if 9 digits there is a hyphen after the 5th digit. <br>\n",
    "    - That 'Letters Only' text validation fields contain only letters (no spaces, numbers, or punctuation). <br>\n",
    "    - That there are only 10 digits in the fields with MRN 10 digit validation fields. <br>\n",
    "    - That there are only digits and '-' or '_ ' in fields with MRN generic validation fields. <br>\n",
    "<br>\n",
    "\n",
    "3. Slider Fields\n",
    "    - That slider field values are within the `text_validation_min` and `text_validation_max` range as defined in the metadata. <br>\n",
    "<br>\n",
    "5. Checkbox, True/False, Yes/No Fields\n",
    "   - Values must be 0 or 1 or missing. <br>\n",
    "<br>\n",
    "6. Text Box (no validation) and Notes box\n",
    "   - Values are less than 65,000 characters. <br> \n",
    "<br>  \n",
    "7. Calculated Fields\n",
    "   - Regardless of the value in the data attempting to be imported, REDCap will auto-calculate these fields (assuming all of the inputs to the calculation are available). The values being imported are ignored, even when the overwrite parameter is used. <br>\n",
    " <br> \n",
    "8. Files and Signature Fields\n",
    "   - Regardless of the value in the data attempting to be imported, REDCap will ignore these fields when importing records, even when the overwrite parameter is used.  All file-type field imports are done through a separate process. <br>\n",
    " <br> \n",
    "9. Dynamic Query Fields\n",
    "   - That values are within the dynamic query options (value options not exported in metadata). <br>\n",
    "  "
   ]
  },
  {
   "cell_type": "markdown",
   "id": "b899d5ba-099f-47c5-8857-3ead3d22ec2a",
   "metadata": {},
   "source": [
    "**There are certain validations NOT required for API import into REDCap these include:** <br>\n",
    "1. A 2nd instance of a repeating event or instrument can be uploaded without a first instance exisiting (in import data or existing project data).  <br>\n",
    "2. Data can be imported outside of the specified validation range for text fields with the following validation types: dates, times, datetimes, integers, and numbers. Recommendation is to run Data Quality rule D after import.\n",
    "3. Missing required fields can be imported. Recommendation is to run Data Quality rule B after upload.\n",
    "4. Incorrect calculated field values can be imported. Recommendation is to run Data Quality rule H after upload.\n",
    "5. Files and Signature fields can only be imported through the file import method, any data attempting to be imported using the record import method is ignored.\n",
    "6. Field values that violate the REDCap project branching logic can be imported via the API without issues, however, when you go to open that record in REDCap it will alert you to the invalid logic. "
   ]
  },
  {
   "cell_type": "markdown",
   "id": "9a37b020-799d-41b4-b160-9731386cf986",
   "metadata": {},
   "source": [
    "**Unexpected Behavior in API Import and REDCap Log**\n",
    "1. If data for an existing record is imported via the API but the incoming fields for that records are the same values as the fields already stored for that record in REDCap (no changes made). The redcap API import will run however, there will be no 'Update record (API)' action logged for this record.\n",
    "2. If a row containing a valid combination of unique fields but NA accross all other fields is imported via API, the import will run. However, this 'blank' record, will not be created in the REDCap project and there will be no Action logged in the REDCap log for this record. "
   ]
  },
  {
   "cell_type": "code",
   "execution_count": null,
   "id": "e4789c94-9b8c-4027-9e3c-9fc8bfb5d637",
   "metadata": {},
   "outputs": [],
   "source": []
  }
 ],
 "metadata": {
  "kernelspec": {
   "display_name": "Python 3 (ipykernel)",
   "language": "python",
   "name": "python3"
  },
  "language_info": {
   "codemirror_mode": {
    "name": "ipython",
    "version": 3
   },
   "file_extension": ".py",
   "mimetype": "text/x-python",
   "name": "python",
   "nbconvert_exporter": "python",
   "pygments_lexer": "ipython3",
   "version": "3.12.2"
  }
 },
 "nbformat": 4,
 "nbformat_minor": 5
}
