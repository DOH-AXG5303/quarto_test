{
 "cells": [
  {
   "cell_type": "markdown",
   "id": "2373d074-a2a5-46b7-85b0-37965988bdf2",
   "metadata": {
    "tags": []
   },
   "source": [
    "# Table of Contents\n",
    "\n",
    "1. <a href=\"#REDCap-Overview\">REDCap Overview</a>  \n",
    "    1a. <a href=\"#Definitions\">Definitions</a>  \n",
    "    1b. <a href=\"#REDCap-Data-Building-Blocks\">REDCap Data Building Blocks</a>  \n",
    "2. <a href=\"#Exporting-From-REDCap\">Exporting From REDCap</a>  \n",
    "    2a. <a href=\"#Exporting-Records\">Exporting Records</a></n>  \n",
    "    2b. <a href=\"#Understanding-Data-Structure\">Understanding Data Structure</a></n><br>\n",
    "    2c. <a href=\"#Export-Data-In-Batches\">Export Data In Batches</a></n>  \n",
    "    2d. <a href=\"#Filtering-Exported-Records\">Filtering Exported Records</a></n>  \n",
    "4. <a href=\"#Reports\">Reports</a></n>  \n",
    "5. <a href=\"#Files:-Optional-Attachments-to-Individual-Records\">Files: Optional Attachments to Individual Records</a></n>  \n",
    "6. <a href=\"#Survey-Metadata\">Survey Metadata</a></n>  \n",
    "7. <a href=\"#Field-Names\">Field Names</a></n>     \n",
    "8. <a href=\"#Forms-and-Instruments\">Forms and Instruments</a></n>  \n",
    "    7a. <a href=\"#Instrument-Names-and-Corresponding-Labels\">Instrument Names and Corresponding Labels</a></n>  \n",
    "    7b. <a href=\"#Download-PDF-of-Instruments\">Download PDF of Instruments</a></n>  \n",
    "9. <a href=\"#Instrument-Event-Map\">Instrument Event Map</a></n>  \n",
    "10. <a href=\"#Survey-Settings-and-Other-Information\">Survey Settings and Other Information</a></n>  \n",
    "    9a. <a href=\"#Users-and-User-Roles\">Users and User Roles</a></n>  \n",
    "    9b. <a href=\"#Data-Access-Groups-(DAGs)\">Data Access Groups (DAGs)</a></n>  \n",
    "    9c. <a href=\"#Logging\">Logging</a></n>  \n",
    "    9d. <a href=\"#Survey-Link\">Survey Link</a></n>  \n",
    "    9e. <a href=\"#REDCap-Version\">REDCap Version</a></n>  \n",
    "11. <a href=\"#Appendix\">Appendix</a></n>  \n",
    "    10a. <a href=\"#Example-REDCap-Projects-and-Data-Structures\">Example REDCap Projects and Data Structures</a></n>  \n",
    "    10b. <a href=\"#Indexing\">Indexing</a></n>  \n",
    "    10c. <a href=\"#Filtering-Data-Using-REDCapR-Functions\">Filtering Data Using REDCapR Functions</a></n>  \n",
    "    10d. <a href=\"#Filtering-Data-Using-R\">Filtering Data Using R</a></n>  \n",
    "    10e. <a href=\"#Other-Functions-for-Exporting-REDCap-Records\">Other Functions for Exporting REDCap Records</a></n>  \n",
    "    10f. <a href=\"#Metadata-(generic)\">Metadata (generic)</a></n>  \n",
    "    10g. <a href=\"#REDCap-Constants\">REDCap Constants</a></n>  \n",
    "    "
   ]
  },
  {
   "cell_type": "markdown",
   "id": "04f4099e-2339-4385-abf6-4369521fa68b",
   "metadata": {},
   "source": [
    "# REDCap Overview"
   ]
  },
  {
   "cell_type": "markdown",
   "id": "ca12adae-e96b-4db3-9ea4-1347163010a4",
   "metadata": {},
   "source": [
    "REDCap is a web-based application developed by Vanderbilt University to capture data for clinical research and create databases and projects. REDCap revolutionizes the survey development process and empowers users to rapidly create surveys tailored to their specific public health needs. REDCap allows the main administrator of a project to assign specific rights to individuals to access data and create reports. REDCap also provides clear audit trails for tracking the history of data entry and revision. *For more information, see the Daily Dose article on REDCap [here.](https://stateofwa.sharepoint.com/sites/DOH-dailydose/SitePages/Welcome-to-REDCap,-your-tool-for-public-health-data-management-success!.aspx?xsdata=MDV8MDJ8fDY0MjMzNWIyOTQwZjQzNjk0MTRlMDhkYzAwYzYyNjg4fDExZDBlMjE3MjY0ZTQwMGE4YmEwNTdkY2MxMjdkNzJkfDB8MHw2MzgzODYwOTgyMjk3NTYyMzh8VW5rbm93bnxWR1ZoYlhOVFpXTjFjbWwwZVZObGNuWnBZMlY4ZXlKV0lqb2lNQzR3TGpBd01EQWlMQ0pRSWpvaVYybHVNeklpTENKQlRpSTZJazkwYUdWeUlpd2lWMVFpT2pFeGZRPT18MXxMMk5vWVhSekx6RTVPbTFsWlhScGJtZGZUMGRTYkU1RVZtcE5iVVYwVDFSTk5WcHBNREJhYWxrd1RGZEthMDFVUlhSYWFrVjRUbnBzYWs5RVJtcGFSRnBwUUhSb2NtVmhaQzUyTWk5dFpYTnpZV2RsY3k4eE56QXpNREV6TURBMk9URTJ8OWEzZGY2NTg0MTgwNDE5OTQxNGUwOGRjMDBjNjI2ODh8MjI0NGZhYzdiNjc5NGI2YmFhMjU4NDg4NGQ1MGViMTU%3D&sdata=THg5c1g2dy9FajR5RmpMNXBsRUtCWDRKQTZqYUF6eEQyMUJ1dVM2WTVjaz0%3D&ovuser=11d0e217-264e-400a-8ba0-57dcc127d72d%2CEmily.Pearman%40doh.wa.gov&OR=Teams-HL&CT=1703015604587&clickparams=eyJBcHBOYW1lIjoiVGVhbXMtRGVza3RvcCIsIkFwcFZlcnNpb24iOiIyNy8yMzExMDIyNDcwNSIsIkhhc0ZlZGVyYXRlZFVzZXIiOmZhbHNlfQ%3D%3D)*"
   ]
  },
  {
   "cell_type": "markdown",
   "id": "451ae0c8-6adc-450e-851c-63193a9b3a4a",
   "metadata": {},
   "source": [
    "## Definitions"
   ]
  },
  {
   "cell_type": "markdown",
   "id": "56fbecf0-5570-401b-8d1c-da3ad4cc3af9",
   "metadata": {},
   "source": [
    "### Records\n",
    "\n",
    "Records are the set of information for a unique participant. Each record is composed of a number of fields (pieces of data), which can be spread across multiple instruments per record.  \n",
    "\n",
    "Exporting records returns all of the data entered into the record(s) of interest. By default, all records in the project will be returned. A subset of records can be specified.  \n",
    "\n",
    "The labels for the questions can be exported rather than the variable names. Similarly, the labels for the data entered can be exported instead of the corresponding raw numeric values that REDCap uses. "
   ]
  },
  {
   "cell_type": "markdown",
   "id": "2da7f12f-55ba-4c31-87b4-bc613be6ca6d",
   "metadata": {},
   "source": [
    "### Fields\n",
    "\n",
    "Fields are the individual places where data can be recorded (e.g., a question on a survey).  \n",
    "\n",
    "Exporting field names will capture the variable name, choice values (when applicable; e.g., for checkbox fields), and the modified export field name with the choice value appended. "
   ]
  },
  {
   "cell_type": "markdown",
   "id": "420008ec-4ca6-4a0b-ac69-33960be9d475",
   "metadata": {},
   "source": [
    "### Instruments/Forms\n",
    "\n",
    "Instruments are a collection of fields to collect data. Instruments may be referred to as \"forms\" when being filled out by a project user or a \"survey\" when being filled out by external users (via a web link or email invitation). \n",
    "\n",
    "Instruments may be repeating or non-repeating and can be in either longitudinal or non-longitudinal projects. Repeating instruments can be set up to repeat a defined number of times or repeat an indefinite number of times. Each repeat is called an “instance”."
   ]
  },
  {
   "cell_type": "markdown",
   "id": "cc4900ce-a083-4583-9b48-2c641865f4b6",
   "metadata": {},
   "source": [
    "### Events\n",
    "\n",
    "Events are required when a project is enabled as longitudinal. An event may be a temporal event during your longitudinal project, such as a participant visit or a task to be performed. The default is 1 event. Once a project is enabled as longitudinal, each instrument must be associated with an event. \n",
    "\n",
    "Events may be repeating or non-repeating. When an event is set to repeating, all the instruments in that event will be repeated together. You can also specify to have specific instrument independtly repeat within an event. Each repeat of an Event or independent instrument is called an “instance”."
   ]
  },
  {
   "cell_type": "markdown",
   "id": "9a05f344-208e-4cea-b661-2877febb0f48",
   "metadata": {},
   "source": [
    "### Arms\n",
    "\n",
    "Events can be grouped into 'arms'. There may be one or more arms for a project. Arms can be though of as different groups in a clinical trial (e.g., a test group and a control group). Each arm can have as many events as you wish. Each arm can have the same events or different events with different instruments. The default is 1 arm."
   ]
  },
  {
   "cell_type": "markdown",
   "id": "ac7093f8-5016-496b-940a-cb5d84b8a4e1",
   "metadata": {},
   "source": [
    "### Metadata\n",
    "\n",
    "Metadata refers to the project's set up characteristics, including field attributes grouped by instrument assignment. Metadata can be thought of as the project's data dictionary."
   ]
  },
  {
   "cell_type": "markdown",
   "id": "75fa8360-751f-411b-87ad-8297e9028906",
   "metadata": {},
   "source": [
    "### Reports\n",
    "\n",
    "Reports are a good way to view data from multiple records at once. REDCap has two default reports (A & B) and additional custom reports can be created. Report A displays all data for all records, while Report B can be customized to display data from specified instruments or events. Data can be exported from custom reports using the auto-generated report ID number.   "
   ]
  },
  {
   "cell_type": "markdown",
   "id": "cb5bb68e-7fbb-4c73-803f-152407a812ae",
   "metadata": {},
   "source": [
    "## REDCap Data Building Blocks"
   ]
  },
  {
   "cell_type": "markdown",
   "id": "b87a2eda-e689-4b2f-a723-bff4ec866fd9",
   "metadata": {},
   "source": [
    "<img src=\"../files/REDCap API Tutorial - Building Blocks.png\" width=900/>"
   ]
  },
  {
   "cell_type": "markdown",
   "id": "8a3f0153-1d0b-4e02-be05-daf4d09c6c0b",
   "metadata": {},
   "source": [
    "*For examples of REDCap project set-ups and exported data, see <a href=\"#Example-REDCap-Projects-and-Data-Structures\">Example REDCap Projects and Data Structures</a>.*"
   ]
  },
  {
   "cell_type": "markdown",
   "id": "517f2461-d1b6-432b-b017-a138a3c1f234",
   "metadata": {
    "tags": []
   },
   "source": [
    "### Understanding the Data Structure"
   ]
  },
  {
   "cell_type": "markdown",
   "id": "963c2604-d61b-444e-889b-699f9ed5df05",
   "metadata": {},
   "source": [
    "#### Repeating Events and Independently Repeating Instruments"
   ]
  },
  {
   "cell_type": "markdown",
   "id": "54bcb9ba-291c-4f03-bdeb-245afe4f0060",
   "metadata": {},
   "source": [
    "Assuming no repeating instruments or events, there is one row per record in non-longitudinal projects and one row per record-event in longitudinal projects. In the case of independently repeating instruments and repeating events, there is one additional row per repeat instance per record. Each row has all fields across all instruments, but the fields (columns) not associated with the instruments for that event (rows) will be NA. *For visual examples of REDCap project set-ups, see <a href=\"#Example-REDCap-Projects-and-Data-Structures\">Example REDCap Projects and Data Structures</a>.*"
   ]
  },
  {
   "cell_type": "markdown",
   "id": "44572395-9810-4455-891b-6b7b90917379",
   "metadata": {},
   "source": [
    "To get a full picture of your project format, you need to look at the 1) instrument event mapping (in the case of a longitudinal project) to see which instruments are associated with which events and 2) which instruments/events are repeating. This quide will show you how to get each of these via API export."
   ]
  },
  {
   "cell_type": "markdown",
   "id": "76ee54ca-d8e0-4222-9787-0196d475e56a",
   "metadata": {
    "scrolled": true,
    "tags": []
   },
   "source": [
    "Regardless of how you choose to export REDCap project data (directly in REDCap or using an API), the data strucutre will be the same. Here is an example of the data strucutre for the REDCap project we will be using in this tutorial. "
   ]
  },
  {
   "cell_type": "markdown",
   "id": "489852f1-2f96-4557-9065-84e855b65ec9",
   "metadata": {
    "tags": []
   },
   "source": [
    "# Exporting From REDCap"
   ]
  },
  {
   "cell_type": "markdown",
   "id": "06dc71bd-a664-4f2e-9a86-9deae9a48350",
   "metadata": {},
   "source": [
    "Install and load the necessary packages"
   ]
  },
  {
   "cell_type": "code",
   "execution_count": null,
   "id": "1dec2bf7-4881-4402-82a1-41c648c3afe3",
   "metadata": {},
   "outputs": [],
   "source": [
    "install.packages(c(\"dplyr\", \"jsonlite\", \"tidyr\"))"
   ]
  },
  {
   "cell_type": "code",
   "execution_count": 1,
   "id": "dcb9f741-0b26-438d-90bc-3bd1e49ed231",
   "metadata": {
    "tags": []
   },
   "outputs": [
    {
     "name": "stderr",
     "output_type": "stream",
     "text": [
      "\n",
      "Attaching package: 'dplyr'\n",
      "\n",
      "\n",
      "The following objects are masked from 'package:stats':\n",
      "\n",
      "    filter, lag\n",
      "\n",
      "\n",
      "The following objects are masked from 'package:base':\n",
      "\n",
      "    intersect, setdiff, setequal, union\n",
      "\n",
      "\n"
     ]
    }
   ],
   "source": [
    "library(\"dplyr\")\n",
    "library(\"jsonlite\")\n",
    "library(\"tidyr\")"
   ]
  },
  {
   "cell_type": "markdown",
   "id": "d1d23ba3-932c-4529-af4e-7d2b99ed429c",
   "metadata": {},
   "source": [
    "In this example we will use the bleeding edge version of REDCapR available on Github"
   ]
  },
  {
   "cell_type": "code",
   "execution_count": 14,
   "id": "afcebd81-7805-448e-a539-8e987dd4bc82",
   "metadata": {
    "tags": []
   },
   "outputs": [
    {
     "name": "stdout",
     "output_type": "stream",
     "text": [
      "\n",
      "  There is a binary version available but the source version is later:\n",
      "        binary  source needs_compilation\n",
      "remotes  2.4.2 2.4.2.1             FALSE\n",
      "\n"
     ]
    },
    {
     "name": "stderr",
     "output_type": "stream",
     "text": [
      "installing the source package 'remotes'\n",
      "\n",
      "\n"
     ]
    }
   ],
   "source": [
    "# Install the 'remotes' package to install latest version of REDCapR from GitHub \n",
    "install.packages(\"remotes\")\n",
    "library(remotes)"
   ]
  },
  {
   "cell_type": "code",
   "execution_count": 54,
   "id": "9ec61b55-9dfc-400e-ac5b-baa128cf6925",
   "metadata": {},
   "outputs": [
    {
     "name": "stderr",
     "output_type": "stream",
     "text": [
      "Downloading GitHub repo OuhscBbmc/REDCapR@HEAD\n",
      "\n"
     ]
    },
    {
     "name": "stdout",
     "output_type": "stream",
     "text": [
      "openssl (2.0.6 -> 2.1.1) [CRAN]\n",
      "curl    (5.0.0 -> 5.2.0) [CRAN]\n",
      "readr   (2.1.4 -> 2.1.5) [CRAN]\n"
     ]
    },
    {
     "name": "stderr",
     "output_type": "stream",
     "text": [
      "Installing 3 packages: openssl, curl, readr\n",
      "\n"
     ]
    },
    {
     "name": "stdout",
     "output_type": "stream",
     "text": [
      "\n",
      "  There are binary versions available but the source versions are later:\n",
      "        binary source needs_compilation\n",
      "openssl  2.0.6  2.1.1              TRUE\n",
      "curl     5.0.0  5.2.0              TRUE\n",
      "readr    2.1.4  2.1.5              TRUE\n",
      "\n",
      "  Binaries will be installed\n",
      "package 'openssl' successfully unpacked and MD5 sums checked\n",
      "package 'curl' successfully unpacked and MD5 sums checked\n",
      "package 'readr' successfully unpacked and MD5 sums checked\n",
      "\n",
      "The downloaded binary packages are in\n",
      "\tC:\\Users\\CMD3303\\AppData\\Local\\Temp\\RtmpgNCbr2\\downloaded_packages\n"
     ]
    },
    {
     "name": "stderr",
     "output_type": "stream",
     "text": [
      "Running `R CMD build`...\n",
      "\n"
     ]
    },
    {
     "name": "stdout",
     "output_type": "stream",
     "text": [
      "* checking for file 'C:\\Users\\CMD3303\\AppData\\Local\\Temp\\RtmpgNCbr2\\remotesb9f03cd33c6b\\OuhscBbmc-REDCapR-ac06de0/DESCRIPTION' ... OK\n",
      "* preparing 'REDCapR':\n",
      "* checking DESCRIPTION meta-information ... OK\n",
      "* checking for LF line-endings in source and make files and shell scripts\n",
      "* checking for empty or unneeded directories\n",
      "Removed empty directory 'REDCapR/documentation-for-developers'\n",
      "Removed empty directory 'REDCapR/playgrounds'\n",
      "Removed empty directory 'REDCapR/utility'\n",
      "* building 'REDCapR_1.1.9005.tar.gz'\n"
     ]
    }
   ],
   "source": [
    "# Detach REDCapR if already loaded, and download the latest version\n",
    "detach(\"package:REDCapR\", unload=TRUE)\n",
    "remotes::install_github(\"OuhscBbmc/REDCapR\")\n",
    "library(\"REDCapR\")"
   ]
  },
  {
   "cell_type": "code",
   "execution_count": 2,
   "id": "3c1df8c3-df58-4224-8a3c-fbaa5d1bf89a",
   "metadata": {
    "tags": []
   },
   "outputs": [],
   "source": [
    "options(repr.matrix.max.cols=30)"
   ]
  },
  {
   "cell_type": "markdown",
   "id": "d9957cc1-07e1-41c8-9f2c-6450c535339d",
   "metadata": {},
   "source": [
    "Assign your project URL and Token"
   ]
  },
  {
   "cell_type": "code",
   "execution_count": 3,
   "id": "af3a7d24-b7a0-4ad6-9454-7cb46239f7c8",
   "metadata": {
    "tags": []
   },
   "outputs": [],
   "source": [
    "# DEV instance URL\n",
    "url <- \"https://dev-redcap.doh.wa.gov/api/\"\n",
    "\n",
    "# study with one arm and repeat events and instruments\n",
    "token <- jsonlite::fromJSON('json_api_data.json')$dev_token$'262'"
   ]
  },
  {
   "cell_type": "markdown",
   "id": "b5b41a22-3d28-4ce3-b9b2-070e4b232c27",
   "metadata": {},
   "source": [
    "#### Notes on REDCap Data Types and API Exports\n",
    "\n",
    "##### Standard Field Types\n",
    "- text\n",
    "- radio\n",
    "- dropdown\n",
    "- file\n",
    "- descriptive\n",
    "- notes\n",
    "- yesno\n",
    "- checkbox\n",
    "\n",
    "##### Non-Standard Field types\n",
    "- instrument_name_complete  \n",
    "\n",
    "\n",
    "\n",
    "In addition to the standard types, each instrument (form) has a column to indicate if the instrument is complete/incomplete/unverified. *See <a href=\"#REDCap-Constants\">REDCap Constants</a> for more information.* The instrument_name_complete field is exported via standard API call.  \n",
    "\n",
    "\n",
    "##### API Export Records (default settings)\n",
    "- text\n",
    "- radio\n",
    "- dropdown\n",
    "- file\n",
    "- <s> descriptive*\n",
    "- notes\n",
    "- yesno\n",
    "- checkbox\n",
    "- instrument_name_complete\n",
    "\n",
    "\n",
    "*\"descriptive\" field type is NOT exported"
   ]
  },
  {
   "cell_type": "markdown",
   "id": "3f652d9e-3450-4732-8297-e7a5f58221fb",
   "metadata": {},
   "source": [
    "## Exporting Records"
   ]
  },
  {
   "cell_type": "markdown",
   "id": "a29a6b75-600a-47c7-8816-675b9391cf8c",
   "metadata": {
    "tags": []
   },
   "source": [
    "### Export records using `redcap_read_oneshot`"
   ]
  },
  {
   "cell_type": "markdown",
   "id": "b709b13f-dfab-47c4-a5ae-82c6e3fc636f",
   "metadata": {},
   "source": [
    "#### Exporting Raw Data"
   ]
  },
  {
   "cell_type": "code",
   "execution_count": 60,
   "id": "e6e27826-49dd-4de3-9f9c-288e6128b186",
   "metadata": {
    "tags": []
   },
   "outputs": [
    {
     "name": "stderr",
     "output_type": "stream",
     "text": [
      "31 records and 48 columns were read from REDCap in 1.5 seconds.  The http status code was 200.\n",
      "\n"
     ]
    }
   ],
   "source": [
    "Data <- redcap_read_oneshot(\n",
    "    redcap_uri = url, \n",
    "    token = token\n",
    ")$data"
   ]
  },
  {
   "cell_type": "code",
   "execution_count": 61,
   "id": "710c4abf-4b36-4fe0-bebf-0df370ffa539",
   "metadata": {
    "tags": []
   },
   "outputs": [
    {
     "data": {
      "text/html": [
       "<table class=\"dataframe\">\n",
       "<caption>A tibble: 6 × 48</caption>\n",
       "<thead>\n",
       "\t<tr><th scope=col>record_id</th><th scope=col>redcap_event_name</th><th scope=col>redcap_repeat_instrument</th><th scope=col>redcap_repeat_instance</th><th scope=col>first_name</th><th scope=col>last_name</th><th scope=col>phone_num</th><th scope=col>zip_code</th><th scope=col>dob</th><th scope=col>age</th><th scope=col>ethnicity</th><th scope=col>race</th><th scope=col>gender</th><th scope=col>demographics_complete</th><th scope=col>symptoms_yesno</th><th scope=col>...</th><th scope=col>prior_covid_yesno</th><th scope=col>prior_covid_date</th><th scope=col>test_information_complete</th><th scope=col>cc_name</th><th scope=col>cc_date</th><th scope=col>cc_phone</th><th scope=col>cc_email</th><th scope=col>close_contacts_complete</th><th scope=col>supervisor_name</th><th scope=col>supervisor_email</th><th scope=col>work_inperson_yesno</th><th scope=col>work_date</th><th scope=col>work_contagious</th><th scope=col>work_contagious_calc</th><th scope=col>work_information_complete</th></tr>\n",
       "\t<tr><th scope=col>&lt;dbl&gt;</th><th scope=col>&lt;chr&gt;</th><th scope=col>&lt;chr&gt;</th><th scope=col>&lt;dbl&gt;</th><th scope=col>&lt;chr&gt;</th><th scope=col>&lt;chr&gt;</th><th scope=col>&lt;chr&gt;</th><th scope=col>&lt;dbl&gt;</th><th scope=col>&lt;date&gt;</th><th scope=col>&lt;dbl&gt;</th><th scope=col>&lt;dbl&gt;</th><th scope=col>&lt;dbl&gt;</th><th scope=col>&lt;dbl&gt;</th><th scope=col>&lt;dbl&gt;</th><th scope=col>&lt;dbl&gt;</th><th scope=col>...</th><th scope=col>&lt;dbl&gt;</th><th scope=col>&lt;date&gt;</th><th scope=col>&lt;dbl&gt;</th><th scope=col>&lt;chr&gt;</th><th scope=col>&lt;date&gt;</th><th scope=col>&lt;chr&gt;</th><th scope=col>&lt;chr&gt;</th><th scope=col>&lt;dbl&gt;</th><th scope=col>&lt;chr&gt;</th><th scope=col>&lt;chr&gt;</th><th scope=col>&lt;dbl&gt;</th><th scope=col>&lt;date&gt;</th><th scope=col>&lt;dbl&gt;</th><th scope=col>&lt;lgl&gt;</th><th scope=col>&lt;dbl&gt;</th></tr>\n",
       "</thead>\n",
       "<tbody>\n",
       "\t<tr><td>1</td><td>personal_info_arm_1</td><td>NA            </td><td>NA</td><td>John</td><td>Doe</td><td>(999) 999-9999</td><td>98105</td><td>2004-12-05</td><td>18</td><td> 1</td><td> 4</td><td> 1</td><td> 2</td><td>NA</td><td>...</td><td>NA</td><td>NA</td><td>NA</td><td>NA              </td><td>NA</td><td>NA            </td><td>NA                  </td><td>NA</td><td>NA  </td><td>NA</td><td>NA</td><td>NA</td><td>NA</td><td>NA</td><td>NA</td></tr>\n",
       "\t<tr><td>1</td><td>notifications_arm_1</td><td>NA            </td><td>NA</td><td>NA  </td><td>NA </td><td>NA            </td><td>   NA</td><td>NA</td><td>NA</td><td>NA</td><td>NA</td><td>NA</td><td>NA</td><td>NA</td><td>...</td><td>NA</td><td>NA</td><td>NA</td><td>NA              </td><td>NA</td><td>NA            </td><td>NA                  </td><td>NA</td><td>Boss</td><td>NA</td><td> 0</td><td>NA</td><td> 0</td><td>NA</td><td> 2</td></tr>\n",
       "\t<tr><td>1</td><td>case_intake_arm_1  </td><td>NA            </td><td> 1</td><td>NA  </td><td>NA </td><td>NA            </td><td>   NA</td><td>NA</td><td>NA</td><td>NA</td><td>NA</td><td>NA</td><td> 0</td><td> 1</td><td>...</td><td> 0</td><td>NA</td><td> 2</td><td>NA              </td><td>NA</td><td>NA            </td><td>NA                  </td><td>NA</td><td>NA  </td><td>NA</td><td>NA</td><td>NA</td><td>NA</td><td>NA</td><td>NA</td></tr>\n",
       "\t<tr><td>1</td><td>notifications_arm_1</td><td>close_contacts</td><td> 1</td><td>NA  </td><td>NA </td><td>NA            </td><td>   NA</td><td>NA</td><td>NA</td><td>NA</td><td>NA</td><td>NA</td><td>NA</td><td>NA</td><td>...</td><td>NA</td><td>NA</td><td>NA</td><td>Jane Doe        </td><td>2023-10-09</td><td>(999) 999-9999</td><td>fake_email@gmail.com</td><td> 2</td><td>NA  </td><td>NA</td><td>NA</td><td>NA</td><td>NA</td><td>NA</td><td>NA</td></tr>\n",
       "\t<tr><td>1</td><td>notifications_arm_1</td><td>close_contacts</td><td> 2</td><td>NA  </td><td>NA </td><td>NA            </td><td>   NA</td><td>NA</td><td>NA</td><td>NA</td><td>NA</td><td>NA</td><td>NA</td><td>NA</td><td>...</td><td>NA</td><td>NA</td><td>NA</td><td>Johnny Appleseed</td><td>2023-10-08</td><td>(999) 999-9999</td><td>fake_email@gmail.com</td><td> 2</td><td>NA  </td><td>NA</td><td>NA</td><td>NA</td><td>NA</td><td>NA</td><td>NA</td></tr>\n",
       "\t<tr><td>2</td><td>personal_info_arm_1</td><td>NA            </td><td>NA</td><td>Jane</td><td>Doe</td><td>(999) 999-9999</td><td>98105</td><td>1995-06-29</td><td>28</td><td> 0</td><td> 5</td><td> 0</td><td> 2</td><td>NA</td><td>...</td><td>NA</td><td>NA</td><td>NA</td><td>NA              </td><td>NA</td><td>NA            </td><td>NA                  </td><td>NA</td><td>NA  </td><td>NA</td><td>NA</td><td>NA</td><td>NA</td><td>NA</td><td>NA</td></tr>\n",
       "</tbody>\n",
       "</table>\n"
      ],
      "text/latex": [
       "A tibble: 6 × 48\n",
       "\\begin{tabular}{lllllllllllllllllllllllllllllll}\n",
       " record\\_id & redcap\\_event\\_name & redcap\\_repeat\\_instrument & redcap\\_repeat\\_instance & first\\_name & last\\_name & phone\\_num & zip\\_code & dob & age & ethnicity & race & gender & demographics\\_complete & symptoms\\_yesno & ... & prior\\_covid\\_yesno & prior\\_covid\\_date & test\\_information\\_complete & cc\\_name & cc\\_date & cc\\_phone & cc\\_email & close\\_contacts\\_complete & supervisor\\_name & supervisor\\_email & work\\_inperson\\_yesno & work\\_date & work\\_contagious & work\\_contagious\\_calc & work\\_information\\_complete\\\\\n",
       " <dbl> & <chr> & <chr> & <dbl> & <chr> & <chr> & <chr> & <dbl> & <date> & <dbl> & <dbl> & <dbl> & <dbl> & <dbl> & <dbl> & ... & <dbl> & <date> & <dbl> & <chr> & <date> & <chr> & <chr> & <dbl> & <chr> & <chr> & <dbl> & <date> & <dbl> & <lgl> & <dbl>\\\\\n",
       "\\hline\n",
       "\t 1 & personal\\_info\\_arm\\_1 & NA             & NA & John & Doe & (999) 999-9999 & 98105 & 2004-12-05 & 18 &  1 &  4 &  1 &  2 & NA & ... & NA & NA & NA & NA               & NA & NA             & NA                   & NA & NA   & NA & NA & NA & NA & NA & NA\\\\\n",
       "\t 1 & notifications\\_arm\\_1 & NA             & NA & NA   & NA  & NA             &    NA & NA & NA & NA & NA & NA & NA & NA & ... & NA & NA & NA & NA               & NA & NA             & NA                   & NA & Boss & NA &  0 & NA &  0 & NA &  2\\\\\n",
       "\t 1 & case\\_intake\\_arm\\_1   & NA             &  1 & NA   & NA  & NA             &    NA & NA & NA & NA & NA & NA &  0 &  1 & ... &  0 & NA &  2 & NA               & NA & NA             & NA                   & NA & NA   & NA & NA & NA & NA & NA & NA\\\\\n",
       "\t 1 & notifications\\_arm\\_1 & close\\_contacts &  1 & NA   & NA  & NA             &    NA & NA & NA & NA & NA & NA & NA & NA & ... & NA & NA & NA & Jane Doe         & 2023-10-09 & (999) 999-9999 & fake\\_email@gmail.com &  2 & NA   & NA & NA & NA & NA & NA & NA\\\\\n",
       "\t 1 & notifications\\_arm\\_1 & close\\_contacts &  2 & NA   & NA  & NA             &    NA & NA & NA & NA & NA & NA & NA & NA & ... & NA & NA & NA & Johnny Appleseed & 2023-10-08 & (999) 999-9999 & fake\\_email@gmail.com &  2 & NA   & NA & NA & NA & NA & NA & NA\\\\\n",
       "\t 2 & personal\\_info\\_arm\\_1 & NA             & NA & Jane & Doe & (999) 999-9999 & 98105 & 1995-06-29 & 28 &  0 &  5 &  0 &  2 & NA & ... & NA & NA & NA & NA               & NA & NA             & NA                   & NA & NA   & NA & NA & NA & NA & NA & NA\\\\\n",
       "\\end{tabular}\n"
      ],
      "text/markdown": [
       "\n",
       "A tibble: 6 × 48\n",
       "\n",
       "| record_id &lt;dbl&gt; | redcap_event_name &lt;chr&gt; | redcap_repeat_instrument &lt;chr&gt; | redcap_repeat_instance &lt;dbl&gt; | first_name &lt;chr&gt; | last_name &lt;chr&gt; | phone_num &lt;chr&gt; | zip_code &lt;dbl&gt; | dob &lt;date&gt; | age &lt;dbl&gt; | ethnicity &lt;dbl&gt; | race &lt;dbl&gt; | gender &lt;dbl&gt; | demographics_complete &lt;dbl&gt; | symptoms_yesno &lt;dbl&gt; | ... ... | prior_covid_yesno &lt;dbl&gt; | prior_covid_date &lt;date&gt; | test_information_complete &lt;dbl&gt; | cc_name &lt;chr&gt; | cc_date &lt;date&gt; | cc_phone &lt;chr&gt; | cc_email &lt;chr&gt; | close_contacts_complete &lt;dbl&gt; | supervisor_name &lt;chr&gt; | supervisor_email &lt;chr&gt; | work_inperson_yesno &lt;dbl&gt; | work_date &lt;date&gt; | work_contagious &lt;dbl&gt; | work_contagious_calc &lt;lgl&gt; | work_information_complete &lt;dbl&gt; |\n",
       "|---|---|---|---|---|---|---|---|---|---|---|---|---|---|---|---|---|---|---|---|---|---|---|---|---|---|---|---|---|---|---|\n",
       "| 1 | personal_info_arm_1 | NA             | NA | John | Doe | (999) 999-9999 | 98105 | 2004-12-05 | 18 |  1 |  4 |  1 |  2 | NA | ... | NA | NA | NA | NA               | NA | NA             | NA                   | NA | NA   | NA | NA | NA | NA | NA | NA |\n",
       "| 1 | notifications_arm_1 | NA             | NA | NA   | NA  | NA             |    NA | NA | NA | NA | NA | NA | NA | NA | ... | NA | NA | NA | NA               | NA | NA             | NA                   | NA | Boss | NA |  0 | NA |  0 | NA |  2 |\n",
       "| 1 | case_intake_arm_1   | NA             |  1 | NA   | NA  | NA             |    NA | NA | NA | NA | NA | NA |  0 |  1 | ... |  0 | NA |  2 | NA               | NA | NA             | NA                   | NA | NA   | NA | NA | NA | NA | NA | NA |\n",
       "| 1 | notifications_arm_1 | close_contacts |  1 | NA   | NA  | NA             |    NA | NA | NA | NA | NA | NA | NA | NA | ... | NA | NA | NA | Jane Doe         | 2023-10-09 | (999) 999-9999 | fake_email@gmail.com |  2 | NA   | NA | NA | NA | NA | NA | NA |\n",
       "| 1 | notifications_arm_1 | close_contacts |  2 | NA   | NA  | NA             |    NA | NA | NA | NA | NA | NA | NA | NA | ... | NA | NA | NA | Johnny Appleseed | 2023-10-08 | (999) 999-9999 | fake_email@gmail.com |  2 | NA   | NA | NA | NA | NA | NA | NA |\n",
       "| 2 | personal_info_arm_1 | NA             | NA | Jane | Doe | (999) 999-9999 | 98105 | 1995-06-29 | 28 |  0 |  5 |  0 |  2 | NA | ... | NA | NA | NA | NA               | NA | NA             | NA                   | NA | NA   | NA | NA | NA | NA | NA | NA |\n",
       "\n"
      ],
      "text/plain": [
       "  record_id redcap_event_name   redcap_repeat_instrument redcap_repeat_instance\n",
       "1 1         personal_info_arm_1 NA                       NA                    \n",
       "2 1         notifications_arm_1 NA                       NA                    \n",
       "3 1         case_intake_arm_1   NA                        1                    \n",
       "4 1         notifications_arm_1 close_contacts            1                    \n",
       "5 1         notifications_arm_1 close_contacts            2                    \n",
       "6 2         personal_info_arm_1 NA                       NA                    \n",
       "  first_name last_name phone_num      zip_code dob        age ethnicity race\n",
       "1 John       Doe       (999) 999-9999 98105    2004-12-05 18   1         4  \n",
       "2 NA         NA        NA                NA    <NA>       NA  NA        NA  \n",
       "3 NA         NA        NA                NA    <NA>       NA  NA        NA  \n",
       "4 NA         NA        NA                NA    <NA>       NA  NA        NA  \n",
       "5 NA         NA        NA                NA    <NA>       NA  NA        NA  \n",
       "6 Jane       Doe       (999) 999-9999 98105    1995-06-29 28   0         5  \n",
       "  gender demographics_complete symptoms_yesno ... prior_covid_yesno\n",
       "1  1      2                    NA             ... NA               \n",
       "2 NA     NA                    NA             ... NA               \n",
       "3 NA      0                     1             ...  0               \n",
       "4 NA     NA                    NA             ... NA               \n",
       "5 NA     NA                    NA             ... NA               \n",
       "6  0      2                    NA             ... NA               \n",
       "  prior_covid_date test_information_complete cc_name          cc_date   \n",
       "1 <NA>             NA                        NA               <NA>      \n",
       "2 <NA>             NA                        NA               <NA>      \n",
       "3 <NA>              2                        NA               <NA>      \n",
       "4 <NA>             NA                        Jane Doe         2023-10-09\n",
       "5 <NA>             NA                        Johnny Appleseed 2023-10-08\n",
       "6 <NA>             NA                        NA               <NA>      \n",
       "  cc_phone       cc_email             close_contacts_complete supervisor_name\n",
       "1 NA             NA                   NA                      NA             \n",
       "2 NA             NA                   NA                      Boss           \n",
       "3 NA             NA                   NA                      NA             \n",
       "4 (999) 999-9999 fake_email@gmail.com  2                      NA             \n",
       "5 (999) 999-9999 fake_email@gmail.com  2                      NA             \n",
       "6 NA             NA                   NA                      NA             \n",
       "  supervisor_email work_inperson_yesno work_date work_contagious\n",
       "1 NA               NA                  <NA>      NA             \n",
       "2 NA                0                  <NA>       0             \n",
       "3 NA               NA                  <NA>      NA             \n",
       "4 NA               NA                  <NA>      NA             \n",
       "5 NA               NA                  <NA>      NA             \n",
       "6 NA               NA                  <NA>      NA             \n",
       "  work_contagious_calc work_information_complete\n",
       "1 NA                   NA                       \n",
       "2 NA                    2                       \n",
       "3 NA                   NA                       \n",
       "4 NA                   NA                       \n",
       "5 NA                   NA                       \n",
       "6 NA                   NA                       "
      ]
     },
     "metadata": {},
     "output_type": "display_data"
    }
   ],
   "source": [
    "head(Data)"
   ]
  },
  {
   "cell_type": "markdown",
   "id": "cf024c4a-ec38-41f0-be27-a79cc9548643",
   "metadata": {},
   "source": [
    "#### Exporting Labeled Data & Headers"
   ]
  },
  {
   "cell_type": "code",
   "execution_count": 64,
   "id": "435750e9-6ade-4f14-9cbd-9f90c14fc07f",
   "metadata": {
    "tags": []
   },
   "outputs": [
    {
     "name": "stderr",
     "output_type": "stream",
     "text": [
      "\u001b[1m\u001b[22mNew names:\n",
      "\u001b[36m*\u001b[39m `Complete?` -> `Complete?...14`\n",
      "\u001b[36m*\u001b[39m `Complete?` -> `Complete?...29`\n",
      "\u001b[36m*\u001b[39m `Complete?` -> `Complete?...36`\n",
      "\u001b[36m*\u001b[39m `Complete?` -> `Complete?...41`\n",
      "\u001b[36m*\u001b[39m `Complete?` -> `Complete?...48`\n",
      "31 records and 48 columns were read from REDCap in 0.7 seconds.  The http status code was 200.\n",
      "\n"
     ]
    }
   ],
   "source": [
    "Data_labeled_all <- redcap_read_oneshot(\n",
    "    redcap_uri = url, \n",
    "    token = token, \n",
    "    raw_or_label = \"label\", \n",
    "    raw_or_label_headers = \"label\"\n",
    ")$data"
   ]
  },
  {
   "cell_type": "code",
   "execution_count": 65,
   "id": "055ab7a2-decc-4812-9ecf-6269b5175ca8",
   "metadata": {
    "tags": []
   },
   "outputs": [
    {
     "data": {
      "text/html": [
       "<table class=\"dataframe\">\n",
       "<caption>A tibble: 6 × 48</caption>\n",
       "<thead>\n",
       "\t<tr><th scope=col>Study ID</th><th scope=col>Event Name</th><th scope=col>Repeat Instrument</th><th scope=col>Repeat Instance</th><th scope=col>First Name</th><th scope=col>Last Name</th><th scope=col>Phone Number</th><th scope=col>ZIP Code</th><th scope=col>Date of birth</th><th scope=col>Age (years)</th><th scope=col>Ethnicity</th><th scope=col>Race</th><th scope=col>Gender</th><th scope=col>Complete?...14</th><th scope=col>Have you experienced any new symptoms of COVID-19?</th><th scope=col>...</th><th scope=col>Have you had COVID-19 before?</th><th scope=col>When did you test positive for COVID-19 when you had it previously? (Ok to estimate.)</th><th scope=col>Complete?...36</th><th scope=col>Name of close contact</th><th scope=col>What day were you last in contact with this person?</th><th scope=col>Phone number of close contact</th><th scope=col>Email of close contact</th><th scope=col>Complete?...41</th><th scope=col>Supervisor Name</th><th scope=col>Supervisor email</th><th scope=col>Do you ever work in-person?</th><th scope=col>Date you last worked in-person?</th><th scope=col>Was this person at work while contagious? Symptom Onset Date: [case_intake_arm_1][symptom_onset]</th><th scope=col>Was this person at work while contagious?</th><th scope=col>Complete?...48</th></tr>\n",
       "\t<tr><th scope=col>&lt;dbl&gt;</th><th scope=col>&lt;chr&gt;</th><th scope=col>&lt;chr&gt;</th><th scope=col>&lt;dbl&gt;</th><th scope=col>&lt;chr&gt;</th><th scope=col>&lt;chr&gt;</th><th scope=col>&lt;chr&gt;</th><th scope=col>&lt;dbl&gt;</th><th scope=col>&lt;date&gt;</th><th scope=col>&lt;dbl&gt;</th><th scope=col>&lt;chr&gt;</th><th scope=col>&lt;chr&gt;</th><th scope=col>&lt;chr&gt;</th><th scope=col>&lt;chr&gt;</th><th scope=col>&lt;chr&gt;</th><th scope=col>...</th><th scope=col>&lt;chr&gt;</th><th scope=col>&lt;date&gt;</th><th scope=col>&lt;chr&gt;</th><th scope=col>&lt;chr&gt;</th><th scope=col>&lt;date&gt;</th><th scope=col>&lt;chr&gt;</th><th scope=col>&lt;chr&gt;</th><th scope=col>&lt;chr&gt;</th><th scope=col>&lt;chr&gt;</th><th scope=col>&lt;chr&gt;</th><th scope=col>&lt;chr&gt;</th><th scope=col>&lt;date&gt;</th><th scope=col>&lt;chr&gt;</th><th scope=col>&lt;lgl&gt;</th><th scope=col>&lt;chr&gt;</th></tr>\n",
       "</thead>\n",
       "<tbody>\n",
       "\t<tr><td>1</td><td>Personal Info</td><td>NA            </td><td>NA</td><td>John</td><td>Doe</td><td>(999) 999-9999</td><td>98105</td><td>2004-12-05</td><td>18</td><td>NOT Hispanic or Latino</td><td>White             </td><td>Male  </td><td>Complete  </td><td>NA </td><td>...</td><td>NA</td><td>NA</td><td>NA      </td><td>NA              </td><td>NA</td><td>NA            </td><td>NA                  </td><td>NA      </td><td>NA  </td><td>NA</td><td>NA</td><td>NA</td><td>NA</td><td>NA</td><td>NA      </td></tr>\n",
       "\t<tr><td>1</td><td>Notifications</td><td>NA            </td><td>NA</td><td>NA  </td><td>NA </td><td>NA            </td><td>   NA</td><td>NA</td><td>NA</td><td>NA                    </td><td>NA                </td><td>NA    </td><td>NA        </td><td>NA </td><td>...</td><td>NA</td><td>NA</td><td>NA      </td><td>NA              </td><td>NA</td><td>NA            </td><td>NA                  </td><td>NA      </td><td>Boss</td><td>NA</td><td>No</td><td>NA</td><td>No</td><td>NA</td><td>Complete</td></tr>\n",
       "\t<tr><td>1</td><td>Case Intake  </td><td>NA            </td><td> 1</td><td>NA  </td><td>NA </td><td>NA            </td><td>   NA</td><td>NA</td><td>NA</td><td>NA                    </td><td>NA                </td><td>NA    </td><td>Incomplete</td><td>Yes</td><td>...</td><td>No</td><td>NA</td><td>Complete</td><td>NA              </td><td>NA</td><td>NA            </td><td>NA                  </td><td>NA      </td><td>NA  </td><td>NA</td><td>NA</td><td>NA</td><td>NA</td><td>NA</td><td>NA      </td></tr>\n",
       "\t<tr><td>1</td><td>Notifications</td><td>Close Contacts</td><td> 1</td><td>NA  </td><td>NA </td><td>NA            </td><td>   NA</td><td>NA</td><td>NA</td><td>NA                    </td><td>NA                </td><td>NA    </td><td>NA        </td><td>NA </td><td>...</td><td>NA</td><td>NA</td><td>NA      </td><td>Jane Doe        </td><td>2023-10-09</td><td>(999) 999-9999</td><td>fake_email@gmail.com</td><td>Complete</td><td>NA  </td><td>NA</td><td>NA</td><td>NA</td><td>NA</td><td>NA</td><td>NA      </td></tr>\n",
       "\t<tr><td>1</td><td>Notifications</td><td>Close Contacts</td><td> 2</td><td>NA  </td><td>NA </td><td>NA            </td><td>   NA</td><td>NA</td><td>NA</td><td>NA                    </td><td>NA                </td><td>NA    </td><td>NA        </td><td>NA </td><td>...</td><td>NA</td><td>NA</td><td>NA      </td><td>Johnny Appleseed</td><td>2023-10-08</td><td>(999) 999-9999</td><td>fake_email@gmail.com</td><td>Complete</td><td>NA  </td><td>NA</td><td>NA</td><td>NA</td><td>NA</td><td>NA</td><td>NA      </td></tr>\n",
       "\t<tr><td>2</td><td>Personal Info</td><td>NA            </td><td>NA</td><td>Jane</td><td>Doe</td><td>(999) 999-9999</td><td>98105</td><td>1995-06-29</td><td>28</td><td>Hispanic or Latino    </td><td>More Than One Race</td><td>Female</td><td>Complete  </td><td>NA </td><td>...</td><td>NA</td><td>NA</td><td>NA      </td><td>NA              </td><td>NA</td><td>NA            </td><td>NA                  </td><td>NA      </td><td>NA  </td><td>NA</td><td>NA</td><td>NA</td><td>NA</td><td>NA</td><td>NA      </td></tr>\n",
       "</tbody>\n",
       "</table>\n"
      ],
      "text/latex": [
       "A tibble: 6 × 48\n",
       "\\begin{tabular}{lllllllllllllllllllllllllllllll}\n",
       " Study ID & Event Name & Repeat Instrument & Repeat Instance & First Name & Last Name & Phone Number & ZIP Code & Date of birth & Age (years) & Ethnicity & Race & Gender & Complete?...14 & Have you experienced any new symptoms of COVID-19? & ... & Have you had COVID-19 before? & When did you test positive for COVID-19 when you had it previously? (Ok to estimate.) & Complete?...36 & Name of close contact & What day were you last in contact with this person? & Phone number of close contact & Email of close contact & Complete?...41 & Supervisor Name & Supervisor email & Do you ever work in-person? & Date you last worked in-person? & Was this person at work while contagious? Symptom Onset Date: {[}case\\_intake\\_arm\\_1{]}{[}symptom\\_onset{]} & Was this person at work while contagious? & Complete?...48\\\\\n",
       " <dbl> & <chr> & <chr> & <dbl> & <chr> & <chr> & <chr> & <dbl> & <date> & <dbl> & <chr> & <chr> & <chr> & <chr> & <chr> & ... & <chr> & <date> & <chr> & <chr> & <date> & <chr> & <chr> & <chr> & <chr> & <chr> & <chr> & <date> & <chr> & <lgl> & <chr>\\\\\n",
       "\\hline\n",
       "\t 1 & Personal Info & NA             & NA & John & Doe & (999) 999-9999 & 98105 & 2004-12-05 & 18 & NOT Hispanic or Latino & White              & Male   & Complete   & NA  & ... & NA & NA & NA       & NA               & NA & NA             & NA                   & NA       & NA   & NA & NA & NA & NA & NA & NA      \\\\\n",
       "\t 1 & Notifications & NA             & NA & NA   & NA  & NA             &    NA & NA & NA & NA                     & NA                 & NA     & NA         & NA  & ... & NA & NA & NA       & NA               & NA & NA             & NA                   & NA       & Boss & NA & No & NA & No & NA & Complete\\\\\n",
       "\t 1 & Case Intake   & NA             &  1 & NA   & NA  & NA             &    NA & NA & NA & NA                     & NA                 & NA     & Incomplete & Yes & ... & No & NA & Complete & NA               & NA & NA             & NA                   & NA       & NA   & NA & NA & NA & NA & NA & NA      \\\\\n",
       "\t 1 & Notifications & Close Contacts &  1 & NA   & NA  & NA             &    NA & NA & NA & NA                     & NA                 & NA     & NA         & NA  & ... & NA & NA & NA       & Jane Doe         & 2023-10-09 & (999) 999-9999 & fake\\_email@gmail.com & Complete & NA   & NA & NA & NA & NA & NA & NA      \\\\\n",
       "\t 1 & Notifications & Close Contacts &  2 & NA   & NA  & NA             &    NA & NA & NA & NA                     & NA                 & NA     & NA         & NA  & ... & NA & NA & NA       & Johnny Appleseed & 2023-10-08 & (999) 999-9999 & fake\\_email@gmail.com & Complete & NA   & NA & NA & NA & NA & NA & NA      \\\\\n",
       "\t 2 & Personal Info & NA             & NA & Jane & Doe & (999) 999-9999 & 98105 & 1995-06-29 & 28 & Hispanic or Latino     & More Than One Race & Female & Complete   & NA  & ... & NA & NA & NA       & NA               & NA & NA             & NA                   & NA       & NA   & NA & NA & NA & NA & NA & NA      \\\\\n",
       "\\end{tabular}\n"
      ],
      "text/markdown": [
       "\n",
       "A tibble: 6 × 48\n",
       "\n",
       "| Study ID &lt;dbl&gt; | Event Name &lt;chr&gt; | Repeat Instrument &lt;chr&gt; | Repeat Instance &lt;dbl&gt; | First Name &lt;chr&gt; | Last Name &lt;chr&gt; | Phone Number &lt;chr&gt; | ZIP Code &lt;dbl&gt; | Date of birth &lt;date&gt; | Age (years) &lt;dbl&gt; | Ethnicity &lt;chr&gt; | Race &lt;chr&gt; | Gender &lt;chr&gt; | Complete?...14 &lt;chr&gt; | Have you experienced any new symptoms of COVID-19? &lt;chr&gt; | ... ... | Have you had COVID-19 before? &lt;chr&gt; | When did you test positive for COVID-19 when you had it previously? (Ok to estimate.) &lt;date&gt; | Complete?...36 &lt;chr&gt; | Name of close contact &lt;chr&gt; | What day were you last in contact with this person? &lt;date&gt; | Phone number of close contact &lt;chr&gt; | Email of close contact &lt;chr&gt; | Complete?...41 &lt;chr&gt; | Supervisor Name &lt;chr&gt; | Supervisor email &lt;chr&gt; | Do you ever work in-person? &lt;chr&gt; | Date you last worked in-person? &lt;date&gt; | Was this person at work while contagious? Symptom Onset Date: [case_intake_arm_1][symptom_onset] &lt;chr&gt; | Was this person at work while contagious? &lt;lgl&gt; | Complete?...48 &lt;chr&gt; |\n",
       "|---|---|---|---|---|---|---|---|---|---|---|---|---|---|---|---|---|---|---|---|---|---|---|---|---|---|---|---|---|---|---|\n",
       "| 1 | Personal Info | NA             | NA | John | Doe | (999) 999-9999 | 98105 | 2004-12-05 | 18 | NOT Hispanic or Latino | White              | Male   | Complete   | NA  | ... | NA | NA | NA       | NA               | NA | NA             | NA                   | NA       | NA   | NA | NA | NA | NA | NA | NA       |\n",
       "| 1 | Notifications | NA             | NA | NA   | NA  | NA             |    NA | NA | NA | NA                     | NA                 | NA     | NA         | NA  | ... | NA | NA | NA       | NA               | NA | NA             | NA                   | NA       | Boss | NA | No | NA | No | NA | Complete |\n",
       "| 1 | Case Intake   | NA             |  1 | NA   | NA  | NA             |    NA | NA | NA | NA                     | NA                 | NA     | Incomplete | Yes | ... | No | NA | Complete | NA               | NA | NA             | NA                   | NA       | NA   | NA | NA | NA | NA | NA | NA       |\n",
       "| 1 | Notifications | Close Contacts |  1 | NA   | NA  | NA             |    NA | NA | NA | NA                     | NA                 | NA     | NA         | NA  | ... | NA | NA | NA       | Jane Doe         | 2023-10-09 | (999) 999-9999 | fake_email@gmail.com | Complete | NA   | NA | NA | NA | NA | NA | NA       |\n",
       "| 1 | Notifications | Close Contacts |  2 | NA   | NA  | NA             |    NA | NA | NA | NA                     | NA                 | NA     | NA         | NA  | ... | NA | NA | NA       | Johnny Appleseed | 2023-10-08 | (999) 999-9999 | fake_email@gmail.com | Complete | NA   | NA | NA | NA | NA | NA | NA       |\n",
       "| 2 | Personal Info | NA             | NA | Jane | Doe | (999) 999-9999 | 98105 | 1995-06-29 | 28 | Hispanic or Latino     | More Than One Race | Female | Complete   | NA  | ... | NA | NA | NA       | NA               | NA | NA             | NA                   | NA       | NA   | NA | NA | NA | NA | NA | NA       |\n",
       "\n"
      ],
      "text/plain": [
       "  Study ID Event Name    Repeat Instrument Repeat Instance First Name Last Name\n",
       "1 1        Personal Info NA                NA              John       Doe      \n",
       "2 1        Notifications NA                NA              NA         NA       \n",
       "3 1        Case Intake   NA                 1              NA         NA       \n",
       "4 1        Notifications Close Contacts     1              NA         NA       \n",
       "5 1        Notifications Close Contacts     2              NA         NA       \n",
       "6 2        Personal Info NA                NA              Jane       Doe      \n",
       "  Phone Number   ZIP Code Date of birth Age (years) Ethnicity             \n",
       "1 (999) 999-9999 98105    2004-12-05    18          NOT Hispanic or Latino\n",
       "2 NA                NA    <NA>          NA          NA                    \n",
       "3 NA                NA    <NA>          NA          NA                    \n",
       "4 NA                NA    <NA>          NA          NA                    \n",
       "5 NA                NA    <NA>          NA          NA                    \n",
       "6 (999) 999-9999 98105    1995-06-29    28          Hispanic or Latino    \n",
       "  Race               Gender Complete?...14\n",
       "1 White              Male   Complete      \n",
       "2 NA                 NA     NA            \n",
       "3 NA                 NA     Incomplete    \n",
       "4 NA                 NA     NA            \n",
       "5 NA                 NA     NA            \n",
       "6 More Than One Race Female Complete      \n",
       "  Have you experienced any new symptoms of COVID-19? ...\n",
       "1 NA                                                 ...\n",
       "2 NA                                                 ...\n",
       "3 Yes                                                ...\n",
       "4 NA                                                 ...\n",
       "5 NA                                                 ...\n",
       "6 NA                                                 ...\n",
       "  Have you had COVID-19 before?\n",
       "1 NA                           \n",
       "2 NA                           \n",
       "3 No                           \n",
       "4 NA                           \n",
       "5 NA                           \n",
       "6 NA                           \n",
       "  When did you test positive for COVID-19 when you had it previously? (Ok to estimate.)\n",
       "1 <NA>                                                                                 \n",
       "2 <NA>                                                                                 \n",
       "3 <NA>                                                                                 \n",
       "4 <NA>                                                                                 \n",
       "5 <NA>                                                                                 \n",
       "6 <NA>                                                                                 \n",
       "  Complete?...36 Name of close contact\n",
       "1 NA             NA                   \n",
       "2 NA             NA                   \n",
       "3 Complete       NA                   \n",
       "4 NA             Jane Doe             \n",
       "5 NA             Johnny Appleseed     \n",
       "6 NA             NA                   \n",
       "  What day were you last in contact with this person?\n",
       "1 <NA>                                               \n",
       "2 <NA>                                               \n",
       "3 <NA>                                               \n",
       "4 2023-10-09                                         \n",
       "5 2023-10-08                                         \n",
       "6 <NA>                                               \n",
       "  Phone number of close contact Email of close contact Complete?...41\n",
       "1 NA                            NA                     NA            \n",
       "2 NA                            NA                     NA            \n",
       "3 NA                            NA                     NA            \n",
       "4 (999) 999-9999                fake_email@gmail.com   Complete      \n",
       "5 (999) 999-9999                fake_email@gmail.com   Complete      \n",
       "6 NA                            NA                     NA            \n",
       "  Supervisor Name Supervisor email Do you ever work in-person?\n",
       "1 NA              NA               NA                         \n",
       "2 Boss            NA               No                         \n",
       "3 NA              NA               NA                         \n",
       "4 NA              NA               NA                         \n",
       "5 NA              NA               NA                         \n",
       "6 NA              NA               NA                         \n",
       "  Date you last worked in-person?\n",
       "1 <NA>                           \n",
       "2 <NA>                           \n",
       "3 <NA>                           \n",
       "4 <NA>                           \n",
       "5 <NA>                           \n",
       "6 <NA>                           \n",
       "  Was this person at work while contagious? Symptom Onset Date: [case_intake_arm_1][symptom_onset]\n",
       "1 NA                                                                                              \n",
       "2 No                                                                                              \n",
       "3 NA                                                                                              \n",
       "4 NA                                                                                              \n",
       "5 NA                                                                                              \n",
       "6 NA                                                                                              \n",
       "  Was this person at work while contagious? Complete?...48\n",
       "1 NA                                        NA            \n",
       "2 NA                                        Complete      \n",
       "3 NA                                        NA            \n",
       "4 NA                                        NA            \n",
       "5 NA                                        NA            \n",
       "6 NA                                        NA            "
      ]
     },
     "metadata": {},
     "output_type": "display_data"
    }
   ],
   "source": [
    "head(Data_labeled_all)"
   ]
  },
  {
   "cell_type": "markdown",
   "id": "a75d0ad8-5757-4076-ad88-85288a5ecdef",
   "metadata": {
    "tags": []
   },
   "source": [
    "### Understanding the Data Structure"
   ]
  },
  {
   "cell_type": "markdown",
   "id": "57ca8793-eca1-4af7-a148-aeef8ef235b5",
   "metadata": {},
   "source": [
    "#### Repeating Events and Independently Repeating Instruments"
   ]
  },
  {
   "cell_type": "markdown",
   "id": "46f6497c-5099-47a8-a42c-44d81280421c",
   "metadata": {},
   "source": [
    "Data is exported from REDCap projects as one large table where the length of the table (number of columns) is equal to all the fields across all project instruments. \n",
    "\n",
    "There is one row per record-instrument in non-longitudinal projects and one row per record-event in longitudinal projects (as seen in these examples). In the case of independently repeating instruments, there is one additional row per repeat instance. Each row has all fields across all instruments, but the fields (columns) not associated with the instruments for that event (rows) will be NA. *For visual examples of REDCap project set-ups, see <a href=\"#Example-REDCap-Projects-and-Data-Structures\">Example REDCap Projects and Data Structures</a>.*"
   ]
  },
  {
   "cell_type": "code",
   "execution_count": 66,
   "id": "05ae7d69-b78b-40b9-9439-3bd8f6d577db",
   "metadata": {
    "scrolled": true,
    "tags": []
   },
   "outputs": [
    {
     "name": "stderr",
     "output_type": "stream",
     "text": [
      "\u001b[1m\u001b[22m`summarise()` has grouped output by 'redcap_event_name',\n",
      "'redcap_repeat_instrument'. You can override using the `.groups` argument.\n"
     ]
    },
    {
     "data": {
      "text/html": [
       "<table class=\"dataframe\">\n",
       "<caption>A grouped_df: 6 × 4</caption>\n",
       "<thead>\n",
       "\t<tr><th scope=col>redcap_event_name</th><th scope=col>redcap_repeat_instrument</th><th scope=col>redcap_repeat_instance</th><th scope=col>n</th></tr>\n",
       "\t<tr><th scope=col>&lt;chr&gt;</th><th scope=col>&lt;chr&gt;</th><th scope=col>&lt;dbl&gt;</th><th scope=col>&lt;int&gt;</th></tr>\n",
       "</thead>\n",
       "<tbody>\n",
       "\t<tr><td>case_intake_arm_1  </td><td>NA            </td><td> 1</td><td>6</td></tr>\n",
       "\t<tr><td>case_intake_arm_1  </td><td>NA            </td><td> 2</td><td>2</td></tr>\n",
       "\t<tr><td>notifications_arm_1</td><td>close_contacts</td><td> 1</td><td>6</td></tr>\n",
       "\t<tr><td>notifications_arm_1</td><td>close_contacts</td><td> 2</td><td>5</td></tr>\n",
       "\t<tr><td>notifications_arm_1</td><td>NA            </td><td>NA</td><td>6</td></tr>\n",
       "\t<tr><td>personal_info_arm_1</td><td>NA            </td><td>NA</td><td>6</td></tr>\n",
       "</tbody>\n",
       "</table>\n"
      ],
      "text/latex": [
       "A grouped\\_df: 6 × 4\n",
       "\\begin{tabular}{llll}\n",
       " redcap\\_event\\_name & redcap\\_repeat\\_instrument & redcap\\_repeat\\_instance & n\\\\\n",
       " <chr> & <chr> & <dbl> & <int>\\\\\n",
       "\\hline\n",
       "\t case\\_intake\\_arm\\_1   & NA             &  1 & 6\\\\\n",
       "\t case\\_intake\\_arm\\_1   & NA             &  2 & 2\\\\\n",
       "\t notifications\\_arm\\_1 & close\\_contacts &  1 & 6\\\\\n",
       "\t notifications\\_arm\\_1 & close\\_contacts &  2 & 5\\\\\n",
       "\t notifications\\_arm\\_1 & NA             & NA & 6\\\\\n",
       "\t personal\\_info\\_arm\\_1 & NA             & NA & 6\\\\\n",
       "\\end{tabular}\n"
      ],
      "text/markdown": [
       "\n",
       "A grouped_df: 6 × 4\n",
       "\n",
       "| redcap_event_name &lt;chr&gt; | redcap_repeat_instrument &lt;chr&gt; | redcap_repeat_instance &lt;dbl&gt; | n &lt;int&gt; |\n",
       "|---|---|---|---|\n",
       "| case_intake_arm_1   | NA             |  1 | 6 |\n",
       "| case_intake_arm_1   | NA             |  2 | 2 |\n",
       "| notifications_arm_1 | close_contacts |  1 | 6 |\n",
       "| notifications_arm_1 | close_contacts |  2 | 5 |\n",
       "| notifications_arm_1 | NA             | NA | 6 |\n",
       "| personal_info_arm_1 | NA             | NA | 6 |\n",
       "\n"
      ],
      "text/plain": [
       "  redcap_event_name   redcap_repeat_instrument redcap_repeat_instance n\n",
       "1 case_intake_arm_1   NA                        1                     6\n",
       "2 case_intake_arm_1   NA                        2                     2\n",
       "3 notifications_arm_1 close_contacts            1                     6\n",
       "4 notifications_arm_1 close_contacts            2                     5\n",
       "5 notifications_arm_1 NA                       NA                     6\n",
       "6 personal_info_arm_1 NA                       NA                     6"
      ]
     },
     "metadata": {},
     "output_type": "display_data"
    }
   ],
   "source": [
    "Data %>% group_by(redcap_event_name, redcap_repeat_instrument,redcap_repeat_instance) %>% summarize(n=n())"
   ]
  },
  {
   "cell_type": "markdown",
   "id": "1e78206f-6512-4da0-a77b-b0f341b5bc1f",
   "metadata": {},
   "source": [
    "In this example:\n",
    "   - The 'close_contacts' instrument repeats independently within the 'notifications_arm_1' event (only responses to the 'close_contacts' instrument are in these rows with one row per record per instance of the instrument).\n",
    "   - One other instrument is also in the 'notifications_arm_1' event but does not repeat. This data populates a seperate row where the redcap_event_name = \"notifications_arm_1\", but the redcap_repeat_instrument = \"NA\"  and the redcap_repeat_instance = \"NA\". Non-repeating instruments in an event will have their own row, seperate from independently repeating instruments in that same event. \n",
    "   - The 'case_intake_arm_1' event repeats as an entire event, so each repeat of the event per record will occupy one row with the redcap_repeat_instance variable signifying the instance number.\n",
    "   - The 'personal_info_arm_1' is not repeating, nor are the instruments within this event, so it occupies one row per record-event. \n",
    "   \n",
    "This data summary can be compared to the instrument event map for better understanding of the project structure. *See <a href=\"#Instrument-Event-Map\">Instrument Event Map</a></n> for more information.*\n",
    "\n",
    "**Note 1**: The code used above is a great way to quickly see the maximum number of instances for each repeating event and/or independently repeating instrument with the \"n\" column showing how many records under each repeat instance.  \n",
    "\n",
    "**Note 2**: Since this is a longitudinal project example, the arm name is automatically appended as a suffix in the redcap_event_name column. In this project there is only one arm, so all events are automatically exported with the \"arm_1\" suffix. However, if there were mutliple arms, the suffix would distinguish which arm each event is in."
   ]
  },
  {
   "cell_type": "markdown",
   "id": "79ce3ae0-7c96-4be0-afbc-f4a3f4cf540b",
   "metadata": {},
   "source": [
    "#### Checkboxes"
   ]
  },
  {
   "cell_type": "markdown",
   "id": "e0369daf-5599-402b-876f-0554ea650db6",
   "metadata": {},
   "source": [
    "Checkboxes are exported as a wide data set with each checkbox option stored as it's own variable. These variables will be appended with a double underscore and the number that the choice option is assigned within REDCap. Alternatively, the actual choice can be viewed if you export the dataset with labeled headers (see above)."
   ]
  },
  {
   "cell_type": "code",
   "execution_count": 12,
   "id": "dd8efa9f-c9ce-4abb-98cb-156cbaef5e6a",
   "metadata": {
    "tags": []
   },
   "outputs": [
    {
     "data": {
      "text/html": [
       "<table class=\"dataframe\">\n",
       "<caption>A tibble: 6 × 11</caption>\n",
       "<thead>\n",
       "\t<tr><th scope=col>symptoms_exp___1</th><th scope=col>symptoms_exp___2</th><th scope=col>symptoms_exp___3</th><th scope=col>symptoms_exp___4</th><th scope=col>symptoms_exp___5</th><th scope=col>symptoms_exp___6</th><th scope=col>symptoms_exp___7</th><th scope=col>symptoms_exp___8</th><th scope=col>symptoms_exp___9</th><th scope=col>symptoms_exp___10</th><th scope=col>symptoms_exp___11</th></tr>\n",
       "\t<tr><th scope=col>&lt;dbl&gt;</th><th scope=col>&lt;dbl&gt;</th><th scope=col>&lt;dbl&gt;</th><th scope=col>&lt;dbl&gt;</th><th scope=col>&lt;dbl&gt;</th><th scope=col>&lt;dbl&gt;</th><th scope=col>&lt;dbl&gt;</th><th scope=col>&lt;dbl&gt;</th><th scope=col>&lt;dbl&gt;</th><th scope=col>&lt;dbl&gt;</th><th scope=col>&lt;dbl&gt;</th></tr>\n",
       "</thead>\n",
       "<tbody>\n",
       "\t<tr><td>NA</td><td>NA</td><td>NA</td><td>NA</td><td>NA</td><td>NA</td><td>NA</td><td>NA</td><td>NA</td><td>NA</td><td>NA</td></tr>\n",
       "\t<tr><td>NA</td><td>NA</td><td>NA</td><td>NA</td><td>NA</td><td>NA</td><td>NA</td><td>NA</td><td>NA</td><td>NA</td><td>NA</td></tr>\n",
       "\t<tr><td> 1</td><td> 1</td><td> 0</td><td> 0</td><td> 0</td><td> 0</td><td> 1</td><td> 0</td><td> 0</td><td> 0</td><td> 0</td></tr>\n",
       "\t<tr><td>NA</td><td>NA</td><td>NA</td><td>NA</td><td>NA</td><td>NA</td><td>NA</td><td>NA</td><td>NA</td><td>NA</td><td>NA</td></tr>\n",
       "\t<tr><td>NA</td><td>NA</td><td>NA</td><td>NA</td><td>NA</td><td>NA</td><td>NA</td><td>NA</td><td>NA</td><td>NA</td><td>NA</td></tr>\n",
       "\t<tr><td>NA</td><td>NA</td><td>NA</td><td>NA</td><td>NA</td><td>NA</td><td>NA</td><td>NA</td><td>NA</td><td>NA</td><td>NA</td></tr>\n",
       "</tbody>\n",
       "</table>\n"
      ],
      "text/latex": [
       "A tibble: 6 × 11\n",
       "\\begin{tabular}{lllllllllll}\n",
       " symptoms\\_exp\\_\\_\\_1 & symptoms\\_exp\\_\\_\\_2 & symptoms\\_exp\\_\\_\\_3 & symptoms\\_exp\\_\\_\\_4 & symptoms\\_exp\\_\\_\\_5 & symptoms\\_exp\\_\\_\\_6 & symptoms\\_exp\\_\\_\\_7 & symptoms\\_exp\\_\\_\\_8 & symptoms\\_exp\\_\\_\\_9 & symptoms\\_exp\\_\\_\\_10 & symptoms\\_exp\\_\\_\\_11\\\\\n",
       " <dbl> & <dbl> & <dbl> & <dbl> & <dbl> & <dbl> & <dbl> & <dbl> & <dbl> & <dbl> & <dbl>\\\\\n",
       "\\hline\n",
       "\t NA & NA & NA & NA & NA & NA & NA & NA & NA & NA & NA\\\\\n",
       "\t NA & NA & NA & NA & NA & NA & NA & NA & NA & NA & NA\\\\\n",
       "\t  1 &  1 &  0 &  0 &  0 &  0 &  1 &  0 &  0 &  0 &  0\\\\\n",
       "\t NA & NA & NA & NA & NA & NA & NA & NA & NA & NA & NA\\\\\n",
       "\t NA & NA & NA & NA & NA & NA & NA & NA & NA & NA & NA\\\\\n",
       "\t NA & NA & NA & NA & NA & NA & NA & NA & NA & NA & NA\\\\\n",
       "\\end{tabular}\n"
      ],
      "text/markdown": [
       "\n",
       "A tibble: 6 × 11\n",
       "\n",
       "| symptoms_exp___1 &lt;dbl&gt; | symptoms_exp___2 &lt;dbl&gt; | symptoms_exp___3 &lt;dbl&gt; | symptoms_exp___4 &lt;dbl&gt; | symptoms_exp___5 &lt;dbl&gt; | symptoms_exp___6 &lt;dbl&gt; | symptoms_exp___7 &lt;dbl&gt; | symptoms_exp___8 &lt;dbl&gt; | symptoms_exp___9 &lt;dbl&gt; | symptoms_exp___10 &lt;dbl&gt; | symptoms_exp___11 &lt;dbl&gt; |\n",
       "|---|---|---|---|---|---|---|---|---|---|---|\n",
       "| NA | NA | NA | NA | NA | NA | NA | NA | NA | NA | NA |\n",
       "| NA | NA | NA | NA | NA | NA | NA | NA | NA | NA | NA |\n",
       "|  1 |  1 |  0 |  0 |  0 |  0 |  1 |  0 |  0 |  0 |  0 |\n",
       "| NA | NA | NA | NA | NA | NA | NA | NA | NA | NA | NA |\n",
       "| NA | NA | NA | NA | NA | NA | NA | NA | NA | NA | NA |\n",
       "| NA | NA | NA | NA | NA | NA | NA | NA | NA | NA | NA |\n",
       "\n"
      ],
      "text/plain": [
       "  symptoms_exp___1 symptoms_exp___2 symptoms_exp___3 symptoms_exp___4\n",
       "1 NA               NA               NA               NA              \n",
       "2 NA               NA               NA               NA              \n",
       "3  1                1                0                0              \n",
       "4 NA               NA               NA               NA              \n",
       "5 NA               NA               NA               NA              \n",
       "6 NA               NA               NA               NA              \n",
       "  symptoms_exp___5 symptoms_exp___6 symptoms_exp___7 symptoms_exp___8\n",
       "1 NA               NA               NA               NA              \n",
       "2 NA               NA               NA               NA              \n",
       "3  0                0                1                0              \n",
       "4 NA               NA               NA               NA              \n",
       "5 NA               NA               NA               NA              \n",
       "6 NA               NA               NA               NA              \n",
       "  symptoms_exp___9 symptoms_exp___10 symptoms_exp___11\n",
       "1 NA               NA                NA               \n",
       "2 NA               NA                NA               \n",
       "3  0                0                 0               \n",
       "4 NA               NA                NA               \n",
       "5 NA               NA                NA               \n",
       "6 NA               NA                NA               "
      ]
     },
     "metadata": {},
     "output_type": "display_data"
    }
   ],
   "source": [
    "checkbox <- Data %>% select(contains(\"__\"))\n",
    "head(checkbox)"
   ]
  },
  {
   "cell_type": "markdown",
   "id": "dac30d10-4c7d-4bf2-9e1c-20446f0c31b2",
   "metadata": {
    "tags": []
   },
   "source": [
    "### Export Data In Batches"
   ]
  },
  {
   "cell_type": "markdown",
   "id": "4decc3ec-d7e7-453b-909d-382624eac264",
   "metadata": {},
   "source": [
    "A note about `redcap_read()`: From an external perspective, this function is similar to `redcap_read_oneshot()`. The internals differ in that `redcap_read()` retrieves subsets of the data, and then combines them before returning (among other objects) a single tibble::tibble(). This function can be more appropriate than `redcap_read_oneshot()` when returning large datasets that could tie up the server. [(Source)](https://ouhscbbmc.github.io/REDCapR/reference/redcap_read.html)"
   ]
  },
  {
   "cell_type": "markdown",
   "id": "92f182b3-2406-449f-b80d-76f8d0da892e",
   "metadata": {},
   "source": [
    "### Filtering Exported Records"
   ]
  },
  {
   "cell_type": "markdown",
   "id": "f49a5922-3f08-4173-a6cc-04ace1d54d82",
   "metadata": {},
   "source": [
    "Although the REDCapR functions have options for filtering data upon export, for smaller datasets, we recommend exporting the entire data set, then filter it R functions. *See <a href=\"#Filtering-Data-Using-R\">Filtering Data Using R</a></n>*  \n",
    "\n",
    "If a project has a large amount of data that is burdensome to export all together, then we recommend using REDCapR functions to filter the data during export. *See <a href=\"#Filtering-Data-Using-REDCapR-Functions\">Filtering Data Using REDCapR Functions</a></n>*  \n",
    "\n",
    "Creating custom reports within REDCap and then exporting those filtered reports, is another option for filtering the data before export for projects with a large amount of data. *See <a href=\"#Reports\">Reports</a></n>*"
   ]
  },
  {
   "cell_type": "code",
   "execution_count": 58,
   "id": "8aed0413-870e-4980-b148-feaac272ba9c",
   "metadata": {
    "tags": []
   },
   "outputs": [
    {
     "name": "stderr",
     "output_type": "stream",
     "text": [
      "44 variable metadata records were read from REDCap in 0.7 seconds.  The http status code was 200.\n",
      "\n",
      "The data dictionary describing 30 fields was read from REDCap in 1.5 seconds.  The http status code was 200.\n",
      "\n",
      "5 instrument metadata records were read from REDCap in 0.6 seconds.  The http status code was 200.\n",
      "\n",
      "1 rows were read from REDCap in 0.8 seconds.  The http status code was 200.\n",
      "\n",
      "1 data access groups were read from REDCap in 0.6 seconds.  The http status code was 200.\n",
      "\n",
      "20 records and 4 columns were read from REDCap in 0.7 seconds.  The http status code was 200.\n",
      "\n",
      "Starting to read 6 records  at 2024-01-10 09:57:42.\n",
      "\n",
      "Reading batch 1 of 1, with subjects 1 through 6 (ie, 6 unique subject records).\n",
      "\n",
      "31 records and 48 columns were read from REDCap in 0.9 seconds.  The http status code was 200.\n",
      "\n"
     ]
    }
   ],
   "source": [
    "batched_export <- redcap_read(\n",
    "    redcap_uri = url, \n",
    "    token = token, \n",
    "    batch_size = 50L\n",
    ")$data"
   ]
  },
  {
   "cell_type": "markdown",
   "id": "29fe35ed-83ee-4a0e-b3be-7662304837ab",
   "metadata": {},
   "source": [
    "In this example, the batch size was set to 50 records. The default is 100 records."
   ]
  },
  {
   "cell_type": "code",
   "execution_count": 59,
   "id": "d122c70a-986e-4008-85bc-c84ad59ab868",
   "metadata": {
    "tags": []
   },
   "outputs": [
    {
     "data": {
      "text/html": [
       "<table class=\"dataframe\">\n",
       "<caption>A tibble: 6 × 48</caption>\n",
       "<thead>\n",
       "\t<tr><th scope=col>record_id</th><th scope=col>redcap_event_name</th><th scope=col>redcap_repeat_instrument</th><th scope=col>redcap_repeat_instance</th><th scope=col>first_name</th><th scope=col>last_name</th><th scope=col>phone_num</th><th scope=col>zip_code</th><th scope=col>dob</th><th scope=col>age</th><th scope=col>ethnicity</th><th scope=col>race</th><th scope=col>gender</th><th scope=col>demographics_complete</th><th scope=col>symptoms_yesno</th><th scope=col>...</th><th scope=col>prior_covid_yesno</th><th scope=col>prior_covid_date</th><th scope=col>test_information_complete</th><th scope=col>cc_name</th><th scope=col>cc_date</th><th scope=col>cc_phone</th><th scope=col>cc_email</th><th scope=col>close_contacts_complete</th><th scope=col>supervisor_name</th><th scope=col>supervisor_email</th><th scope=col>work_inperson_yesno</th><th scope=col>work_date</th><th scope=col>work_contagious</th><th scope=col>work_contagious_calc</th><th scope=col>work_information_complete</th></tr>\n",
       "\t<tr><th scope=col>&lt;dbl&gt;</th><th scope=col>&lt;chr&gt;</th><th scope=col>&lt;chr&gt;</th><th scope=col>&lt;dbl&gt;</th><th scope=col>&lt;chr&gt;</th><th scope=col>&lt;chr&gt;</th><th scope=col>&lt;chr&gt;</th><th scope=col>&lt;dbl&gt;</th><th scope=col>&lt;date&gt;</th><th scope=col>&lt;dbl&gt;</th><th scope=col>&lt;dbl&gt;</th><th scope=col>&lt;dbl&gt;</th><th scope=col>&lt;dbl&gt;</th><th scope=col>&lt;dbl&gt;</th><th scope=col>&lt;dbl&gt;</th><th scope=col>...</th><th scope=col>&lt;dbl&gt;</th><th scope=col>&lt;date&gt;</th><th scope=col>&lt;dbl&gt;</th><th scope=col>&lt;chr&gt;</th><th scope=col>&lt;date&gt;</th><th scope=col>&lt;chr&gt;</th><th scope=col>&lt;chr&gt;</th><th scope=col>&lt;dbl&gt;</th><th scope=col>&lt;chr&gt;</th><th scope=col>&lt;chr&gt;</th><th scope=col>&lt;dbl&gt;</th><th scope=col>&lt;date&gt;</th><th scope=col>&lt;dbl&gt;</th><th scope=col>&lt;lgl&gt;</th><th scope=col>&lt;dbl&gt;</th></tr>\n",
       "</thead>\n",
       "<tbody>\n",
       "\t<tr><td>1</td><td>personal_info_arm_1</td><td>NA            </td><td>NA</td><td>John</td><td>Doe</td><td>(999) 999-9999</td><td>98105</td><td>2004-12-05</td><td>18</td><td> 1</td><td> 4</td><td> 1</td><td> 2</td><td>NA</td><td>...</td><td>NA</td><td>NA</td><td>NA</td><td>NA              </td><td>NA</td><td>NA            </td><td>NA                  </td><td>NA</td><td>NA  </td><td>NA</td><td>NA</td><td>NA</td><td>NA</td><td>NA</td><td>NA</td></tr>\n",
       "\t<tr><td>1</td><td>notifications_arm_1</td><td>NA            </td><td>NA</td><td>NA  </td><td>NA </td><td>NA            </td><td>   NA</td><td>NA</td><td>NA</td><td>NA</td><td>NA</td><td>NA</td><td>NA</td><td>NA</td><td>...</td><td>NA</td><td>NA</td><td>NA</td><td>NA              </td><td>NA</td><td>NA            </td><td>NA                  </td><td>NA</td><td>Boss</td><td>NA</td><td> 0</td><td>NA</td><td> 0</td><td>NA</td><td> 2</td></tr>\n",
       "\t<tr><td>1</td><td>case_intake_arm_1  </td><td>NA            </td><td> 1</td><td>NA  </td><td>NA </td><td>NA            </td><td>   NA</td><td>NA</td><td>NA</td><td>NA</td><td>NA</td><td>NA</td><td> 0</td><td> 1</td><td>...</td><td> 0</td><td>NA</td><td> 2</td><td>NA              </td><td>NA</td><td>NA            </td><td>NA                  </td><td>NA</td><td>NA  </td><td>NA</td><td>NA</td><td>NA</td><td>NA</td><td>NA</td><td>NA</td></tr>\n",
       "\t<tr><td>1</td><td>notifications_arm_1</td><td>close_contacts</td><td> 1</td><td>NA  </td><td>NA </td><td>NA            </td><td>   NA</td><td>NA</td><td>NA</td><td>NA</td><td>NA</td><td>NA</td><td>NA</td><td>NA</td><td>...</td><td>NA</td><td>NA</td><td>NA</td><td>Jane Doe        </td><td>2023-10-09</td><td>(999) 999-9999</td><td>fake_email@gmail.com</td><td> 2</td><td>NA  </td><td>NA</td><td>NA</td><td>NA</td><td>NA</td><td>NA</td><td>NA</td></tr>\n",
       "\t<tr><td>1</td><td>notifications_arm_1</td><td>close_contacts</td><td> 2</td><td>NA  </td><td>NA </td><td>NA            </td><td>   NA</td><td>NA</td><td>NA</td><td>NA</td><td>NA</td><td>NA</td><td>NA</td><td>NA</td><td>...</td><td>NA</td><td>NA</td><td>NA</td><td>Johnny Appleseed</td><td>2023-10-08</td><td>(999) 999-9999</td><td>fake_email@gmail.com</td><td> 2</td><td>NA  </td><td>NA</td><td>NA</td><td>NA</td><td>NA</td><td>NA</td><td>NA</td></tr>\n",
       "\t<tr><td>2</td><td>personal_info_arm_1</td><td>NA            </td><td>NA</td><td>Jane</td><td>Doe</td><td>(999) 999-9999</td><td>98105</td><td>1995-06-29</td><td>28</td><td> 0</td><td> 5</td><td> 0</td><td> 2</td><td>NA</td><td>...</td><td>NA</td><td>NA</td><td>NA</td><td>NA              </td><td>NA</td><td>NA            </td><td>NA                  </td><td>NA</td><td>NA  </td><td>NA</td><td>NA</td><td>NA</td><td>NA</td><td>NA</td><td>NA</td></tr>\n",
       "</tbody>\n",
       "</table>\n"
      ],
      "text/latex": [
       "A tibble: 6 × 48\n",
       "\\begin{tabular}{lllllllllllllllllllllllllllllll}\n",
       " record\\_id & redcap\\_event\\_name & redcap\\_repeat\\_instrument & redcap\\_repeat\\_instance & first\\_name & last\\_name & phone\\_num & zip\\_code & dob & age & ethnicity & race & gender & demographics\\_complete & symptoms\\_yesno & ... & prior\\_covid\\_yesno & prior\\_covid\\_date & test\\_information\\_complete & cc\\_name & cc\\_date & cc\\_phone & cc\\_email & close\\_contacts\\_complete & supervisor\\_name & supervisor\\_email & work\\_inperson\\_yesno & work\\_date & work\\_contagious & work\\_contagious\\_calc & work\\_information\\_complete\\\\\n",
       " <dbl> & <chr> & <chr> & <dbl> & <chr> & <chr> & <chr> & <dbl> & <date> & <dbl> & <dbl> & <dbl> & <dbl> & <dbl> & <dbl> & ... & <dbl> & <date> & <dbl> & <chr> & <date> & <chr> & <chr> & <dbl> & <chr> & <chr> & <dbl> & <date> & <dbl> & <lgl> & <dbl>\\\\\n",
       "\\hline\n",
       "\t 1 & personal\\_info\\_arm\\_1 & NA             & NA & John & Doe & (999) 999-9999 & 98105 & 2004-12-05 & 18 &  1 &  4 &  1 &  2 & NA & ... & NA & NA & NA & NA               & NA & NA             & NA                   & NA & NA   & NA & NA & NA & NA & NA & NA\\\\\n",
       "\t 1 & notifications\\_arm\\_1 & NA             & NA & NA   & NA  & NA             &    NA & NA & NA & NA & NA & NA & NA & NA & ... & NA & NA & NA & NA               & NA & NA             & NA                   & NA & Boss & NA &  0 & NA &  0 & NA &  2\\\\\n",
       "\t 1 & case\\_intake\\_arm\\_1   & NA             &  1 & NA   & NA  & NA             &    NA & NA & NA & NA & NA & NA &  0 &  1 & ... &  0 & NA &  2 & NA               & NA & NA             & NA                   & NA & NA   & NA & NA & NA & NA & NA & NA\\\\\n",
       "\t 1 & notifications\\_arm\\_1 & close\\_contacts &  1 & NA   & NA  & NA             &    NA & NA & NA & NA & NA & NA & NA & NA & ... & NA & NA & NA & Jane Doe         & 2023-10-09 & (999) 999-9999 & fake\\_email@gmail.com &  2 & NA   & NA & NA & NA & NA & NA & NA\\\\\n",
       "\t 1 & notifications\\_arm\\_1 & close\\_contacts &  2 & NA   & NA  & NA             &    NA & NA & NA & NA & NA & NA & NA & NA & ... & NA & NA & NA & Johnny Appleseed & 2023-10-08 & (999) 999-9999 & fake\\_email@gmail.com &  2 & NA   & NA & NA & NA & NA & NA & NA\\\\\n",
       "\t 2 & personal\\_info\\_arm\\_1 & NA             & NA & Jane & Doe & (999) 999-9999 & 98105 & 1995-06-29 & 28 &  0 &  5 &  0 &  2 & NA & ... & NA & NA & NA & NA               & NA & NA             & NA                   & NA & NA   & NA & NA & NA & NA & NA & NA\\\\\n",
       "\\end{tabular}\n"
      ],
      "text/markdown": [
       "\n",
       "A tibble: 6 × 48\n",
       "\n",
       "| record_id &lt;dbl&gt; | redcap_event_name &lt;chr&gt; | redcap_repeat_instrument &lt;chr&gt; | redcap_repeat_instance &lt;dbl&gt; | first_name &lt;chr&gt; | last_name &lt;chr&gt; | phone_num &lt;chr&gt; | zip_code &lt;dbl&gt; | dob &lt;date&gt; | age &lt;dbl&gt; | ethnicity &lt;dbl&gt; | race &lt;dbl&gt; | gender &lt;dbl&gt; | demographics_complete &lt;dbl&gt; | symptoms_yesno &lt;dbl&gt; | ... ... | prior_covid_yesno &lt;dbl&gt; | prior_covid_date &lt;date&gt; | test_information_complete &lt;dbl&gt; | cc_name &lt;chr&gt; | cc_date &lt;date&gt; | cc_phone &lt;chr&gt; | cc_email &lt;chr&gt; | close_contacts_complete &lt;dbl&gt; | supervisor_name &lt;chr&gt; | supervisor_email &lt;chr&gt; | work_inperson_yesno &lt;dbl&gt; | work_date &lt;date&gt; | work_contagious &lt;dbl&gt; | work_contagious_calc &lt;lgl&gt; | work_information_complete &lt;dbl&gt; |\n",
       "|---|---|---|---|---|---|---|---|---|---|---|---|---|---|---|---|---|---|---|---|---|---|---|---|---|---|---|---|---|---|---|\n",
       "| 1 | personal_info_arm_1 | NA             | NA | John | Doe | (999) 999-9999 | 98105 | 2004-12-05 | 18 |  1 |  4 |  1 |  2 | NA | ... | NA | NA | NA | NA               | NA | NA             | NA                   | NA | NA   | NA | NA | NA | NA | NA | NA |\n",
       "| 1 | notifications_arm_1 | NA             | NA | NA   | NA  | NA             |    NA | NA | NA | NA | NA | NA | NA | NA | ... | NA | NA | NA | NA               | NA | NA             | NA                   | NA | Boss | NA |  0 | NA |  0 | NA |  2 |\n",
       "| 1 | case_intake_arm_1   | NA             |  1 | NA   | NA  | NA             |    NA | NA | NA | NA | NA | NA |  0 |  1 | ... |  0 | NA |  2 | NA               | NA | NA             | NA                   | NA | NA   | NA | NA | NA | NA | NA | NA |\n",
       "| 1 | notifications_arm_1 | close_contacts |  1 | NA   | NA  | NA             |    NA | NA | NA | NA | NA | NA | NA | NA | ... | NA | NA | NA | Jane Doe         | 2023-10-09 | (999) 999-9999 | fake_email@gmail.com |  2 | NA   | NA | NA | NA | NA | NA | NA |\n",
       "| 1 | notifications_arm_1 | close_contacts |  2 | NA   | NA  | NA             |    NA | NA | NA | NA | NA | NA | NA | NA | ... | NA | NA | NA | Johnny Appleseed | 2023-10-08 | (999) 999-9999 | fake_email@gmail.com |  2 | NA   | NA | NA | NA | NA | NA | NA |\n",
       "| 2 | personal_info_arm_1 | NA             | NA | Jane | Doe | (999) 999-9999 | 98105 | 1995-06-29 | 28 |  0 |  5 |  0 |  2 | NA | ... | NA | NA | NA | NA               | NA | NA             | NA                   | NA | NA   | NA | NA | NA | NA | NA | NA |\n",
       "\n"
      ],
      "text/plain": [
       "  record_id redcap_event_name   redcap_repeat_instrument redcap_repeat_instance\n",
       "1 1         personal_info_arm_1 NA                       NA                    \n",
       "2 1         notifications_arm_1 NA                       NA                    \n",
       "3 1         case_intake_arm_1   NA                        1                    \n",
       "4 1         notifications_arm_1 close_contacts            1                    \n",
       "5 1         notifications_arm_1 close_contacts            2                    \n",
       "6 2         personal_info_arm_1 NA                       NA                    \n",
       "  first_name last_name phone_num      zip_code dob        age ethnicity race\n",
       "1 John       Doe       (999) 999-9999 98105    2004-12-05 18   1         4  \n",
       "2 NA         NA        NA                NA    <NA>       NA  NA        NA  \n",
       "3 NA         NA        NA                NA    <NA>       NA  NA        NA  \n",
       "4 NA         NA        NA                NA    <NA>       NA  NA        NA  \n",
       "5 NA         NA        NA                NA    <NA>       NA  NA        NA  \n",
       "6 Jane       Doe       (999) 999-9999 98105    1995-06-29 28   0         5  \n",
       "  gender demographics_complete symptoms_yesno ... prior_covid_yesno\n",
       "1  1      2                    NA             ... NA               \n",
       "2 NA     NA                    NA             ... NA               \n",
       "3 NA      0                     1             ...  0               \n",
       "4 NA     NA                    NA             ... NA               \n",
       "5 NA     NA                    NA             ... NA               \n",
       "6  0      2                    NA             ... NA               \n",
       "  prior_covid_date test_information_complete cc_name          cc_date   \n",
       "1 <NA>             NA                        NA               <NA>      \n",
       "2 <NA>             NA                        NA               <NA>      \n",
       "3 <NA>              2                        NA               <NA>      \n",
       "4 <NA>             NA                        Jane Doe         2023-10-09\n",
       "5 <NA>             NA                        Johnny Appleseed 2023-10-08\n",
       "6 <NA>             NA                        NA               <NA>      \n",
       "  cc_phone       cc_email             close_contacts_complete supervisor_name\n",
       "1 NA             NA                   NA                      NA             \n",
       "2 NA             NA                   NA                      Boss           \n",
       "3 NA             NA                   NA                      NA             \n",
       "4 (999) 999-9999 fake_email@gmail.com  2                      NA             \n",
       "5 (999) 999-9999 fake_email@gmail.com  2                      NA             \n",
       "6 NA             NA                   NA                      NA             \n",
       "  supervisor_email work_inperson_yesno work_date work_contagious\n",
       "1 NA               NA                  <NA>      NA             \n",
       "2 NA                0                  <NA>       0             \n",
       "3 NA               NA                  <NA>      NA             \n",
       "4 NA               NA                  <NA>      NA             \n",
       "5 NA               NA                  <NA>      NA             \n",
       "6 NA               NA                  <NA>      NA             \n",
       "  work_contagious_calc work_information_complete\n",
       "1 NA                   NA                       \n",
       "2 NA                    2                       \n",
       "3 NA                   NA                       \n",
       "4 NA                   NA                       \n",
       "5 NA                   NA                       \n",
       "6 NA                   NA                       "
      ]
     },
     "metadata": {},
     "output_type": "display_data"
    }
   ],
   "source": [
    "head(batched_export)"
   ]
  },
  {
   "cell_type": "markdown",
   "id": "531f4045-4ea9-456a-8119-efb8f9b9f958",
   "metadata": {},
   "source": [
    "The data exported using this method has the exact same format as `redcap_read_oneshot`."
   ]
  },
  {
   "cell_type": "markdown",
   "id": "8a9ab2ff-0afb-459c-b8df-7f1df0718b02",
   "metadata": {},
   "source": [
    "### Exporting the next available record_id"
   ]
  },
  {
   "cell_type": "markdown",
   "id": "9a2cfff2-c9c9-4c5e-877c-f36c2bf73732",
   "metadata": {},
   "source": [
    "When a project is set up in REDCap it has **Auto-numbering for records** enabled by default. This allows a new and unique record_id to be assigned every time you enter a new record. Before importing new records you may want to know what the next available record_id is to ensure you are assigning new record_id's to these new records before import (rather than overwriting an existing record). "
   ]
  },
  {
   "cell_type": "code",
   "execution_count": 53,
   "id": "d75ee6e4-a56b-4107-99cd-952b8e65301e",
   "metadata": {
    "tags": []
   },
   "outputs": [
    {
     "name": "stderr",
     "output_type": "stream",
     "text": [
      "The next free record name in REDCap was successfully determined in 0.9 seconds.  The http status code was 200.  Is is 7.\n",
      "\n"
     ]
    },
    {
     "data": {
      "text/html": [
       "'7'"
      ],
      "text/latex": [
       "'7'"
      ],
      "text/markdown": [
       "'7'"
      ],
      "text/plain": [
       "[1] \"7\""
      ]
     },
     "metadata": {},
     "output_type": "display_data"
    }
   ],
   "source": [
    "next_record <- redcap_next_free_record_name(\n",
    "    redcap_uri = url, \n",
    "    token = token, \n",
    "    verbose = TRUE,\n",
    "    config_options = NULL)\n",
    "\n",
    "next_record"
   ]
  },
  {
   "cell_type": "markdown",
   "id": "8db7cc0a-f53e-4d8b-a932-b102b4691ace",
   "metadata": {
    "tags": []
   },
   "source": [
    "## Reports"
   ]
  },
  {
   "cell_type": "markdown",
   "id": "fcf1104b-56bc-42b2-884f-a8186df51868",
   "metadata": {},
   "source": [
    "You can find the report_id of the report you want to export by going to your REDCap project and selecting \"Data Export, Reports, and Stats\" then \"My Reports & Exports\".\n",
    "<img src=\"../files/REDCAp_project.png\"/>"
   ]
  },
  {
   "cell_type": "code",
   "execution_count": 54,
   "id": "b6f1c420-5ab4-4ceb-9429-f6b12c8c450a",
   "metadata": {
    "tags": []
   },
   "outputs": [
    {
     "name": "stderr",
     "output_type": "stream",
     "text": [
      "20 records and 23 columns were read from REDCap in 1.1 seconds.  The http status code was 200.\n",
      "\n"
     ]
    }
   ],
   "source": [
    "cases_oct_2023 <- redcap_report(\n",
    "    redcap_uri = url, \n",
    "    token = token, \n",
    "    report_id = 1996\n",
    ")$data"
   ]
  },
  {
   "cell_type": "code",
   "execution_count": 55,
   "id": "40cae0b7-3992-4760-939f-070034d22539",
   "metadata": {
    "tags": []
   },
   "outputs": [
    {
     "data": {
      "text/html": [
       "<table class=\"dataframe\">\n",
       "<caption>A tibble: 6 × 23</caption>\n",
       "<thead>\n",
       "\t<tr><th scope=col>record_id</th><th scope=col>redcap_event_name</th><th scope=col>redcap_repeat_instrument</th><th scope=col>redcap_repeat_instance</th><th scope=col>first_name</th><th scope=col>last_name</th><th scope=col>phone_num</th><th scope=col>zip_code</th><th scope=col>dob</th><th scope=col>age</th><th scope=col>ethnicity</th><th scope=col>race</th><th scope=col>gender</th><th scope=col>symptoms_yesno</th><th scope=col>symptom_onset</th><th scope=col>symptoms_exp</th><th scope=col>symptom_notes</th><th scope=col>test_yesno</th><th scope=col>test_positive_yesno</th><th scope=col>test_positive_date</th><th scope=col>test_upload</th><th scope=col>prior_covid_yesno</th><th scope=col>prior_covid_date</th></tr>\n",
       "\t<tr><th scope=col>&lt;dbl&gt;</th><th scope=col>&lt;chr&gt;</th><th scope=col>&lt;lgl&gt;</th><th scope=col>&lt;dbl&gt;</th><th scope=col>&lt;chr&gt;</th><th scope=col>&lt;chr&gt;</th><th scope=col>&lt;chr&gt;</th><th scope=col>&lt;dbl&gt;</th><th scope=col>&lt;date&gt;</th><th scope=col>&lt;dbl&gt;</th><th scope=col>&lt;dbl&gt;</th><th scope=col>&lt;dbl&gt;</th><th scope=col>&lt;dbl&gt;</th><th scope=col>&lt;dbl&gt;</th><th scope=col>&lt;date&gt;</th><th scope=col>&lt;dbl&gt;</th><th scope=col>&lt;lgl&gt;</th><th scope=col>&lt;dbl&gt;</th><th scope=col>&lt;dbl&gt;</th><th scope=col>&lt;date&gt;</th><th scope=col>&lt;chr&gt;</th><th scope=col>&lt;dbl&gt;</th><th scope=col>&lt;date&gt;</th></tr>\n",
       "</thead>\n",
       "<tbody>\n",
       "\t<tr><td>1</td><td>notifications_arm_1</td><td>NA</td><td>NA</td><td>NA  </td><td>NA </td><td>NA            </td><td>   NA</td><td>NA</td><td>NA</td><td>NA</td><td>NA</td><td>NA</td><td>NA</td><td>NA</td><td>      NA</td><td>NA</td><td>NA</td><td>NA</td><td>NA</td><td>NA                       </td><td>NA</td><td>NA</td></tr>\n",
       "\t<tr><td>1</td><td>personal_info_arm_1</td><td>NA</td><td>NA</td><td>John</td><td>Doe</td><td>(999) 999-9999</td><td>98105</td><td>2004-12-05</td><td>18</td><td> 1</td><td> 4</td><td> 1</td><td>NA</td><td>NA</td><td>      NA</td><td>NA</td><td>NA</td><td>NA</td><td>NA</td><td>NA                       </td><td>NA</td><td>NA</td></tr>\n",
       "\t<tr><td>1</td><td>case_intake_arm_1  </td><td>NA</td><td> 1</td><td>NA  </td><td>NA </td><td>NA            </td><td>   NA</td><td>NA</td><td>NA</td><td>NA</td><td>NA</td><td>NA</td><td> 1</td><td>2023-10-09</td><td>     127</td><td>NA</td><td> 1</td><td> 1</td><td>2023-10-10</td><td>test_api_export_image.png</td><td> 0</td><td>NA</td></tr>\n",
       "\t<tr><td>2</td><td>notifications_arm_1</td><td>NA</td><td>NA</td><td>NA  </td><td>NA </td><td>NA            </td><td>   NA</td><td>NA</td><td>NA</td><td>NA</td><td>NA</td><td>NA</td><td>NA</td><td>NA</td><td>      NA</td><td>NA</td><td>NA</td><td>NA</td><td>NA</td><td>NA                       </td><td>NA</td><td>NA</td></tr>\n",
       "\t<tr><td>2</td><td>personal_info_arm_1</td><td>NA</td><td>NA</td><td>Jane</td><td>Doe</td><td>(999) 999-9999</td><td>98105</td><td>1995-06-29</td><td>28</td><td> 0</td><td> 5</td><td> 0</td><td>NA</td><td>NA</td><td>      NA</td><td>NA</td><td>NA</td><td>NA</td><td>NA</td><td>NA                       </td><td>NA</td><td>NA</td></tr>\n",
       "\t<tr><td>2</td><td>case_intake_arm_1  </td><td>NA</td><td> 2</td><td>NA  </td><td>NA </td><td>NA            </td><td>   NA</td><td>NA</td><td>NA</td><td>NA</td><td>NA</td><td>NA</td><td> 1</td><td>2021-06-05</td><td>12345789</td><td>NA</td><td> 1</td><td> 1</td><td>2021-06-07</td><td>test_api_export_pdf.pdf  </td><td> 0</td><td>NA</td></tr>\n",
       "</tbody>\n",
       "</table>\n"
      ],
      "text/latex": [
       "A tibble: 6 × 23\n",
       "\\begin{tabular}{lllllllllllllllllllllll}\n",
       " record\\_id & redcap\\_event\\_name & redcap\\_repeat\\_instrument & redcap\\_repeat\\_instance & first\\_name & last\\_name & phone\\_num & zip\\_code & dob & age & ethnicity & race & gender & symptoms\\_yesno & symptom\\_onset & symptoms\\_exp & symptom\\_notes & test\\_yesno & test\\_positive\\_yesno & test\\_positive\\_date & test\\_upload & prior\\_covid\\_yesno & prior\\_covid\\_date\\\\\n",
       " <dbl> & <chr> & <lgl> & <dbl> & <chr> & <chr> & <chr> & <dbl> & <date> & <dbl> & <dbl> & <dbl> & <dbl> & <dbl> & <date> & <dbl> & <lgl> & <dbl> & <dbl> & <date> & <chr> & <dbl> & <date>\\\\\n",
       "\\hline\n",
       "\t 1 & notifications\\_arm\\_1 & NA & NA & NA   & NA  & NA             &    NA & NA & NA & NA & NA & NA & NA & NA &       NA & NA & NA & NA & NA & NA                        & NA & NA\\\\\n",
       "\t 1 & personal\\_info\\_arm\\_1 & NA & NA & John & Doe & (999) 999-9999 & 98105 & 2004-12-05 & 18 &  1 &  4 &  1 & NA & NA &       NA & NA & NA & NA & NA & NA                        & NA & NA\\\\\n",
       "\t 1 & case\\_intake\\_arm\\_1   & NA &  1 & NA   & NA  & NA             &    NA & NA & NA & NA & NA & NA &  1 & 2023-10-09 &      127 & NA &  1 &  1 & 2023-10-10 & test\\_api\\_export\\_image.png &  0 & NA\\\\\n",
       "\t 2 & notifications\\_arm\\_1 & NA & NA & NA   & NA  & NA             &    NA & NA & NA & NA & NA & NA & NA & NA &       NA & NA & NA & NA & NA & NA                        & NA & NA\\\\\n",
       "\t 2 & personal\\_info\\_arm\\_1 & NA & NA & Jane & Doe & (999) 999-9999 & 98105 & 1995-06-29 & 28 &  0 &  5 &  0 & NA & NA &       NA & NA & NA & NA & NA & NA                        & NA & NA\\\\\n",
       "\t 2 & case\\_intake\\_arm\\_1   & NA &  2 & NA   & NA  & NA             &    NA & NA & NA & NA & NA & NA &  1 & 2021-06-05 & 12345789 & NA &  1 &  1 & 2021-06-07 & test\\_api\\_export\\_pdf.pdf   &  0 & NA\\\\\n",
       "\\end{tabular}\n"
      ],
      "text/markdown": [
       "\n",
       "A tibble: 6 × 23\n",
       "\n",
       "| record_id &lt;dbl&gt; | redcap_event_name &lt;chr&gt; | redcap_repeat_instrument &lt;lgl&gt; | redcap_repeat_instance &lt;dbl&gt; | first_name &lt;chr&gt; | last_name &lt;chr&gt; | phone_num &lt;chr&gt; | zip_code &lt;dbl&gt; | dob &lt;date&gt; | age &lt;dbl&gt; | ethnicity &lt;dbl&gt; | race &lt;dbl&gt; | gender &lt;dbl&gt; | symptoms_yesno &lt;dbl&gt; | symptom_onset &lt;date&gt; | symptoms_exp &lt;dbl&gt; | symptom_notes &lt;lgl&gt; | test_yesno &lt;dbl&gt; | test_positive_yesno &lt;dbl&gt; | test_positive_date &lt;date&gt; | test_upload &lt;chr&gt; | prior_covid_yesno &lt;dbl&gt; | prior_covid_date &lt;date&gt; |\n",
       "|---|---|---|---|---|---|---|---|---|---|---|---|---|---|---|---|---|---|---|---|---|---|---|\n",
       "| 1 | notifications_arm_1 | NA | NA | NA   | NA  | NA             |    NA | NA | NA | NA | NA | NA | NA | NA |       NA | NA | NA | NA | NA | NA                        | NA | NA |\n",
       "| 1 | personal_info_arm_1 | NA | NA | John | Doe | (999) 999-9999 | 98105 | 2004-12-05 | 18 |  1 |  4 |  1 | NA | NA |       NA | NA | NA | NA | NA | NA                        | NA | NA |\n",
       "| 1 | case_intake_arm_1   | NA |  1 | NA   | NA  | NA             |    NA | NA | NA | NA | NA | NA |  1 | 2023-10-09 |      127 | NA |  1 |  1 | 2023-10-10 | test_api_export_image.png |  0 | NA |\n",
       "| 2 | notifications_arm_1 | NA | NA | NA   | NA  | NA             |    NA | NA | NA | NA | NA | NA | NA | NA |       NA | NA | NA | NA | NA | NA                        | NA | NA |\n",
       "| 2 | personal_info_arm_1 | NA | NA | Jane | Doe | (999) 999-9999 | 98105 | 1995-06-29 | 28 |  0 |  5 |  0 | NA | NA |       NA | NA | NA | NA | NA | NA                        | NA | NA |\n",
       "| 2 | case_intake_arm_1   | NA |  2 | NA   | NA  | NA             |    NA | NA | NA | NA | NA | NA |  1 | 2021-06-05 | 12345789 | NA |  1 |  1 | 2021-06-07 | test_api_export_pdf.pdf   |  0 | NA |\n",
       "\n"
      ],
      "text/plain": [
       "  record_id redcap_event_name   redcap_repeat_instrument redcap_repeat_instance\n",
       "1 1         notifications_arm_1 NA                       NA                    \n",
       "2 1         personal_info_arm_1 NA                       NA                    \n",
       "3 1         case_intake_arm_1   NA                        1                    \n",
       "4 2         notifications_arm_1 NA                       NA                    \n",
       "5 2         personal_info_arm_1 NA                       NA                    \n",
       "6 2         case_intake_arm_1   NA                        2                    \n",
       "  first_name last_name phone_num      zip_code dob        age ethnicity race\n",
       "1 NA         NA        NA                NA    <NA>       NA  NA        NA  \n",
       "2 John       Doe       (999) 999-9999 98105    2004-12-05 18   1         4  \n",
       "3 NA         NA        NA                NA    <NA>       NA  NA        NA  \n",
       "4 NA         NA        NA                NA    <NA>       NA  NA        NA  \n",
       "5 Jane       Doe       (999) 999-9999 98105    1995-06-29 28   0         5  \n",
       "6 NA         NA        NA                NA    <NA>       NA  NA        NA  \n",
       "  gender symptoms_yesno symptom_onset symptoms_exp symptom_notes test_yesno\n",
       "1 NA     NA             <NA>                NA     NA            NA        \n",
       "2  1     NA             <NA>                NA     NA            NA        \n",
       "3 NA      1             2023-10-09         127     NA             1        \n",
       "4 NA     NA             <NA>                NA     NA            NA        \n",
       "5  0     NA             <NA>                NA     NA            NA        \n",
       "6 NA      1             2021-06-05    12345789     NA             1        \n",
       "  test_positive_yesno test_positive_date test_upload              \n",
       "1 NA                  <NA>               NA                       \n",
       "2 NA                  <NA>               NA                       \n",
       "3  1                  2023-10-10         test_api_export_image.png\n",
       "4 NA                  <NA>               NA                       \n",
       "5 NA                  <NA>               NA                       \n",
       "6  1                  2021-06-07         test_api_export_pdf.pdf  \n",
       "  prior_covid_yesno prior_covid_date\n",
       "1 NA                <NA>            \n",
       "2 NA                <NA>            \n",
       "3  0                <NA>            \n",
       "4 NA                <NA>            \n",
       "5 NA                <NA>            \n",
       "6  0                <NA>            "
      ]
     },
     "metadata": {},
     "output_type": "display_data"
    }
   ],
   "source": [
    "head(cases_oct_2023)"
   ]
  },
  {
   "cell_type": "markdown",
   "id": "87fd618c-5d69-44e8-b2be-d96ed2d410d0",
   "metadata": {},
   "source": [
    "Reports can also be exported as labeled data for readability."
   ]
  },
  {
   "cell_type": "code",
   "execution_count": 56,
   "id": "f370c85e-e636-45e7-8b7f-bfd47f53a07d",
   "metadata": {
    "tags": []
   },
   "outputs": [
    {
     "name": "stderr",
     "output_type": "stream",
     "text": [
      "20 records and 23 columns were read from REDCap in 1.1 seconds.  The http status code was 200.\n",
      "\n"
     ]
    }
   ],
   "source": [
    "cases_oct_2023_labeled <- redcap_report(\n",
    "    redcap_uri = url, \n",
    "    token = token,\n",
    "    report_id = 1996, \n",
    "    raw_or_label = 'label'\n",
    ")$data"
   ]
  },
  {
   "cell_type": "code",
   "execution_count": 57,
   "id": "7c60e910-5647-40c7-84c7-cd48f1c1de98",
   "metadata": {
    "tags": []
   },
   "outputs": [
    {
     "data": {
      "text/html": [
       "<table class=\"dataframe\">\n",
       "<caption>A tibble: 6 × 23</caption>\n",
       "<thead>\n",
       "\t<tr><th scope=col>record_id</th><th scope=col>redcap_event_name</th><th scope=col>redcap_repeat_instrument</th><th scope=col>redcap_repeat_instance</th><th scope=col>first_name</th><th scope=col>last_name</th><th scope=col>phone_num</th><th scope=col>zip_code</th><th scope=col>dob</th><th scope=col>age</th><th scope=col>ethnicity</th><th scope=col>race</th><th scope=col>gender</th><th scope=col>symptoms_yesno</th><th scope=col>symptom_onset</th><th scope=col>symptoms_exp</th><th scope=col>symptom_notes</th><th scope=col>test_yesno</th><th scope=col>test_positive_yesno</th><th scope=col>test_positive_date</th><th scope=col>test_upload</th><th scope=col>prior_covid_yesno</th><th scope=col>prior_covid_date</th></tr>\n",
       "\t<tr><th scope=col>&lt;dbl&gt;</th><th scope=col>&lt;chr&gt;</th><th scope=col>&lt;lgl&gt;</th><th scope=col>&lt;dbl&gt;</th><th scope=col>&lt;chr&gt;</th><th scope=col>&lt;chr&gt;</th><th scope=col>&lt;chr&gt;</th><th scope=col>&lt;dbl&gt;</th><th scope=col>&lt;date&gt;</th><th scope=col>&lt;dbl&gt;</th><th scope=col>&lt;chr&gt;</th><th scope=col>&lt;chr&gt;</th><th scope=col>&lt;chr&gt;</th><th scope=col>&lt;chr&gt;</th><th scope=col>&lt;date&gt;</th><th scope=col>&lt;chr&gt;</th><th scope=col>&lt;lgl&gt;</th><th scope=col>&lt;chr&gt;</th><th scope=col>&lt;chr&gt;</th><th scope=col>&lt;date&gt;</th><th scope=col>&lt;chr&gt;</th><th scope=col>&lt;chr&gt;</th><th scope=col>&lt;date&gt;</th></tr>\n",
       "</thead>\n",
       "<tbody>\n",
       "\t<tr><td>1</td><td>Notifications</td><td>NA</td><td>NA</td><td>NA  </td><td>NA </td><td>NA            </td><td>   NA</td><td>NA</td><td>NA</td><td>NA                    </td><td>NA                </td><td>NA    </td><td>NA </td><td>NA</td><td>NA                                                                                   </td><td>NA</td><td>NA </td><td>NA </td><td>NA</td><td>NA                       </td><td>NA</td><td>NA</td></tr>\n",
       "\t<tr><td>1</td><td>Personal Info</td><td>NA</td><td>NA</td><td>John</td><td>Doe</td><td>(999) 999-9999</td><td>98105</td><td>2004-12-05</td><td>18</td><td>NOT Hispanic or Latino</td><td>White             </td><td>Male  </td><td>NA </td><td>NA</td><td>NA                                                                                   </td><td>NA</td><td>NA </td><td>NA </td><td>NA</td><td>NA                       </td><td>NA</td><td>NA</td></tr>\n",
       "\t<tr><td>1</td><td>Case Intake  </td><td>NA</td><td> 1</td><td>NA  </td><td>NA </td><td>NA            </td><td>   NA</td><td>NA</td><td>NA</td><td>NA                    </td><td>NA                </td><td>NA    </td><td>Yes</td><td>2023-10-09</td><td>Sore Throat,Cough,Congestion                                                         </td><td>NA</td><td>Yes</td><td>Yes</td><td>2023-10-10</td><td>test_api_export_image.png</td><td>No</td><td>NA</td></tr>\n",
       "\t<tr><td>2</td><td>Notifications</td><td>NA</td><td>NA</td><td>NA  </td><td>NA </td><td>NA            </td><td>   NA</td><td>NA</td><td>NA</td><td>NA                    </td><td>NA                </td><td>NA    </td><td>NA </td><td>NA</td><td>NA                                                                                   </td><td>NA</td><td>NA </td><td>NA </td><td>NA</td><td>NA                       </td><td>NA</td><td>NA</td></tr>\n",
       "\t<tr><td>2</td><td>Personal Info</td><td>NA</td><td>NA</td><td>Jane</td><td>Doe</td><td>(999) 999-9999</td><td>98105</td><td>1995-06-29</td><td>28</td><td>Hispanic or Latino    </td><td>More Than One Race</td><td>Female</td><td>NA </td><td>NA</td><td>NA                                                                                   </td><td>NA</td><td>NA </td><td>NA </td><td>NA</td><td>NA                       </td><td>NA</td><td>NA</td></tr>\n",
       "\t<tr><td>2</td><td>Case Intake  </td><td>NA</td><td> 2</td><td>NA  </td><td>NA </td><td>NA            </td><td>   NA</td><td>NA</td><td>NA</td><td>NA                    </td><td>NA                </td><td>NA    </td><td>Yes</td><td>2021-06-05</td><td>Sore Throat,Cough,Shortness of Breath,Chest Pain,Headache,Congestion,Fever,Body Aches</td><td>NA</td><td>Yes</td><td>Yes</td><td>2021-06-07</td><td>test_api_export_pdf.pdf  </td><td>No</td><td>NA</td></tr>\n",
       "</tbody>\n",
       "</table>\n"
      ],
      "text/latex": [
       "A tibble: 6 × 23\n",
       "\\begin{tabular}{lllllllllllllllllllllll}\n",
       " record\\_id & redcap\\_event\\_name & redcap\\_repeat\\_instrument & redcap\\_repeat\\_instance & first\\_name & last\\_name & phone\\_num & zip\\_code & dob & age & ethnicity & race & gender & symptoms\\_yesno & symptom\\_onset & symptoms\\_exp & symptom\\_notes & test\\_yesno & test\\_positive\\_yesno & test\\_positive\\_date & test\\_upload & prior\\_covid\\_yesno & prior\\_covid\\_date\\\\\n",
       " <dbl> & <chr> & <lgl> & <dbl> & <chr> & <chr> & <chr> & <dbl> & <date> & <dbl> & <chr> & <chr> & <chr> & <chr> & <date> & <chr> & <lgl> & <chr> & <chr> & <date> & <chr> & <chr> & <date>\\\\\n",
       "\\hline\n",
       "\t 1 & Notifications & NA & NA & NA   & NA  & NA             &    NA & NA & NA & NA                     & NA                 & NA     & NA  & NA & NA                                                                                    & NA & NA  & NA  & NA & NA                        & NA & NA\\\\\n",
       "\t 1 & Personal Info & NA & NA & John & Doe & (999) 999-9999 & 98105 & 2004-12-05 & 18 & NOT Hispanic or Latino & White              & Male   & NA  & NA & NA                                                                                    & NA & NA  & NA  & NA & NA                        & NA & NA\\\\\n",
       "\t 1 & Case Intake   & NA &  1 & NA   & NA  & NA             &    NA & NA & NA & NA                     & NA                 & NA     & Yes & 2023-10-09 & Sore Throat,Cough,Congestion                                                          & NA & Yes & Yes & 2023-10-10 & test\\_api\\_export\\_image.png & No & NA\\\\\n",
       "\t 2 & Notifications & NA & NA & NA   & NA  & NA             &    NA & NA & NA & NA                     & NA                 & NA     & NA  & NA & NA                                                                                    & NA & NA  & NA  & NA & NA                        & NA & NA\\\\\n",
       "\t 2 & Personal Info & NA & NA & Jane & Doe & (999) 999-9999 & 98105 & 1995-06-29 & 28 & Hispanic or Latino     & More Than One Race & Female & NA  & NA & NA                                                                                    & NA & NA  & NA  & NA & NA                        & NA & NA\\\\\n",
       "\t 2 & Case Intake   & NA &  2 & NA   & NA  & NA             &    NA & NA & NA & NA                     & NA                 & NA     & Yes & 2021-06-05 & Sore Throat,Cough,Shortness of Breath,Chest Pain,Headache,Congestion,Fever,Body Aches & NA & Yes & Yes & 2021-06-07 & test\\_api\\_export\\_pdf.pdf   & No & NA\\\\\n",
       "\\end{tabular}\n"
      ],
      "text/markdown": [
       "\n",
       "A tibble: 6 × 23\n",
       "\n",
       "| record_id &lt;dbl&gt; | redcap_event_name &lt;chr&gt; | redcap_repeat_instrument &lt;lgl&gt; | redcap_repeat_instance &lt;dbl&gt; | first_name &lt;chr&gt; | last_name &lt;chr&gt; | phone_num &lt;chr&gt; | zip_code &lt;dbl&gt; | dob &lt;date&gt; | age &lt;dbl&gt; | ethnicity &lt;chr&gt; | race &lt;chr&gt; | gender &lt;chr&gt; | symptoms_yesno &lt;chr&gt; | symptom_onset &lt;date&gt; | symptoms_exp &lt;chr&gt; | symptom_notes &lt;lgl&gt; | test_yesno &lt;chr&gt; | test_positive_yesno &lt;chr&gt; | test_positive_date &lt;date&gt; | test_upload &lt;chr&gt; | prior_covid_yesno &lt;chr&gt; | prior_covid_date &lt;date&gt; |\n",
       "|---|---|---|---|---|---|---|---|---|---|---|---|---|---|---|---|---|---|---|---|---|---|---|\n",
       "| 1 | Notifications | NA | NA | NA   | NA  | NA             |    NA | NA | NA | NA                     | NA                 | NA     | NA  | NA | NA                                                                                    | NA | NA  | NA  | NA | NA                        | NA | NA |\n",
       "| 1 | Personal Info | NA | NA | John | Doe | (999) 999-9999 | 98105 | 2004-12-05 | 18 | NOT Hispanic or Latino | White              | Male   | NA  | NA | NA                                                                                    | NA | NA  | NA  | NA | NA                        | NA | NA |\n",
       "| 1 | Case Intake   | NA |  1 | NA   | NA  | NA             |    NA | NA | NA | NA                     | NA                 | NA     | Yes | 2023-10-09 | Sore Throat,Cough,Congestion                                                          | NA | Yes | Yes | 2023-10-10 | test_api_export_image.png | No | NA |\n",
       "| 2 | Notifications | NA | NA | NA   | NA  | NA             |    NA | NA | NA | NA                     | NA                 | NA     | NA  | NA | NA                                                                                    | NA | NA  | NA  | NA | NA                        | NA | NA |\n",
       "| 2 | Personal Info | NA | NA | Jane | Doe | (999) 999-9999 | 98105 | 1995-06-29 | 28 | Hispanic or Latino     | More Than One Race | Female | NA  | NA | NA                                                                                    | NA | NA  | NA  | NA | NA                        | NA | NA |\n",
       "| 2 | Case Intake   | NA |  2 | NA   | NA  | NA             |    NA | NA | NA | NA                     | NA                 | NA     | Yes | 2021-06-05 | Sore Throat,Cough,Shortness of Breath,Chest Pain,Headache,Congestion,Fever,Body Aches | NA | Yes | Yes | 2021-06-07 | test_api_export_pdf.pdf   | No | NA |\n",
       "\n"
      ],
      "text/plain": [
       "  record_id redcap_event_name redcap_repeat_instrument redcap_repeat_instance\n",
       "1 1         Notifications     NA                       NA                    \n",
       "2 1         Personal Info     NA                       NA                    \n",
       "3 1         Case Intake       NA                        1                    \n",
       "4 2         Notifications     NA                       NA                    \n",
       "5 2         Personal Info     NA                       NA                    \n",
       "6 2         Case Intake       NA                        2                    \n",
       "  first_name last_name phone_num      zip_code dob        age\n",
       "1 NA         NA        NA                NA    <NA>       NA \n",
       "2 John       Doe       (999) 999-9999 98105    2004-12-05 18 \n",
       "3 NA         NA        NA                NA    <NA>       NA \n",
       "4 NA         NA        NA                NA    <NA>       NA \n",
       "5 Jane       Doe       (999) 999-9999 98105    1995-06-29 28 \n",
       "6 NA         NA        NA                NA    <NA>       NA \n",
       "  ethnicity              race               gender symptoms_yesno symptom_onset\n",
       "1 NA                     NA                 NA     NA             <NA>         \n",
       "2 NOT Hispanic or Latino White              Male   NA             <NA>         \n",
       "3 NA                     NA                 NA     Yes            2023-10-09   \n",
       "4 NA                     NA                 NA     NA             <NA>         \n",
       "5 Hispanic or Latino     More Than One Race Female NA             <NA>         \n",
       "6 NA                     NA                 NA     Yes            2021-06-05   \n",
       "  symptoms_exp                                                                         \n",
       "1 NA                                                                                   \n",
       "2 NA                                                                                   \n",
       "3 Sore Throat,Cough,Congestion                                                         \n",
       "4 NA                                                                                   \n",
       "5 NA                                                                                   \n",
       "6 Sore Throat,Cough,Shortness of Breath,Chest Pain,Headache,Congestion,Fever,Body Aches\n",
       "  symptom_notes test_yesno test_positive_yesno test_positive_date\n",
       "1 NA            NA         NA                  <NA>              \n",
       "2 NA            NA         NA                  <NA>              \n",
       "3 NA            Yes        Yes                 2023-10-10        \n",
       "4 NA            NA         NA                  <NA>              \n",
       "5 NA            NA         NA                  <NA>              \n",
       "6 NA            Yes        Yes                 2021-06-07        \n",
       "  test_upload               prior_covid_yesno prior_covid_date\n",
       "1 NA                        NA                <NA>            \n",
       "2 NA                        NA                <NA>            \n",
       "3 test_api_export_image.png No                <NA>            \n",
       "4 NA                        NA                <NA>            \n",
       "5 NA                        NA                <NA>            \n",
       "6 test_api_export_pdf.pdf   No                <NA>            "
      ]
     },
     "metadata": {},
     "output_type": "display_data"
    }
   ],
   "source": [
    "head(cases_oct_2023_labeled)"
   ]
  },
  {
   "cell_type": "markdown",
   "id": "f68dd944-1b23-48c7-b9e7-2956403da49c",
   "metadata": {
    "tags": []
   },
   "source": [
    "## Files: Optional Attachments to Individual Records"
   ]
  },
  {
   "cell_type": "markdown",
   "id": "dd193a5b-e348-44b2-816b-0705fce274b9",
   "metadata": {},
   "source": [
    "File uploads are a unique field type in REDCap that accept a variety of file types, including images and other documents. Unlike other export methods, exporting files only works for one file field from one record at a time. \n",
    "\n",
    "If the project has repeating events (i.e. a longitudinal project), the event name must be specified. If the file of interest is in a repeat instance, the instance number must also be specified."
   ]
  },
  {
   "cell_type": "markdown",
   "id": "93c07025-b1b7-4c8c-bd79-12fed5664beb",
   "metadata": {},
   "source": [
    "##### ex. png file"
   ]
  },
  {
   "cell_type": "code",
   "execution_count": 55,
   "id": "f3794091-8935-4183-8126-2cbd80a28cfd",
   "metadata": {
    "tags": []
   },
   "outputs": [
    {
     "name": "stderr",
     "output_type": "stream",
     "text": [
      "Preparing to download the file `../files/test_file.png`.\n",
      "\n",
      "image/png; name=\"test_api_export_image.png\" successfully downloaded in 0.8 seconds, and saved as ../files/test_file.png.\n",
      "\n"
     ]
    }
   ],
   "source": [
    "result_1 <- redcap_file_download_oneshot(\n",
    "    event = \"case_intake_arm_1\",\n",
    "    file_name = \"test_file.png\",\n",
    "    directory = \"../files\",\n",
    "    record = 1,\n",
    "    field = \"test_upload\",\n",
    "    redcap_uri = url,\n",
    "    token = token,\n",
    "    overwrite = TRUE\n",
    ")\n",
    "\n",
    "# Event must be specified in longitudinal projects. \n",
    "# Default repeat instance is 1. This must be specified if the file is in a different instance."
   ]
  },
  {
   "cell_type": "markdown",
   "id": "f14c4ba4-83f6-457e-9fa4-3ee40e682c3d",
   "metadata": {},
   "source": [
    "<img src=\"../files/test_file.png\" width=400 height=400 />"
   ]
  },
  {
   "cell_type": "markdown",
   "id": "0115e785-424c-4a08-8bcb-07ed9e870845",
   "metadata": {
    "tags": []
   },
   "source": [
    "## Survey Metadata"
   ]
  },
  {
   "cell_type": "code",
   "execution_count": 29,
   "id": "3c12d65d-0663-456e-bfc7-bf638b9fd9c9",
   "metadata": {
    "tags": []
   },
   "outputs": [
    {
     "name": "stderr",
     "output_type": "stream",
     "text": [
      "The data dictionary describing 30 fields was read from REDCap in 0.3 seconds.  The http status code was 200.\n",
      "\n"
     ]
    }
   ],
   "source": [
    "metadata <- redcap_metadata_read(\n",
    "    redcap_uri = url, \n",
    "    token = token\n",
    ")$data"
   ]
  },
  {
   "cell_type": "code",
   "execution_count": 30,
   "id": "37a9b86f-8e93-4dce-a1f8-2b230163808d",
   "metadata": {
    "tags": []
   },
   "outputs": [
    {
     "data": {
      "text/html": [
       "<table class=\"dataframe\">\n",
       "<caption>A tibble: 6 × 18</caption>\n",
       "<thead>\n",
       "\t<tr><th scope=col>field_name</th><th scope=col>form_name</th><th scope=col>section_header</th><th scope=col>field_type</th><th scope=col>field_label</th><th scope=col>select_choices_or_calculations</th><th scope=col>field_note</th><th scope=col>text_validation_type_or_show_slider_number</th><th scope=col>text_validation_min</th><th scope=col>text_validation_max</th><th scope=col>identifier</th><th scope=col>branching_logic</th><th scope=col>required_field</th><th scope=col>custom_alignment</th><th scope=col>question_number</th><th scope=col>matrix_group_name</th><th scope=col>matrix_ranking</th><th scope=col>field_annotation</th></tr>\n",
       "\t<tr><th scope=col>&lt;chr&gt;</th><th scope=col>&lt;chr&gt;</th><th scope=col>&lt;chr&gt;</th><th scope=col>&lt;chr&gt;</th><th scope=col>&lt;chr&gt;</th><th scope=col>&lt;chr&gt;</th><th scope=col>&lt;chr&gt;</th><th scope=col>&lt;chr&gt;</th><th scope=col>&lt;chr&gt;</th><th scope=col>&lt;chr&gt;</th><th scope=col>&lt;chr&gt;</th><th scope=col>&lt;chr&gt;</th><th scope=col>&lt;chr&gt;</th><th scope=col>&lt;chr&gt;</th><th scope=col>&lt;chr&gt;</th><th scope=col>&lt;chr&gt;</th><th scope=col>&lt;chr&gt;</th><th scope=col>&lt;chr&gt;</th></tr>\n",
       "</thead>\n",
       "<tbody>\n",
       "\t<tr><td>record_id </td><td>demographics</td><td>NA                  </td><td>text</td><td>Study ID     </td><td>NA</td><td>NA</td><td>NA      </td><td>NA   </td><td>NA   </td><td>NA</td><td>NA</td><td>NA</td><td>NA</td><td>NA</td><td>NA</td><td>NA</td><td>NA</td></tr>\n",
       "\t<tr><td>first_name</td><td>demographics</td><td>Personal Information</td><td>text</td><td>First Name   </td><td>NA</td><td>NA</td><td>NA      </td><td>NA   </td><td>NA   </td><td>NA</td><td>NA</td><td>NA</td><td>NA</td><td>NA</td><td>NA</td><td>NA</td><td>NA</td></tr>\n",
       "\t<tr><td>last_name </td><td>demographics</td><td>NA                  </td><td>text</td><td>Last Name    </td><td>NA</td><td>NA</td><td>NA      </td><td>NA   </td><td>NA   </td><td>NA</td><td>NA</td><td>NA</td><td>NA</td><td>NA</td><td>NA</td><td>NA</td><td>NA</td></tr>\n",
       "\t<tr><td>phone_num </td><td>demographics</td><td>NA                  </td><td>text</td><td>Phone Number </td><td>NA</td><td>NA</td><td>phone   </td><td>NA   </td><td>NA   </td><td>NA</td><td>NA</td><td>NA</td><td>NA</td><td>NA</td><td>NA</td><td>NA</td><td>NA</td></tr>\n",
       "\t<tr><td>zip_code  </td><td>demographics</td><td>NA                  </td><td>text</td><td>ZIP Code     </td><td>NA</td><td>NA</td><td>integer </td><td>10001</td><td>99999</td><td>y </td><td>NA</td><td>NA</td><td>NA</td><td>NA</td><td>NA</td><td>NA</td><td>NA</td></tr>\n",
       "\t<tr><td>dob       </td><td>demographics</td><td>NA                  </td><td>text</td><td>Date of birth</td><td>NA</td><td>NA</td><td>date_mdy</td><td>NA   </td><td>NA   </td><td>y </td><td>NA</td><td>NA</td><td>NA</td><td>NA</td><td>NA</td><td>NA</td><td>NA</td></tr>\n",
       "</tbody>\n",
       "</table>\n"
      ],
      "text/latex": [
       "A tibble: 6 × 18\n",
       "\\begin{tabular}{llllllllllllllllll}\n",
       " field\\_name & form\\_name & section\\_header & field\\_type & field\\_label & select\\_choices\\_or\\_calculations & field\\_note & text\\_validation\\_type\\_or\\_show\\_slider\\_number & text\\_validation\\_min & text\\_validation\\_max & identifier & branching\\_logic & required\\_field & custom\\_alignment & question\\_number & matrix\\_group\\_name & matrix\\_ranking & field\\_annotation\\\\\n",
       " <chr> & <chr> & <chr> & <chr> & <chr> & <chr> & <chr> & <chr> & <chr> & <chr> & <chr> & <chr> & <chr> & <chr> & <chr> & <chr> & <chr> & <chr>\\\\\n",
       "\\hline\n",
       "\t record\\_id  & demographics & NA                   & text & Study ID      & NA & NA & NA       & NA    & NA    & NA & NA & NA & NA & NA & NA & NA & NA\\\\\n",
       "\t first\\_name & demographics & Personal Information & text & First Name    & NA & NA & NA       & NA    & NA    & NA & NA & NA & NA & NA & NA & NA & NA\\\\\n",
       "\t last\\_name  & demographics & NA                   & text & Last Name     & NA & NA & NA       & NA    & NA    & NA & NA & NA & NA & NA & NA & NA & NA\\\\\n",
       "\t phone\\_num  & demographics & NA                   & text & Phone Number  & NA & NA & phone    & NA    & NA    & NA & NA & NA & NA & NA & NA & NA & NA\\\\\n",
       "\t zip\\_code   & demographics & NA                   & text & ZIP Code      & NA & NA & integer  & 10001 & 99999 & y  & NA & NA & NA & NA & NA & NA & NA\\\\\n",
       "\t dob        & demographics & NA                   & text & Date of birth & NA & NA & date\\_mdy & NA    & NA    & y  & NA & NA & NA & NA & NA & NA & NA\\\\\n",
       "\\end{tabular}\n"
      ],
      "text/markdown": [
       "\n",
       "A tibble: 6 × 18\n",
       "\n",
       "| field_name &lt;chr&gt; | form_name &lt;chr&gt; | section_header &lt;chr&gt; | field_type &lt;chr&gt; | field_label &lt;chr&gt; | select_choices_or_calculations &lt;chr&gt; | field_note &lt;chr&gt; | text_validation_type_or_show_slider_number &lt;chr&gt; | text_validation_min &lt;chr&gt; | text_validation_max &lt;chr&gt; | identifier &lt;chr&gt; | branching_logic &lt;chr&gt; | required_field &lt;chr&gt; | custom_alignment &lt;chr&gt; | question_number &lt;chr&gt; | matrix_group_name &lt;chr&gt; | matrix_ranking &lt;chr&gt; | field_annotation &lt;chr&gt; |\n",
       "|---|---|---|---|---|---|---|---|---|---|---|---|---|---|---|---|---|---|\n",
       "| record_id  | demographics | NA                   | text | Study ID      | NA | NA | NA       | NA    | NA    | NA | NA | NA | NA | NA | NA | NA | NA |\n",
       "| first_name | demographics | Personal Information | text | First Name    | NA | NA | NA       | NA    | NA    | NA | NA | NA | NA | NA | NA | NA | NA |\n",
       "| last_name  | demographics | NA                   | text | Last Name     | NA | NA | NA       | NA    | NA    | NA | NA | NA | NA | NA | NA | NA | NA |\n",
       "| phone_num  | demographics | NA                   | text | Phone Number  | NA | NA | phone    | NA    | NA    | NA | NA | NA | NA | NA | NA | NA | NA |\n",
       "| zip_code   | demographics | NA                   | text | ZIP Code      | NA | NA | integer  | 10001 | 99999 | y  | NA | NA | NA | NA | NA | NA | NA |\n",
       "| dob        | demographics | NA                   | text | Date of birth | NA | NA | date_mdy | NA    | NA    | y  | NA | NA | NA | NA | NA | NA | NA |\n",
       "\n"
      ],
      "text/plain": [
       "  field_name form_name    section_header       field_type field_label  \n",
       "1 record_id  demographics NA                   text       Study ID     \n",
       "2 first_name demographics Personal Information text       First Name   \n",
       "3 last_name  demographics NA                   text       Last Name    \n",
       "4 phone_num  demographics NA                   text       Phone Number \n",
       "5 zip_code   demographics NA                   text       ZIP Code     \n",
       "6 dob        demographics NA                   text       Date of birth\n",
       "  select_choices_or_calculations field_note\n",
       "1 NA                             NA        \n",
       "2 NA                             NA        \n",
       "3 NA                             NA        \n",
       "4 NA                             NA        \n",
       "5 NA                             NA        \n",
       "6 NA                             NA        \n",
       "  text_validation_type_or_show_slider_number text_validation_min\n",
       "1 NA                                         NA                 \n",
       "2 NA                                         NA                 \n",
       "3 NA                                         NA                 \n",
       "4 phone                                      NA                 \n",
       "5 integer                                    10001              \n",
       "6 date_mdy                                   NA                 \n",
       "  text_validation_max identifier branching_logic required_field\n",
       "1 NA                  NA         NA              NA            \n",
       "2 NA                  NA         NA              NA            \n",
       "3 NA                  NA         NA              NA            \n",
       "4 NA                  NA         NA              NA            \n",
       "5 99999               y          NA              NA            \n",
       "6 NA                  y          NA              NA            \n",
       "  custom_alignment question_number matrix_group_name matrix_ranking\n",
       "1 NA               NA              NA                NA            \n",
       "2 NA               NA              NA                NA            \n",
       "3 NA               NA              NA                NA            \n",
       "4 NA               NA              NA                NA            \n",
       "5 NA               NA              NA                NA            \n",
       "6 NA               NA              NA                NA            \n",
       "  field_annotation\n",
       "1 NA              \n",
       "2 NA              \n",
       "3 NA              \n",
       "4 NA              \n",
       "5 NA              \n",
       "6 NA              "
      ]
     },
     "metadata": {},
     "output_type": "display_data"
    }
   ],
   "source": [
    "head(metadata)"
   ]
  },
  {
   "cell_type": "markdown",
   "id": "48c95a33-d8fc-4bc3-9f4a-47a13c8d47f5",
   "metadata": {},
   "source": [
    "## Field Names"
   ]
  },
  {
   "cell_type": "code",
   "execution_count": 35,
   "id": "b0f296d5-3dd2-4af9-851c-8751d034e54b",
   "metadata": {
    "tags": []
   },
   "outputs": [
    {
     "name": "stderr",
     "output_type": "stream",
     "text": [
      "44 variable metadata records were read from REDCap in 0.3 seconds.  The http status code was 200.\n",
      "\n"
     ]
    }
   ],
   "source": [
    "field_names <- redcap_variables(\n",
    "    redcap_uri = url, \n",
    "    token = token, \n",
    "    verbose = TRUE, \n",
    "    config_options = NULL\n",
    ")$data"
   ]
  },
  {
   "cell_type": "code",
   "execution_count": 36,
   "id": "9f945db0-5edc-40ba-9287-05aaa82a00d9",
   "metadata": {
    "tags": []
   },
   "outputs": [
    {
     "data": {
      "text/html": [
       "<table class=\"dataframe\">\n",
       "<caption>A tibble: 6 × 3</caption>\n",
       "<thead>\n",
       "\t<tr><th scope=col>original_field_name</th><th scope=col>choice_value</th><th scope=col>export_field_name</th></tr>\n",
       "\t<tr><th scope=col>&lt;chr&gt;</th><th scope=col>&lt;dbl&gt;</th><th scope=col>&lt;chr&gt;</th></tr>\n",
       "</thead>\n",
       "<tbody>\n",
       "\t<tr><td>record_id </td><td>NA</td><td>record_id </td></tr>\n",
       "\t<tr><td>first_name</td><td>NA</td><td>first_name</td></tr>\n",
       "\t<tr><td>last_name </td><td>NA</td><td>last_name </td></tr>\n",
       "\t<tr><td>phone_num </td><td>NA</td><td>phone_num </td></tr>\n",
       "\t<tr><td>zip_code  </td><td>NA</td><td>zip_code  </td></tr>\n",
       "\t<tr><td>dob       </td><td>NA</td><td>dob       </td></tr>\n",
       "</tbody>\n",
       "</table>\n"
      ],
      "text/latex": [
       "A tibble: 6 × 3\n",
       "\\begin{tabular}{lll}\n",
       " original\\_field\\_name & choice\\_value & export\\_field\\_name\\\\\n",
       " <chr> & <dbl> & <chr>\\\\\n",
       "\\hline\n",
       "\t record\\_id  & NA & record\\_id \\\\\n",
       "\t first\\_name & NA & first\\_name\\\\\n",
       "\t last\\_name  & NA & last\\_name \\\\\n",
       "\t phone\\_num  & NA & phone\\_num \\\\\n",
       "\t zip\\_code   & NA & zip\\_code  \\\\\n",
       "\t dob        & NA & dob       \\\\\n",
       "\\end{tabular}\n"
      ],
      "text/markdown": [
       "\n",
       "A tibble: 6 × 3\n",
       "\n",
       "| original_field_name &lt;chr&gt; | choice_value &lt;dbl&gt; | export_field_name &lt;chr&gt; |\n",
       "|---|---|---|\n",
       "| record_id  | NA | record_id  |\n",
       "| first_name | NA | first_name |\n",
       "| last_name  | NA | last_name  |\n",
       "| phone_num  | NA | phone_num  |\n",
       "| zip_code   | NA | zip_code   |\n",
       "| dob        | NA | dob        |\n",
       "\n"
      ],
      "text/plain": [
       "  original_field_name choice_value export_field_name\n",
       "1 record_id           NA           record_id        \n",
       "2 first_name          NA           first_name       \n",
       "3 last_name           NA           last_name        \n",
       "4 phone_num           NA           phone_num        \n",
       "5 zip_code            NA           zip_code         \n",
       "6 dob                 NA           dob              "
      ]
     },
     "metadata": {},
     "output_type": "display_data"
    }
   ],
   "source": [
    "head(field_names)"
   ]
  },
  {
   "cell_type": "markdown",
   "id": "76c1335b-3271-4dc2-bc1a-7ae2fbb1f4e3",
   "metadata": {},
   "source": [
    "## Forms and Instruments"
   ]
  },
  {
   "cell_type": "markdown",
   "id": "f367d09b-c99b-46b2-809e-08efcfbb1355",
   "metadata": {},
   "source": [
    "### Instrument Names and Corresponding Labels"
   ]
  },
  {
   "cell_type": "code",
   "execution_count": 37,
   "id": "1e8166fc-334e-4ace-a27c-8a086abf3de8",
   "metadata": {
    "tags": []
   },
   "outputs": [
    {
     "name": "stderr",
     "output_type": "stream",
     "text": [
      "5 instrument metadata records were read from REDCap in 0.2 seconds.  The http status code was 200.\n",
      "\n"
     ]
    }
   ],
   "source": [
    "instruments <- redcap_instruments(\n",
    "    redcap_uri = url, \n",
    "    token = token, \n",
    "    verbose = TRUE, \n",
    "    config_options = NULL\n",
    ")$data"
   ]
  },
  {
   "cell_type": "code",
   "execution_count": 38,
   "id": "8276700e-1087-44ec-905c-3b5ef6bdcafb",
   "metadata": {
    "tags": []
   },
   "outputs": [
    {
     "data": {
      "text/html": [
       "<table class=\"dataframe\">\n",
       "<caption>A tibble: 5 × 2</caption>\n",
       "<thead>\n",
       "\t<tr><th scope=col>instrument_name</th><th scope=col>instrument_label</th></tr>\n",
       "\t<tr><th scope=col>&lt;chr&gt;</th><th scope=col>&lt;chr&gt;</th></tr>\n",
       "</thead>\n",
       "<tbody>\n",
       "\t<tr><td>demographics    </td><td>Demographics    </td></tr>\n",
       "\t<tr><td>symptoms        </td><td>Symptoms        </td></tr>\n",
       "\t<tr><td>test_information</td><td>Test Information</td></tr>\n",
       "\t<tr><td>close_contacts  </td><td>Close Contacts  </td></tr>\n",
       "\t<tr><td>work_information</td><td>Work Information</td></tr>\n",
       "</tbody>\n",
       "</table>\n"
      ],
      "text/latex": [
       "A tibble: 5 × 2\n",
       "\\begin{tabular}{ll}\n",
       " instrument\\_name & instrument\\_label\\\\\n",
       " <chr> & <chr>\\\\\n",
       "\\hline\n",
       "\t demographics     & Demographics    \\\\\n",
       "\t symptoms         & Symptoms        \\\\\n",
       "\t test\\_information & Test Information\\\\\n",
       "\t close\\_contacts   & Close Contacts  \\\\\n",
       "\t work\\_information & Work Information\\\\\n",
       "\\end{tabular}\n"
      ],
      "text/markdown": [
       "\n",
       "A tibble: 5 × 2\n",
       "\n",
       "| instrument_name &lt;chr&gt; | instrument_label &lt;chr&gt; |\n",
       "|---|---|\n",
       "| demographics     | Demographics     |\n",
       "| symptoms         | Symptoms         |\n",
       "| test_information | Test Information |\n",
       "| close_contacts   | Close Contacts   |\n",
       "| work_information | Work Information |\n",
       "\n"
      ],
      "text/plain": [
       "  instrument_name  instrument_label\n",
       "1 demographics     Demographics    \n",
       "2 symptoms         Symptoms        \n",
       "3 test_information Test Information\n",
       "4 close_contacts   Close Contacts  \n",
       "5 work_information Work Information"
      ]
     },
     "metadata": {},
     "output_type": "display_data"
    }
   ],
   "source": [
    "head(instruments)"
   ]
  },
  {
   "cell_type": "markdown",
   "id": "e98d23eb-113b-48ca-854e-33f62a8f943b",
   "metadata": {},
   "source": [
    "**Note:** Use the `instrument_name` version when specifying instruments as arguments in REDCapR functions."
   ]
  },
  {
   "cell_type": "markdown",
   "id": "0d4c11e3-a12a-433e-b898-a3c973b6edc0",
   "metadata": {
    "tags": []
   },
   "source": [
    "### Download PDF of Instruments"
   ]
  },
  {
   "cell_type": "markdown",
   "id": "21d1af7b-aa12-457b-83c3-ba97416f3190",
   "metadata": {},
   "source": [
    "This will download the instrument specified and all of the fields as a cleanly formatted questionnaire pdf file. "
   ]
  },
  {
   "cell_type": "code",
   "execution_count": 57,
   "id": "bea32367-0f61-45ec-ae2b-6b04528be7b0",
   "metadata": {
    "tags": []
   },
   "outputs": [
    {
     "name": "stderr",
     "output_type": "stream",
     "text": [
      "Preparing to download the file `../files/symptoms_instrument.pdf`.\n",
      "\n",
      "text/html; charset=utf-8 successfully downloaded in 0.4 seconds, and saved as ../files/symptoms_instrument.pdf.\n",
      "\n"
     ]
    }
   ],
   "source": [
    "# export an instrument\n",
    "result_3 <- redcap_instrument_download(\n",
    "    instrument = \"symptoms\",\n",
    "    directory = \"../files\",\n",
    "    file_name = \"symptoms_instrument.pdf\",\n",
    "    redcap_uri = url,\n",
    "    overwrite = TRUE,\n",
    "    token = token\n",
    ")"
   ]
  },
  {
   "cell_type": "markdown",
   "id": "ddacd1da-d2cb-4ead-befe-00d493107fce",
   "metadata": {},
   "source": [
    "## Instrument Event Map"
   ]
  },
  {
   "cell_type": "code",
   "execution_count": 73,
   "id": "a57d8900-58e1-48c4-931d-1962946a44dc",
   "metadata": {
    "tags": []
   },
   "outputs": [
    {
     "name": "stderr",
     "output_type": "stream",
     "text": [
      "5 event instrument metadata records were read from REDCap in 0.2 seconds.  The http status code was 200.\n",
      "\n"
     ]
    }
   ],
   "source": [
    "final_mapping <- redcap_event_instruments(\n",
    "    redcap_uri = url, \n",
    "    token, \n",
    "    verbose = TRUE, \n",
    "    config_options = NULL\n",
    ")$data"
   ]
  },
  {
   "cell_type": "code",
   "execution_count": 74,
   "id": "648a991f-7f6b-4c62-90a1-47c3cd4ec213",
   "metadata": {
    "tags": []
   },
   "outputs": [
    {
     "data": {
      "text/html": [
       "<table class=\"dataframe\">\n",
       "<caption>A tibble: 5 × 3</caption>\n",
       "<thead>\n",
       "\t<tr><th scope=col>arm_num</th><th scope=col>unique_event_name</th><th scope=col>form</th></tr>\n",
       "\t<tr><th scope=col>&lt;int&gt;</th><th scope=col>&lt;chr&gt;</th><th scope=col>&lt;chr&gt;</th></tr>\n",
       "</thead>\n",
       "<tbody>\n",
       "\t<tr><td>1</td><td>personal_info_arm_1</td><td>demographics    </td></tr>\n",
       "\t<tr><td>1</td><td>case_intake_arm_1  </td><td>symptoms        </td></tr>\n",
       "\t<tr><td>1</td><td>case_intake_arm_1  </td><td>test_information</td></tr>\n",
       "\t<tr><td>1</td><td>notifications_arm_1</td><td>close_contacts  </td></tr>\n",
       "\t<tr><td>1</td><td>notifications_arm_1</td><td>work_information</td></tr>\n",
       "</tbody>\n",
       "</table>\n"
      ],
      "text/latex": [
       "A tibble: 5 × 3\n",
       "\\begin{tabular}{lll}\n",
       " arm\\_num & unique\\_event\\_name & form\\\\\n",
       " <int> & <chr> & <chr>\\\\\n",
       "\\hline\n",
       "\t 1 & personal\\_info\\_arm\\_1 & demographics    \\\\\n",
       "\t 1 & case\\_intake\\_arm\\_1   & symptoms        \\\\\n",
       "\t 1 & case\\_intake\\_arm\\_1   & test\\_information\\\\\n",
       "\t 1 & notifications\\_arm\\_1 & close\\_contacts  \\\\\n",
       "\t 1 & notifications\\_arm\\_1 & work\\_information\\\\\n",
       "\\end{tabular}\n"
      ],
      "text/markdown": [
       "\n",
       "A tibble: 5 × 3\n",
       "\n",
       "| arm_num &lt;int&gt; | unique_event_name &lt;chr&gt; | form &lt;chr&gt; |\n",
       "|---|---|---|\n",
       "| 1 | personal_info_arm_1 | demographics     |\n",
       "| 1 | case_intake_arm_1   | symptoms         |\n",
       "| 1 | case_intake_arm_1   | test_information |\n",
       "| 1 | notifications_arm_1 | close_contacts   |\n",
       "| 1 | notifications_arm_1 | work_information |\n",
       "\n"
      ],
      "text/plain": [
       "  arm_num unique_event_name   form            \n",
       "1 1       personal_info_arm_1 demographics    \n",
       "2 1       case_intake_arm_1   symptoms        \n",
       "3 1       case_intake_arm_1   test_information\n",
       "4 1       notifications_arm_1 close_contacts  \n",
       "5 1       notifications_arm_1 work_information"
      ]
     },
     "metadata": {},
     "output_type": "display_data"
    }
   ],
   "source": [
    "head(final_mapping)"
   ]
  },
  {
   "cell_type": "markdown",
   "id": "72e662b4-4f85-4b7a-a341-5faa28bd3541",
   "metadata": {},
   "source": [
    "**Note:** Events with multiple instruments will occupy multiple rows."
   ]
  },
  {
   "cell_type": "markdown",
   "id": "28c5a173-36ad-4eea-8e96-752e7dc042a3",
   "metadata": {
    "tags": []
   },
   "source": [
    "# Survey Settings and Other Information"
   ]
  },
  {
   "cell_type": "markdown",
   "id": "672ed268-250c-4422-9e33-d1d826324fe6",
   "metadata": {
    "tags": []
   },
   "source": [
    "## Users and User Roles"
   ]
  },
  {
   "cell_type": "code",
   "execution_count": 6,
   "id": "7fbb9d26-d0ce-4a3d-ab08-bd146cb9c34e",
   "metadata": {
    "tags": []
   },
   "outputs": [
    {
     "name": "stderr",
     "output_type": "stream",
     "text": [
      "The REDCap users were successfully exported in 0.4 seconds.  The http status code was 200.\n",
      "\n"
     ]
    }
   ],
   "source": [
    "users_data <- redcap_users_export(redcap_uri = url, token = token)"
   ]
  },
  {
   "cell_type": "code",
   "execution_count": 7,
   "id": "33381b08-93dc-4aac-97ad-01046f61619e",
   "metadata": {
    "tags": []
   },
   "outputs": [
    {
     "data": {
      "text/html": [
       "<dl>\n",
       "\t<dt>$data_user</dt>\n",
       "\t\t<dd><table class=\"dataframe\">\n",
       "<caption>A tibble: 2 × 33</caption>\n",
       "<thead>\n",
       "\t<tr><th scope=col>username</th><th scope=col>email</th><th scope=col>firstname</th><th scope=col>lastname</th><th scope=col>expiration</th><th scope=col>data_access_group</th><th scope=col>data_access_group_id</th><th scope=col>design</th><th scope=col>alerts</th><th scope=col>user_rights</th><th scope=col>data_access_groups</th><th scope=col>reports</th><th scope=col>stats_and_charts</th><th scope=col>manage_survey_participants</th><th scope=col>calendar</th><th scope=col>...</th><th scope=col>file_repository</th><th scope=col>data_quality_create</th><th scope=col>data_quality_execute</th><th scope=col>api_export</th><th scope=col>api_import</th><th scope=col>api_modules</th><th scope=col>mobile_app</th><th scope=col>mobile_app_download_data</th><th scope=col>record_create</th><th scope=col>record_rename</th><th scope=col>record_delete</th><th scope=col>lock_records_all_forms</th><th scope=col>lock_records</th><th scope=col>lock_records_customization</th><th scope=col>forms_export</th></tr>\n",
       "\t<tr><th scope=col>&lt;chr&gt;</th><th scope=col>&lt;chr&gt;</th><th scope=col>&lt;chr&gt;</th><th scope=col>&lt;chr&gt;</th><th scope=col>&lt;date&gt;</th><th scope=col>&lt;chr&gt;</th><th scope=col>&lt;chr&gt;</th><th scope=col>&lt;lgl&gt;</th><th scope=col>&lt;dbl&gt;</th><th scope=col>&lt;lgl&gt;</th><th scope=col>&lt;lgl&gt;</th><th scope=col>&lt;lgl&gt;</th><th scope=col>&lt;lgl&gt;</th><th scope=col>&lt;lgl&gt;</th><th scope=col>&lt;lgl&gt;</th><th scope=col>...</th><th scope=col>&lt;lgl&gt;</th><th scope=col>&lt;lgl&gt;</th><th scope=col>&lt;lgl&gt;</th><th scope=col>&lt;lgl&gt;</th><th scope=col>&lt;lgl&gt;</th><th scope=col>&lt;dbl&gt;</th><th scope=col>&lt;lgl&gt;</th><th scope=col>&lt;lgl&gt;</th><th scope=col>&lt;lgl&gt;</th><th scope=col>&lt;lgl&gt;</th><th scope=col>&lt;lgl&gt;</th><th scope=col>&lt;lgl&gt;</th><th scope=col>&lt;lgl&gt;</th><th scope=col>&lt;lgl&gt;</th><th scope=col>&lt;chr&gt;</th></tr>\n",
       "</thead>\n",
       "<tbody>\n",
       "\t<tr><td>caitlin.drover@doh.wa.gov</td><td>Caitlin.Drover@doh.wa.gov</td><td>Caitlin</td><td>Drover </td><td>NA</td><td>NA</td><td>NA</td><td>TRUE</td><td>1</td><td>TRUE</td><td>TRUE</td><td>TRUE</td><td>TRUE</td><td>TRUE</td><td>TRUE</td><td>...</td><td>TRUE</td><td>TRUE</td><td>TRUE</td><td>TRUE</td><td>TRUE</td><td>0</td><td>TRUE</td><td>FALSE</td><td>TRUE</td><td>TRUE</td><td>TRUE</td><td>FALSE</td><td>FALSE</td><td> TRUE</td><td>demographics:1,symptoms:1,test_information:1,close_contacts:1,work_information:1</td></tr>\n",
       "\t<tr><td>emily.pearman@doh.wa.gov </td><td>emily.pearman@doh.wa.gov </td><td>Emily  </td><td>Pearman</td><td>NA</td><td>NA</td><td>NA</td><td>TRUE</td><td>1</td><td>TRUE</td><td>TRUE</td><td>TRUE</td><td>TRUE</td><td>TRUE</td><td>TRUE</td><td>...</td><td>TRUE</td><td>TRUE</td><td>TRUE</td><td>TRUE</td><td>TRUE</td><td>0</td><td>TRUE</td><td>FALSE</td><td>TRUE</td><td>TRUE</td><td>TRUE</td><td>FALSE</td><td>FALSE</td><td>FALSE</td><td>demographics:1,symptoms:1,test_information:1,close_contacts:1,work_information:1</td></tr>\n",
       "</tbody>\n",
       "</table>\n",
       "</dd>\n",
       "\t<dt>$data_user_form</dt>\n",
       "\t\t<dd><table class=\"dataframe\">\n",
       "<caption>A tibble: 10 × 4</caption>\n",
       "<thead>\n",
       "\t<tr><th scope=col>username</th><th scope=col>form_name</th><th scope=col>permission_id</th><th scope=col>permission</th></tr>\n",
       "\t<tr><th scope=col>&lt;chr&gt;</th><th scope=col>&lt;chr&gt;</th><th scope=col>&lt;int&gt;</th><th scope=col>&lt;fct&gt;</th></tr>\n",
       "</thead>\n",
       "<tbody>\n",
       "\t<tr><td>caitlin.drover@doh.wa.gov</td><td>demographics    </td><td>1</td><td>edit_form</td></tr>\n",
       "\t<tr><td>caitlin.drover@doh.wa.gov</td><td>symptoms        </td><td>1</td><td>edit_form</td></tr>\n",
       "\t<tr><td>caitlin.drover@doh.wa.gov</td><td>test_information</td><td>1</td><td>edit_form</td></tr>\n",
       "\t<tr><td>caitlin.drover@doh.wa.gov</td><td>close_contacts  </td><td>1</td><td>edit_form</td></tr>\n",
       "\t<tr><td>caitlin.drover@doh.wa.gov</td><td>work_information</td><td>1</td><td>edit_form</td></tr>\n",
       "\t<tr><td>emily.pearman@doh.wa.gov </td><td>demographics    </td><td>1</td><td>edit_form</td></tr>\n",
       "\t<tr><td>emily.pearman@doh.wa.gov </td><td>symptoms        </td><td>1</td><td>edit_form</td></tr>\n",
       "\t<tr><td>emily.pearman@doh.wa.gov </td><td>test_information</td><td>1</td><td>edit_form</td></tr>\n",
       "\t<tr><td>emily.pearman@doh.wa.gov </td><td>close_contacts  </td><td>1</td><td>edit_form</td></tr>\n",
       "\t<tr><td>emily.pearman@doh.wa.gov </td><td>work_information</td><td>1</td><td>edit_form</td></tr>\n",
       "</tbody>\n",
       "</table>\n",
       "</dd>\n",
       "\t<dt>$success</dt>\n",
       "\t\t<dd>TRUE</dd>\n",
       "\t<dt>$status_code</dt>\n",
       "\t\t<dd>200</dd>\n",
       "\t<dt>$outcome_message</dt>\n",
       "\t\t<dd><span style=white-space:pre-wrap>'The REDCap users were successfully exported in 0.4 seconds.  The http status code was 200.'</span></dd>\n",
       "\t<dt>$elapsed_seconds</dt>\n",
       "\t\t<dd>0.398660898208618</dd>\n",
       "\t<dt>$raw_text</dt>\n",
       "\t\t<dd>''</dd>\n",
       "</dl>\n"
      ],
      "text/latex": [
       "\\begin{description}\n",
       "\\item[\\$data\\_user] A tibble: 2 × 33\n",
       "\\begin{tabular}{lllllllllllllllllllllllllllllll}\n",
       " username & email & firstname & lastname & expiration & data\\_access\\_group & data\\_access\\_group\\_id & design & alerts & user\\_rights & data\\_access\\_groups & reports & stats\\_and\\_charts & manage\\_survey\\_participants & calendar & ... & file\\_repository & data\\_quality\\_create & data\\_quality\\_execute & api\\_export & api\\_import & api\\_modules & mobile\\_app & mobile\\_app\\_download\\_data & record\\_create & record\\_rename & record\\_delete & lock\\_records\\_all\\_forms & lock\\_records & lock\\_records\\_customization & forms\\_export\\\\\n",
       " <chr> & <chr> & <chr> & <chr> & <date> & <chr> & <chr> & <lgl> & <dbl> & <lgl> & <lgl> & <lgl> & <lgl> & <lgl> & <lgl> & ... & <lgl> & <lgl> & <lgl> & <lgl> & <lgl> & <dbl> & <lgl> & <lgl> & <lgl> & <lgl> & <lgl> & <lgl> & <lgl> & <lgl> & <chr>\\\\\n",
       "\\hline\n",
       "\t caitlin.drover@doh.wa.gov & Caitlin.Drover@doh.wa.gov & Caitlin & Drover  & NA & NA & NA & TRUE & 1 & TRUE & TRUE & TRUE & TRUE & TRUE & TRUE & ... & TRUE & TRUE & TRUE & TRUE & TRUE & 0 & TRUE & FALSE & TRUE & TRUE & TRUE & FALSE & FALSE &  TRUE & demographics:1,symptoms:1,test\\_information:1,close\\_contacts:1,work\\_information:1\\\\\n",
       "\t emily.pearman@doh.wa.gov  & emily.pearman@doh.wa.gov  & Emily   & Pearman & NA & NA & NA & TRUE & 1 & TRUE & TRUE & TRUE & TRUE & TRUE & TRUE & ... & TRUE & TRUE & TRUE & TRUE & TRUE & 0 & TRUE & FALSE & TRUE & TRUE & TRUE & FALSE & FALSE & FALSE & demographics:1,symptoms:1,test\\_information:1,close\\_contacts:1,work\\_information:1\\\\\n",
       "\\end{tabular}\n",
       "\n",
       "\\item[\\$data\\_user\\_form] A tibble: 10 × 4\n",
       "\\begin{tabular}{llll}\n",
       " username & form\\_name & permission\\_id & permission\\\\\n",
       " <chr> & <chr> & <int> & <fct>\\\\\n",
       "\\hline\n",
       "\t caitlin.drover@doh.wa.gov & demographics     & 1 & edit\\_form\\\\\n",
       "\t caitlin.drover@doh.wa.gov & symptoms         & 1 & edit\\_form\\\\\n",
       "\t caitlin.drover@doh.wa.gov & test\\_information & 1 & edit\\_form\\\\\n",
       "\t caitlin.drover@doh.wa.gov & close\\_contacts   & 1 & edit\\_form\\\\\n",
       "\t caitlin.drover@doh.wa.gov & work\\_information & 1 & edit\\_form\\\\\n",
       "\t emily.pearman@doh.wa.gov  & demographics     & 1 & edit\\_form\\\\\n",
       "\t emily.pearman@doh.wa.gov  & symptoms         & 1 & edit\\_form\\\\\n",
       "\t emily.pearman@doh.wa.gov  & test\\_information & 1 & edit\\_form\\\\\n",
       "\t emily.pearman@doh.wa.gov  & close\\_contacts   & 1 & edit\\_form\\\\\n",
       "\t emily.pearman@doh.wa.gov  & work\\_information & 1 & edit\\_form\\\\\n",
       "\\end{tabular}\n",
       "\n",
       "\\item[\\$success] TRUE\n",
       "\\item[\\$status\\_code] 200\n",
       "\\item[\\$outcome\\_message] 'The REDCap users were successfully exported in 0.4 seconds.  The http status code was 200.'\n",
       "\\item[\\$elapsed\\_seconds] 0.398660898208618\n",
       "\\item[\\$raw\\_text] ''\n",
       "\\end{description}\n"
      ],
      "text/markdown": [
       "$data_user\n",
       ":   \n",
       "A tibble: 2 × 33\n",
       "\n",
       "| username &lt;chr&gt; | email &lt;chr&gt; | firstname &lt;chr&gt; | lastname &lt;chr&gt; | expiration &lt;date&gt; | data_access_group &lt;chr&gt; | data_access_group_id &lt;chr&gt; | design &lt;lgl&gt; | alerts &lt;dbl&gt; | user_rights &lt;lgl&gt; | data_access_groups &lt;lgl&gt; | reports &lt;lgl&gt; | stats_and_charts &lt;lgl&gt; | manage_survey_participants &lt;lgl&gt; | calendar &lt;lgl&gt; | ... ... | file_repository &lt;lgl&gt; | data_quality_create &lt;lgl&gt; | data_quality_execute &lt;lgl&gt; | api_export &lt;lgl&gt; | api_import &lt;lgl&gt; | api_modules &lt;dbl&gt; | mobile_app &lt;lgl&gt; | mobile_app_download_data &lt;lgl&gt; | record_create &lt;lgl&gt; | record_rename &lt;lgl&gt; | record_delete &lt;lgl&gt; | lock_records_all_forms &lt;lgl&gt; | lock_records &lt;lgl&gt; | lock_records_customization &lt;lgl&gt; | forms_export &lt;chr&gt; |\n",
       "|---|---|---|---|---|---|---|---|---|---|---|---|---|---|---|---|---|---|---|---|---|---|---|---|---|---|---|---|---|---|---|\n",
       "| caitlin.drover@doh.wa.gov | Caitlin.Drover@doh.wa.gov | Caitlin | Drover  | NA | NA | NA | TRUE | 1 | TRUE | TRUE | TRUE | TRUE | TRUE | TRUE | ... | TRUE | TRUE | TRUE | TRUE | TRUE | 0 | TRUE | FALSE | TRUE | TRUE | TRUE | FALSE | FALSE |  TRUE | demographics:1,symptoms:1,test_information:1,close_contacts:1,work_information:1 |\n",
       "| emily.pearman@doh.wa.gov  | emily.pearman@doh.wa.gov  | Emily   | Pearman | NA | NA | NA | TRUE | 1 | TRUE | TRUE | TRUE | TRUE | TRUE | TRUE | ... | TRUE | TRUE | TRUE | TRUE | TRUE | 0 | TRUE | FALSE | TRUE | TRUE | TRUE | FALSE | FALSE | FALSE | demographics:1,symptoms:1,test_information:1,close_contacts:1,work_information:1 |\n",
       "\n",
       "\n",
       "$data_user_form\n",
       ":   \n",
       "A tibble: 10 × 4\n",
       "\n",
       "| username &lt;chr&gt; | form_name &lt;chr&gt; | permission_id &lt;int&gt; | permission &lt;fct&gt; |\n",
       "|---|---|---|---|\n",
       "| caitlin.drover@doh.wa.gov | demographics     | 1 | edit_form |\n",
       "| caitlin.drover@doh.wa.gov | symptoms         | 1 | edit_form |\n",
       "| caitlin.drover@doh.wa.gov | test_information | 1 | edit_form |\n",
       "| caitlin.drover@doh.wa.gov | close_contacts   | 1 | edit_form |\n",
       "| caitlin.drover@doh.wa.gov | work_information | 1 | edit_form |\n",
       "| emily.pearman@doh.wa.gov  | demographics     | 1 | edit_form |\n",
       "| emily.pearman@doh.wa.gov  | symptoms         | 1 | edit_form |\n",
       "| emily.pearman@doh.wa.gov  | test_information | 1 | edit_form |\n",
       "| emily.pearman@doh.wa.gov  | close_contacts   | 1 | edit_form |\n",
       "| emily.pearman@doh.wa.gov  | work_information | 1 | edit_form |\n",
       "\n",
       "\n",
       "$success\n",
       ":   TRUE\n",
       "$status_code\n",
       ":   200\n",
       "$outcome_message\n",
       ":   <span style=white-space:pre-wrap>'The REDCap users were successfully exported in 0.4 seconds.  The http status code was 200.'</span>\n",
       "$elapsed_seconds\n",
       ":   0.398660898208618\n",
       "$raw_text\n",
       ":   ''\n",
       "\n",
       "\n"
      ],
      "text/plain": [
       "$data_user\n",
       "\u001b[90m# A tibble: 2 x 33\u001b[39m\n",
       "  username                 email firstname lastname expiration data_access_group\n",
       "  \u001b[3m\u001b[90m<chr>\u001b[39m\u001b[23m                    \u001b[3m\u001b[90m<chr>\u001b[39m\u001b[23m \u001b[3m\u001b[90m<chr>\u001b[39m\u001b[23m     \u001b[3m\u001b[90m<chr>\u001b[39m\u001b[23m    \u001b[3m\u001b[90m<date>\u001b[39m\u001b[23m     \u001b[3m\u001b[90m<chr>\u001b[39m\u001b[23m            \n",
       "\u001b[90m1\u001b[39m caitlin.drover@doh.wa.g~ Cait~ Caitlin   Drover   \u001b[31mNA\u001b[39m         \u001b[31mNA\u001b[39m               \n",
       "\u001b[90m2\u001b[39m emily.pearman@doh.wa.gov emil~ Emily     Pearman  \u001b[31mNA\u001b[39m         \u001b[31mNA\u001b[39m               \n",
       "\u001b[90m# i 27 more variables: data_access_group_id <chr>, design <lgl>, alerts <dbl>,\u001b[39m\n",
       "\u001b[90m#   user_rights <lgl>, data_access_groups <lgl>, reports <lgl>,\u001b[39m\n",
       "\u001b[90m#   stats_and_charts <lgl>, manage_survey_participants <lgl>, calendar <lgl>,\u001b[39m\n",
       "\u001b[90m#   data_import_tool <lgl>, data_comparison_tool <lgl>, logging <lgl>,\u001b[39m\n",
       "\u001b[90m#   file_repository <lgl>, data_quality_create <lgl>,\u001b[39m\n",
       "\u001b[90m#   data_quality_execute <lgl>, api_export <lgl>, api_import <lgl>,\u001b[39m\n",
       "\u001b[90m#   api_modules <dbl>, mobile_app <lgl>, mobile_app_download_data <lgl>, ...\u001b[39m\n",
       "\n",
       "$data_user_form\n",
       "\u001b[90m# A tibble: 10 x 4\u001b[39m\n",
       "   username                  form_name        permission_id permission\n",
       "   \u001b[3m\u001b[90m<chr>\u001b[39m\u001b[23m                     \u001b[3m\u001b[90m<chr>\u001b[39m\u001b[23m                    \u001b[3m\u001b[90m<int>\u001b[39m\u001b[23m \u001b[3m\u001b[90m<fct>\u001b[39m\u001b[23m     \n",
       "\u001b[90m 1\u001b[39m caitlin.drover@doh.wa.gov demographics                 1 edit_form \n",
       "\u001b[90m 2\u001b[39m caitlin.drover@doh.wa.gov symptoms                     1 edit_form \n",
       "\u001b[90m 3\u001b[39m caitlin.drover@doh.wa.gov test_information             1 edit_form \n",
       "\u001b[90m 4\u001b[39m caitlin.drover@doh.wa.gov close_contacts               1 edit_form \n",
       "\u001b[90m 5\u001b[39m caitlin.drover@doh.wa.gov work_information             1 edit_form \n",
       "\u001b[90m 6\u001b[39m emily.pearman@doh.wa.gov  demographics                 1 edit_form \n",
       "\u001b[90m 7\u001b[39m emily.pearman@doh.wa.gov  symptoms                     1 edit_form \n",
       "\u001b[90m 8\u001b[39m emily.pearman@doh.wa.gov  test_information             1 edit_form \n",
       "\u001b[90m 9\u001b[39m emily.pearman@doh.wa.gov  close_contacts               1 edit_form \n",
       "\u001b[90m10\u001b[39m emily.pearman@doh.wa.gov  work_information             1 edit_form \n",
       "\n",
       "$success\n",
       "[1] TRUE\n",
       "\n",
       "$status_code\n",
       "[1] 200\n",
       "\n",
       "$outcome_message\n",
       "[1] \"The REDCap users were successfully exported in 0.4 seconds.  The http status code was 200.\"\n",
       "\n",
       "$elapsed_seconds\n",
       "[1] 0.3986609\n",
       "\n",
       "$raw_text\n",
       "[1] \"\"\n"
      ]
     },
     "metadata": {},
     "output_type": "display_data"
    }
   ],
   "source": [
    "users_data"
   ]
  },
  {
   "cell_type": "markdown",
   "id": "f6a89d4a-095e-434e-9bea-54383b2b02c0",
   "metadata": {},
   "source": [
    "#### Extract the data_user table to see users who have access to the project:"
   ]
  },
  {
   "cell_type": "code",
   "execution_count": 8,
   "id": "7d0a07e1-f55a-4f19-950b-29a74f21165f",
   "metadata": {
    "tags": []
   },
   "outputs": [],
   "source": [
    "users <- users_data$data_user"
   ]
  },
  {
   "cell_type": "code",
   "execution_count": 9,
   "id": "7f6528a6-bad9-4d6c-9f1c-1b829aa18488",
   "metadata": {
    "tags": []
   },
   "outputs": [
    {
     "data": {
      "text/html": [
       "<table class=\"dataframe\">\n",
       "<caption>A tibble: 2 × 33</caption>\n",
       "<thead>\n",
       "\t<tr><th scope=col>username</th><th scope=col>email</th><th scope=col>firstname</th><th scope=col>lastname</th><th scope=col>expiration</th><th scope=col>data_access_group</th><th scope=col>data_access_group_id</th><th scope=col>design</th><th scope=col>alerts</th><th scope=col>user_rights</th><th scope=col>data_access_groups</th><th scope=col>reports</th><th scope=col>stats_and_charts</th><th scope=col>manage_survey_participants</th><th scope=col>calendar</th><th scope=col>...</th><th scope=col>file_repository</th><th scope=col>data_quality_create</th><th scope=col>data_quality_execute</th><th scope=col>api_export</th><th scope=col>api_import</th><th scope=col>api_modules</th><th scope=col>mobile_app</th><th scope=col>mobile_app_download_data</th><th scope=col>record_create</th><th scope=col>record_rename</th><th scope=col>record_delete</th><th scope=col>lock_records_all_forms</th><th scope=col>lock_records</th><th scope=col>lock_records_customization</th><th scope=col>forms_export</th></tr>\n",
       "\t<tr><th scope=col>&lt;chr&gt;</th><th scope=col>&lt;chr&gt;</th><th scope=col>&lt;chr&gt;</th><th scope=col>&lt;chr&gt;</th><th scope=col>&lt;date&gt;</th><th scope=col>&lt;chr&gt;</th><th scope=col>&lt;chr&gt;</th><th scope=col>&lt;lgl&gt;</th><th scope=col>&lt;dbl&gt;</th><th scope=col>&lt;lgl&gt;</th><th scope=col>&lt;lgl&gt;</th><th scope=col>&lt;lgl&gt;</th><th scope=col>&lt;lgl&gt;</th><th scope=col>&lt;lgl&gt;</th><th scope=col>&lt;lgl&gt;</th><th scope=col>...</th><th scope=col>&lt;lgl&gt;</th><th scope=col>&lt;lgl&gt;</th><th scope=col>&lt;lgl&gt;</th><th scope=col>&lt;lgl&gt;</th><th scope=col>&lt;lgl&gt;</th><th scope=col>&lt;dbl&gt;</th><th scope=col>&lt;lgl&gt;</th><th scope=col>&lt;lgl&gt;</th><th scope=col>&lt;lgl&gt;</th><th scope=col>&lt;lgl&gt;</th><th scope=col>&lt;lgl&gt;</th><th scope=col>&lt;lgl&gt;</th><th scope=col>&lt;lgl&gt;</th><th scope=col>&lt;lgl&gt;</th><th scope=col>&lt;chr&gt;</th></tr>\n",
       "</thead>\n",
       "<tbody>\n",
       "\t<tr><td>caitlin.drover@doh.wa.gov</td><td>Caitlin.Drover@doh.wa.gov</td><td>Caitlin</td><td>Drover </td><td>NA</td><td>NA</td><td>NA</td><td>TRUE</td><td>1</td><td>TRUE</td><td>TRUE</td><td>TRUE</td><td>TRUE</td><td>TRUE</td><td>TRUE</td><td>...</td><td>TRUE</td><td>TRUE</td><td>TRUE</td><td>TRUE</td><td>TRUE</td><td>0</td><td>TRUE</td><td>FALSE</td><td>TRUE</td><td>TRUE</td><td>TRUE</td><td>FALSE</td><td>FALSE</td><td> TRUE</td><td>demographics:1,symptoms:1,test_information:1,close_contacts:1,work_information:1</td></tr>\n",
       "\t<tr><td>emily.pearman@doh.wa.gov </td><td>emily.pearman@doh.wa.gov </td><td>Emily  </td><td>Pearman</td><td>NA</td><td>NA</td><td>NA</td><td>TRUE</td><td>1</td><td>TRUE</td><td>TRUE</td><td>TRUE</td><td>TRUE</td><td>TRUE</td><td>TRUE</td><td>...</td><td>TRUE</td><td>TRUE</td><td>TRUE</td><td>TRUE</td><td>TRUE</td><td>0</td><td>TRUE</td><td>FALSE</td><td>TRUE</td><td>TRUE</td><td>TRUE</td><td>FALSE</td><td>FALSE</td><td>FALSE</td><td>demographics:1,symptoms:1,test_information:1,close_contacts:1,work_information:1</td></tr>\n",
       "</tbody>\n",
       "</table>\n"
      ],
      "text/latex": [
       "A tibble: 2 × 33\n",
       "\\begin{tabular}{lllllllllllllllllllllllllllllll}\n",
       " username & email & firstname & lastname & expiration & data\\_access\\_group & data\\_access\\_group\\_id & design & alerts & user\\_rights & data\\_access\\_groups & reports & stats\\_and\\_charts & manage\\_survey\\_participants & calendar & ... & file\\_repository & data\\_quality\\_create & data\\_quality\\_execute & api\\_export & api\\_import & api\\_modules & mobile\\_app & mobile\\_app\\_download\\_data & record\\_create & record\\_rename & record\\_delete & lock\\_records\\_all\\_forms & lock\\_records & lock\\_records\\_customization & forms\\_export\\\\\n",
       " <chr> & <chr> & <chr> & <chr> & <date> & <chr> & <chr> & <lgl> & <dbl> & <lgl> & <lgl> & <lgl> & <lgl> & <lgl> & <lgl> & ... & <lgl> & <lgl> & <lgl> & <lgl> & <lgl> & <dbl> & <lgl> & <lgl> & <lgl> & <lgl> & <lgl> & <lgl> & <lgl> & <lgl> & <chr>\\\\\n",
       "\\hline\n",
       "\t caitlin.drover@doh.wa.gov & Caitlin.Drover@doh.wa.gov & Caitlin & Drover  & NA & NA & NA & TRUE & 1 & TRUE & TRUE & TRUE & TRUE & TRUE & TRUE & ... & TRUE & TRUE & TRUE & TRUE & TRUE & 0 & TRUE & FALSE & TRUE & TRUE & TRUE & FALSE & FALSE &  TRUE & demographics:1,symptoms:1,test\\_information:1,close\\_contacts:1,work\\_information:1\\\\\n",
       "\t emily.pearman@doh.wa.gov  & emily.pearman@doh.wa.gov  & Emily   & Pearman & NA & NA & NA & TRUE & 1 & TRUE & TRUE & TRUE & TRUE & TRUE & TRUE & ... & TRUE & TRUE & TRUE & TRUE & TRUE & 0 & TRUE & FALSE & TRUE & TRUE & TRUE & FALSE & FALSE & FALSE & demographics:1,symptoms:1,test\\_information:1,close\\_contacts:1,work\\_information:1\\\\\n",
       "\\end{tabular}\n"
      ],
      "text/markdown": [
       "\n",
       "A tibble: 2 × 33\n",
       "\n",
       "| username &lt;chr&gt; | email &lt;chr&gt; | firstname &lt;chr&gt; | lastname &lt;chr&gt; | expiration &lt;date&gt; | data_access_group &lt;chr&gt; | data_access_group_id &lt;chr&gt; | design &lt;lgl&gt; | alerts &lt;dbl&gt; | user_rights &lt;lgl&gt; | data_access_groups &lt;lgl&gt; | reports &lt;lgl&gt; | stats_and_charts &lt;lgl&gt; | manage_survey_participants &lt;lgl&gt; | calendar &lt;lgl&gt; | ... ... | file_repository &lt;lgl&gt; | data_quality_create &lt;lgl&gt; | data_quality_execute &lt;lgl&gt; | api_export &lt;lgl&gt; | api_import &lt;lgl&gt; | api_modules &lt;dbl&gt; | mobile_app &lt;lgl&gt; | mobile_app_download_data &lt;lgl&gt; | record_create &lt;lgl&gt; | record_rename &lt;lgl&gt; | record_delete &lt;lgl&gt; | lock_records_all_forms &lt;lgl&gt; | lock_records &lt;lgl&gt; | lock_records_customization &lt;lgl&gt; | forms_export &lt;chr&gt; |\n",
       "|---|---|---|---|---|---|---|---|---|---|---|---|---|---|---|---|---|---|---|---|---|---|---|---|---|---|---|---|---|---|---|\n",
       "| caitlin.drover@doh.wa.gov | Caitlin.Drover@doh.wa.gov | Caitlin | Drover  | NA | NA | NA | TRUE | 1 | TRUE | TRUE | TRUE | TRUE | TRUE | TRUE | ... | TRUE | TRUE | TRUE | TRUE | TRUE | 0 | TRUE | FALSE | TRUE | TRUE | TRUE | FALSE | FALSE |  TRUE | demographics:1,symptoms:1,test_information:1,close_contacts:1,work_information:1 |\n",
       "| emily.pearman@doh.wa.gov  | emily.pearman@doh.wa.gov  | Emily   | Pearman | NA | NA | NA | TRUE | 1 | TRUE | TRUE | TRUE | TRUE | TRUE | TRUE | ... | TRUE | TRUE | TRUE | TRUE | TRUE | 0 | TRUE | FALSE | TRUE | TRUE | TRUE | FALSE | FALSE | FALSE | demographics:1,symptoms:1,test_information:1,close_contacts:1,work_information:1 |\n",
       "\n"
      ],
      "text/plain": [
       "  username                  email                     firstname lastname\n",
       "1 caitlin.drover@doh.wa.gov Caitlin.Drover@doh.wa.gov Caitlin   Drover  \n",
       "2 emily.pearman@doh.wa.gov  emily.pearman@doh.wa.gov  Emily     Pearman \n",
       "  expiration data_access_group data_access_group_id design alerts user_rights\n",
       "1 <NA>       NA                NA                   TRUE   1      TRUE       \n",
       "2 <NA>       NA                NA                   TRUE   1      TRUE       \n",
       "  data_access_groups reports stats_and_charts manage_survey_participants\n",
       "1 TRUE               TRUE    TRUE             TRUE                      \n",
       "2 TRUE               TRUE    TRUE             TRUE                      \n",
       "  calendar ... file_repository data_quality_create data_quality_execute\n",
       "1 TRUE     ... TRUE            TRUE                TRUE                \n",
       "2 TRUE     ... TRUE            TRUE                TRUE                \n",
       "  api_export api_import api_modules mobile_app mobile_app_download_data\n",
       "1 TRUE       TRUE       0           TRUE       FALSE                   \n",
       "2 TRUE       TRUE       0           TRUE       FALSE                   \n",
       "  record_create record_rename record_delete lock_records_all_forms lock_records\n",
       "1 TRUE          TRUE          TRUE          FALSE                  FALSE       \n",
       "2 TRUE          TRUE          TRUE          FALSE                  FALSE       \n",
       "  lock_records_customization\n",
       "1  TRUE                     \n",
       "2 FALSE                     \n",
       "  forms_export                                                                    \n",
       "1 demographics:1,symptoms:1,test_information:1,close_contacts:1,work_information:1\n",
       "2 demographics:1,symptoms:1,test_information:1,close_contacts:1,work_information:1"
      ]
     },
     "metadata": {},
     "output_type": "display_data"
    }
   ],
   "source": [
    "users"
   ]
  },
  {
   "cell_type": "markdown",
   "id": "4f816793-133b-4697-a0cc-513efef56c48",
   "metadata": {},
   "source": [
    "There does not appear to be a way to export which user is in which named user role group with REDCapR or the native API. When you export this data, if a user has been assigned to a user role then it will return the user with the role's defined privileges. "
   ]
  },
  {
   "cell_type": "markdown",
   "id": "5f3a268c-9591-4be9-a48b-be50a6d27fe1",
   "metadata": {
    "tags": []
   },
   "source": [
    "#### Extract the data_user_form table to see which forms each users has access to:"
   ]
  },
  {
   "cell_type": "code",
   "execution_count": 11,
   "id": "70878ade-8863-44b3-8668-227f71665f91",
   "metadata": {
    "tags": []
   },
   "outputs": [],
   "source": [
    "users_forms <- users_data$data_user_form"
   ]
  },
  {
   "cell_type": "code",
   "execution_count": 12,
   "id": "b098b796-dc95-4a24-a2ae-580f6da3ee02",
   "metadata": {
    "tags": []
   },
   "outputs": [
    {
     "data": {
      "text/html": [
       "<table class=\"dataframe\">\n",
       "<caption>A tibble: 10 × 4</caption>\n",
       "<thead>\n",
       "\t<tr><th scope=col>username</th><th scope=col>form_name</th><th scope=col>permission_id</th><th scope=col>permission</th></tr>\n",
       "\t<tr><th scope=col>&lt;chr&gt;</th><th scope=col>&lt;chr&gt;</th><th scope=col>&lt;int&gt;</th><th scope=col>&lt;fct&gt;</th></tr>\n",
       "</thead>\n",
       "<tbody>\n",
       "\t<tr><td>caitlin.drover@doh.wa.gov</td><td>demographics    </td><td>1</td><td>edit_form</td></tr>\n",
       "\t<tr><td>caitlin.drover@doh.wa.gov</td><td>symptoms        </td><td>1</td><td>edit_form</td></tr>\n",
       "\t<tr><td>caitlin.drover@doh.wa.gov</td><td>test_information</td><td>1</td><td>edit_form</td></tr>\n",
       "\t<tr><td>caitlin.drover@doh.wa.gov</td><td>close_contacts  </td><td>1</td><td>edit_form</td></tr>\n",
       "\t<tr><td>caitlin.drover@doh.wa.gov</td><td>work_information</td><td>1</td><td>edit_form</td></tr>\n",
       "\t<tr><td>emily.pearman@doh.wa.gov </td><td>demographics    </td><td>1</td><td>edit_form</td></tr>\n",
       "\t<tr><td>emily.pearman@doh.wa.gov </td><td>symptoms        </td><td>1</td><td>edit_form</td></tr>\n",
       "\t<tr><td>emily.pearman@doh.wa.gov </td><td>test_information</td><td>1</td><td>edit_form</td></tr>\n",
       "\t<tr><td>emily.pearman@doh.wa.gov </td><td>close_contacts  </td><td>1</td><td>edit_form</td></tr>\n",
       "\t<tr><td>emily.pearman@doh.wa.gov </td><td>work_information</td><td>1</td><td>edit_form</td></tr>\n",
       "</tbody>\n",
       "</table>\n"
      ],
      "text/latex": [
       "A tibble: 10 × 4\n",
       "\\begin{tabular}{llll}\n",
       " username & form\\_name & permission\\_id & permission\\\\\n",
       " <chr> & <chr> & <int> & <fct>\\\\\n",
       "\\hline\n",
       "\t caitlin.drover@doh.wa.gov & demographics     & 1 & edit\\_form\\\\\n",
       "\t caitlin.drover@doh.wa.gov & symptoms         & 1 & edit\\_form\\\\\n",
       "\t caitlin.drover@doh.wa.gov & test\\_information & 1 & edit\\_form\\\\\n",
       "\t caitlin.drover@doh.wa.gov & close\\_contacts   & 1 & edit\\_form\\\\\n",
       "\t caitlin.drover@doh.wa.gov & work\\_information & 1 & edit\\_form\\\\\n",
       "\t emily.pearman@doh.wa.gov  & demographics     & 1 & edit\\_form\\\\\n",
       "\t emily.pearman@doh.wa.gov  & symptoms         & 1 & edit\\_form\\\\\n",
       "\t emily.pearman@doh.wa.gov  & test\\_information & 1 & edit\\_form\\\\\n",
       "\t emily.pearman@doh.wa.gov  & close\\_contacts   & 1 & edit\\_form\\\\\n",
       "\t emily.pearman@doh.wa.gov  & work\\_information & 1 & edit\\_form\\\\\n",
       "\\end{tabular}\n"
      ],
      "text/markdown": [
       "\n",
       "A tibble: 10 × 4\n",
       "\n",
       "| username &lt;chr&gt; | form_name &lt;chr&gt; | permission_id &lt;int&gt; | permission &lt;fct&gt; |\n",
       "|---|---|---|---|\n",
       "| caitlin.drover@doh.wa.gov | demographics     | 1 | edit_form |\n",
       "| caitlin.drover@doh.wa.gov | symptoms         | 1 | edit_form |\n",
       "| caitlin.drover@doh.wa.gov | test_information | 1 | edit_form |\n",
       "| caitlin.drover@doh.wa.gov | close_contacts   | 1 | edit_form |\n",
       "| caitlin.drover@doh.wa.gov | work_information | 1 | edit_form |\n",
       "| emily.pearman@doh.wa.gov  | demographics     | 1 | edit_form |\n",
       "| emily.pearman@doh.wa.gov  | symptoms         | 1 | edit_form |\n",
       "| emily.pearman@doh.wa.gov  | test_information | 1 | edit_form |\n",
       "| emily.pearman@doh.wa.gov  | close_contacts   | 1 | edit_form |\n",
       "| emily.pearman@doh.wa.gov  | work_information | 1 | edit_form |\n",
       "\n"
      ],
      "text/plain": [
       "   username                  form_name        permission_id permission\n",
       "1  caitlin.drover@doh.wa.gov demographics     1             edit_form \n",
       "2  caitlin.drover@doh.wa.gov symptoms         1             edit_form \n",
       "3  caitlin.drover@doh.wa.gov test_information 1             edit_form \n",
       "4  caitlin.drover@doh.wa.gov close_contacts   1             edit_form \n",
       "5  caitlin.drover@doh.wa.gov work_information 1             edit_form \n",
       "6  emily.pearman@doh.wa.gov  demographics     1             edit_form \n",
       "7  emily.pearman@doh.wa.gov  symptoms         1             edit_form \n",
       "8  emily.pearman@doh.wa.gov  test_information 1             edit_form \n",
       "9  emily.pearman@doh.wa.gov  close_contacts   1             edit_form \n",
       "10 emily.pearman@doh.wa.gov  work_information 1             edit_form "
      ]
     },
     "metadata": {},
     "output_type": "display_data"
    }
   ],
   "source": [
    "users_forms"
   ]
  },
  {
   "cell_type": "markdown",
   "id": "37236871-e401-481f-868c-4ba20ef2ecac",
   "metadata": {
    "tags": []
   },
   "source": [
    "## Data Access Groups (DAGs)"
   ]
  },
  {
   "cell_type": "markdown",
   "id": "85943dbd-c7f8-4602-a536-50123186d36b",
   "metadata": {
    "tags": []
   },
   "source": [
    "### Use `redcap_dag_read` to view data access groups"
   ]
  },
  {
   "cell_type": "code",
   "execution_count": 79,
   "id": "46096e1f-92da-467f-acaa-ba76750c19aa",
   "metadata": {
    "tags": []
   },
   "outputs": [
    {
     "name": "stderr",
     "output_type": "stream",
     "text": [
      "1 data access groups were read from REDCap in 0.2 seconds.  The http status code was 200.\n",
      "\n"
     ]
    }
   ],
   "source": [
    "dag <- redcap_dag_read(redcap_uri = url, token)"
   ]
  },
  {
   "cell_type": "code",
   "execution_count": 80,
   "id": "d740450b-fc25-4a07-b13d-195a2faf45cf",
   "metadata": {
    "tags": []
   },
   "outputs": [
    {
     "data": {
      "text/html": [
       "<table class=\"dataframe\">\n",
       "<caption>A spec_tbl_df: 1 × 3</caption>\n",
       "<thead>\n",
       "\t<tr><th scope=col>data_access_group_name</th><th scope=col>unique_group_name</th><th scope=col>data_access_group_id</th></tr>\n",
       "\t<tr><th scope=col>&lt;chr&gt;</th><th scope=col>&lt;chr&gt;</th><th scope=col>&lt;dbl&gt;</th></tr>\n",
       "</thead>\n",
       "<tbody>\n",
       "\t<tr><td>Limited Access</td><td>limited_access</td><td>2032</td></tr>\n",
       "</tbody>\n",
       "</table>\n"
      ],
      "text/latex": [
       "A spec\\_tbl\\_df: 1 × 3\n",
       "\\begin{tabular}{lll}\n",
       " data\\_access\\_group\\_name & unique\\_group\\_name & data\\_access\\_group\\_id\\\\\n",
       " <chr> & <chr> & <dbl>\\\\\n",
       "\\hline\n",
       "\t Limited Access & limited\\_access & 2032\\\\\n",
       "\\end{tabular}\n"
      ],
      "text/markdown": [
       "\n",
       "A spec_tbl_df: 1 × 3\n",
       "\n",
       "| data_access_group_name &lt;chr&gt; | unique_group_name &lt;chr&gt; | data_access_group_id &lt;dbl&gt; |\n",
       "|---|---|---|\n",
       "| Limited Access | limited_access | 2032 |\n",
       "\n"
      ],
      "text/plain": [
       "  data_access_group_name unique_group_name data_access_group_id\n",
       "1 Limited Access         limited_access    2032                "
      ]
     },
     "metadata": {},
     "output_type": "display_data"
    }
   ],
   "source": [
    "dag$data"
   ]
  },
  {
   "cell_type": "markdown",
   "id": "0b497796-d81c-4fa3-a678-15c9be6f0250",
   "metadata": {},
   "source": [
    "The `redcap_dag_read` function does not print which users are in each DAG group. However, when printing users using the `redcap_users_export` function you can see which user belongs to which DAGs as listed in `data_access_group` field. *See <a href=\"#Users-and-User-Roles\">Users and User Roles</a></n>.*"
   ]
  },
  {
   "cell_type": "markdown",
   "id": "3cdb8dc7-0b66-4c2d-9977-67f693d5bdcc",
   "metadata": {
    "tags": []
   },
   "source": [
    "### Use `redcap_read_oneshot` to view which records belong to which data access group"
   ]
  },
  {
   "cell_type": "code",
   "execution_count": 81,
   "id": "6eade1a3-8c04-42c2-8a5e-07f743c6bb7c",
   "metadata": {
    "tags": []
   },
   "outputs": [
    {
     "name": "stderr",
     "output_type": "stream",
     "text": [
      "20 records and 5 columns were read from REDCap in 0.4 seconds.  The http status code was 200.\n",
      "\n"
     ]
    }
   ],
   "source": [
    "data_dag <- redcap_read_oneshot(\n",
    "    redcap_uri = url, \n",
    "    token = token, \n",
    "    export_data_access_groups = TRUE, \n",
    "    fields = \"record_id\")"
   ]
  },
  {
   "cell_type": "code",
   "execution_count": 82,
   "id": "6ba2c0b9-27dc-4b21-808a-c820076408e8",
   "metadata": {
    "tags": []
   },
   "outputs": [
    {
     "data": {
      "text/html": [
       "<table class=\"dataframe\">\n",
       "<caption>A tibble: 6 × 5</caption>\n",
       "<thead>\n",
       "\t<tr><th scope=col>record_id</th><th scope=col>redcap_event_name</th><th scope=col>redcap_repeat_instrument</th><th scope=col>redcap_repeat_instance</th><th scope=col>redcap_data_access_group</th></tr>\n",
       "\t<tr><th scope=col>&lt;dbl&gt;</th><th scope=col>&lt;chr&gt;</th><th scope=col>&lt;lgl&gt;</th><th scope=col>&lt;dbl&gt;</th><th scope=col>&lt;lgl&gt;</th></tr>\n",
       "</thead>\n",
       "<tbody>\n",
       "\t<tr><td>1</td><td>personal_info_arm_1</td><td>NA</td><td>NA</td><td>NA</td></tr>\n",
       "\t<tr><td>1</td><td>notifications_arm_1</td><td>NA</td><td>NA</td><td>NA</td></tr>\n",
       "\t<tr><td>1</td><td>case_intake_arm_1  </td><td>NA</td><td> 1</td><td>NA</td></tr>\n",
       "\t<tr><td>2</td><td>personal_info_arm_1</td><td>NA</td><td>NA</td><td>NA</td></tr>\n",
       "\t<tr><td>2</td><td>notifications_arm_1</td><td>NA</td><td>NA</td><td>NA</td></tr>\n",
       "\t<tr><td>2</td><td>case_intake_arm_1  </td><td>NA</td><td> 1</td><td>NA</td></tr>\n",
       "</tbody>\n",
       "</table>\n"
      ],
      "text/latex": [
       "A tibble: 6 × 5\n",
       "\\begin{tabular}{lllll}\n",
       " record\\_id & redcap\\_event\\_name & redcap\\_repeat\\_instrument & redcap\\_repeat\\_instance & redcap\\_data\\_access\\_group\\\\\n",
       " <dbl> & <chr> & <lgl> & <dbl> & <lgl>\\\\\n",
       "\\hline\n",
       "\t 1 & personal\\_info\\_arm\\_1 & NA & NA & NA\\\\\n",
       "\t 1 & notifications\\_arm\\_1 & NA & NA & NA\\\\\n",
       "\t 1 & case\\_intake\\_arm\\_1   & NA &  1 & NA\\\\\n",
       "\t 2 & personal\\_info\\_arm\\_1 & NA & NA & NA\\\\\n",
       "\t 2 & notifications\\_arm\\_1 & NA & NA & NA\\\\\n",
       "\t 2 & case\\_intake\\_arm\\_1   & NA &  1 & NA\\\\\n",
       "\\end{tabular}\n"
      ],
      "text/markdown": [
       "\n",
       "A tibble: 6 × 5\n",
       "\n",
       "| record_id &lt;dbl&gt; | redcap_event_name &lt;chr&gt; | redcap_repeat_instrument &lt;lgl&gt; | redcap_repeat_instance &lt;dbl&gt; | redcap_data_access_group &lt;lgl&gt; |\n",
       "|---|---|---|---|---|\n",
       "| 1 | personal_info_arm_1 | NA | NA | NA |\n",
       "| 1 | notifications_arm_1 | NA | NA | NA |\n",
       "| 1 | case_intake_arm_1   | NA |  1 | NA |\n",
       "| 2 | personal_info_arm_1 | NA | NA | NA |\n",
       "| 2 | notifications_arm_1 | NA | NA | NA |\n",
       "| 2 | case_intake_arm_1   | NA |  1 | NA |\n",
       "\n"
      ],
      "text/plain": [
       "  record_id redcap_event_name   redcap_repeat_instrument redcap_repeat_instance\n",
       "1 1         personal_info_arm_1 NA                       NA                    \n",
       "2 1         notifications_arm_1 NA                       NA                    \n",
       "3 1         case_intake_arm_1   NA                        1                    \n",
       "4 2         personal_info_arm_1 NA                       NA                    \n",
       "5 2         notifications_arm_1 NA                       NA                    \n",
       "6 2         case_intake_arm_1   NA                        1                    \n",
       "  redcap_data_access_group\n",
       "1 NA                      \n",
       "2 NA                      \n",
       "3 NA                      \n",
       "4 NA                      \n",
       "5 NA                      \n",
       "6 NA                      "
      ]
     },
     "metadata": {},
     "output_type": "display_data"
    }
   ],
   "source": [
    "head(data_dag$data)"
   ]
  },
  {
   "cell_type": "markdown",
   "id": "37467e43-aed6-4220-a742-8455146f4f7d",
   "metadata": {
    "tags": []
   },
   "source": [
    "## Logging"
   ]
  },
  {
   "cell_type": "markdown",
   "id": "995bdf0a-17d6-4dee-93d0-28e13440c515",
   "metadata": {},
   "source": [
    "`redcap_log_read` allows you to export the REDCap log. The REDCap log provides an audit trail to track record creation, deletion, update and export. It also tracks changes made to the survey design and user rights. As of December 2023, the `redcap_log_read` function is only available on the latest version of the REDCapR package available on Github (Version 1.1.9005)."
   ]
  },
  {
   "cell_type": "code",
   "execution_count": 84,
   "id": "14ea4af7-0321-42e6-9fd0-56c60f435792",
   "metadata": {
    "tags": []
   },
   "outputs": [
    {
     "name": "stderr",
     "output_type": "stream",
     "text": [
      "555 rows were read from REDCap in 0.3 seconds.  The http status code was 200.\n",
      "\n"
     ]
    }
   ],
   "source": [
    "log <- redcap_log_read(redcap_uri = url, token)$data"
   ]
  },
  {
   "cell_type": "code",
   "execution_count": 85,
   "id": "6995e0cf-acd5-4421-bd28-6f0b0f812e14",
   "metadata": {
    "tags": []
   },
   "outputs": [
    {
     "data": {
      "text/html": [
       "<table class=\"dataframe\">\n",
       "<caption>A tibble: 6 × 5</caption>\n",
       "<thead>\n",
       "\t<tr><th scope=col>timestamp</th><th scope=col>username</th><th scope=col>action</th><th scope=col>details</th><th scope=col>record</th></tr>\n",
       "\t<tr><th scope=col>&lt;dttm&gt;</th><th scope=col>&lt;chr&gt;</th><th scope=col>&lt;chr&gt;</th><th scope=col>&lt;chr&gt;</th><th scope=col>&lt;dbl&gt;</th></tr>\n",
       "</thead>\n",
       "<tbody>\n",
       "\t<tr><td>2024-01-09 16:21:00</td><td>caitlin.drover@doh.wa.gov</td><td>Data export (API)</td><td>export_format: CSV, rawOrLabel: raw, export_data_access_group: Yes</td><td>NA</td></tr>\n",
       "\t<tr><td>2024-01-09 16:21:00</td><td>caitlin.drover@doh.wa.gov</td><td>Manage/Design    </td><td>Export DAGs (API)                                                 </td><td>NA</td></tr>\n",
       "\t<tr><td>2024-01-09 16:21:00</td><td>caitlin.drover@doh.wa.gov</td><td>Manage/Design    </td><td>Export users (API)                                                </td><td>NA</td></tr>\n",
       "\t<tr><td>2024-01-09 16:21:00</td><td>caitlin.drover@doh.wa.gov</td><td>Manage/Design    </td><td>Export instrument-event mappings (API)                            </td><td>NA</td></tr>\n",
       "\t<tr><td>2024-01-09 16:20:00</td><td>caitlin.drover@doh.wa.gov</td><td>Manage/Design    </td><td>Export DAGs (API)                                                 </td><td>NA</td></tr>\n",
       "\t<tr><td>2024-01-09 16:15:00</td><td>caitlin.drover@doh.wa.gov</td><td>Data export (API)</td><td>export_format: JSON, rawOrLabel: raw                              </td><td>NA</td></tr>\n",
       "</tbody>\n",
       "</table>\n"
      ],
      "text/latex": [
       "A tibble: 6 × 5\n",
       "\\begin{tabular}{lllll}\n",
       " timestamp & username & action & details & record\\\\\n",
       " <dttm> & <chr> & <chr> & <chr> & <dbl>\\\\\n",
       "\\hline\n",
       "\t 2024-01-09 16:21:00 & caitlin.drover@doh.wa.gov & Data export (API) & export\\_format: CSV, rawOrLabel: raw, export\\_data\\_access\\_group: Yes & NA\\\\\n",
       "\t 2024-01-09 16:21:00 & caitlin.drover@doh.wa.gov & Manage/Design     & Export DAGs (API)                                                  & NA\\\\\n",
       "\t 2024-01-09 16:21:00 & caitlin.drover@doh.wa.gov & Manage/Design     & Export users (API)                                                 & NA\\\\\n",
       "\t 2024-01-09 16:21:00 & caitlin.drover@doh.wa.gov & Manage/Design     & Export instrument-event mappings (API)                             & NA\\\\\n",
       "\t 2024-01-09 16:20:00 & caitlin.drover@doh.wa.gov & Manage/Design     & Export DAGs (API)                                                  & NA\\\\\n",
       "\t 2024-01-09 16:15:00 & caitlin.drover@doh.wa.gov & Data export (API) & export\\_format: JSON, rawOrLabel: raw                               & NA\\\\\n",
       "\\end{tabular}\n"
      ],
      "text/markdown": [
       "\n",
       "A tibble: 6 × 5\n",
       "\n",
       "| timestamp &lt;dttm&gt; | username &lt;chr&gt; | action &lt;chr&gt; | details &lt;chr&gt; | record &lt;dbl&gt; |\n",
       "|---|---|---|---|---|\n",
       "| 2024-01-09 16:21:00 | caitlin.drover@doh.wa.gov | Data export (API) | export_format: CSV, rawOrLabel: raw, export_data_access_group: Yes | NA |\n",
       "| 2024-01-09 16:21:00 | caitlin.drover@doh.wa.gov | Manage/Design     | Export DAGs (API)                                                  | NA |\n",
       "| 2024-01-09 16:21:00 | caitlin.drover@doh.wa.gov | Manage/Design     | Export users (API)                                                 | NA |\n",
       "| 2024-01-09 16:21:00 | caitlin.drover@doh.wa.gov | Manage/Design     | Export instrument-event mappings (API)                             | NA |\n",
       "| 2024-01-09 16:20:00 | caitlin.drover@doh.wa.gov | Manage/Design     | Export DAGs (API)                                                  | NA |\n",
       "| 2024-01-09 16:15:00 | caitlin.drover@doh.wa.gov | Data export (API) | export_format: JSON, rawOrLabel: raw                               | NA |\n",
       "\n"
      ],
      "text/plain": [
       "  timestamp           username                  action           \n",
       "1 2024-01-09 16:21:00 caitlin.drover@doh.wa.gov Data export (API)\n",
       "2 2024-01-09 16:21:00 caitlin.drover@doh.wa.gov Manage/Design    \n",
       "3 2024-01-09 16:21:00 caitlin.drover@doh.wa.gov Manage/Design    \n",
       "4 2024-01-09 16:21:00 caitlin.drover@doh.wa.gov Manage/Design    \n",
       "5 2024-01-09 16:20:00 caitlin.drover@doh.wa.gov Manage/Design    \n",
       "6 2024-01-09 16:15:00 caitlin.drover@doh.wa.gov Data export (API)\n",
       "  details                                                            record\n",
       "1 export_format: CSV, rawOrLabel: raw, export_data_access_group: Yes NA    \n",
       "2 Export DAGs (API)                                                  NA    \n",
       "3 Export users (API)                                                 NA    \n",
       "4 Export instrument-event mappings (API)                             NA    \n",
       "5 Export DAGs (API)                                                  NA    \n",
       "6 export_format: JSON, rawOrLabel: raw                               NA    "
      ]
     },
     "metadata": {},
     "output_type": "display_data"
    }
   ],
   "source": [
    "head(log)"
   ]
  },
  {
   "cell_type": "markdown",
   "id": "c052e0af-c5e9-4c1e-ae3f-d3d524e19485",
   "metadata": {
    "tags": []
   },
   "source": [
    "## Survey Link"
   ]
  },
  {
   "cell_type": "code",
   "execution_count": 160,
   "id": "a8ee7253-3472-4795-82b5-c24ae3f70992",
   "metadata": {
    "tags": []
   },
   "outputs": [
    {
     "name": "stderr",
     "output_type": "stream",
     "text": [
      "Preparing to export the survey link for the instrument `test_information`.\n",
      "\n",
      "exported the survey link in 0.3 seconds, for instrument `test_information`, record `6`.\n",
      "\n"
     ]
    },
    {
     "data": {
      "text/html": [
       "'https://dev-redcap.doh.wa.gov/surveys/?s=4tR6zWePPHBz6eLN'"
      ],
      "text/latex": [
       "'https://dev-redcap.doh.wa.gov/surveys/?s=4tR6zWePPHBz6eLN'"
      ],
      "text/markdown": [
       "'https://dev-redcap.doh.wa.gov/surveys/?s=4tR6zWePPHBz6eLN'"
      ],
      "text/plain": [
       "[1] \"https://dev-redcap.doh.wa.gov/surveys/?s=4tR6zWePPHBz6eLN\""
      ]
     },
     "metadata": {},
     "output_type": "display_data"
    }
   ],
   "source": [
    "result <- redcap_survey_link_export_oneshot(\n",
    "    record = 6,\n",
    "    instrument = \"test_information\",\n",
    "    redcap_uri = url,\n",
    "    token = token,\n",
    "    event = \"case_intake_arm_1\"\n",
    ")\n",
    "result$survey_link"
   ]
  },
  {
   "cell_type": "markdown",
   "id": "36d85297-dd0d-41ac-a7ad-af56636e4b9c",
   "metadata": {},
   "source": [
    "To export the survey link, the instrument must be enabled as a survey in REDCap. If it is a longitudinal survey, you must specify the event name (and instance if repeating) along with the instrument name. This export can only return a survey link for already existing records."
   ]
  },
  {
   "cell_type": "markdown",
   "id": "d21e90f0-e4d4-4c43-9002-967d7f1aedd7",
   "metadata": {
    "tags": []
   },
   "source": [
    "## REDCap Version"
   ]
  },
  {
   "cell_type": "markdown",
   "id": "344320ad-684f-46b8-9437-97d7ad3e507f",
   "metadata": {},
   "source": [
    "#### Get REDCap version information using `redcap_version`"
   ]
  },
  {
   "cell_type": "code",
   "execution_count": 65,
   "id": "a9eca40b-e9c9-4e3b-bb73-ed144ff43ea1",
   "metadata": {
    "tags": []
   },
   "outputs": [
    {
     "name": "stderr",
     "output_type": "stream",
     "text": [
      "The REDCap version was successfully determined in 0.3 seconds. The http status code was 200.  Is is 14.0.5.\n",
      "\n"
     ]
    },
    {
     "data": {
      "text/plain": [
       "[1] '14.0.5'"
      ]
     },
     "metadata": {},
     "output_type": "display_data"
    }
   ],
   "source": [
    "redcap_version(\n",
    "  url,\n",
    "  token, \n",
    "  verbose = TRUE, \n",
    "  config_options = NULL\n",
    ")"
   ]
  },
  {
   "cell_type": "markdown",
   "id": "9812058d-bb0a-46b3-adfb-101bf2a018c6",
   "metadata": {
    "tags": []
   },
   "source": [
    "# Appendix"
   ]
  },
  {
   "cell_type": "markdown",
   "id": "bda25496-e50f-486c-9fa6-d21b0bf781da",
   "metadata": {
    "tags": []
   },
   "source": [
    "## Example REDCap Projects and Data Structures"
   ]
  },
  {
   "cell_type": "markdown",
   "id": "9ff4f7ac-a45c-4bec-b1ad-c174c4894181",
   "metadata": {},
   "source": [
    "<img src=\"../files/REDCap API Tutorial - Examples v2 (non-long).png\" width=800/>\n",
    "\n",
    "<img src=\"../files/REDCap API Tutorial - Examples v2 (long) pt1.png\" width=800/>\n",
    "\n",
    "<img src=\"../files/REDCap API Tutorial - Examples v2 (long) pt2.png\" width=800/>"
   ]
  },
  {
   "cell_type": "markdown",
   "id": "dc7bef38-b806-4aee-9a05-3deef5247179",
   "metadata": {},
   "source": [
    "The base of every unique key is always the `record_id`. In non-longitudinal projects, there may also be a `repeat_instrument` and `repeat_instance` column if these features are enabled. In longitudinal projects, there will be an `event_name` column, as well as a `repeat_instance` column in the case of repeating events and a `repeat_instrument` column in the case of independently repeating instruments. \n",
    "\n",
    "This unique key applies for studies with and without multiple arms. Each value for the `event_name` includes the study arm as a suffix. The suffix will automatically be *\"_arm_1\"* for longitudinal studies without additional arms.  "
   ]
  },
  {
   "cell_type": "markdown",
   "id": "0020e2e7-d857-481d-8901-d5dd0e34a4fc",
   "metadata": {
    "tags": []
   },
   "source": [
    "## Indexing"
   ]
  },
  {
   "cell_type": "code",
   "execution_count": 102,
   "id": "b3fae09d-8d92-4008-972f-01c48273b35d",
   "metadata": {
    "tags": []
   },
   "outputs": [
    {
     "name": "stderr",
     "output_type": "stream",
     "text": [
      "31 records and 48 columns were read from REDCap in 0.3 seconds.  The http status code was 200.\n",
      "\n"
     ]
    }
   ],
   "source": [
    "Data <- redcap_read_oneshot(\n",
    "    redcap_uri = url, \n",
    "    token = token\n",
    ")$data "
   ]
  },
  {
   "cell_type": "code",
   "execution_count": 103,
   "id": "41808f46-2251-4039-b8ad-b8b106bbe7d1",
   "metadata": {
    "tags": []
   },
   "outputs": [
    {
     "data": {
      "text/html": [
       "<table class=\"dataframe\">\n",
       "<caption>A spec_tbl_df: 31 × 48</caption>\n",
       "<thead>\n",
       "\t<tr><th scope=col>record_id</th><th scope=col>redcap_event_name</th><th scope=col>redcap_repeat_instrument</th><th scope=col>redcap_repeat_instance</th><th scope=col>first_name</th><th scope=col>last_name</th><th scope=col>phone_num</th><th scope=col>zip_code</th><th scope=col>dob</th><th scope=col>age</th><th scope=col>ethnicity</th><th scope=col>race</th><th scope=col>gender</th><th scope=col>demographics_complete</th><th scope=col>symptoms_yesno</th><th scope=col>...</th><th scope=col>prior_covid_yesno</th><th scope=col>prior_covid_date</th><th scope=col>test_information_complete</th><th scope=col>cc_name</th><th scope=col>cc_date</th><th scope=col>cc_phone</th><th scope=col>cc_email</th><th scope=col>close_contacts_complete</th><th scope=col>supervisor_name</th><th scope=col>supervisor_email</th><th scope=col>work_inperson_yesno</th><th scope=col>work_date</th><th scope=col>work_contagious</th><th scope=col>work_contagious_calc</th><th scope=col>work_information_complete</th></tr>\n",
       "\t<tr><th scope=col>&lt;dbl&gt;</th><th scope=col>&lt;chr&gt;</th><th scope=col>&lt;chr&gt;</th><th scope=col>&lt;dbl&gt;</th><th scope=col>&lt;chr&gt;</th><th scope=col>&lt;chr&gt;</th><th scope=col>&lt;chr&gt;</th><th scope=col>&lt;dbl&gt;</th><th scope=col>&lt;date&gt;</th><th scope=col>&lt;dbl&gt;</th><th scope=col>&lt;dbl&gt;</th><th scope=col>&lt;dbl&gt;</th><th scope=col>&lt;dbl&gt;</th><th scope=col>&lt;dbl&gt;</th><th scope=col>&lt;dbl&gt;</th><th scope=col>...</th><th scope=col>&lt;dbl&gt;</th><th scope=col>&lt;date&gt;</th><th scope=col>&lt;dbl&gt;</th><th scope=col>&lt;chr&gt;</th><th scope=col>&lt;date&gt;</th><th scope=col>&lt;chr&gt;</th><th scope=col>&lt;chr&gt;</th><th scope=col>&lt;dbl&gt;</th><th scope=col>&lt;chr&gt;</th><th scope=col>&lt;chr&gt;</th><th scope=col>&lt;dbl&gt;</th><th scope=col>&lt;date&gt;</th><th scope=col>&lt;dbl&gt;</th><th scope=col>&lt;lgl&gt;</th><th scope=col>&lt;dbl&gt;</th></tr>\n",
       "</thead>\n",
       "<tbody>\n",
       "\t<tr><td>1</td><td>personal_info_arm_1</td><td>NA            </td><td>NA</td><td>John  </td><td>Doe      </td><td>(999) 999-9999</td><td>98105</td><td>2004-12-05</td><td>18</td><td> 1</td><td> 4</td><td> 1</td><td> 2</td><td>NA</td><td>...</td><td>NA</td><td>NA</td><td>NA</td><td>NA              </td><td>NA</td><td>NA            </td><td>NA                  </td><td>NA</td><td>NA  </td><td>NA                  </td><td>NA</td><td>NA</td><td>NA</td><td>NA</td><td>NA</td></tr>\n",
       "\t<tr><td>1</td><td>notifications_arm_1</td><td>NA            </td><td>NA</td><td>NA    </td><td>NA       </td><td>NA            </td><td>   NA</td><td>NA</td><td>NA</td><td>NA</td><td>NA</td><td>NA</td><td>NA</td><td>NA</td><td>...</td><td>NA</td><td>NA</td><td>NA</td><td>NA              </td><td>NA</td><td>NA            </td><td>NA                  </td><td>NA</td><td>Boss</td><td>NA                  </td><td> 0</td><td>NA</td><td> 0</td><td>NA</td><td> 2</td></tr>\n",
       "\t<tr><td>1</td><td>case_intake_arm_1  </td><td>NA            </td><td> 1</td><td>NA    </td><td>NA       </td><td>NA            </td><td>   NA</td><td>NA</td><td>NA</td><td>NA</td><td>NA</td><td>NA</td><td> 0</td><td> 1</td><td>...</td><td> 0</td><td>NA</td><td> 2</td><td>NA              </td><td>NA</td><td>NA            </td><td>NA                  </td><td>NA</td><td>NA  </td><td>NA                  </td><td>NA</td><td>NA</td><td>NA</td><td>NA</td><td>NA</td></tr>\n",
       "\t<tr><td>1</td><td>notifications_arm_1</td><td>close_contacts</td><td> 1</td><td>NA    </td><td>NA       </td><td>NA            </td><td>   NA</td><td>NA</td><td>NA</td><td>NA</td><td>NA</td><td>NA</td><td>NA</td><td>NA</td><td>...</td><td>NA</td><td>NA</td><td>NA</td><td>Jane Doe        </td><td>2023-10-09</td><td>(999) 999-9999</td><td>fake_email@gmail.com</td><td> 2</td><td>NA  </td><td>NA                  </td><td>NA</td><td>NA</td><td>NA</td><td>NA</td><td>NA</td></tr>\n",
       "\t<tr><td>1</td><td>notifications_arm_1</td><td>close_contacts</td><td> 2</td><td>NA    </td><td>NA       </td><td>NA            </td><td>   NA</td><td>NA</td><td>NA</td><td>NA</td><td>NA</td><td>NA</td><td>NA</td><td>NA</td><td>...</td><td>NA</td><td>NA</td><td>NA</td><td>Johnny Appleseed</td><td>2023-10-08</td><td>(999) 999-9999</td><td>fake_email@gmail.com</td><td> 2</td><td>NA  </td><td>NA                  </td><td>NA</td><td>NA</td><td>NA</td><td>NA</td><td>NA</td></tr>\n",
       "\t<tr><td>2</td><td>personal_info_arm_1</td><td>NA            </td><td>NA</td><td>Jane  </td><td>Doe      </td><td>(999) 999-9999</td><td>98105</td><td>1995-06-29</td><td>28</td><td> 0</td><td> 5</td><td> 0</td><td> 2</td><td>NA</td><td>...</td><td>NA</td><td>NA</td><td>NA</td><td>NA              </td><td>NA</td><td>NA            </td><td>NA                  </td><td>NA</td><td>NA  </td><td>NA                  </td><td>NA</td><td>NA</td><td>NA</td><td>NA</td><td>NA</td></tr>\n",
       "\t<tr><td>2</td><td>notifications_arm_1</td><td>NA            </td><td>NA</td><td>NA    </td><td>NA       </td><td>NA            </td><td>   NA</td><td>NA</td><td>NA</td><td>NA</td><td>NA</td><td>NA</td><td>NA</td><td>NA</td><td>...</td><td>NA</td><td>NA</td><td>NA</td><td>NA              </td><td>NA</td><td>NA            </td><td>NA                  </td><td>NA</td><td>Boss</td><td>fake_email@gmail.com</td><td> 1</td><td>2023-10-10</td><td> 1</td><td>NA</td><td> 2</td></tr>\n",
       "\t<tr><td>2</td><td>case_intake_arm_1  </td><td>NA            </td><td> 1</td><td>NA    </td><td>NA       </td><td>NA            </td><td>   NA</td><td>NA</td><td>NA</td><td>NA</td><td>NA</td><td>NA</td><td> 0</td><td> 1</td><td>...</td><td> 1</td><td>2021-06-06</td><td> 2</td><td>NA              </td><td>NA</td><td>NA            </td><td>NA                  </td><td>NA</td><td>NA  </td><td>NA                  </td><td>NA</td><td>NA</td><td>NA</td><td>NA</td><td>NA</td></tr>\n",
       "\t<tr><td>2</td><td>case_intake_arm_1  </td><td>NA            </td><td> 2</td><td>NA    </td><td>NA       </td><td>NA            </td><td>   NA</td><td>NA</td><td>NA</td><td>NA</td><td>NA</td><td>NA</td><td>NA</td><td> 1</td><td>...</td><td> 0</td><td>NA</td><td> 2</td><td>NA              </td><td>NA</td><td>NA            </td><td>NA                  </td><td>NA</td><td>NA  </td><td>NA                  </td><td>NA</td><td>NA</td><td>NA</td><td>NA</td><td>NA</td></tr>\n",
       "\t<tr><td>2</td><td>notifications_arm_1</td><td>close_contacts</td><td> 1</td><td>NA    </td><td>NA       </td><td>NA            </td><td>   NA</td><td>NA</td><td>NA</td><td>NA</td><td>NA</td><td>NA</td><td>NA</td><td>NA</td><td>...</td><td>NA</td><td>NA</td><td>NA</td><td>Janine Doe      </td><td>2023-10-10</td><td>(999) 999-9999</td><td>fake_email@gmail.com</td><td> 2</td><td>NA  </td><td>NA                  </td><td>NA</td><td>NA</td><td>NA</td><td>NA</td><td>NA</td></tr>\n",
       "\t<tr><td>2</td><td>notifications_arm_1</td><td>close_contacts</td><td> 2</td><td>NA    </td><td>NA       </td><td>NA            </td><td>   NA</td><td>NA</td><td>NA</td><td>NA</td><td>NA</td><td>NA</td><td>NA</td><td>NA</td><td>...</td><td>NA</td><td>NA</td><td>NA</td><td>Johnny Appleseed</td><td>2023-10-11</td><td>(999) 999-9999</td><td>NA                  </td><td> 0</td><td>NA  </td><td>NA                  </td><td>NA</td><td>NA</td><td>NA</td><td>NA</td><td>NA</td></tr>\n",
       "\t<tr><td>3</td><td>personal_info_arm_1</td><td>NA            </td><td>NA</td><td>John  </td><td>Doe      </td><td>(999) 999-9999</td><td>98105</td><td>NA</td><td>NA</td><td> 1</td><td> 4</td><td> 1</td><td> 2</td><td>NA</td><td>...</td><td>NA</td><td>NA</td><td>NA</td><td>NA              </td><td>NA</td><td>NA            </td><td>NA                  </td><td>NA</td><td>NA  </td><td>NA                  </td><td>NA</td><td>NA</td><td>NA</td><td>NA</td><td>NA</td></tr>\n",
       "\t<tr><td>3</td><td>notifications_arm_1</td><td>NA            </td><td>NA</td><td>NA    </td><td>NA       </td><td>NA            </td><td>   NA</td><td>NA</td><td>NA</td><td>NA</td><td>NA</td><td>NA</td><td>NA</td><td>NA</td><td>...</td><td>NA</td><td>NA</td><td>NA</td><td>NA              </td><td>NA</td><td>NA            </td><td>NA                  </td><td>NA</td><td>Boss</td><td>NA                  </td><td> 0</td><td>NA</td><td> 0</td><td>NA</td><td> 2</td></tr>\n",
       "\t<tr><td>3</td><td>case_intake_arm_1  </td><td>NA            </td><td> 1</td><td>NA    </td><td>NA       </td><td>NA            </td><td>   NA</td><td>NA</td><td>NA</td><td>NA</td><td>NA</td><td>NA</td><td> 0</td><td> 1</td><td>...</td><td> 0</td><td>NA</td><td> 2</td><td>NA              </td><td>NA</td><td>NA            </td><td>NA                  </td><td>NA</td><td>NA  </td><td>NA                  </td><td>NA</td><td>NA</td><td>NA</td><td>NA</td><td>NA</td></tr>\n",
       "\t<tr><td>3</td><td>notifications_arm_1</td><td>close_contacts</td><td> 1</td><td>NA    </td><td>NA       </td><td>NA            </td><td>   NA</td><td>NA</td><td>NA</td><td>NA</td><td>NA</td><td>NA</td><td>NA</td><td>NA</td><td>...</td><td>NA</td><td>NA</td><td>NA</td><td>Jane Doe        </td><td>2023-10-09</td><td>(999) 999-9999</td><td>fake_email@gmail.com</td><td> 2</td><td>NA  </td><td>NA                  </td><td>NA</td><td>NA</td><td>NA</td><td>NA</td><td>NA</td></tr>\n",
       "\t<tr><td>3</td><td>notifications_arm_1</td><td>close_contacts</td><td> 2</td><td>NA    </td><td>NA       </td><td>NA            </td><td>   NA</td><td>NA</td><td>NA</td><td>NA</td><td>NA</td><td>NA</td><td>NA</td><td>NA</td><td>...</td><td>NA</td><td>NA</td><td>NA</td><td>Johnny Appleseed</td><td>2023-10-08</td><td>(999) 999-9999</td><td>fake_email@gmail.com</td><td> 2</td><td>NA  </td><td>NA                  </td><td>NA</td><td>NA</td><td>NA</td><td>NA</td><td>NA</td></tr>\n",
       "\t<tr><td>4</td><td>personal_info_arm_1</td><td>NA            </td><td>NA</td><td>Jane  </td><td>Doe      </td><td>(999) 999-9999</td><td>98105</td><td>1995-06-29</td><td>28</td><td> 0</td><td> 5</td><td> 0</td><td> 2</td><td>NA</td><td>...</td><td>NA</td><td>NA</td><td>NA</td><td>NA              </td><td>NA</td><td>NA            </td><td>NA                  </td><td>NA</td><td>NA  </td><td>NA                  </td><td>NA</td><td>NA</td><td>NA</td><td>NA</td><td>NA</td></tr>\n",
       "\t<tr><td>4</td><td>notifications_arm_1</td><td>NA            </td><td>NA</td><td>NA    </td><td>NA       </td><td>NA            </td><td>   NA</td><td>NA</td><td>NA</td><td>NA</td><td>NA</td><td>NA</td><td>NA</td><td>NA</td><td>...</td><td>NA</td><td>NA</td><td>NA</td><td>NA              </td><td>NA</td><td>NA            </td><td>NA                  </td><td>NA</td><td>Boss</td><td>fake_email@gmail.com</td><td> 1</td><td>2023-10-10</td><td> 1</td><td>NA</td><td> 2</td></tr>\n",
       "\t<tr><td>4</td><td>case_intake_arm_1  </td><td>NA            </td><td> 1</td><td>NA    </td><td>NA       </td><td>NA            </td><td>   NA</td><td>NA</td><td>NA</td><td>NA</td><td>NA</td><td>NA</td><td> 0</td><td> 1</td><td>...</td><td> 1</td><td>2021-06-06</td><td> 2</td><td>NA              </td><td>NA</td><td>NA            </td><td>NA                  </td><td>NA</td><td>NA  </td><td>NA                  </td><td>NA</td><td>NA</td><td>NA</td><td>NA</td><td>NA</td></tr>\n",
       "\t<tr><td>4</td><td>case_intake_arm_1  </td><td>NA            </td><td> 2</td><td>NA    </td><td>NA       </td><td>NA            </td><td>   NA</td><td>NA</td><td>NA</td><td>NA</td><td>NA</td><td>NA</td><td>NA</td><td> 1</td><td>...</td><td> 0</td><td>NA</td><td> 2</td><td>NA              </td><td>NA</td><td>NA            </td><td>NA                  </td><td>NA</td><td>NA  </td><td>NA                  </td><td>NA</td><td>NA</td><td>NA</td><td>NA</td><td>NA</td></tr>\n",
       "\t<tr><td>4</td><td>notifications_arm_1</td><td>close_contacts</td><td> 1</td><td>NA    </td><td>NA       </td><td>NA            </td><td>   NA</td><td>NA</td><td>NA</td><td>NA</td><td>NA</td><td>NA</td><td>NA</td><td>NA</td><td>...</td><td>NA</td><td>NA</td><td>NA</td><td>Janine Doe      </td><td>2023-10-10</td><td>(999) 999-9999</td><td>fake_email@gmail.com</td><td> 2</td><td>NA  </td><td>NA                  </td><td>NA</td><td>NA</td><td>NA</td><td>NA</td><td>NA</td></tr>\n",
       "\t<tr><td>4</td><td>notifications_arm_1</td><td>close_contacts</td><td> 2</td><td>NA    </td><td>NA       </td><td>NA            </td><td>   NA</td><td>NA</td><td>NA</td><td>NA</td><td>NA</td><td>NA</td><td>NA</td><td>NA</td><td>...</td><td>NA</td><td>NA</td><td>NA</td><td>Johnny Appleseed</td><td>2023-10-11</td><td>(999) 999-9999</td><td>NA                  </td><td> 0</td><td>NA  </td><td>NA                  </td><td>NA</td><td>NA</td><td>NA</td><td>NA</td><td>NA</td></tr>\n",
       "\t<tr><td>5</td><td>personal_info_arm_1</td><td>NA            </td><td>NA</td><td>Johnny</td><td>Appleseed</td><td>(999) 999-9999</td><td>98104</td><td>1989-10-13</td><td>34</td><td> 2</td><td> 3</td><td> 1</td><td> 2</td><td>NA</td><td>...</td><td>NA</td><td>NA</td><td>NA</td><td>NA              </td><td>NA</td><td>NA            </td><td>NA                  </td><td>NA</td><td>NA  </td><td>NA                  </td><td>NA</td><td>NA</td><td>NA</td><td>NA</td><td>NA</td></tr>\n",
       "\t<tr><td>5</td><td>notifications_arm_1</td><td>NA            </td><td>NA</td><td>NA    </td><td>NA       </td><td>NA            </td><td>   NA</td><td>NA</td><td>NA</td><td>NA</td><td>NA</td><td>NA</td><td>NA</td><td>NA</td><td>...</td><td>NA</td><td>NA</td><td>NA</td><td>NA              </td><td>NA</td><td>NA            </td><td>NA                  </td><td>NA</td><td>NA  </td><td>NA                  </td><td> 0</td><td>NA</td><td> 0</td><td>NA</td><td> 0</td></tr>\n",
       "\t<tr><td>5</td><td>case_intake_arm_1  </td><td>NA            </td><td> 1</td><td>NA    </td><td>NA       </td><td>NA            </td><td>   NA</td><td>NA</td><td>NA</td><td>NA</td><td>NA</td><td>NA</td><td> 0</td><td> 1</td><td>...</td><td> 0</td><td>NA</td><td> 2</td><td>NA              </td><td>NA</td><td>NA            </td><td>NA                  </td><td>NA</td><td>NA  </td><td>NA                  </td><td>NA</td><td>NA</td><td>NA</td><td>NA</td><td>NA</td></tr>\n",
       "\t<tr><td>5</td><td>notifications_arm_1</td><td>close_contacts</td><td> 1</td><td>NA    </td><td>NA       </td><td>NA            </td><td>   NA</td><td>NA</td><td>NA</td><td>NA</td><td>NA</td><td>NA</td><td>NA</td><td>NA</td><td>...</td><td>NA</td><td>NA</td><td>NA</td><td>John Smith      </td><td>2023-10-08</td><td>(999) 999-9999</td><td>NA                  </td><td> 2</td><td>NA  </td><td>NA                  </td><td>NA</td><td>NA</td><td>NA</td><td>NA</td><td>NA</td></tr>\n",
       "\t<tr><td>6</td><td>personal_info_arm_1</td><td>NA            </td><td>NA</td><td>Janine</td><td>Appleseed</td><td>(999) 999-9999</td><td>98107</td><td>1998-07-01</td><td>25</td><td> 0</td><td> 5</td><td> 0</td><td> 2</td><td>NA</td><td>...</td><td>NA</td><td>NA</td><td>NA</td><td>NA              </td><td>NA</td><td>NA            </td><td>NA                  </td><td>NA</td><td>NA  </td><td>NA                  </td><td>NA</td><td>NA</td><td>NA</td><td>NA</td><td>NA</td></tr>\n",
       "\t<tr><td>6</td><td>notifications_arm_1</td><td>NA            </td><td>NA</td><td>NA    </td><td>NA       </td><td>NA            </td><td>   NA</td><td>NA</td><td>NA</td><td>NA</td><td>NA</td><td>NA</td><td>NA</td><td>NA</td><td>...</td><td>NA</td><td>NA</td><td>NA</td><td>NA              </td><td>NA</td><td>NA            </td><td>NA                  </td><td>NA</td><td>NA  </td><td>NA                  </td><td> 0</td><td>NA</td><td> 0</td><td>NA</td><td> 2</td></tr>\n",
       "\t<tr><td>6</td><td>case_intake_arm_1  </td><td>NA            </td><td> 1</td><td>NA    </td><td>NA       </td><td>NA            </td><td>   NA</td><td>NA</td><td>NA</td><td>NA</td><td>NA</td><td>NA</td><td> 0</td><td> 1</td><td>...</td><td> 0</td><td>NA</td><td> 2</td><td>NA              </td><td>NA</td><td>NA            </td><td>NA                  </td><td>NA</td><td>NA  </td><td>NA                  </td><td>NA</td><td>NA</td><td>NA</td><td>NA</td><td>NA</td></tr>\n",
       "\t<tr><td>6</td><td>notifications_arm_1</td><td>close_contacts</td><td> 1</td><td>NA    </td><td>NA       </td><td>NA            </td><td>   NA</td><td>NA</td><td>NA</td><td>NA</td><td>NA</td><td>NA</td><td>NA</td><td>NA</td><td>...</td><td>NA</td><td>NA</td><td>NA</td><td>Janine Doe      </td><td>2023-10-01</td><td>(999) 999-9999</td><td>fake_email@gmail.com</td><td> 2</td><td>NA  </td><td>NA                  </td><td>NA</td><td>NA</td><td>NA</td><td>NA</td><td>NA</td></tr>\n",
       "\t<tr><td>6</td><td>notifications_arm_1</td><td>close_contacts</td><td> 2</td><td>NA    </td><td>NA       </td><td>NA            </td><td>   NA</td><td>NA</td><td>NA</td><td>NA</td><td>NA</td><td>NA</td><td>NA</td><td>NA</td><td>...</td><td>NA</td><td>NA</td><td>NA</td><td>Jamie Smith     </td><td>2023-09-30</td><td>(999) 999-9999</td><td>fake_email@gmail.com</td><td> 2</td><td>NA  </td><td>NA                  </td><td>NA</td><td>NA</td><td>NA</td><td>NA</td><td>NA</td></tr>\n",
       "</tbody>\n",
       "</table>\n"
      ],
      "text/latex": [
       "A spec\\_tbl\\_df: 31 × 48\n",
       "\\begin{tabular}{lllllllllllllllllllllllllllllll}\n",
       " record\\_id & redcap\\_event\\_name & redcap\\_repeat\\_instrument & redcap\\_repeat\\_instance & first\\_name & last\\_name & phone\\_num & zip\\_code & dob & age & ethnicity & race & gender & demographics\\_complete & symptoms\\_yesno & ... & prior\\_covid\\_yesno & prior\\_covid\\_date & test\\_information\\_complete & cc\\_name & cc\\_date & cc\\_phone & cc\\_email & close\\_contacts\\_complete & supervisor\\_name & supervisor\\_email & work\\_inperson\\_yesno & work\\_date & work\\_contagious & work\\_contagious\\_calc & work\\_information\\_complete\\\\\n",
       " <dbl> & <chr> & <chr> & <dbl> & <chr> & <chr> & <chr> & <dbl> & <date> & <dbl> & <dbl> & <dbl> & <dbl> & <dbl> & <dbl> & ... & <dbl> & <date> & <dbl> & <chr> & <date> & <chr> & <chr> & <dbl> & <chr> & <chr> & <dbl> & <date> & <dbl> & <lgl> & <dbl>\\\\\n",
       "\\hline\n",
       "\t 1 & personal\\_info\\_arm\\_1 & NA             & NA & John   & Doe       & (999) 999-9999 & 98105 & 2004-12-05 & 18 &  1 &  4 &  1 &  2 & NA & ... & NA & NA & NA & NA               & NA & NA             & NA                   & NA & NA   & NA                   & NA & NA & NA & NA & NA\\\\\n",
       "\t 1 & notifications\\_arm\\_1 & NA             & NA & NA     & NA        & NA             &    NA & NA & NA & NA & NA & NA & NA & NA & ... & NA & NA & NA & NA               & NA & NA             & NA                   & NA & Boss & NA                   &  0 & NA &  0 & NA &  2\\\\\n",
       "\t 1 & case\\_intake\\_arm\\_1   & NA             &  1 & NA     & NA        & NA             &    NA & NA & NA & NA & NA & NA &  0 &  1 & ... &  0 & NA &  2 & NA               & NA & NA             & NA                   & NA & NA   & NA                   & NA & NA & NA & NA & NA\\\\\n",
       "\t 1 & notifications\\_arm\\_1 & close\\_contacts &  1 & NA     & NA        & NA             &    NA & NA & NA & NA & NA & NA & NA & NA & ... & NA & NA & NA & Jane Doe         & 2023-10-09 & (999) 999-9999 & fake\\_email@gmail.com &  2 & NA   & NA                   & NA & NA & NA & NA & NA\\\\\n",
       "\t 1 & notifications\\_arm\\_1 & close\\_contacts &  2 & NA     & NA        & NA             &    NA & NA & NA & NA & NA & NA & NA & NA & ... & NA & NA & NA & Johnny Appleseed & 2023-10-08 & (999) 999-9999 & fake\\_email@gmail.com &  2 & NA   & NA                   & NA & NA & NA & NA & NA\\\\\n",
       "\t 2 & personal\\_info\\_arm\\_1 & NA             & NA & Jane   & Doe       & (999) 999-9999 & 98105 & 1995-06-29 & 28 &  0 &  5 &  0 &  2 & NA & ... & NA & NA & NA & NA               & NA & NA             & NA                   & NA & NA   & NA                   & NA & NA & NA & NA & NA\\\\\n",
       "\t 2 & notifications\\_arm\\_1 & NA             & NA & NA     & NA        & NA             &    NA & NA & NA & NA & NA & NA & NA & NA & ... & NA & NA & NA & NA               & NA & NA             & NA                   & NA & Boss & fake\\_email@gmail.com &  1 & 2023-10-10 &  1 & NA &  2\\\\\n",
       "\t 2 & case\\_intake\\_arm\\_1   & NA             &  1 & NA     & NA        & NA             &    NA & NA & NA & NA & NA & NA &  0 &  1 & ... &  1 & 2021-06-06 &  2 & NA               & NA & NA             & NA                   & NA & NA   & NA                   & NA & NA & NA & NA & NA\\\\\n",
       "\t 2 & case\\_intake\\_arm\\_1   & NA             &  2 & NA     & NA        & NA             &    NA & NA & NA & NA & NA & NA & NA &  1 & ... &  0 & NA &  2 & NA               & NA & NA             & NA                   & NA & NA   & NA                   & NA & NA & NA & NA & NA\\\\\n",
       "\t 2 & notifications\\_arm\\_1 & close\\_contacts &  1 & NA     & NA        & NA             &    NA & NA & NA & NA & NA & NA & NA & NA & ... & NA & NA & NA & Janine Doe       & 2023-10-10 & (999) 999-9999 & fake\\_email@gmail.com &  2 & NA   & NA                   & NA & NA & NA & NA & NA\\\\\n",
       "\t 2 & notifications\\_arm\\_1 & close\\_contacts &  2 & NA     & NA        & NA             &    NA & NA & NA & NA & NA & NA & NA & NA & ... & NA & NA & NA & Johnny Appleseed & 2023-10-11 & (999) 999-9999 & NA                   &  0 & NA   & NA                   & NA & NA & NA & NA & NA\\\\\n",
       "\t 3 & personal\\_info\\_arm\\_1 & NA             & NA & John   & Doe       & (999) 999-9999 & 98105 & NA & NA &  1 &  4 &  1 &  2 & NA & ... & NA & NA & NA & NA               & NA & NA             & NA                   & NA & NA   & NA                   & NA & NA & NA & NA & NA\\\\\n",
       "\t 3 & notifications\\_arm\\_1 & NA             & NA & NA     & NA        & NA             &    NA & NA & NA & NA & NA & NA & NA & NA & ... & NA & NA & NA & NA               & NA & NA             & NA                   & NA & Boss & NA                   &  0 & NA &  0 & NA &  2\\\\\n",
       "\t 3 & case\\_intake\\_arm\\_1   & NA             &  1 & NA     & NA        & NA             &    NA & NA & NA & NA & NA & NA &  0 &  1 & ... &  0 & NA &  2 & NA               & NA & NA             & NA                   & NA & NA   & NA                   & NA & NA & NA & NA & NA\\\\\n",
       "\t 3 & notifications\\_arm\\_1 & close\\_contacts &  1 & NA     & NA        & NA             &    NA & NA & NA & NA & NA & NA & NA & NA & ... & NA & NA & NA & Jane Doe         & 2023-10-09 & (999) 999-9999 & fake\\_email@gmail.com &  2 & NA   & NA                   & NA & NA & NA & NA & NA\\\\\n",
       "\t 3 & notifications\\_arm\\_1 & close\\_contacts &  2 & NA     & NA        & NA             &    NA & NA & NA & NA & NA & NA & NA & NA & ... & NA & NA & NA & Johnny Appleseed & 2023-10-08 & (999) 999-9999 & fake\\_email@gmail.com &  2 & NA   & NA                   & NA & NA & NA & NA & NA\\\\\n",
       "\t 4 & personal\\_info\\_arm\\_1 & NA             & NA & Jane   & Doe       & (999) 999-9999 & 98105 & 1995-06-29 & 28 &  0 &  5 &  0 &  2 & NA & ... & NA & NA & NA & NA               & NA & NA             & NA                   & NA & NA   & NA                   & NA & NA & NA & NA & NA\\\\\n",
       "\t 4 & notifications\\_arm\\_1 & NA             & NA & NA     & NA        & NA             &    NA & NA & NA & NA & NA & NA & NA & NA & ... & NA & NA & NA & NA               & NA & NA             & NA                   & NA & Boss & fake\\_email@gmail.com &  1 & 2023-10-10 &  1 & NA &  2\\\\\n",
       "\t 4 & case\\_intake\\_arm\\_1   & NA             &  1 & NA     & NA        & NA             &    NA & NA & NA & NA & NA & NA &  0 &  1 & ... &  1 & 2021-06-06 &  2 & NA               & NA & NA             & NA                   & NA & NA   & NA                   & NA & NA & NA & NA & NA\\\\\n",
       "\t 4 & case\\_intake\\_arm\\_1   & NA             &  2 & NA     & NA        & NA             &    NA & NA & NA & NA & NA & NA & NA &  1 & ... &  0 & NA &  2 & NA               & NA & NA             & NA                   & NA & NA   & NA                   & NA & NA & NA & NA & NA\\\\\n",
       "\t 4 & notifications\\_arm\\_1 & close\\_contacts &  1 & NA     & NA        & NA             &    NA & NA & NA & NA & NA & NA & NA & NA & ... & NA & NA & NA & Janine Doe       & 2023-10-10 & (999) 999-9999 & fake\\_email@gmail.com &  2 & NA   & NA                   & NA & NA & NA & NA & NA\\\\\n",
       "\t 4 & notifications\\_arm\\_1 & close\\_contacts &  2 & NA     & NA        & NA             &    NA & NA & NA & NA & NA & NA & NA & NA & ... & NA & NA & NA & Johnny Appleseed & 2023-10-11 & (999) 999-9999 & NA                   &  0 & NA   & NA                   & NA & NA & NA & NA & NA\\\\\n",
       "\t 5 & personal\\_info\\_arm\\_1 & NA             & NA & Johnny & Appleseed & (999) 999-9999 & 98104 & 1989-10-13 & 34 &  2 &  3 &  1 &  2 & NA & ... & NA & NA & NA & NA               & NA & NA             & NA                   & NA & NA   & NA                   & NA & NA & NA & NA & NA\\\\\n",
       "\t 5 & notifications\\_arm\\_1 & NA             & NA & NA     & NA        & NA             &    NA & NA & NA & NA & NA & NA & NA & NA & ... & NA & NA & NA & NA               & NA & NA             & NA                   & NA & NA   & NA                   &  0 & NA &  0 & NA &  0\\\\\n",
       "\t 5 & case\\_intake\\_arm\\_1   & NA             &  1 & NA     & NA        & NA             &    NA & NA & NA & NA & NA & NA &  0 &  1 & ... &  0 & NA &  2 & NA               & NA & NA             & NA                   & NA & NA   & NA                   & NA & NA & NA & NA & NA\\\\\n",
       "\t 5 & notifications\\_arm\\_1 & close\\_contacts &  1 & NA     & NA        & NA             &    NA & NA & NA & NA & NA & NA & NA & NA & ... & NA & NA & NA & John Smith       & 2023-10-08 & (999) 999-9999 & NA                   &  2 & NA   & NA                   & NA & NA & NA & NA & NA\\\\\n",
       "\t 6 & personal\\_info\\_arm\\_1 & NA             & NA & Janine & Appleseed & (999) 999-9999 & 98107 & 1998-07-01 & 25 &  0 &  5 &  0 &  2 & NA & ... & NA & NA & NA & NA               & NA & NA             & NA                   & NA & NA   & NA                   & NA & NA & NA & NA & NA\\\\\n",
       "\t 6 & notifications\\_arm\\_1 & NA             & NA & NA     & NA        & NA             &    NA & NA & NA & NA & NA & NA & NA & NA & ... & NA & NA & NA & NA               & NA & NA             & NA                   & NA & NA   & NA                   &  0 & NA &  0 & NA &  2\\\\\n",
       "\t 6 & case\\_intake\\_arm\\_1   & NA             &  1 & NA     & NA        & NA             &    NA & NA & NA & NA & NA & NA &  0 &  1 & ... &  0 & NA &  2 & NA               & NA & NA             & NA                   & NA & NA   & NA                   & NA & NA & NA & NA & NA\\\\\n",
       "\t 6 & notifications\\_arm\\_1 & close\\_contacts &  1 & NA     & NA        & NA             &    NA & NA & NA & NA & NA & NA & NA & NA & ... & NA & NA & NA & Janine Doe       & 2023-10-01 & (999) 999-9999 & fake\\_email@gmail.com &  2 & NA   & NA                   & NA & NA & NA & NA & NA\\\\\n",
       "\t 6 & notifications\\_arm\\_1 & close\\_contacts &  2 & NA     & NA        & NA             &    NA & NA & NA & NA & NA & NA & NA & NA & ... & NA & NA & NA & Jamie Smith      & 2023-09-30 & (999) 999-9999 & fake\\_email@gmail.com &  2 & NA   & NA                   & NA & NA & NA & NA & NA\\\\\n",
       "\\end{tabular}\n"
      ],
      "text/markdown": [
       "\n",
       "A spec_tbl_df: 31 × 48\n",
       "\n",
       "| record_id &lt;dbl&gt; | redcap_event_name &lt;chr&gt; | redcap_repeat_instrument &lt;chr&gt; | redcap_repeat_instance &lt;dbl&gt; | first_name &lt;chr&gt; | last_name &lt;chr&gt; | phone_num &lt;chr&gt; | zip_code &lt;dbl&gt; | dob &lt;date&gt; | age &lt;dbl&gt; | ethnicity &lt;dbl&gt; | race &lt;dbl&gt; | gender &lt;dbl&gt; | demographics_complete &lt;dbl&gt; | symptoms_yesno &lt;dbl&gt; | ... ... | prior_covid_yesno &lt;dbl&gt; | prior_covid_date &lt;date&gt; | test_information_complete &lt;dbl&gt; | cc_name &lt;chr&gt; | cc_date &lt;date&gt; | cc_phone &lt;chr&gt; | cc_email &lt;chr&gt; | close_contacts_complete &lt;dbl&gt; | supervisor_name &lt;chr&gt; | supervisor_email &lt;chr&gt; | work_inperson_yesno &lt;dbl&gt; | work_date &lt;date&gt; | work_contagious &lt;dbl&gt; | work_contagious_calc &lt;lgl&gt; | work_information_complete &lt;dbl&gt; |\n",
       "|---|---|---|---|---|---|---|---|---|---|---|---|---|---|---|---|---|---|---|---|---|---|---|---|---|---|---|---|---|---|---|\n",
       "| 1 | personal_info_arm_1 | NA             | NA | John   | Doe       | (999) 999-9999 | 98105 | 2004-12-05 | 18 |  1 |  4 |  1 |  2 | NA | ... | NA | NA | NA | NA               | NA | NA             | NA                   | NA | NA   | NA                   | NA | NA | NA | NA | NA |\n",
       "| 1 | notifications_arm_1 | NA             | NA | NA     | NA        | NA             |    NA | NA | NA | NA | NA | NA | NA | NA | ... | NA | NA | NA | NA               | NA | NA             | NA                   | NA | Boss | NA                   |  0 | NA |  0 | NA |  2 |\n",
       "| 1 | case_intake_arm_1   | NA             |  1 | NA     | NA        | NA             |    NA | NA | NA | NA | NA | NA |  0 |  1 | ... |  0 | NA |  2 | NA               | NA | NA             | NA                   | NA | NA   | NA                   | NA | NA | NA | NA | NA |\n",
       "| 1 | notifications_arm_1 | close_contacts |  1 | NA     | NA        | NA             |    NA | NA | NA | NA | NA | NA | NA | NA | ... | NA | NA | NA | Jane Doe         | 2023-10-09 | (999) 999-9999 | fake_email@gmail.com |  2 | NA   | NA                   | NA | NA | NA | NA | NA |\n",
       "| 1 | notifications_arm_1 | close_contacts |  2 | NA     | NA        | NA             |    NA | NA | NA | NA | NA | NA | NA | NA | ... | NA | NA | NA | Johnny Appleseed | 2023-10-08 | (999) 999-9999 | fake_email@gmail.com |  2 | NA   | NA                   | NA | NA | NA | NA | NA |\n",
       "| 2 | personal_info_arm_1 | NA             | NA | Jane   | Doe       | (999) 999-9999 | 98105 | 1995-06-29 | 28 |  0 |  5 |  0 |  2 | NA | ... | NA | NA | NA | NA               | NA | NA             | NA                   | NA | NA   | NA                   | NA | NA | NA | NA | NA |\n",
       "| 2 | notifications_arm_1 | NA             | NA | NA     | NA        | NA             |    NA | NA | NA | NA | NA | NA | NA | NA | ... | NA | NA | NA | NA               | NA | NA             | NA                   | NA | Boss | fake_email@gmail.com |  1 | 2023-10-10 |  1 | NA |  2 |\n",
       "| 2 | case_intake_arm_1   | NA             |  1 | NA     | NA        | NA             |    NA | NA | NA | NA | NA | NA |  0 |  1 | ... |  1 | 2021-06-06 |  2 | NA               | NA | NA             | NA                   | NA | NA   | NA                   | NA | NA | NA | NA | NA |\n",
       "| 2 | case_intake_arm_1   | NA             |  2 | NA     | NA        | NA             |    NA | NA | NA | NA | NA | NA | NA |  1 | ... |  0 | NA |  2 | NA               | NA | NA             | NA                   | NA | NA   | NA                   | NA | NA | NA | NA | NA |\n",
       "| 2 | notifications_arm_1 | close_contacts |  1 | NA     | NA        | NA             |    NA | NA | NA | NA | NA | NA | NA | NA | ... | NA | NA | NA | Janine Doe       | 2023-10-10 | (999) 999-9999 | fake_email@gmail.com |  2 | NA   | NA                   | NA | NA | NA | NA | NA |\n",
       "| 2 | notifications_arm_1 | close_contacts |  2 | NA     | NA        | NA             |    NA | NA | NA | NA | NA | NA | NA | NA | ... | NA | NA | NA | Johnny Appleseed | 2023-10-11 | (999) 999-9999 | NA                   |  0 | NA   | NA                   | NA | NA | NA | NA | NA |\n",
       "| 3 | personal_info_arm_1 | NA             | NA | John   | Doe       | (999) 999-9999 | 98105 | NA | NA |  1 |  4 |  1 |  2 | NA | ... | NA | NA | NA | NA               | NA | NA             | NA                   | NA | NA   | NA                   | NA | NA | NA | NA | NA |\n",
       "| 3 | notifications_arm_1 | NA             | NA | NA     | NA        | NA             |    NA | NA | NA | NA | NA | NA | NA | NA | ... | NA | NA | NA | NA               | NA | NA             | NA                   | NA | Boss | NA                   |  0 | NA |  0 | NA |  2 |\n",
       "| 3 | case_intake_arm_1   | NA             |  1 | NA     | NA        | NA             |    NA | NA | NA | NA | NA | NA |  0 |  1 | ... |  0 | NA |  2 | NA               | NA | NA             | NA                   | NA | NA   | NA                   | NA | NA | NA | NA | NA |\n",
       "| 3 | notifications_arm_1 | close_contacts |  1 | NA     | NA        | NA             |    NA | NA | NA | NA | NA | NA | NA | NA | ... | NA | NA | NA | Jane Doe         | 2023-10-09 | (999) 999-9999 | fake_email@gmail.com |  2 | NA   | NA                   | NA | NA | NA | NA | NA |\n",
       "| 3 | notifications_arm_1 | close_contacts |  2 | NA     | NA        | NA             |    NA | NA | NA | NA | NA | NA | NA | NA | ... | NA | NA | NA | Johnny Appleseed | 2023-10-08 | (999) 999-9999 | fake_email@gmail.com |  2 | NA   | NA                   | NA | NA | NA | NA | NA |\n",
       "| 4 | personal_info_arm_1 | NA             | NA | Jane   | Doe       | (999) 999-9999 | 98105 | 1995-06-29 | 28 |  0 |  5 |  0 |  2 | NA | ... | NA | NA | NA | NA               | NA | NA             | NA                   | NA | NA   | NA                   | NA | NA | NA | NA | NA |\n",
       "| 4 | notifications_arm_1 | NA             | NA | NA     | NA        | NA             |    NA | NA | NA | NA | NA | NA | NA | NA | ... | NA | NA | NA | NA               | NA | NA             | NA                   | NA | Boss | fake_email@gmail.com |  1 | 2023-10-10 |  1 | NA |  2 |\n",
       "| 4 | case_intake_arm_1   | NA             |  1 | NA     | NA        | NA             |    NA | NA | NA | NA | NA | NA |  0 |  1 | ... |  1 | 2021-06-06 |  2 | NA               | NA | NA             | NA                   | NA | NA   | NA                   | NA | NA | NA | NA | NA |\n",
       "| 4 | case_intake_arm_1   | NA             |  2 | NA     | NA        | NA             |    NA | NA | NA | NA | NA | NA | NA |  1 | ... |  0 | NA |  2 | NA               | NA | NA             | NA                   | NA | NA   | NA                   | NA | NA | NA | NA | NA |\n",
       "| 4 | notifications_arm_1 | close_contacts |  1 | NA     | NA        | NA             |    NA | NA | NA | NA | NA | NA | NA | NA | ... | NA | NA | NA | Janine Doe       | 2023-10-10 | (999) 999-9999 | fake_email@gmail.com |  2 | NA   | NA                   | NA | NA | NA | NA | NA |\n",
       "| 4 | notifications_arm_1 | close_contacts |  2 | NA     | NA        | NA             |    NA | NA | NA | NA | NA | NA | NA | NA | ... | NA | NA | NA | Johnny Appleseed | 2023-10-11 | (999) 999-9999 | NA                   |  0 | NA   | NA                   | NA | NA | NA | NA | NA |\n",
       "| 5 | personal_info_arm_1 | NA             | NA | Johnny | Appleseed | (999) 999-9999 | 98104 | 1989-10-13 | 34 |  2 |  3 |  1 |  2 | NA | ... | NA | NA | NA | NA               | NA | NA             | NA                   | NA | NA   | NA                   | NA | NA | NA | NA | NA |\n",
       "| 5 | notifications_arm_1 | NA             | NA | NA     | NA        | NA             |    NA | NA | NA | NA | NA | NA | NA | NA | ... | NA | NA | NA | NA               | NA | NA             | NA                   | NA | NA   | NA                   |  0 | NA |  0 | NA |  0 |\n",
       "| 5 | case_intake_arm_1   | NA             |  1 | NA     | NA        | NA             |    NA | NA | NA | NA | NA | NA |  0 |  1 | ... |  0 | NA |  2 | NA               | NA | NA             | NA                   | NA | NA   | NA                   | NA | NA | NA | NA | NA |\n",
       "| 5 | notifications_arm_1 | close_contacts |  1 | NA     | NA        | NA             |    NA | NA | NA | NA | NA | NA | NA | NA | ... | NA | NA | NA | John Smith       | 2023-10-08 | (999) 999-9999 | NA                   |  2 | NA   | NA                   | NA | NA | NA | NA | NA |\n",
       "| 6 | personal_info_arm_1 | NA             | NA | Janine | Appleseed | (999) 999-9999 | 98107 | 1998-07-01 | 25 |  0 |  5 |  0 |  2 | NA | ... | NA | NA | NA | NA               | NA | NA             | NA                   | NA | NA   | NA                   | NA | NA | NA | NA | NA |\n",
       "| 6 | notifications_arm_1 | NA             | NA | NA     | NA        | NA             |    NA | NA | NA | NA | NA | NA | NA | NA | ... | NA | NA | NA | NA               | NA | NA             | NA                   | NA | NA   | NA                   |  0 | NA |  0 | NA |  2 |\n",
       "| 6 | case_intake_arm_1   | NA             |  1 | NA     | NA        | NA             |    NA | NA | NA | NA | NA | NA |  0 |  1 | ... |  0 | NA |  2 | NA               | NA | NA             | NA                   | NA | NA   | NA                   | NA | NA | NA | NA | NA |\n",
       "| 6 | notifications_arm_1 | close_contacts |  1 | NA     | NA        | NA             |    NA | NA | NA | NA | NA | NA | NA | NA | ... | NA | NA | NA | Janine Doe       | 2023-10-01 | (999) 999-9999 | fake_email@gmail.com |  2 | NA   | NA                   | NA | NA | NA | NA | NA |\n",
       "| 6 | notifications_arm_1 | close_contacts |  2 | NA     | NA        | NA             |    NA | NA | NA | NA | NA | NA | NA | NA | ... | NA | NA | NA | Jamie Smith      | 2023-09-30 | (999) 999-9999 | fake_email@gmail.com |  2 | NA   | NA                   | NA | NA | NA | NA | NA |\n",
       "\n"
      ],
      "text/plain": [
       "   record_id redcap_event_name   redcap_repeat_instrument\n",
       "1  1         personal_info_arm_1 NA                      \n",
       "2  1         notifications_arm_1 NA                      \n",
       "3  1         case_intake_arm_1   NA                      \n",
       "4  1         notifications_arm_1 close_contacts          \n",
       "5  1         notifications_arm_1 close_contacts          \n",
       "6  2         personal_info_arm_1 NA                      \n",
       "7  2         notifications_arm_1 NA                      \n",
       "8  2         case_intake_arm_1   NA                      \n",
       "9  2         case_intake_arm_1   NA                      \n",
       "10 2         notifications_arm_1 close_contacts          \n",
       "11 2         notifications_arm_1 close_contacts          \n",
       "12 3         personal_info_arm_1 NA                      \n",
       "13 3         notifications_arm_1 NA                      \n",
       "14 3         case_intake_arm_1   NA                      \n",
       "15 3         notifications_arm_1 close_contacts          \n",
       "16 3         notifications_arm_1 close_contacts          \n",
       "17 4         personal_info_arm_1 NA                      \n",
       "18 4         notifications_arm_1 NA                      \n",
       "19 4         case_intake_arm_1   NA                      \n",
       "20 4         case_intake_arm_1   NA                      \n",
       "21 4         notifications_arm_1 close_contacts          \n",
       "22 4         notifications_arm_1 close_contacts          \n",
       "23 5         personal_info_arm_1 NA                      \n",
       "24 5         notifications_arm_1 NA                      \n",
       "25 5         case_intake_arm_1   NA                      \n",
       "26 5         notifications_arm_1 close_contacts          \n",
       "27 6         personal_info_arm_1 NA                      \n",
       "28 6         notifications_arm_1 NA                      \n",
       "29 6         case_intake_arm_1   NA                      \n",
       "30 6         notifications_arm_1 close_contacts          \n",
       "31 6         notifications_arm_1 close_contacts          \n",
       "   redcap_repeat_instance first_name last_name phone_num      zip_code\n",
       "1  NA                     John       Doe       (999) 999-9999 98105   \n",
       "2  NA                     NA         NA        NA                NA   \n",
       "3   1                     NA         NA        NA                NA   \n",
       "4   1                     NA         NA        NA                NA   \n",
       "5   2                     NA         NA        NA                NA   \n",
       "6  NA                     Jane       Doe       (999) 999-9999 98105   \n",
       "7  NA                     NA         NA        NA                NA   \n",
       "8   1                     NA         NA        NA                NA   \n",
       "9   2                     NA         NA        NA                NA   \n",
       "10  1                     NA         NA        NA                NA   \n",
       "11  2                     NA         NA        NA                NA   \n",
       "12 NA                     John       Doe       (999) 999-9999 98105   \n",
       "13 NA                     NA         NA        NA                NA   \n",
       "14  1                     NA         NA        NA                NA   \n",
       "15  1                     NA         NA        NA                NA   \n",
       "16  2                     NA         NA        NA                NA   \n",
       "17 NA                     Jane       Doe       (999) 999-9999 98105   \n",
       "18 NA                     NA         NA        NA                NA   \n",
       "19  1                     NA         NA        NA                NA   \n",
       "20  2                     NA         NA        NA                NA   \n",
       "21  1                     NA         NA        NA                NA   \n",
       "22  2                     NA         NA        NA                NA   \n",
       "23 NA                     Johnny     Appleseed (999) 999-9999 98104   \n",
       "24 NA                     NA         NA        NA                NA   \n",
       "25  1                     NA         NA        NA                NA   \n",
       "26  1                     NA         NA        NA                NA   \n",
       "27 NA                     Janine     Appleseed (999) 999-9999 98107   \n",
       "28 NA                     NA         NA        NA                NA   \n",
       "29  1                     NA         NA        NA                NA   \n",
       "30  1                     NA         NA        NA                NA   \n",
       "31  2                     NA         NA        NA                NA   \n",
       "   dob        age ethnicity race gender demographics_complete symptoms_yesno\n",
       "1  2004-12-05 18   1         4    1      2                    NA            \n",
       "2  <NA>       NA  NA        NA   NA     NA                    NA            \n",
       "3  <NA>       NA  NA        NA   NA      0                     1            \n",
       "4  <NA>       NA  NA        NA   NA     NA                    NA            \n",
       "5  <NA>       NA  NA        NA   NA     NA                    NA            \n",
       "6  1995-06-29 28   0         5    0      2                    NA            \n",
       "7  <NA>       NA  NA        NA   NA     NA                    NA            \n",
       "8  <NA>       NA  NA        NA   NA      0                     1            \n",
       "9  <NA>       NA  NA        NA   NA     NA                     1            \n",
       "10 <NA>       NA  NA        NA   NA     NA                    NA            \n",
       "11 <NA>       NA  NA        NA   NA     NA                    NA            \n",
       "12 <NA>       NA   1         4    1      2                    NA            \n",
       "13 <NA>       NA  NA        NA   NA     NA                    NA            \n",
       "14 <NA>       NA  NA        NA   NA      0                     1            \n",
       "15 <NA>       NA  NA        NA   NA     NA                    NA            \n",
       "16 <NA>       NA  NA        NA   NA     NA                    NA            \n",
       "17 1995-06-29 28   0         5    0      2                    NA            \n",
       "18 <NA>       NA  NA        NA   NA     NA                    NA            \n",
       "19 <NA>       NA  NA        NA   NA      0                     1            \n",
       "20 <NA>       NA  NA        NA   NA     NA                     1            \n",
       "21 <NA>       NA  NA        NA   NA     NA                    NA            \n",
       "22 <NA>       NA  NA        NA   NA     NA                    NA            \n",
       "23 1989-10-13 34   2         3    1      2                    NA            \n",
       "24 <NA>       NA  NA        NA   NA     NA                    NA            \n",
       "25 <NA>       NA  NA        NA   NA      0                     1            \n",
       "26 <NA>       NA  NA        NA   NA     NA                    NA            \n",
       "27 1998-07-01 25   0         5    0      2                    NA            \n",
       "28 <NA>       NA  NA        NA   NA     NA                    NA            \n",
       "29 <NA>       NA  NA        NA   NA      0                     1            \n",
       "30 <NA>       NA  NA        NA   NA     NA                    NA            \n",
       "31 <NA>       NA  NA        NA   NA     NA                    NA            \n",
       "   ... prior_covid_yesno prior_covid_date test_information_complete\n",
       "1  ... NA                <NA>             NA                       \n",
       "2  ... NA                <NA>             NA                       \n",
       "3  ...  0                <NA>              2                       \n",
       "4  ... NA                <NA>             NA                       \n",
       "5  ... NA                <NA>             NA                       \n",
       "6  ... NA                <NA>             NA                       \n",
       "7  ... NA                <NA>             NA                       \n",
       "8  ...  1                2021-06-06        2                       \n",
       "9  ...  0                <NA>              2                       \n",
       "10 ... NA                <NA>             NA                       \n",
       "11 ... NA                <NA>             NA                       \n",
       "12 ... NA                <NA>             NA                       \n",
       "13 ... NA                <NA>             NA                       \n",
       "14 ...  0                <NA>              2                       \n",
       "15 ... NA                <NA>             NA                       \n",
       "16 ... NA                <NA>             NA                       \n",
       "17 ... NA                <NA>             NA                       \n",
       "18 ... NA                <NA>             NA                       \n",
       "19 ...  1                2021-06-06        2                       \n",
       "20 ...  0                <NA>              2                       \n",
       "21 ... NA                <NA>             NA                       \n",
       "22 ... NA                <NA>             NA                       \n",
       "23 ... NA                <NA>             NA                       \n",
       "24 ... NA                <NA>             NA                       \n",
       "25 ...  0                <NA>              2                       \n",
       "26 ... NA                <NA>             NA                       \n",
       "27 ... NA                <NA>             NA                       \n",
       "28 ... NA                <NA>             NA                       \n",
       "29 ...  0                <NA>              2                       \n",
       "30 ... NA                <NA>             NA                       \n",
       "31 ... NA                <NA>             NA                       \n",
       "   cc_name          cc_date    cc_phone       cc_email            \n",
       "1  NA               <NA>       NA             NA                  \n",
       "2  NA               <NA>       NA             NA                  \n",
       "3  NA               <NA>       NA             NA                  \n",
       "4  Jane Doe         2023-10-09 (999) 999-9999 fake_email@gmail.com\n",
       "5  Johnny Appleseed 2023-10-08 (999) 999-9999 fake_email@gmail.com\n",
       "6  NA               <NA>       NA             NA                  \n",
       "7  NA               <NA>       NA             NA                  \n",
       "8  NA               <NA>       NA             NA                  \n",
       "9  NA               <NA>       NA             NA                  \n",
       "10 Janine Doe       2023-10-10 (999) 999-9999 fake_email@gmail.com\n",
       "11 Johnny Appleseed 2023-10-11 (999) 999-9999 NA                  \n",
       "12 NA               <NA>       NA             NA                  \n",
       "13 NA               <NA>       NA             NA                  \n",
       "14 NA               <NA>       NA             NA                  \n",
       "15 Jane Doe         2023-10-09 (999) 999-9999 fake_email@gmail.com\n",
       "16 Johnny Appleseed 2023-10-08 (999) 999-9999 fake_email@gmail.com\n",
       "17 NA               <NA>       NA             NA                  \n",
       "18 NA               <NA>       NA             NA                  \n",
       "19 NA               <NA>       NA             NA                  \n",
       "20 NA               <NA>       NA             NA                  \n",
       "21 Janine Doe       2023-10-10 (999) 999-9999 fake_email@gmail.com\n",
       "22 Johnny Appleseed 2023-10-11 (999) 999-9999 NA                  \n",
       "23 NA               <NA>       NA             NA                  \n",
       "24 NA               <NA>       NA             NA                  \n",
       "25 NA               <NA>       NA             NA                  \n",
       "26 John Smith       2023-10-08 (999) 999-9999 NA                  \n",
       "27 NA               <NA>       NA             NA                  \n",
       "28 NA               <NA>       NA             NA                  \n",
       "29 NA               <NA>       NA             NA                  \n",
       "30 Janine Doe       2023-10-01 (999) 999-9999 fake_email@gmail.com\n",
       "31 Jamie Smith      2023-09-30 (999) 999-9999 fake_email@gmail.com\n",
       "   close_contacts_complete supervisor_name supervisor_email    \n",
       "1  NA                      NA              NA                  \n",
       "2  NA                      Boss            NA                  \n",
       "3  NA                      NA              NA                  \n",
       "4   2                      NA              NA                  \n",
       "5   2                      NA              NA                  \n",
       "6  NA                      NA              NA                  \n",
       "7  NA                      Boss            fake_email@gmail.com\n",
       "8  NA                      NA              NA                  \n",
       "9  NA                      NA              NA                  \n",
       "10  2                      NA              NA                  \n",
       "11  0                      NA              NA                  \n",
       "12 NA                      NA              NA                  \n",
       "13 NA                      Boss            NA                  \n",
       "14 NA                      NA              NA                  \n",
       "15  2                      NA              NA                  \n",
       "16  2                      NA              NA                  \n",
       "17 NA                      NA              NA                  \n",
       "18 NA                      Boss            fake_email@gmail.com\n",
       "19 NA                      NA              NA                  \n",
       "20 NA                      NA              NA                  \n",
       "21  2                      NA              NA                  \n",
       "22  0                      NA              NA                  \n",
       "23 NA                      NA              NA                  \n",
       "24 NA                      NA              NA                  \n",
       "25 NA                      NA              NA                  \n",
       "26  2                      NA              NA                  \n",
       "27 NA                      NA              NA                  \n",
       "28 NA                      NA              NA                  \n",
       "29 NA                      NA              NA                  \n",
       "30  2                      NA              NA                  \n",
       "31  2                      NA              NA                  \n",
       "   work_inperson_yesno work_date  work_contagious work_contagious_calc\n",
       "1  NA                  <NA>       NA              NA                  \n",
       "2   0                  <NA>        0              NA                  \n",
       "3  NA                  <NA>       NA              NA                  \n",
       "4  NA                  <NA>       NA              NA                  \n",
       "5  NA                  <NA>       NA              NA                  \n",
       "6  NA                  <NA>       NA              NA                  \n",
       "7   1                  2023-10-10  1              NA                  \n",
       "8  NA                  <NA>       NA              NA                  \n",
       "9  NA                  <NA>       NA              NA                  \n",
       "10 NA                  <NA>       NA              NA                  \n",
       "11 NA                  <NA>       NA              NA                  \n",
       "12 NA                  <NA>       NA              NA                  \n",
       "13  0                  <NA>        0              NA                  \n",
       "14 NA                  <NA>       NA              NA                  \n",
       "15 NA                  <NA>       NA              NA                  \n",
       "16 NA                  <NA>       NA              NA                  \n",
       "17 NA                  <NA>       NA              NA                  \n",
       "18  1                  2023-10-10  1              NA                  \n",
       "19 NA                  <NA>       NA              NA                  \n",
       "20 NA                  <NA>       NA              NA                  \n",
       "21 NA                  <NA>       NA              NA                  \n",
       "22 NA                  <NA>       NA              NA                  \n",
       "23 NA                  <NA>       NA              NA                  \n",
       "24  0                  <NA>        0              NA                  \n",
       "25 NA                  <NA>       NA              NA                  \n",
       "26 NA                  <NA>       NA              NA                  \n",
       "27 NA                  <NA>       NA              NA                  \n",
       "28  0                  <NA>        0              NA                  \n",
       "29 NA                  <NA>       NA              NA                  \n",
       "30 NA                  <NA>       NA              NA                  \n",
       "31 NA                  <NA>       NA              NA                  \n",
       "   work_information_complete\n",
       "1  NA                       \n",
       "2   2                       \n",
       "3  NA                       \n",
       "4  NA                       \n",
       "5  NA                       \n",
       "6  NA                       \n",
       "7   2                       \n",
       "8  NA                       \n",
       "9  NA                       \n",
       "10 NA                       \n",
       "11 NA                       \n",
       "12 NA                       \n",
       "13  2                       \n",
       "14 NA                       \n",
       "15 NA                       \n",
       "16 NA                       \n",
       "17 NA                       \n",
       "18  2                       \n",
       "19 NA                       \n",
       "20 NA                       \n",
       "21 NA                       \n",
       "22 NA                       \n",
       "23 NA                       \n",
       "24  0                       \n",
       "25 NA                       \n",
       "26 NA                       \n",
       "27 NA                       \n",
       "28  2                       \n",
       "29 NA                       \n",
       "30 NA                       \n",
       "31 NA                       "
      ]
     },
     "metadata": {},
     "output_type": "display_data"
    }
   ],
   "source": [
    "Data"
   ]
  },
  {
   "cell_type": "code",
   "execution_count": 104,
   "id": "91b924b9-913f-4aca-a610-c878d2b60603",
   "metadata": {
    "tags": []
   },
   "outputs": [
    {
     "data": {
      "text/html": [
       "<table class=\"dataframe\">\n",
       "<caption>A tibble: 5 × 48</caption>\n",
       "<thead>\n",
       "\t<tr><th scope=col>record_id</th><th scope=col>redcap_event_name</th><th scope=col>redcap_repeat_instrument</th><th scope=col>redcap_repeat_instance</th><th scope=col>first_name</th><th scope=col>last_name</th><th scope=col>phone_num</th><th scope=col>zip_code</th><th scope=col>dob</th><th scope=col>age</th><th scope=col>ethnicity</th><th scope=col>race</th><th scope=col>gender</th><th scope=col>demographics_complete</th><th scope=col>symptoms_yesno</th><th scope=col>...</th><th scope=col>prior_covid_yesno</th><th scope=col>prior_covid_date</th><th scope=col>test_information_complete</th><th scope=col>cc_name</th><th scope=col>cc_date</th><th scope=col>cc_phone</th><th scope=col>cc_email</th><th scope=col>close_contacts_complete</th><th scope=col>supervisor_name</th><th scope=col>supervisor_email</th><th scope=col>work_inperson_yesno</th><th scope=col>work_date</th><th scope=col>work_contagious</th><th scope=col>work_contagious_calc</th><th scope=col>work_information_complete</th></tr>\n",
       "\t<tr><th scope=col>&lt;dbl&gt;</th><th scope=col>&lt;chr&gt;</th><th scope=col>&lt;chr&gt;</th><th scope=col>&lt;dbl&gt;</th><th scope=col>&lt;chr&gt;</th><th scope=col>&lt;chr&gt;</th><th scope=col>&lt;chr&gt;</th><th scope=col>&lt;dbl&gt;</th><th scope=col>&lt;date&gt;</th><th scope=col>&lt;dbl&gt;</th><th scope=col>&lt;dbl&gt;</th><th scope=col>&lt;dbl&gt;</th><th scope=col>&lt;dbl&gt;</th><th scope=col>&lt;dbl&gt;</th><th scope=col>&lt;dbl&gt;</th><th scope=col>...</th><th scope=col>&lt;dbl&gt;</th><th scope=col>&lt;date&gt;</th><th scope=col>&lt;dbl&gt;</th><th scope=col>&lt;chr&gt;</th><th scope=col>&lt;date&gt;</th><th scope=col>&lt;chr&gt;</th><th scope=col>&lt;chr&gt;</th><th scope=col>&lt;dbl&gt;</th><th scope=col>&lt;chr&gt;</th><th scope=col>&lt;chr&gt;</th><th scope=col>&lt;dbl&gt;</th><th scope=col>&lt;date&gt;</th><th scope=col>&lt;dbl&gt;</th><th scope=col>&lt;lgl&gt;</th><th scope=col>&lt;dbl&gt;</th></tr>\n",
       "</thead>\n",
       "<tbody>\n",
       "\t<tr><td>1</td><td>personal_info_arm_1</td><td>NA            </td><td>NA</td><td>John</td><td>Doe</td><td>(999) 999-9999</td><td>98105</td><td>2004-12-05</td><td>18</td><td> 1</td><td> 4</td><td> 1</td><td> 2</td><td>NA</td><td>...</td><td>NA</td><td>NA</td><td>NA</td><td>NA              </td><td>NA</td><td>NA            </td><td>NA                  </td><td>NA</td><td>NA  </td><td>NA</td><td>NA</td><td>NA</td><td>NA</td><td>NA</td><td>NA</td></tr>\n",
       "\t<tr><td>1</td><td>notifications_arm_1</td><td>NA            </td><td>NA</td><td>NA  </td><td>NA </td><td>NA            </td><td>   NA</td><td>NA</td><td>NA</td><td>NA</td><td>NA</td><td>NA</td><td>NA</td><td>NA</td><td>...</td><td>NA</td><td>NA</td><td>NA</td><td>NA              </td><td>NA</td><td>NA            </td><td>NA                  </td><td>NA</td><td>Boss</td><td>NA</td><td> 0</td><td>NA</td><td> 0</td><td>NA</td><td> 2</td></tr>\n",
       "\t<tr><td>1</td><td>case_intake_arm_1  </td><td>NA            </td><td> 1</td><td>NA  </td><td>NA </td><td>NA            </td><td>   NA</td><td>NA</td><td>NA</td><td>NA</td><td>NA</td><td>NA</td><td> 0</td><td> 1</td><td>...</td><td> 0</td><td>NA</td><td> 2</td><td>NA              </td><td>NA</td><td>NA            </td><td>NA                  </td><td>NA</td><td>NA  </td><td>NA</td><td>NA</td><td>NA</td><td>NA</td><td>NA</td><td>NA</td></tr>\n",
       "\t<tr><td>1</td><td>notifications_arm_1</td><td>close_contacts</td><td> 1</td><td>NA  </td><td>NA </td><td>NA            </td><td>   NA</td><td>NA</td><td>NA</td><td>NA</td><td>NA</td><td>NA</td><td>NA</td><td>NA</td><td>...</td><td>NA</td><td>NA</td><td>NA</td><td>Jane Doe        </td><td>2023-10-09</td><td>(999) 999-9999</td><td>fake_email@gmail.com</td><td> 2</td><td>NA  </td><td>NA</td><td>NA</td><td>NA</td><td>NA</td><td>NA</td><td>NA</td></tr>\n",
       "\t<tr><td>1</td><td>notifications_arm_1</td><td>close_contacts</td><td> 2</td><td>NA  </td><td>NA </td><td>NA            </td><td>   NA</td><td>NA</td><td>NA</td><td>NA</td><td>NA</td><td>NA</td><td>NA</td><td>NA</td><td>...</td><td>NA</td><td>NA</td><td>NA</td><td>Johnny Appleseed</td><td>2023-10-08</td><td>(999) 999-9999</td><td>fake_email@gmail.com</td><td> 2</td><td>NA  </td><td>NA</td><td>NA</td><td>NA</td><td>NA</td><td>NA</td><td>NA</td></tr>\n",
       "</tbody>\n",
       "</table>\n"
      ],
      "text/latex": [
       "A tibble: 5 × 48\n",
       "\\begin{tabular}{lllllllllllllllllllllllllllllll}\n",
       " record\\_id & redcap\\_event\\_name & redcap\\_repeat\\_instrument & redcap\\_repeat\\_instance & first\\_name & last\\_name & phone\\_num & zip\\_code & dob & age & ethnicity & race & gender & demographics\\_complete & symptoms\\_yesno & ... & prior\\_covid\\_yesno & prior\\_covid\\_date & test\\_information\\_complete & cc\\_name & cc\\_date & cc\\_phone & cc\\_email & close\\_contacts\\_complete & supervisor\\_name & supervisor\\_email & work\\_inperson\\_yesno & work\\_date & work\\_contagious & work\\_contagious\\_calc & work\\_information\\_complete\\\\\n",
       " <dbl> & <chr> & <chr> & <dbl> & <chr> & <chr> & <chr> & <dbl> & <date> & <dbl> & <dbl> & <dbl> & <dbl> & <dbl> & <dbl> & ... & <dbl> & <date> & <dbl> & <chr> & <date> & <chr> & <chr> & <dbl> & <chr> & <chr> & <dbl> & <date> & <dbl> & <lgl> & <dbl>\\\\\n",
       "\\hline\n",
       "\t 1 & personal\\_info\\_arm\\_1 & NA             & NA & John & Doe & (999) 999-9999 & 98105 & 2004-12-05 & 18 &  1 &  4 &  1 &  2 & NA & ... & NA & NA & NA & NA               & NA & NA             & NA                   & NA & NA   & NA & NA & NA & NA & NA & NA\\\\\n",
       "\t 1 & notifications\\_arm\\_1 & NA             & NA & NA   & NA  & NA             &    NA & NA & NA & NA & NA & NA & NA & NA & ... & NA & NA & NA & NA               & NA & NA             & NA                   & NA & Boss & NA &  0 & NA &  0 & NA &  2\\\\\n",
       "\t 1 & case\\_intake\\_arm\\_1   & NA             &  1 & NA   & NA  & NA             &    NA & NA & NA & NA & NA & NA &  0 &  1 & ... &  0 & NA &  2 & NA               & NA & NA             & NA                   & NA & NA   & NA & NA & NA & NA & NA & NA\\\\\n",
       "\t 1 & notifications\\_arm\\_1 & close\\_contacts &  1 & NA   & NA  & NA             &    NA & NA & NA & NA & NA & NA & NA & NA & ... & NA & NA & NA & Jane Doe         & 2023-10-09 & (999) 999-9999 & fake\\_email@gmail.com &  2 & NA   & NA & NA & NA & NA & NA & NA\\\\\n",
       "\t 1 & notifications\\_arm\\_1 & close\\_contacts &  2 & NA   & NA  & NA             &    NA & NA & NA & NA & NA & NA & NA & NA & ... & NA & NA & NA & Johnny Appleseed & 2023-10-08 & (999) 999-9999 & fake\\_email@gmail.com &  2 & NA   & NA & NA & NA & NA & NA & NA\\\\\n",
       "\\end{tabular}\n"
      ],
      "text/markdown": [
       "\n",
       "A tibble: 5 × 48\n",
       "\n",
       "| record_id &lt;dbl&gt; | redcap_event_name &lt;chr&gt; | redcap_repeat_instrument &lt;chr&gt; | redcap_repeat_instance &lt;dbl&gt; | first_name &lt;chr&gt; | last_name &lt;chr&gt; | phone_num &lt;chr&gt; | zip_code &lt;dbl&gt; | dob &lt;date&gt; | age &lt;dbl&gt; | ethnicity &lt;dbl&gt; | race &lt;dbl&gt; | gender &lt;dbl&gt; | demographics_complete &lt;dbl&gt; | symptoms_yesno &lt;dbl&gt; | ... ... | prior_covid_yesno &lt;dbl&gt; | prior_covid_date &lt;date&gt; | test_information_complete &lt;dbl&gt; | cc_name &lt;chr&gt; | cc_date &lt;date&gt; | cc_phone &lt;chr&gt; | cc_email &lt;chr&gt; | close_contacts_complete &lt;dbl&gt; | supervisor_name &lt;chr&gt; | supervisor_email &lt;chr&gt; | work_inperson_yesno &lt;dbl&gt; | work_date &lt;date&gt; | work_contagious &lt;dbl&gt; | work_contagious_calc &lt;lgl&gt; | work_information_complete &lt;dbl&gt; |\n",
       "|---|---|---|---|---|---|---|---|---|---|---|---|---|---|---|---|---|---|---|---|---|---|---|---|---|---|---|---|---|---|---|\n",
       "| 1 | personal_info_arm_1 | NA             | NA | John | Doe | (999) 999-9999 | 98105 | 2004-12-05 | 18 |  1 |  4 |  1 |  2 | NA | ... | NA | NA | NA | NA               | NA | NA             | NA                   | NA | NA   | NA | NA | NA | NA | NA | NA |\n",
       "| 1 | notifications_arm_1 | NA             | NA | NA   | NA  | NA             |    NA | NA | NA | NA | NA | NA | NA | NA | ... | NA | NA | NA | NA               | NA | NA             | NA                   | NA | Boss | NA |  0 | NA |  0 | NA |  2 |\n",
       "| 1 | case_intake_arm_1   | NA             |  1 | NA   | NA  | NA             |    NA | NA | NA | NA | NA | NA |  0 |  1 | ... |  0 | NA |  2 | NA               | NA | NA             | NA                   | NA | NA   | NA | NA | NA | NA | NA | NA |\n",
       "| 1 | notifications_arm_1 | close_contacts |  1 | NA   | NA  | NA             |    NA | NA | NA | NA | NA | NA | NA | NA | ... | NA | NA | NA | Jane Doe         | 2023-10-09 | (999) 999-9999 | fake_email@gmail.com |  2 | NA   | NA | NA | NA | NA | NA | NA |\n",
       "| 1 | notifications_arm_1 | close_contacts |  2 | NA   | NA  | NA             |    NA | NA | NA | NA | NA | NA | NA | NA | ... | NA | NA | NA | Johnny Appleseed | 2023-10-08 | (999) 999-9999 | fake_email@gmail.com |  2 | NA   | NA | NA | NA | NA | NA | NA |\n",
       "\n"
      ],
      "text/plain": [
       "  record_id redcap_event_name   redcap_repeat_instrument redcap_repeat_instance\n",
       "1 1         personal_info_arm_1 NA                       NA                    \n",
       "2 1         notifications_arm_1 NA                       NA                    \n",
       "3 1         case_intake_arm_1   NA                        1                    \n",
       "4 1         notifications_arm_1 close_contacts            1                    \n",
       "5 1         notifications_arm_1 close_contacts            2                    \n",
       "  first_name last_name phone_num      zip_code dob        age ethnicity race\n",
       "1 John       Doe       (999) 999-9999 98105    2004-12-05 18   1         4  \n",
       "2 NA         NA        NA                NA    <NA>       NA  NA        NA  \n",
       "3 NA         NA        NA                NA    <NA>       NA  NA        NA  \n",
       "4 NA         NA        NA                NA    <NA>       NA  NA        NA  \n",
       "5 NA         NA        NA                NA    <NA>       NA  NA        NA  \n",
       "  gender demographics_complete symptoms_yesno ... prior_covid_yesno\n",
       "1  1      2                    NA             ... NA               \n",
       "2 NA     NA                    NA             ... NA               \n",
       "3 NA      0                     1             ...  0               \n",
       "4 NA     NA                    NA             ... NA               \n",
       "5 NA     NA                    NA             ... NA               \n",
       "  prior_covid_date test_information_complete cc_name          cc_date   \n",
       "1 <NA>             NA                        NA               <NA>      \n",
       "2 <NA>             NA                        NA               <NA>      \n",
       "3 <NA>              2                        NA               <NA>      \n",
       "4 <NA>             NA                        Jane Doe         2023-10-09\n",
       "5 <NA>             NA                        Johnny Appleseed 2023-10-08\n",
       "  cc_phone       cc_email             close_contacts_complete supervisor_name\n",
       "1 NA             NA                   NA                      NA             \n",
       "2 NA             NA                   NA                      Boss           \n",
       "3 NA             NA                   NA                      NA             \n",
       "4 (999) 999-9999 fake_email@gmail.com  2                      NA             \n",
       "5 (999) 999-9999 fake_email@gmail.com  2                      NA             \n",
       "  supervisor_email work_inperson_yesno work_date work_contagious\n",
       "1 NA               NA                  <NA>      NA             \n",
       "2 NA                0                  <NA>       0             \n",
       "3 NA               NA                  <NA>      NA             \n",
       "4 NA               NA                  <NA>      NA             \n",
       "5 NA               NA                  <NA>      NA             \n",
       "  work_contagious_calc work_information_complete\n",
       "1 NA                   NA                       \n",
       "2 NA                    2                       \n",
       "3 NA                   NA                       \n",
       "4 NA                   NA                       \n",
       "5 NA                   NA                       "
      ]
     },
     "metadata": {},
     "output_type": "display_data"
    }
   ],
   "source": [
    "Data[1:5,] # index is the row number automatically"
   ]
  },
  {
   "cell_type": "markdown",
   "id": "97a3ac7f-1e16-4827-b39d-fdc23e6d7506",
   "metadata": {
    "tags": []
   },
   "source": [
    "## Filtering Data Using REDCapR Functions"
   ]
  },
  {
   "cell_type": "markdown",
   "id": "32317ee6-4acf-450b-af02-bade7dd59438",
   "metadata": {
    "tags": []
   },
   "source": [
    "### Filtering export by Date Record Was Added or Modified"
   ]
  },
  {
   "cell_type": "code",
   "execution_count": 106,
   "id": "e0b8e014-491b-41d0-9b7a-10af4e77f4f5",
   "metadata": {
    "tags": []
   },
   "outputs": [
    {
     "name": "stderr",
     "output_type": "stream",
     "text": [
      "22 records and 48 columns were read from REDCap in 0.4 seconds.  The http status code was 200.\n",
      "\n"
     ]
    }
   ],
   "source": [
    "data_by_date <- redcap_read_oneshot(\n",
    "    redcap_uri = url, \n",
    "    token = token, \n",
    "    datetime_range_end = as.POSIXct(\"2023/10/21\", \n",
    "                                    format = \"%Y/%m/%d\")\n",
    ")$data"
   ]
  },
  {
   "cell_type": "code",
   "execution_count": 107,
   "id": "5c2c37f3-421b-4366-be36-da19fc9ab4a3",
   "metadata": {
    "tags": []
   },
   "outputs": [
    {
     "name": "stdout",
     "output_type": "stream",
     "text": [
      " [1] 1 1 1 1 1 2 2 2 2 2 2 3 3 3 3 3 4 4 4 4 4 4\n"
     ]
    }
   ],
   "source": [
    "print(data_by_date$record_id)"
   ]
  },
  {
   "cell_type": "markdown",
   "id": "5d9fdc0e-7cdd-476e-a90a-61691040f444",
   "metadata": {},
   "source": [
    "**Notes:**\n",
    "- Only records created or modified before the date specified in datetime_range_end are exported. \n",
    "- Need to specify date format as seen above using [as.POSIXct](https://rdrr.io/r/base/as.POSIXlt.html)\n",
    "- Can view the redcap log to see the dates when records were added and/or updated"
   ]
  },
  {
   "cell_type": "markdown",
   "id": "a2d768c9-3f1f-4551-895e-af583cafdff2",
   "metadata": {
    "tags": []
   },
   "source": [
    "### Filtering export by record_id "
   ]
  },
  {
   "cell_type": "markdown",
   "id": "9b06aabe-c125-4f53-bc00-fd21975fd314",
   "metadata": {},
   "source": [
    "##### ex. Export data for record 1 and 2 only using REDCapR"
   ]
  },
  {
   "cell_type": "code",
   "execution_count": 108,
   "id": "8100dd39-90d5-45ef-ba13-7b5a9d38b3a0",
   "metadata": {
    "tags": []
   },
   "outputs": [
    {
     "name": "stderr",
     "output_type": "stream",
     "text": [
      "11 records and 48 columns were read from REDCap in 0.3 seconds.  The http status code was 200.\n",
      "\n"
     ]
    },
    {
     "data": {
      "text/html": [
       "<table class=\"dataframe\">\n",
       "<caption>A tibble: 6 × 48</caption>\n",
       "<thead>\n",
       "\t<tr><th scope=col>record_id</th><th scope=col>redcap_event_name</th><th scope=col>redcap_repeat_instrument</th><th scope=col>redcap_repeat_instance</th><th scope=col>first_name</th><th scope=col>last_name</th><th scope=col>phone_num</th><th scope=col>zip_code</th><th scope=col>dob</th><th scope=col>age</th><th scope=col>ethnicity</th><th scope=col>race</th><th scope=col>gender</th><th scope=col>demographics_complete</th><th scope=col>symptoms_yesno</th><th scope=col>...</th><th scope=col>prior_covid_yesno</th><th scope=col>prior_covid_date</th><th scope=col>test_information_complete</th><th scope=col>cc_name</th><th scope=col>cc_date</th><th scope=col>cc_phone</th><th scope=col>cc_email</th><th scope=col>close_contacts_complete</th><th scope=col>supervisor_name</th><th scope=col>supervisor_email</th><th scope=col>work_inperson_yesno</th><th scope=col>work_date</th><th scope=col>work_contagious</th><th scope=col>work_contagious_calc</th><th scope=col>work_information_complete</th></tr>\n",
       "\t<tr><th scope=col>&lt;dbl&gt;</th><th scope=col>&lt;chr&gt;</th><th scope=col>&lt;chr&gt;</th><th scope=col>&lt;dbl&gt;</th><th scope=col>&lt;chr&gt;</th><th scope=col>&lt;chr&gt;</th><th scope=col>&lt;chr&gt;</th><th scope=col>&lt;dbl&gt;</th><th scope=col>&lt;date&gt;</th><th scope=col>&lt;dbl&gt;</th><th scope=col>&lt;dbl&gt;</th><th scope=col>&lt;dbl&gt;</th><th scope=col>&lt;dbl&gt;</th><th scope=col>&lt;dbl&gt;</th><th scope=col>&lt;dbl&gt;</th><th scope=col>...</th><th scope=col>&lt;dbl&gt;</th><th scope=col>&lt;date&gt;</th><th scope=col>&lt;dbl&gt;</th><th scope=col>&lt;chr&gt;</th><th scope=col>&lt;date&gt;</th><th scope=col>&lt;chr&gt;</th><th scope=col>&lt;chr&gt;</th><th scope=col>&lt;dbl&gt;</th><th scope=col>&lt;chr&gt;</th><th scope=col>&lt;chr&gt;</th><th scope=col>&lt;dbl&gt;</th><th scope=col>&lt;date&gt;</th><th scope=col>&lt;dbl&gt;</th><th scope=col>&lt;lgl&gt;</th><th scope=col>&lt;dbl&gt;</th></tr>\n",
       "</thead>\n",
       "<tbody>\n",
       "\t<tr><td>1</td><td>personal_info_arm_1</td><td>NA            </td><td>NA</td><td>John</td><td>Doe</td><td>(999) 999-9999</td><td>98105</td><td>2004-12-05</td><td>18</td><td> 1</td><td> 4</td><td> 1</td><td> 2</td><td>NA</td><td>...</td><td>NA</td><td>NA</td><td>NA</td><td>NA              </td><td>NA</td><td>NA            </td><td>NA                  </td><td>NA</td><td>NA  </td><td>NA</td><td>NA</td><td>NA</td><td>NA</td><td>NA</td><td>NA</td></tr>\n",
       "\t<tr><td>1</td><td>notifications_arm_1</td><td>NA            </td><td>NA</td><td>NA  </td><td>NA </td><td>NA            </td><td>   NA</td><td>NA</td><td>NA</td><td>NA</td><td>NA</td><td>NA</td><td>NA</td><td>NA</td><td>...</td><td>NA</td><td>NA</td><td>NA</td><td>NA              </td><td>NA</td><td>NA            </td><td>NA                  </td><td>NA</td><td>Boss</td><td>NA</td><td> 0</td><td>NA</td><td> 0</td><td>NA</td><td> 2</td></tr>\n",
       "\t<tr><td>1</td><td>case_intake_arm_1  </td><td>NA            </td><td> 1</td><td>NA  </td><td>NA </td><td>NA            </td><td>   NA</td><td>NA</td><td>NA</td><td>NA</td><td>NA</td><td>NA</td><td> 0</td><td> 1</td><td>...</td><td> 0</td><td>NA</td><td> 2</td><td>NA              </td><td>NA</td><td>NA            </td><td>NA                  </td><td>NA</td><td>NA  </td><td>NA</td><td>NA</td><td>NA</td><td>NA</td><td>NA</td><td>NA</td></tr>\n",
       "\t<tr><td>1</td><td>notifications_arm_1</td><td>close_contacts</td><td> 1</td><td>NA  </td><td>NA </td><td>NA            </td><td>   NA</td><td>NA</td><td>NA</td><td>NA</td><td>NA</td><td>NA</td><td>NA</td><td>NA</td><td>...</td><td>NA</td><td>NA</td><td>NA</td><td>Jane Doe        </td><td>2023-10-09</td><td>(999) 999-9999</td><td>fake_email@gmail.com</td><td> 2</td><td>NA  </td><td>NA</td><td>NA</td><td>NA</td><td>NA</td><td>NA</td><td>NA</td></tr>\n",
       "\t<tr><td>1</td><td>notifications_arm_1</td><td>close_contacts</td><td> 2</td><td>NA  </td><td>NA </td><td>NA            </td><td>   NA</td><td>NA</td><td>NA</td><td>NA</td><td>NA</td><td>NA</td><td>NA</td><td>NA</td><td>...</td><td>NA</td><td>NA</td><td>NA</td><td>Johnny Appleseed</td><td>2023-10-08</td><td>(999) 999-9999</td><td>fake_email@gmail.com</td><td> 2</td><td>NA  </td><td>NA</td><td>NA</td><td>NA</td><td>NA</td><td>NA</td><td>NA</td></tr>\n",
       "\t<tr><td>2</td><td>personal_info_arm_1</td><td>NA            </td><td>NA</td><td>Jane</td><td>Doe</td><td>(999) 999-9999</td><td>98105</td><td>1995-06-29</td><td>28</td><td> 0</td><td> 5</td><td> 0</td><td> 2</td><td>NA</td><td>...</td><td>NA</td><td>NA</td><td>NA</td><td>NA              </td><td>NA</td><td>NA            </td><td>NA                  </td><td>NA</td><td>NA  </td><td>NA</td><td>NA</td><td>NA</td><td>NA</td><td>NA</td><td>NA</td></tr>\n",
       "</tbody>\n",
       "</table>\n"
      ],
      "text/latex": [
       "A tibble: 6 × 48\n",
       "\\begin{tabular}{lllllllllllllllllllllllllllllll}\n",
       " record\\_id & redcap\\_event\\_name & redcap\\_repeat\\_instrument & redcap\\_repeat\\_instance & first\\_name & last\\_name & phone\\_num & zip\\_code & dob & age & ethnicity & race & gender & demographics\\_complete & symptoms\\_yesno & ... & prior\\_covid\\_yesno & prior\\_covid\\_date & test\\_information\\_complete & cc\\_name & cc\\_date & cc\\_phone & cc\\_email & close\\_contacts\\_complete & supervisor\\_name & supervisor\\_email & work\\_inperson\\_yesno & work\\_date & work\\_contagious & work\\_contagious\\_calc & work\\_information\\_complete\\\\\n",
       " <dbl> & <chr> & <chr> & <dbl> & <chr> & <chr> & <chr> & <dbl> & <date> & <dbl> & <dbl> & <dbl> & <dbl> & <dbl> & <dbl> & ... & <dbl> & <date> & <dbl> & <chr> & <date> & <chr> & <chr> & <dbl> & <chr> & <chr> & <dbl> & <date> & <dbl> & <lgl> & <dbl>\\\\\n",
       "\\hline\n",
       "\t 1 & personal\\_info\\_arm\\_1 & NA             & NA & John & Doe & (999) 999-9999 & 98105 & 2004-12-05 & 18 &  1 &  4 &  1 &  2 & NA & ... & NA & NA & NA & NA               & NA & NA             & NA                   & NA & NA   & NA & NA & NA & NA & NA & NA\\\\\n",
       "\t 1 & notifications\\_arm\\_1 & NA             & NA & NA   & NA  & NA             &    NA & NA & NA & NA & NA & NA & NA & NA & ... & NA & NA & NA & NA               & NA & NA             & NA                   & NA & Boss & NA &  0 & NA &  0 & NA &  2\\\\\n",
       "\t 1 & case\\_intake\\_arm\\_1   & NA             &  1 & NA   & NA  & NA             &    NA & NA & NA & NA & NA & NA &  0 &  1 & ... &  0 & NA &  2 & NA               & NA & NA             & NA                   & NA & NA   & NA & NA & NA & NA & NA & NA\\\\\n",
       "\t 1 & notifications\\_arm\\_1 & close\\_contacts &  1 & NA   & NA  & NA             &    NA & NA & NA & NA & NA & NA & NA & NA & ... & NA & NA & NA & Jane Doe         & 2023-10-09 & (999) 999-9999 & fake\\_email@gmail.com &  2 & NA   & NA & NA & NA & NA & NA & NA\\\\\n",
       "\t 1 & notifications\\_arm\\_1 & close\\_contacts &  2 & NA   & NA  & NA             &    NA & NA & NA & NA & NA & NA & NA & NA & ... & NA & NA & NA & Johnny Appleseed & 2023-10-08 & (999) 999-9999 & fake\\_email@gmail.com &  2 & NA   & NA & NA & NA & NA & NA & NA\\\\\n",
       "\t 2 & personal\\_info\\_arm\\_1 & NA             & NA & Jane & Doe & (999) 999-9999 & 98105 & 1995-06-29 & 28 &  0 &  5 &  0 &  2 & NA & ... & NA & NA & NA & NA               & NA & NA             & NA                   & NA & NA   & NA & NA & NA & NA & NA & NA\\\\\n",
       "\\end{tabular}\n"
      ],
      "text/markdown": [
       "\n",
       "A tibble: 6 × 48\n",
       "\n",
       "| record_id &lt;dbl&gt; | redcap_event_name &lt;chr&gt; | redcap_repeat_instrument &lt;chr&gt; | redcap_repeat_instance &lt;dbl&gt; | first_name &lt;chr&gt; | last_name &lt;chr&gt; | phone_num &lt;chr&gt; | zip_code &lt;dbl&gt; | dob &lt;date&gt; | age &lt;dbl&gt; | ethnicity &lt;dbl&gt; | race &lt;dbl&gt; | gender &lt;dbl&gt; | demographics_complete &lt;dbl&gt; | symptoms_yesno &lt;dbl&gt; | ... ... | prior_covid_yesno &lt;dbl&gt; | prior_covid_date &lt;date&gt; | test_information_complete &lt;dbl&gt; | cc_name &lt;chr&gt; | cc_date &lt;date&gt; | cc_phone &lt;chr&gt; | cc_email &lt;chr&gt; | close_contacts_complete &lt;dbl&gt; | supervisor_name &lt;chr&gt; | supervisor_email &lt;chr&gt; | work_inperson_yesno &lt;dbl&gt; | work_date &lt;date&gt; | work_contagious &lt;dbl&gt; | work_contagious_calc &lt;lgl&gt; | work_information_complete &lt;dbl&gt; |\n",
       "|---|---|---|---|---|---|---|---|---|---|---|---|---|---|---|---|---|---|---|---|---|---|---|---|---|---|---|---|---|---|---|\n",
       "| 1 | personal_info_arm_1 | NA             | NA | John | Doe | (999) 999-9999 | 98105 | 2004-12-05 | 18 |  1 |  4 |  1 |  2 | NA | ... | NA | NA | NA | NA               | NA | NA             | NA                   | NA | NA   | NA | NA | NA | NA | NA | NA |\n",
       "| 1 | notifications_arm_1 | NA             | NA | NA   | NA  | NA             |    NA | NA | NA | NA | NA | NA | NA | NA | ... | NA | NA | NA | NA               | NA | NA             | NA                   | NA | Boss | NA |  0 | NA |  0 | NA |  2 |\n",
       "| 1 | case_intake_arm_1   | NA             |  1 | NA   | NA  | NA             |    NA | NA | NA | NA | NA | NA |  0 |  1 | ... |  0 | NA |  2 | NA               | NA | NA             | NA                   | NA | NA   | NA | NA | NA | NA | NA | NA |\n",
       "| 1 | notifications_arm_1 | close_contacts |  1 | NA   | NA  | NA             |    NA | NA | NA | NA | NA | NA | NA | NA | ... | NA | NA | NA | Jane Doe         | 2023-10-09 | (999) 999-9999 | fake_email@gmail.com |  2 | NA   | NA | NA | NA | NA | NA | NA |\n",
       "| 1 | notifications_arm_1 | close_contacts |  2 | NA   | NA  | NA             |    NA | NA | NA | NA | NA | NA | NA | NA | ... | NA | NA | NA | Johnny Appleseed | 2023-10-08 | (999) 999-9999 | fake_email@gmail.com |  2 | NA   | NA | NA | NA | NA | NA | NA |\n",
       "| 2 | personal_info_arm_1 | NA             | NA | Jane | Doe | (999) 999-9999 | 98105 | 1995-06-29 | 28 |  0 |  5 |  0 |  2 | NA | ... | NA | NA | NA | NA               | NA | NA             | NA                   | NA | NA   | NA | NA | NA | NA | NA | NA |\n",
       "\n"
      ],
      "text/plain": [
       "  record_id redcap_event_name   redcap_repeat_instrument redcap_repeat_instance\n",
       "1 1         personal_info_arm_1 NA                       NA                    \n",
       "2 1         notifications_arm_1 NA                       NA                    \n",
       "3 1         case_intake_arm_1   NA                        1                    \n",
       "4 1         notifications_arm_1 close_contacts            1                    \n",
       "5 1         notifications_arm_1 close_contacts            2                    \n",
       "6 2         personal_info_arm_1 NA                       NA                    \n",
       "  first_name last_name phone_num      zip_code dob        age ethnicity race\n",
       "1 John       Doe       (999) 999-9999 98105    2004-12-05 18   1         4  \n",
       "2 NA         NA        NA                NA    <NA>       NA  NA        NA  \n",
       "3 NA         NA        NA                NA    <NA>       NA  NA        NA  \n",
       "4 NA         NA        NA                NA    <NA>       NA  NA        NA  \n",
       "5 NA         NA        NA                NA    <NA>       NA  NA        NA  \n",
       "6 Jane       Doe       (999) 999-9999 98105    1995-06-29 28   0         5  \n",
       "  gender demographics_complete symptoms_yesno ... prior_covid_yesno\n",
       "1  1      2                    NA             ... NA               \n",
       "2 NA     NA                    NA             ... NA               \n",
       "3 NA      0                     1             ...  0               \n",
       "4 NA     NA                    NA             ... NA               \n",
       "5 NA     NA                    NA             ... NA               \n",
       "6  0      2                    NA             ... NA               \n",
       "  prior_covid_date test_information_complete cc_name          cc_date   \n",
       "1 <NA>             NA                        NA               <NA>      \n",
       "2 <NA>             NA                        NA               <NA>      \n",
       "3 <NA>              2                        NA               <NA>      \n",
       "4 <NA>             NA                        Jane Doe         2023-10-09\n",
       "5 <NA>             NA                        Johnny Appleseed 2023-10-08\n",
       "6 <NA>             NA                        NA               <NA>      \n",
       "  cc_phone       cc_email             close_contacts_complete supervisor_name\n",
       "1 NA             NA                   NA                      NA             \n",
       "2 NA             NA                   NA                      Boss           \n",
       "3 NA             NA                   NA                      NA             \n",
       "4 (999) 999-9999 fake_email@gmail.com  2                      NA             \n",
       "5 (999) 999-9999 fake_email@gmail.com  2                      NA             \n",
       "6 NA             NA                   NA                      NA             \n",
       "  supervisor_email work_inperson_yesno work_date work_contagious\n",
       "1 NA               NA                  <NA>      NA             \n",
       "2 NA                0                  <NA>       0             \n",
       "3 NA               NA                  <NA>      NA             \n",
       "4 NA               NA                  <NA>      NA             \n",
       "5 NA               NA                  <NA>      NA             \n",
       "6 NA               NA                  <NA>      NA             \n",
       "  work_contagious_calc work_information_complete\n",
       "1 NA                   NA                       \n",
       "2 NA                    2                       \n",
       "3 NA                   NA                       \n",
       "4 NA                   NA                       \n",
       "5 NA                   NA                       \n",
       "6 NA                   NA                       "
      ]
     },
     "metadata": {},
     "output_type": "display_data"
    }
   ],
   "source": [
    "record_subset_v1 <- redcap_read_oneshot(\n",
    "    records = c(1,2), \n",
    "    redcap_uri = url, \n",
    "    token = token\n",
    ")$data\n",
    "head(record_subset_v1)"
   ]
  },
  {
   "cell_type": "markdown",
   "id": "2587a6c1-33f9-44f5-ac6a-b050b59fa5ca",
   "metadata": {},
   "source": [
    "### Filtering export by a specific field's value"
   ]
  },
  {
   "cell_type": "markdown",
   "id": "9ce92824-7db6-4124-be10-01aa0b943c69",
   "metadata": {},
   "source": [
    "##### ex. Filter by Gender "
   ]
  },
  {
   "cell_type": "code",
   "execution_count": 109,
   "id": "a917d442-c7ff-4b78-b931-ef553903ae5e",
   "metadata": {
    "tags": []
   },
   "outputs": [
    {
     "name": "stderr",
     "output_type": "stream",
     "text": [
      "3 records and 48 columns were read from REDCap in 0.3 seconds.  The http status code was 200.\n",
      "\n"
     ]
    }
   ],
   "source": [
    "data_by_gender <- redcap_read_oneshot(\n",
    "    redcap_uri = url, \n",
    "    token = token,\n",
    "    filter_logic = \"[gender] = '0'\" \n",
    ")$data"
   ]
  },
  {
   "cell_type": "markdown",
   "id": "feee9e9d-15ab-4cc9-8162-81a963b58c37",
   "metadata": {},
   "source": [
    "**Note:** When filtering on REDCap multiple choice variables, yes/no variables, and checkboxes, you must put quotes around the coded value when using the `filter_logic` argument, otherwise REDCap will not perform the filtering correctly."
   ]
  },
  {
   "cell_type": "code",
   "execution_count": 110,
   "id": "2a77a2ed-54b0-4894-ac6b-29b631aa9b62",
   "metadata": {
    "tags": []
   },
   "outputs": [
    {
     "data": {
      "text/html": [
       "<table class=\"dataframe\">\n",
       "<caption>A tibble: 3 × 48</caption>\n",
       "<thead>\n",
       "\t<tr><th scope=col>record_id</th><th scope=col>redcap_event_name</th><th scope=col>redcap_repeat_instrument</th><th scope=col>redcap_repeat_instance</th><th scope=col>first_name</th><th scope=col>last_name</th><th scope=col>phone_num</th><th scope=col>zip_code</th><th scope=col>dob</th><th scope=col>age</th><th scope=col>ethnicity</th><th scope=col>race</th><th scope=col>gender</th><th scope=col>demographics_complete</th><th scope=col>symptoms_yesno</th><th scope=col>...</th><th scope=col>prior_covid_yesno</th><th scope=col>prior_covid_date</th><th scope=col>test_information_complete</th><th scope=col>cc_name</th><th scope=col>cc_date</th><th scope=col>cc_phone</th><th scope=col>cc_email</th><th scope=col>close_contacts_complete</th><th scope=col>supervisor_name</th><th scope=col>supervisor_email</th><th scope=col>work_inperson_yesno</th><th scope=col>work_date</th><th scope=col>work_contagious</th><th scope=col>work_contagious_calc</th><th scope=col>work_information_complete</th></tr>\n",
       "\t<tr><th scope=col>&lt;dbl&gt;</th><th scope=col>&lt;chr&gt;</th><th scope=col>&lt;lgl&gt;</th><th scope=col>&lt;lgl&gt;</th><th scope=col>&lt;chr&gt;</th><th scope=col>&lt;chr&gt;</th><th scope=col>&lt;chr&gt;</th><th scope=col>&lt;dbl&gt;</th><th scope=col>&lt;date&gt;</th><th scope=col>&lt;dbl&gt;</th><th scope=col>&lt;dbl&gt;</th><th scope=col>&lt;dbl&gt;</th><th scope=col>&lt;dbl&gt;</th><th scope=col>&lt;dbl&gt;</th><th scope=col>&lt;lgl&gt;</th><th scope=col>...</th><th scope=col>&lt;lgl&gt;</th><th scope=col>&lt;lgl&gt;</th><th scope=col>&lt;lgl&gt;</th><th scope=col>&lt;lgl&gt;</th><th scope=col>&lt;lgl&gt;</th><th scope=col>&lt;lgl&gt;</th><th scope=col>&lt;lgl&gt;</th><th scope=col>&lt;lgl&gt;</th><th scope=col>&lt;lgl&gt;</th><th scope=col>&lt;lgl&gt;</th><th scope=col>&lt;lgl&gt;</th><th scope=col>&lt;lgl&gt;</th><th scope=col>&lt;lgl&gt;</th><th scope=col>&lt;lgl&gt;</th><th scope=col>&lt;lgl&gt;</th></tr>\n",
       "</thead>\n",
       "<tbody>\n",
       "\t<tr><td>2</td><td>personal_info_arm_1</td><td>NA</td><td>NA</td><td>Jane  </td><td>Doe      </td><td>(999) 999-9999</td><td>98105</td><td>1995-06-29</td><td>28</td><td>0</td><td>5</td><td>0</td><td>2</td><td>NA</td><td>...</td><td>NA</td><td>NA</td><td>NA</td><td>NA</td><td>NA</td><td>NA</td><td>NA</td><td>NA</td><td>NA</td><td>NA</td><td>NA</td><td>NA</td><td>NA</td><td>NA</td><td>NA</td></tr>\n",
       "\t<tr><td>4</td><td>personal_info_arm_1</td><td>NA</td><td>NA</td><td>Jane  </td><td>Doe      </td><td>(999) 999-9999</td><td>98105</td><td>1995-06-29</td><td>28</td><td>0</td><td>5</td><td>0</td><td>2</td><td>NA</td><td>...</td><td>NA</td><td>NA</td><td>NA</td><td>NA</td><td>NA</td><td>NA</td><td>NA</td><td>NA</td><td>NA</td><td>NA</td><td>NA</td><td>NA</td><td>NA</td><td>NA</td><td>NA</td></tr>\n",
       "\t<tr><td>6</td><td>personal_info_arm_1</td><td>NA</td><td>NA</td><td>Janine</td><td>Appleseed</td><td>(999) 999-9999</td><td>98107</td><td>1998-07-01</td><td>25</td><td>0</td><td>5</td><td>0</td><td>2</td><td>NA</td><td>...</td><td>NA</td><td>NA</td><td>NA</td><td>NA</td><td>NA</td><td>NA</td><td>NA</td><td>NA</td><td>NA</td><td>NA</td><td>NA</td><td>NA</td><td>NA</td><td>NA</td><td>NA</td></tr>\n",
       "</tbody>\n",
       "</table>\n"
      ],
      "text/latex": [
       "A tibble: 3 × 48\n",
       "\\begin{tabular}{lllllllllllllllllllllllllllllll}\n",
       " record\\_id & redcap\\_event\\_name & redcap\\_repeat\\_instrument & redcap\\_repeat\\_instance & first\\_name & last\\_name & phone\\_num & zip\\_code & dob & age & ethnicity & race & gender & demographics\\_complete & symptoms\\_yesno & ... & prior\\_covid\\_yesno & prior\\_covid\\_date & test\\_information\\_complete & cc\\_name & cc\\_date & cc\\_phone & cc\\_email & close\\_contacts\\_complete & supervisor\\_name & supervisor\\_email & work\\_inperson\\_yesno & work\\_date & work\\_contagious & work\\_contagious\\_calc & work\\_information\\_complete\\\\\n",
       " <dbl> & <chr> & <lgl> & <lgl> & <chr> & <chr> & <chr> & <dbl> & <date> & <dbl> & <dbl> & <dbl> & <dbl> & <dbl> & <lgl> & ... & <lgl> & <lgl> & <lgl> & <lgl> & <lgl> & <lgl> & <lgl> & <lgl> & <lgl> & <lgl> & <lgl> & <lgl> & <lgl> & <lgl> & <lgl>\\\\\n",
       "\\hline\n",
       "\t 2 & personal\\_info\\_arm\\_1 & NA & NA & Jane   & Doe       & (999) 999-9999 & 98105 & 1995-06-29 & 28 & 0 & 5 & 0 & 2 & NA & ... & NA & NA & NA & NA & NA & NA & NA & NA & NA & NA & NA & NA & NA & NA & NA\\\\\n",
       "\t 4 & personal\\_info\\_arm\\_1 & NA & NA & Jane   & Doe       & (999) 999-9999 & 98105 & 1995-06-29 & 28 & 0 & 5 & 0 & 2 & NA & ... & NA & NA & NA & NA & NA & NA & NA & NA & NA & NA & NA & NA & NA & NA & NA\\\\\n",
       "\t 6 & personal\\_info\\_arm\\_1 & NA & NA & Janine & Appleseed & (999) 999-9999 & 98107 & 1998-07-01 & 25 & 0 & 5 & 0 & 2 & NA & ... & NA & NA & NA & NA & NA & NA & NA & NA & NA & NA & NA & NA & NA & NA & NA\\\\\n",
       "\\end{tabular}\n"
      ],
      "text/markdown": [
       "\n",
       "A tibble: 3 × 48\n",
       "\n",
       "| record_id &lt;dbl&gt; | redcap_event_name &lt;chr&gt; | redcap_repeat_instrument &lt;lgl&gt; | redcap_repeat_instance &lt;lgl&gt; | first_name &lt;chr&gt; | last_name &lt;chr&gt; | phone_num &lt;chr&gt; | zip_code &lt;dbl&gt; | dob &lt;date&gt; | age &lt;dbl&gt; | ethnicity &lt;dbl&gt; | race &lt;dbl&gt; | gender &lt;dbl&gt; | demographics_complete &lt;dbl&gt; | symptoms_yesno &lt;lgl&gt; | ... ... | prior_covid_yesno &lt;lgl&gt; | prior_covid_date &lt;lgl&gt; | test_information_complete &lt;lgl&gt; | cc_name &lt;lgl&gt; | cc_date &lt;lgl&gt; | cc_phone &lt;lgl&gt; | cc_email &lt;lgl&gt; | close_contacts_complete &lt;lgl&gt; | supervisor_name &lt;lgl&gt; | supervisor_email &lt;lgl&gt; | work_inperson_yesno &lt;lgl&gt; | work_date &lt;lgl&gt; | work_contagious &lt;lgl&gt; | work_contagious_calc &lt;lgl&gt; | work_information_complete &lt;lgl&gt; |\n",
       "|---|---|---|---|---|---|---|---|---|---|---|---|---|---|---|---|---|---|---|---|---|---|---|---|---|---|---|---|---|---|---|\n",
       "| 2 | personal_info_arm_1 | NA | NA | Jane   | Doe       | (999) 999-9999 | 98105 | 1995-06-29 | 28 | 0 | 5 | 0 | 2 | NA | ... | NA | NA | NA | NA | NA | NA | NA | NA | NA | NA | NA | NA | NA | NA | NA |\n",
       "| 4 | personal_info_arm_1 | NA | NA | Jane   | Doe       | (999) 999-9999 | 98105 | 1995-06-29 | 28 | 0 | 5 | 0 | 2 | NA | ... | NA | NA | NA | NA | NA | NA | NA | NA | NA | NA | NA | NA | NA | NA | NA |\n",
       "| 6 | personal_info_arm_1 | NA | NA | Janine | Appleseed | (999) 999-9999 | 98107 | 1998-07-01 | 25 | 0 | 5 | 0 | 2 | NA | ... | NA | NA | NA | NA | NA | NA | NA | NA | NA | NA | NA | NA | NA | NA | NA |\n",
       "\n"
      ],
      "text/plain": [
       "  record_id redcap_event_name   redcap_repeat_instrument redcap_repeat_instance\n",
       "1 2         personal_info_arm_1 NA                       NA                    \n",
       "2 4         personal_info_arm_1 NA                       NA                    \n",
       "3 6         personal_info_arm_1 NA                       NA                    \n",
       "  first_name last_name phone_num      zip_code dob        age ethnicity race\n",
       "1 Jane       Doe       (999) 999-9999 98105    1995-06-29 28  0         5   \n",
       "2 Jane       Doe       (999) 999-9999 98105    1995-06-29 28  0         5   \n",
       "3 Janine     Appleseed (999) 999-9999 98107    1998-07-01 25  0         5   \n",
       "  gender demographics_complete symptoms_yesno ... prior_covid_yesno\n",
       "1 0      2                     NA             ... NA               \n",
       "2 0      2                     NA             ... NA               \n",
       "3 0      2                     NA             ... NA               \n",
       "  prior_covid_date test_information_complete cc_name cc_date cc_phone cc_email\n",
       "1 NA               NA                        NA      NA      NA       NA      \n",
       "2 NA               NA                        NA      NA      NA       NA      \n",
       "3 NA               NA                        NA      NA      NA       NA      \n",
       "  close_contacts_complete supervisor_name supervisor_email work_inperson_yesno\n",
       "1 NA                      NA              NA               NA                 \n",
       "2 NA                      NA              NA               NA                 \n",
       "3 NA                      NA              NA               NA                 \n",
       "  work_date work_contagious work_contagious_calc work_information_complete\n",
       "1 NA        NA              NA                   NA                       \n",
       "2 NA        NA              NA                   NA                       \n",
       "3 NA        NA              NA                   NA                       "
      ]
     },
     "metadata": {},
     "output_type": "display_data"
    }
   ],
   "source": [
    "head(data_by_gender)"
   ]
  },
  {
   "cell_type": "code",
   "execution_count": 111,
   "id": "d85b7ae4-a609-41cc-aa95-e47916f5850c",
   "metadata": {
    "tags": []
   },
   "outputs": [
    {
     "name": "stdout",
     "output_type": "stream",
     "text": [
      "[1] 0 0 0\n"
     ]
    }
   ],
   "source": [
    "print(data_by_gender$gender)"
   ]
  },
  {
   "cell_type": "code",
   "execution_count": 112,
   "id": "fa42a20b-6f71-4c57-944f-0147afa796de",
   "metadata": {
    "tags": []
   },
   "outputs": [
    {
     "name": "stdout",
     "output_type": "stream",
     "text": [
      "[1] 2 4 6\n"
     ]
    }
   ],
   "source": [
    "print(data_by_gender$record_id)"
   ]
  },
  {
   "cell_type": "markdown",
   "id": "588a808b-d03f-433e-8199-5173e14fa07e",
   "metadata": {},
   "source": [
    "##### ex. Filter by Age "
   ]
  },
  {
   "cell_type": "code",
   "execution_count": 113,
   "id": "e832aaba-84d1-4702-9a70-852355e86f16",
   "metadata": {
    "tags": []
   },
   "outputs": [
    {
     "name": "stderr",
     "output_type": "stream",
     "text": [
      "4 records and 48 columns were read from REDCap in 0.4 seconds.  The http status code was 200.\n",
      "\n"
     ]
    }
   ],
   "source": [
    "data_age_filtered <- redcap_read_oneshot(\n",
    "    redcap_uri = url, \n",
    "    token = token, \n",
    "    filter_logic = \"[age] > 20 \" \n",
    ")$data"
   ]
  },
  {
   "cell_type": "markdown",
   "id": "d597d964-d794-4a80-bc4e-6b0a6a5a6d62",
   "metadata": {},
   "source": [
    "**Note:** Because age is a numeric field in REDCap, it does not need quotes around the number 20 in this example."
   ]
  },
  {
   "cell_type": "code",
   "execution_count": 365,
   "id": "2d905a75-5710-49b3-81a6-3e681cc0962e",
   "metadata": {
    "tags": []
   },
   "outputs": [
    {
     "data": {
      "text/html": [
       "<style>\n",
       ".list-inline {list-style: none; margin:0; padding: 0}\n",
       ".list-inline>li {display: inline-block}\n",
       ".list-inline>li:not(:last-child)::after {content: \"\\00b7\"; padding: 0 .5ex}\n",
       "</style>\n",
       "<ol class=list-inline><li>28</li><li>34</li><li>25</li></ol>\n"
      ],
      "text/latex": [
       "\\begin{enumerate*}\n",
       "\\item 28\n",
       "\\item 34\n",
       "\\item 25\n",
       "\\end{enumerate*}\n"
      ],
      "text/markdown": [
       "1. 28\n",
       "2. 34\n",
       "3. 25\n",
       "\n",
       "\n"
      ],
      "text/plain": [
       "[1] 28 34 25"
      ]
     },
     "metadata": {},
     "output_type": "display_data"
    }
   ],
   "source": [
    "data_age_filtered$age"
   ]
  },
  {
   "cell_type": "markdown",
   "id": "c379b795-d7e5-48cf-862a-68da605f54c2",
   "metadata": {
    "tags": []
   },
   "source": [
    "### Export only specific fields"
   ]
  },
  {
   "cell_type": "markdown",
   "id": "7e1ace5f-6440-4d4c-9f0c-2cab0098d1ff",
   "metadata": {
    "tags": []
   },
   "source": [
    "##### ex. Export name fields"
   ]
  },
  {
   "cell_type": "code",
   "execution_count": 118,
   "id": "2f8ed09d-f181-4b63-83f1-85615554577a",
   "metadata": {
    "tags": []
   },
   "outputs": [
    {
     "name": "stderr",
     "output_type": "stream",
     "text": [
      "20 records and 6 columns were read from REDCap in 0.5 seconds.  The http status code was 200.\n",
      "\n"
     ]
    },
    {
     "data": {
      "text/html": [
       "<table class=\"dataframe\">\n",
       "<caption>A tibble: 6 × 6</caption>\n",
       "<thead>\n",
       "\t<tr><th scope=col>record_id</th><th scope=col>redcap_event_name</th><th scope=col>redcap_repeat_instrument</th><th scope=col>redcap_repeat_instance</th><th scope=col>first_name</th><th scope=col>last_name</th></tr>\n",
       "\t<tr><th scope=col>&lt;dbl&gt;</th><th scope=col>&lt;chr&gt;</th><th scope=col>&lt;lgl&gt;</th><th scope=col>&lt;dbl&gt;</th><th scope=col>&lt;chr&gt;</th><th scope=col>&lt;chr&gt;</th></tr>\n",
       "</thead>\n",
       "<tbody>\n",
       "\t<tr><td>1</td><td>personal_info_arm_1</td><td>NA</td><td>NA</td><td>John</td><td>Doe</td></tr>\n",
       "\t<tr><td>1</td><td>notifications_arm_1</td><td>NA</td><td>NA</td><td>NA  </td><td>NA </td></tr>\n",
       "\t<tr><td>1</td><td>case_intake_arm_1  </td><td>NA</td><td> 1</td><td>NA  </td><td>NA </td></tr>\n",
       "\t<tr><td>2</td><td>personal_info_arm_1</td><td>NA</td><td>NA</td><td>Jane</td><td>Doe</td></tr>\n",
       "\t<tr><td>2</td><td>notifications_arm_1</td><td>NA</td><td>NA</td><td>NA  </td><td>NA </td></tr>\n",
       "\t<tr><td>2</td><td>case_intake_arm_1  </td><td>NA</td><td> 1</td><td>NA  </td><td>NA </td></tr>\n",
       "</tbody>\n",
       "</table>\n"
      ],
      "text/latex": [
       "A tibble: 6 × 6\n",
       "\\begin{tabular}{llllll}\n",
       " record\\_id & redcap\\_event\\_name & redcap\\_repeat\\_instrument & redcap\\_repeat\\_instance & first\\_name & last\\_name\\\\\n",
       " <dbl> & <chr> & <lgl> & <dbl> & <chr> & <chr>\\\\\n",
       "\\hline\n",
       "\t 1 & personal\\_info\\_arm\\_1 & NA & NA & John & Doe\\\\\n",
       "\t 1 & notifications\\_arm\\_1 & NA & NA & NA   & NA \\\\\n",
       "\t 1 & case\\_intake\\_arm\\_1   & NA &  1 & NA   & NA \\\\\n",
       "\t 2 & personal\\_info\\_arm\\_1 & NA & NA & Jane & Doe\\\\\n",
       "\t 2 & notifications\\_arm\\_1 & NA & NA & NA   & NA \\\\\n",
       "\t 2 & case\\_intake\\_arm\\_1   & NA &  1 & NA   & NA \\\\\n",
       "\\end{tabular}\n"
      ],
      "text/markdown": [
       "\n",
       "A tibble: 6 × 6\n",
       "\n",
       "| record_id &lt;dbl&gt; | redcap_event_name &lt;chr&gt; | redcap_repeat_instrument &lt;lgl&gt; | redcap_repeat_instance &lt;dbl&gt; | first_name &lt;chr&gt; | last_name &lt;chr&gt; |\n",
       "|---|---|---|---|---|---|\n",
       "| 1 | personal_info_arm_1 | NA | NA | John | Doe |\n",
       "| 1 | notifications_arm_1 | NA | NA | NA   | NA  |\n",
       "| 1 | case_intake_arm_1   | NA |  1 | NA   | NA  |\n",
       "| 2 | personal_info_arm_1 | NA | NA | Jane | Doe |\n",
       "| 2 | notifications_arm_1 | NA | NA | NA   | NA  |\n",
       "| 2 | case_intake_arm_1   | NA |  1 | NA   | NA  |\n",
       "\n"
      ],
      "text/plain": [
       "  record_id redcap_event_name   redcap_repeat_instrument redcap_repeat_instance\n",
       "1 1         personal_info_arm_1 NA                       NA                    \n",
       "2 1         notifications_arm_1 NA                       NA                    \n",
       "3 1         case_intake_arm_1   NA                        1                    \n",
       "4 2         personal_info_arm_1 NA                       NA                    \n",
       "5 2         notifications_arm_1 NA                       NA                    \n",
       "6 2         case_intake_arm_1   NA                        1                    \n",
       "  first_name last_name\n",
       "1 John       Doe      \n",
       "2 NA         NA       \n",
       "3 NA         NA       \n",
       "4 Jane       Doe      \n",
       "5 NA         NA       \n",
       "6 NA         NA       "
      ]
     },
     "metadata": {},
     "output_type": "display_data"
    }
   ],
   "source": [
    "#specifying record_id automatically also pulls the event, instrument and instance columns (when applicable).\n",
    "field_subset_v1 <- redcap_read_oneshot(\n",
    "    fields = c(\"record_id\",\"first_name\",\"last_name\"), \n",
    "    redcap_uri = url, \n",
    "    token = token\n",
    ")$data\n",
    "head(field_subset_v1)"
   ]
  },
  {
   "cell_type": "code",
   "execution_count": 119,
   "id": "da777886-0091-41c3-b492-88c83dbdac8b",
   "metadata": {
    "tags": []
   },
   "outputs": [
    {
     "name": "stderr",
     "output_type": "stream",
     "text": [
      "20 records and 2 columns were read from REDCap in 0.3 seconds.  The http status code was 200.\n",
      "\n"
     ]
    },
    {
     "data": {
      "text/html": [
       "<table class=\"dataframe\">\n",
       "<caption>A tibble: 6 × 2</caption>\n",
       "<thead>\n",
       "\t<tr><th scope=col>first_name</th><th scope=col>last_name</th></tr>\n",
       "\t<tr><th scope=col>&lt;chr&gt;</th><th scope=col>&lt;chr&gt;</th></tr>\n",
       "</thead>\n",
       "<tbody>\n",
       "\t<tr><td>John</td><td>Doe</td></tr>\n",
       "\t<tr><td>NA  </td><td>NA </td></tr>\n",
       "\t<tr><td>NA  </td><td>NA </td></tr>\n",
       "\t<tr><td>Jane</td><td>Doe</td></tr>\n",
       "\t<tr><td>NA  </td><td>NA </td></tr>\n",
       "\t<tr><td>NA  </td><td>NA </td></tr>\n",
       "</tbody>\n",
       "</table>\n"
      ],
      "text/latex": [
       "A tibble: 6 × 2\n",
       "\\begin{tabular}{ll}\n",
       " first\\_name & last\\_name\\\\\n",
       " <chr> & <chr>\\\\\n",
       "\\hline\n",
       "\t John & Doe\\\\\n",
       "\t NA   & NA \\\\\n",
       "\t NA   & NA \\\\\n",
       "\t Jane & Doe\\\\\n",
       "\t NA   & NA \\\\\n",
       "\t NA   & NA \\\\\n",
       "\\end{tabular}\n"
      ],
      "text/markdown": [
       "\n",
       "A tibble: 6 × 2\n",
       "\n",
       "| first_name &lt;chr&gt; | last_name &lt;chr&gt; |\n",
       "|---|---|\n",
       "| John | Doe |\n",
       "| NA   | NA  |\n",
       "| NA   | NA  |\n",
       "| Jane | Doe |\n",
       "| NA   | NA  |\n",
       "| NA   | NA  |\n",
       "\n"
      ],
      "text/plain": [
       "  first_name last_name\n",
       "1 John       Doe      \n",
       "2 NA         NA       \n",
       "3 NA         NA       \n",
       "4 Jane       Doe      \n",
       "5 NA         NA       \n",
       "6 NA         NA       "
      ]
     },
     "metadata": {},
     "output_type": "display_data"
    }
   ],
   "source": [
    "# if record_id field is not specified, no columns identifying the record, event, or form are exported.\n",
    "field_subset_v1 <- redcap_read_oneshot(\n",
    "    fields = c(\"first_name\",\"last_name\"), \n",
    "    redcap_uri = url, \n",
    "    token = token\n",
    ")$data\n",
    "head(field_subset_v1)"
   ]
  },
  {
   "cell_type": "markdown",
   "id": "932e097f-cc7c-45d7-b150-a2f5103e1959",
   "metadata": {},
   "source": [
    "**Note:** if record_id is not specified, no identifier fields will be exported and only the specific fields listed will be returned."
   ]
  },
  {
   "cell_type": "markdown",
   "id": "a4ea91d8-38d2-4e1b-864d-17e1406c2ee1",
   "metadata": {},
   "source": [
    "### Export only specific instruments"
   ]
  },
  {
   "cell_type": "markdown",
   "id": "41e3596b-8169-4080-af89-86a4c3512875",
   "metadata": {},
   "source": [
    "*See <a href=\"#Forms-and-Instruments\">Forms and Instruments</a></n>* for how to use the `redcap_instruments` function to get a list of instrument names."
   ]
  },
  {
   "cell_type": "code",
   "execution_count": 131,
   "id": "58071731-b569-464d-8198-438fea6b5809",
   "metadata": {
    "tags": []
   },
   "outputs": [
    {
     "name": "stderr",
     "output_type": "stream",
     "text": [
      "20 records and 14 columns were read from REDCap in 0.6 seconds.  The http status code was 200.\n",
      "\n"
     ]
    }
   ],
   "source": [
    "# Ex 1: Export specific instrument with record_id attached\n",
    "symptoms_wrapper <- redcap_read_oneshot(redcap_uri = url, \n",
    "                           fields = \"record_id\",\n",
    "                           forms = \"demographics\", \n",
    "                           token = token\n",
    "                                       )$data"
   ]
  },
  {
   "cell_type": "code",
   "execution_count": 136,
   "id": "375870fd-9c37-42df-abeb-168ec786d379",
   "metadata": {
    "tags": []
   },
   "outputs": [
    {
     "data": {
      "text/html": [
       "<table class=\"dataframe\">\n",
       "<caption>A tibble: 6 × 14</caption>\n",
       "<thead>\n",
       "\t<tr><th scope=col>record_id</th><th scope=col>redcap_event_name</th><th scope=col>redcap_repeat_instrument</th><th scope=col>redcap_repeat_instance</th><th scope=col>first_name</th><th scope=col>last_name</th><th scope=col>phone_num</th><th scope=col>zip_code</th><th scope=col>dob</th><th scope=col>age</th><th scope=col>ethnicity</th><th scope=col>race</th><th scope=col>gender</th><th scope=col>demographics_complete</th></tr>\n",
       "\t<tr><th scope=col>&lt;dbl&gt;</th><th scope=col>&lt;chr&gt;</th><th scope=col>&lt;lgl&gt;</th><th scope=col>&lt;dbl&gt;</th><th scope=col>&lt;chr&gt;</th><th scope=col>&lt;chr&gt;</th><th scope=col>&lt;chr&gt;</th><th scope=col>&lt;dbl&gt;</th><th scope=col>&lt;date&gt;</th><th scope=col>&lt;dbl&gt;</th><th scope=col>&lt;dbl&gt;</th><th scope=col>&lt;dbl&gt;</th><th scope=col>&lt;dbl&gt;</th><th scope=col>&lt;dbl&gt;</th></tr>\n",
       "</thead>\n",
       "<tbody>\n",
       "\t<tr><td>1</td><td>personal_info_arm_1</td><td>NA</td><td>NA</td><td>John</td><td>Doe</td><td>(999) 999-9999</td><td>98105</td><td>2004-12-05</td><td>18</td><td> 1</td><td> 4</td><td> 1</td><td> 2</td></tr>\n",
       "\t<tr><td>1</td><td>notifications_arm_1</td><td>NA</td><td>NA</td><td>NA  </td><td>NA </td><td>NA            </td><td>   NA</td><td>NA</td><td>NA</td><td>NA</td><td>NA</td><td>NA</td><td>NA</td></tr>\n",
       "\t<tr><td>1</td><td>case_intake_arm_1  </td><td>NA</td><td> 1</td><td>NA  </td><td>NA </td><td>NA            </td><td>   NA</td><td>NA</td><td>NA</td><td>NA</td><td>NA</td><td>NA</td><td> 0</td></tr>\n",
       "\t<tr><td>2</td><td>personal_info_arm_1</td><td>NA</td><td>NA</td><td>Jane</td><td>Doe</td><td>(999) 999-9999</td><td>98105</td><td>1995-06-29</td><td>28</td><td> 0</td><td> 5</td><td> 0</td><td> 2</td></tr>\n",
       "\t<tr><td>2</td><td>notifications_arm_1</td><td>NA</td><td>NA</td><td>NA  </td><td>NA </td><td>NA            </td><td>   NA</td><td>NA</td><td>NA</td><td>NA</td><td>NA</td><td>NA</td><td>NA</td></tr>\n",
       "\t<tr><td>2</td><td>case_intake_arm_1  </td><td>NA</td><td> 1</td><td>NA  </td><td>NA </td><td>NA            </td><td>   NA</td><td>NA</td><td>NA</td><td>NA</td><td>NA</td><td>NA</td><td> 0</td></tr>\n",
       "</tbody>\n",
       "</table>\n"
      ],
      "text/latex": [
       "A tibble: 6 × 14\n",
       "\\begin{tabular}{llllllllllllll}\n",
       " record\\_id & redcap\\_event\\_name & redcap\\_repeat\\_instrument & redcap\\_repeat\\_instance & first\\_name & last\\_name & phone\\_num & zip\\_code & dob & age & ethnicity & race & gender & demographics\\_complete\\\\\n",
       " <dbl> & <chr> & <lgl> & <dbl> & <chr> & <chr> & <chr> & <dbl> & <date> & <dbl> & <dbl> & <dbl> & <dbl> & <dbl>\\\\\n",
       "\\hline\n",
       "\t 1 & personal\\_info\\_arm\\_1 & NA & NA & John & Doe & (999) 999-9999 & 98105 & 2004-12-05 & 18 &  1 &  4 &  1 &  2\\\\\n",
       "\t 1 & notifications\\_arm\\_1 & NA & NA & NA   & NA  & NA             &    NA & NA & NA & NA & NA & NA & NA\\\\\n",
       "\t 1 & case\\_intake\\_arm\\_1   & NA &  1 & NA   & NA  & NA             &    NA & NA & NA & NA & NA & NA &  0\\\\\n",
       "\t 2 & personal\\_info\\_arm\\_1 & NA & NA & Jane & Doe & (999) 999-9999 & 98105 & 1995-06-29 & 28 &  0 &  5 &  0 &  2\\\\\n",
       "\t 2 & notifications\\_arm\\_1 & NA & NA & NA   & NA  & NA             &    NA & NA & NA & NA & NA & NA & NA\\\\\n",
       "\t 2 & case\\_intake\\_arm\\_1   & NA &  1 & NA   & NA  & NA             &    NA & NA & NA & NA & NA & NA &  0\\\\\n",
       "\\end{tabular}\n"
      ],
      "text/markdown": [
       "\n",
       "A tibble: 6 × 14\n",
       "\n",
       "| record_id &lt;dbl&gt; | redcap_event_name &lt;chr&gt; | redcap_repeat_instrument &lt;lgl&gt; | redcap_repeat_instance &lt;dbl&gt; | first_name &lt;chr&gt; | last_name &lt;chr&gt; | phone_num &lt;chr&gt; | zip_code &lt;dbl&gt; | dob &lt;date&gt; | age &lt;dbl&gt; | ethnicity &lt;dbl&gt; | race &lt;dbl&gt; | gender &lt;dbl&gt; | demographics_complete &lt;dbl&gt; |\n",
       "|---|---|---|---|---|---|---|---|---|---|---|---|---|---|\n",
       "| 1 | personal_info_arm_1 | NA | NA | John | Doe | (999) 999-9999 | 98105 | 2004-12-05 | 18 |  1 |  4 |  1 |  2 |\n",
       "| 1 | notifications_arm_1 | NA | NA | NA   | NA  | NA             |    NA | NA | NA | NA | NA | NA | NA |\n",
       "| 1 | case_intake_arm_1   | NA |  1 | NA   | NA  | NA             |    NA | NA | NA | NA | NA | NA |  0 |\n",
       "| 2 | personal_info_arm_1 | NA | NA | Jane | Doe | (999) 999-9999 | 98105 | 1995-06-29 | 28 |  0 |  5 |  0 |  2 |\n",
       "| 2 | notifications_arm_1 | NA | NA | NA   | NA  | NA             |    NA | NA | NA | NA | NA | NA | NA |\n",
       "| 2 | case_intake_arm_1   | NA |  1 | NA   | NA  | NA             |    NA | NA | NA | NA | NA | NA |  0 |\n",
       "\n"
      ],
      "text/plain": [
       "  record_id redcap_event_name   redcap_repeat_instrument redcap_repeat_instance\n",
       "1 1         personal_info_arm_1 NA                       NA                    \n",
       "2 1         notifications_arm_1 NA                       NA                    \n",
       "3 1         case_intake_arm_1   NA                        1                    \n",
       "4 2         personal_info_arm_1 NA                       NA                    \n",
       "5 2         notifications_arm_1 NA                       NA                    \n",
       "6 2         case_intake_arm_1   NA                        1                    \n",
       "  first_name last_name phone_num      zip_code dob        age ethnicity race\n",
       "1 John       Doe       (999) 999-9999 98105    2004-12-05 18   1         4  \n",
       "2 NA         NA        NA                NA    <NA>       NA  NA        NA  \n",
       "3 NA         NA        NA                NA    <NA>       NA  NA        NA  \n",
       "4 Jane       Doe       (999) 999-9999 98105    1995-06-29 28   0         5  \n",
       "5 NA         NA        NA                NA    <NA>       NA  NA        NA  \n",
       "6 NA         NA        NA                NA    <NA>       NA  NA        NA  \n",
       "  gender demographics_complete\n",
       "1  1      2                   \n",
       "2 NA     NA                   \n",
       "3 NA      0                   \n",
       "4  0      2                   \n",
       "5 NA     NA                   \n",
       "6 NA      0                   "
      ]
     },
     "metadata": {},
     "output_type": "display_data"
    }
   ],
   "source": [
    "head(symptoms_wrapper)"
   ]
  },
  {
   "cell_type": "markdown",
   "id": "107e2a1b-da60-4adb-b40f-7d1fa6746645",
   "metadata": {},
   "source": [
    "You must add `record_id` to the `fields_collapsed` argument for the data to export with the `record_id` attached. This API call will export all rows (including rows not relevant to the desired instrument). However, this is still useful because it only exports fields in that instrument and you can further filter the data to include only rows for that instrument."
   ]
  },
  {
   "cell_type": "code",
   "execution_count": 140,
   "id": "b13f6c7e-c366-4786-af68-3ec91482b0da",
   "metadata": {
    "tags": []
   },
   "outputs": [],
   "source": [
    "symptoms_wrapper_final <- symptoms_wrapper %>% filter(!is.na(symptoms_complete))"
   ]
  },
  {
   "cell_type": "code",
   "execution_count": 141,
   "id": "a969e333-3dde-43d2-b462-881266a979ee",
   "metadata": {
    "tags": []
   },
   "outputs": [
    {
     "data": {
      "text/html": [
       "<table class=\"dataframe\">\n",
       "<caption>A tibble: 6 × 19</caption>\n",
       "<thead>\n",
       "\t<tr><th scope=col>record_id</th><th scope=col>redcap_event_name</th><th scope=col>redcap_repeat_instrument</th><th scope=col>redcap_repeat_instance</th><th scope=col>symptoms_yesno</th><th scope=col>symptom_onset</th><th scope=col>symptoms_exp___1</th><th scope=col>symptoms_exp___2</th><th scope=col>symptoms_exp___3</th><th scope=col>symptoms_exp___4</th><th scope=col>symptoms_exp___5</th><th scope=col>symptoms_exp___6</th><th scope=col>symptoms_exp___7</th><th scope=col>symptoms_exp___8</th><th scope=col>symptoms_exp___9</th><th scope=col>symptoms_exp___10</th><th scope=col>symptoms_exp___11</th><th scope=col>symptom_notes</th><th scope=col>symptoms_complete</th></tr>\n",
       "\t<tr><th scope=col>&lt;dbl&gt;</th><th scope=col>&lt;chr&gt;</th><th scope=col>&lt;lgl&gt;</th><th scope=col>&lt;dbl&gt;</th><th scope=col>&lt;dbl&gt;</th><th scope=col>&lt;date&gt;</th><th scope=col>&lt;dbl&gt;</th><th scope=col>&lt;dbl&gt;</th><th scope=col>&lt;dbl&gt;</th><th scope=col>&lt;dbl&gt;</th><th scope=col>&lt;dbl&gt;</th><th scope=col>&lt;dbl&gt;</th><th scope=col>&lt;dbl&gt;</th><th scope=col>&lt;dbl&gt;</th><th scope=col>&lt;dbl&gt;</th><th scope=col>&lt;dbl&gt;</th><th scope=col>&lt;dbl&gt;</th><th scope=col>&lt;lgl&gt;</th><th scope=col>&lt;dbl&gt;</th></tr>\n",
       "</thead>\n",
       "<tbody>\n",
       "\t<tr><td>1</td><td>case_intake_arm_1</td><td>NA</td><td>1</td><td>1</td><td>2023-10-09</td><td>1</td><td>1</td><td>0</td><td>0</td><td>0</td><td>0</td><td>1</td><td>0</td><td>0</td><td>0</td><td>0</td><td>NA</td><td>2</td></tr>\n",
       "\t<tr><td>2</td><td>case_intake_arm_1</td><td>NA</td><td>1</td><td>1</td><td>2023-10-11</td><td>1</td><td>1</td><td>0</td><td>0</td><td>0</td><td>0</td><td>0</td><td>1</td><td>0</td><td>0</td><td>0</td><td>NA</td><td>2</td></tr>\n",
       "\t<tr><td>2</td><td>case_intake_arm_1</td><td>NA</td><td>2</td><td>1</td><td>2021-06-05</td><td>1</td><td>1</td><td>1</td><td>1</td><td>1</td><td>0</td><td>1</td><td>1</td><td>1</td><td>0</td><td>0</td><td>NA</td><td>2</td></tr>\n",
       "\t<tr><td>3</td><td>case_intake_arm_1</td><td>NA</td><td>1</td><td>1</td><td>2023-10-09</td><td>1</td><td>1</td><td>0</td><td>0</td><td>0</td><td>0</td><td>1</td><td>0</td><td>0</td><td>0</td><td>0</td><td>NA</td><td>2</td></tr>\n",
       "\t<tr><td>4</td><td>case_intake_arm_1</td><td>NA</td><td>1</td><td>1</td><td>2023-10-11</td><td>1</td><td>1</td><td>0</td><td>0</td><td>0</td><td>0</td><td>0</td><td>1</td><td>0</td><td>0</td><td>0</td><td>NA</td><td>2</td></tr>\n",
       "\t<tr><td>4</td><td>case_intake_arm_1</td><td>NA</td><td>2</td><td>1</td><td>2021-06-05</td><td>1</td><td>1</td><td>1</td><td>1</td><td>1</td><td>0</td><td>1</td><td>1</td><td>1</td><td>0</td><td>0</td><td>NA</td><td>2</td></tr>\n",
       "</tbody>\n",
       "</table>\n"
      ],
      "text/latex": [
       "A tibble: 6 × 19\n",
       "\\begin{tabular}{lllllllllllllllllll}\n",
       " record\\_id & redcap\\_event\\_name & redcap\\_repeat\\_instrument & redcap\\_repeat\\_instance & symptoms\\_yesno & symptom\\_onset & symptoms\\_exp\\_\\_\\_1 & symptoms\\_exp\\_\\_\\_2 & symptoms\\_exp\\_\\_\\_3 & symptoms\\_exp\\_\\_\\_4 & symptoms\\_exp\\_\\_\\_5 & symptoms\\_exp\\_\\_\\_6 & symptoms\\_exp\\_\\_\\_7 & symptoms\\_exp\\_\\_\\_8 & symptoms\\_exp\\_\\_\\_9 & symptoms\\_exp\\_\\_\\_10 & symptoms\\_exp\\_\\_\\_11 & symptom\\_notes & symptoms\\_complete\\\\\n",
       " <dbl> & <chr> & <lgl> & <dbl> & <dbl> & <date> & <dbl> & <dbl> & <dbl> & <dbl> & <dbl> & <dbl> & <dbl> & <dbl> & <dbl> & <dbl> & <dbl> & <lgl> & <dbl>\\\\\n",
       "\\hline\n",
       "\t 1 & case\\_intake\\_arm\\_1 & NA & 1 & 1 & 2023-10-09 & 1 & 1 & 0 & 0 & 0 & 0 & 1 & 0 & 0 & 0 & 0 & NA & 2\\\\\n",
       "\t 2 & case\\_intake\\_arm\\_1 & NA & 1 & 1 & 2023-10-11 & 1 & 1 & 0 & 0 & 0 & 0 & 0 & 1 & 0 & 0 & 0 & NA & 2\\\\\n",
       "\t 2 & case\\_intake\\_arm\\_1 & NA & 2 & 1 & 2021-06-05 & 1 & 1 & 1 & 1 & 1 & 0 & 1 & 1 & 1 & 0 & 0 & NA & 2\\\\\n",
       "\t 3 & case\\_intake\\_arm\\_1 & NA & 1 & 1 & 2023-10-09 & 1 & 1 & 0 & 0 & 0 & 0 & 1 & 0 & 0 & 0 & 0 & NA & 2\\\\\n",
       "\t 4 & case\\_intake\\_arm\\_1 & NA & 1 & 1 & 2023-10-11 & 1 & 1 & 0 & 0 & 0 & 0 & 0 & 1 & 0 & 0 & 0 & NA & 2\\\\\n",
       "\t 4 & case\\_intake\\_arm\\_1 & NA & 2 & 1 & 2021-06-05 & 1 & 1 & 1 & 1 & 1 & 0 & 1 & 1 & 1 & 0 & 0 & NA & 2\\\\\n",
       "\\end{tabular}\n"
      ],
      "text/markdown": [
       "\n",
       "A tibble: 6 × 19\n",
       "\n",
       "| record_id &lt;dbl&gt; | redcap_event_name &lt;chr&gt; | redcap_repeat_instrument &lt;lgl&gt; | redcap_repeat_instance &lt;dbl&gt; | symptoms_yesno &lt;dbl&gt; | symptom_onset &lt;date&gt; | symptoms_exp___1 &lt;dbl&gt; | symptoms_exp___2 &lt;dbl&gt; | symptoms_exp___3 &lt;dbl&gt; | symptoms_exp___4 &lt;dbl&gt; | symptoms_exp___5 &lt;dbl&gt; | symptoms_exp___6 &lt;dbl&gt; | symptoms_exp___7 &lt;dbl&gt; | symptoms_exp___8 &lt;dbl&gt; | symptoms_exp___9 &lt;dbl&gt; | symptoms_exp___10 &lt;dbl&gt; | symptoms_exp___11 &lt;dbl&gt; | symptom_notes &lt;lgl&gt; | symptoms_complete &lt;dbl&gt; |\n",
       "|---|---|---|---|---|---|---|---|---|---|---|---|---|---|---|---|---|---|---|\n",
       "| 1 | case_intake_arm_1 | NA | 1 | 1 | 2023-10-09 | 1 | 1 | 0 | 0 | 0 | 0 | 1 | 0 | 0 | 0 | 0 | NA | 2 |\n",
       "| 2 | case_intake_arm_1 | NA | 1 | 1 | 2023-10-11 | 1 | 1 | 0 | 0 | 0 | 0 | 0 | 1 | 0 | 0 | 0 | NA | 2 |\n",
       "| 2 | case_intake_arm_1 | NA | 2 | 1 | 2021-06-05 | 1 | 1 | 1 | 1 | 1 | 0 | 1 | 1 | 1 | 0 | 0 | NA | 2 |\n",
       "| 3 | case_intake_arm_1 | NA | 1 | 1 | 2023-10-09 | 1 | 1 | 0 | 0 | 0 | 0 | 1 | 0 | 0 | 0 | 0 | NA | 2 |\n",
       "| 4 | case_intake_arm_1 | NA | 1 | 1 | 2023-10-11 | 1 | 1 | 0 | 0 | 0 | 0 | 0 | 1 | 0 | 0 | 0 | NA | 2 |\n",
       "| 4 | case_intake_arm_1 | NA | 2 | 1 | 2021-06-05 | 1 | 1 | 1 | 1 | 1 | 0 | 1 | 1 | 1 | 0 | 0 | NA | 2 |\n",
       "\n"
      ],
      "text/plain": [
       "  record_id redcap_event_name redcap_repeat_instrument redcap_repeat_instance\n",
       "1 1         case_intake_arm_1 NA                       1                     \n",
       "2 2         case_intake_arm_1 NA                       1                     \n",
       "3 2         case_intake_arm_1 NA                       2                     \n",
       "4 3         case_intake_arm_1 NA                       1                     \n",
       "5 4         case_intake_arm_1 NA                       1                     \n",
       "6 4         case_intake_arm_1 NA                       2                     \n",
       "  symptoms_yesno symptom_onset symptoms_exp___1 symptoms_exp___2\n",
       "1 1              2023-10-09    1                1               \n",
       "2 1              2023-10-11    1                1               \n",
       "3 1              2021-06-05    1                1               \n",
       "4 1              2023-10-09    1                1               \n",
       "5 1              2023-10-11    1                1               \n",
       "6 1              2021-06-05    1                1               \n",
       "  symptoms_exp___3 symptoms_exp___4 symptoms_exp___5 symptoms_exp___6\n",
       "1 0                0                0                0               \n",
       "2 0                0                0                0               \n",
       "3 1                1                1                0               \n",
       "4 0                0                0                0               \n",
       "5 0                0                0                0               \n",
       "6 1                1                1                0               \n",
       "  symptoms_exp___7 symptoms_exp___8 symptoms_exp___9 symptoms_exp___10\n",
       "1 1                0                0                0                \n",
       "2 0                1                0                0                \n",
       "3 1                1                1                0                \n",
       "4 1                0                0                0                \n",
       "5 0                1                0                0                \n",
       "6 1                1                1                0                \n",
       "  symptoms_exp___11 symptom_notes symptoms_complete\n",
       "1 0                 NA            2                \n",
       "2 0                 NA            2                \n",
       "3 0                 NA            2                \n",
       "4 0                 NA            2                \n",
       "5 0                 NA            2                \n",
       "6 0                 NA            2                "
      ]
     },
     "metadata": {},
     "output_type": "display_data"
    }
   ],
   "source": [
    "head(symptoms_wrapper_final)"
   ]
  },
  {
   "cell_type": "markdown",
   "id": "f686396b-0d4e-483a-8b58-6cdd858d1282",
   "metadata": {},
   "source": [
    "You can also filter the data upon export."
   ]
  },
  {
   "cell_type": "code",
   "execution_count": 142,
   "id": "78c7d8e2-340d-4135-94b2-8727fafc340b",
   "metadata": {
    "tags": []
   },
   "outputs": [
    {
     "name": "stderr",
     "output_type": "stream",
     "text": [
      "8 records and 19 columns were read from REDCap in 0.5 seconds.  The http status code was 200.\n",
      "\n"
     ]
    }
   ],
   "source": [
    "symptoms_wrapper <- redcap_read_oneshot(redcap_uri = url, \n",
    "                           fields = \"record_id\",\n",
    "                           forms = \"symptoms\", \n",
    "                           filter_logic = '[symptoms_complete] <> \"\"',\n",
    "                           token = token\n",
    "                                       )$data"
   ]
  },
  {
   "cell_type": "code",
   "execution_count": 143,
   "id": "121d9f64-2fd0-46a2-bc3c-657c739a0beb",
   "metadata": {
    "tags": []
   },
   "outputs": [
    {
     "data": {
      "text/html": [
       "<table class=\"dataframe\">\n",
       "<caption>A spec_tbl_df: 8 × 19</caption>\n",
       "<thead>\n",
       "\t<tr><th scope=col>record_id</th><th scope=col>redcap_event_name</th><th scope=col>redcap_repeat_instrument</th><th scope=col>redcap_repeat_instance</th><th scope=col>symptoms_yesno</th><th scope=col>symptom_onset</th><th scope=col>symptoms_exp___1</th><th scope=col>symptoms_exp___2</th><th scope=col>symptoms_exp___3</th><th scope=col>symptoms_exp___4</th><th scope=col>symptoms_exp___5</th><th scope=col>symptoms_exp___6</th><th scope=col>symptoms_exp___7</th><th scope=col>symptoms_exp___8</th><th scope=col>symptoms_exp___9</th><th scope=col>symptoms_exp___10</th><th scope=col>symptoms_exp___11</th><th scope=col>symptom_notes</th><th scope=col>symptoms_complete</th></tr>\n",
       "\t<tr><th scope=col>&lt;dbl&gt;</th><th scope=col>&lt;chr&gt;</th><th scope=col>&lt;lgl&gt;</th><th scope=col>&lt;dbl&gt;</th><th scope=col>&lt;dbl&gt;</th><th scope=col>&lt;date&gt;</th><th scope=col>&lt;dbl&gt;</th><th scope=col>&lt;dbl&gt;</th><th scope=col>&lt;dbl&gt;</th><th scope=col>&lt;dbl&gt;</th><th scope=col>&lt;dbl&gt;</th><th scope=col>&lt;dbl&gt;</th><th scope=col>&lt;dbl&gt;</th><th scope=col>&lt;dbl&gt;</th><th scope=col>&lt;dbl&gt;</th><th scope=col>&lt;dbl&gt;</th><th scope=col>&lt;dbl&gt;</th><th scope=col>&lt;lgl&gt;</th><th scope=col>&lt;dbl&gt;</th></tr>\n",
       "</thead>\n",
       "<tbody>\n",
       "\t<tr><td>1</td><td>case_intake_arm_1</td><td>NA</td><td>1</td><td>1</td><td>2023-10-09</td><td>1</td><td>1</td><td>0</td><td>0</td><td>0</td><td>0</td><td>1</td><td>0</td><td>0</td><td>0</td><td>0</td><td>NA</td><td>2</td></tr>\n",
       "\t<tr><td>2</td><td>case_intake_arm_1</td><td>NA</td><td>1</td><td>1</td><td>2023-10-11</td><td>1</td><td>1</td><td>0</td><td>0</td><td>0</td><td>0</td><td>0</td><td>1</td><td>0</td><td>0</td><td>0</td><td>NA</td><td>2</td></tr>\n",
       "\t<tr><td>2</td><td>case_intake_arm_1</td><td>NA</td><td>2</td><td>1</td><td>2021-06-05</td><td>1</td><td>1</td><td>1</td><td>1</td><td>1</td><td>0</td><td>1</td><td>1</td><td>1</td><td>0</td><td>0</td><td>NA</td><td>2</td></tr>\n",
       "\t<tr><td>3</td><td>case_intake_arm_1</td><td>NA</td><td>1</td><td>1</td><td>2023-10-09</td><td>1</td><td>1</td><td>0</td><td>0</td><td>0</td><td>0</td><td>1</td><td>0</td><td>0</td><td>0</td><td>0</td><td>NA</td><td>2</td></tr>\n",
       "\t<tr><td>4</td><td>case_intake_arm_1</td><td>NA</td><td>1</td><td>1</td><td>2023-10-11</td><td>1</td><td>1</td><td>0</td><td>0</td><td>0</td><td>0</td><td>0</td><td>1</td><td>0</td><td>0</td><td>0</td><td>NA</td><td>2</td></tr>\n",
       "\t<tr><td>4</td><td>case_intake_arm_1</td><td>NA</td><td>2</td><td>1</td><td>2021-06-05</td><td>1</td><td>1</td><td>1</td><td>1</td><td>1</td><td>0</td><td>1</td><td>1</td><td>1</td><td>0</td><td>0</td><td>NA</td><td>2</td></tr>\n",
       "\t<tr><td>5</td><td>case_intake_arm_1</td><td>NA</td><td>1</td><td>1</td><td>2023-10-08</td><td>1</td><td>0</td><td>0</td><td>0</td><td>0</td><td>0</td><td>0</td><td>0</td><td>0</td><td>0</td><td>0</td><td>NA</td><td>2</td></tr>\n",
       "\t<tr><td>6</td><td>case_intake_arm_1</td><td>NA</td><td>1</td><td>1</td><td>2023-10-02</td><td>0</td><td>0</td><td>0</td><td>0</td><td>0</td><td>1</td><td>1</td><td>1</td><td>1</td><td>0</td><td>0</td><td>NA</td><td>2</td></tr>\n",
       "</tbody>\n",
       "</table>\n"
      ],
      "text/latex": [
       "A spec\\_tbl\\_df: 8 × 19\n",
       "\\begin{tabular}{lllllllllllllllllll}\n",
       " record\\_id & redcap\\_event\\_name & redcap\\_repeat\\_instrument & redcap\\_repeat\\_instance & symptoms\\_yesno & symptom\\_onset & symptoms\\_exp\\_\\_\\_1 & symptoms\\_exp\\_\\_\\_2 & symptoms\\_exp\\_\\_\\_3 & symptoms\\_exp\\_\\_\\_4 & symptoms\\_exp\\_\\_\\_5 & symptoms\\_exp\\_\\_\\_6 & symptoms\\_exp\\_\\_\\_7 & symptoms\\_exp\\_\\_\\_8 & symptoms\\_exp\\_\\_\\_9 & symptoms\\_exp\\_\\_\\_10 & symptoms\\_exp\\_\\_\\_11 & symptom\\_notes & symptoms\\_complete\\\\\n",
       " <dbl> & <chr> & <lgl> & <dbl> & <dbl> & <date> & <dbl> & <dbl> & <dbl> & <dbl> & <dbl> & <dbl> & <dbl> & <dbl> & <dbl> & <dbl> & <dbl> & <lgl> & <dbl>\\\\\n",
       "\\hline\n",
       "\t 1 & case\\_intake\\_arm\\_1 & NA & 1 & 1 & 2023-10-09 & 1 & 1 & 0 & 0 & 0 & 0 & 1 & 0 & 0 & 0 & 0 & NA & 2\\\\\n",
       "\t 2 & case\\_intake\\_arm\\_1 & NA & 1 & 1 & 2023-10-11 & 1 & 1 & 0 & 0 & 0 & 0 & 0 & 1 & 0 & 0 & 0 & NA & 2\\\\\n",
       "\t 2 & case\\_intake\\_arm\\_1 & NA & 2 & 1 & 2021-06-05 & 1 & 1 & 1 & 1 & 1 & 0 & 1 & 1 & 1 & 0 & 0 & NA & 2\\\\\n",
       "\t 3 & case\\_intake\\_arm\\_1 & NA & 1 & 1 & 2023-10-09 & 1 & 1 & 0 & 0 & 0 & 0 & 1 & 0 & 0 & 0 & 0 & NA & 2\\\\\n",
       "\t 4 & case\\_intake\\_arm\\_1 & NA & 1 & 1 & 2023-10-11 & 1 & 1 & 0 & 0 & 0 & 0 & 0 & 1 & 0 & 0 & 0 & NA & 2\\\\\n",
       "\t 4 & case\\_intake\\_arm\\_1 & NA & 2 & 1 & 2021-06-05 & 1 & 1 & 1 & 1 & 1 & 0 & 1 & 1 & 1 & 0 & 0 & NA & 2\\\\\n",
       "\t 5 & case\\_intake\\_arm\\_1 & NA & 1 & 1 & 2023-10-08 & 1 & 0 & 0 & 0 & 0 & 0 & 0 & 0 & 0 & 0 & 0 & NA & 2\\\\\n",
       "\t 6 & case\\_intake\\_arm\\_1 & NA & 1 & 1 & 2023-10-02 & 0 & 0 & 0 & 0 & 0 & 1 & 1 & 1 & 1 & 0 & 0 & NA & 2\\\\\n",
       "\\end{tabular}\n"
      ],
      "text/markdown": [
       "\n",
       "A spec_tbl_df: 8 × 19\n",
       "\n",
       "| record_id &lt;dbl&gt; | redcap_event_name &lt;chr&gt; | redcap_repeat_instrument &lt;lgl&gt; | redcap_repeat_instance &lt;dbl&gt; | symptoms_yesno &lt;dbl&gt; | symptom_onset &lt;date&gt; | symptoms_exp___1 &lt;dbl&gt; | symptoms_exp___2 &lt;dbl&gt; | symptoms_exp___3 &lt;dbl&gt; | symptoms_exp___4 &lt;dbl&gt; | symptoms_exp___5 &lt;dbl&gt; | symptoms_exp___6 &lt;dbl&gt; | symptoms_exp___7 &lt;dbl&gt; | symptoms_exp___8 &lt;dbl&gt; | symptoms_exp___9 &lt;dbl&gt; | symptoms_exp___10 &lt;dbl&gt; | symptoms_exp___11 &lt;dbl&gt; | symptom_notes &lt;lgl&gt; | symptoms_complete &lt;dbl&gt; |\n",
       "|---|---|---|---|---|---|---|---|---|---|---|---|---|---|---|---|---|---|---|\n",
       "| 1 | case_intake_arm_1 | NA | 1 | 1 | 2023-10-09 | 1 | 1 | 0 | 0 | 0 | 0 | 1 | 0 | 0 | 0 | 0 | NA | 2 |\n",
       "| 2 | case_intake_arm_1 | NA | 1 | 1 | 2023-10-11 | 1 | 1 | 0 | 0 | 0 | 0 | 0 | 1 | 0 | 0 | 0 | NA | 2 |\n",
       "| 2 | case_intake_arm_1 | NA | 2 | 1 | 2021-06-05 | 1 | 1 | 1 | 1 | 1 | 0 | 1 | 1 | 1 | 0 | 0 | NA | 2 |\n",
       "| 3 | case_intake_arm_1 | NA | 1 | 1 | 2023-10-09 | 1 | 1 | 0 | 0 | 0 | 0 | 1 | 0 | 0 | 0 | 0 | NA | 2 |\n",
       "| 4 | case_intake_arm_1 | NA | 1 | 1 | 2023-10-11 | 1 | 1 | 0 | 0 | 0 | 0 | 0 | 1 | 0 | 0 | 0 | NA | 2 |\n",
       "| 4 | case_intake_arm_1 | NA | 2 | 1 | 2021-06-05 | 1 | 1 | 1 | 1 | 1 | 0 | 1 | 1 | 1 | 0 | 0 | NA | 2 |\n",
       "| 5 | case_intake_arm_1 | NA | 1 | 1 | 2023-10-08 | 1 | 0 | 0 | 0 | 0 | 0 | 0 | 0 | 0 | 0 | 0 | NA | 2 |\n",
       "| 6 | case_intake_arm_1 | NA | 1 | 1 | 2023-10-02 | 0 | 0 | 0 | 0 | 0 | 1 | 1 | 1 | 1 | 0 | 0 | NA | 2 |\n",
       "\n"
      ],
      "text/plain": [
       "  record_id redcap_event_name redcap_repeat_instrument redcap_repeat_instance\n",
       "1 1         case_intake_arm_1 NA                       1                     \n",
       "2 2         case_intake_arm_1 NA                       1                     \n",
       "3 2         case_intake_arm_1 NA                       2                     \n",
       "4 3         case_intake_arm_1 NA                       1                     \n",
       "5 4         case_intake_arm_1 NA                       1                     \n",
       "6 4         case_intake_arm_1 NA                       2                     \n",
       "7 5         case_intake_arm_1 NA                       1                     \n",
       "8 6         case_intake_arm_1 NA                       1                     \n",
       "  symptoms_yesno symptom_onset symptoms_exp___1 symptoms_exp___2\n",
       "1 1              2023-10-09    1                1               \n",
       "2 1              2023-10-11    1                1               \n",
       "3 1              2021-06-05    1                1               \n",
       "4 1              2023-10-09    1                1               \n",
       "5 1              2023-10-11    1                1               \n",
       "6 1              2021-06-05    1                1               \n",
       "7 1              2023-10-08    1                0               \n",
       "8 1              2023-10-02    0                0               \n",
       "  symptoms_exp___3 symptoms_exp___4 symptoms_exp___5 symptoms_exp___6\n",
       "1 0                0                0                0               \n",
       "2 0                0                0                0               \n",
       "3 1                1                1                0               \n",
       "4 0                0                0                0               \n",
       "5 0                0                0                0               \n",
       "6 1                1                1                0               \n",
       "7 0                0                0                0               \n",
       "8 0                0                0                1               \n",
       "  symptoms_exp___7 symptoms_exp___8 symptoms_exp___9 symptoms_exp___10\n",
       "1 1                0                0                0                \n",
       "2 0                1                0                0                \n",
       "3 1                1                1                0                \n",
       "4 1                0                0                0                \n",
       "5 0                1                0                0                \n",
       "6 1                1                1                0                \n",
       "7 0                0                0                0                \n",
       "8 1                1                1                0                \n",
       "  symptoms_exp___11 symptom_notes symptoms_complete\n",
       "1 0                 NA            2                \n",
       "2 0                 NA            2                \n",
       "3 0                 NA            2                \n",
       "4 0                 NA            2                \n",
       "5 0                 NA            2                \n",
       "6 0                 NA            2                \n",
       "7 0                 NA            2                \n",
       "8 0                 NA            2                "
      ]
     },
     "metadata": {},
     "output_type": "display_data"
    }
   ],
   "source": [
    "symptoms_wrapper"
   ]
  },
  {
   "cell_type": "markdown",
   "id": "943cc135-42c4-4cfb-ad9d-b2dc20f6743c",
   "metadata": {},
   "source": [
    "## Filtering Data Using R"
   ]
  },
  {
   "cell_type": "markdown",
   "id": "c7e7c738-0d39-491e-b720-3ae14d193daf",
   "metadata": {
    "tags": []
   },
   "source": [
    "### Filter by Date Record Was Added or Modified"
   ]
  },
  {
   "cell_type": "markdown",
   "id": "05c89f52-2a6b-434a-bb73-cac969c66980",
   "metadata": {
    "tags": []
   },
   "source": [
    "#### Filtering Data Based on record_id"
   ]
  },
  {
   "cell_type": "markdown",
   "id": "c6094742-925f-43c6-b6ae-48d7be2ed246",
   "metadata": {},
   "source": [
    "##### ex. Filter all exported data for record 1 and 2 only using R"
   ]
  },
  {
   "cell_type": "code",
   "execution_count": 146,
   "id": "a38ca8a0-c2c7-4180-b0aa-052f856a355d",
   "metadata": {
    "tags": []
   },
   "outputs": [
    {
     "data": {
      "text/html": [
       "<table class=\"dataframe\">\n",
       "<caption>A tibble: 6 × 48</caption>\n",
       "<thead>\n",
       "\t<tr><th scope=col>record_id</th><th scope=col>redcap_event_name</th><th scope=col>redcap_repeat_instrument</th><th scope=col>redcap_repeat_instance</th><th scope=col>first_name</th><th scope=col>last_name</th><th scope=col>phone_num</th><th scope=col>zip_code</th><th scope=col>dob</th><th scope=col>age</th><th scope=col>ethnicity</th><th scope=col>race</th><th scope=col>gender</th><th scope=col>demographics_complete</th><th scope=col>symptoms_yesno</th><th scope=col>...</th><th scope=col>prior_covid_yesno</th><th scope=col>prior_covid_date</th><th scope=col>test_information_complete</th><th scope=col>cc_name</th><th scope=col>cc_date</th><th scope=col>cc_phone</th><th scope=col>cc_email</th><th scope=col>close_contacts_complete</th><th scope=col>supervisor_name</th><th scope=col>supervisor_email</th><th scope=col>work_inperson_yesno</th><th scope=col>work_date</th><th scope=col>work_contagious</th><th scope=col>work_contagious_calc</th><th scope=col>work_information_complete</th></tr>\n",
       "\t<tr><th scope=col>&lt;dbl&gt;</th><th scope=col>&lt;chr&gt;</th><th scope=col>&lt;chr&gt;</th><th scope=col>&lt;dbl&gt;</th><th scope=col>&lt;chr&gt;</th><th scope=col>&lt;chr&gt;</th><th scope=col>&lt;chr&gt;</th><th scope=col>&lt;dbl&gt;</th><th scope=col>&lt;date&gt;</th><th scope=col>&lt;dbl&gt;</th><th scope=col>&lt;dbl&gt;</th><th scope=col>&lt;dbl&gt;</th><th scope=col>&lt;dbl&gt;</th><th scope=col>&lt;dbl&gt;</th><th scope=col>&lt;dbl&gt;</th><th scope=col>...</th><th scope=col>&lt;dbl&gt;</th><th scope=col>&lt;date&gt;</th><th scope=col>&lt;dbl&gt;</th><th scope=col>&lt;chr&gt;</th><th scope=col>&lt;date&gt;</th><th scope=col>&lt;chr&gt;</th><th scope=col>&lt;chr&gt;</th><th scope=col>&lt;dbl&gt;</th><th scope=col>&lt;chr&gt;</th><th scope=col>&lt;chr&gt;</th><th scope=col>&lt;dbl&gt;</th><th scope=col>&lt;date&gt;</th><th scope=col>&lt;dbl&gt;</th><th scope=col>&lt;lgl&gt;</th><th scope=col>&lt;dbl&gt;</th></tr>\n",
       "</thead>\n",
       "<tbody>\n",
       "\t<tr><td>1</td><td>personal_info_arm_1</td><td>NA            </td><td>NA</td><td>John</td><td>Doe</td><td>(999) 999-9999</td><td>98105</td><td>2004-12-05</td><td>18</td><td> 1</td><td> 4</td><td> 1</td><td> 2</td><td>NA</td><td>...</td><td>NA</td><td>NA</td><td>NA</td><td>NA              </td><td>NA</td><td>NA            </td><td>NA                  </td><td>NA</td><td>NA  </td><td>NA</td><td>NA</td><td>NA</td><td>NA</td><td>NA</td><td>NA</td></tr>\n",
       "\t<tr><td>1</td><td>notifications_arm_1</td><td>NA            </td><td>NA</td><td>NA  </td><td>NA </td><td>NA            </td><td>   NA</td><td>NA</td><td>NA</td><td>NA</td><td>NA</td><td>NA</td><td>NA</td><td>NA</td><td>...</td><td>NA</td><td>NA</td><td>NA</td><td>NA              </td><td>NA</td><td>NA            </td><td>NA                  </td><td>NA</td><td>Boss</td><td>NA</td><td> 0</td><td>NA</td><td> 0</td><td>NA</td><td> 2</td></tr>\n",
       "\t<tr><td>1</td><td>case_intake_arm_1  </td><td>NA            </td><td> 1</td><td>NA  </td><td>NA </td><td>NA            </td><td>   NA</td><td>NA</td><td>NA</td><td>NA</td><td>NA</td><td>NA</td><td> 0</td><td> 1</td><td>...</td><td> 0</td><td>NA</td><td> 2</td><td>NA              </td><td>NA</td><td>NA            </td><td>NA                  </td><td>NA</td><td>NA  </td><td>NA</td><td>NA</td><td>NA</td><td>NA</td><td>NA</td><td>NA</td></tr>\n",
       "\t<tr><td>1</td><td>notifications_arm_1</td><td>close_contacts</td><td> 1</td><td>NA  </td><td>NA </td><td>NA            </td><td>   NA</td><td>NA</td><td>NA</td><td>NA</td><td>NA</td><td>NA</td><td>NA</td><td>NA</td><td>...</td><td>NA</td><td>NA</td><td>NA</td><td>Jane Doe        </td><td>2023-10-09</td><td>(999) 999-9999</td><td>fake_email@gmail.com</td><td> 2</td><td>NA  </td><td>NA</td><td>NA</td><td>NA</td><td>NA</td><td>NA</td><td>NA</td></tr>\n",
       "\t<tr><td>1</td><td>notifications_arm_1</td><td>close_contacts</td><td> 2</td><td>NA  </td><td>NA </td><td>NA            </td><td>   NA</td><td>NA</td><td>NA</td><td>NA</td><td>NA</td><td>NA</td><td>NA</td><td>NA</td><td>...</td><td>NA</td><td>NA</td><td>NA</td><td>Johnny Appleseed</td><td>2023-10-08</td><td>(999) 999-9999</td><td>fake_email@gmail.com</td><td> 2</td><td>NA  </td><td>NA</td><td>NA</td><td>NA</td><td>NA</td><td>NA</td><td>NA</td></tr>\n",
       "\t<tr><td>2</td><td>personal_info_arm_1</td><td>NA            </td><td>NA</td><td>Jane</td><td>Doe</td><td>(999) 999-9999</td><td>98105</td><td>1995-06-29</td><td>28</td><td> 0</td><td> 5</td><td> 0</td><td> 2</td><td>NA</td><td>...</td><td>NA</td><td>NA</td><td>NA</td><td>NA              </td><td>NA</td><td>NA            </td><td>NA                  </td><td>NA</td><td>NA  </td><td>NA</td><td>NA</td><td>NA</td><td>NA</td><td>NA</td><td>NA</td></tr>\n",
       "</tbody>\n",
       "</table>\n"
      ],
      "text/latex": [
       "A tibble: 6 × 48\n",
       "\\begin{tabular}{lllllllllllllllllllllllllllllll}\n",
       " record\\_id & redcap\\_event\\_name & redcap\\_repeat\\_instrument & redcap\\_repeat\\_instance & first\\_name & last\\_name & phone\\_num & zip\\_code & dob & age & ethnicity & race & gender & demographics\\_complete & symptoms\\_yesno & ... & prior\\_covid\\_yesno & prior\\_covid\\_date & test\\_information\\_complete & cc\\_name & cc\\_date & cc\\_phone & cc\\_email & close\\_contacts\\_complete & supervisor\\_name & supervisor\\_email & work\\_inperson\\_yesno & work\\_date & work\\_contagious & work\\_contagious\\_calc & work\\_information\\_complete\\\\\n",
       " <dbl> & <chr> & <chr> & <dbl> & <chr> & <chr> & <chr> & <dbl> & <date> & <dbl> & <dbl> & <dbl> & <dbl> & <dbl> & <dbl> & ... & <dbl> & <date> & <dbl> & <chr> & <date> & <chr> & <chr> & <dbl> & <chr> & <chr> & <dbl> & <date> & <dbl> & <lgl> & <dbl>\\\\\n",
       "\\hline\n",
       "\t 1 & personal\\_info\\_arm\\_1 & NA             & NA & John & Doe & (999) 999-9999 & 98105 & 2004-12-05 & 18 &  1 &  4 &  1 &  2 & NA & ... & NA & NA & NA & NA               & NA & NA             & NA                   & NA & NA   & NA & NA & NA & NA & NA & NA\\\\\n",
       "\t 1 & notifications\\_arm\\_1 & NA             & NA & NA   & NA  & NA             &    NA & NA & NA & NA & NA & NA & NA & NA & ... & NA & NA & NA & NA               & NA & NA             & NA                   & NA & Boss & NA &  0 & NA &  0 & NA &  2\\\\\n",
       "\t 1 & case\\_intake\\_arm\\_1   & NA             &  1 & NA   & NA  & NA             &    NA & NA & NA & NA & NA & NA &  0 &  1 & ... &  0 & NA &  2 & NA               & NA & NA             & NA                   & NA & NA   & NA & NA & NA & NA & NA & NA\\\\\n",
       "\t 1 & notifications\\_arm\\_1 & close\\_contacts &  1 & NA   & NA  & NA             &    NA & NA & NA & NA & NA & NA & NA & NA & ... & NA & NA & NA & Jane Doe         & 2023-10-09 & (999) 999-9999 & fake\\_email@gmail.com &  2 & NA   & NA & NA & NA & NA & NA & NA\\\\\n",
       "\t 1 & notifications\\_arm\\_1 & close\\_contacts &  2 & NA   & NA  & NA             &    NA & NA & NA & NA & NA & NA & NA & NA & ... & NA & NA & NA & Johnny Appleseed & 2023-10-08 & (999) 999-9999 & fake\\_email@gmail.com &  2 & NA   & NA & NA & NA & NA & NA & NA\\\\\n",
       "\t 2 & personal\\_info\\_arm\\_1 & NA             & NA & Jane & Doe & (999) 999-9999 & 98105 & 1995-06-29 & 28 &  0 &  5 &  0 &  2 & NA & ... & NA & NA & NA & NA               & NA & NA             & NA                   & NA & NA   & NA & NA & NA & NA & NA & NA\\\\\n",
       "\\end{tabular}\n"
      ],
      "text/markdown": [
       "\n",
       "A tibble: 6 × 48\n",
       "\n",
       "| record_id &lt;dbl&gt; | redcap_event_name &lt;chr&gt; | redcap_repeat_instrument &lt;chr&gt; | redcap_repeat_instance &lt;dbl&gt; | first_name &lt;chr&gt; | last_name &lt;chr&gt; | phone_num &lt;chr&gt; | zip_code &lt;dbl&gt; | dob &lt;date&gt; | age &lt;dbl&gt; | ethnicity &lt;dbl&gt; | race &lt;dbl&gt; | gender &lt;dbl&gt; | demographics_complete &lt;dbl&gt; | symptoms_yesno &lt;dbl&gt; | ... ... | prior_covid_yesno &lt;dbl&gt; | prior_covid_date &lt;date&gt; | test_information_complete &lt;dbl&gt; | cc_name &lt;chr&gt; | cc_date &lt;date&gt; | cc_phone &lt;chr&gt; | cc_email &lt;chr&gt; | close_contacts_complete &lt;dbl&gt; | supervisor_name &lt;chr&gt; | supervisor_email &lt;chr&gt; | work_inperson_yesno &lt;dbl&gt; | work_date &lt;date&gt; | work_contagious &lt;dbl&gt; | work_contagious_calc &lt;lgl&gt; | work_information_complete &lt;dbl&gt; |\n",
       "|---|---|---|---|---|---|---|---|---|---|---|---|---|---|---|---|---|---|---|---|---|---|---|---|---|---|---|---|---|---|---|\n",
       "| 1 | personal_info_arm_1 | NA             | NA | John | Doe | (999) 999-9999 | 98105 | 2004-12-05 | 18 |  1 |  4 |  1 |  2 | NA | ... | NA | NA | NA | NA               | NA | NA             | NA                   | NA | NA   | NA | NA | NA | NA | NA | NA |\n",
       "| 1 | notifications_arm_1 | NA             | NA | NA   | NA  | NA             |    NA | NA | NA | NA | NA | NA | NA | NA | ... | NA | NA | NA | NA               | NA | NA             | NA                   | NA | Boss | NA |  0 | NA |  0 | NA |  2 |\n",
       "| 1 | case_intake_arm_1   | NA             |  1 | NA   | NA  | NA             |    NA | NA | NA | NA | NA | NA |  0 |  1 | ... |  0 | NA |  2 | NA               | NA | NA             | NA                   | NA | NA   | NA | NA | NA | NA | NA | NA |\n",
       "| 1 | notifications_arm_1 | close_contacts |  1 | NA   | NA  | NA             |    NA | NA | NA | NA | NA | NA | NA | NA | ... | NA | NA | NA | Jane Doe         | 2023-10-09 | (999) 999-9999 | fake_email@gmail.com |  2 | NA   | NA | NA | NA | NA | NA | NA |\n",
       "| 1 | notifications_arm_1 | close_contacts |  2 | NA   | NA  | NA             |    NA | NA | NA | NA | NA | NA | NA | NA | ... | NA | NA | NA | Johnny Appleseed | 2023-10-08 | (999) 999-9999 | fake_email@gmail.com |  2 | NA   | NA | NA | NA | NA | NA | NA |\n",
       "| 2 | personal_info_arm_1 | NA             | NA | Jane | Doe | (999) 999-9999 | 98105 | 1995-06-29 | 28 |  0 |  5 |  0 |  2 | NA | ... | NA | NA | NA | NA               | NA | NA             | NA                   | NA | NA   | NA | NA | NA | NA | NA | NA |\n",
       "\n"
      ],
      "text/plain": [
       "  record_id redcap_event_name   redcap_repeat_instrument redcap_repeat_instance\n",
       "1 1         personal_info_arm_1 NA                       NA                    \n",
       "2 1         notifications_arm_1 NA                       NA                    \n",
       "3 1         case_intake_arm_1   NA                        1                    \n",
       "4 1         notifications_arm_1 close_contacts            1                    \n",
       "5 1         notifications_arm_1 close_contacts            2                    \n",
       "6 2         personal_info_arm_1 NA                       NA                    \n",
       "  first_name last_name phone_num      zip_code dob        age ethnicity race\n",
       "1 John       Doe       (999) 999-9999 98105    2004-12-05 18   1         4  \n",
       "2 NA         NA        NA                NA    <NA>       NA  NA        NA  \n",
       "3 NA         NA        NA                NA    <NA>       NA  NA        NA  \n",
       "4 NA         NA        NA                NA    <NA>       NA  NA        NA  \n",
       "5 NA         NA        NA                NA    <NA>       NA  NA        NA  \n",
       "6 Jane       Doe       (999) 999-9999 98105    1995-06-29 28   0         5  \n",
       "  gender demographics_complete symptoms_yesno ... prior_covid_yesno\n",
       "1  1      2                    NA             ... NA               \n",
       "2 NA     NA                    NA             ... NA               \n",
       "3 NA      0                     1             ...  0               \n",
       "4 NA     NA                    NA             ... NA               \n",
       "5 NA     NA                    NA             ... NA               \n",
       "6  0      2                    NA             ... NA               \n",
       "  prior_covid_date test_information_complete cc_name          cc_date   \n",
       "1 <NA>             NA                        NA               <NA>      \n",
       "2 <NA>             NA                        NA               <NA>      \n",
       "3 <NA>              2                        NA               <NA>      \n",
       "4 <NA>             NA                        Jane Doe         2023-10-09\n",
       "5 <NA>             NA                        Johnny Appleseed 2023-10-08\n",
       "6 <NA>             NA                        NA               <NA>      \n",
       "  cc_phone       cc_email             close_contacts_complete supervisor_name\n",
       "1 NA             NA                   NA                      NA             \n",
       "2 NA             NA                   NA                      Boss           \n",
       "3 NA             NA                   NA                      NA             \n",
       "4 (999) 999-9999 fake_email@gmail.com  2                      NA             \n",
       "5 (999) 999-9999 fake_email@gmail.com  2                      NA             \n",
       "6 NA             NA                   NA                      NA             \n",
       "  supervisor_email work_inperson_yesno work_date work_contagious\n",
       "1 NA               NA                  <NA>      NA             \n",
       "2 NA                0                  <NA>       0             \n",
       "3 NA               NA                  <NA>      NA             \n",
       "4 NA               NA                  <NA>      NA             \n",
       "5 NA               NA                  <NA>      NA             \n",
       "6 NA               NA                  <NA>      NA             \n",
       "  work_contagious_calc work_information_complete\n",
       "1 NA                   NA                       \n",
       "2 NA                    2                       \n",
       "3 NA                   NA                       \n",
       "4 NA                   NA                       \n",
       "5 NA                   NA                       \n",
       "6 NA                   NA                       "
      ]
     },
     "metadata": {},
     "output_type": "display_data"
    }
   ],
   "source": [
    "record_subset_v2 <- Data %>% filter(record_id == 1 | record_id == 2)\n",
    "head(record_subset_v2)"
   ]
  },
  {
   "cell_type": "markdown",
   "id": "3ae50531-c20a-4315-975a-8ebb667ef284",
   "metadata": {
    "tags": []
   },
   "source": [
    "#### Filtering for Certain Fields of Data "
   ]
  },
  {
   "cell_type": "markdown",
   "id": "b29d6bb0-f7bc-4e2e-bf4e-f7bcebea3455",
   "metadata": {},
   "source": [
    "##### ex. Filter all exported data for name fields using R"
   ]
  },
  {
   "cell_type": "code",
   "execution_count": 147,
   "id": "cb6ec552-e17e-4112-9365-393781487092",
   "metadata": {
    "tags": []
   },
   "outputs": [
    {
     "data": {
      "text/html": [
       "<table class=\"dataframe\">\n",
       "<caption>A tibble: 6 × 3</caption>\n",
       "<thead>\n",
       "\t<tr><th scope=col>record_id</th><th scope=col>first_name</th><th scope=col>last_name</th></tr>\n",
       "\t<tr><th scope=col>&lt;dbl&gt;</th><th scope=col>&lt;chr&gt;</th><th scope=col>&lt;chr&gt;</th></tr>\n",
       "</thead>\n",
       "<tbody>\n",
       "\t<tr><td>1</td><td>John</td><td>Doe</td></tr>\n",
       "\t<tr><td>1</td><td>NA  </td><td>NA </td></tr>\n",
       "\t<tr><td>1</td><td>NA  </td><td>NA </td></tr>\n",
       "\t<tr><td>1</td><td>NA  </td><td>NA </td></tr>\n",
       "\t<tr><td>1</td><td>NA  </td><td>NA </td></tr>\n",
       "\t<tr><td>2</td><td>Jane</td><td>Doe</td></tr>\n",
       "</tbody>\n",
       "</table>\n"
      ],
      "text/latex": [
       "A tibble: 6 × 3\n",
       "\\begin{tabular}{lll}\n",
       " record\\_id & first\\_name & last\\_name\\\\\n",
       " <dbl> & <chr> & <chr>\\\\\n",
       "\\hline\n",
       "\t 1 & John & Doe\\\\\n",
       "\t 1 & NA   & NA \\\\\n",
       "\t 1 & NA   & NA \\\\\n",
       "\t 1 & NA   & NA \\\\\n",
       "\t 1 & NA   & NA \\\\\n",
       "\t 2 & Jane & Doe\\\\\n",
       "\\end{tabular}\n"
      ],
      "text/markdown": [
       "\n",
       "A tibble: 6 × 3\n",
       "\n",
       "| record_id &lt;dbl&gt; | first_name &lt;chr&gt; | last_name &lt;chr&gt; |\n",
       "|---|---|---|\n",
       "| 1 | John | Doe |\n",
       "| 1 | NA   | NA  |\n",
       "| 1 | NA   | NA  |\n",
       "| 1 | NA   | NA  |\n",
       "| 1 | NA   | NA  |\n",
       "| 2 | Jane | Doe |\n",
       "\n"
      ],
      "text/plain": [
       "  record_id first_name last_name\n",
       "1 1         John       Doe      \n",
       "2 1         NA         NA       \n",
       "3 1         NA         NA       \n",
       "4 1         NA         NA       \n",
       "5 1         NA         NA       \n",
       "6 2         Jane       Doe      "
      ]
     },
     "metadata": {},
     "output_type": "display_data"
    }
   ],
   "source": [
    "#selecting columns in R will only keep the columns explicity listed\n",
    "field_subset_v2 <- Data %>% select(\"record_id\",\"first_name\",\"last_name\")\n",
    "head(field_subset_v2)"
   ]
  },
  {
   "cell_type": "markdown",
   "id": "4e645496-49b6-496a-a34f-8cc479efe88d",
   "metadata": {
    "tags": []
   },
   "source": [
    "#### Filtering Data Based on Field Values"
   ]
  },
  {
   "cell_type": "markdown",
   "id": "6fbebc1b-a197-405d-88fb-75a629f1ed32",
   "metadata": {},
   "source": [
    "##### ex. Filter all exported data for female participants"
   ]
  },
  {
   "cell_type": "code",
   "execution_count": 34,
   "id": "1a38a466-ed43-411b-bfba-9d7fc1907c44",
   "metadata": {
    "tags": []
   },
   "outputs": [],
   "source": [
    "female_records <- Data_labeled %>% inner_join(Data %>% filter(gender == 0) %>% select(record_id), by = 'record_id')\n",
    "# or just \"female_records = Data %>% filter(gender == 0)\" if you only want the event where gender was defined. "
   ]
  },
  {
   "cell_type": "code",
   "execution_count": 35,
   "id": "8fe99c74-2d11-4136-850b-13907f4c2d80",
   "metadata": {
    "tags": []
   },
   "outputs": [
    {
     "data": {
      "text/html": [
       "<table class=\"dataframe\">\n",
       "<caption>A tibble: 6 × 50</caption>\n",
       "<thead>\n",
       "\t<tr><th scope=col>record_id</th><th scope=col>redcap_event_name</th><th scope=col>redcap_repeat_instrument</th><th scope=col>redcap_repeat_instance</th><th scope=col>first_name</th><th scope=col>last_name</th><th scope=col>phone_num</th><th scope=col>zip_code</th><th scope=col>dob</th><th scope=col>age</th><th scope=col>ethnicity</th><th scope=col>race</th><th scope=col>gender</th><th scope=col>demographics_complete</th><th scope=col>symptoms_yesno</th><th scope=col>...</th><th scope=col>test_information_complete</th><th scope=col>cc_name</th><th scope=col>cc_date</th><th scope=col>cc_phone</th><th scope=col>cc_email</th><th scope=col>close_contacts_complete</th><th scope=col>supervisor_name</th><th scope=col>supervisor_email</th><th scope=col>work_inperson_yesno</th><th scope=col>work_date</th><th scope=col>work_contagious</th><th scope=col>work_contagious_calc</th><th scope=col>work_information_complete</th><th scope=col>test_field</th><th scope=col>test_complete</th></tr>\n",
       "\t<tr><th scope=col>&lt;dbl&gt;</th><th scope=col>&lt;chr&gt;</th><th scope=col>&lt;chr&gt;</th><th scope=col>&lt;dbl&gt;</th><th scope=col>&lt;chr&gt;</th><th scope=col>&lt;chr&gt;</th><th scope=col>&lt;chr&gt;</th><th scope=col>&lt;dbl&gt;</th><th scope=col>&lt;date&gt;</th><th scope=col>&lt;dbl&gt;</th><th scope=col>&lt;chr&gt;</th><th scope=col>&lt;chr&gt;</th><th scope=col>&lt;chr&gt;</th><th scope=col>&lt;chr&gt;</th><th scope=col>&lt;chr&gt;</th><th scope=col>...</th><th scope=col>&lt;chr&gt;</th><th scope=col>&lt;chr&gt;</th><th scope=col>&lt;date&gt;</th><th scope=col>&lt;chr&gt;</th><th scope=col>&lt;chr&gt;</th><th scope=col>&lt;chr&gt;</th><th scope=col>&lt;chr&gt;</th><th scope=col>&lt;chr&gt;</th><th scope=col>&lt;chr&gt;</th><th scope=col>&lt;date&gt;</th><th scope=col>&lt;chr&gt;</th><th scope=col>&lt;lgl&gt;</th><th scope=col>&lt;chr&gt;</th><th scope=col>&lt;lgl&gt;</th><th scope=col>&lt;lgl&gt;</th></tr>\n",
       "</thead>\n",
       "<tbody>\n",
       "\t<tr><td>2</td><td>Personal Info</td><td>NA            </td><td>NA</td><td>Jane</td><td>Doe</td><td>(999) 999-9999</td><td>98105</td><td>1995-06-29</td><td>28</td><td>Hispanic or Latino</td><td>More Than One Race</td><td>Female</td><td>Complete  </td><td>NA </td><td>...</td><td>NA      </td><td>NA              </td><td>NA</td><td>NA            </td><td>NA                  </td><td>NA        </td><td>NA  </td><td>NA                  </td><td>NA </td><td>NA</td><td>NA </td><td>NA</td><td>NA      </td><td>NA</td><td>NA</td></tr>\n",
       "\t<tr><td>2</td><td>Notifications</td><td>NA            </td><td>NA</td><td>NA  </td><td>NA </td><td>NA            </td><td>   NA</td><td>NA</td><td>NA</td><td>NA                </td><td>NA                </td><td>NA    </td><td>NA        </td><td>NA </td><td>...</td><td>NA      </td><td>NA              </td><td>NA</td><td>NA            </td><td>NA                  </td><td>NA        </td><td>Boss</td><td>fake_email@gmail.com</td><td>Yes</td><td>2023-10-10</td><td>Yes</td><td>NA</td><td>Complete</td><td>NA</td><td>NA</td></tr>\n",
       "\t<tr><td>2</td><td>Case Intake  </td><td>NA            </td><td> 1</td><td>NA  </td><td>NA </td><td>NA            </td><td>   NA</td><td>NA</td><td>NA</td><td>NA                </td><td>NA                </td><td>NA    </td><td>Incomplete</td><td>Yes</td><td>...</td><td>Complete</td><td>NA              </td><td>NA</td><td>NA            </td><td>NA                  </td><td>NA        </td><td>NA  </td><td>NA                  </td><td>NA </td><td>NA</td><td>NA </td><td>NA</td><td>NA      </td><td>NA</td><td>NA</td></tr>\n",
       "\t<tr><td>2</td><td>Case Intake  </td><td>NA            </td><td> 2</td><td>NA  </td><td>NA </td><td>NA            </td><td>   NA</td><td>NA</td><td>NA</td><td>NA                </td><td>NA                </td><td>NA    </td><td>NA        </td><td>Yes</td><td>...</td><td>Complete</td><td>NA              </td><td>NA</td><td>NA            </td><td>NA                  </td><td>NA        </td><td>NA  </td><td>NA                  </td><td>NA </td><td>NA</td><td>NA </td><td>NA</td><td>NA      </td><td>NA</td><td>NA</td></tr>\n",
       "\t<tr><td>2</td><td>Notifications</td><td>Close Contacts</td><td> 1</td><td>NA  </td><td>NA </td><td>NA            </td><td>   NA</td><td>NA</td><td>NA</td><td>NA                </td><td>NA                </td><td>NA    </td><td>NA        </td><td>NA </td><td>...</td><td>NA      </td><td>Janine Doe      </td><td>2023-10-10</td><td>(999) 999-9999</td><td>fake_email@gmail.com</td><td>Complete  </td><td>NA  </td><td>NA                  </td><td>NA </td><td>NA</td><td>NA </td><td>NA</td><td>NA      </td><td>NA</td><td>NA</td></tr>\n",
       "\t<tr><td>2</td><td>Notifications</td><td>Close Contacts</td><td> 2</td><td>NA  </td><td>NA </td><td>NA            </td><td>   NA</td><td>NA</td><td>NA</td><td>NA                </td><td>NA                </td><td>NA    </td><td>NA        </td><td>NA </td><td>...</td><td>NA      </td><td>Johnny Appleseed</td><td>2023-10-11</td><td>(999) 999-9999</td><td>NA                  </td><td>Incomplete</td><td>NA  </td><td>NA                  </td><td>NA </td><td>NA</td><td>NA </td><td>NA</td><td>NA      </td><td>NA</td><td>NA</td></tr>\n",
       "</tbody>\n",
       "</table>\n"
      ],
      "text/latex": [
       "A tibble: 6 × 50\n",
       "\\begin{tabular}{lllllllllllllllllllllllllllllll}\n",
       " record\\_id & redcap\\_event\\_name & redcap\\_repeat\\_instrument & redcap\\_repeat\\_instance & first\\_name & last\\_name & phone\\_num & zip\\_code & dob & age & ethnicity & race & gender & demographics\\_complete & symptoms\\_yesno & ... & test\\_information\\_complete & cc\\_name & cc\\_date & cc\\_phone & cc\\_email & close\\_contacts\\_complete & supervisor\\_name & supervisor\\_email & work\\_inperson\\_yesno & work\\_date & work\\_contagious & work\\_contagious\\_calc & work\\_information\\_complete & test\\_field & test\\_complete\\\\\n",
       " <dbl> & <chr> & <chr> & <dbl> & <chr> & <chr> & <chr> & <dbl> & <date> & <dbl> & <chr> & <chr> & <chr> & <chr> & <chr> & ... & <chr> & <chr> & <date> & <chr> & <chr> & <chr> & <chr> & <chr> & <chr> & <date> & <chr> & <lgl> & <chr> & <lgl> & <lgl>\\\\\n",
       "\\hline\n",
       "\t 2 & Personal Info & NA             & NA & Jane & Doe & (999) 999-9999 & 98105 & 1995-06-29 & 28 & Hispanic or Latino & More Than One Race & Female & Complete   & NA  & ... & NA       & NA               & NA & NA             & NA                   & NA         & NA   & NA                   & NA  & NA & NA  & NA & NA       & NA & NA\\\\\n",
       "\t 2 & Notifications & NA             & NA & NA   & NA  & NA             &    NA & NA & NA & NA                 & NA                 & NA     & NA         & NA  & ... & NA       & NA               & NA & NA             & NA                   & NA         & Boss & fake\\_email@gmail.com & Yes & 2023-10-10 & Yes & NA & Complete & NA & NA\\\\\n",
       "\t 2 & Case Intake   & NA             &  1 & NA   & NA  & NA             &    NA & NA & NA & NA                 & NA                 & NA     & Incomplete & Yes & ... & Complete & NA               & NA & NA             & NA                   & NA         & NA   & NA                   & NA  & NA & NA  & NA & NA       & NA & NA\\\\\n",
       "\t 2 & Case Intake   & NA             &  2 & NA   & NA  & NA             &    NA & NA & NA & NA                 & NA                 & NA     & NA         & Yes & ... & Complete & NA               & NA & NA             & NA                   & NA         & NA   & NA                   & NA  & NA & NA  & NA & NA       & NA & NA\\\\\n",
       "\t 2 & Notifications & Close Contacts &  1 & NA   & NA  & NA             &    NA & NA & NA & NA                 & NA                 & NA     & NA         & NA  & ... & NA       & Janine Doe       & 2023-10-10 & (999) 999-9999 & fake\\_email@gmail.com & Complete   & NA   & NA                   & NA  & NA & NA  & NA & NA       & NA & NA\\\\\n",
       "\t 2 & Notifications & Close Contacts &  2 & NA   & NA  & NA             &    NA & NA & NA & NA                 & NA                 & NA     & NA         & NA  & ... & NA       & Johnny Appleseed & 2023-10-11 & (999) 999-9999 & NA                   & Incomplete & NA   & NA                   & NA  & NA & NA  & NA & NA       & NA & NA\\\\\n",
       "\\end{tabular}\n"
      ],
      "text/markdown": [
       "\n",
       "A tibble: 6 × 50\n",
       "\n",
       "| record_id &lt;dbl&gt; | redcap_event_name &lt;chr&gt; | redcap_repeat_instrument &lt;chr&gt; | redcap_repeat_instance &lt;dbl&gt; | first_name &lt;chr&gt; | last_name &lt;chr&gt; | phone_num &lt;chr&gt; | zip_code &lt;dbl&gt; | dob &lt;date&gt; | age &lt;dbl&gt; | ethnicity &lt;chr&gt; | race &lt;chr&gt; | gender &lt;chr&gt; | demographics_complete &lt;chr&gt; | symptoms_yesno &lt;chr&gt; | ... ... | test_information_complete &lt;chr&gt; | cc_name &lt;chr&gt; | cc_date &lt;date&gt; | cc_phone &lt;chr&gt; | cc_email &lt;chr&gt; | close_contacts_complete &lt;chr&gt; | supervisor_name &lt;chr&gt; | supervisor_email &lt;chr&gt; | work_inperson_yesno &lt;chr&gt; | work_date &lt;date&gt; | work_contagious &lt;chr&gt; | work_contagious_calc &lt;lgl&gt; | work_information_complete &lt;chr&gt; | test_field &lt;lgl&gt; | test_complete &lt;lgl&gt; |\n",
       "|---|---|---|---|---|---|---|---|---|---|---|---|---|---|---|---|---|---|---|---|---|---|---|---|---|---|---|---|---|---|---|\n",
       "| 2 | Personal Info | NA             | NA | Jane | Doe | (999) 999-9999 | 98105 | 1995-06-29 | 28 | Hispanic or Latino | More Than One Race | Female | Complete   | NA  | ... | NA       | NA               | NA | NA             | NA                   | NA         | NA   | NA                   | NA  | NA | NA  | NA | NA       | NA | NA |\n",
       "| 2 | Notifications | NA             | NA | NA   | NA  | NA             |    NA | NA | NA | NA                 | NA                 | NA     | NA         | NA  | ... | NA       | NA               | NA | NA             | NA                   | NA         | Boss | fake_email@gmail.com | Yes | 2023-10-10 | Yes | NA | Complete | NA | NA |\n",
       "| 2 | Case Intake   | NA             |  1 | NA   | NA  | NA             |    NA | NA | NA | NA                 | NA                 | NA     | Incomplete | Yes | ... | Complete | NA               | NA | NA             | NA                   | NA         | NA   | NA                   | NA  | NA | NA  | NA | NA       | NA | NA |\n",
       "| 2 | Case Intake   | NA             |  2 | NA   | NA  | NA             |    NA | NA | NA | NA                 | NA                 | NA     | NA         | Yes | ... | Complete | NA               | NA | NA             | NA                   | NA         | NA   | NA                   | NA  | NA | NA  | NA | NA       | NA | NA |\n",
       "| 2 | Notifications | Close Contacts |  1 | NA   | NA  | NA             |    NA | NA | NA | NA                 | NA                 | NA     | NA         | NA  | ... | NA       | Janine Doe       | 2023-10-10 | (999) 999-9999 | fake_email@gmail.com | Complete   | NA   | NA                   | NA  | NA | NA  | NA | NA       | NA | NA |\n",
       "| 2 | Notifications | Close Contacts |  2 | NA   | NA  | NA             |    NA | NA | NA | NA                 | NA                 | NA     | NA         | NA  | ... | NA       | Johnny Appleseed | 2023-10-11 | (999) 999-9999 | NA                   | Incomplete | NA   | NA                   | NA  | NA | NA  | NA | NA       | NA | NA |\n",
       "\n"
      ],
      "text/plain": [
       "  record_id redcap_event_name redcap_repeat_instrument redcap_repeat_instance\n",
       "1 2         Personal Info     NA                       NA                    \n",
       "2 2         Notifications     NA                       NA                    \n",
       "3 2         Case Intake       NA                        1                    \n",
       "4 2         Case Intake       NA                        2                    \n",
       "5 2         Notifications     Close Contacts            1                    \n",
       "6 2         Notifications     Close Contacts            2                    \n",
       "  first_name last_name phone_num      zip_code dob        age\n",
       "1 Jane       Doe       (999) 999-9999 98105    1995-06-29 28 \n",
       "2 NA         NA        NA                NA    <NA>       NA \n",
       "3 NA         NA        NA                NA    <NA>       NA \n",
       "4 NA         NA        NA                NA    <NA>       NA \n",
       "5 NA         NA        NA                NA    <NA>       NA \n",
       "6 NA         NA        NA                NA    <NA>       NA \n",
       "  ethnicity          race               gender demographics_complete\n",
       "1 Hispanic or Latino More Than One Race Female Complete             \n",
       "2 NA                 NA                 NA     NA                   \n",
       "3 NA                 NA                 NA     Incomplete           \n",
       "4 NA                 NA                 NA     NA                   \n",
       "5 NA                 NA                 NA     NA                   \n",
       "6 NA                 NA                 NA     NA                   \n",
       "  symptoms_yesno ... test_information_complete cc_name          cc_date   \n",
       "1 NA             ... NA                        NA               <NA>      \n",
       "2 NA             ... NA                        NA               <NA>      \n",
       "3 Yes            ... Complete                  NA               <NA>      \n",
       "4 Yes            ... Complete                  NA               <NA>      \n",
       "5 NA             ... NA                        Janine Doe       2023-10-10\n",
       "6 NA             ... NA                        Johnny Appleseed 2023-10-11\n",
       "  cc_phone       cc_email             close_contacts_complete supervisor_name\n",
       "1 NA             NA                   NA                      NA             \n",
       "2 NA             NA                   NA                      Boss           \n",
       "3 NA             NA                   NA                      NA             \n",
       "4 NA             NA                   NA                      NA             \n",
       "5 (999) 999-9999 fake_email@gmail.com Complete                NA             \n",
       "6 (999) 999-9999 NA                   Incomplete              NA             \n",
       "  supervisor_email     work_inperson_yesno work_date  work_contagious\n",
       "1 NA                   NA                  <NA>       NA             \n",
       "2 fake_email@gmail.com Yes                 2023-10-10 Yes            \n",
       "3 NA                   NA                  <NA>       NA             \n",
       "4 NA                   NA                  <NA>       NA             \n",
       "5 NA                   NA                  <NA>       NA             \n",
       "6 NA                   NA                  <NA>       NA             \n",
       "  work_contagious_calc work_information_complete test_field test_complete\n",
       "1 NA                   NA                        NA         NA           \n",
       "2 NA                   Complete                  NA         NA           \n",
       "3 NA                   NA                        NA         NA           \n",
       "4 NA                   NA                        NA         NA           \n",
       "5 NA                   NA                        NA         NA           \n",
       "6 NA                   NA                        NA         NA           "
      ]
     },
     "metadata": {},
     "output_type": "display_data"
    }
   ],
   "source": [
    "head(female_records)\n",
    "# now all records for females have been isolated including all events/instrument that participant filled out"
   ]
  },
  {
   "cell_type": "markdown",
   "id": "0cd115a5-df38-4578-b0ca-0946b875b50a",
   "metadata": {},
   "source": [
    "#### Export Specific Instruments"
   ]
  },
  {
   "cell_type": "markdown",
   "id": "089ba07a-57f6-446c-a1fe-974330230576",
   "metadata": {},
   "source": [
    "##### ex. Filter rows for the event where 'Symptoms' instrument is complete (in the case_instake_arm_1 event)"
   ]
  },
  {
   "cell_type": "code",
   "execution_count": 36,
   "id": "5bb5e0ed-d04c-427b-932b-11027ad7d039",
   "metadata": {
    "tags": []
   },
   "outputs": [],
   "source": [
    "symptoms_wrapper_final <- Data %>% filter(!is.na(symptoms_complete))"
   ]
  },
  {
   "cell_type": "code",
   "execution_count": 37,
   "id": "5f5ddebb-ba63-426b-a6c3-302887e47daa",
   "metadata": {
    "tags": []
   },
   "outputs": [
    {
     "data": {
      "text/html": [
       "<table class=\"dataframe\">\n",
       "<caption>A spec_tbl_df: 7 × 50</caption>\n",
       "<thead>\n",
       "\t<tr><th scope=col>record_id</th><th scope=col>redcap_event_name</th><th scope=col>redcap_repeat_instrument</th><th scope=col>redcap_repeat_instance</th><th scope=col>first_name</th><th scope=col>last_name</th><th scope=col>phone_num</th><th scope=col>zip_code</th><th scope=col>dob</th><th scope=col>age</th><th scope=col>ethnicity</th><th scope=col>race</th><th scope=col>gender</th><th scope=col>demographics_complete</th><th scope=col>symptoms_yesno</th><th scope=col>...</th><th scope=col>test_information_complete</th><th scope=col>cc_name</th><th scope=col>cc_date</th><th scope=col>cc_phone</th><th scope=col>cc_email</th><th scope=col>close_contacts_complete</th><th scope=col>supervisor_name</th><th scope=col>supervisor_email</th><th scope=col>work_inperson_yesno</th><th scope=col>work_date</th><th scope=col>work_contagious</th><th scope=col>work_contagious_calc</th><th scope=col>work_information_complete</th><th scope=col>test_field</th><th scope=col>test_complete</th></tr>\n",
       "\t<tr><th scope=col>&lt;dbl&gt;</th><th scope=col>&lt;chr&gt;</th><th scope=col>&lt;chr&gt;</th><th scope=col>&lt;dbl&gt;</th><th scope=col>&lt;chr&gt;</th><th scope=col>&lt;chr&gt;</th><th scope=col>&lt;chr&gt;</th><th scope=col>&lt;dbl&gt;</th><th scope=col>&lt;date&gt;</th><th scope=col>&lt;dbl&gt;</th><th scope=col>&lt;dbl&gt;</th><th scope=col>&lt;dbl&gt;</th><th scope=col>&lt;dbl&gt;</th><th scope=col>&lt;dbl&gt;</th><th scope=col>&lt;dbl&gt;</th><th scope=col>...</th><th scope=col>&lt;dbl&gt;</th><th scope=col>&lt;chr&gt;</th><th scope=col>&lt;date&gt;</th><th scope=col>&lt;chr&gt;</th><th scope=col>&lt;chr&gt;</th><th scope=col>&lt;dbl&gt;</th><th scope=col>&lt;chr&gt;</th><th scope=col>&lt;chr&gt;</th><th scope=col>&lt;dbl&gt;</th><th scope=col>&lt;date&gt;</th><th scope=col>&lt;dbl&gt;</th><th scope=col>&lt;lgl&gt;</th><th scope=col>&lt;dbl&gt;</th><th scope=col>&lt;lgl&gt;</th><th scope=col>&lt;lgl&gt;</th></tr>\n",
       "</thead>\n",
       "<tbody>\n",
       "\t<tr><td>1</td><td>case_intake_arm_1</td><td>NA</td><td>1</td><td>NA</td><td>NA</td><td>NA</td><td>NA</td><td>NA</td><td>NA</td><td>NA</td><td>NA</td><td>NA</td><td> 0</td><td> 1</td><td>...</td><td>2</td><td>NA</td><td>NA</td><td>NA</td><td>NA</td><td>NA</td><td>NA</td><td>NA</td><td>NA</td><td>NA</td><td>NA</td><td>NA</td><td>NA</td><td>NA</td><td>NA</td></tr>\n",
       "\t<tr><td>2</td><td>case_intake_arm_1</td><td>NA</td><td>1</td><td>NA</td><td>NA</td><td>NA</td><td>NA</td><td>NA</td><td>NA</td><td>NA</td><td>NA</td><td>NA</td><td> 0</td><td> 1</td><td>...</td><td>2</td><td>NA</td><td>NA</td><td>NA</td><td>NA</td><td>NA</td><td>NA</td><td>NA</td><td>NA</td><td>NA</td><td>NA</td><td>NA</td><td>NA</td><td>NA</td><td>NA</td></tr>\n",
       "\t<tr><td>2</td><td>case_intake_arm_1</td><td>NA</td><td>2</td><td>NA</td><td>NA</td><td>NA</td><td>NA</td><td>NA</td><td>NA</td><td>NA</td><td>NA</td><td>NA</td><td>NA</td><td> 1</td><td>...</td><td>2</td><td>NA</td><td>NA</td><td>NA</td><td>NA</td><td>NA</td><td>NA</td><td>NA</td><td>NA</td><td>NA</td><td>NA</td><td>NA</td><td>NA</td><td>NA</td><td>NA</td></tr>\n",
       "\t<tr><td>3</td><td>case_intake_arm_1</td><td>NA</td><td>1</td><td>NA</td><td>NA</td><td>NA</td><td>NA</td><td>NA</td><td>NA</td><td>NA</td><td>NA</td><td>NA</td><td> 0</td><td> 1</td><td>...</td><td>2</td><td>NA</td><td>NA</td><td>NA</td><td>NA</td><td>NA</td><td>NA</td><td>NA</td><td>NA</td><td>NA</td><td>NA</td><td>NA</td><td>NA</td><td>NA</td><td>NA</td></tr>\n",
       "\t<tr><td>4</td><td>case_intake_arm_1</td><td>NA</td><td>1</td><td>NA</td><td>NA</td><td>NA</td><td>NA</td><td>NA</td><td>NA</td><td>NA</td><td>NA</td><td>NA</td><td> 0</td><td> 1</td><td>...</td><td>2</td><td>NA</td><td>NA</td><td>NA</td><td>NA</td><td>NA</td><td>NA</td><td>NA</td><td>NA</td><td>NA</td><td>NA</td><td>NA</td><td>NA</td><td>NA</td><td>NA</td></tr>\n",
       "\t<tr><td>5</td><td>case_intake_arm_1</td><td>NA</td><td>1</td><td>NA</td><td>NA</td><td>NA</td><td>NA</td><td>NA</td><td>NA</td><td>NA</td><td>NA</td><td>NA</td><td>NA</td><td> 0</td><td>...</td><td>2</td><td>NA</td><td>NA</td><td>NA</td><td>NA</td><td>NA</td><td>NA</td><td>NA</td><td>NA</td><td>NA</td><td>NA</td><td>NA</td><td>NA</td><td>NA</td><td>NA</td></tr>\n",
       "\t<tr><td>6</td><td>case_intake_arm_1</td><td>NA</td><td>1</td><td>NA</td><td>NA</td><td>NA</td><td>NA</td><td>NA</td><td>NA</td><td>NA</td><td>NA</td><td>NA</td><td>NA</td><td>NA</td><td>...</td><td>2</td><td>NA</td><td>NA</td><td>NA</td><td>NA</td><td>NA</td><td>NA</td><td>NA</td><td>NA</td><td>NA</td><td>NA</td><td>NA</td><td>NA</td><td>NA</td><td>NA</td></tr>\n",
       "</tbody>\n",
       "</table>\n"
      ],
      "text/latex": [
       "A spec\\_tbl\\_df: 7 × 50\n",
       "\\begin{tabular}{lllllllllllllllllllllllllllllll}\n",
       " record\\_id & redcap\\_event\\_name & redcap\\_repeat\\_instrument & redcap\\_repeat\\_instance & first\\_name & last\\_name & phone\\_num & zip\\_code & dob & age & ethnicity & race & gender & demographics\\_complete & symptoms\\_yesno & ... & test\\_information\\_complete & cc\\_name & cc\\_date & cc\\_phone & cc\\_email & close\\_contacts\\_complete & supervisor\\_name & supervisor\\_email & work\\_inperson\\_yesno & work\\_date & work\\_contagious & work\\_contagious\\_calc & work\\_information\\_complete & test\\_field & test\\_complete\\\\\n",
       " <dbl> & <chr> & <chr> & <dbl> & <chr> & <chr> & <chr> & <dbl> & <date> & <dbl> & <dbl> & <dbl> & <dbl> & <dbl> & <dbl> & ... & <dbl> & <chr> & <date> & <chr> & <chr> & <dbl> & <chr> & <chr> & <dbl> & <date> & <dbl> & <lgl> & <dbl> & <lgl> & <lgl>\\\\\n",
       "\\hline\n",
       "\t 1 & case\\_intake\\_arm\\_1 & NA & 1 & NA & NA & NA & NA & NA & NA & NA & NA & NA &  0 &  1 & ... & 2 & NA & NA & NA & NA & NA & NA & NA & NA & NA & NA & NA & NA & NA & NA\\\\\n",
       "\t 2 & case\\_intake\\_arm\\_1 & NA & 1 & NA & NA & NA & NA & NA & NA & NA & NA & NA &  0 &  1 & ... & 2 & NA & NA & NA & NA & NA & NA & NA & NA & NA & NA & NA & NA & NA & NA\\\\\n",
       "\t 2 & case\\_intake\\_arm\\_1 & NA & 2 & NA & NA & NA & NA & NA & NA & NA & NA & NA & NA &  1 & ... & 2 & NA & NA & NA & NA & NA & NA & NA & NA & NA & NA & NA & NA & NA & NA\\\\\n",
       "\t 3 & case\\_intake\\_arm\\_1 & NA & 1 & NA & NA & NA & NA & NA & NA & NA & NA & NA &  0 &  1 & ... & 2 & NA & NA & NA & NA & NA & NA & NA & NA & NA & NA & NA & NA & NA & NA\\\\\n",
       "\t 4 & case\\_intake\\_arm\\_1 & NA & 1 & NA & NA & NA & NA & NA & NA & NA & NA & NA &  0 &  1 & ... & 2 & NA & NA & NA & NA & NA & NA & NA & NA & NA & NA & NA & NA & NA & NA\\\\\n",
       "\t 5 & case\\_intake\\_arm\\_1 & NA & 1 & NA & NA & NA & NA & NA & NA & NA & NA & NA & NA &  0 & ... & 2 & NA & NA & NA & NA & NA & NA & NA & NA & NA & NA & NA & NA & NA & NA\\\\\n",
       "\t 6 & case\\_intake\\_arm\\_1 & NA & 1 & NA & NA & NA & NA & NA & NA & NA & NA & NA & NA & NA & ... & 2 & NA & NA & NA & NA & NA & NA & NA & NA & NA & NA & NA & NA & NA & NA\\\\\n",
       "\\end{tabular}\n"
      ],
      "text/markdown": [
       "\n",
       "A spec_tbl_df: 7 × 50\n",
       "\n",
       "| record_id &lt;dbl&gt; | redcap_event_name &lt;chr&gt; | redcap_repeat_instrument &lt;chr&gt; | redcap_repeat_instance &lt;dbl&gt; | first_name &lt;chr&gt; | last_name &lt;chr&gt; | phone_num &lt;chr&gt; | zip_code &lt;dbl&gt; | dob &lt;date&gt; | age &lt;dbl&gt; | ethnicity &lt;dbl&gt; | race &lt;dbl&gt; | gender &lt;dbl&gt; | demographics_complete &lt;dbl&gt; | symptoms_yesno &lt;dbl&gt; | ... ... | test_information_complete &lt;dbl&gt; | cc_name &lt;chr&gt; | cc_date &lt;date&gt; | cc_phone &lt;chr&gt; | cc_email &lt;chr&gt; | close_contacts_complete &lt;dbl&gt; | supervisor_name &lt;chr&gt; | supervisor_email &lt;chr&gt; | work_inperson_yesno &lt;dbl&gt; | work_date &lt;date&gt; | work_contagious &lt;dbl&gt; | work_contagious_calc &lt;lgl&gt; | work_information_complete &lt;dbl&gt; | test_field &lt;lgl&gt; | test_complete &lt;lgl&gt; |\n",
       "|---|---|---|---|---|---|---|---|---|---|---|---|---|---|---|---|---|---|---|---|---|---|---|---|---|---|---|---|---|---|---|\n",
       "| 1 | case_intake_arm_1 | NA | 1 | NA | NA | NA | NA | NA | NA | NA | NA | NA |  0 |  1 | ... | 2 | NA | NA | NA | NA | NA | NA | NA | NA | NA | NA | NA | NA | NA | NA |\n",
       "| 2 | case_intake_arm_1 | NA | 1 | NA | NA | NA | NA | NA | NA | NA | NA | NA |  0 |  1 | ... | 2 | NA | NA | NA | NA | NA | NA | NA | NA | NA | NA | NA | NA | NA | NA |\n",
       "| 2 | case_intake_arm_1 | NA | 2 | NA | NA | NA | NA | NA | NA | NA | NA | NA | NA |  1 | ... | 2 | NA | NA | NA | NA | NA | NA | NA | NA | NA | NA | NA | NA | NA | NA |\n",
       "| 3 | case_intake_arm_1 | NA | 1 | NA | NA | NA | NA | NA | NA | NA | NA | NA |  0 |  1 | ... | 2 | NA | NA | NA | NA | NA | NA | NA | NA | NA | NA | NA | NA | NA | NA |\n",
       "| 4 | case_intake_arm_1 | NA | 1 | NA | NA | NA | NA | NA | NA | NA | NA | NA |  0 |  1 | ... | 2 | NA | NA | NA | NA | NA | NA | NA | NA | NA | NA | NA | NA | NA | NA |\n",
       "| 5 | case_intake_arm_1 | NA | 1 | NA | NA | NA | NA | NA | NA | NA | NA | NA | NA |  0 | ... | 2 | NA | NA | NA | NA | NA | NA | NA | NA | NA | NA | NA | NA | NA | NA |\n",
       "| 6 | case_intake_arm_1 | NA | 1 | NA | NA | NA | NA | NA | NA | NA | NA | NA | NA | NA | ... | 2 | NA | NA | NA | NA | NA | NA | NA | NA | NA | NA | NA | NA | NA | NA |\n",
       "\n"
      ],
      "text/plain": [
       "  record_id redcap_event_name redcap_repeat_instrument redcap_repeat_instance\n",
       "1 1         case_intake_arm_1 NA                       1                     \n",
       "2 2         case_intake_arm_1 NA                       1                     \n",
       "3 2         case_intake_arm_1 NA                       2                     \n",
       "4 3         case_intake_arm_1 NA                       1                     \n",
       "5 4         case_intake_arm_1 NA                       1                     \n",
       "6 5         case_intake_arm_1 NA                       1                     \n",
       "7 6         case_intake_arm_1 NA                       1                     \n",
       "  first_name last_name phone_num zip_code dob  age ethnicity race gender\n",
       "1 NA         NA        NA        NA       <NA> NA  NA        NA   NA    \n",
       "2 NA         NA        NA        NA       <NA> NA  NA        NA   NA    \n",
       "3 NA         NA        NA        NA       <NA> NA  NA        NA   NA    \n",
       "4 NA         NA        NA        NA       <NA> NA  NA        NA   NA    \n",
       "5 NA         NA        NA        NA       <NA> NA  NA        NA   NA    \n",
       "6 NA         NA        NA        NA       <NA> NA  NA        NA   NA    \n",
       "7 NA         NA        NA        NA       <NA> NA  NA        NA   NA    \n",
       "  demographics_complete symptoms_yesno ... test_information_complete cc_name\n",
       "1  0                     1             ... 2                         NA     \n",
       "2  0                     1             ... 2                         NA     \n",
       "3 NA                     1             ... 2                         NA     \n",
       "4  0                     1             ... 2                         NA     \n",
       "5  0                     1             ... 2                         NA     \n",
       "6 NA                     0             ... 2                         NA     \n",
       "7 NA                    NA             ... 2                         NA     \n",
       "  cc_date cc_phone cc_email close_contacts_complete supervisor_name\n",
       "1 <NA>    NA       NA       NA                      NA             \n",
       "2 <NA>    NA       NA       NA                      NA             \n",
       "3 <NA>    NA       NA       NA                      NA             \n",
       "4 <NA>    NA       NA       NA                      NA             \n",
       "5 <NA>    NA       NA       NA                      NA             \n",
       "6 <NA>    NA       NA       NA                      NA             \n",
       "7 <NA>    NA       NA       NA                      NA             \n",
       "  supervisor_email work_inperson_yesno work_date work_contagious\n",
       "1 NA               NA                  <NA>      NA             \n",
       "2 NA               NA                  <NA>      NA             \n",
       "3 NA               NA                  <NA>      NA             \n",
       "4 NA               NA                  <NA>      NA             \n",
       "5 NA               NA                  <NA>      NA             \n",
       "6 NA               NA                  <NA>      NA             \n",
       "7 NA               NA                  <NA>      NA             \n",
       "  work_contagious_calc work_information_complete test_field test_complete\n",
       "1 NA                   NA                        NA         NA           \n",
       "2 NA                   NA                        NA         NA           \n",
       "3 NA                   NA                        NA         NA           \n",
       "4 NA                   NA                        NA         NA           \n",
       "5 NA                   NA                        NA         NA           \n",
       "6 NA                   NA                        NA         NA           \n",
       "7 NA                   NA                        NA         NA           "
      ]
     },
     "metadata": {},
     "output_type": "display_data"
    }
   ],
   "source": [
    "symptoms_wrapper_final"
   ]
  },
  {
   "cell_type": "markdown",
   "id": "76975993-c16d-4ed5-b37e-78aefbb7a562",
   "metadata": {
    "tags": []
   },
   "source": [
    "## Other Functions for Exporting REDCap Records"
   ]
  },
  {
   "cell_type": "markdown",
   "id": "6a83d431-e230-486b-87ab-ad3f3cac5dbe",
   "metadata": {},
   "source": [
    "This Reference Class represents a REDCap project. Once some values are set that are specific to a REDCap project (such as the URI and token), later calls are less verbose (such as reading and writing data). [(Source)](https://cran.r-project.org/web/packages/REDCapR/REDCapR.pdf)"
   ]
  },
  {
   "cell_type": "code",
   "execution_count": 148,
   "id": "c67e41de-f92f-4dad-9d3e-e609af9add3e",
   "metadata": {
    "tags": []
   },
   "outputs": [
    {
     "name": "stderr",
     "output_type": "stream",
     "text": [
      "44 variable metadata records were read from REDCap in 0.4 seconds.  The http status code was 200.\n",
      "\n",
      "The data dictionary describing 30 fields was read from REDCap in 0.2 seconds.  The http status code was 200.\n",
      "\n",
      "5 instrument metadata records were read from REDCap in 0.2 seconds.  The http status code was 200.\n",
      "\n",
      "1 rows were read from REDCap in 0.2 seconds.  The http status code was 200.\n",
      "\n",
      "1 data access groups were read from REDCap in 0.2 seconds.  The http status code was 200.\n",
      "\n",
      "20 records and 4 columns were read from REDCap in 0.3 seconds.  The http status code was 200.\n",
      "\n",
      "Starting to read 6 records  at 2024-01-09 16:51:50.\n",
      "\n",
      "Reading batch 1 of 1, with subjects 1 through 6 (ie, 6 unique subject records).\n",
      "\n",
      "31 records and 48 columns were read from REDCap in 0.2 seconds.  The http status code was 200.\n",
      "\n"
     ]
    }
   ],
   "source": [
    "project <- REDCapR::redcap_project$new(redcap_uri=url, token=token)\n",
    "ds_all <- project$read()"
   ]
  },
  {
   "cell_type": "code",
   "execution_count": 149,
   "id": "479a65b1-438d-41a3-8052-151a9c921ba5",
   "metadata": {
    "tags": []
   },
   "outputs": [
    {
     "data": {
      "text/html": [
       "<table class=\"dataframe\">\n",
       "<caption>A tibble: 6 × 48</caption>\n",
       "<thead>\n",
       "\t<tr><th scope=col>record_id</th><th scope=col>redcap_event_name</th><th scope=col>redcap_repeat_instrument</th><th scope=col>redcap_repeat_instance</th><th scope=col>first_name</th><th scope=col>last_name</th><th scope=col>phone_num</th><th scope=col>zip_code</th><th scope=col>dob</th><th scope=col>age</th><th scope=col>ethnicity</th><th scope=col>race</th><th scope=col>gender</th><th scope=col>demographics_complete</th><th scope=col>symptoms_yesno</th><th scope=col>...</th><th scope=col>prior_covid_yesno</th><th scope=col>prior_covid_date</th><th scope=col>test_information_complete</th><th scope=col>cc_name</th><th scope=col>cc_date</th><th scope=col>cc_phone</th><th scope=col>cc_email</th><th scope=col>close_contacts_complete</th><th scope=col>supervisor_name</th><th scope=col>supervisor_email</th><th scope=col>work_inperson_yesno</th><th scope=col>work_date</th><th scope=col>work_contagious</th><th scope=col>work_contagious_calc</th><th scope=col>work_information_complete</th></tr>\n",
       "\t<tr><th scope=col>&lt;dbl&gt;</th><th scope=col>&lt;chr&gt;</th><th scope=col>&lt;chr&gt;</th><th scope=col>&lt;dbl&gt;</th><th scope=col>&lt;chr&gt;</th><th scope=col>&lt;chr&gt;</th><th scope=col>&lt;chr&gt;</th><th scope=col>&lt;dbl&gt;</th><th scope=col>&lt;date&gt;</th><th scope=col>&lt;dbl&gt;</th><th scope=col>&lt;dbl&gt;</th><th scope=col>&lt;dbl&gt;</th><th scope=col>&lt;dbl&gt;</th><th scope=col>&lt;dbl&gt;</th><th scope=col>&lt;dbl&gt;</th><th scope=col>...</th><th scope=col>&lt;dbl&gt;</th><th scope=col>&lt;date&gt;</th><th scope=col>&lt;dbl&gt;</th><th scope=col>&lt;chr&gt;</th><th scope=col>&lt;date&gt;</th><th scope=col>&lt;chr&gt;</th><th scope=col>&lt;chr&gt;</th><th scope=col>&lt;dbl&gt;</th><th scope=col>&lt;chr&gt;</th><th scope=col>&lt;chr&gt;</th><th scope=col>&lt;dbl&gt;</th><th scope=col>&lt;date&gt;</th><th scope=col>&lt;dbl&gt;</th><th scope=col>&lt;lgl&gt;</th><th scope=col>&lt;dbl&gt;</th></tr>\n",
       "</thead>\n",
       "<tbody>\n",
       "\t<tr><td>1</td><td>personal_info_arm_1</td><td>NA            </td><td>NA</td><td>John</td><td>Doe</td><td>(999) 999-9999</td><td>98105</td><td>2004-12-05</td><td>18</td><td> 1</td><td> 4</td><td> 1</td><td> 2</td><td>NA</td><td>...</td><td>NA</td><td>NA</td><td>NA</td><td>NA              </td><td>NA</td><td>NA            </td><td>NA                  </td><td>NA</td><td>NA  </td><td>NA</td><td>NA</td><td>NA</td><td>NA</td><td>NA</td><td>NA</td></tr>\n",
       "\t<tr><td>1</td><td>notifications_arm_1</td><td>NA            </td><td>NA</td><td>NA  </td><td>NA </td><td>NA            </td><td>   NA</td><td>NA</td><td>NA</td><td>NA</td><td>NA</td><td>NA</td><td>NA</td><td>NA</td><td>...</td><td>NA</td><td>NA</td><td>NA</td><td>NA              </td><td>NA</td><td>NA            </td><td>NA                  </td><td>NA</td><td>Boss</td><td>NA</td><td> 0</td><td>NA</td><td> 0</td><td>NA</td><td> 2</td></tr>\n",
       "\t<tr><td>1</td><td>case_intake_arm_1  </td><td>NA            </td><td> 1</td><td>NA  </td><td>NA </td><td>NA            </td><td>   NA</td><td>NA</td><td>NA</td><td>NA</td><td>NA</td><td>NA</td><td> 0</td><td> 1</td><td>...</td><td> 0</td><td>NA</td><td> 2</td><td>NA              </td><td>NA</td><td>NA            </td><td>NA                  </td><td>NA</td><td>NA  </td><td>NA</td><td>NA</td><td>NA</td><td>NA</td><td>NA</td><td>NA</td></tr>\n",
       "\t<tr><td>1</td><td>notifications_arm_1</td><td>close_contacts</td><td> 1</td><td>NA  </td><td>NA </td><td>NA            </td><td>   NA</td><td>NA</td><td>NA</td><td>NA</td><td>NA</td><td>NA</td><td>NA</td><td>NA</td><td>...</td><td>NA</td><td>NA</td><td>NA</td><td>Jane Doe        </td><td>2023-10-09</td><td>(999) 999-9999</td><td>fake_email@gmail.com</td><td> 2</td><td>NA  </td><td>NA</td><td>NA</td><td>NA</td><td>NA</td><td>NA</td><td>NA</td></tr>\n",
       "\t<tr><td>1</td><td>notifications_arm_1</td><td>close_contacts</td><td> 2</td><td>NA  </td><td>NA </td><td>NA            </td><td>   NA</td><td>NA</td><td>NA</td><td>NA</td><td>NA</td><td>NA</td><td>NA</td><td>NA</td><td>...</td><td>NA</td><td>NA</td><td>NA</td><td>Johnny Appleseed</td><td>2023-10-08</td><td>(999) 999-9999</td><td>fake_email@gmail.com</td><td> 2</td><td>NA  </td><td>NA</td><td>NA</td><td>NA</td><td>NA</td><td>NA</td><td>NA</td></tr>\n",
       "\t<tr><td>2</td><td>personal_info_arm_1</td><td>NA            </td><td>NA</td><td>Jane</td><td>Doe</td><td>(999) 999-9999</td><td>98105</td><td>1995-06-29</td><td>28</td><td> 0</td><td> 5</td><td> 0</td><td> 2</td><td>NA</td><td>...</td><td>NA</td><td>NA</td><td>NA</td><td>NA              </td><td>NA</td><td>NA            </td><td>NA                  </td><td>NA</td><td>NA  </td><td>NA</td><td>NA</td><td>NA</td><td>NA</td><td>NA</td><td>NA</td></tr>\n",
       "</tbody>\n",
       "</table>\n"
      ],
      "text/latex": [
       "A tibble: 6 × 48\n",
       "\\begin{tabular}{lllllllllllllllllllllllllllllll}\n",
       " record\\_id & redcap\\_event\\_name & redcap\\_repeat\\_instrument & redcap\\_repeat\\_instance & first\\_name & last\\_name & phone\\_num & zip\\_code & dob & age & ethnicity & race & gender & demographics\\_complete & symptoms\\_yesno & ... & prior\\_covid\\_yesno & prior\\_covid\\_date & test\\_information\\_complete & cc\\_name & cc\\_date & cc\\_phone & cc\\_email & close\\_contacts\\_complete & supervisor\\_name & supervisor\\_email & work\\_inperson\\_yesno & work\\_date & work\\_contagious & work\\_contagious\\_calc & work\\_information\\_complete\\\\\n",
       " <dbl> & <chr> & <chr> & <dbl> & <chr> & <chr> & <chr> & <dbl> & <date> & <dbl> & <dbl> & <dbl> & <dbl> & <dbl> & <dbl> & ... & <dbl> & <date> & <dbl> & <chr> & <date> & <chr> & <chr> & <dbl> & <chr> & <chr> & <dbl> & <date> & <dbl> & <lgl> & <dbl>\\\\\n",
       "\\hline\n",
       "\t 1 & personal\\_info\\_arm\\_1 & NA             & NA & John & Doe & (999) 999-9999 & 98105 & 2004-12-05 & 18 &  1 &  4 &  1 &  2 & NA & ... & NA & NA & NA & NA               & NA & NA             & NA                   & NA & NA   & NA & NA & NA & NA & NA & NA\\\\\n",
       "\t 1 & notifications\\_arm\\_1 & NA             & NA & NA   & NA  & NA             &    NA & NA & NA & NA & NA & NA & NA & NA & ... & NA & NA & NA & NA               & NA & NA             & NA                   & NA & Boss & NA &  0 & NA &  0 & NA &  2\\\\\n",
       "\t 1 & case\\_intake\\_arm\\_1   & NA             &  1 & NA   & NA  & NA             &    NA & NA & NA & NA & NA & NA &  0 &  1 & ... &  0 & NA &  2 & NA               & NA & NA             & NA                   & NA & NA   & NA & NA & NA & NA & NA & NA\\\\\n",
       "\t 1 & notifications\\_arm\\_1 & close\\_contacts &  1 & NA   & NA  & NA             &    NA & NA & NA & NA & NA & NA & NA & NA & ... & NA & NA & NA & Jane Doe         & 2023-10-09 & (999) 999-9999 & fake\\_email@gmail.com &  2 & NA   & NA & NA & NA & NA & NA & NA\\\\\n",
       "\t 1 & notifications\\_arm\\_1 & close\\_contacts &  2 & NA   & NA  & NA             &    NA & NA & NA & NA & NA & NA & NA & NA & ... & NA & NA & NA & Johnny Appleseed & 2023-10-08 & (999) 999-9999 & fake\\_email@gmail.com &  2 & NA   & NA & NA & NA & NA & NA & NA\\\\\n",
       "\t 2 & personal\\_info\\_arm\\_1 & NA             & NA & Jane & Doe & (999) 999-9999 & 98105 & 1995-06-29 & 28 &  0 &  5 &  0 &  2 & NA & ... & NA & NA & NA & NA               & NA & NA             & NA                   & NA & NA   & NA & NA & NA & NA & NA & NA\\\\\n",
       "\\end{tabular}\n"
      ],
      "text/markdown": [
       "\n",
       "A tibble: 6 × 48\n",
       "\n",
       "| record_id &lt;dbl&gt; | redcap_event_name &lt;chr&gt; | redcap_repeat_instrument &lt;chr&gt; | redcap_repeat_instance &lt;dbl&gt; | first_name &lt;chr&gt; | last_name &lt;chr&gt; | phone_num &lt;chr&gt; | zip_code &lt;dbl&gt; | dob &lt;date&gt; | age &lt;dbl&gt; | ethnicity &lt;dbl&gt; | race &lt;dbl&gt; | gender &lt;dbl&gt; | demographics_complete &lt;dbl&gt; | symptoms_yesno &lt;dbl&gt; | ... ... | prior_covid_yesno &lt;dbl&gt; | prior_covid_date &lt;date&gt; | test_information_complete &lt;dbl&gt; | cc_name &lt;chr&gt; | cc_date &lt;date&gt; | cc_phone &lt;chr&gt; | cc_email &lt;chr&gt; | close_contacts_complete &lt;dbl&gt; | supervisor_name &lt;chr&gt; | supervisor_email &lt;chr&gt; | work_inperson_yesno &lt;dbl&gt; | work_date &lt;date&gt; | work_contagious &lt;dbl&gt; | work_contagious_calc &lt;lgl&gt; | work_information_complete &lt;dbl&gt; |\n",
       "|---|---|---|---|---|---|---|---|---|---|---|---|---|---|---|---|---|---|---|---|---|---|---|---|---|---|---|---|---|---|---|\n",
       "| 1 | personal_info_arm_1 | NA             | NA | John | Doe | (999) 999-9999 | 98105 | 2004-12-05 | 18 |  1 |  4 |  1 |  2 | NA | ... | NA | NA | NA | NA               | NA | NA             | NA                   | NA | NA   | NA | NA | NA | NA | NA | NA |\n",
       "| 1 | notifications_arm_1 | NA             | NA | NA   | NA  | NA             |    NA | NA | NA | NA | NA | NA | NA | NA | ... | NA | NA | NA | NA               | NA | NA             | NA                   | NA | Boss | NA |  0 | NA |  0 | NA |  2 |\n",
       "| 1 | case_intake_arm_1   | NA             |  1 | NA   | NA  | NA             |    NA | NA | NA | NA | NA | NA |  0 |  1 | ... |  0 | NA |  2 | NA               | NA | NA             | NA                   | NA | NA   | NA | NA | NA | NA | NA | NA |\n",
       "| 1 | notifications_arm_1 | close_contacts |  1 | NA   | NA  | NA             |    NA | NA | NA | NA | NA | NA | NA | NA | ... | NA | NA | NA | Jane Doe         | 2023-10-09 | (999) 999-9999 | fake_email@gmail.com |  2 | NA   | NA | NA | NA | NA | NA | NA |\n",
       "| 1 | notifications_arm_1 | close_contacts |  2 | NA   | NA  | NA             |    NA | NA | NA | NA | NA | NA | NA | NA | ... | NA | NA | NA | Johnny Appleseed | 2023-10-08 | (999) 999-9999 | fake_email@gmail.com |  2 | NA   | NA | NA | NA | NA | NA | NA |\n",
       "| 2 | personal_info_arm_1 | NA             | NA | Jane | Doe | (999) 999-9999 | 98105 | 1995-06-29 | 28 |  0 |  5 |  0 |  2 | NA | ... | NA | NA | NA | NA               | NA | NA             | NA                   | NA | NA   | NA | NA | NA | NA | NA | NA |\n",
       "\n"
      ],
      "text/plain": [
       "  record_id redcap_event_name   redcap_repeat_instrument redcap_repeat_instance\n",
       "1 1         personal_info_arm_1 NA                       NA                    \n",
       "2 1         notifications_arm_1 NA                       NA                    \n",
       "3 1         case_intake_arm_1   NA                        1                    \n",
       "4 1         notifications_arm_1 close_contacts            1                    \n",
       "5 1         notifications_arm_1 close_contacts            2                    \n",
       "6 2         personal_info_arm_1 NA                       NA                    \n",
       "  first_name last_name phone_num      zip_code dob        age ethnicity race\n",
       "1 John       Doe       (999) 999-9999 98105    2004-12-05 18   1         4  \n",
       "2 NA         NA        NA                NA    <NA>       NA  NA        NA  \n",
       "3 NA         NA        NA                NA    <NA>       NA  NA        NA  \n",
       "4 NA         NA        NA                NA    <NA>       NA  NA        NA  \n",
       "5 NA         NA        NA                NA    <NA>       NA  NA        NA  \n",
       "6 Jane       Doe       (999) 999-9999 98105    1995-06-29 28   0         5  \n",
       "  gender demographics_complete symptoms_yesno ... prior_covid_yesno\n",
       "1  1      2                    NA             ... NA               \n",
       "2 NA     NA                    NA             ... NA               \n",
       "3 NA      0                     1             ...  0               \n",
       "4 NA     NA                    NA             ... NA               \n",
       "5 NA     NA                    NA             ... NA               \n",
       "6  0      2                    NA             ... NA               \n",
       "  prior_covid_date test_information_complete cc_name          cc_date   \n",
       "1 <NA>             NA                        NA               <NA>      \n",
       "2 <NA>             NA                        NA               <NA>      \n",
       "3 <NA>              2                        NA               <NA>      \n",
       "4 <NA>             NA                        Jane Doe         2023-10-09\n",
       "5 <NA>             NA                        Johnny Appleseed 2023-10-08\n",
       "6 <NA>             NA                        NA               <NA>      \n",
       "  cc_phone       cc_email             close_contacts_complete supervisor_name\n",
       "1 NA             NA                   NA                      NA             \n",
       "2 NA             NA                   NA                      Boss           \n",
       "3 NA             NA                   NA                      NA             \n",
       "4 (999) 999-9999 fake_email@gmail.com  2                      NA             \n",
       "5 (999) 999-9999 fake_email@gmail.com  2                      NA             \n",
       "6 NA             NA                   NA                      NA             \n",
       "  supervisor_email work_inperson_yesno work_date work_contagious\n",
       "1 NA               NA                  <NA>      NA             \n",
       "2 NA                0                  <NA>       0             \n",
       "3 NA               NA                  <NA>      NA             \n",
       "4 NA               NA                  <NA>      NA             \n",
       "5 NA               NA                  <NA>      NA             \n",
       "6 NA               NA                  <NA>      NA             \n",
       "  work_contagious_calc work_information_complete\n",
       "1 NA                   NA                       \n",
       "2 NA                    2                       \n",
       "3 NA                   NA                       \n",
       "4 NA                   NA                       \n",
       "5 NA                   NA                       \n",
       "6 NA                   NA                       "
      ]
     },
     "metadata": {},
     "output_type": "display_data"
    }
   ],
   "source": [
    "head(ds_all$data)"
   ]
  },
  {
   "cell_type": "code",
   "execution_count": 151,
   "id": "98164dfd-bf2d-4314-8a26-0249fc8d79ae",
   "metadata": {
    "tags": []
   },
   "outputs": [
    {
     "name": "stderr",
     "output_type": "stream",
     "text": [
      "44 variable metadata records were read from REDCap in 0.4 seconds.  The http status code was 200.\n",
      "\n",
      "The data dictionary describing 30 fields was read from REDCap in 0.2 seconds.  The http status code was 200.\n",
      "\n",
      "5 instrument metadata records were read from REDCap in 0.2 seconds.  The http status code was 200.\n",
      "\n",
      "1 rows were read from REDCap in 0.2 seconds.  The http status code was 200.\n",
      "\n",
      "1 data access groups were read from REDCap in 0.2 seconds.  The http status code was 200.\n",
      "\n",
      "20 records and 4 columns were read from REDCap in 0.3 seconds.  The http status code was 200.\n",
      "\n",
      "Starting to read 6 records  at 2024-01-09 16:53:11.\n",
      "\n",
      "Reading batch 1 of 1, with subjects 1 through 6 (ie, 6 unique subject records).\n",
      "\n",
      "20 records and 6 columns were read from REDCap in 0.2 seconds.  The http status code was 200.\n",
      "\n"
     ]
    }
   ],
   "source": [
    "data_skinny <- project$read(fields = c(\"record_id\", \"gender\", \"first_name\"))$data"
   ]
  },
  {
   "cell_type": "code",
   "execution_count": 152,
   "id": "8dd51a84-2b1d-4d11-8e54-d74fd7c60d95",
   "metadata": {
    "tags": []
   },
   "outputs": [
    {
     "data": {
      "text/html": [
       "<table class=\"dataframe\">\n",
       "<caption>A tibble: 6 × 6</caption>\n",
       "<thead>\n",
       "\t<tr><th scope=col>record_id</th><th scope=col>redcap_event_name</th><th scope=col>redcap_repeat_instrument</th><th scope=col>redcap_repeat_instance</th><th scope=col>first_name</th><th scope=col>gender</th></tr>\n",
       "\t<tr><th scope=col>&lt;dbl&gt;</th><th scope=col>&lt;chr&gt;</th><th scope=col>&lt;lgl&gt;</th><th scope=col>&lt;dbl&gt;</th><th scope=col>&lt;chr&gt;</th><th scope=col>&lt;dbl&gt;</th></tr>\n",
       "</thead>\n",
       "<tbody>\n",
       "\t<tr><td>1</td><td>personal_info_arm_1</td><td>NA</td><td>NA</td><td>John</td><td> 1</td></tr>\n",
       "\t<tr><td>1</td><td>notifications_arm_1</td><td>NA</td><td>NA</td><td>NA  </td><td>NA</td></tr>\n",
       "\t<tr><td>1</td><td>case_intake_arm_1  </td><td>NA</td><td> 1</td><td>NA  </td><td>NA</td></tr>\n",
       "\t<tr><td>2</td><td>personal_info_arm_1</td><td>NA</td><td>NA</td><td>Jane</td><td> 0</td></tr>\n",
       "\t<tr><td>2</td><td>notifications_arm_1</td><td>NA</td><td>NA</td><td>NA  </td><td>NA</td></tr>\n",
       "\t<tr><td>2</td><td>case_intake_arm_1  </td><td>NA</td><td> 1</td><td>NA  </td><td>NA</td></tr>\n",
       "</tbody>\n",
       "</table>\n"
      ],
      "text/latex": [
       "A tibble: 6 × 6\n",
       "\\begin{tabular}{llllll}\n",
       " record\\_id & redcap\\_event\\_name & redcap\\_repeat\\_instrument & redcap\\_repeat\\_instance & first\\_name & gender\\\\\n",
       " <dbl> & <chr> & <lgl> & <dbl> & <chr> & <dbl>\\\\\n",
       "\\hline\n",
       "\t 1 & personal\\_info\\_arm\\_1 & NA & NA & John &  1\\\\\n",
       "\t 1 & notifications\\_arm\\_1 & NA & NA & NA   & NA\\\\\n",
       "\t 1 & case\\_intake\\_arm\\_1   & NA &  1 & NA   & NA\\\\\n",
       "\t 2 & personal\\_info\\_arm\\_1 & NA & NA & Jane &  0\\\\\n",
       "\t 2 & notifications\\_arm\\_1 & NA & NA & NA   & NA\\\\\n",
       "\t 2 & case\\_intake\\_arm\\_1   & NA &  1 & NA   & NA\\\\\n",
       "\\end{tabular}\n"
      ],
      "text/markdown": [
       "\n",
       "A tibble: 6 × 6\n",
       "\n",
       "| record_id &lt;dbl&gt; | redcap_event_name &lt;chr&gt; | redcap_repeat_instrument &lt;lgl&gt; | redcap_repeat_instance &lt;dbl&gt; | first_name &lt;chr&gt; | gender &lt;dbl&gt; |\n",
       "|---|---|---|---|---|---|\n",
       "| 1 | personal_info_arm_1 | NA | NA | John |  1 |\n",
       "| 1 | notifications_arm_1 | NA | NA | NA   | NA |\n",
       "| 1 | case_intake_arm_1   | NA |  1 | NA   | NA |\n",
       "| 2 | personal_info_arm_1 | NA | NA | Jane |  0 |\n",
       "| 2 | notifications_arm_1 | NA | NA | NA   | NA |\n",
       "| 2 | case_intake_arm_1   | NA |  1 | NA   | NA |\n",
       "\n"
      ],
      "text/plain": [
       "  record_id redcap_event_name   redcap_repeat_instrument redcap_repeat_instance\n",
       "1 1         personal_info_arm_1 NA                       NA                    \n",
       "2 1         notifications_arm_1 NA                       NA                    \n",
       "3 1         case_intake_arm_1   NA                        1                    \n",
       "4 2         personal_info_arm_1 NA                       NA                    \n",
       "5 2         notifications_arm_1 NA                       NA                    \n",
       "6 2         case_intake_arm_1   NA                        1                    \n",
       "  first_name gender\n",
       "1 John        1    \n",
       "2 NA         NA    \n",
       "3 NA         NA    \n",
       "4 Jane        0    \n",
       "5 NA         NA    \n",
       "6 NA         NA    "
      ]
     },
     "metadata": {},
     "output_type": "display_data"
    }
   ],
   "source": [
    "head(data_skinny)"
   ]
  },
  {
   "cell_type": "code",
   "execution_count": 153,
   "id": "67b2c556-8b85-4b62-8537-77883449d1c9",
   "metadata": {
    "tags": []
   },
   "outputs": [],
   "source": [
    "record_of_females <- data_skinny$record_id[data_skinny$gender=='0']"
   ]
  },
  {
   "cell_type": "code",
   "execution_count": 155,
   "id": "367dfb5f-174a-4a5d-8330-1b36abcc7ec7",
   "metadata": {
    "tags": []
   },
   "outputs": [
    {
     "name": "stdout",
     "output_type": "stream",
     "text": [
      " [1] NA NA  2 NA NA NA NA NA  4 NA NA NA NA NA  6 NA NA\n"
     ]
    }
   ],
   "source": [
    "print(record_of_females)"
   ]
  },
  {
   "cell_type": "markdown",
   "id": "cffa4046-4567-4d18-ac62-a276869698b9",
   "metadata": {
    "tags": []
   },
   "source": [
    "## Metadata (generic)"
   ]
  },
  {
   "cell_type": "markdown",
   "id": "29f6641c-5365-4803-a111-425130219361",
   "metadata": {},
   "source": [
    "### Clean checkbox choices using `checkbox_choices`"
   ]
  },
  {
   "cell_type": "code",
   "execution_count": 23,
   "id": "f6db7a9a-588b-4020-8aef-0c65b5d0f29b",
   "metadata": {
    "tags": []
   },
   "outputs": [
    {
     "name": "stderr",
     "output_type": "stream",
     "text": [
      "The data dictionary describing 30 fields was read from REDCap in 0.6 seconds.  The http status code was 200.\n",
      "\n"
     ]
    }
   ],
   "source": [
    "metadata <- redcap_metadata_read(\n",
    "    redcap_uri = url, \n",
    "    token = token\n",
    ")$data"
   ]
  },
  {
   "cell_type": "code",
   "execution_count": 24,
   "id": "d8a23dfb-7db0-49b0-bda3-3367b11516ab",
   "metadata": {
    "tags": []
   },
   "outputs": [
    {
     "data": {
      "text/html": [
       "<table class=\"dataframe\">\n",
       "<caption>A tibble: 6 × 18</caption>\n",
       "<thead>\n",
       "\t<tr><th scope=col>field_name</th><th scope=col>form_name</th><th scope=col>section_header</th><th scope=col>field_type</th><th scope=col>field_label</th><th scope=col>select_choices_or_calculations</th><th scope=col>field_note</th><th scope=col>text_validation_type_or_show_slider_number</th><th scope=col>text_validation_min</th><th scope=col>text_validation_max</th><th scope=col>identifier</th><th scope=col>branching_logic</th><th scope=col>required_field</th><th scope=col>custom_alignment</th><th scope=col>question_number</th><th scope=col>matrix_group_name</th><th scope=col>matrix_ranking</th><th scope=col>field_annotation</th></tr>\n",
       "\t<tr><th scope=col>&lt;chr&gt;</th><th scope=col>&lt;chr&gt;</th><th scope=col>&lt;chr&gt;</th><th scope=col>&lt;chr&gt;</th><th scope=col>&lt;chr&gt;</th><th scope=col>&lt;chr&gt;</th><th scope=col>&lt;chr&gt;</th><th scope=col>&lt;chr&gt;</th><th scope=col>&lt;chr&gt;</th><th scope=col>&lt;chr&gt;</th><th scope=col>&lt;chr&gt;</th><th scope=col>&lt;chr&gt;</th><th scope=col>&lt;chr&gt;</th><th scope=col>&lt;chr&gt;</th><th scope=col>&lt;chr&gt;</th><th scope=col>&lt;chr&gt;</th><th scope=col>&lt;chr&gt;</th><th scope=col>&lt;chr&gt;</th></tr>\n",
       "</thead>\n",
       "<tbody>\n",
       "\t<tr><td>record_id </td><td>demographics</td><td>NA                  </td><td>text</td><td>Study ID     </td><td>NA</td><td>NA</td><td>NA      </td><td>NA   </td><td>NA   </td><td>NA</td><td>NA</td><td>NA</td><td>NA</td><td>NA</td><td>NA</td><td>NA</td><td>NA</td></tr>\n",
       "\t<tr><td>first_name</td><td>demographics</td><td>Personal Information</td><td>text</td><td>First Name   </td><td>NA</td><td>NA</td><td>NA      </td><td>NA   </td><td>NA   </td><td>NA</td><td>NA</td><td>NA</td><td>NA</td><td>NA</td><td>NA</td><td>NA</td><td>NA</td></tr>\n",
       "\t<tr><td>last_name </td><td>demographics</td><td>NA                  </td><td>text</td><td>Last Name    </td><td>NA</td><td>NA</td><td>NA      </td><td>NA   </td><td>NA   </td><td>NA</td><td>NA</td><td>NA</td><td>NA</td><td>NA</td><td>NA</td><td>NA</td><td>NA</td></tr>\n",
       "\t<tr><td>phone_num </td><td>demographics</td><td>NA                  </td><td>text</td><td>Phone Number </td><td>NA</td><td>NA</td><td>phone   </td><td>NA   </td><td>NA   </td><td>NA</td><td>NA</td><td>NA</td><td>NA</td><td>NA</td><td>NA</td><td>NA</td><td>NA</td></tr>\n",
       "\t<tr><td>zip_code  </td><td>demographics</td><td>NA                  </td><td>text</td><td>ZIP Code     </td><td>NA</td><td>NA</td><td>integer </td><td>10001</td><td>99999</td><td>y </td><td>NA</td><td>NA</td><td>NA</td><td>NA</td><td>NA</td><td>NA</td><td>NA</td></tr>\n",
       "\t<tr><td>dob       </td><td>demographics</td><td>NA                  </td><td>text</td><td>Date of birth</td><td>NA</td><td>NA</td><td>date_mdy</td><td>NA   </td><td>NA   </td><td>y </td><td>NA</td><td>NA</td><td>NA</td><td>NA</td><td>NA</td><td>NA</td><td>NA</td></tr>\n",
       "</tbody>\n",
       "</table>\n"
      ],
      "text/latex": [
       "A tibble: 6 × 18\n",
       "\\begin{tabular}{llllllllllllllllll}\n",
       " field\\_name & form\\_name & section\\_header & field\\_type & field\\_label & select\\_choices\\_or\\_calculations & field\\_note & text\\_validation\\_type\\_or\\_show\\_slider\\_number & text\\_validation\\_min & text\\_validation\\_max & identifier & branching\\_logic & required\\_field & custom\\_alignment & question\\_number & matrix\\_group\\_name & matrix\\_ranking & field\\_annotation\\\\\n",
       " <chr> & <chr> & <chr> & <chr> & <chr> & <chr> & <chr> & <chr> & <chr> & <chr> & <chr> & <chr> & <chr> & <chr> & <chr> & <chr> & <chr> & <chr>\\\\\n",
       "\\hline\n",
       "\t record\\_id  & demographics & NA                   & text & Study ID      & NA & NA & NA       & NA    & NA    & NA & NA & NA & NA & NA & NA & NA & NA\\\\\n",
       "\t first\\_name & demographics & Personal Information & text & First Name    & NA & NA & NA       & NA    & NA    & NA & NA & NA & NA & NA & NA & NA & NA\\\\\n",
       "\t last\\_name  & demographics & NA                   & text & Last Name     & NA & NA & NA       & NA    & NA    & NA & NA & NA & NA & NA & NA & NA & NA\\\\\n",
       "\t phone\\_num  & demographics & NA                   & text & Phone Number  & NA & NA & phone    & NA    & NA    & NA & NA & NA & NA & NA & NA & NA & NA\\\\\n",
       "\t zip\\_code   & demographics & NA                   & text & ZIP Code      & NA & NA & integer  & 10001 & 99999 & y  & NA & NA & NA & NA & NA & NA & NA\\\\\n",
       "\t dob        & demographics & NA                   & text & Date of birth & NA & NA & date\\_mdy & NA    & NA    & y  & NA & NA & NA & NA & NA & NA & NA\\\\\n",
       "\\end{tabular}\n"
      ],
      "text/markdown": [
       "\n",
       "A tibble: 6 × 18\n",
       "\n",
       "| field_name &lt;chr&gt; | form_name &lt;chr&gt; | section_header &lt;chr&gt; | field_type &lt;chr&gt; | field_label &lt;chr&gt; | select_choices_or_calculations &lt;chr&gt; | field_note &lt;chr&gt; | text_validation_type_or_show_slider_number &lt;chr&gt; | text_validation_min &lt;chr&gt; | text_validation_max &lt;chr&gt; | identifier &lt;chr&gt; | branching_logic &lt;chr&gt; | required_field &lt;chr&gt; | custom_alignment &lt;chr&gt; | question_number &lt;chr&gt; | matrix_group_name &lt;chr&gt; | matrix_ranking &lt;chr&gt; | field_annotation &lt;chr&gt; |\n",
       "|---|---|---|---|---|---|---|---|---|---|---|---|---|---|---|---|---|---|\n",
       "| record_id  | demographics | NA                   | text | Study ID      | NA | NA | NA       | NA    | NA    | NA | NA | NA | NA | NA | NA | NA | NA |\n",
       "| first_name | demographics | Personal Information | text | First Name    | NA | NA | NA       | NA    | NA    | NA | NA | NA | NA | NA | NA | NA | NA |\n",
       "| last_name  | demographics | NA                   | text | Last Name     | NA | NA | NA       | NA    | NA    | NA | NA | NA | NA | NA | NA | NA | NA |\n",
       "| phone_num  | demographics | NA                   | text | Phone Number  | NA | NA | phone    | NA    | NA    | NA | NA | NA | NA | NA | NA | NA | NA |\n",
       "| zip_code   | demographics | NA                   | text | ZIP Code      | NA | NA | integer  | 10001 | 99999 | y  | NA | NA | NA | NA | NA | NA | NA |\n",
       "| dob        | demographics | NA                   | text | Date of birth | NA | NA | date_mdy | NA    | NA    | y  | NA | NA | NA | NA | NA | NA | NA |\n",
       "\n"
      ],
      "text/plain": [
       "  field_name form_name    section_header       field_type field_label  \n",
       "1 record_id  demographics NA                   text       Study ID     \n",
       "2 first_name demographics Personal Information text       First Name   \n",
       "3 last_name  demographics NA                   text       Last Name    \n",
       "4 phone_num  demographics NA                   text       Phone Number \n",
       "5 zip_code   demographics NA                   text       ZIP Code     \n",
       "6 dob        demographics NA                   text       Date of birth\n",
       "  select_choices_or_calculations field_note\n",
       "1 NA                             NA        \n",
       "2 NA                             NA        \n",
       "3 NA                             NA        \n",
       "4 NA                             NA        \n",
       "5 NA                             NA        \n",
       "6 NA                             NA        \n",
       "  text_validation_type_or_show_slider_number text_validation_min\n",
       "1 NA                                         NA                 \n",
       "2 NA                                         NA                 \n",
       "3 NA                                         NA                 \n",
       "4 phone                                      NA                 \n",
       "5 integer                                    10001              \n",
       "6 date_mdy                                   NA                 \n",
       "  text_validation_max identifier branching_logic required_field\n",
       "1 NA                  NA         NA              NA            \n",
       "2 NA                  NA         NA              NA            \n",
       "3 NA                  NA         NA              NA            \n",
       "4 NA                  NA         NA              NA            \n",
       "5 99999               y          NA              NA            \n",
       "6 NA                  y          NA              NA            \n",
       "  custom_alignment question_number matrix_group_name matrix_ranking\n",
       "1 NA               NA              NA                NA            \n",
       "2 NA               NA              NA                NA            \n",
       "3 NA               NA              NA                NA            \n",
       "4 NA               NA              NA                NA            \n",
       "5 NA               NA              NA                NA            \n",
       "6 NA               NA              NA                NA            \n",
       "  field_annotation\n",
       "1 NA              \n",
       "2 NA              \n",
       "3 NA              \n",
       "4 NA              \n",
       "5 NA              \n",
       "6 NA              "
      ]
     },
     "metadata": {},
     "output_type": "display_data"
    }
   ],
   "source": [
    "head(metadata)"
   ]
  },
  {
   "cell_type": "code",
   "execution_count": 25,
   "id": "4cbb390a-09c7-4ee5-b259-051861b26027",
   "metadata": {
    "tags": []
   },
   "outputs": [
    {
     "data": {
      "text/html": [
       "'1, Sore Throat|2, Cough|3, Shortness of Breath|4, Chest Pain|5, Headache|6, Runny Nose|7, Congestion|8, Fever|9, Body Aches|10, Nausea/Vomiting|11, Diarrhea'"
      ],
      "text/latex": [
       "'1, Sore Throat\\textbar{}2, Cough\\textbar{}3, Shortness of Breath\\textbar{}4, Chest Pain\\textbar{}5, Headache\\textbar{}6, Runny Nose\\textbar{}7, Congestion\\textbar{}8, Fever\\textbar{}9, Body Aches\\textbar{}10, Nausea/Vomiting\\textbar{}11, Diarrhea'"
      ],
      "text/markdown": [
       "'1, Sore Throat|2, Cough|3, Shortness of Breath|4, Chest Pain|5, Headache|6, Runny Nose|7, Congestion|8, Fever|9, Body Aches|10, Nausea/Vomiting|11, Diarrhea'"
      ],
      "text/plain": [
       "[1] \"1, Sore Throat|2, Cough|3, Shortness of Breath|4, Chest Pain|5, Headache|6, Runny Nose|7, Congestion|8, Fever|9, Body Aches|10, Nausea/Vomiting|11, Diarrhea\""
      ]
     },
     "metadata": {},
     "output_type": "display_data"
    }
   ],
   "source": [
    "# select the check box field you would like to clean\n",
    "choices_2 <- metadata[metadata$field_name == \"symptoms_exp\",]$select_choices_or_calculations\n",
    "choices_2"
   ]
  },
  {
   "cell_type": "code",
   "execution_count": 26,
   "id": "fce3c947-1d55-4fbc-b9f2-ce608f6556dc",
   "metadata": {
    "tags": []
   },
   "outputs": [
    {
     "data": {
      "text/html": [
       "<table class=\"dataframe\">\n",
       "<caption>A tibble: 11 × 2</caption>\n",
       "<thead>\n",
       "\t<tr><th scope=col>id</th><th scope=col>label</th></tr>\n",
       "\t<tr><th scope=col>&lt;chr&gt;</th><th scope=col>&lt;chr&gt;</th></tr>\n",
       "</thead>\n",
       "<tbody>\n",
       "\t<tr><td>1 </td><td>Sore Throat        </td></tr>\n",
       "\t<tr><td>2 </td><td>Cough              </td></tr>\n",
       "\t<tr><td>3 </td><td>Shortness of Breath</td></tr>\n",
       "\t<tr><td>4 </td><td>Chest Pain         </td></tr>\n",
       "\t<tr><td>5 </td><td>Headache           </td></tr>\n",
       "\t<tr><td>6 </td><td>Runny Nose         </td></tr>\n",
       "\t<tr><td>7 </td><td>Congestion         </td></tr>\n",
       "\t<tr><td>8 </td><td>Fever              </td></tr>\n",
       "\t<tr><td>9 </td><td>Body Aches         </td></tr>\n",
       "\t<tr><td>10</td><td>Nausea/Vomiting    </td></tr>\n",
       "\t<tr><td>11</td><td>Diarrhea           </td></tr>\n",
       "</tbody>\n",
       "</table>\n"
      ],
      "text/latex": [
       "A tibble: 11 × 2\n",
       "\\begin{tabular}{ll}\n",
       " id & label\\\\\n",
       " <chr> & <chr>\\\\\n",
       "\\hline\n",
       "\t 1  & Sore Throat        \\\\\n",
       "\t 2  & Cough              \\\\\n",
       "\t 3  & Shortness of Breath\\\\\n",
       "\t 4  & Chest Pain         \\\\\n",
       "\t 5  & Headache           \\\\\n",
       "\t 6  & Runny Nose         \\\\\n",
       "\t 7  & Congestion         \\\\\n",
       "\t 8  & Fever              \\\\\n",
       "\t 9  & Body Aches         \\\\\n",
       "\t 10 & Nausea/Vomiting    \\\\\n",
       "\t 11 & Diarrhea           \\\\\n",
       "\\end{tabular}\n"
      ],
      "text/markdown": [
       "\n",
       "A tibble: 11 × 2\n",
       "\n",
       "| id &lt;chr&gt; | label &lt;chr&gt; |\n",
       "|---|---|\n",
       "| 1  | Sore Throat         |\n",
       "| 2  | Cough               |\n",
       "| 3  | Shortness of Breath |\n",
       "| 4  | Chest Pain          |\n",
       "| 5  | Headache            |\n",
       "| 6  | Runny Nose          |\n",
       "| 7  | Congestion          |\n",
       "| 8  | Fever               |\n",
       "| 9  | Body Aches          |\n",
       "| 10 | Nausea/Vomiting     |\n",
       "| 11 | Diarrhea            |\n",
       "\n"
      ],
      "text/plain": [
       "   id label              \n",
       "1  1  Sore Throat        \n",
       "2  2  Cough              \n",
       "3  3  Shortness of Breath\n",
       "4  4  Chest Pain         \n",
       "5  5  Headache           \n",
       "6  6  Runny Nose         \n",
       "7  7  Congestion         \n",
       "8  8  Fever              \n",
       "9  9  Body Aches         \n",
       "10 10 Nausea/Vomiting    \n",
       "11 11 Diarrhea           "
      ]
     },
     "metadata": {},
     "output_type": "display_data"
    }
   ],
   "source": [
    "choices3 <- REDCapR::checkbox_choices(select_choices=choices_2)\n",
    "choices3"
   ]
  },
  {
   "cell_type": "markdown",
   "id": "79fd4ad0-bdaf-4460-884c-1f259b05a8a2",
   "metadata": {
    "tags": []
   },
   "source": [
    "## REDCap Constants"
   ]
  },
  {
   "cell_type": "markdown",
   "id": "c9c208da-51c9-4772-85a8-e361db526439",
   "metadata": {},
   "source": [
    "You can quickly search for the numerical values of several 'constants' within REDCap. For example, when exporting data from REDCap, all instruments end with a variable called \"{form_name}\\_complete\" that when exported as raw data will take the values of 0, 1 or 2. You can see which values belong to complete vs incomplete using `constant(\"form_incomplete\")` and `constant(\"form_complete\")`.  \n",
    "\n",
    "Other constants across all REDCap projects include the values for the various user rights settings. For a full list of constants available, refer to the following [documentation.](https://ouhscbbmc.github.io/REDCapR/reference/constant.html)"
   ]
  },
  {
   "cell_type": "code",
   "execution_count": 171,
   "id": "3a04cfae-1842-46ad-be9e-25eb9540b4a0",
   "metadata": {
    "tags": []
   },
   "outputs": [
    {
     "data": {
      "text/html": [
       "0"
      ],
      "text/latex": [
       "0"
      ],
      "text/markdown": [
       "0"
      ],
      "text/plain": [
       "[1] 0"
      ]
     },
     "metadata": {},
     "output_type": "display_data"
    }
   ],
   "source": [
    "# value for form incomplete\n",
    "constant(\"form_incomplete\")"
   ]
  },
  {
   "cell_type": "code",
   "execution_count": 172,
   "id": "a32dd22b-22e3-4267-8c20-754f3dd1fb03",
   "metadata": {
    "tags": []
   },
   "outputs": [
    {
     "data": {
      "text/html": [
       "2"
      ],
      "text/latex": [
       "2"
      ],
      "text/markdown": [
       "2"
      ],
      "text/plain": [
       "[1] 2"
      ]
     },
     "metadata": {},
     "output_type": "display_data"
    }
   ],
   "source": [
    "# value for form complete\n",
    "constant(\"form_complete\")"
   ]
  },
  {
   "cell_type": "code",
   "execution_count": 174,
   "id": "e7061933-d2b0-462b-ab79-b8fcb14b25cd",
   "metadata": {
    "tags": []
   },
   "outputs": [
    {
     "data": {
      "text/html": [
       "1"
      ],
      "text/latex": [
       "1"
      ],
      "text/markdown": [
       "1"
      ],
      "text/plain": [
       "[1] 1"
      ]
     },
     "metadata": {},
     "output_type": "display_data"
    }
   ],
   "source": [
    "constant(\"form_unverified\")"
   ]
  },
  {
   "cell_type": "code",
   "execution_count": 199,
   "id": "2f8da144-3120-4301-b977-b5d80c1456ae",
   "metadata": {
    "tags": []
   },
   "outputs": [
    {
     "name": "stderr",
     "output_type": "stream",
     "text": [
      "The REDCap users were successfully exported in 0.6 seconds.  The http status code was 200.\n",
      "\n"
     ]
    }
   ],
   "source": [
    "users_data <- redcap_users_export(redcap_uri = url, token, verbose = TRUE, config_options = NULL)"
   ]
  },
  {
   "cell_type": "code",
   "execution_count": 200,
   "id": "a5e9b029-96ce-48d0-8779-fe1a4e5a148a",
   "metadata": {
    "tags": []
   },
   "outputs": [
    {
     "data": {
      "text/html": [
       "<table class=\"dataframe\">\n",
       "<caption>A tibble: 2 × 32</caption>\n",
       "<thead>\n",
       "\t<tr><th scope=col>username</th><th scope=col>email</th><th scope=col>firstname</th><th scope=col>lastname</th><th scope=col>expiration</th><th scope=col>data_access_group</th><th scope=col>data_access_group_id</th><th scope=col>design</th><th scope=col>alerts</th><th scope=col>user_rights</th><th scope=col>...</th><th scope=col>api_import</th><th scope=col>mobile_app</th><th scope=col>mobile_app_download_data</th><th scope=col>record_create</th><th scope=col>record_rename</th><th scope=col>record_delete</th><th scope=col>lock_records_all_forms</th><th scope=col>lock_records</th><th scope=col>lock_records_customization</th><th scope=col>forms_export</th></tr>\n",
       "\t<tr><th scope=col>&lt;chr&gt;</th><th scope=col>&lt;chr&gt;</th><th scope=col>&lt;chr&gt;</th><th scope=col>&lt;chr&gt;</th><th scope=col>&lt;date&gt;</th><th scope=col>&lt;chr&gt;</th><th scope=col>&lt;chr&gt;</th><th scope=col>&lt;lgl&gt;</th><th scope=col>&lt;dbl&gt;</th><th scope=col>&lt;lgl&gt;</th><th scope=col>...</th><th scope=col>&lt;lgl&gt;</th><th scope=col>&lt;lgl&gt;</th><th scope=col>&lt;lgl&gt;</th><th scope=col>&lt;lgl&gt;</th><th scope=col>&lt;lgl&gt;</th><th scope=col>&lt;lgl&gt;</th><th scope=col>&lt;lgl&gt;</th><th scope=col>&lt;lgl&gt;</th><th scope=col>&lt;lgl&gt;</th><th scope=col>&lt;chr&gt;</th></tr>\n",
       "</thead>\n",
       "<tbody>\n",
       "\t<tr><td>caitlin.drover@doh.wa.gov</td><td>Caitlin.Drover@doh.wa.gov</td><td>Caitlin</td><td>Drover </td><td>NA</td><td>admin</td><td>1732</td><td>TRUE</td><td>1</td><td>TRUE</td><td>...</td><td>TRUE</td><td>TRUE</td><td>FALSE</td><td>TRUE</td><td>TRUE</td><td>TRUE</td><td>FALSE</td><td>FALSE</td><td>TRUE</td><td>demographics:1,symptoms:1,test_information:1,close_contacts:1,work_information:1</td></tr>\n",
       "\t<tr><td>emily.pearman@doh.wa.gov </td><td>emily.pearman@doh.wa.gov </td><td>Emily  </td><td>Pearman</td><td>NA</td><td>admin</td><td>1732</td><td>TRUE</td><td>1</td><td>TRUE</td><td>...</td><td>TRUE</td><td>TRUE</td><td>FALSE</td><td>TRUE</td><td>TRUE</td><td>TRUE</td><td>FALSE</td><td>FALSE</td><td>TRUE</td><td>demographics:1,symptoms:1,test_information:1,close_contacts:1,work_information:1</td></tr>\n",
       "</tbody>\n",
       "</table>\n"
      ],
      "text/latex": [
       "A tibble: 2 × 32\n",
       "\\begin{tabular}{lllllllllllllllllllll}\n",
       " username & email & firstname & lastname & expiration & data\\_access\\_group & data\\_access\\_group\\_id & design & alerts & user\\_rights & ... & api\\_import & mobile\\_app & mobile\\_app\\_download\\_data & record\\_create & record\\_rename & record\\_delete & lock\\_records\\_all\\_forms & lock\\_records & lock\\_records\\_customization & forms\\_export\\\\\n",
       " <chr> & <chr> & <chr> & <chr> & <date> & <chr> & <chr> & <lgl> & <dbl> & <lgl> & ... & <lgl> & <lgl> & <lgl> & <lgl> & <lgl> & <lgl> & <lgl> & <lgl> & <lgl> & <chr>\\\\\n",
       "\\hline\n",
       "\t caitlin.drover@doh.wa.gov & Caitlin.Drover@doh.wa.gov & Caitlin & Drover  & NA & admin & 1732 & TRUE & 1 & TRUE & ... & TRUE & TRUE & FALSE & TRUE & TRUE & TRUE & FALSE & FALSE & TRUE & demographics:1,symptoms:1,test\\_information:1,close\\_contacts:1,work\\_information:1\\\\\n",
       "\t emily.pearman@doh.wa.gov  & emily.pearman@doh.wa.gov  & Emily   & Pearman & NA & admin & 1732 & TRUE & 1 & TRUE & ... & TRUE & TRUE & FALSE & TRUE & TRUE & TRUE & FALSE & FALSE & TRUE & demographics:1,symptoms:1,test\\_information:1,close\\_contacts:1,work\\_information:1\\\\\n",
       "\\end{tabular}\n"
      ],
      "text/markdown": [
       "\n",
       "A tibble: 2 × 32\n",
       "\n",
       "| username &lt;chr&gt; | email &lt;chr&gt; | firstname &lt;chr&gt; | lastname &lt;chr&gt; | expiration &lt;date&gt; | data_access_group &lt;chr&gt; | data_access_group_id &lt;chr&gt; | design &lt;lgl&gt; | alerts &lt;dbl&gt; | user_rights &lt;lgl&gt; | ... ... | api_import &lt;lgl&gt; | mobile_app &lt;lgl&gt; | mobile_app_download_data &lt;lgl&gt; | record_create &lt;lgl&gt; | record_rename &lt;lgl&gt; | record_delete &lt;lgl&gt; | lock_records_all_forms &lt;lgl&gt; | lock_records &lt;lgl&gt; | lock_records_customization &lt;lgl&gt; | forms_export &lt;chr&gt; |\n",
       "|---|---|---|---|---|---|---|---|---|---|---|---|---|---|---|---|---|---|---|---|---|\n",
       "| caitlin.drover@doh.wa.gov | Caitlin.Drover@doh.wa.gov | Caitlin | Drover  | NA | admin | 1732 | TRUE | 1 | TRUE | ... | TRUE | TRUE | FALSE | TRUE | TRUE | TRUE | FALSE | FALSE | TRUE | demographics:1,symptoms:1,test_information:1,close_contacts:1,work_information:1 |\n",
       "| emily.pearman@doh.wa.gov  | emily.pearman@doh.wa.gov  | Emily   | Pearman | NA | admin | 1732 | TRUE | 1 | TRUE | ... | TRUE | TRUE | FALSE | TRUE | TRUE | TRUE | FALSE | FALSE | TRUE | demographics:1,symptoms:1,test_information:1,close_contacts:1,work_information:1 |\n",
       "\n"
      ],
      "text/plain": [
       "  username                  email                     firstname lastname\n",
       "1 caitlin.drover@doh.wa.gov Caitlin.Drover@doh.wa.gov Caitlin   Drover  \n",
       "2 emily.pearman@doh.wa.gov  emily.pearman@doh.wa.gov  Emily     Pearman \n",
       "  expiration data_access_group data_access_group_id design alerts user_rights\n",
       "1 <NA>       admin             1732                 TRUE   1      TRUE       \n",
       "2 <NA>       admin             1732                 TRUE   1      TRUE       \n",
       "  ... api_import mobile_app mobile_app_download_data record_create\n",
       "1 ... TRUE       TRUE       FALSE                    TRUE         \n",
       "2 ... TRUE       TRUE       FALSE                    TRUE         \n",
       "  record_rename record_delete lock_records_all_forms lock_records\n",
       "1 TRUE          TRUE          FALSE                  FALSE       \n",
       "2 TRUE          TRUE          FALSE                  FALSE       \n",
       "  lock_records_customization\n",
       "1 TRUE                      \n",
       "2 TRUE                      \n",
       "  forms_export                                                                    \n",
       "1 demographics:1,symptoms:1,test_information:1,close_contacts:1,work_information:1\n",
       "2 demographics:1,symptoms:1,test_information:1,close_contacts:1,work_information:1"
      ]
     },
     "metadata": {},
     "output_type": "display_data"
    }
   ],
   "source": [
    "user_rights <- users_data$data_user\n",
    "user_rights"
   ]
  },
  {
   "cell_type": "code",
   "execution_count": 177,
   "id": "a4a951f3-2bfe-4f51-992a-cab1f7d4cbd2",
   "metadata": {
    "tags": []
   },
   "outputs": [
    {
     "name": "stdout",
     "output_type": "stream",
     "text": [
      "tibble [2 x 32] (S3: tbl_df/tbl/data.frame)\n",
      " $ username                  : chr [1:2] \"caitlin.drover@doh.wa.gov\" \"emily.pearman@doh.wa.gov\"\n",
      " $ email                     : chr [1:2] \"Caitlin.Drover@doh.wa.gov\" \"emily.pearman@doh.wa.gov\"\n",
      " $ firstname                 : chr [1:2] \"Caitlin\" \"Emily\"\n",
      " $ lastname                  : chr [1:2] \"Drover\" \"Pearman\"\n",
      " $ expiration                : Date[1:2], format: NA NA\n",
      " $ data_access_group         : chr [1:2] NA \"admin\"\n",
      " $ data_access_group_id      : chr [1:2] NA \"1732\"\n",
      " $ design                    : logi [1:2] TRUE TRUE\n",
      " $ alerts                    : num [1:2] 1 1\n",
      " $ user_rights               : logi [1:2] TRUE TRUE\n",
      " $ data_access_groups        : logi [1:2] TRUE TRUE\n",
      " $ reports                   : logi [1:2] TRUE TRUE\n",
      " $ stats_and_charts          : logi [1:2] TRUE TRUE\n",
      " $ manage_survey_participants: logi [1:2] TRUE TRUE\n",
      " $ calendar                  : logi [1:2] TRUE TRUE\n",
      " $ data_import_tool          : logi [1:2] TRUE TRUE\n",
      " $ data_comparison_tool      : logi [1:2] TRUE TRUE\n",
      " $ logging                   : logi [1:2] TRUE TRUE\n",
      " $ file_repository           : logi [1:2] TRUE TRUE\n",
      " $ data_quality_create       : logi [1:2] TRUE TRUE\n",
      " $ data_quality_execute      : logi [1:2] TRUE TRUE\n",
      " $ api_export                : logi [1:2] TRUE TRUE\n",
      " $ api_import                : logi [1:2] TRUE TRUE\n",
      " $ mobile_app                : logi [1:2] TRUE TRUE\n",
      " $ mobile_app_download_data  : logi [1:2] FALSE FALSE\n",
      " $ record_create             : logi [1:2] TRUE TRUE\n",
      " $ record_rename             : logi [1:2] TRUE TRUE\n",
      " $ record_delete             : logi [1:2] TRUE TRUE\n",
      " $ lock_records_all_forms    : logi [1:2] FALSE FALSE\n",
      " $ lock_records              : logi [1:2] FALSE FALSE\n",
      " $ lock_records_customization: logi [1:2] TRUE TRUE\n",
      " $ forms_export              : chr [1:2] \"demographics:1,symptoms:1,test_information:1,close_contacts:1,work_information:1\" \"demographics:1,symptoms:1,test_information:1,close_contacts:1,work_information:1\"\n"
     ]
    }
   ],
   "source": [
    "str(user_rights)"
   ]
  },
  {
   "cell_type": "code",
   "execution_count": 62,
   "id": "1ff58752-dd5b-4421-b08f-20326ba533dc",
   "metadata": {
    "tags": []
   },
   "outputs": [
    {
     "data": {
      "text/html": [
       "<style>\n",
       ".list-inline {list-style: none; margin:0; padding: 0}\n",
       ".list-inline>li {display: inline-block}\n",
       ".list-inline>li:not(:last-child)::after {content: \"\\00b7\"; padding: 0 .5ex}\n",
       "</style>\n",
       "<ol class=list-inline><li>0</li><li>2</li><li>1</li><li>3</li></ol>\n"
      ],
      "text/latex": [
       "\\begin{enumerate*}\n",
       "\\item 0\n",
       "\\item 2\n",
       "\\item 1\n",
       "\\item 3\n",
       "\\end{enumerate*}\n"
      ],
      "text/markdown": [
       "1. 0\n",
       "2. 2\n",
       "3. 1\n",
       "4. 3\n",
       "\n",
       "\n"
      ],
      "text/plain": [
       "[1] 0 2 1 3"
      ]
     },
     "metadata": {},
     "output_type": "display_data"
    }
   ],
   "source": [
    "REDCapR::constant(c(\n",
    "  \"form_rights_no_access\",\n",
    "  \"form_rights_readonly\",\n",
    "  \"form_rights_edit_form\",\n",
    "  \"form_rights_edit_survey\"\n",
    "))"
   ]
  },
  {
   "cell_type": "code",
   "execution_count": 220,
   "id": "b9b78dda-1c6f-4a10-bbc7-8ca541f0020f",
   "metadata": {
    "tags": []
   },
   "outputs": [
    {
     "data": {
      "text/html": [
       "0"
      ],
      "text/latex": [
       "0"
      ],
      "text/markdown": [
       "0"
      ],
      "text/plain": [
       "[1] 0"
      ]
     },
     "metadata": {},
     "output_type": "display_data"
    },
    {
     "data": {
      "text/html": [
       "1"
      ],
      "text/latex": [
       "1"
      ],
      "text/markdown": [
       "1"
      ],
      "text/plain": [
       "[1] 1"
      ]
     },
     "metadata": {},
     "output_type": "display_data"
    },
    {
     "data": {
      "text/html": [
       "2"
      ],
      "text/latex": [
       "2"
      ],
      "text/markdown": [
       "2"
      ],
      "text/plain": [
       "[1] 2"
      ]
     },
     "metadata": {},
     "output_type": "display_data"
    }
   ],
   "source": [
    "REDCapR::constant(\"data_export_rights_no_access\")\n",
    "REDCapR::constant(\"data_export_rights_deidentified\")\n",
    "REDCapR::constant(\"data_export_rights_full\") "
   ]
  },
  {
   "cell_type": "code",
   "execution_count": null,
   "id": "bfd44537-dd3a-47d3-a9b1-23bca1224229",
   "metadata": {},
   "outputs": [],
   "source": []
  }
 ],
 "metadata": {
  "kernelspec": {
   "display_name": "R",
   "language": "R",
   "name": "ir"
  },
  "language_info": {
   "codemirror_mode": "r",
   "file_extension": ".r",
   "mimetype": "text/x-r-source",
   "name": "R",
   "pygments_lexer": "r",
   "version": "4.1.3"
  },
  "toc-showcode": false
 },
 "nbformat": 4,
 "nbformat_minor": 5
}
