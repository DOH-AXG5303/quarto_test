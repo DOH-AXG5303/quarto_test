{
 "cells": [
  {
   "cell_type": "markdown",
   "id": "be4cc44f-bffe-4a74-89c2-5f7411885a92",
   "metadata": {
    "tags": []
   },
   "source": [
    "# Table of Contents\n",
    "\n",
    "1. <a href=\"#REDCap-Overview\">REDCap Overview</a>  \n",
    "    1a. <a href=\"#Definitions\">Definitions</a>  \n",
    "    1b. <a href=\"#REDCap-Data-Building-Blocks\">REDCap Data Building Blocks</a>  \n",
    "2. <a href=\"#Gathered-Survey-Data\">Gathered Survey Data</a>  \n",
    "    2a. <a href=\"#Records\">Records</a></n>  \n",
    "    2b. <a href=\"#Reports\">Reports</a></n>  \n",
    "    2c. <a href=\"#Files---optional-attachments-to-individual-records\">Files - optional attachments to individual records</a></n>  \n",
    "3. <a href=\"#Metadata\">Metadata</a></n>   \n",
    "4. <a href=\"#Data-Validations\">Data Validations</a></n>\n",
    "5. <a href=\"#Appendix\">Appendix</a></n> <br>\n",
    "    5a. <a href=\"#Cannot-be-Imported\">Cannot be Imported</a></n>  \n",
    "    5b. <a href=\"#Example-REDCap-Projects-and-Data-Structures\">Example REDCap Projects and Data Structures</a></n>  \n",
    "    5c. <a href=\"#Example:-Uploading-Records-from-a-CSV\">Example: Uploading Records from a CSV</a></n>  "
   ]
  },
  {
   "cell_type": "markdown",
   "id": "943778e2-34b7-4e5c-a8c1-09515f6664eb",
   "metadata": {},
   "source": [
    "# REDCap Overview"
   ]
  },
  {
   "cell_type": "markdown",
   "id": "6a56d6cf-1c95-4bcf-9275-ea2c022ebc20",
   "metadata": {},
   "source": [
    "REDCap is a web-based application developed by Vanderbilt University to capture data for clinical research and create databases and projects. REDCap revolutionizes the survey development process and empowers users to rapidly create surveys tailored to their specific public health needs. REDCap allows the main administrator of a project to assign specific rights to individuals to access data and create reports. REDCap also provides clear audit trails for tracking the history of data entry and revision. *For more information, see the Daily Dose article on REDCap [here.](https://stateofwa.sharepoint.com/sites/DOH-dailydose/SitePages/Welcome-to-REDCap,-your-tool-for-public-health-data-management-success!.aspx?xsdata=MDV8MDJ8fDY0MjMzNWIyOTQwZjQzNjk0MTRlMDhkYzAwYzYyNjg4fDExZDBlMjE3MjY0ZTQwMGE4YmEwNTdkY2MxMjdkNzJkfDB8MHw2MzgzODYwOTgyMjk3NTYyMzh8VW5rbm93bnxWR1ZoYlhOVFpXTjFjbWwwZVZObGNuWnBZMlY4ZXlKV0lqb2lNQzR3TGpBd01EQWlMQ0pRSWpvaVYybHVNeklpTENKQlRpSTZJazkwYUdWeUlpd2lWMVFpT2pFeGZRPT18MXxMMk5vWVhSekx6RTVPbTFsWlhScGJtZGZUMGRTYkU1RVZtcE5iVVYwVDFSTk5WcHBNREJhYWxrd1RGZEthMDFVUlhSYWFrVjRUbnBzYWs5RVJtcGFSRnBwUUhSb2NtVmhaQzUyTWk5dFpYTnpZV2RsY3k4eE56QXpNREV6TURBMk9URTJ8OWEzZGY2NTg0MTgwNDE5OTQxNGUwOGRjMDBjNjI2ODh8MjI0NGZhYzdiNjc5NGI2YmFhMjU4NDg4NGQ1MGViMTU%3D&sdata=THg5c1g2dy9FajR5RmpMNXBsRUtCWDRKQTZqYUF6eEQyMUJ1dVM2WTVjaz0%3D&ovuser=11d0e217-264e-400a-8ba0-57dcc127d72d%2CEmily.Pearman%40doh.wa.gov&OR=Teams-HL&CT=1703015604587&clickparams=eyJBcHBOYW1lIjoiVGVhbXMtRGVza3RvcCIsIkFwcFZlcnNpb24iOiIyNy8yMzExMDIyNDcwNSIsIkhhc0ZlZGVyYXRlZFVzZXIiOmZhbHNlfQ%3D%3D)*"
   ]
  },
  {
   "cell_type": "markdown",
   "id": "dd2354a9-8e32-4054-b0c2-9ac1e9b7aa34",
   "metadata": {},
   "source": [
    "## Definitions"
   ]
  },
  {
   "cell_type": "markdown",
   "id": "3e32a415-db2d-43af-ba53-fa92b9731119",
   "metadata": {},
   "source": [
    "### Records\n",
    "\n",
    "Records are the set of information for a unique participant. Each record is composed of a number of fields (pieces of data), which can be spread across multiple instruments per record.  \n",
    "\n",
    "Importing records creates a new record with all of the data provided entered into the record(s) specified. The record_id(s) to be imported can be named explicitly or automatically assigned based on the next available record_id in the REDCap project."
   ]
  },
  {
   "cell_type": "markdown",
   "id": "ae47cead-158b-46a0-8aff-69083138b4ba",
   "metadata": {},
   "source": [
    "### Fields\n",
    "\n",
    "Fields are the individual places where data can be recorded (e.g., a question on a survey). The column names must match the field names in the REDCap project to be imported successfully."
   ]
  },
  {
   "cell_type": "markdown",
   "id": "ebbc12d8-b5f7-4f91-87db-0721146beaa9",
   "metadata": {},
   "source": [
    "### Instruments/Forms\n",
    "\n",
    "Instruments are a collection of fields to collect data. Instruments may be referred to as \"forms\" when being filled out by a project user or a \"survey\" when being filled out by external users (via a web link or email invitation). \n",
    "\n",
    "Instruments may be repeating and can be in either longitudinal or non-longitudinal projects. Repeating instruments can be set up to repeat a defined number of times or repeat an indefinite number of times. Each repeat is called an “instance”."
   ]
  },
  {
   "cell_type": "markdown",
   "id": "c3393c09-b520-4ce8-82e4-afd554ac7531",
   "metadata": {},
   "source": [
    "### Events\n",
    "\n",
    "Events are only possible to enable in longitudinal projects. An event may be a temporal event during your longitudinal project, such as a participant visit or a task to be performed. Events can have multiple instruments. The default is 1 event. \n",
    "\n",
    "Events may be repeating or non-repeating. Repeating events can be set up so that all instruments in an event repeat together or only certain instruments are repeated from the event. Each repeat is called an “instance”."
   ]
  },
  {
   "cell_type": "markdown",
   "id": "0573712d-1964-4832-b690-8347ca957137",
   "metadata": {},
   "source": [
    "### Arms\n",
    "\n",
    "Events can be grouped into 'arms'. There may be one or more arms for a project. Arms can be though of as different groups in a clinical trial (e.g., a test group and a control group). Each arm can have as many events as you wish. Each arm can have the same events or different events with different instruments. The default is 1 arm."
   ]
  },
  {
   "cell_type": "markdown",
   "id": "12fe21bd-5032-43bc-8f81-976cf7ebf7c5",
   "metadata": {},
   "source": [
    "### Metadata\n",
    "\n",
    "Metadata refers to the project's set up characteristics, including field attributes grouped by instrument assignment. Metadata can be thought of as the project's data dictionary."
   ]
  },
  {
   "cell_type": "markdown",
   "id": "6562f66e-28f5-4646-aed7-e8ffb7de9de1",
   "metadata": {},
   "source": [
    "### Reports\n",
    "\n",
    "Reports are a good way to view data from multiple records at once. REDCap has two default reports (A & B) and additional custom reports can be created. Report A displays all data for all records, while Report B can be customized to display data from specified instruments or events. "
   ]
  },
  {
   "cell_type": "markdown",
   "id": "a304cab4-9943-4983-902f-80329251c397",
   "metadata": {},
   "source": [
    "## REDCap Data Building Blocks\n",
    "\n",
    "<img src=\"../files/REDCap API Tutorial - Building Blocks.png\" width=900/>"
   ]
  },
  {
   "cell_type": "markdown",
   "id": "aad827dd-d86f-4c04-b736-e3e0078dcfbe",
   "metadata": {},
   "source": [
    "*For examples of REDCap project set-ups and their expected data structures, see <a href=\"#Example-REDCap-Projects-and-Data-Structures\">Example REDCap Projects and Data Structures</a>.*"
   ]
  },
  {
   "cell_type": "code",
   "execution_count": 1,
   "id": "6c7868bb-e4cb-43e2-85b1-ef66d5ed0ca7",
   "metadata": {
    "tags": []
   },
   "outputs": [
    {
     "name": "stderr",
     "output_type": "stream",
     "text": [
      "\n",
      "Attaching package: 'dplyr'\n",
      "\n",
      "\n",
      "The following objects are masked from 'package:stats':\n",
      "\n",
      "    filter, lag\n",
      "\n",
      "\n",
      "The following objects are masked from 'package:base':\n",
      "\n",
      "    intersect, setdiff, setequal, union\n",
      "\n",
      "\n"
     ]
    }
   ],
   "source": [
    "library(REDCapR)\n",
    "library(dplyr)"
   ]
  },
  {
   "cell_type": "code",
   "execution_count": 5,
   "id": "2b0e46df-012a-412b-a91d-54c3d9d2a4fb",
   "metadata": {
    "tags": []
   },
   "outputs": [],
   "source": [
    "token <- jsonlite::fromJSON('json_api_data.json')$dev_token$'276'\n",
    "url <- \"https://dev-redcap.doh.wa.gov/api/\""
   ]
  },
  {
   "cell_type": "markdown",
   "id": "d101c570-0730-4fad-994d-8c6b26c19f62",
   "metadata": {
    "tags": []
   },
   "source": [
    "# Gathered Survey Data"
   ]
  },
  {
   "cell_type": "markdown",
   "id": "bf175fd0-30cd-42a8-a2e0-6665b94ad16f",
   "metadata": {},
   "source": [
    "## Records"
   ]
  },
  {
   "cell_type": "markdown",
   "id": "d5887e57-5877-48c6-a4d2-95781f98de08",
   "metadata": {},
   "source": [
    "Records can be imported into a REDCap project from a dataframe in R using `redcap_write_oneshot()` to write a records all at once, or using `redcap_write()` which can batch the records to be imported so the server is not overwhelmed in the case of large imports.  \n",
    "\n",
    "If the record_id being imported already exists in the REDCap project, the imported data will overwrite the previously existing data for that record. Using a record_id that does not already exist will create a new record. The `redcap_next_free_record_name()` function will show what the next unused record_id is. If Data Access Groups (DAGs) are used in the project, this method accounts for the special formatting of the record name for users in DAGs where the unique auto-assigned DAG number is a prefix to the actual record_id (e.g., DAG-ID; a user assigned to a DAG numbered 1732 with 3 existing records will return 1732-4)."
   ]
  },
  {
   "cell_type": "code",
   "execution_count": 12,
   "id": "1c77a26d-3ce4-41a1-984f-a1151774cab4",
   "metadata": {
    "tags": []
   },
   "outputs": [],
   "source": [
    "# Define data to import\n",
    "df1 <- data.frame(record_id  = c(7,8),\n",
    "                  first_name = c(\"John\",\"Jane\"),\n",
    "                  last_name = c(\"Doe\",\"Doe\")\n",
    "                  )"
   ]
  },
  {
   "cell_type": "code",
   "execution_count": 13,
   "id": "999df108-0b48-4f1c-ad61-5f7f1faf86f6",
   "metadata": {
    "tags": []
   },
   "outputs": [
    {
     "ename": "ERROR",
     "evalue": "Error in redcap_write_oneshot(df1, redcap_uri = url, token = token): Assertion on 'token' failed: Must be of type 'character', not 'NULL'.\n",
     "output_type": "error",
     "traceback": [
      "Error in redcap_write_oneshot(df1, redcap_uri = url, token = token): Assertion on 'token' failed: Must be of type 'character', not 'NULL'.\nTraceback:\n",
      "1. redcap_write_oneshot(df1, redcap_uri = url, token = token)",
      "2. checkmate::assert_character(token, any.missing = FALSE, len = 1, \n .     pattern = \"^.{1,}$\")",
      "3. makeAssertion(x, res, .var.name, add)",
      "4. mstop(\"Assertion on '%s' failed: %s.\", var.name, res, call. = sys.call(-2L))"
     ]
    }
   ],
   "source": [
    "redcap_write_oneshot(df1, redcap_uri=url, token=token)"
   ]
  },
  {
   "cell_type": "code",
   "execution_count": 8,
   "id": "eee2506b-66b6-43a1-a387-6d374db3a330",
   "metadata": {
    "tags": []
   },
   "outputs": [],
   "source": [
    "df2 <- data.frame(record_id  = 9,\n",
    "                  first_name = \"John\",\n",
    "                  last_name = \"Doe\"\n",
    "                  )"
   ]
  },
  {
   "cell_type": "code",
   "execution_count": 6,
   "id": "5be13c50-7e62-4854-bff8-b5f26ef581d1",
   "metadata": {
    "tags": []
   },
   "outputs": [
    {
     "name": "stderr",
     "output_type": "stream",
     "text": [
      "Starting to update 1 records to be written at 2023-12-29 09:05:33.\n",
      "\n",
      "Writing batch 1 of 1, with indices 1 through 1.\n",
      "\n",
      "1 records were written to REDCap in 0.4 seconds.\n",
      "\n"
     ]
    },
    {
     "data": {
      "text/html": [
       "<dl>\n",
       "\t<dt>$success</dt>\n",
       "\t\t<dd>TRUE</dd>\n",
       "\t<dt>$status_code</dt>\n",
       "\t\t<dd>'200'</dd>\n",
       "\t<dt>$outcome_message</dt>\n",
       "\t\t<dd>'1 records were written to REDCap in 0.4 seconds.'</dd>\n",
       "\t<dt>$records_affected_count</dt>\n",
       "\t\t<dd>1</dd>\n",
       "\t<dt>$affected_ids</dt>\n",
       "\t\t<dd>'9'</dd>\n",
       "\t<dt>$elapsed_seconds</dt>\n",
       "\t\t<dd>0.891315937042236</dd>\n",
       "</dl>\n"
      ],
      "text/latex": [
       "\\begin{description}\n",
       "\\item[\\$success] TRUE\n",
       "\\item[\\$status\\_code] '200'\n",
       "\\item[\\$outcome\\_message] '1 records were written to REDCap in 0.4 seconds.'\n",
       "\\item[\\$records\\_affected\\_count] 1\n",
       "\\item[\\$affected\\_ids] '9'\n",
       "\\item[\\$elapsed\\_seconds] 0.891315937042236\n",
       "\\end{description}\n"
      ],
      "text/markdown": [
       "$success\n",
       ":   TRUE\n",
       "$status_code\n",
       ":   '200'\n",
       "$outcome_message\n",
       ":   '1 records were written to REDCap in 0.4 seconds.'\n",
       "$records_affected_count\n",
       ":   1\n",
       "$affected_ids\n",
       ":   '9'\n",
       "$elapsed_seconds\n",
       ":   0.891315937042236\n",
       "\n",
       "\n"
      ],
      "text/plain": [
       "$success\n",
       "[1] TRUE\n",
       "\n",
       "$status_code\n",
       "[1] \"200\"\n",
       "\n",
       "$outcome_message\n",
       "[1] \"1 records were written to REDCap in 0.4 seconds.\"\n",
       "\n",
       "$records_affected_count\n",
       "[1] 1\n",
       "\n",
       "$affected_ids\n",
       "[1] \"9\"\n",
       "\n",
       "$elapsed_seconds\n",
       "[1] 0.8913159\n"
      ]
     },
     "metadata": {},
     "output_type": "display_data"
    }
   ],
   "source": [
    "redcap_write(df2, redcap_uri=url, token=token)\n",
    "#optional argument: batch_size = 100 (default)"
   ]
  },
  {
   "cell_type": "code",
   "execution_count": 7,
   "id": "200e7bdb-efa3-4219-bc56-f6a8e31c415a",
   "metadata": {
    "tags": []
   },
   "outputs": [
    {
     "name": "stderr",
     "output_type": "stream",
     "text": [
      "The next free record name in REDCap was successfully determined in 0.3 seconds.  The http status code was 200.  Is is 10.\n",
      "\n"
     ]
    },
    {
     "data": {
      "text/html": [
       "'10'"
      ],
      "text/latex": [
       "'10'"
      ],
      "text/markdown": [
       "'10'"
      ],
      "text/plain": [
       "[1] \"10\""
      ]
     },
     "metadata": {},
     "output_type": "display_data"
    }
   ],
   "source": [
    "redcap_next_free_record_name(redcap_uri=url, token=token)"
   ]
  },
  {
   "cell_type": "markdown",
   "id": "4159a80c-a331-48af-ae66-e4014a813617",
   "metadata": {},
   "source": [
    "## Files - optional attachments to individual records"
   ]
  },
  {
   "cell_type": "markdown",
   "id": "e32a1fbe-0d8c-41da-9fbd-c8051cb107db",
   "metadata": {},
   "source": [
    "File uploads are a unique field type in REDCap that accept a variety of file types, including images and other documents. Unlike other export methods, importing files only works for one file field for one record at a time. \n",
    "\n",
    "If the project has repeating events (i.e. a longitudinal project), the event name must be specified. If the file of interest is in a repeat instance, the instance number must also be specified."
   ]
  },
  {
   "cell_type": "code",
   "execution_count": 10,
   "id": "6179c12d-ece0-4e78-8eb9-a5b028ac9618",
   "metadata": {
    "tags": []
   },
   "outputs": [
    {
     "name": "stderr",
     "output_type": "stream",
     "text": [
      "Preparing to upload the file `../files/test_file.png`.\n",
      "\n",
      "file uploaded to REDCap in 0.5 seconds.\n",
      "\n"
     ]
    },
    {
     "data": {
      "text/html": [
       "<dl>\n",
       "\t<dt>$success</dt>\n",
       "\t\t<dd>TRUE</dd>\n",
       "\t<dt>$status_code</dt>\n",
       "\t\t<dd>200</dd>\n",
       "\t<dt>$outcome_message</dt>\n",
       "\t\t<dd>'file uploaded to REDCap in 0.5 seconds.'</dd>\n",
       "\t<dt>$records_affected_count</dt>\n",
       "\t\t<dd>1</dd>\n",
       "\t<dt>$affected_ids</dt>\n",
       "\t\t<dd>'7'</dd>\n",
       "\t<dt>$elapsed_seconds</dt>\n",
       "\t\t<dd>0.474082946777344</dd>\n",
       "\t<dt>$raw_text</dt>\n",
       "\t\t<dd>''</dd>\n",
       "</dl>\n"
      ],
      "text/latex": [
       "\\begin{description}\n",
       "\\item[\\$success] TRUE\n",
       "\\item[\\$status\\_code] 200\n",
       "\\item[\\$outcome\\_message] 'file uploaded to REDCap in 0.5 seconds.'\n",
       "\\item[\\$records\\_affected\\_count] 1\n",
       "\\item[\\$affected\\_ids] '7'\n",
       "\\item[\\$elapsed\\_seconds] 0.474082946777344\n",
       "\\item[\\$raw\\_text] ''\n",
       "\\end{description}\n"
      ],
      "text/markdown": [
       "$success\n",
       ":   TRUE\n",
       "$status_code\n",
       ":   200\n",
       "$outcome_message\n",
       ":   'file uploaded to REDCap in 0.5 seconds.'\n",
       "$records_affected_count\n",
       ":   1\n",
       "$affected_ids\n",
       ":   '7'\n",
       "$elapsed_seconds\n",
       ":   0.474082946777344\n",
       "$raw_text\n",
       ":   ''\n",
       "\n",
       "\n"
      ],
      "text/plain": [
       "$success\n",
       "[1] TRUE\n",
       "\n",
       "$status_code\n",
       "[1] 200\n",
       "\n",
       "$outcome_message\n",
       "[1] \"file uploaded to REDCap in 0.5 seconds.\"\n",
       "\n",
       "$records_affected_count\n",
       "[1] 1\n",
       "\n",
       "$affected_ids\n",
       "[1] \"7\"\n",
       "\n",
       "$elapsed_seconds\n",
       "[1] 0.4740829\n",
       "\n",
       "$raw_text\n",
       "[1] \"\"\n"
      ]
     },
     "metadata": {},
     "output_type": "display_data"
    }
   ],
   "source": [
    "filepath = '../files/test_file.png'\n",
    "redcap_file_upload_oneshot(file_name=filepath, record=7, field='test_upload', event='case_intake_arm_1', redcap_uri=url, token=token)"
   ]
  },
  {
   "cell_type": "markdown",
   "id": "6b19d3e9-3a90-4d92-a2d4-dd707aed738d",
   "metadata": {
    "tags": []
   },
   "source": [
    "# Metadata"
   ]
  },
  {
   "cell_type": "markdown",
   "id": "3a24126d-6838-4e89-8e6e-d2f897ac5182",
   "metadata": {},
   "source": [
    "Metadata refers to the project's set up characteristics, including field attributes grouped by instrument assignment. Metadata can be thought of as the project's data dictionary.  \n",
    "\n",
    "In this example, the metadata will be exported using `redcap_metadata_read()` and re-imported so no fields are changed. "
   ]
  },
  {
   "cell_type": "code",
   "execution_count": 9,
   "id": "f26de462-69c1-4b5e-b120-2908aaa7c4bb",
   "metadata": {
    "tags": []
   },
   "outputs": [
    {
     "name": "stderr",
     "output_type": "stream",
     "text": [
      "The data dictionary describing 30 fields was read from REDCap in 0.4 seconds.  The http status code was 200.\n",
      "\n"
     ]
    }
   ],
   "source": [
    "metadata <- redcap_metadata_read(redcap_uri=url, token=token)$data"
   ]
  },
  {
   "cell_type": "code",
   "execution_count": 10,
   "id": "ccf337ee-9d00-4be2-b450-d138064203fd",
   "metadata": {
    "tags": []
   },
   "outputs": [
    {
     "data": {
      "text/html": [
       "<table class=\"dataframe\">\n",
       "<caption>A tibble: 6 × 18</caption>\n",
       "<thead>\n",
       "\t<tr><th scope=col>field_name</th><th scope=col>form_name</th><th scope=col>section_header</th><th scope=col>field_type</th><th scope=col>field_label</th><th scope=col>select_choices_or_calculations</th><th scope=col>field_note</th><th scope=col>text_validation_type_or_show_slider_number</th><th scope=col>text_validation_min</th><th scope=col>text_validation_max</th><th scope=col>identifier</th><th scope=col>branching_logic</th><th scope=col>required_field</th><th scope=col>custom_alignment</th><th scope=col>question_number</th><th scope=col>matrix_group_name</th><th scope=col>matrix_ranking</th><th scope=col>field_annotation</th></tr>\n",
       "\t<tr><th scope=col>&lt;chr&gt;</th><th scope=col>&lt;chr&gt;</th><th scope=col>&lt;chr&gt;</th><th scope=col>&lt;chr&gt;</th><th scope=col>&lt;chr&gt;</th><th scope=col>&lt;chr&gt;</th><th scope=col>&lt;chr&gt;</th><th scope=col>&lt;chr&gt;</th><th scope=col>&lt;chr&gt;</th><th scope=col>&lt;chr&gt;</th><th scope=col>&lt;chr&gt;</th><th scope=col>&lt;chr&gt;</th><th scope=col>&lt;chr&gt;</th><th scope=col>&lt;chr&gt;</th><th scope=col>&lt;chr&gt;</th><th scope=col>&lt;chr&gt;</th><th scope=col>&lt;chr&gt;</th><th scope=col>&lt;chr&gt;</th></tr>\n",
       "</thead>\n",
       "<tbody>\n",
       "\t<tr><td>record_id </td><td>demographics</td><td>NA                  </td><td>text</td><td>Study ID     </td><td>NA</td><td>NA</td><td>NA      </td><td>NA   </td><td>NA   </td><td>NA</td><td>NA</td><td>NA</td><td>NA</td><td>NA</td><td>NA</td><td>NA</td><td>NA</td></tr>\n",
       "\t<tr><td>first_name</td><td>demographics</td><td>Personal Information</td><td>text</td><td>First Name   </td><td>NA</td><td>NA</td><td>NA      </td><td>NA   </td><td>NA   </td><td>NA</td><td>NA</td><td>NA</td><td>NA</td><td>NA</td><td>NA</td><td>NA</td><td>NA</td></tr>\n",
       "\t<tr><td>last_name </td><td>demographics</td><td>NA                  </td><td>text</td><td>Last Name    </td><td>NA</td><td>NA</td><td>NA      </td><td>NA   </td><td>NA   </td><td>NA</td><td>NA</td><td>NA</td><td>NA</td><td>NA</td><td>NA</td><td>NA</td><td>NA</td></tr>\n",
       "\t<tr><td>phone_num </td><td>demographics</td><td>NA                  </td><td>text</td><td>Phone Number </td><td>NA</td><td>NA</td><td>phone   </td><td>NA   </td><td>NA   </td><td>NA</td><td>NA</td><td>NA</td><td>NA</td><td>NA</td><td>NA</td><td>NA</td><td>NA</td></tr>\n",
       "\t<tr><td>zip_code  </td><td>demographics</td><td>NA                  </td><td>text</td><td>ZIP Code     </td><td>NA</td><td>NA</td><td>integer </td><td>10001</td><td>99999</td><td>y </td><td>NA</td><td>NA</td><td>NA</td><td>NA</td><td>NA</td><td>NA</td><td>NA</td></tr>\n",
       "\t<tr><td>dob       </td><td>demographics</td><td>NA                  </td><td>text</td><td>Date of birth</td><td>NA</td><td>NA</td><td>date_mdy</td><td>NA   </td><td>NA   </td><td>y </td><td>NA</td><td>NA</td><td>NA</td><td>NA</td><td>NA</td><td>NA</td><td>NA</td></tr>\n",
       "</tbody>\n",
       "</table>\n"
      ],
      "text/latex": [
       "A tibble: 6 × 18\n",
       "\\begin{tabular}{llllllllllllllllll}\n",
       " field\\_name & form\\_name & section\\_header & field\\_type & field\\_label & select\\_choices\\_or\\_calculations & field\\_note & text\\_validation\\_type\\_or\\_show\\_slider\\_number & text\\_validation\\_min & text\\_validation\\_max & identifier & branching\\_logic & required\\_field & custom\\_alignment & question\\_number & matrix\\_group\\_name & matrix\\_ranking & field\\_annotation\\\\\n",
       " <chr> & <chr> & <chr> & <chr> & <chr> & <chr> & <chr> & <chr> & <chr> & <chr> & <chr> & <chr> & <chr> & <chr> & <chr> & <chr> & <chr> & <chr>\\\\\n",
       "\\hline\n",
       "\t record\\_id  & demographics & NA                   & text & Study ID      & NA & NA & NA       & NA    & NA    & NA & NA & NA & NA & NA & NA & NA & NA\\\\\n",
       "\t first\\_name & demographics & Personal Information & text & First Name    & NA & NA & NA       & NA    & NA    & NA & NA & NA & NA & NA & NA & NA & NA\\\\\n",
       "\t last\\_name  & demographics & NA                   & text & Last Name     & NA & NA & NA       & NA    & NA    & NA & NA & NA & NA & NA & NA & NA & NA\\\\\n",
       "\t phone\\_num  & demographics & NA                   & text & Phone Number  & NA & NA & phone    & NA    & NA    & NA & NA & NA & NA & NA & NA & NA & NA\\\\\n",
       "\t zip\\_code   & demographics & NA                   & text & ZIP Code      & NA & NA & integer  & 10001 & 99999 & y  & NA & NA & NA & NA & NA & NA & NA\\\\\n",
       "\t dob        & demographics & NA                   & text & Date of birth & NA & NA & date\\_mdy & NA    & NA    & y  & NA & NA & NA & NA & NA & NA & NA\\\\\n",
       "\\end{tabular}\n"
      ],
      "text/markdown": [
       "\n",
       "A tibble: 6 × 18\n",
       "\n",
       "| field_name &lt;chr&gt; | form_name &lt;chr&gt; | section_header &lt;chr&gt; | field_type &lt;chr&gt; | field_label &lt;chr&gt; | select_choices_or_calculations &lt;chr&gt; | field_note &lt;chr&gt; | text_validation_type_or_show_slider_number &lt;chr&gt; | text_validation_min &lt;chr&gt; | text_validation_max &lt;chr&gt; | identifier &lt;chr&gt; | branching_logic &lt;chr&gt; | required_field &lt;chr&gt; | custom_alignment &lt;chr&gt; | question_number &lt;chr&gt; | matrix_group_name &lt;chr&gt; | matrix_ranking &lt;chr&gt; | field_annotation &lt;chr&gt; |\n",
       "|---|---|---|---|---|---|---|---|---|---|---|---|---|---|---|---|---|---|\n",
       "| record_id  | demographics | NA                   | text | Study ID      | NA | NA | NA       | NA    | NA    | NA | NA | NA | NA | NA | NA | NA | NA |\n",
       "| first_name | demographics | Personal Information | text | First Name    | NA | NA | NA       | NA    | NA    | NA | NA | NA | NA | NA | NA | NA | NA |\n",
       "| last_name  | demographics | NA                   | text | Last Name     | NA | NA | NA       | NA    | NA    | NA | NA | NA | NA | NA | NA | NA | NA |\n",
       "| phone_num  | demographics | NA                   | text | Phone Number  | NA | NA | phone    | NA    | NA    | NA | NA | NA | NA | NA | NA | NA | NA |\n",
       "| zip_code   | demographics | NA                   | text | ZIP Code      | NA | NA | integer  | 10001 | 99999 | y  | NA | NA | NA | NA | NA | NA | NA |\n",
       "| dob        | demographics | NA                   | text | Date of birth | NA | NA | date_mdy | NA    | NA    | y  | NA | NA | NA | NA | NA | NA | NA |\n",
       "\n"
      ],
      "text/plain": [
       "  field_name form_name    section_header       field_type field_label  \n",
       "1 record_id  demographics NA                   text       Study ID     \n",
       "2 first_name demographics Personal Information text       First Name   \n",
       "3 last_name  demographics NA                   text       Last Name    \n",
       "4 phone_num  demographics NA                   text       Phone Number \n",
       "5 zip_code   demographics NA                   text       ZIP Code     \n",
       "6 dob        demographics NA                   text       Date of birth\n",
       "  select_choices_or_calculations field_note\n",
       "1 NA                             NA        \n",
       "2 NA                             NA        \n",
       "3 NA                             NA        \n",
       "4 NA                             NA        \n",
       "5 NA                             NA        \n",
       "6 NA                             NA        \n",
       "  text_validation_type_or_show_slider_number text_validation_min\n",
       "1 NA                                         NA                 \n",
       "2 NA                                         NA                 \n",
       "3 NA                                         NA                 \n",
       "4 phone                                      NA                 \n",
       "5 integer                                    10001              \n",
       "6 date_mdy                                   NA                 \n",
       "  text_validation_max identifier branching_logic required_field\n",
       "1 NA                  NA         NA              NA            \n",
       "2 NA                  NA         NA              NA            \n",
       "3 NA                  NA         NA              NA            \n",
       "4 NA                  NA         NA              NA            \n",
       "5 99999               y          NA              NA            \n",
       "6 NA                  y          NA              NA            \n",
       "  custom_alignment question_number matrix_group_name matrix_ranking\n",
       "1 NA               NA              NA                NA            \n",
       "2 NA               NA              NA                NA            \n",
       "3 NA               NA              NA                NA            \n",
       "4 NA               NA              NA                NA            \n",
       "5 NA               NA              NA                NA            \n",
       "6 NA               NA              NA                NA            \n",
       "  field_annotation\n",
       "1 NA              \n",
       "2 NA              \n",
       "3 NA              \n",
       "4 NA              \n",
       "5 NA              \n",
       "6 NA              "
      ]
     },
     "metadata": {},
     "output_type": "display_data"
    }
   ],
   "source": [
    "head(metadata)"
   ]
  },
  {
   "cell_type": "code",
   "execution_count": 11,
   "id": "ffa156c4-f1ba-4709-bded-5a2b9f3d79d8",
   "metadata": {
    "tags": []
   },
   "outputs": [
    {
     "name": "stderr",
     "output_type": "stream",
     "text": [
      "30 fields were written to the REDCap dictionary in 0.8 seconds.\n",
      "\n"
     ]
    },
    {
     "data": {
      "text/html": [
       "<dl>\n",
       "\t<dt>$success</dt>\n",
       "\t\t<dd>TRUE</dd>\n",
       "\t<dt>$status_code</dt>\n",
       "\t\t<dd>200</dd>\n",
       "\t<dt>$outcome_message</dt>\n",
       "\t\t<dd>'30 fields were written to the REDCap dictionary in 0.8 seconds.'</dd>\n",
       "\t<dt>$field_count</dt>\n",
       "\t\t<dd>30</dd>\n",
       "\t<dt>$elapsed_seconds</dt>\n",
       "\t\t<dd>0.774977922439575</dd>\n",
       "\t<dt>$raw_text</dt>\n",
       "\t\t<dd>''</dd>\n",
       "</dl>\n"
      ],
      "text/latex": [
       "\\begin{description}\n",
       "\\item[\\$success] TRUE\n",
       "\\item[\\$status\\_code] 200\n",
       "\\item[\\$outcome\\_message] '30 fields were written to the REDCap dictionary in 0.8 seconds.'\n",
       "\\item[\\$field\\_count] 30\n",
       "\\item[\\$elapsed\\_seconds] 0.774977922439575\n",
       "\\item[\\$raw\\_text] ''\n",
       "\\end{description}\n"
      ],
      "text/markdown": [
       "$success\n",
       ":   TRUE\n",
       "$status_code\n",
       ":   200\n",
       "$outcome_message\n",
       ":   '30 fields were written to the REDCap dictionary in 0.8 seconds.'\n",
       "$field_count\n",
       ":   30\n",
       "$elapsed_seconds\n",
       ":   0.774977922439575\n",
       "$raw_text\n",
       ":   ''\n",
       "\n",
       "\n"
      ],
      "text/plain": [
       "$success\n",
       "[1] TRUE\n",
       "\n",
       "$status_code\n",
       "[1] 200\n",
       "\n",
       "$outcome_message\n",
       "[1] \"30 fields were written to the REDCap dictionary in 0.8 seconds.\"\n",
       "\n",
       "$field_count\n",
       "[1] 30\n",
       "\n",
       "$elapsed_seconds\n",
       "[1] 0.7749779\n",
       "\n",
       "$raw_text\n",
       "[1] \"\"\n"
      ]
     },
     "metadata": {},
     "output_type": "display_data"
    }
   ],
   "source": [
    "redcap_metadata_write(metadata, redcap_uri=url, token=token)"
   ]
  },
  {
   "cell_type": "markdown",
   "id": "0bc32ad1-c77c-4d66-961a-630a212d6c98",
   "metadata": {
    "tags": []
   },
   "source": [
    "# Data Validations"
   ]
  },
  {
   "cell_type": "markdown",
   "id": "f0b218d9-218c-4812-b18d-e754dc5bf1a4",
   "metadata": {},
   "source": [
    "REDCapR a a few data validation functions that can be used to check your data before importing it to your REDCap project. These validations will not be specific to your paricular REDCAp project but are general validations that apply to all REDCap projects. For example, you can check if you have any boolean values (True/False) since REDCap will only except import of 0/1 integers. You can also check for duplicates and uniqe IDs. You can view more details on these data validation functions [here](https://ouhscbbmc.github.io/REDCapR/reference/validate.html)."
   ]
  },
  {
   "cell_type": "markdown",
   "id": "040e662d-a492-43d8-aa6f-9a36223b2011",
   "metadata": {
    "tags": []
   },
   "source": [
    "# Appendix"
   ]
  },
  {
   "cell_type": "markdown",
   "id": "7d2641af-4443-4f9e-96bb-078368ff4bd2",
   "metadata": {},
   "source": [
    "## Cannot be Imported \n",
    "Field Names <br>\n",
    "- Importing this would be covered by the `redcap_metadata_write()` function. <br>\n",
    "- Can be exported using `redcap_variables()`. <br>\n",
    "\n",
    "Forms/Instruments <br>\n",
    "- Importing this would be covered by the `redcap_metadata_write()` function. <br>\n",
    "- Can be exported using `redcap_instruments()` or downloaded using `redcap_instrument_download()`. <br>\n",
    "\n",
    "Instrument Event Map <br>\n",
    "- Importing this would be covered by the `redcap_metadata_write()` function. <br> \n",
    "- Can be exported using `redcap_event_instruments()`. <br>\n",
    "\n",
    "Reports <br>\n",
    "- Cannot be imported. <br>\n",
    "- Can be exported using `redcap_report()`. <br>\n",
    "\n",
    "Users <br>\n",
    "- Cannot be imported with REDCapR. <br> \n",
    "- Can be exported using `redcap_users_export()`. <br>\n",
    "\n",
    "User Roles <br>\n",
    "- Cannot be imported with REDCapR. <br> \n",
    "- Can be exported using `redcap_users_export()`, if applicable. <br>\n",
    "\n",
    "Data Access Groups (DAGs) <br>\n",
    "- Cannot be imported with REDCapR. <br> \n",
    "- Can be exported using `redcap_dag_read()`. <br>\n",
    "\n",
    "Logging <br>\n",
    "- Cannot be imported. <br> \n",
    "- Can be exported using `redcap_log_read()`. <br>\n",
    "\n",
    "Can be imported in REDCap but not REDCapR: [ADD HERE] <br>"
   ]
  },
  {
   "cell_type": "markdown",
   "id": "3359475a-3cc1-4cc7-8bf5-fc8842972c48",
   "metadata": {},
   "source": [
    "## Example REDCap Projects and Data Structures"
   ]
  },
  {
   "cell_type": "markdown",
   "id": "f027058f-e949-4e33-b608-41526626c809",
   "metadata": {},
   "source": [
    "<img src=\"../files/REDCap API Tutorial - Examples v2 (non-long).png\" width=800/>\n",
    "\n",
    "<img src=\"../files/REDCap API Tutorial - Examples v2 (long) pt1.png\" width=800/>\n",
    "\n",
    "<img src=\"../files/REDCap API Tutorial - Examples v2 (long) pt2.png\" width=800/>"
   ]
  },
  {
   "cell_type": "markdown",
   "id": "fe34cb48-91c5-4534-8f68-c458b040be3a",
   "metadata": {},
   "source": [
    "The base of every unique key is always the `record_id`. In non-longitudinal projects, there may also be a `repeat_instrument` and `repeat_instance` column if these features are enabled. In longitudinal projects, there will be an `event_name` column, as well as a `repeat_instance` column in the case of repeating events and a `repeat_instrument` column in the case of independently repeating instruments. \n",
    "\n",
    "This unique key applies for studies with and without multiple arms. Each value for the `event_name` includes the study arm as a suffix. The suffix will automatically be *\"_arm_1\"* for longitudinal studies without additional arms.  \n",
    "\n",
    "These special unique key fields must be appropriately filled out in the data being imported to REDCap."
   ]
  },
  {
   "cell_type": "markdown",
   "id": "cceeba34-5aa5-4104-98d9-a7f718ef6509",
   "metadata": {},
   "source": [
    "## Example: Uploading Records from a CSV"
   ]
  },
  {
   "cell_type": "markdown",
   "id": "c19d7573-6d70-4fec-8bcd-dd183f8ce14b",
   "metadata": {},
   "source": [
    "In this example, we have a csv named \"data_to_import.csv\", with new records to upload."
   ]
  },
  {
   "cell_type": "code",
   "execution_count": 36,
   "id": "348d64ec-151f-49c0-9432-a855aa1e396b",
   "metadata": {
    "tags": []
   },
   "outputs": [
    {
     "data": {
      "text/html": [
       "<table class=\"dataframe\">\n",
       "<caption>A data.frame: 6 × 50</caption>\n",
       "<thead>\n",
       "\t<tr><th></th><th scope=col>record_id</th><th scope=col>redcap_event_name</th><th scope=col>redcap_repeat_instrument</th><th scope=col>redcap_repeat_instance</th><th scope=col>redcap_survey_identifier</th><th scope=col>demographics_timestamp</th><th scope=col>first_name</th><th scope=col>last_name</th><th scope=col>phone_num</th><th scope=col>zip_code</th><th scope=col>...</th><th scope=col>cc_phone</th><th scope=col>cc_email</th><th scope=col>close_contacts_complete</th><th scope=col>supervisor_name</th><th scope=col>supervisor_email</th><th scope=col>work_inperson_yesno</th><th scope=col>work_date</th><th scope=col>work_contagious</th><th scope=col>work_contagious_calc</th><th scope=col>work_information_complete</th></tr>\n",
       "\t<tr><th></th><th scope=col>&lt;int&gt;</th><th scope=col>&lt;chr&gt;</th><th scope=col>&lt;chr&gt;</th><th scope=col>&lt;int&gt;</th><th scope=col>&lt;lgl&gt;</th><th scope=col>&lt;lgl&gt;</th><th scope=col>&lt;chr&gt;</th><th scope=col>&lt;chr&gt;</th><th scope=col>&lt;chr&gt;</th><th scope=col>&lt;int&gt;</th><th scope=col>...</th><th scope=col>&lt;chr&gt;</th><th scope=col>&lt;chr&gt;</th><th scope=col>&lt;int&gt;</th><th scope=col>&lt;chr&gt;</th><th scope=col>&lt;chr&gt;</th><th scope=col>&lt;int&gt;</th><th scope=col>&lt;chr&gt;</th><th scope=col>&lt;int&gt;</th><th scope=col>&lt;lgl&gt;</th><th scope=col>&lt;int&gt;</th></tr>\n",
       "</thead>\n",
       "<tbody>\n",
       "\t<tr><th scope=row>1</th><td>3</td><td>personal_info_arm_1</td><td>              </td><td>NA</td><td>NA</td><td>NA</td><td>John</td><td>Doe</td><td>(999) 999-9999</td><td>98105</td><td>...</td><td>              </td><td>                    </td><td>NA</td><td>    </td><td></td><td>NA</td><td></td><td>NA</td><td>NA</td><td>NA</td></tr>\n",
       "\t<tr><th scope=row>2</th><td>3</td><td>notifications_arm_1</td><td>              </td><td>NA</td><td>NA</td><td>NA</td><td>    </td><td>   </td><td>              </td><td>   NA</td><td>...</td><td>              </td><td>                    </td><td>NA</td><td>Boss</td><td></td><td> 0</td><td></td><td> 0</td><td>NA</td><td> 2</td></tr>\n",
       "\t<tr><th scope=row>3</th><td>3</td><td>case_intake_arm_1  </td><td>              </td><td> 1</td><td>NA</td><td>NA</td><td>    </td><td>   </td><td>              </td><td>   NA</td><td>...</td><td>              </td><td>                    </td><td>NA</td><td>    </td><td></td><td>NA</td><td></td><td>NA</td><td>NA</td><td>NA</td></tr>\n",
       "\t<tr><th scope=row>4</th><td>3</td><td>notifications_arm_1</td><td>close_contacts</td><td> 1</td><td>NA</td><td>NA</td><td>    </td><td>   </td><td>              </td><td>   NA</td><td>...</td><td>(999) 999-9999</td><td>fake_email@gmail.com</td><td> 2</td><td>    </td><td></td><td>NA</td><td></td><td>NA</td><td>NA</td><td>NA</td></tr>\n",
       "\t<tr><th scope=row>5</th><td>3</td><td>notifications_arm_1</td><td>close_contacts</td><td> 2</td><td>NA</td><td>NA</td><td>    </td><td>   </td><td>              </td><td>   NA</td><td>...</td><td>(999) 999-9999</td><td>fake_email@gmail.com</td><td> 2</td><td>    </td><td></td><td>NA</td><td></td><td>NA</td><td>NA</td><td>NA</td></tr>\n",
       "\t<tr><th scope=row>6</th><td>4</td><td>personal_info_arm_1</td><td>              </td><td>NA</td><td>NA</td><td>NA</td><td>Jane</td><td>Doe</td><td>(999) 999-9999</td><td>98105</td><td>...</td><td>              </td><td>                    </td><td>NA</td><td>    </td><td></td><td>NA</td><td></td><td>NA</td><td>NA</td><td>NA</td></tr>\n",
       "</tbody>\n",
       "</table>\n"
      ],
      "text/latex": [
       "A data.frame: 6 × 50\n",
       "\\begin{tabular}{r|lllllllllllllllllllll}\n",
       "  & record\\_id & redcap\\_event\\_name & redcap\\_repeat\\_instrument & redcap\\_repeat\\_instance & redcap\\_survey\\_identifier & demographics\\_timestamp & first\\_name & last\\_name & phone\\_num & zip\\_code & ... & cc\\_phone & cc\\_email & close\\_contacts\\_complete & supervisor\\_name & supervisor\\_email & work\\_inperson\\_yesno & work\\_date & work\\_contagious & work\\_contagious\\_calc & work\\_information\\_complete\\\\\n",
       "  & <int> & <chr> & <chr> & <int> & <lgl> & <lgl> & <chr> & <chr> & <chr> & <int> & ... & <chr> & <chr> & <int> & <chr> & <chr> & <int> & <chr> & <int> & <lgl> & <int>\\\\\n",
       "\\hline\n",
       "\t1 & 3 & personal\\_info\\_arm\\_1 &                & NA & NA & NA & John & Doe & (999) 999-9999 & 98105 & ... &                &                      & NA &      &  & NA &  & NA & NA & NA\\\\\n",
       "\t2 & 3 & notifications\\_arm\\_1 &                & NA & NA & NA &      &     &                &    NA & ... &                &                      & NA & Boss &  &  0 &  &  0 & NA &  2\\\\\n",
       "\t3 & 3 & case\\_intake\\_arm\\_1   &                &  1 & NA & NA &      &     &                &    NA & ... &                &                      & NA &      &  & NA &  & NA & NA & NA\\\\\n",
       "\t4 & 3 & notifications\\_arm\\_1 & close\\_contacts &  1 & NA & NA &      &     &                &    NA & ... & (999) 999-9999 & fake\\_email@gmail.com &  2 &      &  & NA &  & NA & NA & NA\\\\\n",
       "\t5 & 3 & notifications\\_arm\\_1 & close\\_contacts &  2 & NA & NA &      &     &                &    NA & ... & (999) 999-9999 & fake\\_email@gmail.com &  2 &      &  & NA &  & NA & NA & NA\\\\\n",
       "\t6 & 4 & personal\\_info\\_arm\\_1 &                & NA & NA & NA & Jane & Doe & (999) 999-9999 & 98105 & ... &                &                      & NA &      &  & NA &  & NA & NA & NA\\\\\n",
       "\\end{tabular}\n"
      ],
      "text/markdown": [
       "\n",
       "A data.frame: 6 × 50\n",
       "\n",
       "| <!--/--> | record_id &lt;int&gt; | redcap_event_name &lt;chr&gt; | redcap_repeat_instrument &lt;chr&gt; | redcap_repeat_instance &lt;int&gt; | redcap_survey_identifier &lt;lgl&gt; | demographics_timestamp &lt;lgl&gt; | first_name &lt;chr&gt; | last_name &lt;chr&gt; | phone_num &lt;chr&gt; | zip_code &lt;int&gt; | ... ... | cc_phone &lt;chr&gt; | cc_email &lt;chr&gt; | close_contacts_complete &lt;int&gt; | supervisor_name &lt;chr&gt; | supervisor_email &lt;chr&gt; | work_inperson_yesno &lt;int&gt; | work_date &lt;chr&gt; | work_contagious &lt;int&gt; | work_contagious_calc &lt;lgl&gt; | work_information_complete &lt;int&gt; |\n",
       "|---|---|---|---|---|---|---|---|---|---|---|---|---|---|---|---|---|---|---|---|---|---|\n",
       "| 1 | 3 | personal_info_arm_1 | <!----> | NA | NA | NA | John | Doe | (999) 999-9999 | 98105 | ... | <!----> | <!----> | NA | <!----> | <!----> | NA | <!----> | NA | NA | NA |\n",
       "| 2 | 3 | notifications_arm_1 | <!----> | NA | NA | NA | <!----> | <!----> | <!----> |    NA | ... | <!----> | <!----> | NA | Boss | <!----> |  0 | <!----> |  0 | NA |  2 |\n",
       "| 3 | 3 | case_intake_arm_1   | <!----> |  1 | NA | NA | <!----> | <!----> | <!----> |    NA | ... | <!----> | <!----> | NA | <!----> | <!----> | NA | <!----> | NA | NA | NA |\n",
       "| 4 | 3 | notifications_arm_1 | close_contacts |  1 | NA | NA | <!----> | <!----> | <!----> |    NA | ... | (999) 999-9999 | fake_email@gmail.com |  2 | <!----> | <!----> | NA | <!----> | NA | NA | NA |\n",
       "| 5 | 3 | notifications_arm_1 | close_contacts |  2 | NA | NA | <!----> | <!----> | <!----> |    NA | ... | (999) 999-9999 | fake_email@gmail.com |  2 | <!----> | <!----> | NA | <!----> | NA | NA | NA |\n",
       "| 6 | 4 | personal_info_arm_1 | <!----> | NA | NA | NA | Jane | Doe | (999) 999-9999 | 98105 | ... | <!----> | <!----> | NA | <!----> | <!----> | NA | <!----> | NA | NA | NA |\n",
       "\n"
      ],
      "text/plain": [
       "  record_id redcap_event_name   redcap_repeat_instrument redcap_repeat_instance\n",
       "1 3         personal_info_arm_1                          NA                    \n",
       "2 3         notifications_arm_1                          NA                    \n",
       "3 3         case_intake_arm_1                             1                    \n",
       "4 3         notifications_arm_1 close_contacts            1                    \n",
       "5 3         notifications_arm_1 close_contacts            2                    \n",
       "6 4         personal_info_arm_1                          NA                    \n",
       "  redcap_survey_identifier demographics_timestamp first_name last_name\n",
       "1 NA                       NA                     John       Doe      \n",
       "2 NA                       NA                                         \n",
       "3 NA                       NA                                         \n",
       "4 NA                       NA                                         \n",
       "5 NA                       NA                                         \n",
       "6 NA                       NA                     Jane       Doe      \n",
       "  phone_num      zip_code ... cc_phone       cc_email            \n",
       "1 (999) 999-9999 98105    ...                                    \n",
       "2                   NA    ...                                    \n",
       "3                   NA    ...                                    \n",
       "4                   NA    ... (999) 999-9999 fake_email@gmail.com\n",
       "5                   NA    ... (999) 999-9999 fake_email@gmail.com\n",
       "6 (999) 999-9999 98105    ...                                    \n",
       "  close_contacts_complete supervisor_name supervisor_email work_inperson_yesno\n",
       "1 NA                                                       NA                 \n",
       "2 NA                      Boss                              0                 \n",
       "3 NA                                                       NA                 \n",
       "4  2                                                       NA                 \n",
       "5  2                                                       NA                 \n",
       "6 NA                                                       NA                 \n",
       "  work_date work_contagious work_contagious_calc work_information_complete\n",
       "1           NA              NA                   NA                       \n",
       "2            0              NA                    2                       \n",
       "3           NA              NA                   NA                       \n",
       "4           NA              NA                   NA                       \n",
       "5           NA              NA                   NA                       \n",
       "6           NA              NA                   NA                       "
      ]
     },
     "metadata": {},
     "output_type": "display_data"
    }
   ],
   "source": [
    "df_to_import <- read.csv(\"../files/data_to_import.csv\")\n",
    "head(df_to_import)"
   ]
  },
  {
   "cell_type": "markdown",
   "id": "2ccd12b5-22e0-4526-ad0e-74faab13113e",
   "metadata": {},
   "source": [
    "Because this project is longitudinal with repeat instruments and events, there are multiple rows per record."
   ]
  },
  {
   "cell_type": "code",
   "execution_count": 37,
   "id": "b9af5b97-4604-48a9-b7fd-972cbed48255",
   "metadata": {
    "tags": []
   },
   "outputs": [
    {
     "data": {
      "text/html": [
       "<style>\n",
       ".list-inline {list-style: none; margin:0; padding: 0}\n",
       ".list-inline>li {display: inline-block}\n",
       ".list-inline>li:not(:last-child)::after {content: \"\\00b7\"; padding: 0 .5ex}\n",
       "</style>\n",
       "<ol class=list-inline><li>3</li><li>4</li><li>5</li><li>6</li></ol>\n"
      ],
      "text/latex": [
       "\\begin{enumerate*}\n",
       "\\item 3\n",
       "\\item 4\n",
       "\\item 5\n",
       "\\item 6\n",
       "\\end{enumerate*}\n"
      ],
      "text/markdown": [
       "1. 3\n",
       "2. 4\n",
       "3. 5\n",
       "4. 6\n",
       "\n",
       "\n"
      ],
      "text/plain": [
       "[1] 3 4 5 6"
      ]
     },
     "metadata": {},
     "output_type": "display_data"
    }
   ],
   "source": [
    "# view which record_id's are currently being used in the data set to import. \n",
    "unique(df_to_import$record_id)"
   ]
  },
  {
   "cell_type": "markdown",
   "id": "837c4e58-ce66-4091-aad4-1482c337b9c4",
   "metadata": {},
   "source": [
    "In the dataframe we will import, the record IDs are 3-6. However, these IDs are already exist in the REDCap project and importing this data would overwrite the already exisiting record IDs 3-6. If we want to import these as new records, we will need to rename the record IDs. "
   ]
  },
  {
   "cell_type": "code",
   "execution_count": 38,
   "id": "40a81e23-3a48-4486-8e56-2701dc2ebe39",
   "metadata": {
    "tags": []
   },
   "outputs": [
    {
     "name": "stderr",
     "output_type": "stream",
     "text": [
      "The next free record name in REDCap was successfully determined in 0.4 seconds.  The http status code was 200.  Is is 10.\n",
      "\n"
     ]
    }
   ],
   "source": [
    "# start by getting the next available record_id\n",
    "next_record <- redcap_next_free_record_name(redcap_uri=url, token=token)"
   ]
  },
  {
   "cell_type": "code",
   "execution_count": 39,
   "id": "8347e636-d7c1-4e0f-a13d-4eb93c65c7ac",
   "metadata": {
    "tags": []
   },
   "outputs": [],
   "source": [
    "### sequence the df_to_import records starting at one\n",
    "df_to_import <- df_to_import[order(df_to_import$record_id), , drop = FALSE]\n",
    "df_to_import$seq <- as.numeric(factor(df_to_import$record_id))"
   ]
  },
  {
   "cell_type": "code",
   "execution_count": 40,
   "id": "fdbf5180-d613-4259-8b3b-3b061f8c62ea",
   "metadata": {
    "tags": []
   },
   "outputs": [
    {
     "name": "stderr",
     "output_type": "stream",
     "text": [
      "\u001b[1m\u001b[22m`summarise()` has grouped output by 'record_id'. You can override using the\n",
      "`.groups` argument.\n"
     ]
    },
    {
     "data": {
      "text/html": [
       "<table class=\"dataframe\">\n",
       "<caption>A grouped_df: 4 × 3</caption>\n",
       "<thead>\n",
       "\t<tr><th scope=col>record_id</th><th scope=col>seq</th><th scope=col>n</th></tr>\n",
       "\t<tr><th scope=col>&lt;int&gt;</th><th scope=col>&lt;dbl&gt;</th><th scope=col>&lt;int&gt;</th></tr>\n",
       "</thead>\n",
       "<tbody>\n",
       "\t<tr><td>3</td><td>1</td><td>5</td></tr>\n",
       "\t<tr><td>4</td><td>2</td><td>6</td></tr>\n",
       "\t<tr><td>5</td><td>3</td><td>4</td></tr>\n",
       "\t<tr><td>6</td><td>4</td><td>5</td></tr>\n",
       "</tbody>\n",
       "</table>\n"
      ],
      "text/latex": [
       "A grouped\\_df: 4 × 3\n",
       "\\begin{tabular}{lll}\n",
       " record\\_id & seq & n\\\\\n",
       " <int> & <dbl> & <int>\\\\\n",
       "\\hline\n",
       "\t 3 & 1 & 5\\\\\n",
       "\t 4 & 2 & 6\\\\\n",
       "\t 5 & 3 & 4\\\\\n",
       "\t 6 & 4 & 5\\\\\n",
       "\\end{tabular}\n"
      ],
      "text/markdown": [
       "\n",
       "A grouped_df: 4 × 3\n",
       "\n",
       "| record_id &lt;int&gt; | seq &lt;dbl&gt; | n &lt;int&gt; |\n",
       "|---|---|---|\n",
       "| 3 | 1 | 5 |\n",
       "| 4 | 2 | 6 |\n",
       "| 5 | 3 | 4 |\n",
       "| 6 | 4 | 5 |\n",
       "\n"
      ],
      "text/plain": [
       "  record_id seq n\n",
       "1 3         1   5\n",
       "2 4         2   6\n",
       "3 5         3   4\n",
       "4 6         4   5"
      ]
     },
     "metadata": {},
     "output_type": "display_data"
    }
   ],
   "source": [
    "df_to_import %>% group_by(record_id, seq) %>% summarize(n=n())"
   ]
  },
  {
   "cell_type": "code",
   "execution_count": 41,
   "id": "52844632-51f4-4026-a354-a46624ddafe6",
   "metadata": {
    "tags": []
   },
   "outputs": [
    {
     "data": {
      "text/html": [
       "<style>\n",
       ".list-inline {list-style: none; margin:0; padding: 0}\n",
       ".list-inline>li {display: inline-block}\n",
       ".list-inline>li:not(:last-child)::after {content: \"\\00b7\"; padding: 0 .5ex}\n",
       "</style>\n",
       "<ol class=list-inline><li>10</li><li>11</li><li>12</li><li>13</li></ol>\n"
      ],
      "text/latex": [
       "\\begin{enumerate*}\n",
       "\\item 10\n",
       "\\item 11\n",
       "\\item 12\n",
       "\\item 13\n",
       "\\end{enumerate*}\n"
      ],
      "text/markdown": [
       "1. 10\n",
       "2. 11\n",
       "3. 12\n",
       "4. 13\n",
       "\n",
       "\n"
      ],
      "text/plain": [
       "[1] 10 11 12 13"
      ]
     },
     "metadata": {},
     "output_type": "display_data"
    }
   ],
   "source": [
    "# Adjust record IDs to start at the next available record_id\n",
    "df_to_import$record_id <- as.numeric(df_to_import$seq) + (as.numeric(next_record)-1)\n",
    "unique(df_to_import$record_id)"
   ]
  },
  {
   "cell_type": "markdown",
   "id": "afbcecc8-dccd-4973-afba-2a58d427cf14",
   "metadata": {},
   "source": [
    "The record ID's have been changed to new IDs that don't already exist in the REDCap project."
   ]
  },
  {
   "cell_type": "code",
   "execution_count": 42,
   "id": "6bc6621c-ed87-4083-bd77-4700ed1b9f24",
   "metadata": {
    "tags": []
   },
   "outputs": [],
   "source": [
    "# Remove the seq var that was created above\n",
    "df_to_import <- df_to_import %>% select(-seq)"
   ]
  },
  {
   "cell_type": "markdown",
   "id": "adde0f7b-b0d3-4615-9f2a-cac4c20ed2fb",
   "metadata": {},
   "source": [
    "Date fields in REDCap are character fields with a designated date validation added. There are many different types of date validations/formats that can be chosen for a date field. All date fields must be imported to REDCap only in the Y-M-D format, regardless of the specific date format designated for this field in the REDCap project. Below is an example on how to use the project metadata to isolate and format all date fields before importing data. "
   ]
  },
  {
   "cell_type": "code",
   "execution_count": 29,
   "id": "66bef81c-bff9-4368-a5d6-b10c6069a837",
   "metadata": {
    "tags": []
   },
   "outputs": [
    {
     "name": "stderr",
     "output_type": "stream",
     "text": [
      "The data dictionary describing 30 fields was read from REDCap in 2.2 seconds.  The http status code was 200.\n",
      "\n"
     ]
    }
   ],
   "source": [
    "# Export metadata\n",
    "metadata <- redcap_metadata_read(redcap_uri = url, token = token)$data"
   ]
  },
  {
   "cell_type": "code",
   "execution_count": 30,
   "id": "221cdc08-a008-4a8a-848d-dc7f12ef1a5b",
   "metadata": {
    "tags": []
   },
   "outputs": [
    {
     "data": {
      "text/html": [
       "<table class=\"dataframe\">\n",
       "<caption>A tibble: 6 × 18</caption>\n",
       "<thead>\n",
       "\t<tr><th scope=col>field_name</th><th scope=col>form_name</th><th scope=col>section_header</th><th scope=col>field_type</th><th scope=col>field_label</th><th scope=col>select_choices_or_calculations</th><th scope=col>field_note</th><th scope=col>text_validation_type_or_show_slider_number</th><th scope=col>text_validation_min</th><th scope=col>text_validation_max</th><th scope=col>identifier</th><th scope=col>branching_logic</th><th scope=col>required_field</th><th scope=col>custom_alignment</th><th scope=col>question_number</th><th scope=col>matrix_group_name</th><th scope=col>matrix_ranking</th><th scope=col>field_annotation</th></tr>\n",
       "\t<tr><th scope=col>&lt;chr&gt;</th><th scope=col>&lt;chr&gt;</th><th scope=col>&lt;chr&gt;</th><th scope=col>&lt;chr&gt;</th><th scope=col>&lt;chr&gt;</th><th scope=col>&lt;chr&gt;</th><th scope=col>&lt;chr&gt;</th><th scope=col>&lt;chr&gt;</th><th scope=col>&lt;chr&gt;</th><th scope=col>&lt;chr&gt;</th><th scope=col>&lt;chr&gt;</th><th scope=col>&lt;chr&gt;</th><th scope=col>&lt;chr&gt;</th><th scope=col>&lt;chr&gt;</th><th scope=col>&lt;chr&gt;</th><th scope=col>&lt;chr&gt;</th><th scope=col>&lt;chr&gt;</th><th scope=col>&lt;chr&gt;</th></tr>\n",
       "</thead>\n",
       "<tbody>\n",
       "\t<tr><td>record_id </td><td>demographics</td><td>NA                  </td><td>text</td><td>Study ID     </td><td>NA</td><td>NA</td><td>NA      </td><td>NA   </td><td>NA   </td><td>NA</td><td>NA</td><td>NA</td><td>NA</td><td>NA</td><td>NA</td><td>NA</td><td>NA</td></tr>\n",
       "\t<tr><td>first_name</td><td>demographics</td><td>Personal Information</td><td>text</td><td>First Name   </td><td>NA</td><td>NA</td><td>NA      </td><td>NA   </td><td>NA   </td><td>NA</td><td>NA</td><td>NA</td><td>NA</td><td>NA</td><td>NA</td><td>NA</td><td>NA</td></tr>\n",
       "\t<tr><td>last_name </td><td>demographics</td><td>NA                  </td><td>text</td><td>Last Name    </td><td>NA</td><td>NA</td><td>NA      </td><td>NA   </td><td>NA   </td><td>NA</td><td>NA</td><td>NA</td><td>NA</td><td>NA</td><td>NA</td><td>NA</td><td>NA</td></tr>\n",
       "\t<tr><td>phone_num </td><td>demographics</td><td>NA                  </td><td>text</td><td>Phone Number </td><td>NA</td><td>NA</td><td>phone   </td><td>NA   </td><td>NA   </td><td>NA</td><td>NA</td><td>NA</td><td>NA</td><td>NA</td><td>NA</td><td>NA</td><td>NA</td></tr>\n",
       "\t<tr><td>zip_code  </td><td>demographics</td><td>NA                  </td><td>text</td><td>ZIP Code     </td><td>NA</td><td>NA</td><td>integer </td><td>10001</td><td>99999</td><td>y </td><td>NA</td><td>NA</td><td>NA</td><td>NA</td><td>NA</td><td>NA</td><td>NA</td></tr>\n",
       "\t<tr><td>dob       </td><td>demographics</td><td>NA                  </td><td>text</td><td>Date of birth</td><td>NA</td><td>NA</td><td>date_mdy</td><td>NA   </td><td>NA   </td><td>y </td><td>NA</td><td>NA</td><td>NA</td><td>NA</td><td>NA</td><td>NA</td><td>NA</td></tr>\n",
       "</tbody>\n",
       "</table>\n"
      ],
      "text/latex": [
       "A tibble: 6 × 18\n",
       "\\begin{tabular}{llllllllllllllllll}\n",
       " field\\_name & form\\_name & section\\_header & field\\_type & field\\_label & select\\_choices\\_or\\_calculations & field\\_note & text\\_validation\\_type\\_or\\_show\\_slider\\_number & text\\_validation\\_min & text\\_validation\\_max & identifier & branching\\_logic & required\\_field & custom\\_alignment & question\\_number & matrix\\_group\\_name & matrix\\_ranking & field\\_annotation\\\\\n",
       " <chr> & <chr> & <chr> & <chr> & <chr> & <chr> & <chr> & <chr> & <chr> & <chr> & <chr> & <chr> & <chr> & <chr> & <chr> & <chr> & <chr> & <chr>\\\\\n",
       "\\hline\n",
       "\t record\\_id  & demographics & NA                   & text & Study ID      & NA & NA & NA       & NA    & NA    & NA & NA & NA & NA & NA & NA & NA & NA\\\\\n",
       "\t first\\_name & demographics & Personal Information & text & First Name    & NA & NA & NA       & NA    & NA    & NA & NA & NA & NA & NA & NA & NA & NA\\\\\n",
       "\t last\\_name  & demographics & NA                   & text & Last Name     & NA & NA & NA       & NA    & NA    & NA & NA & NA & NA & NA & NA & NA & NA\\\\\n",
       "\t phone\\_num  & demographics & NA                   & text & Phone Number  & NA & NA & phone    & NA    & NA    & NA & NA & NA & NA & NA & NA & NA & NA\\\\\n",
       "\t zip\\_code   & demographics & NA                   & text & ZIP Code      & NA & NA & integer  & 10001 & 99999 & y  & NA & NA & NA & NA & NA & NA & NA\\\\\n",
       "\t dob        & demographics & NA                   & text & Date of birth & NA & NA & date\\_mdy & NA    & NA    & y  & NA & NA & NA & NA & NA & NA & NA\\\\\n",
       "\\end{tabular}\n"
      ],
      "text/markdown": [
       "\n",
       "A tibble: 6 × 18\n",
       "\n",
       "| field_name &lt;chr&gt; | form_name &lt;chr&gt; | section_header &lt;chr&gt; | field_type &lt;chr&gt; | field_label &lt;chr&gt; | select_choices_or_calculations &lt;chr&gt; | field_note &lt;chr&gt; | text_validation_type_or_show_slider_number &lt;chr&gt; | text_validation_min &lt;chr&gt; | text_validation_max &lt;chr&gt; | identifier &lt;chr&gt; | branching_logic &lt;chr&gt; | required_field &lt;chr&gt; | custom_alignment &lt;chr&gt; | question_number &lt;chr&gt; | matrix_group_name &lt;chr&gt; | matrix_ranking &lt;chr&gt; | field_annotation &lt;chr&gt; |\n",
       "|---|---|---|---|---|---|---|---|---|---|---|---|---|---|---|---|---|---|\n",
       "| record_id  | demographics | NA                   | text | Study ID      | NA | NA | NA       | NA    | NA    | NA | NA | NA | NA | NA | NA | NA | NA |\n",
       "| first_name | demographics | Personal Information | text | First Name    | NA | NA | NA       | NA    | NA    | NA | NA | NA | NA | NA | NA | NA | NA |\n",
       "| last_name  | demographics | NA                   | text | Last Name     | NA | NA | NA       | NA    | NA    | NA | NA | NA | NA | NA | NA | NA | NA |\n",
       "| phone_num  | demographics | NA                   | text | Phone Number  | NA | NA | phone    | NA    | NA    | NA | NA | NA | NA | NA | NA | NA | NA |\n",
       "| zip_code   | demographics | NA                   | text | ZIP Code      | NA | NA | integer  | 10001 | 99999 | y  | NA | NA | NA | NA | NA | NA | NA |\n",
       "| dob        | demographics | NA                   | text | Date of birth | NA | NA | date_mdy | NA    | NA    | y  | NA | NA | NA | NA | NA | NA | NA |\n",
       "\n"
      ],
      "text/plain": [
       "  field_name form_name    section_header       field_type field_label  \n",
       "1 record_id  demographics NA                   text       Study ID     \n",
       "2 first_name demographics Personal Information text       First Name   \n",
       "3 last_name  demographics NA                   text       Last Name    \n",
       "4 phone_num  demographics NA                   text       Phone Number \n",
       "5 zip_code   demographics NA                   text       ZIP Code     \n",
       "6 dob        demographics NA                   text       Date of birth\n",
       "  select_choices_or_calculations field_note\n",
       "1 NA                             NA        \n",
       "2 NA                             NA        \n",
       "3 NA                             NA        \n",
       "4 NA                             NA        \n",
       "5 NA                             NA        \n",
       "6 NA                             NA        \n",
       "  text_validation_type_or_show_slider_number text_validation_min\n",
       "1 NA                                         NA                 \n",
       "2 NA                                         NA                 \n",
       "3 NA                                         NA                 \n",
       "4 phone                                      NA                 \n",
       "5 integer                                    10001              \n",
       "6 date_mdy                                   NA                 \n",
       "  text_validation_max identifier branching_logic required_field\n",
       "1 NA                  NA         NA              NA            \n",
       "2 NA                  NA         NA              NA            \n",
       "3 NA                  NA         NA              NA            \n",
       "4 NA                  NA         NA              NA            \n",
       "5 99999               y          NA              NA            \n",
       "6 NA                  y          NA              NA            \n",
       "  custom_alignment question_number matrix_group_name matrix_ranking\n",
       "1 NA               NA              NA                NA            \n",
       "2 NA               NA              NA                NA            \n",
       "3 NA               NA              NA                NA            \n",
       "4 NA               NA              NA                NA            \n",
       "5 NA               NA              NA                NA            \n",
       "6 NA               NA              NA                NA            \n",
       "  field_annotation\n",
       "1 NA              \n",
       "2 NA              \n",
       "3 NA              \n",
       "4 NA              \n",
       "5 NA              \n",
       "6 NA              "
      ]
     },
     "metadata": {},
     "output_type": "display_data"
    }
   ],
   "source": [
    "head(metadata)"
   ]
  },
  {
   "cell_type": "markdown",
   "id": "76453e42-36c4-445c-9d71-012a56f596fc",
   "metadata": {},
   "source": [
    "Note that the 'text_validation_type_or_show_slider_number' field in the metadata is where the date format is specified. "
   ]
  },
  {
   "cell_type": "code",
   "execution_count": 31,
   "id": "0405e8da-51de-4302-96e8-c38b6a07e17a",
   "metadata": {
    "tags": []
   },
   "outputs": [
    {
     "data": {
      "text/html": [
       "<style>\n",
       ".list-inline {list-style: none; margin:0; padding: 0}\n",
       ".list-inline>li {display: inline-block}\n",
       ".list-inline>li:not(:last-child)::after {content: \"\\00b7\"; padding: 0 .5ex}\n",
       "</style>\n",
       "<ol class=list-inline><li>NA</li><li>NA</li><li>NA</li><li>'phone'</li><li>'integer'</li><li>'date_mdy'</li><li>NA</li><li>NA</li><li>NA</li><li>NA</li><li>NA</li><li>'date_mdy'</li><li>NA</li><li>NA</li><li>NA</li><li>NA</li><li>'date_mdy'</li><li>NA</li><li>NA</li><li>'date_mdy'</li><li>NA</li><li>'date_mdy'</li><li>'phone'</li><li>'email'</li><li>NA</li><li>'email'</li><li>NA</li><li>'date_mdy'</li><li>NA</li><li>NA</li></ol>\n"
      ],
      "text/latex": [
       "\\begin{enumerate*}\n",
       "\\item NA\n",
       "\\item NA\n",
       "\\item NA\n",
       "\\item 'phone'\n",
       "\\item 'integer'\n",
       "\\item 'date\\_mdy'\n",
       "\\item NA\n",
       "\\item NA\n",
       "\\item NA\n",
       "\\item NA\n",
       "\\item NA\n",
       "\\item 'date\\_mdy'\n",
       "\\item NA\n",
       "\\item NA\n",
       "\\item NA\n",
       "\\item NA\n",
       "\\item 'date\\_mdy'\n",
       "\\item NA\n",
       "\\item NA\n",
       "\\item 'date\\_mdy'\n",
       "\\item NA\n",
       "\\item 'date\\_mdy'\n",
       "\\item 'phone'\n",
       "\\item 'email'\n",
       "\\item NA\n",
       "\\item 'email'\n",
       "\\item NA\n",
       "\\item 'date\\_mdy'\n",
       "\\item NA\n",
       "\\item NA\n",
       "\\end{enumerate*}\n"
      ],
      "text/markdown": [
       "1. NA\n",
       "2. NA\n",
       "3. NA\n",
       "4. 'phone'\n",
       "5. 'integer'\n",
       "6. 'date_mdy'\n",
       "7. NA\n",
       "8. NA\n",
       "9. NA\n",
       "10. NA\n",
       "11. NA\n",
       "12. 'date_mdy'\n",
       "13. NA\n",
       "14. NA\n",
       "15. NA\n",
       "16. NA\n",
       "17. 'date_mdy'\n",
       "18. NA\n",
       "19. NA\n",
       "20. 'date_mdy'\n",
       "21. NA\n",
       "22. 'date_mdy'\n",
       "23. 'phone'\n",
       "24. 'email'\n",
       "25. NA\n",
       "26. 'email'\n",
       "27. NA\n",
       "28. 'date_mdy'\n",
       "29. NA\n",
       "30. NA\n",
       "\n",
       "\n"
      ],
      "text/plain": [
       " [1] NA         NA         NA         \"phone\"    \"integer\"  \"date_mdy\"\n",
       " [7] NA         NA         NA         NA         NA         \"date_mdy\"\n",
       "[13] NA         NA         NA         NA         \"date_mdy\" NA        \n",
       "[19] NA         \"date_mdy\" NA         \"date_mdy\" \"phone\"    \"email\"   \n",
       "[25] NA         \"email\"    NA         \"date_mdy\" NA         NA        "
      ]
     },
     "metadata": {},
     "output_type": "display_data"
    }
   ],
   "source": [
    "metadata$text_validation_type_or_show_slider_number"
   ]
  },
  {
   "cell_type": "code",
   "execution_count": 32,
   "id": "700788a9-6798-4984-bf41-07810052c37f",
   "metadata": {
    "tags": []
   },
   "outputs": [],
   "source": [
    "# Isolate all field_names in the metadata that have any date validation \n",
    "date_fields <- metadata %>% filter(grepl(\"date\", text_validation_type_or_show_slider_number)) %>% select(field_name)"
   ]
  },
  {
   "cell_type": "code",
   "execution_count": 33,
   "id": "6ec5c97c-7a1e-4101-b21e-f4c254d72455",
   "metadata": {
    "tags": []
   },
   "outputs": [
    {
     "data": {
      "text/html": [
       "<style>\n",
       ".list-inline {list-style: none; margin:0; padding: 0}\n",
       ".list-inline>li {display: inline-block}\n",
       ".list-inline>li:not(:last-child)::after {content: \"\\00b7\"; padding: 0 .5ex}\n",
       "</style>\n",
       "<ol class=list-inline><li>'dob'</li><li>'symptom_onset'</li><li>'test_positive_date'</li><li>'prior_covid_date'</li><li>'cc_date'</li><li>'work_date'</li></ol>\n"
      ],
      "text/latex": [
       "\\begin{enumerate*}\n",
       "\\item 'dob'\n",
       "\\item 'symptom\\_onset'\n",
       "\\item 'test\\_positive\\_date'\n",
       "\\item 'prior\\_covid\\_date'\n",
       "\\item 'cc\\_date'\n",
       "\\item 'work\\_date'\n",
       "\\end{enumerate*}\n"
      ],
      "text/markdown": [
       "1. 'dob'\n",
       "2. 'symptom_onset'\n",
       "3. 'test_positive_date'\n",
       "4. 'prior_covid_date'\n",
       "5. 'cc_date'\n",
       "6. 'work_date'\n",
       "\n",
       "\n"
      ],
      "text/plain": [
       "[1] \"dob\"                \"symptom_onset\"      \"test_positive_date\"\n",
       "[4] \"prior_covid_date\"   \"cc_date\"            \"work_date\"         "
      ]
     },
     "metadata": {},
     "output_type": "display_data"
    }
   ],
   "source": [
    "# Make a list of all the date fields\n",
    "date_list <- (date_fields$field_name)\n",
    "date_list"
   ]
  },
  {
   "cell_type": "code",
   "execution_count": 44,
   "id": "afbaac06-abcf-4e84-b29e-2066e22273c7",
   "metadata": {
    "tags": []
   },
   "outputs": [],
   "source": [
    "# mutate across all date fields to get the desired Y-M-D format.  \n",
    "df_to_import2 <- df_to_import %>%\n",
    "  mutate(across(all_of(date_list), ~as.Date(., \"%m/%d/%Y\" )))"
   ]
  },
  {
   "cell_type": "code",
   "execution_count": 45,
   "id": "f794b32a-cf8a-47c0-b780-e397145039ac",
   "metadata": {
    "tags": []
   },
   "outputs": [
    {
     "name": "stdout",
     "output_type": "stream",
     "text": [
      " [1] NA           NA           \"2023-10-10\" NA           NA          \n",
      " [6] NA           NA           \"2023-10-12\" \"2021-06-07\" NA          \n",
      "[11] NA           NA           NA           NA           NA          \n",
      "[16] NA           NA           \"2023-10-03\" NA           NA          \n"
     ]
    }
   ],
   "source": [
    "print(df_to_import2$test_positive_date)"
   ]
  },
  {
   "cell_type": "code",
   "execution_count": 46,
   "id": "b1227974-e130-4658-bf7b-c470b20ae964",
   "metadata": {
    "tags": []
   },
   "outputs": [
    {
     "name": "stderr",
     "output_type": "stream",
     "text": [
      "Starting to update 20 records to be written at 2024-03-20 10:19:47.\n",
      "\n",
      "Writing batch 1 of 1, with indices 1 through 20.\n",
      "\n",
      "4 records were written to REDCap in 2.1 seconds.\n",
      "\n"
     ]
    },
    {
     "data": {
      "text/html": [
       "<dl>\n",
       "\t<dt>$success</dt>\n",
       "\t\t<dd>TRUE</dd>\n",
       "\t<dt>$status_code</dt>\n",
       "\t\t<dd>'200'</dd>\n",
       "\t<dt>$outcome_message</dt>\n",
       "\t\t<dd>'4 records were written to REDCap in 2.1 seconds.'</dd>\n",
       "\t<dt>$records_affected_count</dt>\n",
       "\t\t<dd>4</dd>\n",
       "\t<dt>$affected_ids</dt>\n",
       "\t\t<dd><style>\n",
       ".list-inline {list-style: none; margin:0; padding: 0}\n",
       ".list-inline>li {display: inline-block}\n",
       ".list-inline>li:not(:last-child)::after {content: \"\\00b7\"; padding: 0 .5ex}\n",
       "</style>\n",
       "<ol class=list-inline><li>'10'</li><li>'11'</li><li>'12'</li><li>'13'</li></ol>\n",
       "</dd>\n",
       "\t<dt>$elapsed_seconds</dt>\n",
       "\t\t<dd>2.58322691917419</dd>\n",
       "</dl>\n"
      ],
      "text/latex": [
       "\\begin{description}\n",
       "\\item[\\$success] TRUE\n",
       "\\item[\\$status\\_code] '200'\n",
       "\\item[\\$outcome\\_message] '4 records were written to REDCap in 2.1 seconds.'\n",
       "\\item[\\$records\\_affected\\_count] 4\n",
       "\\item[\\$affected\\_ids] \\begin{enumerate*}\n",
       "\\item '10'\n",
       "\\item '11'\n",
       "\\item '12'\n",
       "\\item '13'\n",
       "\\end{enumerate*}\n",
       "\n",
       "\\item[\\$elapsed\\_seconds] 2.58322691917419\n",
       "\\end{description}\n"
      ],
      "text/markdown": [
       "$success\n",
       ":   TRUE\n",
       "$status_code\n",
       ":   '200'\n",
       "$outcome_message\n",
       ":   '4 records were written to REDCap in 2.1 seconds.'\n",
       "$records_affected_count\n",
       ":   4\n",
       "$affected_ids\n",
       ":   1. '10'\n",
       "2. '11'\n",
       "3. '12'\n",
       "4. '13'\n",
       "\n",
       "\n",
       "\n",
       "$elapsed_seconds\n",
       ":   2.58322691917419\n",
       "\n",
       "\n"
      ],
      "text/plain": [
       "$success\n",
       "[1] TRUE\n",
       "\n",
       "$status_code\n",
       "[1] \"200\"\n",
       "\n",
       "$outcome_message\n",
       "[1] \"4 records were written to REDCap in 2.1 seconds.\"\n",
       "\n",
       "$records_affected_count\n",
       "[1] 4\n",
       "\n",
       "$affected_ids\n",
       "[1] \"10\" \"11\" \"12\" \"13\"\n",
       "\n",
       "$elapsed_seconds\n",
       "[1] 2.583227\n"
      ]
     },
     "metadata": {},
     "output_type": "display_data"
    }
   ],
   "source": [
    "# Import the new records\n",
    "redcap_write(df_to_import2, redcap_uri=url, token=token)"
   ]
  },
  {
   "cell_type": "code",
   "execution_count": null,
   "id": "1d303e48-be64-4a81-bff2-daae19764c50",
   "metadata": {},
   "outputs": [],
   "source": []
  }
 ],
 "metadata": {
  "kernelspec": {
   "display_name": "R [conda env:Rtransform23]",
   "language": "R",
   "name": "conda-env-Rtransform23-r"
  },
  "language_info": {
   "codemirror_mode": "r",
   "file_extension": ".r",
   "mimetype": "text/x-r-source",
   "name": "R",
   "pygments_lexer": "r",
   "version": "4.1.3"
  }
 },
 "nbformat": 4,
 "nbformat_minor": 5
}
