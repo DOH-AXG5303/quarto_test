{
 "cells": [
  {
   "cell_type": "markdown",
   "id": "6fd76a76-09d4-4d0d-a5cd-b579ee9ae472",
   "metadata": {
    "tags": []
   },
   "source": [
    "# Table of Contents\n",
    "\n",
    "1. <a href=\"#Gathered-Survey-Data\">Gathered Survey Data</a>  \n",
    "    1a. <a href=\"#Records\">Records</a></n>  \n",
    "    1b. <a href=\"#Reports\">Reports</a></n>  \n",
    "    1c. <a href=\"#Files---optional-attachments-to-individual-records\">Files - optional attachments to individual records</a></n>  \n",
    "2. <a href=\"#Survey-Metadata\">Survey Metadata</a></n>  \n",
    "    2a. <a href=\"#Metadata-(generic)\">Metadata (generic)</a></n>  \n",
    "    2b. <a href=\"#Field-Names\">Field Names</a></n>  \n",
    "    2c. <a href=\"#Forms/Instruments\">Forms/Instruments</a></n>  \n",
    "    2d. <a href=\"#Instrument-Event-Map\">Instrument Event Map</a></n>  \n",
    "3. <a href=\"#Survey-Settings-and-Other-Information\">Survey Settings and Other Information</a></n>  \n",
    "    3a. <a href=\"#Users\">Users</a></n>  \n",
    "    3b. <a href=\"#User-Roles\">User Roles</a></n>  \n",
    "    3c. <a href=\"#Data-Access-Groups-(DAGs)\">Data Access Groups (DAGs)</a></n>  \n",
    "    3d. <a href=\"#Logging\">Logging</a></n>  \n",
    "4. <a href=\"#Appendix\">Appendix</a></n> <br>\n",
    "    4a. <a href=\"#Example:-Uploading-Records-from-a-CSV\">Example: Uploading Records from a CSV</a></n> <br>\n",
    "    4b. <a href=\"#Import-Using-Native-API\">Import Using Native API</a></n>"
   ]
  },
  {
   "cell_type": "code",
   "execution_count": 1,
   "id": "76d3d6f2-412c-4e80-9e0d-e4a13067592d",
   "metadata": {
    "tags": []
   },
   "outputs": [],
   "source": [
    "import json\n",
    "import csv\n",
    "import numpy as np\n",
    "import requests\n",
    "import pandas as pd"
   ]
  },
  {
   "cell_type": "code",
   "execution_count": 2,
   "id": "f1c581b7-7596-4476-aa6f-0fc6822a9e42",
   "metadata": {
    "tags": []
   },
   "outputs": [],
   "source": [
    "from redcap import Project"
   ]
  },
  {
   "cell_type": "code",
   "execution_count": 3,
   "id": "19892f34-9452-45bc-9801-c9d09d4ccd63",
   "metadata": {
    "tags": []
   },
   "outputs": [],
   "source": [
    "# Load API tokens from the json file\n",
    "key = json.load(open('json_api_data.json'))\n",
    "token = key['dev_token']['276']\n",
    "url = key['dev_url']"
   ]
  },
  {
   "cell_type": "code",
   "execution_count": 4,
   "id": "e01c81f2-e228-4b6f-b8ad-4e30806b97b4",
   "metadata": {
    "tags": []
   },
   "outputs": [],
   "source": [
    "# Set up PyCap project\n",
    "project = Project(url, token) # Caitlin's project"
   ]
  },
  {
   "cell_type": "code",
   "execution_count": 5,
   "id": "f2233da4-62d1-4592-97d8-b57cdc884022",
   "metadata": {
    "tags": []
   },
   "outputs": [
    {
     "data": {
      "text/plain": [
       "\u001b[1;31mType:\u001b[0m           Project\n",
       "\u001b[1;31mString form:\u001b[0m    <redcap.project.Project object at 0x00000260C5947FA0>\n",
       "\u001b[1;31mFile:\u001b[0m           c:\\users\\ekp0303\\miniconda3\\envs\\transform22\\lib\\site-packages\\redcap\\project.py\n",
       "\u001b[1;31mDocstring:\u001b[0m     \n",
       "Main class for interacting with REDCap projects\n",
       "\n",
       "Attributes:\n",
       "    verify_ssl: Verify SSL, default True. Can pass path to CA_BUNDLE\n",
       "\n",
       "Note:\n",
       "    Your REDCap token should be kept **secret**! Treat it like a password\n",
       "    and NEVER save it directly in your script/application. Rather it should be obscured\n",
       "    and retrieved 'behind the scenes'. For example, saving the token as an environment\n",
       "    variable and retrieving it with `os.getenv`. The creation of the `TOKEN` string in\n",
       "    the example is not shown, for the above reasons\n",
       "\n",
       "Examples:\n",
       "    >>> from redcap import Project\n",
       "    >>> URL = \"https://redcapdemo.vanderbilt.edu/api/\"\n",
       "    >>> proj = Project(URL, TOKEN)\n",
       "    >>> proj.field_names\n",
       "    ['record_id', 'field_1', 'checkbox_field', 'upload_field']\n",
       "    >>> proj.is_longitudinal\n",
       "    True\n",
       "    >>> proj.def_field\n",
       "    'record_id'\n",
       "\n",
       "    The url and token attributes are read-only, to prevent users from accidentally\n",
       "    overwriting them\n",
       "    >>> proj.url = \"whoops\"\n",
       "    Traceback (most recent call last):\n",
       "    ...\n",
       "    AttributeError: ...\n",
       "\u001b[1;31mInit docstring:\u001b[0m Initialize a Project, validate url and token"
      ]
     },
     "metadata": {},
     "output_type": "display_data"
    }
   ],
   "source": [
    "# This is the heart of PyCap - This object is acted upon for all the actions we can take\n",
    "project?"
   ]
  },
  {
   "cell_type": "markdown",
   "id": "8525c78c-9c0a-4646-b7b3-3a5794afb34e",
   "metadata": {
    "tags": []
   },
   "source": [
    "# Gathered Survey Data"
   ]
  },
  {
   "cell_type": "markdown",
   "id": "3c9e1c21-6a2a-4d79-a1d6-43f1af23a4db",
   "metadata": {},
   "source": [
    "## Records"
   ]
  },
  {
   "cell_type": "markdown",
   "id": "3e5f52c0-971b-4a43-a11d-cd12d2f6189a",
   "metadata": {},
   "source": [
    "Records can be imported into a REDCap project using `import_records`.\n",
    "\n",
    "If the record_id being imported already exists in the REDCap project, the imported data will overwrite the previously existing data for that record. Using a record_id that does not already exist will create a new record. The `force_auto_number = 'True'` arguement will automatically rename already exisitng record_ids to new record_ids during import. Unless you set the argument `overwrite = 'overwrite'`, exisitng data will not be overwritten by null values. See the <a href=\"#Note-on-overwrite-argument\">Note on overwrite argument</a> and the [API Reference](http://redcap-tools.github.io/PyCap/api_reference/records/#redcap.methods.records.Records.import_records) for more infromation. "
   ]
  },
  {
   "cell_type": "code",
   "execution_count": 6,
   "id": "186c5191-744e-43b8-b10f-f990f741efb7",
   "metadata": {},
   "outputs": [],
   "source": [
    "# Define data to import\n",
    "data2 = '[{\"record_id\": \"3\", \"redcap_event_name\": \"personal_info_arm_1\", \"redcap_repeat_instrument\": \"\", \"redcap_repeat_instance\": \"\",\"redcap_survey_identifier\": \"\", \"demographics_timestamp\": \"\" ,\"first_name\": \"John\",\"last_name\": \"Doe\",\"phone_num\": \"(999) 999-9999\",\"zip_code\": \"98105\"}]'"
   ]
  },
  {
   "cell_type": "code",
   "execution_count": 7,
   "id": "0b5a7f11-ddd6-43bc-8979-d9ae65e2cf58",
   "metadata": {},
   "outputs": [],
   "source": [
    "# json reads this in - the format is valid.\n",
    "python_data = json.loads(data2)"
   ]
  },
  {
   "cell_type": "code",
   "execution_count": 8,
   "id": "35651332-a177-4314-a678-278289e526e6",
   "metadata": {},
   "outputs": [
    {
     "data": {
      "text/plain": [
       "\"[{'record_id': '3', 'redcap_event_name': 'personal_info_arm_1', 'redcap_repeat_instrument': '', 'redcap_repeat_instance': '', 'redcap_survey_identifier': '', 'demographics_timestamp': '', 'first_name': 'John', 'last_name': 'Doe', 'phone_num': '(999) 999-9999', 'zip_code': '98105'}]\""
      ]
     },
     "execution_count": 8,
     "metadata": {},
     "output_type": "execute_result"
    }
   ],
   "source": [
    "# passing it as a string shows it flipped the quotes because python prefers single quotes\n",
    "str(python_data)"
   ]
  },
  {
   "cell_type": "markdown",
   "id": "b12534ef-2b61-4307-8b4a-7b169fe408af",
   "metadata": {},
   "source": [
    "PyCap `import_records` can use the json object we created, even with the quotes flipped."
   ]
  },
  {
   "cell_type": "code",
   "execution_count": 9,
   "id": "ef968f99-1eed-400b-a43e-e3d868ced83f",
   "metadata": {},
   "outputs": [
    {
     "data": {
      "text/plain": [
       "{'count': 1}"
      ]
     },
     "execution_count": 9,
     "metadata": {},
     "output_type": "execute_result"
    }
   ],
   "source": [
    "project.import_records(python_data, force_auto_number = 'True')"
   ]
  },
  {
   "cell_type": "code",
   "execution_count": 10,
   "id": "566d0d34-a07f-4ede-b938-d827724cd31f",
   "metadata": {},
   "outputs": [
    {
     "data": {
      "text/plain": [
       "\u001b[1;31mSignature:\u001b[0m\n",
       "\u001b[0mproject\u001b[0m\u001b[1;33m.\u001b[0m\u001b[0mimport_records\u001b[0m\u001b[1;33m(\u001b[0m\u001b[1;33m\n",
       "\u001b[0m    \u001b[0mto_import\u001b[0m\u001b[1;33m:\u001b[0m \u001b[0mUnion\u001b[0m\u001b[1;33m[\u001b[0m\u001b[0mstr\u001b[0m\u001b[1;33m,\u001b[0m \u001b[0mList\u001b[0m\u001b[1;33m[\u001b[0m\u001b[0mDict\u001b[0m\u001b[1;33m[\u001b[0m\u001b[0mstr\u001b[0m\u001b[1;33m,\u001b[0m \u001b[0mAny\u001b[0m\u001b[1;33m]\u001b[0m\u001b[1;33m]\u001b[0m\u001b[1;33m,\u001b[0m \u001b[0mForwardRef\u001b[0m\u001b[1;33m(\u001b[0m\u001b[1;34m'pd.DataFrame'\u001b[0m\u001b[1;33m)\u001b[0m\u001b[1;33m]\u001b[0m\u001b[1;33m,\u001b[0m\u001b[1;33m\n",
       "\u001b[0m    \u001b[0mreturn_format_type\u001b[0m\u001b[1;33m:\u001b[0m \u001b[0mLiteral\u001b[0m\u001b[1;33m[\u001b[0m\u001b[1;34m'json'\u001b[0m\u001b[1;33m,\u001b[0m \u001b[1;34m'csv'\u001b[0m\u001b[1;33m,\u001b[0m \u001b[1;34m'xml'\u001b[0m\u001b[1;33m]\u001b[0m \u001b[1;33m=\u001b[0m \u001b[1;34m'json'\u001b[0m\u001b[1;33m,\u001b[0m\u001b[1;33m\n",
       "\u001b[0m    \u001b[0mreturn_content\u001b[0m\u001b[1;33m:\u001b[0m \u001b[0mLiteral\u001b[0m\u001b[1;33m[\u001b[0m\u001b[1;34m'count'\u001b[0m\u001b[1;33m,\u001b[0m \u001b[1;34m'ids'\u001b[0m\u001b[1;33m,\u001b[0m \u001b[1;34m'auto_ids'\u001b[0m\u001b[1;33m,\u001b[0m \u001b[1;34m'nothing'\u001b[0m\u001b[1;33m]\u001b[0m \u001b[1;33m=\u001b[0m \u001b[1;34m'count'\u001b[0m\u001b[1;33m,\u001b[0m\u001b[1;33m\n",
       "\u001b[0m    \u001b[0moverwrite\u001b[0m\u001b[1;33m:\u001b[0m \u001b[0mLiteral\u001b[0m\u001b[1;33m[\u001b[0m\u001b[1;34m'normal'\u001b[0m\u001b[1;33m,\u001b[0m \u001b[1;34m'overwrite'\u001b[0m\u001b[1;33m]\u001b[0m \u001b[1;33m=\u001b[0m \u001b[1;34m'normal'\u001b[0m\u001b[1;33m,\u001b[0m\u001b[1;33m\n",
       "\u001b[0m    \u001b[0mimport_format\u001b[0m\u001b[1;33m:\u001b[0m \u001b[0mLiteral\u001b[0m\u001b[1;33m[\u001b[0m\u001b[1;34m'json'\u001b[0m\u001b[1;33m,\u001b[0m \u001b[1;34m'csv'\u001b[0m\u001b[1;33m,\u001b[0m \u001b[1;34m'xml'\u001b[0m\u001b[1;33m,\u001b[0m \u001b[1;34m'df'\u001b[0m\u001b[1;33m]\u001b[0m \u001b[1;33m=\u001b[0m \u001b[1;34m'json'\u001b[0m\u001b[1;33m,\u001b[0m\u001b[1;33m\n",
       "\u001b[0m    \u001b[0mdate_format\u001b[0m\u001b[1;33m:\u001b[0m \u001b[0mLiteral\u001b[0m\u001b[1;33m[\u001b[0m\u001b[1;34m'YMD'\u001b[0m\u001b[1;33m,\u001b[0m \u001b[1;34m'DMY'\u001b[0m\u001b[1;33m,\u001b[0m \u001b[1;34m'MDY'\u001b[0m\u001b[1;33m]\u001b[0m \u001b[1;33m=\u001b[0m \u001b[1;34m'YMD'\u001b[0m\u001b[1;33m,\u001b[0m\u001b[1;33m\n",
       "\u001b[0m    \u001b[0mforce_auto_number\u001b[0m\u001b[1;33m:\u001b[0m \u001b[0mbool\u001b[0m \u001b[1;33m=\u001b[0m \u001b[1;32mFalse\u001b[0m\u001b[1;33m,\u001b[0m\u001b[1;33m\n",
       "\u001b[0m\u001b[1;33m)\u001b[0m\u001b[1;33m\u001b[0m\u001b[1;33m\u001b[0m\u001b[0m\n",
       "\u001b[1;31mDocstring:\u001b[0m\n",
       "Import data into the REDCap Project\n",
       "\n",
       "Args:\n",
       "    to_import:\n",
       "        Note:\n",
       "            If you pass a df, csv, or xml string, you should use the\n",
       "            `import_format` parameter appropriately.\n",
       "        Note:\n",
       "            Keys of the dictionaries should be subset of project's,\n",
       "            fields, but this isn't a requirement. If you provide keys\n",
       "            that aren't defined fields, the returned response will\n",
       "            contain an `'error'` key.\n",
       "    return_format_type:\n",
       "        Response format. By default, response will be json-decoded.\n",
       "    return_content:\n",
       "        By default, the response contains a 'count' key with the number of\n",
       "        records just imported. By specifying 'ids', a list of ids\n",
       "        imported will be returned. 'nothing' will only return\n",
       "        the HTTP status code and no message.\n",
       "    overwrite:\n",
       "        `'overwrite'` will erase values previously stored in the\n",
       "        database if not specified in the to_import dictionaries.\n",
       "    import_format:\n",
       "        Format of incoming data. By default, to_import will be json-encoded\n",
       "    date_format:\n",
       "        Describes the formatting of dates. By default, date strings\n",
       "        are formatted as 'YYYY-MM-DD' corresponding to 'YMD'. If date\n",
       "        strings are formatted as 'MM/DD/YYYY' set this parameter as\n",
       "        'MDY' and if formatted as 'DD/MM/YYYY' set as 'DMY'. No\n",
       "        other formattings are allowed.\n",
       "    force_auto_number:\n",
       "        Enables automatic assignment of record IDs\n",
       "        of imported records by REDCap. If this is set to true, and auto-numbering\n",
       "        for records is enabled for the project, auto-numbering of imported records\n",
       "        will be enabled.\n",
       "\n",
       "Raises:\n",
       "    RedcapError: Bad request made, double check field names and other inputs\n",
       "\n",
       "Returns:\n",
       "    Union[Dict, str]: response from REDCap API, json-decoded if `return_format` == `'json'`\n",
       "\n",
       "Examples:\n",
       "    >>> new_record = [{\"record_id\": 3, \"redcap_repeat_instance\": 1, \"field_1\": 1}]\n",
       "    >>> proj.import_records(new_record)\n",
       "    {'count': 1}\n",
       "\u001b[1;31mFile:\u001b[0m      c:\\users\\ekp0303\\miniconda3\\envs\\transform22\\lib\\site-packages\\redcap\\methods\\records.py\n",
       "\u001b[1;31mType:\u001b[0m      method"
      ]
     },
     "metadata": {},
     "output_type": "display_data"
    }
   ],
   "source": [
    "# Here's the full function documentation\n",
    "project.import_records?"
   ]
  },
  {
   "cell_type": "markdown",
   "id": "baf29c39-2e2f-450f-9f14-acc826e466b7",
   "metadata": {
    "tags": []
   },
   "source": [
    "## Reports"
   ]
  },
  {
   "cell_type": "markdown",
   "id": "c6d3bf12-1ea8-4db2-b97a-6e80a6c79522",
   "metadata": {},
   "source": [
    "N/A. Cannot be imported. "
   ]
  },
  {
   "cell_type": "markdown",
   "id": "c9c05210-61a6-4057-abf8-e14fd6cab213",
   "metadata": {},
   "source": [
    "## Files - optional attachments to individual records"
   ]
  },
  {
   "cell_type": "code",
   "execution_count": 11,
   "id": "f6c87bbd-bba0-4cc0-879f-a5d3e781a381",
   "metadata": {},
   "outputs": [],
   "source": [
    "import tempfile"
   ]
  },
  {
   "cell_type": "code",
   "execution_count": 12,
   "id": "6f7923b2-5050-4c64-98a9-ac6358b54378",
   "metadata": {},
   "outputs": [
    {
     "data": {
      "text/plain": [
       "[{}]"
      ]
     },
     "execution_count": 12,
     "metadata": {},
     "output_type": "execute_result"
    }
   ],
   "source": [
    "tmp_file = tempfile.TemporaryFile()\n",
    "project.import_file(record=\"10\",\n",
    "                 field=\"test_upload\", \n",
    "                 file_name=\"../files/test_file.png\",\n",
    "                 file_object=tmp_file,\n",
    "                 event=\"case_intake_arm_1\")"
   ]
  },
  {
   "cell_type": "markdown",
   "id": "6e53c195-ee9c-4987-9d91-bad163acb96f",
   "metadata": {
    "tags": []
   },
   "source": [
    "# Survey Metadata"
   ]
  },
  {
   "cell_type": "markdown",
   "id": "b7c9a861-6a4c-419a-97c8-5a0ec8e0e227",
   "metadata": {},
   "source": [
    "## Metadata (generic)"
   ]
  },
  {
   "cell_type": "markdown",
   "id": "f5dc39e8-ba97-495c-acfc-e36496c5f2de",
   "metadata": {},
   "source": [
    "In this example, we will export and import the same metadata so that now changes are actually made to the project."
   ]
  },
  {
   "cell_type": "code",
   "execution_count": 13,
   "id": "3f8b3298-f12c-4927-81e5-7b5338b37baf",
   "metadata": {},
   "outputs": [
    {
     "data": {
      "text/plain": [
       "{'field_name': 'record_id',\n",
       " 'form_name': 'demographics',\n",
       " 'section_header': '',\n",
       " 'field_type': 'text',\n",
       " 'field_label': 'Study ID',\n",
       " 'select_choices_or_calculations': '',\n",
       " 'field_note': '',\n",
       " 'text_validation_type_or_show_slider_number': '',\n",
       " 'text_validation_min': '',\n",
       " 'text_validation_max': '',\n",
       " 'identifier': '',\n",
       " 'branching_logic': '',\n",
       " 'required_field': '',\n",
       " 'custom_alignment': '',\n",
       " 'question_number': '',\n",
       " 'matrix_group_name': '',\n",
       " 'matrix_ranking': '',\n",
       " 'field_annotation': ''}"
      ]
     },
     "execution_count": 13,
     "metadata": {},
     "output_type": "execute_result"
    }
   ],
   "source": [
    "metadata = project.metadata\n",
    "metadata[0]"
   ]
  },
  {
   "cell_type": "code",
   "execution_count": 14,
   "id": "a4d735bf-9889-4e60-9749-cc070bbe468d",
   "metadata": {},
   "outputs": [
    {
     "data": {
      "text/plain": [
       "30"
      ]
     },
     "execution_count": 14,
     "metadata": {},
     "output_type": "execute_result"
    }
   ],
   "source": [
    "project.import_metadata(to_import=metadata)"
   ]
  },
  {
   "cell_type": "markdown",
   "id": "e6a0f4b0-1a8b-4639-af57-8ab8d53c9e23",
   "metadata": {},
   "source": [
    "## Field Names"
   ]
  },
  {
   "cell_type": "markdown",
   "id": "4b3a0366-36c9-4480-b671-efae977fb53a",
   "metadata": {},
   "source": [
    "N/A. Importing this would be covered by the metadata function.  \n",
    "Can be exported using `project.field_names()`."
   ]
  },
  {
   "cell_type": "markdown",
   "id": "065fa0cf-eb6d-40d7-b0e4-17edd2d625f4",
   "metadata": {},
   "source": [
    "## Forms/Instruments"
   ]
  },
  {
   "cell_type": "markdown",
   "id": "9e6b8b29-a646-4e86-9889-0b232f6502e0",
   "metadata": {},
   "source": [
    "N/A. Importing this would be covered by the metadata function.  \n",
    "Can be exported using `project.forms`."
   ]
  },
  {
   "cell_type": "markdown",
   "id": "bb8deee9-fb61-42aa-9ab0-e615d778010c",
   "metadata": {
    "tags": []
   },
   "source": [
    "## Instrument Event Map"
   ]
  },
  {
   "cell_type": "markdown",
   "id": "f75c56db-08de-4caf-8e68-5f30a43c5a07",
   "metadata": {},
   "source": [
    "Note that instrument event mapping is only applicable for longitudinal projects. You can run `project.is_longitudinal` to see if you have a longitudinal project or not. "
   ]
  },
  {
   "cell_type": "code",
   "execution_count": 15,
   "id": "da1ad3fe-6ee2-47c4-90e7-69cf0152b15c",
   "metadata": {},
   "outputs": [
    {
     "data": {
      "text/plain": [
       "True"
      ]
     },
     "execution_count": 15,
     "metadata": {},
     "output_type": "execute_result"
    }
   ],
   "source": [
    "project.is_longitudinal"
   ]
  },
  {
   "cell_type": "code",
   "execution_count": 16,
   "id": "ad678d81-acad-4cb7-8913-eaddf5563028",
   "metadata": {},
   "outputs": [
    {
     "data": {
      "text/plain": [
       "[{'arm_num': 1,\n",
       "  'unique_event_name': 'personal_info_arm_1',\n",
       "  'form': 'demographics'},\n",
       " {'arm_num': 1, 'unique_event_name': 'case_intake_arm_1', 'form': 'symptoms'},\n",
       " {'arm_num': 1,\n",
       "  'unique_event_name': 'case_intake_arm_1',\n",
       "  'form': 'test_information'},\n",
       " {'arm_num': 1,\n",
       "  'unique_event_name': 'notifications_arm_1',\n",
       "  'form': 'close_contacts'},\n",
       " {'arm_num': 1,\n",
       "  'unique_event_name': 'notifications_arm_1',\n",
       "  'form': 'work_information'}]"
      ]
     },
     "execution_count": 16,
     "metadata": {},
     "output_type": "execute_result"
    }
   ],
   "source": [
    "project.export_instrument_event_mappings()"
   ]
  },
  {
   "cell_type": "markdown",
   "id": "fa304743-87c9-44d7-937b-0a09e0371f6d",
   "metadata": {},
   "source": [
    "In this example, we will import the same event mapping schema that we exported so that no changes are actually made to the project."
   ]
  },
  {
   "cell_type": "code",
   "execution_count": 17,
   "id": "b968767e-8546-43cf-bcdc-b474f07758b8",
   "metadata": {},
   "outputs": [],
   "source": [
    "inst_map = [{'arm_num': '1', 'unique_event_name': 'personal_info_arm_1', 'form': 'demographics'},{'arm_num': '1', 'unique_event_name': 'case_intake_arm_1', 'form': 'symptoms'},{'arm_num': '1','unique_event_name': 'case_intake_arm_1','form': 'test_information'},{'arm_num': '1','unique_event_name': 'notifications_arm_1','form': 'close_contacts'},{'arm_num': '1','unique_event_name': 'notifications_arm_1','form': 'work_information'}]"
   ]
  },
  {
   "cell_type": "markdown",
   "id": "c7f4bb40-ba7f-43c7-a2d3-622002ccf248",
   "metadata": {},
   "source": [
    "Note: `import_instrument_event_mappings` is only available in the latest version of Pycap (2.6.0) imported from GitHub"
   ]
  },
  {
   "cell_type": "code",
   "execution_count": 18,
   "id": "4592669c-0123-481e-8cb2-84e84d88b76a",
   "metadata": {},
   "outputs": [
    {
     "data": {
      "text/plain": [
       "5"
      ]
     },
     "execution_count": 18,
     "metadata": {},
     "output_type": "execute_result"
    }
   ],
   "source": [
    "# This is not wokring \n",
    "project.import_instrument_event_mappings(inst_map)"
   ]
  },
  {
   "cell_type": "markdown",
   "id": "0acff755-9147-48fb-a137-2598901219f8",
   "metadata": {},
   "source": [
    "### Specifying Repeat Instruments"
   ]
  },
  {
   "cell_type": "code",
   "execution_count": 19,
   "id": "82191ef9-596f-443e-a141-ec5e8aec05c5",
   "metadata": {},
   "outputs": [
    {
     "data": {
      "text/html": [
       "<div>\n",
       "<style scoped>\n",
       "    .dataframe tbody tr th:only-of-type {\n",
       "        vertical-align: middle;\n",
       "    }\n",
       "\n",
       "    .dataframe tbody tr th {\n",
       "        vertical-align: top;\n",
       "    }\n",
       "\n",
       "    .dataframe thead th {\n",
       "        text-align: right;\n",
       "    }\n",
       "</style>\n",
       "<table border=\"1\" class=\"dataframe\">\n",
       "  <thead>\n",
       "    <tr style=\"text-align: right;\">\n",
       "      <th></th>\n",
       "      <th>event_name</th>\n",
       "      <th>form_name</th>\n",
       "      <th>custom_form_label</th>\n",
       "    </tr>\n",
       "  </thead>\n",
       "  <tbody>\n",
       "    <tr>\n",
       "      <th>0</th>\n",
       "      <td>case_intake_arm_1</td>\n",
       "      <td></td>\n",
       "      <td></td>\n",
       "    </tr>\n",
       "    <tr>\n",
       "      <th>1</th>\n",
       "      <td>notifications_arm_1</td>\n",
       "      <td>close_contacts</td>\n",
       "      <td></td>\n",
       "    </tr>\n",
       "  </tbody>\n",
       "</table>\n",
       "</div>"
      ],
      "text/plain": [
       "            event_name       form_name custom_form_label\n",
       "0    case_intake_arm_1                                  \n",
       "1  notifications_arm_1  close_contacts                  "
      ]
     },
     "execution_count": 19,
     "metadata": {},
     "output_type": "execute_result"
    }
   ],
   "source": [
    "rep_instruments = project.export_repeating_instruments_events()\n",
    "pd.DataFrame.from_dict(rep_instruments)"
   ]
  },
  {
   "cell_type": "markdown",
   "id": "9d3e2be9-0cd2-4b04-8050-264ab91bdc08",
   "metadata": {},
   "source": [
    "It's easier to understand when viewed as a dataframe. The `form_name` variable is blank in row 0 because the the entire 'case_intake_arm_1' event is repeated, whereas, only the 'close_contacts' form is repeated within the 'notifications_arm_1' event. "
   ]
  },
  {
   "cell_type": "code",
   "execution_count": 20,
   "id": "cd96c8f5-4f16-4967-a46f-d73d9bced699",
   "metadata": {},
   "outputs": [
    {
     "data": {
      "text/plain": [
       "[{'event_name': 'case_intake_arm_1', 'form_name': '', 'custom_form_label': ''},\n",
       " {'event_name': 'notifications_arm_1',\n",
       "  'form_name': 'close_contacts',\n",
       "  'custom_form_label': ''}]"
      ]
     },
     "execution_count": 20,
     "metadata": {},
     "output_type": "execute_result"
    }
   ],
   "source": [
    "rep_instruments"
   ]
  },
  {
   "cell_type": "code",
   "execution_count": 21,
   "id": "ca09c911-8918-448f-bf82-d323852ad080",
   "metadata": {},
   "outputs": [],
   "source": [
    "rep_instruments_new = [{'event_name': 'case_intake_arm_1', 'form_name': '', 'custom_form_label': ''},\n",
    " {'event_name': 'notifications_arm_1',\n",
    "  'form_name': '',\n",
    "  'custom_form_label': ''}]"
   ]
  },
  {
   "cell_type": "code",
   "execution_count": 22,
   "id": "19c6d71f-96d9-4bb2-8aff-428d5e8f502c",
   "metadata": {},
   "outputs": [
    {
     "data": {
      "text/plain": [
       "2"
      ]
     },
     "execution_count": 22,
     "metadata": {},
     "output_type": "execute_result"
    }
   ],
   "source": [
    "project.import_repeating_instruments_events(rep_instruments_new)"
   ]
  },
  {
   "cell_type": "markdown",
   "id": "bb24bd25-bd4b-4695-804f-b9173c022fb9",
   "metadata": {},
   "source": [
    "Because the `form_name` value was removed from the 'notifications_arm_1' event, the entire event will now repeat. We can change it back in the next line. "
   ]
  },
  {
   "cell_type": "code",
   "execution_count": 23,
   "id": "86deecd0-2127-4790-a9b8-6b426fad6557",
   "metadata": {},
   "outputs": [
    {
     "data": {
      "text/plain": [
       "2"
      ]
     },
     "execution_count": 23,
     "metadata": {},
     "output_type": "execute_result"
    }
   ],
   "source": [
    "project.import_repeating_instruments_events(rep_instruments)"
   ]
  },
  {
   "cell_type": "markdown",
   "id": "b4b4c58f-ce32-4270-9ed9-a5abdca5e95a",
   "metadata": {
    "tags": []
   },
   "source": [
    "# Survey Settings and Other Information"
   ]
  },
  {
   "cell_type": "markdown",
   "id": "0a5fdd63-b409-4102-91df-e902d906ea1b",
   "metadata": {},
   "source": [
    "## Users"
   ]
  },
  {
   "cell_type": "code",
   "execution_count": 24,
   "id": "1d1807e0-1d37-46c4-a274-5eb731aa33e4",
   "metadata": {},
   "outputs": [
    {
     "data": {
      "text/html": [
       "<div>\n",
       "<style scoped>\n",
       "    .dataframe tbody tr th:only-of-type {\n",
       "        vertical-align: middle;\n",
       "    }\n",
       "\n",
       "    .dataframe tbody tr th {\n",
       "        vertical-align: top;\n",
       "    }\n",
       "\n",
       "    .dataframe thead th {\n",
       "        text-align: right;\n",
       "    }\n",
       "</style>\n",
       "<table border=\"1\" class=\"dataframe\">\n",
       "  <thead>\n",
       "    <tr style=\"text-align: right;\">\n",
       "      <th></th>\n",
       "      <th>username</th>\n",
       "      <th>email</th>\n",
       "      <th>firstname</th>\n",
       "      <th>lastname</th>\n",
       "      <th>expiration</th>\n",
       "      <th>data_access_group</th>\n",
       "      <th>data_access_group_id</th>\n",
       "      <th>design</th>\n",
       "      <th>alerts</th>\n",
       "      <th>user_rights</th>\n",
       "      <th>...</th>\n",
       "      <th>mobile_app</th>\n",
       "      <th>mobile_app_download_data</th>\n",
       "      <th>record_create</th>\n",
       "      <th>record_rename</th>\n",
       "      <th>record_delete</th>\n",
       "      <th>lock_records_all_forms</th>\n",
       "      <th>lock_records</th>\n",
       "      <th>lock_records_customization</th>\n",
       "      <th>forms</th>\n",
       "      <th>forms_export</th>\n",
       "    </tr>\n",
       "  </thead>\n",
       "  <tbody>\n",
       "    <tr>\n",
       "      <th>0</th>\n",
       "      <td>alexey.gilman@doh.wa.gov</td>\n",
       "      <td>Alexey.Gilman@doh.wa.gov</td>\n",
       "      <td>Alexey</td>\n",
       "      <td>Gilman</td>\n",
       "      <td>NaN</td>\n",
       "      <td>full_access</td>\n",
       "      <td>2029.0</td>\n",
       "      <td>1</td>\n",
       "      <td>1</td>\n",
       "      <td>1</td>\n",
       "      <td>...</td>\n",
       "      <td>1</td>\n",
       "      <td>0</td>\n",
       "      <td>1</td>\n",
       "      <td>1</td>\n",
       "      <td>1</td>\n",
       "      <td>0</td>\n",
       "      <td>0</td>\n",
       "      <td>1</td>\n",
       "      <td>demographics:3,symptoms:1,test_information:1,c...</td>\n",
       "      <td>demographics:1,symptoms:1,test_information:1,c...</td>\n",
       "    </tr>\n",
       "    <tr>\n",
       "      <th>1</th>\n",
       "      <td>caitlin.drover@doh.wa.gov</td>\n",
       "      <td>Caitlin.Drover@doh.wa.gov</td>\n",
       "      <td>Caitlin</td>\n",
       "      <td>Drover</td>\n",
       "      <td>NaN</td>\n",
       "      <td>NaN</td>\n",
       "      <td>NaN</td>\n",
       "      <td>1</td>\n",
       "      <td>1</td>\n",
       "      <td>1</td>\n",
       "      <td>...</td>\n",
       "      <td>1</td>\n",
       "      <td>0</td>\n",
       "      <td>1</td>\n",
       "      <td>1</td>\n",
       "      <td>1</td>\n",
       "      <td>0</td>\n",
       "      <td>0</td>\n",
       "      <td>1</td>\n",
       "      <td>demographics:3,symptoms:1,test_information:1,c...</td>\n",
       "      <td>demographics:1,symptoms:1,test_information:1,c...</td>\n",
       "    </tr>\n",
       "    <tr>\n",
       "      <th>2</th>\n",
       "      <td>emily.pearman@doh.wa.gov</td>\n",
       "      <td>emily.pearman@doh.wa.gov</td>\n",
       "      <td>Emily</td>\n",
       "      <td>Pearman</td>\n",
       "      <td>NaN</td>\n",
       "      <td>NaN</td>\n",
       "      <td>NaN</td>\n",
       "      <td>1</td>\n",
       "      <td>1</td>\n",
       "      <td>1</td>\n",
       "      <td>...</td>\n",
       "      <td>1</td>\n",
       "      <td>0</td>\n",
       "      <td>1</td>\n",
       "      <td>1</td>\n",
       "      <td>1</td>\n",
       "      <td>0</td>\n",
       "      <td>0</td>\n",
       "      <td>1</td>\n",
       "      <td>demographics:3,symptoms:1,test_information:1,c...</td>\n",
       "      <td>demographics:1,symptoms:1,test_information:1,c...</td>\n",
       "    </tr>\n",
       "  </tbody>\n",
       "</table>\n",
       "<p>3 rows × 34 columns</p>\n",
       "</div>"
      ],
      "text/plain": [
       "                    username                      email firstname lastname  \\\n",
       "0   alexey.gilman@doh.wa.gov   Alexey.Gilman@doh.wa.gov    Alexey   Gilman   \n",
       "1  caitlin.drover@doh.wa.gov  Caitlin.Drover@doh.wa.gov   Caitlin   Drover   \n",
       "2   emily.pearman@doh.wa.gov   emily.pearman@doh.wa.gov     Emily  Pearman   \n",
       "\n",
       "   expiration data_access_group  data_access_group_id  design  alerts  \\\n",
       "0         NaN       full_access                2029.0       1       1   \n",
       "1         NaN               NaN                   NaN       1       1   \n",
       "2         NaN               NaN                   NaN       1       1   \n",
       "\n",
       "   user_rights  ...  mobile_app  mobile_app_download_data  record_create  \\\n",
       "0            1  ...           1                         0              1   \n",
       "1            1  ...           1                         0              1   \n",
       "2            1  ...           1                         0              1   \n",
       "\n",
       "   record_rename  record_delete  lock_records_all_forms  lock_records  \\\n",
       "0              1              1                       0             0   \n",
       "1              1              1                       0             0   \n",
       "2              1              1                       0             0   \n",
       "\n",
       "   lock_records_customization  \\\n",
       "0                           1   \n",
       "1                           1   \n",
       "2                           1   \n",
       "\n",
       "                                               forms  \\\n",
       "0  demographics:3,symptoms:1,test_information:1,c...   \n",
       "1  demographics:3,symptoms:1,test_information:1,c...   \n",
       "2  demographics:3,symptoms:1,test_information:1,c...   \n",
       "\n",
       "                                        forms_export  \n",
       "0  demographics:1,symptoms:1,test_information:1,c...  \n",
       "1  demographics:1,symptoms:1,test_information:1,c...  \n",
       "2  demographics:1,symptoms:1,test_information:1,c...  \n",
       "\n",
       "[3 rows x 34 columns]"
      ]
     },
     "execution_count": 24,
     "metadata": {},
     "output_type": "execute_result"
    }
   ],
   "source": [
    "# View current users in the REDCap project\n",
    "project.export_users(format_type = 'df')"
   ]
  },
  {
   "cell_type": "code",
   "execution_count": 25,
   "id": "29707ded-a34a-493a-8a7e-75e884362dea",
   "metadata": {},
   "outputs": [
    {
     "data": {
      "text/plain": [
       "1"
      ]
     },
     "execution_count": 25,
     "metadata": {},
     "output_type": "execute_result"
    }
   ],
   "source": [
    "# the most basic, add a new user\n",
    "new_user = [{'username':'bambergertestemail@gmail.com'}]\n",
    "project.import_users(new_user)"
   ]
  },
  {
   "cell_type": "code",
   "execution_count": 26,
   "id": "6da530d3-3dbf-4cc5-a790-b447c4541ade",
   "metadata": {},
   "outputs": [
    {
     "data": {
      "text/html": [
       "<div>\n",
       "<style scoped>\n",
       "    .dataframe tbody tr th:only-of-type {\n",
       "        vertical-align: middle;\n",
       "    }\n",
       "\n",
       "    .dataframe tbody tr th {\n",
       "        vertical-align: top;\n",
       "    }\n",
       "\n",
       "    .dataframe thead th {\n",
       "        text-align: right;\n",
       "    }\n",
       "</style>\n",
       "<table border=\"1\" class=\"dataframe\">\n",
       "  <thead>\n",
       "    <tr style=\"text-align: right;\">\n",
       "      <th></th>\n",
       "      <th>username</th>\n",
       "      <th>email</th>\n",
       "      <th>firstname</th>\n",
       "      <th>lastname</th>\n",
       "      <th>expiration</th>\n",
       "      <th>data_access_group</th>\n",
       "      <th>data_access_group_id</th>\n",
       "      <th>design</th>\n",
       "      <th>alerts</th>\n",
       "      <th>user_rights</th>\n",
       "      <th>...</th>\n",
       "      <th>mobile_app</th>\n",
       "      <th>mobile_app_download_data</th>\n",
       "      <th>record_create</th>\n",
       "      <th>record_rename</th>\n",
       "      <th>record_delete</th>\n",
       "      <th>lock_records_all_forms</th>\n",
       "      <th>lock_records</th>\n",
       "      <th>lock_records_customization</th>\n",
       "      <th>forms</th>\n",
       "      <th>forms_export</th>\n",
       "    </tr>\n",
       "  </thead>\n",
       "  <tbody>\n",
       "    <tr>\n",
       "      <th>0</th>\n",
       "      <td>alexey.gilman@doh.wa.gov</td>\n",
       "      <td>Alexey.Gilman@doh.wa.gov</td>\n",
       "      <td>Alexey</td>\n",
       "      <td>Gilman</td>\n",
       "      <td>NaN</td>\n",
       "      <td>full_access</td>\n",
       "      <td>2029.0</td>\n",
       "      <td>1</td>\n",
       "      <td>1</td>\n",
       "      <td>1</td>\n",
       "      <td>...</td>\n",
       "      <td>1</td>\n",
       "      <td>0</td>\n",
       "      <td>1</td>\n",
       "      <td>1</td>\n",
       "      <td>1</td>\n",
       "      <td>0</td>\n",
       "      <td>0</td>\n",
       "      <td>1</td>\n",
       "      <td>demographics:3,symptoms:1,test_information:1,c...</td>\n",
       "      <td>demographics:1,symptoms:1,test_information:1,c...</td>\n",
       "    </tr>\n",
       "    <tr>\n",
       "      <th>1</th>\n",
       "      <td>bambergertestemail@gmail.com</td>\n",
       "      <td>NaN</td>\n",
       "      <td>NaN</td>\n",
       "      <td>NaN</td>\n",
       "      <td>NaN</td>\n",
       "      <td>NaN</td>\n",
       "      <td>NaN</td>\n",
       "      <td>0</td>\n",
       "      <td>0</td>\n",
       "      <td>0</td>\n",
       "      <td>...</td>\n",
       "      <td>0</td>\n",
       "      <td>0</td>\n",
       "      <td>0</td>\n",
       "      <td>0</td>\n",
       "      <td>0</td>\n",
       "      <td>0</td>\n",
       "      <td>0</td>\n",
       "      <td>0</td>\n",
       "      <td>demographics:0,symptoms:0,test_information:0,c...</td>\n",
       "      <td>demographics:0,symptoms:0,test_information:0,c...</td>\n",
       "    </tr>\n",
       "    <tr>\n",
       "      <th>2</th>\n",
       "      <td>caitlin.drover@doh.wa.gov</td>\n",
       "      <td>Caitlin.Drover@doh.wa.gov</td>\n",
       "      <td>Caitlin</td>\n",
       "      <td>Drover</td>\n",
       "      <td>NaN</td>\n",
       "      <td>NaN</td>\n",
       "      <td>NaN</td>\n",
       "      <td>1</td>\n",
       "      <td>1</td>\n",
       "      <td>1</td>\n",
       "      <td>...</td>\n",
       "      <td>1</td>\n",
       "      <td>0</td>\n",
       "      <td>1</td>\n",
       "      <td>1</td>\n",
       "      <td>1</td>\n",
       "      <td>0</td>\n",
       "      <td>0</td>\n",
       "      <td>1</td>\n",
       "      <td>demographics:3,symptoms:1,test_information:1,c...</td>\n",
       "      <td>demographics:1,symptoms:1,test_information:1,c...</td>\n",
       "    </tr>\n",
       "    <tr>\n",
       "      <th>3</th>\n",
       "      <td>emily.pearman@doh.wa.gov</td>\n",
       "      <td>emily.pearman@doh.wa.gov</td>\n",
       "      <td>Emily</td>\n",
       "      <td>Pearman</td>\n",
       "      <td>NaN</td>\n",
       "      <td>NaN</td>\n",
       "      <td>NaN</td>\n",
       "      <td>1</td>\n",
       "      <td>1</td>\n",
       "      <td>1</td>\n",
       "      <td>...</td>\n",
       "      <td>1</td>\n",
       "      <td>0</td>\n",
       "      <td>1</td>\n",
       "      <td>1</td>\n",
       "      <td>1</td>\n",
       "      <td>0</td>\n",
       "      <td>0</td>\n",
       "      <td>1</td>\n",
       "      <td>demographics:3,symptoms:1,test_information:1,c...</td>\n",
       "      <td>demographics:1,symptoms:1,test_information:1,c...</td>\n",
       "    </tr>\n",
       "  </tbody>\n",
       "</table>\n",
       "<p>4 rows × 34 columns</p>\n",
       "</div>"
      ],
      "text/plain": [
       "                       username                      email firstname lastname  \\\n",
       "0      alexey.gilman@doh.wa.gov   Alexey.Gilman@doh.wa.gov    Alexey   Gilman   \n",
       "1  bambergertestemail@gmail.com                        NaN       NaN      NaN   \n",
       "2     caitlin.drover@doh.wa.gov  Caitlin.Drover@doh.wa.gov   Caitlin   Drover   \n",
       "3      emily.pearman@doh.wa.gov   emily.pearman@doh.wa.gov     Emily  Pearman   \n",
       "\n",
       "   expiration data_access_group  data_access_group_id  design  alerts  \\\n",
       "0         NaN       full_access                2029.0       1       1   \n",
       "1         NaN               NaN                   NaN       0       0   \n",
       "2         NaN               NaN                   NaN       1       1   \n",
       "3         NaN               NaN                   NaN       1       1   \n",
       "\n",
       "   user_rights  ...  mobile_app  mobile_app_download_data  record_create  \\\n",
       "0            1  ...           1                         0              1   \n",
       "1            0  ...           0                         0              0   \n",
       "2            1  ...           1                         0              1   \n",
       "3            1  ...           1                         0              1   \n",
       "\n",
       "   record_rename  record_delete  lock_records_all_forms  lock_records  \\\n",
       "0              1              1                       0             0   \n",
       "1              0              0                       0             0   \n",
       "2              1              1                       0             0   \n",
       "3              1              1                       0             0   \n",
       "\n",
       "   lock_records_customization  \\\n",
       "0                           1   \n",
       "1                           0   \n",
       "2                           1   \n",
       "3                           1   \n",
       "\n",
       "                                               forms  \\\n",
       "0  demographics:3,symptoms:1,test_information:1,c...   \n",
       "1  demographics:0,symptoms:0,test_information:0,c...   \n",
       "2  demographics:3,symptoms:1,test_information:1,c...   \n",
       "3  demographics:3,symptoms:1,test_information:1,c...   \n",
       "\n",
       "                                        forms_export  \n",
       "0  demographics:1,symptoms:1,test_information:1,c...  \n",
       "1  demographics:0,symptoms:0,test_information:0,c...  \n",
       "2  demographics:1,symptoms:1,test_information:1,c...  \n",
       "3  demographics:1,symptoms:1,test_information:1,c...  \n",
       "\n",
       "[4 rows x 34 columns]"
      ]
     },
     "execution_count": 26,
     "metadata": {},
     "output_type": "execute_result"
    }
   ],
   "source": [
    "# You can see the new user has been added\n",
    "project.export_users(format_type = 'df')"
   ]
  },
  {
   "cell_type": "code",
   "execution_count": 73,
   "id": "6478ab51-4e74-4f43-8cde-4969a45b099a",
   "metadata": {},
   "outputs": [
    {
     "data": {
      "text/plain": [
       "[{'username': 'alexey.gilman@doh.wa.gov',\n",
       "  'email': 'Alexey.Gilman@doh.wa.gov',\n",
       "  'firstname': 'Alexey',\n",
       "  'lastname': 'Gilman',\n",
       "  'expiration': '',\n",
       "  'data_access_group': 'full_access',\n",
       "  'data_access_group_id': 2029,\n",
       "  'design': 1,\n",
       "  'alerts': 1,\n",
       "  'user_rights': 1,\n",
       "  'data_access_groups': 1,\n",
       "  'reports': 1,\n",
       "  'stats_and_charts': 1,\n",
       "  'manage_survey_participants': 1,\n",
       "  'calendar': 1,\n",
       "  'data_import_tool': 1,\n",
       "  'data_comparison_tool': 1,\n",
       "  'logging': 1,\n",
       "  'file_repository': 1,\n",
       "  'data_quality_create': 1,\n",
       "  'data_quality_execute': 1,\n",
       "  'api_export': 1,\n",
       "  'api_import': 1,\n",
       "  'api_modules': 0,\n",
       "  'mobile_app': 1,\n",
       "  'mobile_app_download_data': 0,\n",
       "  'record_create': 1,\n",
       "  'record_rename': 1,\n",
       "  'record_delete': 1,\n",
       "  'lock_records_all_forms': 0,\n",
       "  'lock_records': 0,\n",
       "  'lock_records_customization': 1,\n",
       "  'forms': {'demographics': 3,\n",
       "   'symptoms': 1,\n",
       "   'test_information': 1,\n",
       "   'close_contacts': 1,\n",
       "   'work_information': 1},\n",
       "  'forms_export': {'demographics': 1,\n",
       "   'symptoms': 1,\n",
       "   'test_information': 1,\n",
       "   'close_contacts': 1,\n",
       "   'work_information': 1}},\n",
       " {'username': 'caitlin.drover@doh.wa.gov',\n",
       "  'email': 'Caitlin.Drover@doh.wa.gov',\n",
       "  'firstname': 'Caitlin',\n",
       "  'lastname': 'Drover',\n",
       "  'expiration': '',\n",
       "  'data_access_group': '',\n",
       "  'data_access_group_id': '',\n",
       "  'design': 1,\n",
       "  'alerts': 1,\n",
       "  'user_rights': 1,\n",
       "  'data_access_groups': 1,\n",
       "  'reports': 1,\n",
       "  'stats_and_charts': 1,\n",
       "  'manage_survey_participants': 1,\n",
       "  'calendar': 1,\n",
       "  'data_import_tool': 1,\n",
       "  'data_comparison_tool': 1,\n",
       "  'logging': 1,\n",
       "  'file_repository': 1,\n",
       "  'data_quality_create': 1,\n",
       "  'data_quality_execute': 1,\n",
       "  'api_export': 1,\n",
       "  'api_import': 1,\n",
       "  'api_modules': 0,\n",
       "  'mobile_app': 1,\n",
       "  'mobile_app_download_data': 0,\n",
       "  'record_create': 1,\n",
       "  'record_rename': 1,\n",
       "  'record_delete': 1,\n",
       "  'lock_records_all_forms': 0,\n",
       "  'lock_records': 0,\n",
       "  'lock_records_customization': 1,\n",
       "  'forms': {'demographics': 3,\n",
       "   'symptoms': 1,\n",
       "   'test_information': 1,\n",
       "   'close_contacts': 1,\n",
       "   'work_information': 1},\n",
       "  'forms_export': {'demographics': 1,\n",
       "   'symptoms': 1,\n",
       "   'test_information': 1,\n",
       "   'close_contacts': 1,\n",
       "   'work_information': 1}},\n",
       " {'username': 'emily.pearman@doh.wa.gov',\n",
       "  'email': 'emily.pearman@doh.wa.gov',\n",
       "  'firstname': 'Emily',\n",
       "  'lastname': 'Pearman',\n",
       "  'expiration': '',\n",
       "  'data_access_group': '',\n",
       "  'data_access_group_id': '',\n",
       "  'design': 1,\n",
       "  'alerts': 1,\n",
       "  'user_rights': 1,\n",
       "  'data_access_groups': 1,\n",
       "  'reports': 1,\n",
       "  'stats_and_charts': 1,\n",
       "  'manage_survey_participants': 1,\n",
       "  'calendar': 1,\n",
       "  'data_import_tool': 1,\n",
       "  'data_comparison_tool': 1,\n",
       "  'logging': 1,\n",
       "  'file_repository': 1,\n",
       "  'data_quality_create': 1,\n",
       "  'data_quality_execute': 1,\n",
       "  'api_export': 1,\n",
       "  'api_import': 1,\n",
       "  'api_modules': 0,\n",
       "  'mobile_app': 1,\n",
       "  'mobile_app_download_data': 0,\n",
       "  'record_create': 1,\n",
       "  'record_rename': 1,\n",
       "  'record_delete': 1,\n",
       "  'lock_records_all_forms': 0,\n",
       "  'lock_records': 0,\n",
       "  'lock_records_customization': 1,\n",
       "  'forms': {'demographics': 3,\n",
       "   'symptoms': 1,\n",
       "   'test_information': 1,\n",
       "   'close_contacts': 1,\n",
       "   'work_information': 1},\n",
       "  'forms_export': {'demographics': 1,\n",
       "   'symptoms': 1,\n",
       "   'test_information': 1,\n",
       "   'close_contacts': 1,\n",
       "   'work_information': 1}}]"
      ]
     },
     "execution_count": 73,
     "metadata": {},
     "output_type": "execute_result"
    }
   ],
   "source": [
    "# View how the data is formated as a json\n",
    "project.export_users()"
   ]
  },
  {
   "cell_type": "markdown",
   "id": "0da57fe1-0c1b-4ac4-87d4-e3d2546043f7",
   "metadata": {},
   "source": [
    "When specifying form permissions, you need to write them as their own dictionary within the dictionary. See the example below. Refer to the [documentation](http://redcap-tools.github.io/PyCap/api_reference/users/#redcap.methods.users.Users.import_users) for a list of all user rights options that can be included. "
   ]
  },
  {
   "cell_type": "code",
   "execution_count": 27,
   "id": "5c384860-ad7a-491c-8a17-0681ddd6942b",
   "metadata": {},
   "outputs": [
    {
     "data": {
      "text/plain": [
       "1"
      ]
     },
     "execution_count": 27,
     "metadata": {},
     "output_type": "execute_result"
    }
   ],
   "source": [
    "# More advanced\n",
    "# Fields are mostly 1s or 0s, with 1 granting permission, but you can also set data access group in here with name or id\n",
    "advanced_user = [{'username':'bambergertestemail@gmail.com', 'reports':1, 'api_export':1, 'record_rename':1, 'forms': {'demographics': 3,\n",
    "  'symptoms': 1,\n",
    "  'test_information': 1,\n",
    "  'close_contacts': 1,\n",
    "  'work_information': 1}}]\n",
    "project.import_users(advanced_user)"
   ]
  },
  {
   "cell_type": "code",
   "execution_count": 28,
   "id": "27fa5fed-a508-4610-8b14-b43044192e28",
   "metadata": {},
   "outputs": [
    {
     "data": {
      "text/html": [
       "<div>\n",
       "<style scoped>\n",
       "    .dataframe tbody tr th:only-of-type {\n",
       "        vertical-align: middle;\n",
       "    }\n",
       "\n",
       "    .dataframe tbody tr th {\n",
       "        vertical-align: top;\n",
       "    }\n",
       "\n",
       "    .dataframe thead th {\n",
       "        text-align: right;\n",
       "    }\n",
       "</style>\n",
       "<table border=\"1\" class=\"dataframe\">\n",
       "  <thead>\n",
       "    <tr style=\"text-align: right;\">\n",
       "      <th></th>\n",
       "      <th>username</th>\n",
       "      <th>email</th>\n",
       "      <th>firstname</th>\n",
       "      <th>lastname</th>\n",
       "      <th>expiration</th>\n",
       "      <th>data_access_group</th>\n",
       "      <th>data_access_group_id</th>\n",
       "      <th>design</th>\n",
       "      <th>alerts</th>\n",
       "      <th>user_rights</th>\n",
       "      <th>...</th>\n",
       "      <th>mobile_app</th>\n",
       "      <th>mobile_app_download_data</th>\n",
       "      <th>record_create</th>\n",
       "      <th>record_rename</th>\n",
       "      <th>record_delete</th>\n",
       "      <th>lock_records_all_forms</th>\n",
       "      <th>lock_records</th>\n",
       "      <th>lock_records_customization</th>\n",
       "      <th>forms</th>\n",
       "      <th>forms_export</th>\n",
       "    </tr>\n",
       "  </thead>\n",
       "  <tbody>\n",
       "    <tr>\n",
       "      <th>0</th>\n",
       "      <td>alexey.gilman@doh.wa.gov</td>\n",
       "      <td>Alexey.Gilman@doh.wa.gov</td>\n",
       "      <td>Alexey</td>\n",
       "      <td>Gilman</td>\n",
       "      <td>NaN</td>\n",
       "      <td>full_access</td>\n",
       "      <td>2029.0</td>\n",
       "      <td>1</td>\n",
       "      <td>1</td>\n",
       "      <td>1</td>\n",
       "      <td>...</td>\n",
       "      <td>1</td>\n",
       "      <td>0</td>\n",
       "      <td>1</td>\n",
       "      <td>1</td>\n",
       "      <td>1</td>\n",
       "      <td>0</td>\n",
       "      <td>0</td>\n",
       "      <td>1</td>\n",
       "      <td>demographics:3,symptoms:1,test_information:1,c...</td>\n",
       "      <td>demographics:1,symptoms:1,test_information:1,c...</td>\n",
       "    </tr>\n",
       "    <tr>\n",
       "      <th>1</th>\n",
       "      <td>bambergertestemail@gmail.com</td>\n",
       "      <td>NaN</td>\n",
       "      <td>NaN</td>\n",
       "      <td>NaN</td>\n",
       "      <td>NaN</td>\n",
       "      <td>NaN</td>\n",
       "      <td>NaN</td>\n",
       "      <td>0</td>\n",
       "      <td>0</td>\n",
       "      <td>0</td>\n",
       "      <td>...</td>\n",
       "      <td>0</td>\n",
       "      <td>0</td>\n",
       "      <td>0</td>\n",
       "      <td>1</td>\n",
       "      <td>0</td>\n",
       "      <td>0</td>\n",
       "      <td>0</td>\n",
       "      <td>0</td>\n",
       "      <td>demographics:3,symptoms:1,test_information:1,c...</td>\n",
       "      <td>demographics:0,symptoms:0,test_information:0,c...</td>\n",
       "    </tr>\n",
       "    <tr>\n",
       "      <th>2</th>\n",
       "      <td>caitlin.drover@doh.wa.gov</td>\n",
       "      <td>Caitlin.Drover@doh.wa.gov</td>\n",
       "      <td>Caitlin</td>\n",
       "      <td>Drover</td>\n",
       "      <td>NaN</td>\n",
       "      <td>NaN</td>\n",
       "      <td>NaN</td>\n",
       "      <td>1</td>\n",
       "      <td>1</td>\n",
       "      <td>1</td>\n",
       "      <td>...</td>\n",
       "      <td>1</td>\n",
       "      <td>0</td>\n",
       "      <td>1</td>\n",
       "      <td>1</td>\n",
       "      <td>1</td>\n",
       "      <td>0</td>\n",
       "      <td>0</td>\n",
       "      <td>1</td>\n",
       "      <td>demographics:3,symptoms:1,test_information:1,c...</td>\n",
       "      <td>demographics:1,symptoms:1,test_information:1,c...</td>\n",
       "    </tr>\n",
       "    <tr>\n",
       "      <th>3</th>\n",
       "      <td>emily.pearman@doh.wa.gov</td>\n",
       "      <td>emily.pearman@doh.wa.gov</td>\n",
       "      <td>Emily</td>\n",
       "      <td>Pearman</td>\n",
       "      <td>NaN</td>\n",
       "      <td>NaN</td>\n",
       "      <td>NaN</td>\n",
       "      <td>1</td>\n",
       "      <td>1</td>\n",
       "      <td>1</td>\n",
       "      <td>...</td>\n",
       "      <td>1</td>\n",
       "      <td>0</td>\n",
       "      <td>1</td>\n",
       "      <td>1</td>\n",
       "      <td>1</td>\n",
       "      <td>0</td>\n",
       "      <td>0</td>\n",
       "      <td>1</td>\n",
       "      <td>demographics:3,symptoms:1,test_information:1,c...</td>\n",
       "      <td>demographics:1,symptoms:1,test_information:1,c...</td>\n",
       "    </tr>\n",
       "  </tbody>\n",
       "</table>\n",
       "<p>4 rows × 34 columns</p>\n",
       "</div>"
      ],
      "text/plain": [
       "                       username                      email firstname lastname  \\\n",
       "0      alexey.gilman@doh.wa.gov   Alexey.Gilman@doh.wa.gov    Alexey   Gilman   \n",
       "1  bambergertestemail@gmail.com                        NaN       NaN      NaN   \n",
       "2     caitlin.drover@doh.wa.gov  Caitlin.Drover@doh.wa.gov   Caitlin   Drover   \n",
       "3      emily.pearman@doh.wa.gov   emily.pearman@doh.wa.gov     Emily  Pearman   \n",
       "\n",
       "   expiration data_access_group  data_access_group_id  design  alerts  \\\n",
       "0         NaN       full_access                2029.0       1       1   \n",
       "1         NaN               NaN                   NaN       0       0   \n",
       "2         NaN               NaN                   NaN       1       1   \n",
       "3         NaN               NaN                   NaN       1       1   \n",
       "\n",
       "   user_rights  ...  mobile_app  mobile_app_download_data  record_create  \\\n",
       "0            1  ...           1                         0              1   \n",
       "1            0  ...           0                         0              0   \n",
       "2            1  ...           1                         0              1   \n",
       "3            1  ...           1                         0              1   \n",
       "\n",
       "   record_rename  record_delete  lock_records_all_forms  lock_records  \\\n",
       "0              1              1                       0             0   \n",
       "1              1              0                       0             0   \n",
       "2              1              1                       0             0   \n",
       "3              1              1                       0             0   \n",
       "\n",
       "   lock_records_customization  \\\n",
       "0                           1   \n",
       "1                           0   \n",
       "2                           1   \n",
       "3                           1   \n",
       "\n",
       "                                               forms  \\\n",
       "0  demographics:3,symptoms:1,test_information:1,c...   \n",
       "1  demographics:3,symptoms:1,test_information:1,c...   \n",
       "2  demographics:3,symptoms:1,test_information:1,c...   \n",
       "3  demographics:3,symptoms:1,test_information:1,c...   \n",
       "\n",
       "                                        forms_export  \n",
       "0  demographics:1,symptoms:1,test_information:1,c...  \n",
       "1  demographics:0,symptoms:0,test_information:0,c...  \n",
       "2  demographics:1,symptoms:1,test_information:1,c...  \n",
       "3  demographics:1,symptoms:1,test_information:1,c...  \n",
       "\n",
       "[4 rows x 34 columns]"
      ]
     },
     "execution_count": 28,
     "metadata": {},
     "output_type": "execute_result"
    }
   ],
   "source": [
    "# You can see the user now has the specified permissions\n",
    "project.export_users(format_type = 'df')"
   ]
  },
  {
   "cell_type": "markdown",
   "id": "a03838ce-9d72-4f2a-997c-73de2636d30c",
   "metadata": {},
   "source": [
    "You can also delete users. "
   ]
  },
  {
   "cell_type": "code",
   "execution_count": 29,
   "id": "5feb572d-3640-40b7-9e55-2f3463a630a4",
   "metadata": {},
   "outputs": [
    {
     "data": {
      "text/plain": [
       "1"
      ]
     },
     "execution_count": 29,
     "metadata": {},
     "output_type": "execute_result"
    }
   ],
   "source": [
    "project.delete_users(['bambergertestemail@gmail.com'])"
   ]
  },
  {
   "cell_type": "markdown",
   "id": "c345f7ca-2fce-4119-99d0-06dadd5d2c8f",
   "metadata": {},
   "source": [
    "## User Roles"
   ]
  },
  {
   "cell_type": "markdown",
   "id": "8c25f823-26d1-44ea-9c3a-b546e6b6a8c7",
   "metadata": {},
   "source": [
    "You can add user roles and add user to these defined user roles."
   ]
  },
  {
   "cell_type": "code",
   "execution_count": 30,
   "id": "f9190519-0e31-4a1c-bdd3-143b712263a4",
   "metadata": {},
   "outputs": [
    {
     "data": {
      "text/html": [
       "<div>\n",
       "<style scoped>\n",
       "    .dataframe tbody tr th:only-of-type {\n",
       "        vertical-align: middle;\n",
       "    }\n",
       "\n",
       "    .dataframe tbody tr th {\n",
       "        vertical-align: top;\n",
       "    }\n",
       "\n",
       "    .dataframe thead th {\n",
       "        text-align: right;\n",
       "    }\n",
       "</style>\n",
       "<table border=\"1\" class=\"dataframe\">\n",
       "  <thead>\n",
       "    <tr style=\"text-align: right;\">\n",
       "      <th></th>\n",
       "      <th>unique_role_name</th>\n",
       "      <th>role_label</th>\n",
       "      <th>design</th>\n",
       "      <th>alerts</th>\n",
       "      <th>user_rights</th>\n",
       "      <th>data_access_groups</th>\n",
       "      <th>reports</th>\n",
       "      <th>stats_and_charts</th>\n",
       "      <th>manage_survey_participants</th>\n",
       "      <th>calendar</th>\n",
       "      <th>...</th>\n",
       "      <th>mobile_app</th>\n",
       "      <th>mobile_app_download_data</th>\n",
       "      <th>record_create</th>\n",
       "      <th>record_rename</th>\n",
       "      <th>record_delete</th>\n",
       "      <th>lock_records_customization</th>\n",
       "      <th>lock_records</th>\n",
       "      <th>lock_records_all_forms</th>\n",
       "      <th>forms</th>\n",
       "      <th>forms_export</th>\n",
       "    </tr>\n",
       "  </thead>\n",
       "  <tbody>\n",
       "    <tr>\n",
       "      <th>0</th>\n",
       "      <td>U-297XW9NYE4</td>\n",
       "      <td>Test Role</td>\n",
       "      <td>0</td>\n",
       "      <td>0</td>\n",
       "      <td>0</td>\n",
       "      <td>0</td>\n",
       "      <td>0</td>\n",
       "      <td>0</td>\n",
       "      <td>0</td>\n",
       "      <td>0</td>\n",
       "      <td>...</td>\n",
       "      <td>0</td>\n",
       "      <td>0</td>\n",
       "      <td>0</td>\n",
       "      <td>0</td>\n",
       "      <td>0</td>\n",
       "      <td>0</td>\n",
       "      <td>0</td>\n",
       "      <td>0</td>\n",
       "      <td>demographics:0,symptoms:0,test_information:0,c...</td>\n",
       "      <td>demographics:0,symptoms:0,test_information:0,c...</td>\n",
       "    </tr>\n",
       "    <tr>\n",
       "      <th>1</th>\n",
       "      <td>U-428EKXLKWH</td>\n",
       "      <td>Test Role</td>\n",
       "      <td>0</td>\n",
       "      <td>0</td>\n",
       "      <td>0</td>\n",
       "      <td>0</td>\n",
       "      <td>0</td>\n",
       "      <td>0</td>\n",
       "      <td>0</td>\n",
       "      <td>0</td>\n",
       "      <td>...</td>\n",
       "      <td>0</td>\n",
       "      <td>0</td>\n",
       "      <td>0</td>\n",
       "      <td>0</td>\n",
       "      <td>0</td>\n",
       "      <td>0</td>\n",
       "      <td>0</td>\n",
       "      <td>0</td>\n",
       "      <td>demographics:0,symptoms:0,test_information:0,c...</td>\n",
       "      <td>demographics:0,symptoms:0,test_information:0,c...</td>\n",
       "    </tr>\n",
       "    <tr>\n",
       "      <th>2</th>\n",
       "      <td>U-5354FA3HYL</td>\n",
       "      <td>Admin</td>\n",
       "      <td>1</td>\n",
       "      <td>1</td>\n",
       "      <td>1</td>\n",
       "      <td>1</td>\n",
       "      <td>1</td>\n",
       "      <td>1</td>\n",
       "      <td>1</td>\n",
       "      <td>1</td>\n",
       "      <td>...</td>\n",
       "      <td>1</td>\n",
       "      <td>0</td>\n",
       "      <td>1</td>\n",
       "      <td>1</td>\n",
       "      <td>1</td>\n",
       "      <td>1</td>\n",
       "      <td>0</td>\n",
       "      <td>0</td>\n",
       "      <td>demographics:3,symptoms:1,test_information:1,c...</td>\n",
       "      <td>demographics:3,symptoms:1,test_information:1,c...</td>\n",
       "    </tr>\n",
       "    <tr>\n",
       "      <th>3</th>\n",
       "      <td>U-638JK7XXLM</td>\n",
       "      <td>Test Role</td>\n",
       "      <td>0</td>\n",
       "      <td>0</td>\n",
       "      <td>0</td>\n",
       "      <td>0</td>\n",
       "      <td>0</td>\n",
       "      <td>0</td>\n",
       "      <td>0</td>\n",
       "      <td>0</td>\n",
       "      <td>...</td>\n",
       "      <td>0</td>\n",
       "      <td>0</td>\n",
       "      <td>0</td>\n",
       "      <td>0</td>\n",
       "      <td>0</td>\n",
       "      <td>0</td>\n",
       "      <td>0</td>\n",
       "      <td>0</td>\n",
       "      <td>demographics:0,symptoms:0,test_information:0,c...</td>\n",
       "      <td>demographics:0,symptoms:0,test_information:0,c...</td>\n",
       "    </tr>\n",
       "    <tr>\n",
       "      <th>4</th>\n",
       "      <td>U-754CK8KWDJ</td>\n",
       "      <td>Advanced Role</td>\n",
       "      <td>0</td>\n",
       "      <td>1</td>\n",
       "      <td>0</td>\n",
       "      <td>0</td>\n",
       "      <td>0</td>\n",
       "      <td>0</td>\n",
       "      <td>0</td>\n",
       "      <td>0</td>\n",
       "      <td>...</td>\n",
       "      <td>0</td>\n",
       "      <td>0</td>\n",
       "      <td>0</td>\n",
       "      <td>0</td>\n",
       "      <td>0</td>\n",
       "      <td>0</td>\n",
       "      <td>0</td>\n",
       "      <td>0</td>\n",
       "      <td>demographics:0,symptoms:3,test_information:0,c...</td>\n",
       "      <td>demographics:0,symptoms:3,test_information:0,c...</td>\n",
       "    </tr>\n",
       "    <tr>\n",
       "      <th>5</th>\n",
       "      <td>U-762XYDFYFE</td>\n",
       "      <td>Test Role</td>\n",
       "      <td>0</td>\n",
       "      <td>0</td>\n",
       "      <td>0</td>\n",
       "      <td>0</td>\n",
       "      <td>0</td>\n",
       "      <td>0</td>\n",
       "      <td>0</td>\n",
       "      <td>0</td>\n",
       "      <td>...</td>\n",
       "      <td>0</td>\n",
       "      <td>0</td>\n",
       "      <td>0</td>\n",
       "      <td>0</td>\n",
       "      <td>0</td>\n",
       "      <td>0</td>\n",
       "      <td>0</td>\n",
       "      <td>0</td>\n",
       "      <td>demographics:0,symptoms:0,test_information:0,c...</td>\n",
       "      <td>demographics:0,symptoms:0,test_information:0,c...</td>\n",
       "    </tr>\n",
       "    <tr>\n",
       "      <th>6</th>\n",
       "      <td>U-781PK3L9JL</td>\n",
       "      <td>Test Role</td>\n",
       "      <td>0</td>\n",
       "      <td>0</td>\n",
       "      <td>0</td>\n",
       "      <td>0</td>\n",
       "      <td>0</td>\n",
       "      <td>0</td>\n",
       "      <td>0</td>\n",
       "      <td>0</td>\n",
       "      <td>...</td>\n",
       "      <td>0</td>\n",
       "      <td>0</td>\n",
       "      <td>0</td>\n",
       "      <td>0</td>\n",
       "      <td>0</td>\n",
       "      <td>0</td>\n",
       "      <td>0</td>\n",
       "      <td>0</td>\n",
       "      <td>demographics:0,symptoms:0,test_information:0,c...</td>\n",
       "      <td>demographics:0,symptoms:0,test_information:0,c...</td>\n",
       "    </tr>\n",
       "    <tr>\n",
       "      <th>7</th>\n",
       "      <td>U-896RPARYHM</td>\n",
       "      <td>Advanced Role</td>\n",
       "      <td>0</td>\n",
       "      <td>1</td>\n",
       "      <td>0</td>\n",
       "      <td>0</td>\n",
       "      <td>0</td>\n",
       "      <td>0</td>\n",
       "      <td>0</td>\n",
       "      <td>0</td>\n",
       "      <td>...</td>\n",
       "      <td>0</td>\n",
       "      <td>0</td>\n",
       "      <td>0</td>\n",
       "      <td>0</td>\n",
       "      <td>0</td>\n",
       "      <td>0</td>\n",
       "      <td>0</td>\n",
       "      <td>0</td>\n",
       "      <td>demographics:0,symptoms:3,test_information:0,c...</td>\n",
       "      <td>demographics:0,symptoms:3,test_information:0,c...</td>\n",
       "    </tr>\n",
       "  </tbody>\n",
       "</table>\n",
       "<p>8 rows × 29 columns</p>\n",
       "</div>"
      ],
      "text/plain": [
       "  unique_role_name     role_label  design  alerts  user_rights  \\\n",
       "0     U-297XW9NYE4      Test Role       0       0            0   \n",
       "1     U-428EKXLKWH      Test Role       0       0            0   \n",
       "2     U-5354FA3HYL          Admin       1       1            1   \n",
       "3     U-638JK7XXLM      Test Role       0       0            0   \n",
       "4     U-754CK8KWDJ  Advanced Role       0       1            0   \n",
       "5     U-762XYDFYFE      Test Role       0       0            0   \n",
       "6     U-781PK3L9JL      Test Role       0       0            0   \n",
       "7     U-896RPARYHM  Advanced Role       0       1            0   \n",
       "\n",
       "   data_access_groups  reports  stats_and_charts  manage_survey_participants  \\\n",
       "0                   0        0                 0                           0   \n",
       "1                   0        0                 0                           0   \n",
       "2                   1        1                 1                           1   \n",
       "3                   0        0                 0                           0   \n",
       "4                   0        0                 0                           0   \n",
       "5                   0        0                 0                           0   \n",
       "6                   0        0                 0                           0   \n",
       "7                   0        0                 0                           0   \n",
       "\n",
       "   calendar  ...  mobile_app  mobile_app_download_data  record_create  \\\n",
       "0         0  ...           0                         0              0   \n",
       "1         0  ...           0                         0              0   \n",
       "2         1  ...           1                         0              1   \n",
       "3         0  ...           0                         0              0   \n",
       "4         0  ...           0                         0              0   \n",
       "5         0  ...           0                         0              0   \n",
       "6         0  ...           0                         0              0   \n",
       "7         0  ...           0                         0              0   \n",
       "\n",
       "   record_rename  record_delete  lock_records_customization  lock_records  \\\n",
       "0              0              0                           0             0   \n",
       "1              0              0                           0             0   \n",
       "2              1              1                           1             0   \n",
       "3              0              0                           0             0   \n",
       "4              0              0                           0             0   \n",
       "5              0              0                           0             0   \n",
       "6              0              0                           0             0   \n",
       "7              0              0                           0             0   \n",
       "\n",
       "   lock_records_all_forms                                              forms  \\\n",
       "0                       0  demographics:0,symptoms:0,test_information:0,c...   \n",
       "1                       0  demographics:0,symptoms:0,test_information:0,c...   \n",
       "2                       0  demographics:3,symptoms:1,test_information:1,c...   \n",
       "3                       0  demographics:0,symptoms:0,test_information:0,c...   \n",
       "4                       0  demographics:0,symptoms:3,test_information:0,c...   \n",
       "5                       0  demographics:0,symptoms:0,test_information:0,c...   \n",
       "6                       0  demographics:0,symptoms:0,test_information:0,c...   \n",
       "7                       0  demographics:0,symptoms:3,test_information:0,c...   \n",
       "\n",
       "                                        forms_export  \n",
       "0  demographics:0,symptoms:0,test_information:0,c...  \n",
       "1  demographics:0,symptoms:0,test_information:0,c...  \n",
       "2  demographics:3,symptoms:1,test_information:1,c...  \n",
       "3  demographics:0,symptoms:0,test_information:0,c...  \n",
       "4  demographics:0,symptoms:3,test_information:0,c...  \n",
       "5  demographics:0,symptoms:0,test_information:0,c...  \n",
       "6  demographics:0,symptoms:0,test_information:0,c...  \n",
       "7  demographics:0,symptoms:3,test_information:0,c...  \n",
       "\n",
       "[8 rows x 29 columns]"
      ]
     },
     "execution_count": 30,
     "metadata": {},
     "output_type": "execute_result"
    }
   ],
   "source": [
    "# Export and view user roles currently in project\n",
    "project.export_user_roles(format_type = 'df')\n",
    "# everything is a 0 or 1 to denote true/false except for unique_role_name and role_label"
   ]
  },
  {
   "cell_type": "code",
   "execution_count": 31,
   "id": "74f5f4fd-4e03-4a15-8df6-d70baf807044",
   "metadata": {},
   "outputs": [
    {
     "data": {
      "text/plain": [
       "1"
      ]
     },
     "execution_count": 31,
     "metadata": {},
     "output_type": "execute_result"
    }
   ],
   "source": [
    "# Minimum command: all permissions default to 0 (no access) unless otherwise specified\n",
    "new_role = [{'role_label':'Test Role'}]\n",
    "project.import_user_roles(new_role)"
   ]
  },
  {
   "cell_type": "markdown",
   "id": "bcc544ab-32f1-4d32-92a4-b9329aacaae2",
   "metadata": {},
   "source": [
    "Note forms permissions assignment need to be written as a dictionary within a dictionary"
   ]
  },
  {
   "cell_type": "code",
   "execution_count": 32,
   "id": "fdf530fc-8acd-48ed-850d-0ed5a6ec506b",
   "metadata": {},
   "outputs": [
    {
     "data": {
      "text/plain": [
       "1"
      ]
     },
     "execution_count": 32,
     "metadata": {},
     "output_type": "execute_result"
    }
   ],
   "source": [
    "# more advanced\n",
    "role_advanced = [{'role_label':'Advanced Role', 'api_export':'1', 'api_import':'1', 'logging':'1', 'forms': {'demographics': 0,\n",
    "  'symptoms': 3,\n",
    "  'test_information': 0,\n",
    "  'close_contacts': 3,\n",
    "  'work_information': 0}, 'alerts':'1'}]\n",
    "\n",
    "project.import_user_roles(role_advanced)"
   ]
  },
  {
   "cell_type": "code",
   "execution_count": 55,
   "id": "8cb57e9c-f3e5-4881-98cd-d8c7f09fc0d2",
   "metadata": {},
   "outputs": [
    {
     "data": {
      "text/html": [
       "<div>\n",
       "<style scoped>\n",
       "    .dataframe tbody tr th:only-of-type {\n",
       "        vertical-align: middle;\n",
       "    }\n",
       "\n",
       "    .dataframe tbody tr th {\n",
       "        vertical-align: top;\n",
       "    }\n",
       "\n",
       "    .dataframe thead th {\n",
       "        text-align: right;\n",
       "    }\n",
       "</style>\n",
       "<table border=\"1\" class=\"dataframe\">\n",
       "  <thead>\n",
       "    <tr style=\"text-align: right;\">\n",
       "      <th></th>\n",
       "      <th>unique_role_name</th>\n",
       "      <th>role_label</th>\n",
       "      <th>design</th>\n",
       "      <th>alerts</th>\n",
       "      <th>user_rights</th>\n",
       "      <th>data_access_groups</th>\n",
       "      <th>reports</th>\n",
       "      <th>stats_and_charts</th>\n",
       "      <th>manage_survey_participants</th>\n",
       "      <th>calendar</th>\n",
       "      <th>...</th>\n",
       "      <th>mobile_app</th>\n",
       "      <th>mobile_app_download_data</th>\n",
       "      <th>record_create</th>\n",
       "      <th>record_rename</th>\n",
       "      <th>record_delete</th>\n",
       "      <th>lock_records_customization</th>\n",
       "      <th>lock_records</th>\n",
       "      <th>lock_records_all_forms</th>\n",
       "      <th>forms</th>\n",
       "      <th>forms_export</th>\n",
       "    </tr>\n",
       "  </thead>\n",
       "  <tbody>\n",
       "    <tr>\n",
       "      <th>0</th>\n",
       "      <td>U-297XW9NYE4</td>\n",
       "      <td>Test Role</td>\n",
       "      <td>0</td>\n",
       "      <td>0</td>\n",
       "      <td>0</td>\n",
       "      <td>0</td>\n",
       "      <td>0</td>\n",
       "      <td>0</td>\n",
       "      <td>0</td>\n",
       "      <td>0</td>\n",
       "      <td>...</td>\n",
       "      <td>0</td>\n",
       "      <td>0</td>\n",
       "      <td>0</td>\n",
       "      <td>0</td>\n",
       "      <td>0</td>\n",
       "      <td>0</td>\n",
       "      <td>0</td>\n",
       "      <td>0</td>\n",
       "      <td>demographics:0,symptoms:0,test_information:0,c...</td>\n",
       "      <td>demographics:0,symptoms:0,test_information:0,c...</td>\n",
       "    </tr>\n",
       "    <tr>\n",
       "      <th>1</th>\n",
       "      <td>U-428EKXLKWH</td>\n",
       "      <td>Test Role</td>\n",
       "      <td>0</td>\n",
       "      <td>0</td>\n",
       "      <td>0</td>\n",
       "      <td>0</td>\n",
       "      <td>0</td>\n",
       "      <td>0</td>\n",
       "      <td>0</td>\n",
       "      <td>0</td>\n",
       "      <td>...</td>\n",
       "      <td>0</td>\n",
       "      <td>0</td>\n",
       "      <td>0</td>\n",
       "      <td>0</td>\n",
       "      <td>0</td>\n",
       "      <td>0</td>\n",
       "      <td>0</td>\n",
       "      <td>0</td>\n",
       "      <td>demographics:0,symptoms:0,test_information:0,c...</td>\n",
       "      <td>demographics:0,symptoms:0,test_information:0,c...</td>\n",
       "    </tr>\n",
       "    <tr>\n",
       "      <th>2</th>\n",
       "      <td>U-5354FA3HYL</td>\n",
       "      <td>Admin</td>\n",
       "      <td>1</td>\n",
       "      <td>1</td>\n",
       "      <td>1</td>\n",
       "      <td>1</td>\n",
       "      <td>1</td>\n",
       "      <td>1</td>\n",
       "      <td>1</td>\n",
       "      <td>1</td>\n",
       "      <td>...</td>\n",
       "      <td>1</td>\n",
       "      <td>0</td>\n",
       "      <td>1</td>\n",
       "      <td>1</td>\n",
       "      <td>1</td>\n",
       "      <td>1</td>\n",
       "      <td>0</td>\n",
       "      <td>0</td>\n",
       "      <td>demographics:3,symptoms:1,test_information:1,c...</td>\n",
       "      <td>demographics:3,symptoms:1,test_information:1,c...</td>\n",
       "    </tr>\n",
       "    <tr>\n",
       "      <th>3</th>\n",
       "      <td>U-638JK7XXLM</td>\n",
       "      <td>Test Role</td>\n",
       "      <td>0</td>\n",
       "      <td>0</td>\n",
       "      <td>0</td>\n",
       "      <td>0</td>\n",
       "      <td>0</td>\n",
       "      <td>0</td>\n",
       "      <td>0</td>\n",
       "      <td>0</td>\n",
       "      <td>...</td>\n",
       "      <td>0</td>\n",
       "      <td>0</td>\n",
       "      <td>0</td>\n",
       "      <td>0</td>\n",
       "      <td>0</td>\n",
       "      <td>0</td>\n",
       "      <td>0</td>\n",
       "      <td>0</td>\n",
       "      <td>demographics:0,symptoms:0,test_information:0,c...</td>\n",
       "      <td>demographics:0,symptoms:0,test_information:0,c...</td>\n",
       "    </tr>\n",
       "    <tr>\n",
       "      <th>4</th>\n",
       "      <td>U-754CK8KWDJ</td>\n",
       "      <td>Advanced Role</td>\n",
       "      <td>0</td>\n",
       "      <td>1</td>\n",
       "      <td>0</td>\n",
       "      <td>0</td>\n",
       "      <td>0</td>\n",
       "      <td>0</td>\n",
       "      <td>0</td>\n",
       "      <td>0</td>\n",
       "      <td>...</td>\n",
       "      <td>0</td>\n",
       "      <td>0</td>\n",
       "      <td>0</td>\n",
       "      <td>0</td>\n",
       "      <td>0</td>\n",
       "      <td>0</td>\n",
       "      <td>0</td>\n",
       "      <td>0</td>\n",
       "      <td>demographics:0,symptoms:3,test_information:0,c...</td>\n",
       "      <td>demographics:0,symptoms:3,test_information:0,c...</td>\n",
       "    </tr>\n",
       "    <tr>\n",
       "      <th>5</th>\n",
       "      <td>U-762XYDFYFE</td>\n",
       "      <td>Test Role</td>\n",
       "      <td>0</td>\n",
       "      <td>0</td>\n",
       "      <td>0</td>\n",
       "      <td>0</td>\n",
       "      <td>0</td>\n",
       "      <td>0</td>\n",
       "      <td>0</td>\n",
       "      <td>0</td>\n",
       "      <td>...</td>\n",
       "      <td>0</td>\n",
       "      <td>0</td>\n",
       "      <td>0</td>\n",
       "      <td>0</td>\n",
       "      <td>0</td>\n",
       "      <td>0</td>\n",
       "      <td>0</td>\n",
       "      <td>0</td>\n",
       "      <td>demographics:0,symptoms:0,test_information:0,c...</td>\n",
       "      <td>demographics:0,symptoms:0,test_information:0,c...</td>\n",
       "    </tr>\n",
       "    <tr>\n",
       "      <th>6</th>\n",
       "      <td>U-781PK3L9JL</td>\n",
       "      <td>Test Role</td>\n",
       "      <td>0</td>\n",
       "      <td>0</td>\n",
       "      <td>0</td>\n",
       "      <td>0</td>\n",
       "      <td>0</td>\n",
       "      <td>0</td>\n",
       "      <td>0</td>\n",
       "      <td>0</td>\n",
       "      <td>...</td>\n",
       "      <td>0</td>\n",
       "      <td>0</td>\n",
       "      <td>0</td>\n",
       "      <td>0</td>\n",
       "      <td>0</td>\n",
       "      <td>0</td>\n",
       "      <td>0</td>\n",
       "      <td>0</td>\n",
       "      <td>demographics:0,symptoms:0,test_information:0,c...</td>\n",
       "      <td>demographics:0,symptoms:0,test_information:0,c...</td>\n",
       "    </tr>\n",
       "    <tr>\n",
       "      <th>7</th>\n",
       "      <td>U-896RPARYHM</td>\n",
       "      <td>Advanced Role</td>\n",
       "      <td>0</td>\n",
       "      <td>1</td>\n",
       "      <td>0</td>\n",
       "      <td>0</td>\n",
       "      <td>0</td>\n",
       "      <td>0</td>\n",
       "      <td>0</td>\n",
       "      <td>0</td>\n",
       "      <td>...</td>\n",
       "      <td>0</td>\n",
       "      <td>0</td>\n",
       "      <td>0</td>\n",
       "      <td>0</td>\n",
       "      <td>0</td>\n",
       "      <td>0</td>\n",
       "      <td>0</td>\n",
       "      <td>0</td>\n",
       "      <td>demographics:0,symptoms:3,test_information:0,c...</td>\n",
       "      <td>demographics:0,symptoms:3,test_information:0,c...</td>\n",
       "    </tr>\n",
       "  </tbody>\n",
       "</table>\n",
       "<p>8 rows × 29 columns</p>\n",
       "</div>"
      ],
      "text/plain": [
       "  unique_role_name     role_label  design  alerts  user_rights  \\\n",
       "0     U-297XW9NYE4      Test Role       0       0            0   \n",
       "1     U-428EKXLKWH      Test Role       0       0            0   \n",
       "2     U-5354FA3HYL          Admin       1       1            1   \n",
       "3     U-638JK7XXLM      Test Role       0       0            0   \n",
       "4     U-754CK8KWDJ  Advanced Role       0       1            0   \n",
       "5     U-762XYDFYFE      Test Role       0       0            0   \n",
       "6     U-781PK3L9JL      Test Role       0       0            0   \n",
       "7     U-896RPARYHM  Advanced Role       0       1            0   \n",
       "\n",
       "   data_access_groups  reports  stats_and_charts  manage_survey_participants  \\\n",
       "0                   0        0                 0                           0   \n",
       "1                   0        0                 0                           0   \n",
       "2                   1        1                 1                           1   \n",
       "3                   0        0                 0                           0   \n",
       "4                   0        0                 0                           0   \n",
       "5                   0        0                 0                           0   \n",
       "6                   0        0                 0                           0   \n",
       "7                   0        0                 0                           0   \n",
       "\n",
       "   calendar  ...  mobile_app  mobile_app_download_data  record_create  \\\n",
       "0         0  ...           0                         0              0   \n",
       "1         0  ...           0                         0              0   \n",
       "2         1  ...           1                         0              1   \n",
       "3         0  ...           0                         0              0   \n",
       "4         0  ...           0                         0              0   \n",
       "5         0  ...           0                         0              0   \n",
       "6         0  ...           0                         0              0   \n",
       "7         0  ...           0                         0              0   \n",
       "\n",
       "   record_rename  record_delete  lock_records_customization  lock_records  \\\n",
       "0              0              0                           0             0   \n",
       "1              0              0                           0             0   \n",
       "2              1              1                           1             0   \n",
       "3              0              0                           0             0   \n",
       "4              0              0                           0             0   \n",
       "5              0              0                           0             0   \n",
       "6              0              0                           0             0   \n",
       "7              0              0                           0             0   \n",
       "\n",
       "   lock_records_all_forms                                              forms  \\\n",
       "0                       0  demographics:0,symptoms:0,test_information:0,c...   \n",
       "1                       0  demographics:0,symptoms:0,test_information:0,c...   \n",
       "2                       0  demographics:3,symptoms:1,test_information:1,c...   \n",
       "3                       0  demographics:0,symptoms:0,test_information:0,c...   \n",
       "4                       0  demographics:0,symptoms:3,test_information:0,c...   \n",
       "5                       0  demographics:0,symptoms:0,test_information:0,c...   \n",
       "6                       0  demographics:0,symptoms:0,test_information:0,c...   \n",
       "7                       0  demographics:0,symptoms:3,test_information:0,c...   \n",
       "\n",
       "                                        forms_export  \n",
       "0  demographics:0,symptoms:0,test_information:0,c...  \n",
       "1  demographics:0,symptoms:0,test_information:0,c...  \n",
       "2  demographics:3,symptoms:1,test_information:1,c...  \n",
       "3  demographics:0,symptoms:0,test_information:0,c...  \n",
       "4  demographics:0,symptoms:3,test_information:0,c...  \n",
       "5  demographics:0,symptoms:0,test_information:0,c...  \n",
       "6  demographics:0,symptoms:0,test_information:0,c...  \n",
       "7  demographics:0,symptoms:3,test_information:0,c...  \n",
       "\n",
       "[8 rows x 29 columns]"
      ]
     },
     "execution_count": 55,
     "metadata": {},
     "output_type": "execute_result"
    }
   ],
   "source": [
    "# View the new role that was added\n",
    "project.export_user_roles(format_type = 'df')"
   ]
  },
  {
   "cell_type": "markdown",
   "id": "7f6db9f3-8d95-4b3e-8c83-a1b1682705fb",
   "metadata": {},
   "source": [
    "### User Role Assignment"
   ]
  },
  {
   "cell_type": "markdown",
   "id": "107f37db-eaf3-466f-aa8d-88292347bd45",
   "metadata": {},
   "source": [
    "You can view and edit which users are assigned to which user role"
   ]
  },
  {
   "cell_type": "code",
   "execution_count": 33,
   "id": "5e5fa0ce-4153-4e4a-b1c4-c92f9cc7eff8",
   "metadata": {},
   "outputs": [
    {
     "data": {
      "text/plain": [
       "[{'username': 'alexey.gilman@doh.wa.gov',\n",
       "  'unique_role_name': 'U-5354FA3HYL',\n",
       "  'data_access_group': 'full_access'},\n",
       " {'username': 'caitlin.drover@doh.wa.gov',\n",
       "  'unique_role_name': 'U-5354FA3HYL',\n",
       "  'data_access_group': ''},\n",
       " {'username': 'emily.pearman@doh.wa.gov',\n",
       "  'unique_role_name': 'U-5354FA3HYL',\n",
       "  'data_access_group': ''}]"
      ]
     },
     "execution_count": 33,
     "metadata": {},
     "output_type": "execute_result"
    }
   ],
   "source": [
    "# View current user role assignments\n",
    "project.export_user_role_assignment()"
   ]
  },
  {
   "cell_type": "markdown",
   "id": "3e722e9e-75e3-4aa1-ac34-6857fe19f523",
   "metadata": {},
   "source": [
    "Can use `import_user_role_assignemnt` to assign a user to a role. Must use the unique role names listed above when specifying the role you want to assign a user to.  "
   ]
  },
  {
   "cell_type": "code",
   "execution_count": 34,
   "id": "553e214b-57a5-4ae6-bf9d-22084ef7d02a",
   "metadata": {},
   "outputs": [],
   "source": [
    "role_assigne = [{'username': 'alexey.gilman@doh.wa.gov', 'unique_role_name': 'U-896RPARYHM'}]"
   ]
  },
  {
   "cell_type": "code",
   "execution_count": 35,
   "id": "9f24e0c8-3f96-43bd-b8a0-78b6b2c7cbd4",
   "metadata": {
    "tags": []
   },
   "outputs": [
    {
     "data": {
      "text/plain": [
       "1"
      ]
     },
     "execution_count": 35,
     "metadata": {},
     "output_type": "execute_result"
    }
   ],
   "source": [
    "project.import_user_role_assignment(role_assigne)"
   ]
  },
  {
   "cell_type": "code",
   "execution_count": 36,
   "id": "8c747711-10ad-4e31-955a-6e1ea73aad2a",
   "metadata": {},
   "outputs": [
    {
     "data": {
      "text/plain": [
       "[{'username': 'alexey.gilman@doh.wa.gov',\n",
       "  'unique_role_name': 'U-896RPARYHM',\n",
       "  'data_access_group': 'full_access'},\n",
       " {'username': 'caitlin.drover@doh.wa.gov',\n",
       "  'unique_role_name': 'U-5354FA3HYL',\n",
       "  'data_access_group': ''},\n",
       " {'username': 'emily.pearman@doh.wa.gov',\n",
       "  'unique_role_name': 'U-5354FA3HYL',\n",
       "  'data_access_group': ''}]"
      ]
     },
     "execution_count": 36,
     "metadata": {},
     "output_type": "execute_result"
    }
   ],
   "source": [
    "# View new user role assignments\n",
    "project.export_user_role_assignment()"
   ]
  },
  {
   "cell_type": "code",
   "execution_count": 37,
   "id": "f969c4d1-3ef3-4f01-b8de-1390216b55e0",
   "metadata": {},
   "outputs": [
    {
     "data": {
      "text/plain": [
       "1"
      ]
     },
     "execution_count": 37,
     "metadata": {},
     "output_type": "execute_result"
    }
   ],
   "source": [
    "# Move user back to original role\n",
    "role_assigne2 = [{'username': 'alexey.gilman@doh.wa.gov', 'unique_role_name': 'U-5354FA3HYL'}]\n",
    "project.import_user_role_assignment(role_assigne2)"
   ]
  },
  {
   "cell_type": "markdown",
   "id": "31e90e3e-d5e7-4940-9acc-64cbbb695902",
   "metadata": {},
   "source": [
    "## Data Access Groups (DAGs)"
   ]
  },
  {
   "cell_type": "code",
   "execution_count": 38,
   "id": "ccf01b4a-e722-4410-bc02-7423253e32a5",
   "metadata": {},
   "outputs": [
    {
     "data": {
      "text/html": [
       "<div>\n",
       "<style scoped>\n",
       "    .dataframe tbody tr th:only-of-type {\n",
       "        vertical-align: middle;\n",
       "    }\n",
       "\n",
       "    .dataframe tbody tr th {\n",
       "        vertical-align: top;\n",
       "    }\n",
       "\n",
       "    .dataframe thead th {\n",
       "        text-align: right;\n",
       "    }\n",
       "</style>\n",
       "<table border=\"1\" class=\"dataframe\">\n",
       "  <thead>\n",
       "    <tr style=\"text-align: right;\">\n",
       "      <th></th>\n",
       "      <th>data_access_group_name</th>\n",
       "      <th>unique_group_name</th>\n",
       "      <th>data_access_group_id</th>\n",
       "    </tr>\n",
       "  </thead>\n",
       "  <tbody>\n",
       "    <tr>\n",
       "      <th>0</th>\n",
       "      <td>Full Access</td>\n",
       "      <td>full_access</td>\n",
       "      <td>2029</td>\n",
       "    </tr>\n",
       "    <tr>\n",
       "      <th>1</th>\n",
       "      <td>Limited Access</td>\n",
       "      <td>limited_access</td>\n",
       "      <td>2028</td>\n",
       "    </tr>\n",
       "    <tr>\n",
       "      <th>2</th>\n",
       "      <td>Test DAG</td>\n",
       "      <td>test_dag</td>\n",
       "      <td>2030</td>\n",
       "    </tr>\n",
       "    <tr>\n",
       "      <th>3</th>\n",
       "      <td>Test DAG</td>\n",
       "      <td>test_dagb</td>\n",
       "      <td>2031</td>\n",
       "    </tr>\n",
       "  </tbody>\n",
       "</table>\n",
       "</div>"
      ],
      "text/plain": [
       "  data_access_group_name unique_group_name  data_access_group_id\n",
       "0            Full Access       full_access                  2029\n",
       "1         Limited Access    limited_access                  2028\n",
       "2               Test DAG          test_dag                  2030\n",
       "3               Test DAG         test_dagb                  2031"
      ]
     },
     "execution_count": 38,
     "metadata": {},
     "output_type": "execute_result"
    }
   ],
   "source": [
    "# View the current DAGs and their ID's\n",
    "project.export_dags(format_type = 'df')"
   ]
  },
  {
   "cell_type": "markdown",
   "id": "4879300f-8e3c-4256-b73c-55df324de861",
   "metadata": {},
   "source": [
    "Create a new DAG"
   ]
  },
  {
   "cell_type": "code",
   "execution_count": 39,
   "id": "dc80fe3a-38a8-488a-9c86-f2b4d2d2edcd",
   "metadata": {},
   "outputs": [
    {
     "data": {
      "text/plain": [
       "1"
      ]
     },
     "execution_count": 39,
     "metadata": {},
     "output_type": "execute_result"
    }
   ],
   "source": [
    "new_dag = [{'data_access_group_name':'Test DAG', 'unique_group_name':''}]\n",
    "project.import_dags(new_dag)"
   ]
  },
  {
   "cell_type": "code",
   "execution_count": 75,
   "id": "5c76be95-c7ac-4a2a-9644-d929e01c3aa9",
   "metadata": {},
   "outputs": [
    {
     "data": {
      "text/html": [
       "<div>\n",
       "<style scoped>\n",
       "    .dataframe tbody tr th:only-of-type {\n",
       "        vertical-align: middle;\n",
       "    }\n",
       "\n",
       "    .dataframe tbody tr th {\n",
       "        vertical-align: top;\n",
       "    }\n",
       "\n",
       "    .dataframe thead th {\n",
       "        text-align: right;\n",
       "    }\n",
       "</style>\n",
       "<table border=\"1\" class=\"dataframe\">\n",
       "  <thead>\n",
       "    <tr style=\"text-align: right;\">\n",
       "      <th></th>\n",
       "      <th>data_access_group_name</th>\n",
       "      <th>unique_group_name</th>\n",
       "      <th>data_access_group_id</th>\n",
       "    </tr>\n",
       "  </thead>\n",
       "  <tbody>\n",
       "    <tr>\n",
       "      <th>0</th>\n",
       "      <td>Full Access</td>\n",
       "      <td>full_access</td>\n",
       "      <td>2029</td>\n",
       "    </tr>\n",
       "    <tr>\n",
       "      <th>1</th>\n",
       "      <td>Limited Access</td>\n",
       "      <td>limited_access</td>\n",
       "      <td>2028</td>\n",
       "    </tr>\n",
       "    <tr>\n",
       "      <th>2</th>\n",
       "      <td>Test DAG</td>\n",
       "      <td>test_dag</td>\n",
       "      <td>2030</td>\n",
       "    </tr>\n",
       "    <tr>\n",
       "      <th>3</th>\n",
       "      <td>Test DAG</td>\n",
       "      <td>test_dagb</td>\n",
       "      <td>2031</td>\n",
       "    </tr>\n",
       "  </tbody>\n",
       "</table>\n",
       "</div>"
      ],
      "text/plain": [
       "  data_access_group_name unique_group_name  data_access_group_id\n",
       "0            Full Access       full_access                  2029\n",
       "1         Limited Access    limited_access                  2028\n",
       "2               Test DAG          test_dag                  2030\n",
       "3               Test DAG         test_dagb                  2031"
      ]
     },
     "execution_count": 75,
     "metadata": {},
     "output_type": "execute_result"
    }
   ],
   "source": [
    "# View the new DAG and their ID's\n",
    "project.export_dags(format_type = 'df')"
   ]
  },
  {
   "cell_type": "markdown",
   "id": "c6b107fe-adc2-4737-a949-1c35e3395bba",
   "metadata": {},
   "source": [
    "Remember that you can assign a user to a specific DAG by including it in the User Roles import API. "
   ]
  },
  {
   "cell_type": "markdown",
   "id": "f2f53518-6d19-40a9-ad3a-1c50830f9609",
   "metadata": {},
   "source": [
    "## Logging"
   ]
  },
  {
   "cell_type": "markdown",
   "id": "9b701da1-094c-4ef9-b444-cbb83ff22add",
   "metadata": {},
   "source": [
    "N/A. Cannot be imported.  \n",
    "Can be exported using `project.export_logging()`."
   ]
  },
  {
   "cell_type": "markdown",
   "id": "b5d1de70-6dd3-4b05-a85c-fa042d24817a",
   "metadata": {
    "tags": []
   },
   "source": [
    "# Appendix"
   ]
  },
  {
   "cell_type": "markdown",
   "id": "a4554d55-7bfe-4b18-87a3-a708fe0372be",
   "metadata": {
    "tags": []
   },
   "source": [
    "## Example: Uploading Records from a CSV"
   ]
  },
  {
   "cell_type": "markdown",
   "id": "2d9713c6-7192-44e0-899a-6bd4e5ffb2fb",
   "metadata": {},
   "source": [
    "In this example, we have a csv named \"data_to_import.csv\", with new records to upload."
   ]
  },
  {
   "cell_type": "markdown",
   "id": "dd9f53a4-aa0a-4eec-b7cb-80d2d4a0af2a",
   "metadata": {},
   "source": [
    "When reading a csv as a pandas dataframe, python will take any numeric column with missing data and convert them to [float with NaN inserted](https://stackoverflow.com/questions/39666308/pd-read-csv-by-default-treats-integers-like-floats) in the blank cells. In longitudinal projects, we expect lots of blank cells since data is wide and for each row, only columns relevant to that event/instrument are filled out. Many of REDCap's field types (checkbox, yes/no, radio, and form_complete variables) are integers. Pandas will convert these columns to float variables with a decimal place added (i.e. 1.0 instead of 1 for 'Yes' in a yes/no field) and import to these integer field types in REDCap will fail."
   ]
  },
  {
   "cell_type": "markdown",
   "id": "33d8ad4d-262c-490c-aa6f-d0937e6b1183",
   "metadata": {},
   "source": [
    "### Issues introduced by `pd.read_csv`"
   ]
  },
  {
   "cell_type": "code",
   "execution_count": 6,
   "id": "3471ea0f-a42c-49a3-b8da-6cc3b5d092e2",
   "metadata": {
    "tags": []
   },
   "outputs": [
    {
     "data": {
      "text/html": [
       "<div>\n",
       "<style scoped>\n",
       "    .dataframe tbody tr th:only-of-type {\n",
       "        vertical-align: middle;\n",
       "    }\n",
       "\n",
       "    .dataframe tbody tr th {\n",
       "        vertical-align: top;\n",
       "    }\n",
       "\n",
       "    .dataframe thead th {\n",
       "        text-align: right;\n",
       "    }\n",
       "</style>\n",
       "<table border=\"1\" class=\"dataframe\">\n",
       "  <thead>\n",
       "    <tr style=\"text-align: right;\">\n",
       "      <th></th>\n",
       "      <th>record_id</th>\n",
       "      <th>redcap_event_name</th>\n",
       "      <th>redcap_repeat_instrument</th>\n",
       "      <th>redcap_repeat_instance</th>\n",
       "      <th>redcap_survey_identifier</th>\n",
       "      <th>demographics_timestamp</th>\n",
       "      <th>first_name</th>\n",
       "      <th>last_name</th>\n",
       "      <th>phone_num</th>\n",
       "      <th>zip_code</th>\n",
       "      <th>...</th>\n",
       "      <th>cc_phone</th>\n",
       "      <th>cc_email</th>\n",
       "      <th>close_contacts_complete</th>\n",
       "      <th>supervisor_name</th>\n",
       "      <th>supervisor_email</th>\n",
       "      <th>work_inperson_yesno</th>\n",
       "      <th>work_date</th>\n",
       "      <th>work_contagious</th>\n",
       "      <th>work_contagious_calc</th>\n",
       "      <th>work_information_complete</th>\n",
       "    </tr>\n",
       "  </thead>\n",
       "  <tbody>\n",
       "    <tr>\n",
       "      <th>0</th>\n",
       "      <td>3</td>\n",
       "      <td>personal_info_arm_1</td>\n",
       "      <td>NaN</td>\n",
       "      <td>NaN</td>\n",
       "      <td>NaN</td>\n",
       "      <td>NaN</td>\n",
       "      <td>John</td>\n",
       "      <td>Doe</td>\n",
       "      <td>(999) 999-9999</td>\n",
       "      <td>98105.0</td>\n",
       "      <td>...</td>\n",
       "      <td>NaN</td>\n",
       "      <td>NaN</td>\n",
       "      <td>NaN</td>\n",
       "      <td>NaN</td>\n",
       "      <td>NaN</td>\n",
       "      <td>NaN</td>\n",
       "      <td>NaN</td>\n",
       "      <td>NaN</td>\n",
       "      <td>NaN</td>\n",
       "      <td>NaN</td>\n",
       "    </tr>\n",
       "    <tr>\n",
       "      <th>1</th>\n",
       "      <td>3</td>\n",
       "      <td>notifications_arm_1</td>\n",
       "      <td>NaN</td>\n",
       "      <td>NaN</td>\n",
       "      <td>NaN</td>\n",
       "      <td>NaN</td>\n",
       "      <td>NaN</td>\n",
       "      <td>NaN</td>\n",
       "      <td>NaN</td>\n",
       "      <td>NaN</td>\n",
       "      <td>...</td>\n",
       "      <td>NaN</td>\n",
       "      <td>NaN</td>\n",
       "      <td>NaN</td>\n",
       "      <td>Boss</td>\n",
       "      <td>NaN</td>\n",
       "      <td>0.0</td>\n",
       "      <td>NaN</td>\n",
       "      <td>0.0</td>\n",
       "      <td>NaN</td>\n",
       "      <td>2.0</td>\n",
       "    </tr>\n",
       "    <tr>\n",
       "      <th>2</th>\n",
       "      <td>3</td>\n",
       "      <td>case_intake_arm_1</td>\n",
       "      <td>NaN</td>\n",
       "      <td>1.0</td>\n",
       "      <td>NaN</td>\n",
       "      <td>NaN</td>\n",
       "      <td>NaN</td>\n",
       "      <td>NaN</td>\n",
       "      <td>NaN</td>\n",
       "      <td>NaN</td>\n",
       "      <td>...</td>\n",
       "      <td>NaN</td>\n",
       "      <td>NaN</td>\n",
       "      <td>NaN</td>\n",
       "      <td>NaN</td>\n",
       "      <td>NaN</td>\n",
       "      <td>NaN</td>\n",
       "      <td>NaN</td>\n",
       "      <td>NaN</td>\n",
       "      <td>NaN</td>\n",
       "      <td>NaN</td>\n",
       "    </tr>\n",
       "    <tr>\n",
       "      <th>3</th>\n",
       "      <td>3</td>\n",
       "      <td>notifications_arm_1</td>\n",
       "      <td>close_contacts</td>\n",
       "      <td>1.0</td>\n",
       "      <td>NaN</td>\n",
       "      <td>NaN</td>\n",
       "      <td>NaN</td>\n",
       "      <td>NaN</td>\n",
       "      <td>NaN</td>\n",
       "      <td>NaN</td>\n",
       "      <td>...</td>\n",
       "      <td>(999) 999-9999</td>\n",
       "      <td>fake_email@gmail.com</td>\n",
       "      <td>2.0</td>\n",
       "      <td>NaN</td>\n",
       "      <td>NaN</td>\n",
       "      <td>NaN</td>\n",
       "      <td>NaN</td>\n",
       "      <td>NaN</td>\n",
       "      <td>NaN</td>\n",
       "      <td>NaN</td>\n",
       "    </tr>\n",
       "    <tr>\n",
       "      <th>4</th>\n",
       "      <td>3</td>\n",
       "      <td>notifications_arm_1</td>\n",
       "      <td>close_contacts</td>\n",
       "      <td>2.0</td>\n",
       "      <td>NaN</td>\n",
       "      <td>NaN</td>\n",
       "      <td>NaN</td>\n",
       "      <td>NaN</td>\n",
       "      <td>NaN</td>\n",
       "      <td>NaN</td>\n",
       "      <td>...</td>\n",
       "      <td>(999) 999-9999</td>\n",
       "      <td>fake_email@gmail.com</td>\n",
       "      <td>2.0</td>\n",
       "      <td>NaN</td>\n",
       "      <td>NaN</td>\n",
       "      <td>NaN</td>\n",
       "      <td>NaN</td>\n",
       "      <td>NaN</td>\n",
       "      <td>NaN</td>\n",
       "      <td>NaN</td>\n",
       "    </tr>\n",
       "  </tbody>\n",
       "</table>\n",
       "<p>5 rows × 50 columns</p>\n",
       "</div>"
      ],
      "text/plain": [
       "   record_id    redcap_event_name redcap_repeat_instrument  \\\n",
       "0          3  personal_info_arm_1                      NaN   \n",
       "1          3  notifications_arm_1                      NaN   \n",
       "2          3    case_intake_arm_1                      NaN   \n",
       "3          3  notifications_arm_1           close_contacts   \n",
       "4          3  notifications_arm_1           close_contacts   \n",
       "\n",
       "   redcap_repeat_instance  redcap_survey_identifier  demographics_timestamp  \\\n",
       "0                     NaN                       NaN                     NaN   \n",
       "1                     NaN                       NaN                     NaN   \n",
       "2                     1.0                       NaN                     NaN   \n",
       "3                     1.0                       NaN                     NaN   \n",
       "4                     2.0                       NaN                     NaN   \n",
       "\n",
       "  first_name last_name       phone_num  zip_code  ...        cc_phone  \\\n",
       "0       John       Doe  (999) 999-9999   98105.0  ...             NaN   \n",
       "1        NaN       NaN             NaN       NaN  ...             NaN   \n",
       "2        NaN       NaN             NaN       NaN  ...             NaN   \n",
       "3        NaN       NaN             NaN       NaN  ...  (999) 999-9999   \n",
       "4        NaN       NaN             NaN       NaN  ...  (999) 999-9999   \n",
       "\n",
       "               cc_email  close_contacts_complete  supervisor_name  \\\n",
       "0                   NaN                      NaN              NaN   \n",
       "1                   NaN                      NaN             Boss   \n",
       "2                   NaN                      NaN              NaN   \n",
       "3  fake_email@gmail.com                      2.0              NaN   \n",
       "4  fake_email@gmail.com                      2.0              NaN   \n",
       "\n",
       "   supervisor_email  work_inperson_yesno  work_date work_contagious  \\\n",
       "0               NaN                  NaN        NaN             NaN   \n",
       "1               NaN                  0.0        NaN             0.0   \n",
       "2               NaN                  NaN        NaN             NaN   \n",
       "3               NaN                  NaN        NaN             NaN   \n",
       "4               NaN                  NaN        NaN             NaN   \n",
       "\n",
       "   work_contagious_calc  work_information_complete  \n",
       "0                   NaN                        NaN  \n",
       "1                   NaN                        2.0  \n",
       "2                   NaN                        NaN  \n",
       "3                   NaN                        NaN  \n",
       "4                   NaN                        NaN  \n",
       "\n",
       "[5 rows x 50 columns]"
      ]
     },
     "execution_count": 6,
     "metadata": {},
     "output_type": "execute_result"
    }
   ],
   "source": [
    "# Read and view data to import\n",
    "df_to_import = pd.read_csv(\"../files/data_to_import.csv\")\n",
    "df_to_import.head()"
   ]
  },
  {
   "cell_type": "markdown",
   "id": "f3123fe0-3def-4f73-82f1-ad6a92279209",
   "metadata": {
    "tags": []
   },
   "source": [
    "See how the redcap_repeat_instance, close_contacts_complete, and work_inperson_yesno are some of the many fields that were converted to float with an added decimal. If I try to import this dataset it will produce many errors."
   ]
  },
  {
   "cell_type": "code",
   "execution_count": 7,
   "id": "e1ad6fed-a94f-4267-a9f1-ebb4206b529e",
   "metadata": {
    "tags": []
   },
   "outputs": [
    {
     "ename": "RequestException",
     "evalue": "{'error': '\"97\",\"zip_code\",\"98105.0\",\"The value you provided could not be validated because it does not follow the expected format. Please try again.\"\\n\"97\",\"ethnicity\",\"1.0\",\"The value is not a valid category for ethnicity\"\\n\"97\",\"race\",\"4.0\",\"The value is not a valid category for race\"\\n\"97\",\"gender\",\"1.0\",\"The value is not a valid category for gender\"\\n\"97\",\"demographics_complete\",\"2.0\",\"The value is not a valid category for demographics_complete\"\\n\"97\",\"work_inperson_yesno\",\"0.0\",\"The value is not a valid category for work_inperson_yesno\"\\n\"97\",\"work_contagious\",\"0.0\",\"The value is not a valid category for work_contagious\"\\n\"97\",\"work_information_complete\",\"2.0\",\"The value is not a valid category for work_information_complete\"\\n\"97\",\"redcap_repeat_instance\",\"1.0\",\"(redcap_event_name=\"\"case_intake_arm_1\"\") redcap_repeat_instance must have a numeric value between \\'1\\' and \\'32767\\' for any Repeating Event or Repeating Instrument.  Please add a valid numeric value to redcap_repeat_instance in the data import file and try again.\"\\n\"97\",\"symptoms_yesno\",\"1.0\",\"The value is not a valid category for symptoms_yesno\"\\n\"97\",\"symptoms_exp___1\",\"1.0\",\"symptoms_exp___1 is a checkbox field and thus can only have a value of \\'1\\' (checked) or \\'0\\' (unchecked).\"\\n\"97\",\"symptoms_exp___2\",\"1.0\",\"symptoms_exp___2 is a checkbox field and thus can only have a value of \\'1\\' (checked) or \\'0\\' (unchecked).\"\\n\"97\",\"symptoms_exp___3\",\"0.0\",\"symptoms_exp___3 is a checkbox field and thus can only have a value of \\'1\\' (checked) or \\'0\\' (unchecked).\"\\n\"97\",\"symptoms_exp___4\",\"0.0\",\"symptoms_exp___4 is a checkbox field and thus can only have a value of \\'1\\' (checked) or \\'0\\' (unchecked).\"\\n\"97\",\"symptoms_exp___5\",\"0.0\",\"symptoms_exp___5 is a checkbox field and thus can only have a value of \\'1\\' (checked) or \\'0\\' (unchecked).\"\\n\"97\",\"symptoms_exp___6\",\"0.0\",\"symptoms_exp___6 is a checkbox field and thus can only have a value of \\'1\\' (checked) or \\'0\\' (unchecked).\"\\n\"97\",\"symptoms_exp___7\",\"1.0\",\"symptoms_exp___7 is a checkbox field and thus can only have a value of \\'1\\' (checked) or \\'0\\' (unchecked).\"\\n\"97\",\"symptoms_exp___8\",\"0.0\",\"symptoms_exp___8 is a checkbox field and thus can only have a value of \\'1\\' (checked) or \\'0\\' (unchecked).\"\\n\"97\",\"symptoms_exp___9\",\"0.0\",\"symptoms_exp___9 is a checkbox field and thus can only have a value of \\'1\\' (checked) or \\'0\\' (unchecked).\"\\n\"97\",\"symptoms_exp___10\",\"0.0\",\"symptoms_exp___10 is a checkbox field and thus can only have a value of \\'1\\' (checked) or \\'0\\' (unchecked).\"\\n\"97\",\"symptoms_exp___11\",\"0.0\",\"symptoms_exp___11 is a checkbox field and thus can only have a value of \\'1\\' (checked) or \\'0\\' (unchecked).\"\\n\"97\",\"symptoms_complete\",\"2.0\",\"The value is not a valid category for symptoms_complete\"\\n\"97\",\"test_yesno\",\"1.0\",\"The value is not a valid category for test_yesno\"\\n\"97\",\"test_positive_yesno\",\"1.0\",\"The value is not a valid category for test_positive_yesno\"\\n\"97\",\"prior_covid_yesno\",\"0.0\",\"The value is not a valid category for prior_covid_yesno\"\\n\"97\",\"test_information_complete\",\"2.0\",\"The value is not a valid category for test_information_complete\"\\n\"97\",\"redcap_repeat_instance\",\"1.0\",\"(redcap_event_name=\"\"notifications_arm_1\"\") redcap_repeat_instance must have a numeric value between \\'1\\' and \\'32767\\' for any Repeating Event or Repeating Instrument.  Please add a valid numeric value to redcap_repeat_instance in the data import file and try again.\"\\n\"97\",\"close_contacts_complete\",\"2.0\",\"The value is not a valid category for close_contacts_complete\"\\n\"97\",\"redcap_repeat_instance\",\"2.0\",\"(redcap_event_name=\"\"notifications_arm_1\"\") redcap_repeat_instance must have a numeric value between \\'1\\' and \\'32767\\' for any Repeating Event or Repeating Instrument.  Please add a valid numeric value to redcap_repeat_instance in the data import file and try again.\"\\n\"97\",\"close_contacts_complete\",\"2.0\",\"The value is not a valid category for close_contacts_complete\"\\n\"98\",\"zip_code\",\"98105.0\",\"The value you provided could not be validated because it does not follow the expected format. Please try again.\"\\n\"98\",\"ethnicity\",\"0.0\",\"The value is not a valid category for ethnicity\"\\n\"98\",\"race\",\"5.0\",\"The value is not a valid category for race\"\\n\"98\",\"gender\",\"0.0\",\"The value is not a valid category for gender\"\\n\"98\",\"demographics_complete\",\"2.0\",\"The value is not a valid category for demographics_complete\"\\n\"98\",\"work_inperson_yesno\",\"1.0\",\"The value is not a valid category for work_inperson_yesno\"\\n\"98\",\"work_contagious\",\"1.0\",\"The value is not a valid category for work_contagious\"\\n\"98\",\"work_information_complete\",\"2.0\",\"The value is not a valid category for work_information_complete\"\\n\"98\",\"redcap_repeat_instance\",\"1.0\",\"(redcap_event_name=\"\"case_intake_arm_1\"\") redcap_repeat_instance must have a numeric value between \\'1\\' and \\'32767\\' for any Repeating Event or Repeating Instrument.  Please add a valid numeric value to redcap_repeat_instance in the data import file and try again.\"\\n\"98\",\"symptoms_yesno\",\"1.0\",\"The value is not a valid category for symptoms_yesno\"\\n\"98\",\"symptoms_exp___1\",\"1.0\",\"symptoms_exp___1 is a checkbox field and thus can only have a value of \\'1\\' (checked) or \\'0\\' (unchecked).\"\\n\"98\",\"symptoms_exp___2\",\"1.0\",\"symptoms_exp___2 is a checkbox field and thus can only have a value of \\'1\\' (checked) or \\'0\\' (unchecked).\"\\n\"98\",\"symptoms_exp___3\",\"0.0\",\"symptoms_exp___3 is a checkbox field and thus can only have a value of \\'1\\' (checked) or \\'0\\' (unchecked).\"\\n\"98\",\"symptoms_exp___4\",\"0.0\",\"symptoms_exp___4 is a checkbox field and thus can only have a value of \\'1\\' (checked) or \\'0\\' (unchecked).\"\\n\"98\",\"symptoms_exp___5\",\"0.0\",\"symptoms_exp___5 is a checkbox field and thus can only have a value of \\'1\\' (checked) or \\'0\\' (unchecked).\"\\n\"98\",\"symptoms_exp___6\",\"0.0\",\"symptoms_exp___6 is a checkbox field and thus can only have a value of \\'1\\' (checked) or \\'0\\' (unchecked).\"\\n\"98\",\"symptoms_exp___7\",\"0.0\",\"symptoms_exp___7 is a checkbox field and thus can only have a value of \\'1\\' (checked) or \\'0\\' (unchecked).\"\\n\"98\",\"symptoms_exp___8\",\"1.0\",\"symptoms_exp___8 is a checkbox field and thus can only have a value of \\'1\\' (checked) or \\'0\\' (unchecked).\"\\n\"98\",\"symptoms_exp___9\",\"0.0\",\"symptoms_exp___9 is a checkbox field and thus can only have a value of \\'1\\' (checked) or \\'0\\' (unchecked).\"\\n\"98\",\"symptoms_exp___10\",\"0.0\",\"symptoms_exp___10 is a checkbox field and thus can only have a value of \\'1\\' (checked) or \\'0\\' (unchecked).\"\\n\"98\",\"symptoms_exp___11\",\"0.0\",\"symptoms_exp___11 is a checkbox field and thus can only have a value of \\'1\\' (checked) or \\'0\\' (unchecked).\"\\n\"98\",\"symptoms_complete\",\"2.0\",\"The value is not a valid category for symptoms_complete\"\\n\"98\",\"test_yesno\",\"1.0\",\"The value is not a valid category for test_yesno\"\\n\"98\",\"test_positive_yesno\",\"1.0\",\"The value is not a valid category for test_positive_yesno\"\\n\"98\",\"prior_covid_yesno\",\"1.0\",\"The value is not a valid category for prior_covid_yesno\"\\n\"98\",\"test_information_complete\",\"2.0\",\"The value is not a valid category for test_information_complete\"\\n\"98\",\"redcap_repeat_instance\",\"2.0\",\"(redcap_event_name=\"\"case_intake_arm_1\"\") redcap_repeat_instance must have a numeric value between \\'1\\' and \\'32767\\' for any Repeating Event or Repeating Instrument.  Please add a valid numeric value to redcap_repeat_instance in the data import file and try again.\"\\n\"98\",\"symptoms_yesno\",\"1.0\",\"The value is not a valid category for symptoms_yesno\"\\n\"98\",\"symptoms_exp___1\",\"1.0\",\"symptoms_exp___1 is a checkbox field and thus can only have a value of \\'1\\' (checked) or \\'0\\' (unchecked).\"\\n\"98\",\"symptoms_exp___2\",\"1.0\",\"symptoms_exp___2 is a checkbox field and thus can only have a value of \\'1\\' (checked) or \\'0\\' (unchecked).\"\\n\"98\",\"symptoms_exp___3\",\"1.0\",\"symptoms_exp___3 is a checkbox field and thus can only have a value of \\'1\\' (checked) or \\'0\\' (unchecked).\"\\n\"98\",\"symptoms_exp___4\",\"1.0\",\"symptoms_exp___4 is a checkbox field and thus can only have a value of \\'1\\' (checked) or \\'0\\' (unchecked).\"\\n\"98\",\"symptoms_exp___5\",\"1.0\",\"symptoms_exp___5 is a checkbox field and thus can only have a value of \\'1\\' (checked) or \\'0\\' (unchecked).\"\\n\"98\",\"symptoms_exp___6\",\"0.0\",\"symptoms_exp___6 is a checkbox field and thus can only have a value of \\'1\\' (checked) or \\'0\\' (unchecked).\"\\n\"98\",\"symptoms_exp___7\",\"1.0\",\"symptoms_exp___7 is a checkbox field and thus can only have a value of \\'1\\' (checked) or \\'0\\' (unchecked).\"\\n\"98\",\"symptoms_exp___8\",\"1.0\",\"symptoms_exp___8 is a checkbox field and thus can only have a value of \\'1\\' (checked) or \\'0\\' (unchecked).\"\\n\"98\",\"symptoms_exp___9\",\"1.0\",\"symptoms_exp___9 is a checkbox field and thus can only have a value of \\'1\\' (checked) or \\'0\\' (unchecked).\"\\n\"98\",\"symptoms_exp___10\",\"0.0\",\"symptoms_exp___10 is a checkbox field and thus can only have a value of \\'1\\' (checked) or \\'0\\' (unchecked).\"\\n\"98\",\"symptoms_exp___11\",\"0.0\",\"symptoms_exp___11 is a checkbox field and thus can only have a value of \\'1\\' (checked) or \\'0\\' (unchecked).\"\\n\"98\",\"symptoms_complete\",\"2.0\",\"The value is not a valid category for symptoms_complete\"\\n\"98\",\"test_yesno\",\"1.0\",\"The value is not a valid category for test_yesno\"\\n\"98\",\"test_positive_yesno\",\"1.0\",\"The value is not a valid category for test_positive_yesno\"\\n\"98\",\"prior_covid_yesno\",\"0.0\",\"The value is not a valid category for prior_covid_yesno\"\\n\"98\",\"test_information_complete\",\"2.0\",\"The value is not a valid category for test_information_complete\"\\n\"98\",\"redcap_repeat_instance\",\"1.0\",\"(redcap_event_name=\"\"notifications_arm_1\"\") redcap_repeat_instance must have a numeric value between \\'1\\' and \\'32767\\' for any Repeating Event or Repeating Instrument.  Please add a valid numeric value to redcap_repeat_instance in the data import file and try again.\"\\n\"98\",\"close_contacts_complete\",\"2.0\",\"The value is not a valid category for close_contacts_complete\"\\n\"98\",\"redcap_repeat_instance\",\"2.0\",\"(redcap_event_name=\"\"notifications_arm_1\"\") redcap_repeat_instance must have a numeric value between \\'1\\' and \\'32767\\' for any Repeating Event or Repeating Instrument.  Please add a valid numeric value to redcap_repeat_instance in the data import file and try again.\"\\n\"98\",\"close_contacts_complete\",\"0.0\",\"The value is not a valid category for close_contacts_complete\"\\n\"99\",\"zip_code\",\"98104.0\",\"The value you provided could not be validated because it does not follow the expected format. Please try again.\"\\n\"99\",\"ethnicity\",\"2.0\",\"The value is not a valid category for ethnicity\"\\n\"99\",\"race\",\"3.0\",\"The value is not a valid category for race\"\\n\"99\",\"gender\",\"1.0\",\"The value is not a valid category for gender\"\\n\"99\",\"demographics_complete\",\"2.0\",\"The value is not a valid category for demographics_complete\"\\n\"99\",\"work_inperson_yesno\",\"0.0\",\"The value is not a valid category for work_inperson_yesno\"\\n\"99\",\"work_contagious\",\"0.0\",\"The value is not a valid category for work_contagious\"\\n\"99\",\"work_information_complete\",\"0.0\",\"The value is not a valid category for work_information_complete\"\\n\"99\",\"redcap_repeat_instance\",\"1.0\",\"(redcap_event_name=\"\"case_intake_arm_1\"\") redcap_repeat_instance must have a numeric value between \\'1\\' and \\'32767\\' for any Repeating Event or Repeating Instrument.  Please add a valid numeric value to redcap_repeat_instance in the data import file and try again.\"\\n\"99\",\"symptoms_yesno\",\"1.0\",\"The value is not a valid category for symptoms_yesno\"\\n\"99\",\"symptoms_exp___1\",\"1.0\",\"symptoms_exp___1 is a checkbox field and thus can only have a value of \\'1\\' (checked) or \\'0\\' (unchecked).\"\\n\"99\",\"symptoms_exp___2\",\"0.0\",\"symptoms_exp___2 is a checkbox field and thus can only have a value of \\'1\\' (checked) or \\'0\\' (unchecked).\"\\n\"99\",\"symptoms_exp___3\",\"0.0\",\"symptoms_exp___3 is a checkbox field and thus can only have a value of \\'1\\' (checked) or \\'0\\' (unchecked).\"\\n\"99\",\"symptoms_exp___4\",\"0.0\",\"symptoms_exp___4 is a checkbox field and thus can only have a value of \\'1\\' (checked) or \\'0\\' (unchecked).\"\\n\"99\",\"symptoms_exp___5\",\"0.0\",\"symptoms_exp___5 is a checkbox field and thus can only have a value of \\'1\\' (checked) or \\'0\\' (unchecked).\"\\n\"99\",\"symptoms_exp___6\",\"0.0\",\"symptoms_exp___6 is a checkbox field and thus can only have a value of \\'1\\' (checked) or \\'0\\' (unchecked).\"\\n\"99\",\"symptoms_exp___7\",\"0.0\",\"symptoms_exp___7 is a checkbox field and thus can only have a value of \\'1\\' (checked) or \\'0\\' (unchecked).\"\\n\"99\",\"symptoms_exp___8\",\"0.0\",\"symptoms_exp___8 is a checkbox field and thus can only have a value of \\'1\\' (checked) or \\'0\\' (unchecked).\"\\n\"99\",\"symptoms_exp___9\",\"0.0\",\"symptoms_exp___9 is a checkbox field and thus can only have a value of \\'1\\' (checked) or \\'0\\' (unchecked).\"\\n\"99\",\"symptoms_exp___10\",\"0.0\",\"symptoms_exp___10 is a checkbox field and thus can only have a value of \\'1\\' (checked) or \\'0\\' (unchecked).\"\\n\"99\",\"symptoms_exp___11\",\"0.0\",\"symptoms_exp___11 is a checkbox field and thus can only have a value of \\'1\\' (checked) or \\'0\\' (unchecked).\"\\n\"99\",\"symptoms_complete\",\"2.0\",\"The value is not a valid category for symptoms_complete\"\\n\"99\",\"test_yesno\",\"0.0\",\"The value is not a valid category for test_yesno\"\\n\"99\",\"prior_covid_yesno\",\"0.0\",\"The value is not a valid category for prior_covid_yesno\"\\n\"99\",\"test_information_complete\",\"2.0\",\"The value is not a valid category for test_information_complete\"\\n\"99\",\"redcap_repeat_instance\",\"1.0\",\"(redcap_event_name=\"\"notifications_arm_1\"\") redcap_repeat_instance must have a numeric value between \\'1\\' and \\'32767\\' for any Repeating Event or Repeating Instrument.  Please add a valid numeric value to redcap_repeat_instance in the data import file and try again.\"\\n\"99\",\"close_contacts_complete\",\"2.0\",\"The value is not a valid category for close_contacts_complete\"\\n\"100\",\"zip_code\",\"98107.0\",\"The value you provided could not be validated because it does not follow the expected format. Please try again.\"\\n\"100\",\"ethnicity\",\"0.0\",\"The value is not a valid category for ethnicity\"\\n\"100\",\"race\",\"5.0\",\"The value is not a valid category for race\"\\n\"100\",\"gender\",\"0.0\",\"The value is not a valid category for gender\"\\n\"100\",\"demographics_complete\",\"2.0\",\"The value is not a valid category for demographics_complete\"\\n\"100\",\"work_inperson_yesno\",\"0.0\",\"The value is not a valid category for work_inperson_yesno\"\\n\"100\",\"work_contagious\",\"0.0\",\"The value is not a valid category for work_contagious\"\\n\"100\",\"work_information_complete\",\"2.0\",\"The value is not a valid category for work_information_complete\"\\n\"100\",\"redcap_repeat_instance\",\"1.0\",\"(redcap_event_name=\"\"case_intake_arm_1\"\") redcap_repeat_instance must have a numeric value between \\'1\\' and \\'32767\\' for any Repeating Event or Repeating Instrument.  Please add a valid numeric value to redcap_repeat_instance in the data import file and try again.\"\\n\"100\",\"symptoms_yesno\",\"1.0\",\"The value is not a valid category for symptoms_yesno\"\\n\"100\",\"symptoms_exp___1\",\"0.0\",\"symptoms_exp___1 is a checkbox field and thus can only have a value of \\'1\\' (checked) or \\'0\\' (unchecked).\"\\n\"100\",\"symptoms_exp___2\",\"0.0\",\"symptoms_exp___2 is a checkbox field and thus can only have a value of \\'1\\' (checked) or \\'0\\' (unchecked).\"\\n\"100\",\"symptoms_exp___3\",\"0.0\",\"symptoms_exp___3 is a checkbox field and thus can only have a value of \\'1\\' (checked) or \\'0\\' (unchecked).\"\\n\"100\",\"symptoms_exp___4\",\"0.0\",\"symptoms_exp___4 is a checkbox field and thus can only have a value of \\'1\\' (checked) or \\'0\\' (unchecked).\"\\n\"100\",\"symptoms_exp___5\",\"0.0\",\"symptoms_exp___5 is a checkbox field and thus can only have a value of \\'1\\' (checked) or \\'0\\' (unchecked).\"\\n\"100\",\"symptoms_exp___6\",\"1.0\",\"symptoms_exp___6 is a checkbox field and thus can only have a value of \\'1\\' (checked) or \\'0\\' (unchecked).\"\\n\"100\",\"symptoms_exp___7\",\"1.0\",\"symptoms_exp___7 is a checkbox field and thus can only have a value of \\'1\\' (checked) or \\'0\\' (unchecked).\"\\n\"100\",\"symptoms_exp___8\",\"1.0\",\"symptoms_exp___8 is a checkbox field and thus can only have a value of \\'1\\' (checked) or \\'0\\' (unchecked).\"\\n\"100\",\"symptoms_exp___9\",\"1.0\",\"symptoms_exp___9 is a checkbox field and thus can only have a value of \\'1\\' (checked) or \\'0\\' (unchecked).\"\\n\"100\",\"symptoms_exp___10\",\"0.0\",\"symptoms_exp___10 is a checkbox field and thus can only have a value of \\'1\\' (checked) or \\'0\\' (unchecked).\"\\n\"100\",\"symptoms_exp___11\",\"0.0\",\"symptoms_exp___11 is a checkbox field and thus can only have a value of \\'1\\' (checked) or \\'0\\' (unchecked).\"\\n\"100\",\"symptoms_complete\",\"2.0\",\"The value is not a valid category for symptoms_complete\"\\n\"100\",\"test_yesno\",\"1.0\",\"The value is not a valid category for test_yesno\"\\n\"100\",\"test_positive_yesno\",\"1.0\",\"The value is not a valid category for test_positive_yesno\"\\n\"100\",\"prior_covid_yesno\",\"0.0\",\"The value is not a valid category for prior_covid_yesno\"\\n\"100\",\"test_information_complete\",\"2.0\",\"The value is not a valid category for test_information_complete\"\\n\"100\",\"redcap_repeat_instance\",\"1.0\",\"(redcap_event_name=\"\"notifications_arm_1\"\") redcap_repeat_instance must have a numeric value between \\'1\\' and \\'32767\\' for any Repeating Event or Repeating Instrument.  Please add a valid numeric value to redcap_repeat_instance in the data import file and try again.\"\\n\"100\",\"close_contacts_complete\",\"2.0\",\"The value is not a valid category for close_contacts_complete\"\\n\"100\",\"redcap_repeat_instance\",\"2.0\",\"(redcap_event_name=\"\"notifications_arm_1\"\") redcap_repeat_instance must have a numeric value between \\'1\\' and \\'32767\\' for any Repeating Event or Repeating Instrument.  Please add a valid numeric value to redcap_repeat_instance in the data import file and try again.\"\\n\"100\",\"close_contacts_complete\",\"2.0\",\"The value is not a valid category for close_contacts_complete\"'}",
     "output_type": "error",
     "traceback": [
      "\u001b[1;31m---------------------------------------------------------------------------\u001b[0m",
      "\u001b[1;31mRequestException\u001b[0m                          Traceback (most recent call last)",
      "Cell \u001b[1;32mIn[7], line 2\u001b[0m\n\u001b[0;32m      1\u001b[0m \u001b[38;5;66;03m# specify `import_format` = df for a pandas data frame\u001b[39;00m\n\u001b[1;32m----> 2\u001b[0m \u001b[43mproject\u001b[49m\u001b[38;5;241;43m.\u001b[39;49m\u001b[43mimport_records\u001b[49m\u001b[43m(\u001b[49m\u001b[43mdf_to_import\u001b[49m\u001b[43m,\u001b[49m\u001b[43m \u001b[49m\u001b[43mimport_format\u001b[49m\u001b[43m \u001b[49m\u001b[38;5;241;43m=\u001b[39;49m\u001b[43m \u001b[49m\u001b[38;5;124;43m'\u001b[39;49m\u001b[38;5;124;43mdf\u001b[39;49m\u001b[38;5;124;43m'\u001b[39;49m\u001b[43m,\u001b[49m\u001b[43m \u001b[49m\u001b[43mforce_auto_number\u001b[49m\u001b[38;5;241;43m=\u001b[39;49m\u001b[38;5;28;43;01mTrue\u001b[39;49;00m\u001b[43m,\u001b[49m\u001b[43m \u001b[49m\u001b[43mdate_format\u001b[49m\u001b[43m \u001b[49m\u001b[38;5;241;43m=\u001b[39;49m\u001b[43m \u001b[49m\u001b[38;5;124;43m'\u001b[39;49m\u001b[38;5;124;43mMDY\u001b[39;49m\u001b[38;5;124;43m'\u001b[39;49m\u001b[43m)\u001b[49m\n",
      "File \u001b[1;32m~\\Miniconda3\\envs\\transform22\\lib\\site-packages\\redcap\\methods\\records.py:325\u001b[0m, in \u001b[0;36mRecords.import_records\u001b[1;34m(self, to_import, return_format_type, return_content, overwrite, import_format, date_format, force_auto_number)\u001b[0m\n\u001b[0;32m    318\u001b[0m payload[\u001b[38;5;124m\"\u001b[39m\u001b[38;5;124mforceAutoNumber\u001b[39m\u001b[38;5;124m\"\u001b[39m] \u001b[38;5;241m=\u001b[39m force_auto_number\n\u001b[0;32m    320\u001b[0m return_type \u001b[38;5;241m=\u001b[39m \u001b[38;5;28mself\u001b[39m\u001b[38;5;241m.\u001b[39m_lookup_return_type(\n\u001b[0;32m    321\u001b[0m     format_type\u001b[38;5;241m=\u001b[39mreturn_format_type,\n\u001b[0;32m    322\u001b[0m     request_type\u001b[38;5;241m=\u001b[39m\u001b[38;5;124m\"\u001b[39m\u001b[38;5;124mimport\u001b[39m\u001b[38;5;124m\"\u001b[39m,\n\u001b[0;32m    323\u001b[0m     import_records_format\u001b[38;5;241m=\u001b[39mreturn_content,\n\u001b[0;32m    324\u001b[0m )\n\u001b[1;32m--> 325\u001b[0m response \u001b[38;5;241m=\u001b[39m cast(Union[Json, \u001b[38;5;28mstr\u001b[39m], \u001b[38;5;28;43mself\u001b[39;49m\u001b[38;5;241;43m.\u001b[39;49m\u001b[43m_call_api\u001b[49m\u001b[43m(\u001b[49m\u001b[43mpayload\u001b[49m\u001b[43m,\u001b[49m\u001b[43m \u001b[49m\u001b[43mreturn_type\u001b[49m\u001b[43m)\u001b[49m)\n\u001b[0;32m    327\u001b[0m \u001b[38;5;28;01mreturn\u001b[39;00m response\n",
      "File \u001b[1;32m~\\Miniconda3\\envs\\transform22\\lib\\site-packages\\redcap\\methods\\base.py:437\u001b[0m, in \u001b[0;36mBase._call_api\u001b[1;34m(self, payload, return_type, file)\u001b[0m\n\u001b[0;32m    434\u001b[0m return_headers \u001b[38;5;241m=\u001b[39m return_type \u001b[38;5;241m==\u001b[39m \u001b[38;5;124m\"\u001b[39m\u001b[38;5;124mfile_map\u001b[39m\u001b[38;5;124m\"\u001b[39m\n\u001b[0;32m    436\u001b[0m rcr \u001b[38;5;241m=\u001b[39m _RCRequest(url\u001b[38;5;241m=\u001b[39m\u001b[38;5;28mself\u001b[39m\u001b[38;5;241m.\u001b[39murl, payload\u001b[38;5;241m=\u001b[39mpayload, config\u001b[38;5;241m=\u001b[39mconfig)\n\u001b[1;32m--> 437\u001b[0m \u001b[38;5;28;01mreturn\u001b[39;00m rcr\u001b[38;5;241m.\u001b[39mexecute(\n\u001b[0;32m    438\u001b[0m     verify_ssl\u001b[38;5;241m=\u001b[39m\u001b[38;5;28mself\u001b[39m\u001b[38;5;241m.\u001b[39mverify_ssl,\n\u001b[0;32m    439\u001b[0m     return_headers\u001b[38;5;241m=\u001b[39mreturn_headers,\n\u001b[0;32m    440\u001b[0m     file\u001b[38;5;241m=\u001b[39mfile,\n\u001b[0;32m    441\u001b[0m     \u001b[38;5;241m*\u001b[39m\u001b[38;5;241m*\u001b[39m\u001b[38;5;28mself\u001b[39m\u001b[38;5;241m.\u001b[39m_request_kwargs,\n\u001b[0;32m    442\u001b[0m )\n",
      "File \u001b[1;32m~\\Miniconda3\\envs\\transform22\\lib\\site-packages\\redcap\\request.py:209\u001b[0m, in \u001b[0;36m_RCRequest.execute\u001b[1;34m(self, verify_ssl, return_headers, file, **kwargs)\u001b[0m\n\u001b[0;32m    206\u001b[0m     bad_request \u001b[38;5;241m=\u001b[39m \u001b[38;5;124m\"\u001b[39m\u001b[38;5;124m<error>\u001b[39m\u001b[38;5;124m\"\u001b[39m \u001b[38;5;129;01min\u001b[39;00m \u001b[38;5;28mstr\u001b[39m(content)\u001b[38;5;241m.\u001b[39mlower()\n\u001b[0;32m    208\u001b[0m \u001b[38;5;28;01mif\u001b[39;00m bad_request:\n\u001b[1;32m--> 209\u001b[0m     \u001b[38;5;28;01mraise\u001b[39;00m RedcapError(content)\n\u001b[0;32m    211\u001b[0m \u001b[38;5;28;01mif\u001b[39;00m return_headers:\n\u001b[0;32m    212\u001b[0m     \u001b[38;5;28;01mreturn\u001b[39;00m content, response\u001b[38;5;241m.\u001b[39mheaders\n",
      "\u001b[1;31mRequestException\u001b[0m: {'error': '\"97\",\"zip_code\",\"98105.0\",\"The value you provided could not be validated because it does not follow the expected format. Please try again.\"\\n\"97\",\"ethnicity\",\"1.0\",\"The value is not a valid category for ethnicity\"\\n\"97\",\"race\",\"4.0\",\"The value is not a valid category for race\"\\n\"97\",\"gender\",\"1.0\",\"The value is not a valid category for gender\"\\n\"97\",\"demographics_complete\",\"2.0\",\"The value is not a valid category for demographics_complete\"\\n\"97\",\"work_inperson_yesno\",\"0.0\",\"The value is not a valid category for work_inperson_yesno\"\\n\"97\",\"work_contagious\",\"0.0\",\"The value is not a valid category for work_contagious\"\\n\"97\",\"work_information_complete\",\"2.0\",\"The value is not a valid category for work_information_complete\"\\n\"97\",\"redcap_repeat_instance\",\"1.0\",\"(redcap_event_name=\"\"case_intake_arm_1\"\") redcap_repeat_instance must have a numeric value between \\'1\\' and \\'32767\\' for any Repeating Event or Repeating Instrument.  Please add a valid numeric value to redcap_repeat_instance in the data import file and try again.\"\\n\"97\",\"symptoms_yesno\",\"1.0\",\"The value is not a valid category for symptoms_yesno\"\\n\"97\",\"symptoms_exp___1\",\"1.0\",\"symptoms_exp___1 is a checkbox field and thus can only have a value of \\'1\\' (checked) or \\'0\\' (unchecked).\"\\n\"97\",\"symptoms_exp___2\",\"1.0\",\"symptoms_exp___2 is a checkbox field and thus can only have a value of \\'1\\' (checked) or \\'0\\' (unchecked).\"\\n\"97\",\"symptoms_exp___3\",\"0.0\",\"symptoms_exp___3 is a checkbox field and thus can only have a value of \\'1\\' (checked) or \\'0\\' (unchecked).\"\\n\"97\",\"symptoms_exp___4\",\"0.0\",\"symptoms_exp___4 is a checkbox field and thus can only have a value of \\'1\\' (checked) or \\'0\\' (unchecked).\"\\n\"97\",\"symptoms_exp___5\",\"0.0\",\"symptoms_exp___5 is a checkbox field and thus can only have a value of \\'1\\' (checked) or \\'0\\' (unchecked).\"\\n\"97\",\"symptoms_exp___6\",\"0.0\",\"symptoms_exp___6 is a checkbox field and thus can only have a value of \\'1\\' (checked) or \\'0\\' (unchecked).\"\\n\"97\",\"symptoms_exp___7\",\"1.0\",\"symptoms_exp___7 is a checkbox field and thus can only have a value of \\'1\\' (checked) or \\'0\\' (unchecked).\"\\n\"97\",\"symptoms_exp___8\",\"0.0\",\"symptoms_exp___8 is a checkbox field and thus can only have a value of \\'1\\' (checked) or \\'0\\' (unchecked).\"\\n\"97\",\"symptoms_exp___9\",\"0.0\",\"symptoms_exp___9 is a checkbox field and thus can only have a value of \\'1\\' (checked) or \\'0\\' (unchecked).\"\\n\"97\",\"symptoms_exp___10\",\"0.0\",\"symptoms_exp___10 is a checkbox field and thus can only have a value of \\'1\\' (checked) or \\'0\\' (unchecked).\"\\n\"97\",\"symptoms_exp___11\",\"0.0\",\"symptoms_exp___11 is a checkbox field and thus can only have a value of \\'1\\' (checked) or \\'0\\' (unchecked).\"\\n\"97\",\"symptoms_complete\",\"2.0\",\"The value is not a valid category for symptoms_complete\"\\n\"97\",\"test_yesno\",\"1.0\",\"The value is not a valid category for test_yesno\"\\n\"97\",\"test_positive_yesno\",\"1.0\",\"The value is not a valid category for test_positive_yesno\"\\n\"97\",\"prior_covid_yesno\",\"0.0\",\"The value is not a valid category for prior_covid_yesno\"\\n\"97\",\"test_information_complete\",\"2.0\",\"The value is not a valid category for test_information_complete\"\\n\"97\",\"redcap_repeat_instance\",\"1.0\",\"(redcap_event_name=\"\"notifications_arm_1\"\") redcap_repeat_instance must have a numeric value between \\'1\\' and \\'32767\\' for any Repeating Event or Repeating Instrument.  Please add a valid numeric value to redcap_repeat_instance in the data import file and try again.\"\\n\"97\",\"close_contacts_complete\",\"2.0\",\"The value is not a valid category for close_contacts_complete\"\\n\"97\",\"redcap_repeat_instance\",\"2.0\",\"(redcap_event_name=\"\"notifications_arm_1\"\") redcap_repeat_instance must have a numeric value between \\'1\\' and \\'32767\\' for any Repeating Event or Repeating Instrument.  Please add a valid numeric value to redcap_repeat_instance in the data import file and try again.\"\\n\"97\",\"close_contacts_complete\",\"2.0\",\"The value is not a valid category for close_contacts_complete\"\\n\"98\",\"zip_code\",\"98105.0\",\"The value you provided could not be validated because it does not follow the expected format. Please try again.\"\\n\"98\",\"ethnicity\",\"0.0\",\"The value is not a valid category for ethnicity\"\\n\"98\",\"race\",\"5.0\",\"The value is not a valid category for race\"\\n\"98\",\"gender\",\"0.0\",\"The value is not a valid category for gender\"\\n\"98\",\"demographics_complete\",\"2.0\",\"The value is not a valid category for demographics_complete\"\\n\"98\",\"work_inperson_yesno\",\"1.0\",\"The value is not a valid category for work_inperson_yesno\"\\n\"98\",\"work_contagious\",\"1.0\",\"The value is not a valid category for work_contagious\"\\n\"98\",\"work_information_complete\",\"2.0\",\"The value is not a valid category for work_information_complete\"\\n\"98\",\"redcap_repeat_instance\",\"1.0\",\"(redcap_event_name=\"\"case_intake_arm_1\"\") redcap_repeat_instance must have a numeric value between \\'1\\' and \\'32767\\' for any Repeating Event or Repeating Instrument.  Please add a valid numeric value to redcap_repeat_instance in the data import file and try again.\"\\n\"98\",\"symptoms_yesno\",\"1.0\",\"The value is not a valid category for symptoms_yesno\"\\n\"98\",\"symptoms_exp___1\",\"1.0\",\"symptoms_exp___1 is a checkbox field and thus can only have a value of \\'1\\' (checked) or \\'0\\' (unchecked).\"\\n\"98\",\"symptoms_exp___2\",\"1.0\",\"symptoms_exp___2 is a checkbox field and thus can only have a value of \\'1\\' (checked) or \\'0\\' (unchecked).\"\\n\"98\",\"symptoms_exp___3\",\"0.0\",\"symptoms_exp___3 is a checkbox field and thus can only have a value of \\'1\\' (checked) or \\'0\\' (unchecked).\"\\n\"98\",\"symptoms_exp___4\",\"0.0\",\"symptoms_exp___4 is a checkbox field and thus can only have a value of \\'1\\' (checked) or \\'0\\' (unchecked).\"\\n\"98\",\"symptoms_exp___5\",\"0.0\",\"symptoms_exp___5 is a checkbox field and thus can only have a value of \\'1\\' (checked) or \\'0\\' (unchecked).\"\\n\"98\",\"symptoms_exp___6\",\"0.0\",\"symptoms_exp___6 is a checkbox field and thus can only have a value of \\'1\\' (checked) or \\'0\\' (unchecked).\"\\n\"98\",\"symptoms_exp___7\",\"0.0\",\"symptoms_exp___7 is a checkbox field and thus can only have a value of \\'1\\' (checked) or \\'0\\' (unchecked).\"\\n\"98\",\"symptoms_exp___8\",\"1.0\",\"symptoms_exp___8 is a checkbox field and thus can only have a value of \\'1\\' (checked) or \\'0\\' (unchecked).\"\\n\"98\",\"symptoms_exp___9\",\"0.0\",\"symptoms_exp___9 is a checkbox field and thus can only have a value of \\'1\\' (checked) or \\'0\\' (unchecked).\"\\n\"98\",\"symptoms_exp___10\",\"0.0\",\"symptoms_exp___10 is a checkbox field and thus can only have a value of \\'1\\' (checked) or \\'0\\' (unchecked).\"\\n\"98\",\"symptoms_exp___11\",\"0.0\",\"symptoms_exp___11 is a checkbox field and thus can only have a value of \\'1\\' (checked) or \\'0\\' (unchecked).\"\\n\"98\",\"symptoms_complete\",\"2.0\",\"The value is not a valid category for symptoms_complete\"\\n\"98\",\"test_yesno\",\"1.0\",\"The value is not a valid category for test_yesno\"\\n\"98\",\"test_positive_yesno\",\"1.0\",\"The value is not a valid category for test_positive_yesno\"\\n\"98\",\"prior_covid_yesno\",\"1.0\",\"The value is not a valid category for prior_covid_yesno\"\\n\"98\",\"test_information_complete\",\"2.0\",\"The value is not a valid category for test_information_complete\"\\n\"98\",\"redcap_repeat_instance\",\"2.0\",\"(redcap_event_name=\"\"case_intake_arm_1\"\") redcap_repeat_instance must have a numeric value between \\'1\\' and \\'32767\\' for any Repeating Event or Repeating Instrument.  Please add a valid numeric value to redcap_repeat_instance in the data import file and try again.\"\\n\"98\",\"symptoms_yesno\",\"1.0\",\"The value is not a valid category for symptoms_yesno\"\\n\"98\",\"symptoms_exp___1\",\"1.0\",\"symptoms_exp___1 is a checkbox field and thus can only have a value of \\'1\\' (checked) or \\'0\\' (unchecked).\"\\n\"98\",\"symptoms_exp___2\",\"1.0\",\"symptoms_exp___2 is a checkbox field and thus can only have a value of \\'1\\' (checked) or \\'0\\' (unchecked).\"\\n\"98\",\"symptoms_exp___3\",\"1.0\",\"symptoms_exp___3 is a checkbox field and thus can only have a value of \\'1\\' (checked) or \\'0\\' (unchecked).\"\\n\"98\",\"symptoms_exp___4\",\"1.0\",\"symptoms_exp___4 is a checkbox field and thus can only have a value of \\'1\\' (checked) or \\'0\\' (unchecked).\"\\n\"98\",\"symptoms_exp___5\",\"1.0\",\"symptoms_exp___5 is a checkbox field and thus can only have a value of \\'1\\' (checked) or \\'0\\' (unchecked).\"\\n\"98\",\"symptoms_exp___6\",\"0.0\",\"symptoms_exp___6 is a checkbox field and thus can only have a value of \\'1\\' (checked) or \\'0\\' (unchecked).\"\\n\"98\",\"symptoms_exp___7\",\"1.0\",\"symptoms_exp___7 is a checkbox field and thus can only have a value of \\'1\\' (checked) or \\'0\\' (unchecked).\"\\n\"98\",\"symptoms_exp___8\",\"1.0\",\"symptoms_exp___8 is a checkbox field and thus can only have a value of \\'1\\' (checked) or \\'0\\' (unchecked).\"\\n\"98\",\"symptoms_exp___9\",\"1.0\",\"symptoms_exp___9 is a checkbox field and thus can only have a value of \\'1\\' (checked) or \\'0\\' (unchecked).\"\\n\"98\",\"symptoms_exp___10\",\"0.0\",\"symptoms_exp___10 is a checkbox field and thus can only have a value of \\'1\\' (checked) or \\'0\\' (unchecked).\"\\n\"98\",\"symptoms_exp___11\",\"0.0\",\"symptoms_exp___11 is a checkbox field and thus can only have a value of \\'1\\' (checked) or \\'0\\' (unchecked).\"\\n\"98\",\"symptoms_complete\",\"2.0\",\"The value is not a valid category for symptoms_complete\"\\n\"98\",\"test_yesno\",\"1.0\",\"The value is not a valid category for test_yesno\"\\n\"98\",\"test_positive_yesno\",\"1.0\",\"The value is not a valid category for test_positive_yesno\"\\n\"98\",\"prior_covid_yesno\",\"0.0\",\"The value is not a valid category for prior_covid_yesno\"\\n\"98\",\"test_information_complete\",\"2.0\",\"The value is not a valid category for test_information_complete\"\\n\"98\",\"redcap_repeat_instance\",\"1.0\",\"(redcap_event_name=\"\"notifications_arm_1\"\") redcap_repeat_instance must have a numeric value between \\'1\\' and \\'32767\\' for any Repeating Event or Repeating Instrument.  Please add a valid numeric value to redcap_repeat_instance in the data import file and try again.\"\\n\"98\",\"close_contacts_complete\",\"2.0\",\"The value is not a valid category for close_contacts_complete\"\\n\"98\",\"redcap_repeat_instance\",\"2.0\",\"(redcap_event_name=\"\"notifications_arm_1\"\") redcap_repeat_instance must have a numeric value between \\'1\\' and \\'32767\\' for any Repeating Event or Repeating Instrument.  Please add a valid numeric value to redcap_repeat_instance in the data import file and try again.\"\\n\"98\",\"close_contacts_complete\",\"0.0\",\"The value is not a valid category for close_contacts_complete\"\\n\"99\",\"zip_code\",\"98104.0\",\"The value you provided could not be validated because it does not follow the expected format. Please try again.\"\\n\"99\",\"ethnicity\",\"2.0\",\"The value is not a valid category for ethnicity\"\\n\"99\",\"race\",\"3.0\",\"The value is not a valid category for race\"\\n\"99\",\"gender\",\"1.0\",\"The value is not a valid category for gender\"\\n\"99\",\"demographics_complete\",\"2.0\",\"The value is not a valid category for demographics_complete\"\\n\"99\",\"work_inperson_yesno\",\"0.0\",\"The value is not a valid category for work_inperson_yesno\"\\n\"99\",\"work_contagious\",\"0.0\",\"The value is not a valid category for work_contagious\"\\n\"99\",\"work_information_complete\",\"0.0\",\"The value is not a valid category for work_information_complete\"\\n\"99\",\"redcap_repeat_instance\",\"1.0\",\"(redcap_event_name=\"\"case_intake_arm_1\"\") redcap_repeat_instance must have a numeric value between \\'1\\' and \\'32767\\' for any Repeating Event or Repeating Instrument.  Please add a valid numeric value to redcap_repeat_instance in the data import file and try again.\"\\n\"99\",\"symptoms_yesno\",\"1.0\",\"The value is not a valid category for symptoms_yesno\"\\n\"99\",\"symptoms_exp___1\",\"1.0\",\"symptoms_exp___1 is a checkbox field and thus can only have a value of \\'1\\' (checked) or \\'0\\' (unchecked).\"\\n\"99\",\"symptoms_exp___2\",\"0.0\",\"symptoms_exp___2 is a checkbox field and thus can only have a value of \\'1\\' (checked) or \\'0\\' (unchecked).\"\\n\"99\",\"symptoms_exp___3\",\"0.0\",\"symptoms_exp___3 is a checkbox field and thus can only have a value of \\'1\\' (checked) or \\'0\\' (unchecked).\"\\n\"99\",\"symptoms_exp___4\",\"0.0\",\"symptoms_exp___4 is a checkbox field and thus can only have a value of \\'1\\' (checked) or \\'0\\' (unchecked).\"\\n\"99\",\"symptoms_exp___5\",\"0.0\",\"symptoms_exp___5 is a checkbox field and thus can only have a value of \\'1\\' (checked) or \\'0\\' (unchecked).\"\\n\"99\",\"symptoms_exp___6\",\"0.0\",\"symptoms_exp___6 is a checkbox field and thus can only have a value of \\'1\\' (checked) or \\'0\\' (unchecked).\"\\n\"99\",\"symptoms_exp___7\",\"0.0\",\"symptoms_exp___7 is a checkbox field and thus can only have a value of \\'1\\' (checked) or \\'0\\' (unchecked).\"\\n\"99\",\"symptoms_exp___8\",\"0.0\",\"symptoms_exp___8 is a checkbox field and thus can only have a value of \\'1\\' (checked) or \\'0\\' (unchecked).\"\\n\"99\",\"symptoms_exp___9\",\"0.0\",\"symptoms_exp___9 is a checkbox field and thus can only have a value of \\'1\\' (checked) or \\'0\\' (unchecked).\"\\n\"99\",\"symptoms_exp___10\",\"0.0\",\"symptoms_exp___10 is a checkbox field and thus can only have a value of \\'1\\' (checked) or \\'0\\' (unchecked).\"\\n\"99\",\"symptoms_exp___11\",\"0.0\",\"symptoms_exp___11 is a checkbox field and thus can only have a value of \\'1\\' (checked) or \\'0\\' (unchecked).\"\\n\"99\",\"symptoms_complete\",\"2.0\",\"The value is not a valid category for symptoms_complete\"\\n\"99\",\"test_yesno\",\"0.0\",\"The value is not a valid category for test_yesno\"\\n\"99\",\"prior_covid_yesno\",\"0.0\",\"The value is not a valid category for prior_covid_yesno\"\\n\"99\",\"test_information_complete\",\"2.0\",\"The value is not a valid category for test_information_complete\"\\n\"99\",\"redcap_repeat_instance\",\"1.0\",\"(redcap_event_name=\"\"notifications_arm_1\"\") redcap_repeat_instance must have a numeric value between \\'1\\' and \\'32767\\' for any Repeating Event or Repeating Instrument.  Please add a valid numeric value to redcap_repeat_instance in the data import file and try again.\"\\n\"99\",\"close_contacts_complete\",\"2.0\",\"The value is not a valid category for close_contacts_complete\"\\n\"100\",\"zip_code\",\"98107.0\",\"The value you provided could not be validated because it does not follow the expected format. Please try again.\"\\n\"100\",\"ethnicity\",\"0.0\",\"The value is not a valid category for ethnicity\"\\n\"100\",\"race\",\"5.0\",\"The value is not a valid category for race\"\\n\"100\",\"gender\",\"0.0\",\"The value is not a valid category for gender\"\\n\"100\",\"demographics_complete\",\"2.0\",\"The value is not a valid category for demographics_complete\"\\n\"100\",\"work_inperson_yesno\",\"0.0\",\"The value is not a valid category for work_inperson_yesno\"\\n\"100\",\"work_contagious\",\"0.0\",\"The value is not a valid category for work_contagious\"\\n\"100\",\"work_information_complete\",\"2.0\",\"The value is not a valid category for work_information_complete\"\\n\"100\",\"redcap_repeat_instance\",\"1.0\",\"(redcap_event_name=\"\"case_intake_arm_1\"\") redcap_repeat_instance must have a numeric value between \\'1\\' and \\'32767\\' for any Repeating Event or Repeating Instrument.  Please add a valid numeric value to redcap_repeat_instance in the data import file and try again.\"\\n\"100\",\"symptoms_yesno\",\"1.0\",\"The value is not a valid category for symptoms_yesno\"\\n\"100\",\"symptoms_exp___1\",\"0.0\",\"symptoms_exp___1 is a checkbox field and thus can only have a value of \\'1\\' (checked) or \\'0\\' (unchecked).\"\\n\"100\",\"symptoms_exp___2\",\"0.0\",\"symptoms_exp___2 is a checkbox field and thus can only have a value of \\'1\\' (checked) or \\'0\\' (unchecked).\"\\n\"100\",\"symptoms_exp___3\",\"0.0\",\"symptoms_exp___3 is a checkbox field and thus can only have a value of \\'1\\' (checked) or \\'0\\' (unchecked).\"\\n\"100\",\"symptoms_exp___4\",\"0.0\",\"symptoms_exp___4 is a checkbox field and thus can only have a value of \\'1\\' (checked) or \\'0\\' (unchecked).\"\\n\"100\",\"symptoms_exp___5\",\"0.0\",\"symptoms_exp___5 is a checkbox field and thus can only have a value of \\'1\\' (checked) or \\'0\\' (unchecked).\"\\n\"100\",\"symptoms_exp___6\",\"1.0\",\"symptoms_exp___6 is a checkbox field and thus can only have a value of \\'1\\' (checked) or \\'0\\' (unchecked).\"\\n\"100\",\"symptoms_exp___7\",\"1.0\",\"symptoms_exp___7 is a checkbox field and thus can only have a value of \\'1\\' (checked) or \\'0\\' (unchecked).\"\\n\"100\",\"symptoms_exp___8\",\"1.0\",\"symptoms_exp___8 is a checkbox field and thus can only have a value of \\'1\\' (checked) or \\'0\\' (unchecked).\"\\n\"100\",\"symptoms_exp___9\",\"1.0\",\"symptoms_exp___9 is a checkbox field and thus can only have a value of \\'1\\' (checked) or \\'0\\' (unchecked).\"\\n\"100\",\"symptoms_exp___10\",\"0.0\",\"symptoms_exp___10 is a checkbox field and thus can only have a value of \\'1\\' (checked) or \\'0\\' (unchecked).\"\\n\"100\",\"symptoms_exp___11\",\"0.0\",\"symptoms_exp___11 is a checkbox field and thus can only have a value of \\'1\\' (checked) or \\'0\\' (unchecked).\"\\n\"100\",\"symptoms_complete\",\"2.0\",\"The value is not a valid category for symptoms_complete\"\\n\"100\",\"test_yesno\",\"1.0\",\"The value is not a valid category for test_yesno\"\\n\"100\",\"test_positive_yesno\",\"1.0\",\"The value is not a valid category for test_positive_yesno\"\\n\"100\",\"prior_covid_yesno\",\"0.0\",\"The value is not a valid category for prior_covid_yesno\"\\n\"100\",\"test_information_complete\",\"2.0\",\"The value is not a valid category for test_information_complete\"\\n\"100\",\"redcap_repeat_instance\",\"1.0\",\"(redcap_event_name=\"\"notifications_arm_1\"\") redcap_repeat_instance must have a numeric value between \\'1\\' and \\'32767\\' for any Repeating Event or Repeating Instrument.  Please add a valid numeric value to redcap_repeat_instance in the data import file and try again.\"\\n\"100\",\"close_contacts_complete\",\"2.0\",\"The value is not a valid category for close_contacts_complete\"\\n\"100\",\"redcap_repeat_instance\",\"2.0\",\"(redcap_event_name=\"\"notifications_arm_1\"\") redcap_repeat_instance must have a numeric value between \\'1\\' and \\'32767\\' for any Repeating Event or Repeating Instrument.  Please add a valid numeric value to redcap_repeat_instance in the data import file and try again.\"\\n\"100\",\"close_contacts_complete\",\"2.0\",\"The value is not a valid category for close_contacts_complete\"'}"
     ]
    }
   ],
   "source": [
    "# specify `import_format` = df for a pandas data frame\n",
    "project.import_records(df_to_import, import_format = 'df', force_auto_number=True, date_format = 'MDY')"
   ]
  },
  {
   "cell_type": "markdown",
   "id": "be5d6917-9dcf-4188-b0bc-484576eee5d7",
   "metadata": {},
   "source": [
    "### Solution - Convert All Floats to Int64 Pandas Datatype"
   ]
  },
  {
   "cell_type": "markdown",
   "id": "5bbdde51-a8a6-48f9-a640-fa8c97a3a4ab",
   "metadata": {},
   "source": [
    "Int64 is a unique pandas datatype that allows numeric fields to contain missing values. For more information read the documentation [here](https://pandas.pydata.org/docs/reference/api/pandas.Int64Dtype.html)  \n",
    "\n",
    "Note: Before applying this solution, ensure that there are no numeric fields in your REDCap Project that should have decimals (you will not want to convert these variables to int64 since they would lose their decimal places). Make sure you are familiar with your project's metadata. All radio, checkboxes, yes/no, redcap_repeat_instance, and form_complete variables need to be integers. In REDCap, actual numeric fields are stored as text fields with optional validation. Any text field in REDCap with no validation or with 'numeric' as their validation type, would allow numbers with decimal places. Any text fields with other validations types (i.e. zip code, phone number, integer) will not allow import of decimal places. "
   ]
  },
  {
   "cell_type": "code",
   "execution_count": 79,
   "id": "ff8dafc3-81be-4996-8f4b-36032a61a8f2",
   "metadata": {},
   "outputs": [
    {
     "name": "stdout",
     "output_type": "stream",
     "text": [
      "['redcap_repeat_instance', 'redcap_survey_identifier', 'demographics_timestamp', 'zip_code', 'age', 'ethnicity', 'race', 'gender', 'demographics_complete', 'symptoms_yesno', 'symptoms_exp___1', 'symptoms_exp___2', 'symptoms_exp___3', 'symptoms_exp___4', 'symptoms_exp___5', 'symptoms_exp___6', 'symptoms_exp___7', 'symptoms_exp___8', 'symptoms_exp___9', 'symptoms_exp___10', 'symptoms_exp___11', 'symptom_notes', 'symptoms_complete', 'test_yesno', 'test_positive_yesno', 'prior_covid_yesno', 'test_information_complete', 'close_contacts_complete', 'work_inperson_yesno', 'work_contagious', 'work_contagious_calc', 'work_information_complete']\n"
     ]
    }
   ],
   "source": [
    "float_list = df_to_import.select_dtypes(include=[np.float64]).columns.values.tolist()\n",
    "print(float_list)"
   ]
  },
  {
   "cell_type": "markdown",
   "id": "ebafb556-ae6b-4cf9-bd74-92fd079a027c",
   "metadata": {},
   "source": [
    "At this point, if needed, you can remove any variables from this list that you need to keep in float format. "
   ]
  },
  {
   "cell_type": "code",
   "execution_count": 65,
   "id": "305b98ff-99ec-41ba-b7fb-246f034aa386",
   "metadata": {},
   "outputs": [],
   "source": [
    "df_to_import[float_list] = df_to_import[float_list].apply(lambda x: x.astype(\"Int64\"))"
   ]
  },
  {
   "cell_type": "code",
   "execution_count": 66,
   "id": "f443975d-3a63-4f74-b365-6a4a4673ac22",
   "metadata": {
    "scrolled": true
   },
   "outputs": [
    {
     "data": {
      "text/html": [
       "<div>\n",
       "<style scoped>\n",
       "    .dataframe tbody tr th:only-of-type {\n",
       "        vertical-align: middle;\n",
       "    }\n",
       "\n",
       "    .dataframe tbody tr th {\n",
       "        vertical-align: top;\n",
       "    }\n",
       "\n",
       "    .dataframe thead th {\n",
       "        text-align: right;\n",
       "    }\n",
       "</style>\n",
       "<table border=\"1\" class=\"dataframe\">\n",
       "  <thead>\n",
       "    <tr style=\"text-align: right;\">\n",
       "      <th></th>\n",
       "      <th>record_id</th>\n",
       "      <th>redcap_event_name</th>\n",
       "      <th>redcap_repeat_instrument</th>\n",
       "      <th>redcap_repeat_instance</th>\n",
       "      <th>redcap_survey_identifier</th>\n",
       "      <th>demographics_timestamp</th>\n",
       "      <th>first_name</th>\n",
       "      <th>last_name</th>\n",
       "      <th>phone_num</th>\n",
       "      <th>zip_code</th>\n",
       "      <th>...</th>\n",
       "      <th>cc_phone</th>\n",
       "      <th>cc_email</th>\n",
       "      <th>close_contacts_complete</th>\n",
       "      <th>supervisor_name</th>\n",
       "      <th>supervisor_email</th>\n",
       "      <th>work_inperson_yesno</th>\n",
       "      <th>work_date</th>\n",
       "      <th>work_contagious</th>\n",
       "      <th>work_contagious_calc</th>\n",
       "      <th>work_information_complete</th>\n",
       "    </tr>\n",
       "  </thead>\n",
       "  <tbody>\n",
       "    <tr>\n",
       "      <th>0</th>\n",
       "      <td>3</td>\n",
       "      <td>personal_info_arm_1</td>\n",
       "      <td>NaN</td>\n",
       "      <td>&lt;NA&gt;</td>\n",
       "      <td>&lt;NA&gt;</td>\n",
       "      <td>&lt;NA&gt;</td>\n",
       "      <td>John</td>\n",
       "      <td>Doe</td>\n",
       "      <td>(999) 999-9999</td>\n",
       "      <td>98105</td>\n",
       "      <td>...</td>\n",
       "      <td>NaN</td>\n",
       "      <td>NaN</td>\n",
       "      <td>&lt;NA&gt;</td>\n",
       "      <td>NaN</td>\n",
       "      <td>NaN</td>\n",
       "      <td>&lt;NA&gt;</td>\n",
       "      <td>NaN</td>\n",
       "      <td>&lt;NA&gt;</td>\n",
       "      <td>&lt;NA&gt;</td>\n",
       "      <td>&lt;NA&gt;</td>\n",
       "    </tr>\n",
       "    <tr>\n",
       "      <th>1</th>\n",
       "      <td>3</td>\n",
       "      <td>notifications_arm_1</td>\n",
       "      <td>NaN</td>\n",
       "      <td>&lt;NA&gt;</td>\n",
       "      <td>&lt;NA&gt;</td>\n",
       "      <td>&lt;NA&gt;</td>\n",
       "      <td>NaN</td>\n",
       "      <td>NaN</td>\n",
       "      <td>NaN</td>\n",
       "      <td>&lt;NA&gt;</td>\n",
       "      <td>...</td>\n",
       "      <td>NaN</td>\n",
       "      <td>NaN</td>\n",
       "      <td>&lt;NA&gt;</td>\n",
       "      <td>Boss</td>\n",
       "      <td>NaN</td>\n",
       "      <td>0</td>\n",
       "      <td>NaN</td>\n",
       "      <td>0</td>\n",
       "      <td>&lt;NA&gt;</td>\n",
       "      <td>2</td>\n",
       "    </tr>\n",
       "    <tr>\n",
       "      <th>2</th>\n",
       "      <td>3</td>\n",
       "      <td>case_intake_arm_1</td>\n",
       "      <td>NaN</td>\n",
       "      <td>1</td>\n",
       "      <td>&lt;NA&gt;</td>\n",
       "      <td>&lt;NA&gt;</td>\n",
       "      <td>NaN</td>\n",
       "      <td>NaN</td>\n",
       "      <td>NaN</td>\n",
       "      <td>&lt;NA&gt;</td>\n",
       "      <td>...</td>\n",
       "      <td>NaN</td>\n",
       "      <td>NaN</td>\n",
       "      <td>&lt;NA&gt;</td>\n",
       "      <td>NaN</td>\n",
       "      <td>NaN</td>\n",
       "      <td>&lt;NA&gt;</td>\n",
       "      <td>NaN</td>\n",
       "      <td>&lt;NA&gt;</td>\n",
       "      <td>&lt;NA&gt;</td>\n",
       "      <td>&lt;NA&gt;</td>\n",
       "    </tr>\n",
       "    <tr>\n",
       "      <th>3</th>\n",
       "      <td>3</td>\n",
       "      <td>notifications_arm_1</td>\n",
       "      <td>close_contacts</td>\n",
       "      <td>1</td>\n",
       "      <td>&lt;NA&gt;</td>\n",
       "      <td>&lt;NA&gt;</td>\n",
       "      <td>NaN</td>\n",
       "      <td>NaN</td>\n",
       "      <td>NaN</td>\n",
       "      <td>&lt;NA&gt;</td>\n",
       "      <td>...</td>\n",
       "      <td>(999) 999-9999</td>\n",
       "      <td>fake_email@gmail.com</td>\n",
       "      <td>2</td>\n",
       "      <td>NaN</td>\n",
       "      <td>NaN</td>\n",
       "      <td>&lt;NA&gt;</td>\n",
       "      <td>NaN</td>\n",
       "      <td>&lt;NA&gt;</td>\n",
       "      <td>&lt;NA&gt;</td>\n",
       "      <td>&lt;NA&gt;</td>\n",
       "    </tr>\n",
       "    <tr>\n",
       "      <th>4</th>\n",
       "      <td>3</td>\n",
       "      <td>notifications_arm_1</td>\n",
       "      <td>close_contacts</td>\n",
       "      <td>2</td>\n",
       "      <td>&lt;NA&gt;</td>\n",
       "      <td>&lt;NA&gt;</td>\n",
       "      <td>NaN</td>\n",
       "      <td>NaN</td>\n",
       "      <td>NaN</td>\n",
       "      <td>&lt;NA&gt;</td>\n",
       "      <td>...</td>\n",
       "      <td>(999) 999-9999</td>\n",
       "      <td>fake_email@gmail.com</td>\n",
       "      <td>2</td>\n",
       "      <td>NaN</td>\n",
       "      <td>NaN</td>\n",
       "      <td>&lt;NA&gt;</td>\n",
       "      <td>NaN</td>\n",
       "      <td>&lt;NA&gt;</td>\n",
       "      <td>&lt;NA&gt;</td>\n",
       "      <td>&lt;NA&gt;</td>\n",
       "    </tr>\n",
       "  </tbody>\n",
       "</table>\n",
       "<p>5 rows × 50 columns</p>\n",
       "</div>"
      ],
      "text/plain": [
       "   record_id    redcap_event_name redcap_repeat_instrument  \\\n",
       "0          3  personal_info_arm_1                      NaN   \n",
       "1          3  notifications_arm_1                      NaN   \n",
       "2          3    case_intake_arm_1                      NaN   \n",
       "3          3  notifications_arm_1           close_contacts   \n",
       "4          3  notifications_arm_1           close_contacts   \n",
       "\n",
       "   redcap_repeat_instance  redcap_survey_identifier  demographics_timestamp  \\\n",
       "0                    <NA>                      <NA>                    <NA>   \n",
       "1                    <NA>                      <NA>                    <NA>   \n",
       "2                       1                      <NA>                    <NA>   \n",
       "3                       1                      <NA>                    <NA>   \n",
       "4                       2                      <NA>                    <NA>   \n",
       "\n",
       "  first_name last_name       phone_num  zip_code  ...        cc_phone  \\\n",
       "0       John       Doe  (999) 999-9999     98105  ...             NaN   \n",
       "1        NaN       NaN             NaN      <NA>  ...             NaN   \n",
       "2        NaN       NaN             NaN      <NA>  ...             NaN   \n",
       "3        NaN       NaN             NaN      <NA>  ...  (999) 999-9999   \n",
       "4        NaN       NaN             NaN      <NA>  ...  (999) 999-9999   \n",
       "\n",
       "               cc_email  close_contacts_complete  supervisor_name  \\\n",
       "0                   NaN                     <NA>              NaN   \n",
       "1                   NaN                     <NA>             Boss   \n",
       "2                   NaN                     <NA>              NaN   \n",
       "3  fake_email@gmail.com                        2              NaN   \n",
       "4  fake_email@gmail.com                        2              NaN   \n",
       "\n",
       "   supervisor_email  work_inperson_yesno  work_date work_contagious  \\\n",
       "0               NaN                 <NA>        NaN            <NA>   \n",
       "1               NaN                    0        NaN               0   \n",
       "2               NaN                 <NA>        NaN            <NA>   \n",
       "3               NaN                 <NA>        NaN            <NA>   \n",
       "4               NaN                 <NA>        NaN            <NA>   \n",
       "\n",
       "   work_contagious_calc  work_information_complete  \n",
       "0                  <NA>                       <NA>  \n",
       "1                  <NA>                          2  \n",
       "2                  <NA>                       <NA>  \n",
       "3                  <NA>                       <NA>  \n",
       "4                  <NA>                       <NA>  \n",
       "\n",
       "[5 rows x 50 columns]"
      ]
     },
     "execution_count": 66,
     "metadata": {},
     "output_type": "execute_result"
    }
   ],
   "source": [
    "df_to_import.head()"
   ]
  },
  {
   "cell_type": "markdown",
   "id": "5ae69a3b-2bbd-4f9a-98db-549faa98b1da",
   "metadata": {},
   "source": [
    "You can now see the `redcap_repeat_instance` and `clost_contacts_complete` are in integer format. The <NA> seen in the blank cells will not interfere with data import. Now you can make any edits necessary including numeric specific transformations on your integer fields. "
   ]
  },
  {
   "cell_type": "code",
   "execution_count": 72,
   "id": "c983f339-e378-4f82-b99e-0679715d40fb",
   "metadata": {},
   "outputs": [],
   "source": [
    "# In this example lets quickly edit a name \n",
    "df_to_import.loc[df_to_import.first_name == 'John', 'first_name'] = 'Jon'"
   ]
  },
  {
   "cell_type": "code",
   "execution_count": 73,
   "id": "773c1a0e-ee93-4b64-8599-5b02d1132b01",
   "metadata": {},
   "outputs": [
    {
     "data": {
      "text/html": [
       "<div>\n",
       "<style scoped>\n",
       "    .dataframe tbody tr th:only-of-type {\n",
       "        vertical-align: middle;\n",
       "    }\n",
       "\n",
       "    .dataframe tbody tr th {\n",
       "        vertical-align: top;\n",
       "    }\n",
       "\n",
       "    .dataframe thead th {\n",
       "        text-align: right;\n",
       "    }\n",
       "</style>\n",
       "<table border=\"1\" class=\"dataframe\">\n",
       "  <thead>\n",
       "    <tr style=\"text-align: right;\">\n",
       "      <th></th>\n",
       "      <th>record_id</th>\n",
       "      <th>redcap_event_name</th>\n",
       "      <th>redcap_repeat_instrument</th>\n",
       "      <th>redcap_repeat_instance</th>\n",
       "      <th>redcap_survey_identifier</th>\n",
       "      <th>demographics_timestamp</th>\n",
       "      <th>first_name</th>\n",
       "      <th>last_name</th>\n",
       "      <th>phone_num</th>\n",
       "      <th>zip_code</th>\n",
       "      <th>...</th>\n",
       "      <th>cc_phone</th>\n",
       "      <th>cc_email</th>\n",
       "      <th>close_contacts_complete</th>\n",
       "      <th>supervisor_name</th>\n",
       "      <th>supervisor_email</th>\n",
       "      <th>work_inperson_yesno</th>\n",
       "      <th>work_date</th>\n",
       "      <th>work_contagious</th>\n",
       "      <th>work_contagious_calc</th>\n",
       "      <th>work_information_complete</th>\n",
       "    </tr>\n",
       "  </thead>\n",
       "  <tbody>\n",
       "    <tr>\n",
       "      <th>0</th>\n",
       "      <td>3</td>\n",
       "      <td>personal_info_arm_1</td>\n",
       "      <td>NaN</td>\n",
       "      <td>&lt;NA&gt;</td>\n",
       "      <td>&lt;NA&gt;</td>\n",
       "      <td>&lt;NA&gt;</td>\n",
       "      <td>Jon</td>\n",
       "      <td>Doe</td>\n",
       "      <td>(999) 999-9999</td>\n",
       "      <td>98105</td>\n",
       "      <td>...</td>\n",
       "      <td>NaN</td>\n",
       "      <td>NaN</td>\n",
       "      <td>&lt;NA&gt;</td>\n",
       "      <td>NaN</td>\n",
       "      <td>NaN</td>\n",
       "      <td>&lt;NA&gt;</td>\n",
       "      <td>NaN</td>\n",
       "      <td>&lt;NA&gt;</td>\n",
       "      <td>&lt;NA&gt;</td>\n",
       "      <td>&lt;NA&gt;</td>\n",
       "    </tr>\n",
       "    <tr>\n",
       "      <th>1</th>\n",
       "      <td>3</td>\n",
       "      <td>notifications_arm_1</td>\n",
       "      <td>NaN</td>\n",
       "      <td>&lt;NA&gt;</td>\n",
       "      <td>&lt;NA&gt;</td>\n",
       "      <td>&lt;NA&gt;</td>\n",
       "      <td>NaN</td>\n",
       "      <td>NaN</td>\n",
       "      <td>NaN</td>\n",
       "      <td>&lt;NA&gt;</td>\n",
       "      <td>...</td>\n",
       "      <td>NaN</td>\n",
       "      <td>NaN</td>\n",
       "      <td>&lt;NA&gt;</td>\n",
       "      <td>Boss</td>\n",
       "      <td>NaN</td>\n",
       "      <td>0</td>\n",
       "      <td>NaN</td>\n",
       "      <td>0</td>\n",
       "      <td>&lt;NA&gt;</td>\n",
       "      <td>2</td>\n",
       "    </tr>\n",
       "    <tr>\n",
       "      <th>2</th>\n",
       "      <td>3</td>\n",
       "      <td>case_intake_arm_1</td>\n",
       "      <td>NaN</td>\n",
       "      <td>1</td>\n",
       "      <td>&lt;NA&gt;</td>\n",
       "      <td>&lt;NA&gt;</td>\n",
       "      <td>NaN</td>\n",
       "      <td>NaN</td>\n",
       "      <td>NaN</td>\n",
       "      <td>&lt;NA&gt;</td>\n",
       "      <td>...</td>\n",
       "      <td>NaN</td>\n",
       "      <td>NaN</td>\n",
       "      <td>&lt;NA&gt;</td>\n",
       "      <td>NaN</td>\n",
       "      <td>NaN</td>\n",
       "      <td>&lt;NA&gt;</td>\n",
       "      <td>NaN</td>\n",
       "      <td>&lt;NA&gt;</td>\n",
       "      <td>&lt;NA&gt;</td>\n",
       "      <td>&lt;NA&gt;</td>\n",
       "    </tr>\n",
       "    <tr>\n",
       "      <th>3</th>\n",
       "      <td>3</td>\n",
       "      <td>notifications_arm_1</td>\n",
       "      <td>close_contacts</td>\n",
       "      <td>1</td>\n",
       "      <td>&lt;NA&gt;</td>\n",
       "      <td>&lt;NA&gt;</td>\n",
       "      <td>NaN</td>\n",
       "      <td>NaN</td>\n",
       "      <td>NaN</td>\n",
       "      <td>&lt;NA&gt;</td>\n",
       "      <td>...</td>\n",
       "      <td>(999) 999-9999</td>\n",
       "      <td>fake_email@gmail.com</td>\n",
       "      <td>2</td>\n",
       "      <td>NaN</td>\n",
       "      <td>NaN</td>\n",
       "      <td>&lt;NA&gt;</td>\n",
       "      <td>NaN</td>\n",
       "      <td>&lt;NA&gt;</td>\n",
       "      <td>&lt;NA&gt;</td>\n",
       "      <td>&lt;NA&gt;</td>\n",
       "    </tr>\n",
       "    <tr>\n",
       "      <th>4</th>\n",
       "      <td>3</td>\n",
       "      <td>notifications_arm_1</td>\n",
       "      <td>close_contacts</td>\n",
       "      <td>2</td>\n",
       "      <td>&lt;NA&gt;</td>\n",
       "      <td>&lt;NA&gt;</td>\n",
       "      <td>NaN</td>\n",
       "      <td>NaN</td>\n",
       "      <td>NaN</td>\n",
       "      <td>&lt;NA&gt;</td>\n",
       "      <td>...</td>\n",
       "      <td>(999) 999-9999</td>\n",
       "      <td>fake_email@gmail.com</td>\n",
       "      <td>2</td>\n",
       "      <td>NaN</td>\n",
       "      <td>NaN</td>\n",
       "      <td>&lt;NA&gt;</td>\n",
       "      <td>NaN</td>\n",
       "      <td>&lt;NA&gt;</td>\n",
       "      <td>&lt;NA&gt;</td>\n",
       "      <td>&lt;NA&gt;</td>\n",
       "    </tr>\n",
       "  </tbody>\n",
       "</table>\n",
       "<p>5 rows × 50 columns</p>\n",
       "</div>"
      ],
      "text/plain": [
       "   record_id    redcap_event_name redcap_repeat_instrument  \\\n",
       "0          3  personal_info_arm_1                      NaN   \n",
       "1          3  notifications_arm_1                      NaN   \n",
       "2          3    case_intake_arm_1                      NaN   \n",
       "3          3  notifications_arm_1           close_contacts   \n",
       "4          3  notifications_arm_1           close_contacts   \n",
       "\n",
       "   redcap_repeat_instance  redcap_survey_identifier  demographics_timestamp  \\\n",
       "0                    <NA>                      <NA>                    <NA>   \n",
       "1                    <NA>                      <NA>                    <NA>   \n",
       "2                       1                      <NA>                    <NA>   \n",
       "3                       1                      <NA>                    <NA>   \n",
       "4                       2                      <NA>                    <NA>   \n",
       "\n",
       "  first_name last_name       phone_num  zip_code  ...        cc_phone  \\\n",
       "0        Jon       Doe  (999) 999-9999     98105  ...             NaN   \n",
       "1        NaN       NaN             NaN      <NA>  ...             NaN   \n",
       "2        NaN       NaN             NaN      <NA>  ...             NaN   \n",
       "3        NaN       NaN             NaN      <NA>  ...  (999) 999-9999   \n",
       "4        NaN       NaN             NaN      <NA>  ...  (999) 999-9999   \n",
       "\n",
       "               cc_email  close_contacts_complete  supervisor_name  \\\n",
       "0                   NaN                     <NA>              NaN   \n",
       "1                   NaN                     <NA>             Boss   \n",
       "2                   NaN                     <NA>              NaN   \n",
       "3  fake_email@gmail.com                        2              NaN   \n",
       "4  fake_email@gmail.com                        2              NaN   \n",
       "\n",
       "   supervisor_email  work_inperson_yesno  work_date work_contagious  \\\n",
       "0               NaN                 <NA>        NaN            <NA>   \n",
       "1               NaN                    0        NaN               0   \n",
       "2               NaN                 <NA>        NaN            <NA>   \n",
       "3               NaN                 <NA>        NaN            <NA>   \n",
       "4               NaN                 <NA>        NaN            <NA>   \n",
       "\n",
       "   work_contagious_calc  work_information_complete  \n",
       "0                  <NA>                       <NA>  \n",
       "1                  <NA>                          2  \n",
       "2                  <NA>                       <NA>  \n",
       "3                  <NA>                       <NA>  \n",
       "4                  <NA>                       <NA>  \n",
       "\n",
       "[5 rows x 50 columns]"
      ]
     },
     "execution_count": 73,
     "metadata": {},
     "output_type": "execute_result"
    }
   ],
   "source": [
    "df_to_import.head()"
   ]
  },
  {
   "cell_type": "code",
   "execution_count": 74,
   "id": "eff37032-577a-4553-92de-3bd7d9b10071",
   "metadata": {
    "tags": []
   },
   "outputs": [
    {
     "data": {
      "text/plain": [
       "{'count': 4}"
      ]
     },
     "execution_count": 74,
     "metadata": {},
     "output_type": "execute_result"
    }
   ],
   "source": [
    "# Import data\n",
    "project.import_records(df_to_import, force_auto_number=True, date_format = 'MDY', import_format = 'df')"
   ]
  },
  {
   "cell_type": "markdown",
   "id": "3cb2a14c-c81a-4c8e-8e3c-8f4d14ee19a6",
   "metadata": {
    "tags": []
   },
   "source": [
    "### Note on importing dates"
   ]
  },
  {
   "cell_type": "markdown",
   "id": "6528076e-65c5-46f1-9814-710510cd5705",
   "metadata": {},
   "source": [
    "Date fields in REDCap are character fields with a designated date validation added. There are many different types of date validations/formats that can be chosen for a date field. All date fields must be imported to REDCap only in the Y-M-D format, regardless of the specific date format designated for this field in the REDCap project. Fortunately, Pycap `import_records` will automatically convert dates to the proper format as long as the input format of your dates are specified under the `date_format` argument. If you have different date fields in different formats you will need to first get them in all the same format for this argument to work.  "
   ]
  },
  {
   "cell_type": "markdown",
   "id": "3562e205-75bd-4642-805b-1fcac6ed8f13",
   "metadata": {
    "tags": []
   },
   "source": [
    "### Note on `force auto_number`"
   ]
  },
  {
   "cell_type": "markdown",
   "id": "afa3c7bf-b44b-4f06-bf32-14d4bf6246ff",
   "metadata": {},
   "source": [
    "Another unique feature of pycap `import_records` is the `force_auto_number` argument which, if set to 'True' it will automatically reasign your record id's to new record ids that will import to REDCap as new recrods. If set to 'False' and your record id's to import already exist in REDCap, they will overwrite the existing REDCap records during import. "
   ]
  },
  {
   "cell_type": "markdown",
   "id": "5bc4cebe-1ed9-4559-ba42-c46c6a9cc499",
   "metadata": {},
   "source": [
    "### Note on `overwrite` argument"
   ]
  },
  {
   "cell_type": "markdown",
   "id": "15e42b84-3139-491e-a6a8-02c26f20f6f5",
   "metadata": {},
   "source": [
    "The overwrite argument is set to 'normal' as default, under this setting, if blank values are imported for fields on existing REDCap records and that data is not missing in REDCap, these values will not be overwritten as missing. If you want to overwrite existing data as missing, be sure to include `overwrite = 'overwrite'` as an argument in `import_records` "
   ]
  },
  {
   "cell_type": "markdown",
   "id": "5d6fe584-dbfe-4f72-8462-d6acd98b635a",
   "metadata": {
    "tags": []
   },
   "source": [
    "## Import Using Native API"
   ]
  },
  {
   "cell_type": "markdown",
   "id": "7447031b-f488-4b67-9c90-ed3fa3989bf8",
   "metadata": {},
   "source": [
    "### Records: Native API"
   ]
  },
  {
   "cell_type": "code",
   "execution_count": 27,
   "id": "3a53e6da-db04-46bc-b7a8-b6ca9c30b717",
   "metadata": {},
   "outputs": [],
   "source": [
    "data2 = '[{\"record_id\": \"3\", \"redcap_event_name\": \"personal_info_arm_1\", \"redcap_repeat_instrument\": \"\", \"redcap_repeat_instance\": \"\",\"redcap_survey_identifier\": \"\", \"demographics_timestamp\": \"\" ,\"first_name\": \"John\",\"last_name\": \"Doe\",\"phone_num\": \"(999) 999-9999\",\"zip_code\": \"98105\"}]'"
   ]
  },
  {
   "cell_type": "markdown",
   "id": "2d6c2067-c40a-45c3-8cd5-80b89b751dd1",
   "metadata": {},
   "source": [
    "- For the native API, must format data as '[{\"key\":\"value\"}]'\n",
    "- [{'key':'value'}]\" doesn't work - that's not valid json.\n",
    "- Annoying, since python env defaults to ' over \" but it's only a factor for these few methods."
   ]
  },
  {
   "cell_type": "code",
   "execution_count": 32,
   "id": "9ce4d422-ec3a-4fda-82ba-2dd8cd2744fe",
   "metadata": {},
   "outputs": [
    {
     "name": "stdout",
     "output_type": "stream",
     "text": [
      "HTTP Status: 200\n",
      "{'count': 1}\n"
     ]
    }
   ],
   "source": [
    "# native API method\n",
    "#!/usr/bin/env python\n",
    "import requests\n",
    "data = {\n",
    "    'token': longitudinal_token,\n",
    "    'content': 'record',\n",
    "    'action': 'import',\n",
    "    'format': 'json',\n",
    "    'type': 'flat',\n",
    "    'overwriteBehavior': 'normal',\n",
    "    'forceAutoNumber': 'false',\n",
    "    'data': data2,\n",
    "    'returnContent': 'count',\n",
    "    'returnFormat': 'json'\n",
    "}\n",
    "\n",
    "r = requests.post('https://dev-redcap.doh.wa.gov/api/',data=data)\n",
    "print('HTTP Status: ' + str(r.status_code))\n",
    "print(r.json())"
   ]
  },
  {
   "cell_type": "markdown",
   "id": "3b4d2d8d-4b40-4e88-a6d6-75fc7962c3c0",
   "metadata": {},
   "source": [
    "### Instrument Event Mapping: Native API"
   ]
  },
  {
   "cell_type": "code",
   "execution_count": 38,
   "id": "a2eabe7a-302e-4c5a-9db6-a5dce2f26f9d",
   "metadata": {},
   "outputs": [],
   "source": [
    "inst_map = '[{\"arm_num\": \"1\", \"unique_event_name\": \"personal_info_arm_1\", \"form\": \"demographics\"},{\"arm_num\": \"1\", \"unique_event_name\": \"case_intake_arm_1\", \"form\": \"symptoms\"},{\"arm_num\": \"1\",\"unique_event_name\": \"case_intake_arm_1\",\"form\": \"test_information\"}, {\"arm_num\": \"1\",\"unique_event_name\": \"notifications_arm_1\",\"form\": \"close_contacts\"}, {\"arm_num\": \"1\",\"unique_event_name\": \"notifications_arm_1\", \"form\": \"work_information\"}]'"
   ]
  },
  {
   "cell_type": "code",
   "execution_count": 47,
   "id": "0359884c-59bf-47ed-b59a-8caa8697bdfd",
   "metadata": {},
   "outputs": [
    {
     "name": "stdout",
     "output_type": "stream",
     "text": [
      "HTTP Status: 200\n",
      "5\n"
     ]
    }
   ],
   "source": [
    "# Native API can import instrument event mapping.\n",
    "data = {\n",
    "    'token': token,\n",
    "    'content': 'formEventMapping',\n",
    "    'data': inst_map,\n",
    "    'format': 'json',\n",
    "    'returnFormat': 'json'\n",
    "}\n",
    "r = requests.post('https://dev-redcap.doh.wa.gov/api/',data=data)\n",
    "print('HTTP Status: ' + str(r.status_code))\n",
    "print(r.json())"
   ]
  },
  {
   "cell_type": "code",
   "execution_count": null,
   "id": "061f3970-109f-4013-aad4-8626b9aa5cb5",
   "metadata": {},
   "outputs": [],
   "source": []
  }
 ],
 "metadata": {
  "kernelspec": {
   "display_name": "Python 3 (ipykernel)",
   "language": "python",
   "name": "python3"
  },
  "language_info": {
   "codemirror_mode": {
    "name": "ipython",
    "version": 3
   },
   "file_extension": ".py",
   "mimetype": "text/x-python",
   "name": "python",
   "nbconvert_exporter": "python",
   "pygments_lexer": "ipython3",
   "version": "3.12.2"
  },
  "toc-autonumbering": true,
  "toc-showcode": false,
  "toc-showmarkdowntxt": false
 },
 "nbformat": 4,
 "nbformat_minor": 5
}
