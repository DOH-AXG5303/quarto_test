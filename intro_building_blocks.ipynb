{
 "cells": [
  {
   "cell_type": "markdown",
   "id": "7667cf45-a54c-4326-b853-2e0717486f50",
   "metadata": {},
   "source": [
    "# REDCap Data Building Blocks {#sec-building_blocks}"
   ]
  },
  {
   "cell_type": "markdown",
   "id": "90ec7f03-de60-4d83-a198-52e2b39429d0",
   "metadata": {},
   "source": [
    "![](./files/building_blocks.png)"
   ]
  },
  {
   "cell_type": "markdown",
   "id": "79bbb7b5-907c-4ffd-bd02-95db10fd4be4",
   "metadata": {},
   "source": [
    "*For examples of REDCap project set-ups and exported data, see @sec-intro_data_structure.*"
   ]
  },
  {
   "cell_type": "code",
   "execution_count": null,
   "id": "10f1ae45-2546-40b3-9d86-5985b77310d5",
   "metadata": {},
   "outputs": [],
   "source": []
  }
 ],
 "metadata": {
  "kernelspec": {
   "display_name": "Python 3 (ipykernel)",
   "language": "python",
   "name": "python3"
  },
  "language_info": {
   "codemirror_mode": {
    "name": "ipython",
    "version": 3
   },
   "file_extension": ".py",
   "mimetype": "text/x-python",
   "name": "python",
   "nbconvert_exporter": "python",
   "pygments_lexer": "ipython3",
   "version": "3.12.2"
  }
 },
 "nbformat": 4,
 "nbformat_minor": 5
}
