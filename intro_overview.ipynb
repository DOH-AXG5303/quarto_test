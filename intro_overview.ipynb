{
 "cells": [
  {
   "cell_type": "markdown",
   "id": "691c1968-b7b7-43e5-b872-c007d7e6d064",
   "metadata": {},
   "source": [
    "# REDCap Overview "
   ]
  },
  {
   "cell_type": "markdown",
   "id": "6dbc7de6-4126-4453-91ea-0917a5beae22",
   "metadata": {},
   "source": [
    "[REDCap](https://www.project-redcap.org/) is a web-based application developed by Vanderbilt University to capture data for clinical research and create databases and projects. REDCap revolutionizes the survey development process and empowers users to rapidly create surveys tailored to their specific public health needs. REDCap allows the main administrator of a project to assign specific rights to individuals to access data and create reports. REDCap also provides clear audit trails for tracking the history of data entry and revision. *For more information, see the Daily Dose article on REDCap [here.](https://stateofwa.sharepoint.com/sites/DOH-dailydose/SitePages/Welcome-to-REDCap,-your-tool-for-public-health-data-management-success!.aspx?xsdata=MDV8MDJ8fDY0MjMzNWIyOTQwZjQzNjk0MTRlMDhkYzAwYzYyNjg4fDExZDBlMjE3MjY0ZTQwMGE4YmEwNTdkY2MxMjdkNzJkfDB8MHw2MzgzODYwOTgyMjk3NTYyMzh8VW5rbm93bnxWR1ZoYlhOVFpXTjFjbWwwZVZObGNuWnBZMlY4ZXlKV0lqb2lNQzR3TGpBd01EQWlMQ0pRSWpvaVYybHVNeklpTENKQlRpSTZJazkwYUdWeUlpd2lWMVFpT2pFeGZRPT18MXxMMk5vWVhSekx6RTVPbTFsWlhScGJtZGZUMGRTYkU1RVZtcE5iVVYwVDFSTk5WcHBNREJhYWxrd1RGZEthMDFVUlhSYWFrVjRUbnBzYWs5RVJtcGFSRnBwUUhSb2NtVmhaQzUyTWk5dFpYTnpZV2RsY3k4eE56QXpNREV6TURBMk9URTJ8OWEzZGY2NTg0MTgwNDE5OTQxNGUwOGRjMDBjNjI2ODh8MjI0NGZhYzdiNjc5NGI2YmFhMjU4NDg4NGQ1MGViMTU%3D&sdata=THg5c1g2dy9FajR5RmpMNXBsRUtCWDRKQTZqYUF6eEQyMUJ1dVM2WTVjaz0%3D&ovuser=11d0e217-264e-400a-8ba0-57dcc127d72d%2CEmily.Pearman%40doh.wa.gov&OR=Teams-HL&CT=1703015604587&clickparams=eyJBcHBOYW1lIjoiVGVhbXMtRGVza3RvcCIsIkFwcFZlcnNpb24iOiIyNy8yMzExMDIyNDcwNSIsIkhhc0ZlZGVyYXRlZFVzZXIiOmZhbHNlfQ%3D%3D)*"
   ]
  },
  {
   "cell_type": "code",
   "execution_count": null,
   "id": "10f1ae45-2546-40b3-9d86-5985b77310d5",
   "metadata": {},
   "outputs": [],
   "source": []
  }
 ],
 "metadata": {
  "kernelspec": {
   "display_name": "Python 3 (ipykernel)",
   "language": "python",
   "name": "python3"
  },
  "language_info": {
   "codemirror_mode": {
    "name": "ipython",
    "version": 3
   },
   "file_extension": ".py",
   "mimetype": "text/x-python",
   "name": "python",
   "nbconvert_exporter": "python",
   "pygments_lexer": "ipython3",
   "version": "3.12.2"
  }
 },
 "nbformat": 4,
 "nbformat_minor": 5
}
