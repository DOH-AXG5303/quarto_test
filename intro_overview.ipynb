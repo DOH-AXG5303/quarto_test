{
 "cells": [
  {
   "cell_type": "markdown",
   "id": "691c1968-b7b7-43e5-b872-c007d7e6d064",
   "metadata": {},
   "source": [
    "# REDCap Overview "
   ]
  },
  {
   "cell_type": "markdown",
   "id": "6dbc7de6-4126-4453-91ea-0917a5beae22",
   "metadata": {},
   "source": [
    "[REDCap](https://www.project-redcap.org/) (Research Electronic Data Capture) is a secure web application developed by Vanderbilt University in 2004, designed to facilitate data collection and management for research studies. It enables researchers to build and manage online surveys and databases quickly and efficiently, offering a robust set of features including customizable data collection instruments, SMS or email notifications, API import/export capability,  audit trails, and user rights management. Initially created to support academic research, REDCap has since grown into a global consortium with over 5,000 institutional partners, supporting diverse projects in clinical, translational, and behavioral research. Its purpose is to streamline data management processes, ensuring data integrity, security, and compliance with regulatory standards"
   ]
  },
  {
   "cell_type": "markdown",
   "id": "fd4147c0",
   "metadata": {},
   "source": []
  }
 ],
 "metadata": {
  "kernelspec": {
   "display_name": "Python 3 (ipykernel)",
   "language": "python",
   "name": "python3"
  },
  "language_info": {
   "codemirror_mode": {
    "name": "ipython",
    "version": 3
   },
   "file_extension": ".py",
   "mimetype": "text/x-python",
   "name": "python",
   "nbconvert_exporter": "python",
   "pygments_lexer": "ipython3",
   "version": "3.12.2"
  }
 },
 "nbformat": 4,
 "nbformat_minor": 5
}
