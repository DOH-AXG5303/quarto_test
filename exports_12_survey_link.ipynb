{
 "cells": [
  {
   "cell_type": "markdown",
   "metadata": {},
   "source": [
    "# Survey Link (REDCapR Only)"
   ]
  },
  {
   "cell_type": "markdown",
   "metadata": {},
   "source": [
    "::: {.content-hidden when-format=\"html\"}"
   ]
  },
  {
   "cell_type": "markdown",
   "metadata": {},
   "source": [
    "## Project Setup\n",
    "\n",
    "Install and load the necessary packages"
   ]
  },
  {
   "cell_type": "code",
   "execution_count": 159,
   "metadata": {},
   "outputs": [],
   "source": [
    "#| echo: false\n",
    "#| output: false\n",
    "import os\n",
    "os.environ['R_HOME'] = f'C:/Users/{os.environ.get('USERNAME')}/Miniconda3/envs/r_python_jl/Lib/R'"
   ]
  },
  {
   "cell_type": "code",
   "execution_count": 160,
   "metadata": {},
   "outputs": [
    {
     "name": "stdout",
     "output_type": "stream",
     "text": [
      "The rpy2.ipython extension is already loaded. To reload it, use:\n",
      "  %reload_ext rpy2.ipython\n"
     ]
    }
   ],
   "source": [
    "#| echo: false\n",
    "#| output: false\n",
    "%load_ext rpy2.ipython\n",
    "# only have to run once to allow the R magic command"
   ]
  },
  {
   "cell_type": "markdown",
   "metadata": {},
   "source": [
    "::: {.panel-tabset}\n",
    "\n",
    "#### R"
   ]
  },
  {
   "cell_type": "code",
   "execution_count": 161,
   "metadata": {},
   "outputs": [],
   "source": [
    "%%capture \n",
    "%%R\n",
    "\n",
    "library(\"dplyr\")\n",
    "library(\"jsonlite\")\n",
    "library(\"tidyr\")\n",
    "library(\"REDCapR\")\n",
    "library(\"knitr\")\n",
    "library(\"remotes\")\n",
    "library(\"gt\")"
   ]
  },
  {
   "cell_type": "code",
   "execution_count": 162,
   "metadata": {},
   "outputs": [
    {
     "name": "stdout",
     "output_type": "stream",
     "text": [
      "[1] '1.1.9005'\n"
     ]
    }
   ],
   "source": [
    "%%capture --no-display --no-stdout\n",
    "%%R\n",
    "\n",
    "version <- packageVersion(\"REDCapR\")\n",
    "version"
   ]
  },
  {
   "cell_type": "markdown",
   "metadata": {},
   "source": [
    "In this project, we will use the bleeding edge version of REDCapR available on Github"
   ]
  },
  {
   "cell_type": "code",
   "execution_count": 163,
   "metadata": {},
   "outputs": [
    {
     "name": "stdout",
     "output_type": "stream",
     "text": [
      "[1] \"REDCapR package up to date\"\n"
     ]
    }
   ],
   "source": [
    "%%capture --no-display --no-stdout\n",
    "%%R\n",
    "\n",
    "# Detach REDCapR if already loaded, and download the latest version\n",
    "if (version!='1.1.9005') {\n",
    "    detach(\"package:REDCapR\", unload=TRUE)\n",
    "    remotes::install_github(\"OuhscBbmc/REDCapR\")\n",
    "    library(\"REDCapR\")\n",
    "    print(packageVersion(\"REDCapR\"))\n",
    "}\n",
    "\n",
    "else {\n",
    "    print(\"REDCapR package up to date\")\n",
    "}"
   ]
  },
  {
   "cell_type": "markdown",
   "metadata": {},
   "source": [
    "#### Python"
   ]
  },
  {
   "cell_type": "code",
   "execution_count": 164,
   "metadata": {
    "scrolled": true
   },
   "outputs": [],
   "source": [
    "# import pycap\n",
    "import redcap\n",
    "import json\n",
    "import pandas as pd\n",
    "# import requests"
   ]
  },
  {
   "cell_type": "markdown",
   "metadata": {},
   "source": [
    ":::"
   ]
  },
  {
   "cell_type": "markdown",
   "metadata": {},
   "source": [
    "Assign your project URL and Token"
   ]
  },
  {
   "cell_type": "markdown",
   "metadata": {},
   "source": [
    "::: {.panel-tabset}\n",
    "\n",
    "#### R"
   ]
  },
  {
   "cell_type": "code",
   "execution_count": 178,
   "metadata": {},
   "outputs": [],
   "source": [
    "%%R\n",
    "path = paste0(\"C:/Users/\", Sys.getenv(\"USERNAME\"), '/json_api_data.json')\n",
    "token <- jsonlite::fromJSON(path)$dev_token$'308'\n",
    "url <- \"https://dev-redcap.doh.wa.gov/api/\""
   ]
  },
  {
   "cell_type": "markdown",
   "metadata": {},
   "source": [
    "#### Python"
   ]
  },
  {
   "cell_type": "code",
   "execution_count": 180,
   "metadata": {
    "scrolled": true
   },
   "outputs": [],
   "source": [
    "path_to_json = f\"C:/Users/{os.environ.get('USERNAME')}/json_api_data.json\"\n",
    "api_key = json.load(open(path_to_json))\n",
    "api_token = api_key['dev_token']['308']\n",
    "api_url = api_key['dev_url']\n",
    "project = redcap.Project(api_url, api_token)"
   ]
  },
  {
   "cell_type": "markdown",
   "metadata": {},
   "source": [
    ":::"
   ]
  },
  {
   "cell_type": "markdown",
   "metadata": {},
   "source": [
    ":::"
   ]
  },
  {
   "cell_type": "markdown",
   "metadata": {},
   "source": [
    "::: {.panel-tabset}\n",
    "\n",
    "#### R\n",
    "\n",
    "`redcap_survey_link_export_oneshot()`"
   ]
  },
  {
   "cell_type": "markdown",
   "metadata": {},
   "source": [
    "To export the survey link, the instrument must be enabled as a survey in REDCap. If it is a longitudinal survey, you must specify the event name (and instance if repeating) along with the instrument name. This export can only return a survey link for already existing records."
   ]
  },
  {
   "cell_type": "code",
   "execution_count": 194,
   "metadata": {
    "tags": []
   },
   "outputs": [],
   "source": [
    "%%capture\n",
    "%%R \n",
    "link <- redcap_survey_link_export_oneshot(\n",
    "    record = 6,\n",
    "    instrument = \"test_information\",\n",
    "    redcap_uri = url,\n",
    "    token = token,\n",
    "    event = \"case_intake_arm_1\"\n",
    ")\n",
    "result$survey_link"
   ]
  },
  {
   "cell_type": "code",
   "execution_count": 195,
   "metadata": {},
   "outputs": [
    {
     "name": "stdout",
     "output_type": "stream",
     "text": [
      "[1] \"https://dev-redcap.doh.wa.gov/surveys/?s=k4z7SZWpuKBi4mQt\"\n"
     ]
    }
   ],
   "source": [
    "%%R\n",
    "link$survey_link"
   ]
  },
  {
   "cell_type": "markdown",
   "metadata": {},
   "source": [
    ":::"
   ]
  }
 ],
 "metadata": {
  "kernelspec": {
   "display_name": "Python 3 (ipykernel)",
   "language": "python",
   "name": "python3"
  },
  "language_info": {
   "codemirror_mode": {
    "name": "ipython",
    "version": 3
   },
   "file_extension": ".py",
   "mimetype": "text/x-python",
   "name": "python",
   "nbconvert_exporter": "python",
   "pygments_lexer": "ipython3",
   "version": "3.12.2"
  }
 },
 "nbformat": 4,
 "nbformat_minor": 4
}
