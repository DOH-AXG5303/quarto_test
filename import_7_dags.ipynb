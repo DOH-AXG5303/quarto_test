{
 "cells": [
  {
   "cell_type": "markdown",
   "id": "15a2ba1b-5d97-4d4b-9b2d-c56fa2ca0a90",
   "metadata": {},
   "source": [
    "# Data Access Groups (DAGs)"
   ]
  },
  {
   "cell_type": "markdown",
   "id": "9ad8a37a-8eaf-4eab-bb61-4514e9f8766c",
   "metadata": {},
   "source": [
    "::: {.content-hidden when-format=\"html\"}"
   ]
  },
  {
   "cell_type": "code",
   "execution_count": 1,
   "id": "2d79f6e1-d4b1-4113-9a3e-9649a3563217",
   "metadata": {},
   "outputs": [],
   "source": [
    "#| echo: false\n",
    "#| output: false\n",
    "import os\n",
    "os.environ['R_HOME'] = f'C:/Users/{os.environ.get('USERNAME')}/Miniconda3/envs/r_python_jl/Lib/R'"
   ]
  },
  {
   "cell_type": "code",
   "execution_count": 2,
   "id": "5454914c-accb-4d92-977c-226c19e5ca9f",
   "metadata": {},
   "outputs": [
    {
     "name": "stderr",
     "output_type": "stream",
     "text": [
      "C:\\Users\\CMD3303\\Miniconda3\\envs\\r_python_jl\\Lib\\site-packages\\rpy2\\robjects\\packages.py:367: UserWarning: The symbol 'quartz' is not in this R namespace/package.\n",
      "  warnings.warn(\n"
     ]
    }
   ],
   "source": [
    "#| echo: false\n",
    "#| output: false\n",
    "# enables the %%R magic, not necessary if you've already done this\n",
    "%load_ext rpy2.ipython\n",
    "# only have to run once to allow the R magic command"
   ]
  },
  {
   "cell_type": "markdown",
   "id": "54e1d64d-b83b-44c5-baf0-d5a8e810d5d3",
   "metadata": {},
   "source": [
    "### Project Setup\n",
    "\n",
    "::: {.panel-tabset}\n",
    "\n",
    "#### R"
   ]
  },
  {
   "cell_type": "code",
   "execution_count": 3,
   "id": "6c7868bb-e4cb-43e2-85b1-ef66d5ed0ca7",
   "metadata": {
    "tags": []
   },
   "outputs": [],
   "source": [
    "%%capture --no-display \n",
    "%%R\n",
    "library(\"dplyr\")\n",
    "library(\"jsonlite\")\n",
    "library(\"tidyr\")\n",
    "library(\"REDCapR\")\n",
    "library(\"knitr\")\n",
    "library(\"remotes\")\n",
    "library(\"gt\")"
   ]
  },
  {
   "cell_type": "code",
   "execution_count": 4,
   "id": "697807fb-7812-4cd8-b698-b136be02b239",
   "metadata": {},
   "outputs": [
    {
     "name": "stdout",
     "output_type": "stream",
     "text": [
      "[1] '1.1.9005'\n"
     ]
    }
   ],
   "source": [
    "%%capture --no-display --no-stdout\n",
    "%%R\n",
    "\n",
    "# Detach REDCapR if already loaded, and download the latest version\n",
    "if (version!='1.1.9005') {\n",
    "    detach(\"package:REDCapR\", unload=TRUE)\n",
    "    remotes::install_github(\"OuhscBbmc/REDCapR\")\n",
    "    library(\"REDCapR\")\n",
    "    print(packageVersion(\"REDCapR\"))\n",
    "}\n",
    "\n",
    "else {\n",
    "    print(\"REDCapR package up to date\")\n",
    "}"
   ]
  },
  {
   "cell_type": "code",
   "execution_count": 5,
   "id": "2b0e46df-012a-412b-a91d-54c3d9d2a4fb",
   "metadata": {
    "tags": []
   },
   "outputs": [],
   "source": [
    "%%R\n",
    "# Load API tokens from the json file\n",
    "token <- jsonlite::fromJSON('./../../json_api_data.json')$dev_token$'309'\n",
    "url <- \"https://dev-redcap.doh.wa.gov/api/\""
   ]
  },
  {
   "cell_type": "markdown",
   "id": "d084af26-b0f6-4a7d-9494-1d72627ffdac",
   "metadata": {},
   "source": [
    "#### Python"
   ]
  },
  {
   "cell_type": "code",
   "execution_count": 6,
   "id": "6a06455c-3201-4bb2-bf38-56cfe6476bd1",
   "metadata": {},
   "outputs": [],
   "source": [
    "import redcap\n",
    "import json\n",
    "import csv\n",
    "import pandas as pd\n",
    "import numpy as np\n",
    "import requests\n",
    "import tempfile"
   ]
  },
  {
   "cell_type": "code",
   "execution_count": 7,
   "id": "9f995e13-651c-4902-ac46-a19466eb4f12",
   "metadata": {},
   "outputs": [],
   "source": [
    "# Load API tokens from the json file\n",
    "key = json.load(open('./../../json_api_data.json'))\n",
    "token = key['dev_token']['309']\n",
    "url = key['dev_url']\n",
    "\n",
    "project = redcap.Project(url, token)"
   ]
  },
  {
   "cell_type": "markdown",
   "id": "765fe288-915b-41d4-a908-14f9076dee68",
   "metadata": {},
   "source": [
    ":::"
   ]
  },
  {
   "cell_type": "markdown",
   "id": "1b482cae-7256-418d-8fb4-56ccb00ac855",
   "metadata": {},
   "source": [
    ":::"
   ]
  },
  {
   "cell_type": "markdown",
   "id": "7dd06dce-7b59-4e99-a57e-48164c2499ab",
   "metadata": {},
   "source": [
    "In addition to user roles for access control, DAGs control which records each user can access. Users assigned to a DAG can only access records assigned to that particular DAG, and are blinded to records outside of their group. DAGs are particularly useful in multi-site or multi-jurisdictional projects to restrict sites from viewing records from other sites.  \n",
    "\n",
    "Users can be assigned to a DAG after being added to the project. Users can be in multiple DAGs. Users not assigned to any DAG have global access and can see all records in the project. \n",
    "\n",
    "Records are assigned to DAG's using the 'Record Status Dashboard' in REDCap."
   ]
  },
  {
   "cell_type": "markdown",
   "id": "1d29dbb0-2d8f-4e85-8f48-30db416c0703",
   "metadata": {},
   "source": [
    "::: {.panel-tabset}\n",
    "\n",
    "#### R\n",
    "\n",
    "Cannot be imported with REDCapR. *See @sec-import_limitations for more information.* \n",
    "\n",
    "#### Python\n",
    "\n",
    "DAGs can be imported using `import_dags()` and assigned using `import_user_dag_assignment()`. If the API user is assigned to multiple DAGs, they can be switched between DAGs using `switch_dag()`. "
   ]
  },
  {
   "cell_type": "markdown",
   "id": "7ac59185-f069-4086-96f1-a4b7c9536d77",
   "metadata": {},
   "source": [
    "View the current DAGs by exporting them:"
   ]
  },
  {
   "cell_type": "code",
   "execution_count": 8,
   "id": "bd5f20f6-9405-469a-b1ad-e1e8ebbf26dd",
   "metadata": {},
   "outputs": [
    {
     "data": {
      "text/html": [
       "<div>\n",
       "<style scoped>\n",
       "    .dataframe tbody tr th:only-of-type {\n",
       "        vertical-align: middle;\n",
       "    }\n",
       "\n",
       "    .dataframe tbody tr th {\n",
       "        vertical-align: top;\n",
       "    }\n",
       "\n",
       "    .dataframe thead th {\n",
       "        text-align: right;\n",
       "    }\n",
       "</style>\n",
       "<table border=\"1\" class=\"dataframe\">\n",
       "  <thead>\n",
       "    <tr style=\"text-align: right;\">\n",
       "      <th></th>\n",
       "      <th>data_access_group_name</th>\n",
       "      <th>unique_group_name</th>\n",
       "      <th>data_access_group_id</th>\n",
       "    </tr>\n",
       "  </thead>\n",
       "  <tbody>\n",
       "    <tr>\n",
       "      <th>0</th>\n",
       "      <td>Full Access</td>\n",
       "      <td>full_access</td>\n",
       "      <td>2708</td>\n",
       "    </tr>\n",
       "    <tr>\n",
       "      <th>1</th>\n",
       "      <td>Limited Access</td>\n",
       "      <td>limited_access</td>\n",
       "      <td>2709</td>\n",
       "    </tr>\n",
       "  </tbody>\n",
       "</table>\n",
       "</div>"
      ],
      "text/plain": [
       "  data_access_group_name unique_group_name  data_access_group_id\n",
       "0            Full Access       full_access                  2708\n",
       "1         Limited Access    limited_access                  2709"
      ]
     },
     "execution_count": 8,
     "metadata": {},
     "output_type": "execute_result"
    }
   ],
   "source": [
    "dags = project.export_dags(format_type='df')\n",
    "dags"
   ]
  },
  {
   "cell_type": "markdown",
   "id": "be0b8cb2-d4e4-49bb-ada9-731b1eecf46b",
   "metadata": {},
   "source": [
    "Create and import a new DAG:"
   ]
  },
  {
   "cell_type": "code",
   "execution_count": 9,
   "id": "d4f6e7f4-dbcc-47b7-b0a4-4db172cb0b9a",
   "metadata": {},
   "outputs": [
    {
     "data": {
      "text/plain": [
       "1"
      ]
     },
     "execution_count": 9,
     "metadata": {},
     "output_type": "execute_result"
    }
   ],
   "source": [
    "new_dag = [{\"data_access_group_name\": \"Test DAG\", \"unique_group_name\": \"\"}]\n",
    "project.import_dags(new_dag)"
   ]
  },
  {
   "cell_type": "markdown",
   "id": "e58b56dd-d02f-408a-bf96-bfc06a6cf477",
   "metadata": {},
   "source": [
    "**Note:** the `unique_group_name` field must be left blank as this is auto-generated by REDCap from the `data_access_group_name`.\n",
    "\n",
    "The newly created DAG can now be seen and assigned to."
   ]
  },
  {
   "cell_type": "code",
   "execution_count": 10,
   "id": "7284f1b2-72f2-4fb7-868d-cd6ecc13a90e",
   "metadata": {},
   "outputs": [
    {
     "data": {
      "text/html": [
       "<div>\n",
       "<style scoped>\n",
       "    .dataframe tbody tr th:only-of-type {\n",
       "        vertical-align: middle;\n",
       "    }\n",
       "\n",
       "    .dataframe tbody tr th {\n",
       "        vertical-align: top;\n",
       "    }\n",
       "\n",
       "    .dataframe thead th {\n",
       "        text-align: right;\n",
       "    }\n",
       "</style>\n",
       "<table border=\"1\" class=\"dataframe\">\n",
       "  <thead>\n",
       "    <tr style=\"text-align: right;\">\n",
       "      <th></th>\n",
       "      <th>data_access_group_name</th>\n",
       "      <th>unique_group_name</th>\n",
       "      <th>data_access_group_id</th>\n",
       "    </tr>\n",
       "  </thead>\n",
       "  <tbody>\n",
       "    <tr>\n",
       "      <th>0</th>\n",
       "      <td>Full Access</td>\n",
       "      <td>full_access</td>\n",
       "      <td>2708</td>\n",
       "    </tr>\n",
       "    <tr>\n",
       "      <th>1</th>\n",
       "      <td>Limited Access</td>\n",
       "      <td>limited_access</td>\n",
       "      <td>2709</td>\n",
       "    </tr>\n",
       "    <tr>\n",
       "      <th>2</th>\n",
       "      <td>Test DAG</td>\n",
       "      <td>test_dag</td>\n",
       "      <td>2721</td>\n",
       "    </tr>\n",
       "  </tbody>\n",
       "</table>\n",
       "</div>"
      ],
      "text/plain": [
       "  data_access_group_name unique_group_name  data_access_group_id\n",
       "0            Full Access       full_access                  2708\n",
       "1         Limited Access    limited_access                  2709\n",
       "2               Test DAG          test_dag                  2721"
      ]
     },
     "execution_count": 10,
     "metadata": {},
     "output_type": "execute_result"
    }
   ],
   "source": [
    "dags = project.export_dags(format_type='df')\n",
    "dags"
   ]
  },
  {
   "cell_type": "code",
   "execution_count": 11,
   "id": "081b8ae0-75e8-4c7f-8bf5-71be05370913",
   "metadata": {},
   "outputs": [
    {
     "data": {
      "text/plain": [
       "1"
      ]
     },
     "execution_count": 11,
     "metadata": {},
     "output_type": "execute_result"
    }
   ],
   "source": [
    "dag_mapping = [{\"username\": 'alexey.gilman@doh.wa.gov', \"redcap_data_access_group\": \"test_dag\"}]\n",
    "project.import_user_dag_assignment(dag_mapping)"
   ]
  },
  {
   "cell_type": "markdown",
   "id": "c47686a4-be50-4193-846a-faca633c6d90",
   "metadata": {},
   "source": [
    "**Note:** the `redcap_data_access_group` name when importing is the same as `unique_group_name` when exporting DAGs."
   ]
  },
  {
   "cell_type": "markdown",
   "id": "792aec6e-b03c-4386-ae41-e39ea25972de",
   "metadata": {},
   "source": [
    "::: {.content-hidden when-format=\"html\"}"
   ]
  },
  {
   "cell_type": "code",
   "execution_count": 12,
   "id": "2fc0edf8-dd66-4c22-99dd-500f5593d7b1",
   "metadata": {},
   "outputs": [
    {
     "data": {
      "text/plain": [
       "1"
      ]
     },
     "execution_count": 12,
     "metadata": {},
     "output_type": "execute_result"
    }
   ],
   "source": [
    "project.delete_dags([\"test_dag\"])"
   ]
  },
  {
   "cell_type": "markdown",
   "id": "903a0378-cd4c-4792-8343-fd6c2940f9a7",
   "metadata": {},
   "source": [
    ":::"
   ]
  },
  {
   "cell_type": "markdown",
   "id": "387ce0a1-024e-42e6-9a4d-a4cede3d7bd5",
   "metadata": {},
   "source": [
    ":::"
   ]
  },
  {
   "cell_type": "code",
   "execution_count": null,
   "id": "f0b3ac9d-b9a8-42ec-8fd5-3d1d0d3c0513",
   "metadata": {},
   "outputs": [],
   "source": []
  }
 ],
 "metadata": {
  "kernelspec": {
   "display_name": "Python 3 (ipykernel)",
   "language": "python",
   "name": "python3"
  },
  "language_info": {
   "codemirror_mode": {
    "name": "ipython",
    "version": 3
   },
   "file_extension": ".py",
   "mimetype": "text/x-python",
   "name": "python",
   "nbconvert_exporter": "python",
   "pygments_lexer": "ipython3",
   "version": "3.12.2"
  }
 },
 "nbformat": 4,
 "nbformat_minor": 5
}
