{
 "cells": [
  {
   "cell_type": "markdown",
   "id": "691c1968-b7b7-43e5-b872-c007d7e6d064",
   "metadata": {},
   "source": [
    "# R/Python Packages for REDCap's API"
   ]
  },
  {
   "cell_type": "markdown",
   "id": "6dbc7de6-4126-4453-91ea-0917a5beae22",
   "metadata": {},
   "source": [
    "R and Python both have packages that make it easy to work with REDCap's API. We recommend [REDCapR](https://ouhscbbmc.github.io/REDCapR/index.html) in R and [PyCap](https://redcap-tools.github.io/PyCap/) in Python. We will be using each of these packages to provide examples of different import and export options throughout this guide."
   ]
  },
  {
   "cell_type": "code",
   "execution_count": null,
   "id": "10f1ae45-2546-40b3-9d86-5985b77310d5",
   "metadata": {},
   "outputs": [],
   "source": []
  }
 ],
 "metadata": {
  "kernelspec": {
   "display_name": "Python 3 (ipykernel)",
   "language": "python",
   "name": "python3"
  },
  "language_info": {
   "codemirror_mode": {
    "name": "ipython",
    "version": 3
   },
   "file_extension": ".py",
   "mimetype": "text/x-python",
   "name": "python",
   "nbconvert_exporter": "python",
   "pygments_lexer": "ipython3",
   "version": "3.12.2"
  }
 },
 "nbformat": 4,
 "nbformat_minor": 5
}
