{
 "cells": [
  {
   "cell_type": "markdown",
   "id": "691c1968-b7b7-43e5-b872-c007d7e6d064",
   "metadata": {},
   "source": [
    "# REDCap Overview {.unnumbered}"
   ]
  },
  {
   "cell_type": "markdown",
   "id": "6dbc7de6-4126-4453-91ea-0917a5beae22",
   "metadata": {},
   "source": [
    "REDCap is a web-based application developed by Vanderbilt University to capture data for clinical research and create databases and projects. REDCap revolutionizes the survey development process and empowers users to rapidly create surveys tailored to their specific public health needs. REDCap allows the main administrator of a project to assign specific rights to individuals to access data and create reports. REDCap also provides clear audit trails for tracking the history of data entry and revision. *For more information, see the Daily Dose article on REDCap [here.](https://stateofwa.sharepoint.com/sites/DOH-dailydose/SitePages/Welcome-to-REDCap,-your-tool-for-public-health-data-management-success!.aspx?xsdata=MDV8MDJ8fDY0MjMzNWIyOTQwZjQzNjk0MTRlMDhkYzAwYzYyNjg4fDExZDBlMjE3MjY0ZTQwMGE4YmEwNTdkY2MxMjdkNzJkfDB8MHw2MzgzODYwOTgyMjk3NTYyMzh8VW5rbm93bnxWR1ZoYlhOVFpXTjFjbWwwZVZObGNuWnBZMlY4ZXlKV0lqb2lNQzR3TGpBd01EQWlMQ0pRSWpvaVYybHVNeklpTENKQlRpSTZJazkwYUdWeUlpd2lWMVFpT2pFeGZRPT18MXxMMk5vWVhSekx6RTVPbTFsWlhScGJtZGZUMGRTYkU1RVZtcE5iVVYwVDFSTk5WcHBNREJhYWxrd1RGZEthMDFVUlhSYWFrVjRUbnBzYWs5RVJtcGFSRnBwUUhSb2NtVmhaQzUyTWk5dFpYTnpZV2RsY3k4eE56QXpNREV6TURBMk9URTJ8OWEzZGY2NTg0MTgwNDE5OTQxNGUwOGRjMDBjNjI2ODh8MjI0NGZhYzdiNjc5NGI2YmFhMjU4NDg4NGQ1MGViMTU%3D&sdata=THg5c1g2dy9FajR5RmpMNXBsRUtCWDRKQTZqYUF6eEQyMUJ1dVM2WTVjaz0%3D&ovuser=11d0e217-264e-400a-8ba0-57dcc127d72d%2CEmily.Pearman%40doh.wa.gov&OR=Teams-HL&CT=1703015604587&clickparams=eyJBcHBOYW1lIjoiVGVhbXMtRGVza3RvcCIsIkFwcFZlcnNpb24iOiIyNy8yMzExMDIyNDcwNSIsIkhhc0ZlZGVyYXRlZFVzZXIiOmZhbHNlfQ%3D%3D)*"
   ]
  },
  {
   "cell_type": "markdown",
   "id": "5da94f76-cbd8-4e8c-adf4-75e8dcb72375",
   "metadata": {},
   "source": [
    "## Definitions {.unnumbered}"
   ]
  },
  {
   "cell_type": "markdown",
   "id": "1508dc42-42f9-42ba-98ae-fbf770b7cda4",
   "metadata": {},
   "source": [
    "### Records\n",
    "\n",
    "Records are the set of information for a unique participant. Each record is composed of a number of fields (pieces of data), which can be spread across multiple instruments per record.  \n",
    "\n",
    "Exporting records returns all of the data entered into the record(s) of interest. By default, all records in the project will be returned. A subset of records can be specified.  \n",
    "\n",
    "The labels for the questions can be exported rather than the variable names. Similarly, the labels for the data entered can be exported instead of the corresponding raw numeric values that REDCap uses. "
   ]
  },
  {
   "cell_type": "markdown",
   "id": "0da07a56-9182-4c16-ac78-b9931084a131",
   "metadata": {},
   "source": [
    "### Fields\n",
    "\n",
    "Fields are the individual places where data can be recorded (e.g., a question on a survey).  \n",
    "\n",
    "Exporting field names will capture the variable name, choice values (when applicable; e.g., for checkbox fields), and the modified export field name with the choice value appended. "
   ]
  },
  {
   "cell_type": "markdown",
   "id": "26aa7bc8-509e-46d5-b07a-5adda384c365",
   "metadata": {},
   "source": [
    "### Instruments/Forms\n",
    "\n",
    "Instruments are a collection of fields to collect data. Instruments may be referred to as \"forms\" when being filled out by a project user or a \"survey\" when being filled out by external users (via a web link or email invitation). \n",
    "\n",
    "Instruments may be repeating or non-repeating and can be in either longitudinal or non-longitudinal projects. Repeating instruments can be set up to repeat a defined number of times or repeat an indefinite number of times. Each repeat is called an “instance”."
   ]
  },
  {
   "cell_type": "markdown",
   "id": "4b350925-29b6-46ba-827f-c4cf4fce3b29",
   "metadata": {},
   "source": [
    "### Events\n",
    "\n",
    "Events are required when a project is enabled as longitudinal. An event may be a temporal event during your longitudinal project, such as a participant visit or a task to be performed. The default is 1 event. Once a project is enabled as longitudinal, each instrument must be associated with an event. \n",
    "\n",
    "Events may be repeating or non-repeating. When an event is set to repeating, all the instruments in that event will be repeated together. You can also specify to have specific instrument independtly repeat within an event. Each repeat of an Event or independent instrument is called an “instance”."
   ]
  },
  {
   "cell_type": "markdown",
   "id": "90919871-f50f-486f-88a6-b7a171f6cb8d",
   "metadata": {},
   "source": [
    "### Arms\n",
    "\n",
    "Events can be grouped into 'arms'. There may be one or more arms for a project. Arms can be though of as different groups in a clinical trial (e.g., a test group and a control group). Each arm can have as many events as you wish. Each arm can have the same events or different events with different instruments. The default is 1 arm."
   ]
  },
  {
   "cell_type": "markdown",
   "id": "5b729f9b-2a02-4d45-b74b-f486b0e01550",
   "metadata": {},
   "source": [
    "### Metadata\n",
    "\n",
    "Metadata refers to the project's set up characteristics, including field attributes grouped by instrument assignment. Metadata can be thought of as the project's data dictionary."
   ]
  },
  {
   "cell_type": "markdown",
   "id": "1869c4f1-b5fe-4f6a-a3e9-f7f958a2f893",
   "metadata": {},
   "source": [
    "### Reports\n",
    "\n",
    "Reports are a good way to view data from multiple records at once. REDCap has two default reports (A & B) and additional custom reports can be created. Report A displays all data for all records, while Report B can be customized to display data from specified instruments or events. Data can be exported from custom reports using the auto-generated report ID number.   "
   ]
  },
  {
   "cell_type": "markdown",
   "id": "7667cf45-a54c-4326-b853-2e0717486f50",
   "metadata": {},
   "source": [
    "## REDCap Data Building Blocks"
   ]
  },
  {
   "cell_type": "markdown",
   "id": "90ec7f03-de60-4d83-a198-52e2b39429d0",
   "metadata": {},
   "source": [
    "![](./files/building_blocks.png)"
   ]
  },
  {
   "cell_type": "markdown",
   "id": "79bbb7b5-907c-4ffd-bd02-95db10fd4be4",
   "metadata": {},
   "source": [
    "*For examples of REDCap project set-ups and exported data, see <a href=\"#Example-REDCap-Projects-and-Data-Structures\">Example REDCap Projects and Data Structures</a>.*"
   ]
  },
  {
   "cell_type": "markdown",
   "id": "8f09d26c-83b3-42f0-9255-8075271742ee",
   "metadata": {
    "tags": []
   },
   "source": [
    "### Understanding the Data Structure"
   ]
  },
  {
   "cell_type": "markdown",
   "id": "93d953c0-7016-401b-a1d7-69ba65ebe5b7",
   "metadata": {},
   "source": [
    "#### Example REDCap Projects and Data Structures"
   ]
  },
  {
   "cell_type": "markdown",
   "id": "a4ab5866-94bf-43c7-841c-501f1c2cfc79",
   "metadata": {},
   "source": [
    "![](./files/project_examples_non-long.png)\n",
    "\n",
    "![](./files/project_examples_long_pt1.png)\n",
    "\n",
    "![](./files/project_examples_long_pt2.png)\n"
   ]
  },
  {
   "cell_type": "markdown",
   "id": "0a70f29a-b9b1-4f48-8511-a2df30f8a3bc",
   "metadata": {},
   "source": [
    "The base of every unique key is always the `record_id`. In non-longitudinal projects, there may also be a `repeat_instrument` and `repeat_instance` column if these features are enabled. In longitudinal projects, there will be an `event_name` column, as well as a `repeat_instance` column in the case of repeating events and a `repeat_instrument` column in the case of independently repeating instruments. \n",
    "\n",
    "This unique key applies for studies with and without multiple arms. Each value for the `event_name` includes the study arm as a suffix. The suffix will automatically be *\"_arm_1\"* for longitudinal studies without additional arms.  \n",
    "\n",
    "These special unique key fields must be appropriately filled out in the data being imported to REDCap."
   ]
  },
  {
   "cell_type": "markdown",
   "id": "27583245-0ab7-4b78-a291-6f61d2643219",
   "metadata": {},
   "source": [
    "#### Repeating Events and Independently Repeating Instruments"
   ]
  },
  {
   "cell_type": "markdown",
   "id": "00372308-a6d4-4ef1-b28b-4ca238d1c709",
   "metadata": {},
   "source": [
    "Data is exported from REDCap projects as one large table where the length of the table (number of columns) is equal to all the fields across all project instruments. \n",
    "\n",
    "Assuming no repeating instruments or events, there is one row per record in non-longitudinal projects and one row per record-event in longitudinal projects. In the case of independently repeating instruments and repeating events, there is one additional row per repeat instance per record. Each row has all fields across all instruments, but the fields (columns) not associated with the instruments for that event (rows) will be NA. *For visual examples of REDCap project set-ups, see <a href=\"#Example-REDCap-Projects-and-Data-Structures\">Example REDCap Projects and Data Structures</a>.*"
   ]
  },
  {
   "cell_type": "markdown",
   "id": "1d4249bc-e092-441e-97b2-026acc2c12e1",
   "metadata": {},
   "source": [
    "Regardless of how you choose to export REDCap project data (directly in REDCap or using an API), the data structure will be the same. Here is an example of the data structure for the REDCap project we will be using in this tutorial. "
   ]
  },
  {
   "cell_type": "raw",
   "id": "011430a5-0383-46c5-bf68-f7ce3110f5ca",
   "metadata": {},
   "source": [
    "<p align=\"center\"><iframe width=\"100%\" height=\"500\" src=\"./files/export_files/export_records1.html\" title=\"Quarto Documentation\"></iframe></p>"
   ]
  },
  {
   "cell_type": "markdown",
   "id": "f47b8191-9fee-4dfb-aff3-687c8495b280",
   "metadata": {},
   "source": [
    "In this example:"
   ]
  },
  {
   "cell_type": "markdown",
   "id": "0a88b4a4-aab9-4dcb-91e8-f6a775cadf42",
   "metadata": {},
   "source": [
    "1. The 'close_contacts' instrument repeats independently within the 'notifications_arm_1' event (only responses to the 'close_contacts' instrument are in these rows with one row per record per instance of the instrument).\n",
    "2. One other instrument is also in the 'notifications_arm_1' event but does not repeat. This data populates a seperate row where the redcap_event_name = \"notifications_arm_1\", but the redcap_repeat_instrument = \"NA\"  and the redcap_repeat_instance = \"NA\". Non-repeating instruments in an event will have their own row, seperate from independently repeating instruments in that same event.\n",
    "3. The 'case_intake_arm_1' event repeats as an entire event, so each repeat of the event per record will occupy one row with the redcap_repeat_instance variable signifying the instance number.\n",
    "4. The 'personal_info_arm_1' is not repeating, nor are the instruments within this event, so it occupies one row per record-event."
   ]
  },
  {
   "cell_type": "markdown",
   "id": "de36dd72-6d37-4d7f-998b-4779e21161ad",
   "metadata": {},
   "source": [
    "**Note 1**: Since this is a longitudinal project example, the arm name is automatically appended as a suffix in the redcap_event_name column. In this project there is only one arm, so all events are automatically exported with the \"arm_1\" suffix. However, if there were mutliple arms, the suffix would distinguish which arm each event is in."
   ]
  },
  {
   "cell_type": "markdown",
   "id": "d1e2cd0d-2331-4727-a062-a2ae8ef5beb4",
   "metadata": {},
   "source": [
    "Checking the instrument event map and the repeating map will give you a quick understanding of the project structure via api. LINK HERE THE TWO SECTIONS?"
   ]
  },
  {
   "cell_type": "markdown",
   "id": "6652a829-1dc6-4af5-bdfa-4fa9aef46e7e",
   "metadata": {},
   "source": [
    "#### Notes on REDCap Data Types and API Exports\n",
    "\n",
    "##### Standard Field Types\n",
    "- text\n",
    "- radio\n",
    "- dropdown\n",
    "- file\n",
    "- descriptive\n",
    "- notes\n",
    "- yesno\n",
    "- checkbox\n",
    "\n",
    "##### Non-Standard Field types\n",
    "- instrument_name_complete  \n",
    "\n",
    "\n",
    "\n",
    "In addition to the standard types, each instrument (form) has a column to indicate if the instrument is complete/incomplete/unverified. *See <a href=\"#REDCap-Constants\">REDCap Constants</a> for more information.* The instrument_name_complete field is exported via standard API call.  \n",
    "\n",
    "\n",
    "##### API Export Records (default settings)\n",
    "- text\n",
    "- radio\n",
    "- dropdown\n",
    "- file\n",
    "- ~~descriptive~~\n",
    "- notes\n",
    "- yesno\n",
    "- checkbox\n",
    "- instrument_name_complete\n",
    "\n",
    "\n",
    "Note: \"descriptive\" field type is NOT exported"
   ]
  },
  {
   "cell_type": "markdown",
   "id": "48e2aa01-ddca-4bea-bed5-cdaf65c3ab96",
   "metadata": {},
   "source": [
    "#### Checkboxes"
   ]
  },
  {
   "cell_type": "markdown",
   "id": "ee6958dd-7336-4977-a7dd-0e3e768314b7",
   "metadata": {},
   "source": [
    "Checkboxes are exported as a wide data set with each checkbox option stored as its own variable. These variables will be appended with a double underscore and the number that the choice option is assigned within REDCap. Alternatively, the actual choice can be viewed if you export the dataset with labeled headers. \n",
    "\n",
    "See below how the checkbox variable 'sympoms_exp' exports. This checkbox had 11 different options and so it will occupy 11 columns. You can also see this question is asked in the 'case_intake_arm_1' event and so the value is NA in any row not associated with this event. "
   ]
  },
  {
   "cell_type": "raw",
   "id": "2f0510c7-c783-465c-a175-2ebf3fe32772",
   "metadata": {},
   "source": [
    "<p align=\"center\"><iframe width=\"100%\" height=\"300\" src=\"./files/export_files/export_checkbox.html\" title=\"Quarto Documentation\"></iframe></p>"
   ]
  },
  {
   "cell_type": "markdown",
   "id": "fb51f03a-4b15-465f-bc55-ab0293279cd8",
   "metadata": {},
   "source": [
    "Of note, when putting the exported data into a dataframe, any raw values for coded data that are integer strings in REDCap become floats with a decimal appended in python. If this exported dataset were to be re-imported into REDCap, errors will arise for all of the fields with the now float-type data when REDCap is expecting an integer. "
   ]
  },
  {
   "cell_type": "code",
   "execution_count": null,
   "id": "10f1ae45-2546-40b3-9d86-5985b77310d5",
   "metadata": {},
   "outputs": [],
   "source": []
  }
 ],
 "metadata": {
  "kernelspec": {
   "display_name": "Python 3 (ipykernel)",
   "language": "python",
   "name": "python3"
  },
  "language_info": {
   "codemirror_mode": {
    "name": "ipython",
    "version": 3
   },
   "file_extension": ".py",
   "mimetype": "text/x-python",
   "name": "python",
   "nbconvert_exporter": "python",
   "pygments_lexer": "ipython3",
   "version": "3.12.2"
  }
 },
 "nbformat": 4,
 "nbformat_minor": 5
}
