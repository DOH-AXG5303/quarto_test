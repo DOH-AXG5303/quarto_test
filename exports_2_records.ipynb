{
 "cells": [
  {
   "cell_type": "markdown",
   "metadata": {},
   "source": [
    "# Records"
   ]
  },
  {
   "cell_type": "markdown",
   "metadata": {},
   "source": [
    "::: {.content-hidden when-format=\"html\"}"
   ]
  },
  {
   "cell_type": "markdown",
   "metadata": {},
   "source": [
    "## Project Setup\n",
    "\n",
    "Install and load the necessary packages"
   ]
  },
  {
   "cell_type": "code",
   "execution_count": 4,
   "metadata": {},
   "outputs": [],
   "source": [
    "#| echo: false\n",
    "#| output: false\n",
    "import os\n",
    "os.environ['R_HOME'] = f'C:/Users/{os.environ.get('USERNAME')}/Miniconda3/envs/r_python_jl/Lib/R'"
   ]
  },
  {
   "cell_type": "code",
   "execution_count": 5,
   "metadata": {},
   "outputs": [
    {
     "name": "stderr",
     "output_type": "stream",
     "text": [
      "C:\\Users\\ekp0303\\Miniconda3\\envs\\r_python_jl\\Lib\\site-packages\\rpy2\\robjects\\packages.py:367: UserWarning: The symbol 'quartz' is not in this R namespace/package.\n",
      "  warnings.warn(\n"
     ]
    }
   ],
   "source": [
    "#| echo: false\n",
    "#| output: false\n",
    "%load_ext rpy2.ipython\n",
    "# only have to run once to allow the R magic command"
   ]
  },
  {
   "cell_type": "markdown",
   "metadata": {},
   "source": [
    "::: {.panel-tabset}\n",
    "\n",
    "#### R"
   ]
  },
  {
   "cell_type": "code",
   "execution_count": 6,
   "metadata": {},
   "outputs": [],
   "source": [
    "%%capture \n",
    "%%R\n",
    "\n",
    "library(\"dplyr\")\n",
    "library(\"jsonlite\")\n",
    "library(\"tidyr\")\n",
    "library(\"REDCapR\")\n",
    "library(\"knitr\")\n",
    "library(\"remotes\")\n",
    "library(\"gt\")"
   ]
  },
  {
   "cell_type": "code",
   "execution_count": 7,
   "metadata": {},
   "outputs": [
    {
     "name": "stdout",
     "output_type": "stream",
     "text": [
      "[1] '1.1.9005'\n"
     ]
    }
   ],
   "source": [
    "%%capture --no-display --no-stdout\n",
    "%%R\n",
    "\n",
    "version <- packageVersion(\"REDCapR\")\n",
    "version"
   ]
  },
  {
   "cell_type": "markdown",
   "metadata": {},
   "source": [
    "In this project, we will use the bleeding edge version of REDCapR available on Github"
   ]
  },
  {
   "cell_type": "code",
   "execution_count": 8,
   "metadata": {},
   "outputs": [
    {
     "name": "stdout",
     "output_type": "stream",
     "text": [
      "[1] \"REDCapR package up to date\"\n"
     ]
    }
   ],
   "source": [
    "%%capture --no-display --no-stdout\n",
    "%%R\n",
    "\n",
    "# Detach REDCapR if already loaded, and download the latest version\n",
    "if (version!='1.1.9005') {\n",
    "    detach(\"package:REDCapR\", unload=TRUE)\n",
    "    remotes::install_github(\"OuhscBbmc/REDCapR\")\n",
    "    library(\"REDCapR\")\n",
    "    print(packageVersion(\"REDCapR\"))\n",
    "}\n",
    "\n",
    "else {\n",
    "    print(\"REDCapR package up to date\")\n",
    "}"
   ]
  },
  {
   "cell_type": "markdown",
   "metadata": {},
   "source": [
    "#### Python"
   ]
  },
  {
   "cell_type": "code",
   "execution_count": 9,
   "metadata": {
    "scrolled": true
   },
   "outputs": [],
   "source": [
    "import redcap\n",
    "import json\n",
    "import pandas as pd"
   ]
  },
  {
   "cell_type": "markdown",
   "metadata": {},
   "source": [
    ":::"
   ]
  },
  {
   "cell_type": "markdown",
   "metadata": {},
   "source": [
    "Assign your project URL and Token"
   ]
  },
  {
   "cell_type": "markdown",
   "metadata": {},
   "source": [
    "::: {.panel-tabset}\n",
    "\n",
    "#### R"
   ]
  },
  {
   "cell_type": "code",
   "execution_count": 10,
   "metadata": {},
   "outputs": [],
   "source": [
    "%%R\n",
    "path = paste0(\"C:/Users/\", Sys.getenv(\"USERNAME\"), '/json_api_data.json')\n",
    "token <- jsonlite::fromJSON(path)$dev_token$'308'\n",
    "url <- \"https://dev-redcap.doh.wa.gov/api/\""
   ]
  },
  {
   "cell_type": "markdown",
   "metadata": {},
   "source": [
    "#### Python"
   ]
  },
  {
   "cell_type": "code",
   "execution_count": 11,
   "metadata": {},
   "outputs": [],
   "source": [
    "path_to_json = f\"C:/Users/{os.environ.get('USERNAME')}/json_api_data.json\"\n",
    "api_key = json.load(open(path_to_json))\n",
    "api_token = api_key['dev_token']['308']\n",
    "api_url = api_key['dev_url']\n",
    "project = redcap.Project(api_url, api_token)"
   ]
  },
  {
   "cell_type": "markdown",
   "metadata": {},
   "source": [
    ":::"
   ]
  },
  {
   "cell_type": "markdown",
   "metadata": {},
   "source": [
    ":::"
   ]
  },
  {
   "cell_type": "markdown",
   "metadata": {},
   "source": [
    "## Exporting Raw Data\n",
    "\n",
    "::: {.panel-tabset}\n",
    "\n",
    "#### R\n",
    "\n",
    "`redcap_read_oneshot()`"
   ]
  },
  {
   "cell_type": "code",
   "execution_count": 12,
   "metadata": {},
   "outputs": [],
   "source": [
    "%%capture \n",
    "%%R\n",
    "records <- redcap_read_oneshot(\n",
    "    redcap_uri = url, \n",
    "    token = token\n",
    ")$data"
   ]
  },
  {
   "cell_type": "markdown",
   "metadata": {},
   "source": [
    "::: {.content-hidden when-format=\"html\"}"
   ]
  },
  {
   "cell_type": "code",
   "execution_count": 13,
   "metadata": {},
   "outputs": [],
   "source": [
    "%%R\n",
    "records_tbl<- gt(head(records))\n",
    "gt::gtsave(records_tbl, filename = 'export_records1.html', path = \"./files/export_files/\")"
   ]
  },
  {
   "cell_type": "markdown",
   "metadata": {},
   "source": [
    ":::"
   ]
  },
  {
   "cell_type": "raw",
   "metadata": {},
   "source": [
    "<p align=\"center\"><iframe width=\"100%\" height=\"500\" src=\"./files/export_files/export_records1.html\" title=\"Quarto Documentation\"></iframe></p>"
   ]
  },
  {
   "cell_type": "markdown",
   "metadata": {},
   "source": [
    "#### Python\n",
    "\n",
    "`export_records()`"
   ]
  },
  {
   "cell_type": "code",
   "execution_count": 14,
   "metadata": {
    "scrolled": true
   },
   "outputs": [
    {
     "data": {
      "text/html": [
       "<div>\n",
       "<style scoped>\n",
       "    .dataframe tbody tr th:only-of-type {\n",
       "        vertical-align: middle;\n",
       "    }\n",
       "\n",
       "    .dataframe tbody tr th {\n",
       "        vertical-align: top;\n",
       "    }\n",
       "\n",
       "    .dataframe thead th {\n",
       "        text-align: right;\n",
       "    }\n",
       "</style>\n",
       "<table border=\"1\" class=\"dataframe\">\n",
       "  <thead>\n",
       "    <tr style=\"text-align: right;\">\n",
       "      <th></th>\n",
       "      <th></th>\n",
       "      <th>redcap_repeat_instrument</th>\n",
       "      <th>redcap_repeat_instance</th>\n",
       "      <th>first_name</th>\n",
       "      <th>last_name</th>\n",
       "      <th>phone_num</th>\n",
       "      <th>zip_code</th>\n",
       "      <th>dob</th>\n",
       "      <th>age</th>\n",
       "      <th>ethnicity</th>\n",
       "      <th>race</th>\n",
       "      <th>...</th>\n",
       "      <th>cc_phone</th>\n",
       "      <th>cc_email</th>\n",
       "      <th>close_contacts_complete</th>\n",
       "      <th>supervisor_name</th>\n",
       "      <th>supervisor_email</th>\n",
       "      <th>work_inperson_yesno</th>\n",
       "      <th>work_date</th>\n",
       "      <th>work_contagious</th>\n",
       "      <th>work_contagious_calc</th>\n",
       "      <th>work_information_complete</th>\n",
       "    </tr>\n",
       "    <tr>\n",
       "      <th>record_id</th>\n",
       "      <th>redcap_event_name</th>\n",
       "      <th></th>\n",
       "      <th></th>\n",
       "      <th></th>\n",
       "      <th></th>\n",
       "      <th></th>\n",
       "      <th></th>\n",
       "      <th></th>\n",
       "      <th></th>\n",
       "      <th></th>\n",
       "      <th></th>\n",
       "      <th></th>\n",
       "      <th></th>\n",
       "      <th></th>\n",
       "      <th></th>\n",
       "      <th></th>\n",
       "      <th></th>\n",
       "      <th></th>\n",
       "      <th></th>\n",
       "      <th></th>\n",
       "      <th></th>\n",
       "      <th></th>\n",
       "    </tr>\n",
       "  </thead>\n",
       "  <tbody>\n",
       "    <tr>\n",
       "      <th rowspan=\"5\" valign=\"top\">1</th>\n",
       "      <th>personal_info_arm_1</th>\n",
       "      <td>NaN</td>\n",
       "      <td>NaN</td>\n",
       "      <td>John</td>\n",
       "      <td>Doe</td>\n",
       "      <td>(999) 999-9999</td>\n",
       "      <td>98105.0</td>\n",
       "      <td>2006-04-11</td>\n",
       "      <td>18.0</td>\n",
       "      <td>1.0</td>\n",
       "      <td>4.0</td>\n",
       "      <td>...</td>\n",
       "      <td>NaN</td>\n",
       "      <td>NaN</td>\n",
       "      <td>NaN</td>\n",
       "      <td>NaN</td>\n",
       "      <td>NaN</td>\n",
       "      <td>NaN</td>\n",
       "      <td>NaN</td>\n",
       "      <td>NaN</td>\n",
       "      <td>NaN</td>\n",
       "      <td>NaN</td>\n",
       "    </tr>\n",
       "    <tr>\n",
       "      <th>notifications_arm_1</th>\n",
       "      <td>NaN</td>\n",
       "      <td>NaN</td>\n",
       "      <td>NaN</td>\n",
       "      <td>NaN</td>\n",
       "      <td>NaN</td>\n",
       "      <td>NaN</td>\n",
       "      <td>NaN</td>\n",
       "      <td>NaN</td>\n",
       "      <td>NaN</td>\n",
       "      <td>NaN</td>\n",
       "      <td>...</td>\n",
       "      <td>NaN</td>\n",
       "      <td>NaN</td>\n",
       "      <td>NaN</td>\n",
       "      <td>Boss</td>\n",
       "      <td>NaN</td>\n",
       "      <td>0.0</td>\n",
       "      <td>NaN</td>\n",
       "      <td>0.0</td>\n",
       "      <td>NaN</td>\n",
       "      <td>2.0</td>\n",
       "    </tr>\n",
       "    <tr>\n",
       "      <th>case_intake_arm_1</th>\n",
       "      <td>NaN</td>\n",
       "      <td>1.0</td>\n",
       "      <td>NaN</td>\n",
       "      <td>NaN</td>\n",
       "      <td>NaN</td>\n",
       "      <td>NaN</td>\n",
       "      <td>NaN</td>\n",
       "      <td>NaN</td>\n",
       "      <td>NaN</td>\n",
       "      <td>NaN</td>\n",
       "      <td>...</td>\n",
       "      <td>NaN</td>\n",
       "      <td>NaN</td>\n",
       "      <td>NaN</td>\n",
       "      <td>NaN</td>\n",
       "      <td>NaN</td>\n",
       "      <td>NaN</td>\n",
       "      <td>NaN</td>\n",
       "      <td>NaN</td>\n",
       "      <td>NaN</td>\n",
       "      <td>NaN</td>\n",
       "    </tr>\n",
       "    <tr>\n",
       "      <th>notifications_arm_1</th>\n",
       "      <td>close_contacts</td>\n",
       "      <td>1.0</td>\n",
       "      <td>NaN</td>\n",
       "      <td>NaN</td>\n",
       "      <td>NaN</td>\n",
       "      <td>NaN</td>\n",
       "      <td>NaN</td>\n",
       "      <td>NaN</td>\n",
       "      <td>NaN</td>\n",
       "      <td>NaN</td>\n",
       "      <td>...</td>\n",
       "      <td>(999) 999-9999</td>\n",
       "      <td>fake_email@gmail.com</td>\n",
       "      <td>2.0</td>\n",
       "      <td>NaN</td>\n",
       "      <td>NaN</td>\n",
       "      <td>NaN</td>\n",
       "      <td>NaN</td>\n",
       "      <td>NaN</td>\n",
       "      <td>NaN</td>\n",
       "      <td>NaN</td>\n",
       "    </tr>\n",
       "    <tr>\n",
       "      <th>notifications_arm_1</th>\n",
       "      <td>close_contacts</td>\n",
       "      <td>2.0</td>\n",
       "      <td>NaN</td>\n",
       "      <td>NaN</td>\n",
       "      <td>NaN</td>\n",
       "      <td>NaN</td>\n",
       "      <td>NaN</td>\n",
       "      <td>NaN</td>\n",
       "      <td>NaN</td>\n",
       "      <td>NaN</td>\n",
       "      <td>...</td>\n",
       "      <td>(999) 999-9999</td>\n",
       "      <td>fake_email@gmail.com</td>\n",
       "      <td>2.0</td>\n",
       "      <td>NaN</td>\n",
       "      <td>NaN</td>\n",
       "      <td>NaN</td>\n",
       "      <td>NaN</td>\n",
       "      <td>NaN</td>\n",
       "      <td>NaN</td>\n",
       "      <td>NaN</td>\n",
       "    </tr>\n",
       "    <tr>\n",
       "      <th rowspan=\"5\" valign=\"top\">2</th>\n",
       "      <th>personal_info_arm_1</th>\n",
       "      <td>NaN</td>\n",
       "      <td>NaN</td>\n",
       "      <td>Jane</td>\n",
       "      <td>Doe</td>\n",
       "      <td>(999) 999-9999</td>\n",
       "      <td>98105.0</td>\n",
       "      <td>1994-06-29</td>\n",
       "      <td>29.0</td>\n",
       "      <td>0.0</td>\n",
       "      <td>5.0</td>\n",
       "      <td>...</td>\n",
       "      <td>NaN</td>\n",
       "      <td>NaN</td>\n",
       "      <td>NaN</td>\n",
       "      <td>NaN</td>\n",
       "      <td>NaN</td>\n",
       "      <td>NaN</td>\n",
       "      <td>NaN</td>\n",
       "      <td>NaN</td>\n",
       "      <td>NaN</td>\n",
       "      <td>NaN</td>\n",
       "    </tr>\n",
       "    <tr>\n",
       "      <th>notifications_arm_1</th>\n",
       "      <td>NaN</td>\n",
       "      <td>NaN</td>\n",
       "      <td>NaN</td>\n",
       "      <td>NaN</td>\n",
       "      <td>NaN</td>\n",
       "      <td>NaN</td>\n",
       "      <td>NaN</td>\n",
       "      <td>NaN</td>\n",
       "      <td>NaN</td>\n",
       "      <td>NaN</td>\n",
       "      <td>...</td>\n",
       "      <td>NaN</td>\n",
       "      <td>NaN</td>\n",
       "      <td>NaN</td>\n",
       "      <td>Boss</td>\n",
       "      <td>fake_email@gmail.com</td>\n",
       "      <td>1.0</td>\n",
       "      <td>2023-10-10</td>\n",
       "      <td>1.0</td>\n",
       "      <td>NaN</td>\n",
       "      <td>2.0</td>\n",
       "    </tr>\n",
       "    <tr>\n",
       "      <th>case_intake_arm_1</th>\n",
       "      <td>NaN</td>\n",
       "      <td>1.0</td>\n",
       "      <td>NaN</td>\n",
       "      <td>NaN</td>\n",
       "      <td>NaN</td>\n",
       "      <td>NaN</td>\n",
       "      <td>NaN</td>\n",
       "      <td>NaN</td>\n",
       "      <td>NaN</td>\n",
       "      <td>NaN</td>\n",
       "      <td>...</td>\n",
       "      <td>NaN</td>\n",
       "      <td>NaN</td>\n",
       "      <td>NaN</td>\n",
       "      <td>NaN</td>\n",
       "      <td>NaN</td>\n",
       "      <td>NaN</td>\n",
       "      <td>NaN</td>\n",
       "      <td>NaN</td>\n",
       "      <td>NaN</td>\n",
       "      <td>NaN</td>\n",
       "    </tr>\n",
       "    <tr>\n",
       "      <th>case_intake_arm_1</th>\n",
       "      <td>NaN</td>\n",
       "      <td>2.0</td>\n",
       "      <td>NaN</td>\n",
       "      <td>NaN</td>\n",
       "      <td>NaN</td>\n",
       "      <td>NaN</td>\n",
       "      <td>NaN</td>\n",
       "      <td>NaN</td>\n",
       "      <td>NaN</td>\n",
       "      <td>NaN</td>\n",
       "      <td>...</td>\n",
       "      <td>NaN</td>\n",
       "      <td>NaN</td>\n",
       "      <td>NaN</td>\n",
       "      <td>NaN</td>\n",
       "      <td>NaN</td>\n",
       "      <td>NaN</td>\n",
       "      <td>NaN</td>\n",
       "      <td>NaN</td>\n",
       "      <td>NaN</td>\n",
       "      <td>NaN</td>\n",
       "    </tr>\n",
       "    <tr>\n",
       "      <th>notifications_arm_1</th>\n",
       "      <td>close_contacts</td>\n",
       "      <td>1.0</td>\n",
       "      <td>NaN</td>\n",
       "      <td>NaN</td>\n",
       "      <td>NaN</td>\n",
       "      <td>NaN</td>\n",
       "      <td>NaN</td>\n",
       "      <td>NaN</td>\n",
       "      <td>NaN</td>\n",
       "      <td>NaN</td>\n",
       "      <td>...</td>\n",
       "      <td>(999) 999-9999</td>\n",
       "      <td>fake_email@gmail.com</td>\n",
       "      <td>2.0</td>\n",
       "      <td>NaN</td>\n",
       "      <td>NaN</td>\n",
       "      <td>NaN</td>\n",
       "      <td>NaN</td>\n",
       "      <td>NaN</td>\n",
       "      <td>NaN</td>\n",
       "      <td>NaN</td>\n",
       "    </tr>\n",
       "  </tbody>\n",
       "</table>\n",
       "<p>10 rows × 46 columns</p>\n",
       "</div>"
      ],
      "text/plain": [
       "                              redcap_repeat_instrument  \\\n",
       "record_id redcap_event_name                              \n",
       "1         personal_info_arm_1                      NaN   \n",
       "          notifications_arm_1                      NaN   \n",
       "          case_intake_arm_1                        NaN   \n",
       "          notifications_arm_1           close_contacts   \n",
       "          notifications_arm_1           close_contacts   \n",
       "2         personal_info_arm_1                      NaN   \n",
       "          notifications_arm_1                      NaN   \n",
       "          case_intake_arm_1                        NaN   \n",
       "          case_intake_arm_1                        NaN   \n",
       "          notifications_arm_1           close_contacts   \n",
       "\n",
       "                               redcap_repeat_instance first_name last_name  \\\n",
       "record_id redcap_event_name                                                  \n",
       "1         personal_info_arm_1                     NaN       John       Doe   \n",
       "          notifications_arm_1                     NaN        NaN       NaN   \n",
       "          case_intake_arm_1                       1.0        NaN       NaN   \n",
       "          notifications_arm_1                     1.0        NaN       NaN   \n",
       "          notifications_arm_1                     2.0        NaN       NaN   \n",
       "2         personal_info_arm_1                     NaN       Jane       Doe   \n",
       "          notifications_arm_1                     NaN        NaN       NaN   \n",
       "          case_intake_arm_1                       1.0        NaN       NaN   \n",
       "          case_intake_arm_1                       2.0        NaN       NaN   \n",
       "          notifications_arm_1                     1.0        NaN       NaN   \n",
       "\n",
       "                                    phone_num  zip_code         dob   age  \\\n",
       "record_id redcap_event_name                                                 \n",
       "1         personal_info_arm_1  (999) 999-9999   98105.0  2006-04-11  18.0   \n",
       "          notifications_arm_1             NaN       NaN         NaN   NaN   \n",
       "          case_intake_arm_1               NaN       NaN         NaN   NaN   \n",
       "          notifications_arm_1             NaN       NaN         NaN   NaN   \n",
       "          notifications_arm_1             NaN       NaN         NaN   NaN   \n",
       "2         personal_info_arm_1  (999) 999-9999   98105.0  1994-06-29  29.0   \n",
       "          notifications_arm_1             NaN       NaN         NaN   NaN   \n",
       "          case_intake_arm_1               NaN       NaN         NaN   NaN   \n",
       "          case_intake_arm_1               NaN       NaN         NaN   NaN   \n",
       "          notifications_arm_1             NaN       NaN         NaN   NaN   \n",
       "\n",
       "                               ethnicity  race  ...        cc_phone  \\\n",
       "record_id redcap_event_name                     ...                   \n",
       "1         personal_info_arm_1        1.0   4.0  ...             NaN   \n",
       "          notifications_arm_1        NaN   NaN  ...             NaN   \n",
       "          case_intake_arm_1          NaN   NaN  ...             NaN   \n",
       "          notifications_arm_1        NaN   NaN  ...  (999) 999-9999   \n",
       "          notifications_arm_1        NaN   NaN  ...  (999) 999-9999   \n",
       "2         personal_info_arm_1        0.0   5.0  ...             NaN   \n",
       "          notifications_arm_1        NaN   NaN  ...             NaN   \n",
       "          case_intake_arm_1          NaN   NaN  ...             NaN   \n",
       "          case_intake_arm_1          NaN   NaN  ...             NaN   \n",
       "          notifications_arm_1        NaN   NaN  ...  (999) 999-9999   \n",
       "\n",
       "                                           cc_email  close_contacts_complete  \\\n",
       "record_id redcap_event_name                                                    \n",
       "1         personal_info_arm_1                   NaN                      NaN   \n",
       "          notifications_arm_1                   NaN                      NaN   \n",
       "          case_intake_arm_1                     NaN                      NaN   \n",
       "          notifications_arm_1  fake_email@gmail.com                      2.0   \n",
       "          notifications_arm_1  fake_email@gmail.com                      2.0   \n",
       "2         personal_info_arm_1                   NaN                      NaN   \n",
       "          notifications_arm_1                   NaN                      NaN   \n",
       "          case_intake_arm_1                     NaN                      NaN   \n",
       "          case_intake_arm_1                     NaN                      NaN   \n",
       "          notifications_arm_1  fake_email@gmail.com                      2.0   \n",
       "\n",
       "                              supervisor_name      supervisor_email  \\\n",
       "record_id redcap_event_name                                           \n",
       "1         personal_info_arm_1             NaN                   NaN   \n",
       "          notifications_arm_1            Boss                   NaN   \n",
       "          case_intake_arm_1               NaN                   NaN   \n",
       "          notifications_arm_1             NaN                   NaN   \n",
       "          notifications_arm_1             NaN                   NaN   \n",
       "2         personal_info_arm_1             NaN                   NaN   \n",
       "          notifications_arm_1            Boss  fake_email@gmail.com   \n",
       "          case_intake_arm_1               NaN                   NaN   \n",
       "          case_intake_arm_1               NaN                   NaN   \n",
       "          notifications_arm_1             NaN                   NaN   \n",
       "\n",
       "                               work_inperson_yesno   work_date  \\\n",
       "record_id redcap_event_name                                      \n",
       "1         personal_info_arm_1                  NaN         NaN   \n",
       "          notifications_arm_1                  0.0         NaN   \n",
       "          case_intake_arm_1                    NaN         NaN   \n",
       "          notifications_arm_1                  NaN         NaN   \n",
       "          notifications_arm_1                  NaN         NaN   \n",
       "2         personal_info_arm_1                  NaN         NaN   \n",
       "          notifications_arm_1                  1.0  2023-10-10   \n",
       "          case_intake_arm_1                    NaN         NaN   \n",
       "          case_intake_arm_1                    NaN         NaN   \n",
       "          notifications_arm_1                  NaN         NaN   \n",
       "\n",
       "                               work_contagious  work_contagious_calc  \\\n",
       "record_id redcap_event_name                                            \n",
       "1         personal_info_arm_1              NaN                   NaN   \n",
       "          notifications_arm_1              0.0                   NaN   \n",
       "          case_intake_arm_1                NaN                   NaN   \n",
       "          notifications_arm_1              NaN                   NaN   \n",
       "          notifications_arm_1              NaN                   NaN   \n",
       "2         personal_info_arm_1              NaN                   NaN   \n",
       "          notifications_arm_1              1.0                   NaN   \n",
       "          case_intake_arm_1                NaN                   NaN   \n",
       "          case_intake_arm_1                NaN                   NaN   \n",
       "          notifications_arm_1              NaN                   NaN   \n",
       "\n",
       "                               work_information_complete  \n",
       "record_id redcap_event_name                               \n",
       "1         personal_info_arm_1                        NaN  \n",
       "          notifications_arm_1                        2.0  \n",
       "          case_intake_arm_1                          NaN  \n",
       "          notifications_arm_1                        NaN  \n",
       "          notifications_arm_1                        NaN  \n",
       "2         personal_info_arm_1                        NaN  \n",
       "          notifications_arm_1                        2.0  \n",
       "          case_intake_arm_1                          NaN  \n",
       "          case_intake_arm_1                          NaN  \n",
       "          notifications_arm_1                        NaN  \n",
       "\n",
       "[10 rows x 46 columns]"
      ]
     },
     "execution_count": 14,
     "metadata": {},
     "output_type": "execute_result"
    }
   ],
   "source": [
    "records = project.export_records(format_type='df') #all records with raw data values\n",
    "records.head(10)"
   ]
  },
  {
   "cell_type": "markdown",
   "metadata": {},
   "source": [
    "When `format_type = 'df'`, there is a multi-index automatically assigned including `record_id` and `redcap_event_name`. \n",
    "\n",
    "It is not recommended to use the index automatically asigned upon export as it is not always correct. In this case, `record_id`, `redcap_event_name`, `redcap_repeat_instrument`, and `redcap_repeat_instance` combined define the unique key for this data frame. The user should asign their own index accordingly; best practice is to add is to use the `reset_index()` method on the data export to use the row number as the index. \n",
    "\n",
    "Exporting as a CSV or JSON creates the index using the row number.\n",
    "\n",
    ":::"
   ]
  },
  {
   "cell_type": "markdown",
   "metadata": {},
   "source": [
    "## Exporting Labeled Data & Headers {#sec-labeled}"
   ]
  },
  {
   "cell_type": "markdown",
   "metadata": {},
   "source": [
    "The `raw_or_label` parameter exports raw or labeled choice values (i.e. ‘male’ instead of ‘1’), while the `raw_or_label_headers` parameter exports raw or labeled variable names (i.e. shows the actual prompt/question instead of the raw variable name). "
   ]
  },
  {
   "cell_type": "markdown",
   "metadata": {},
   "source": [
    "::: {.panel-tabset}\n",
    "\n",
    "#### R"
   ]
  },
  {
   "cell_type": "code",
   "execution_count": 12,
   "metadata": {},
   "outputs": [],
   "source": [
    "%%capture\n",
    "%%R\n",
    "data_labeled <- redcap_read_oneshot(\n",
    "    redcap_uri = url, \n",
    "    token = token, \n",
    "    raw_or_label = \"label\", \n",
    "    raw_or_label_headers = \"label\")$data"
   ]
  },
  {
   "cell_type": "markdown",
   "metadata": {},
   "source": [
    "::: {.content-hidden when-format=\"html\"}"
   ]
  },
  {
   "cell_type": "code",
   "execution_count": 13,
   "metadata": {},
   "outputs": [],
   "source": [
    "%%R\n",
    "data_labeled_tbl <- gt(head(data_labeled)) %>% cols_width(everything() ~ px(150))\n",
    "gt::gtsave(data_labeled_tbl, filename = 'export_records2.html', path = \"./files/export_files/\")"
   ]
  },
  {
   "cell_type": "markdown",
   "metadata": {},
   "source": [
    ":::"
   ]
  },
  {
   "cell_type": "raw",
   "metadata": {
    "scrolled": true
   },
   "source": [
    "<p align=\"center\"><iframe width=\"100%\" height=\"500\" src=\"./files/export_files/export_records2.html\" title=\"Quarto Documentation\"></iframe></p>"
   ]
  },
  {
   "cell_type": "markdown",
   "metadata": {},
   "source": [
    "#### Python"
   ]
  },
  {
   "cell_type": "code",
   "execution_count": 32,
   "metadata": {
    "scrolled": true
   },
   "outputs": [
    {
     "data": {
      "text/html": [
       "<div>\n",
       "<style scoped>\n",
       "    .dataframe tbody tr th:only-of-type {\n",
       "        vertical-align: middle;\n",
       "    }\n",
       "\n",
       "    .dataframe tbody tr th {\n",
       "        vertical-align: top;\n",
       "    }\n",
       "\n",
       "    .dataframe thead th {\n",
       "        text-align: right;\n",
       "    }\n",
       "</style>\n",
       "<table border=\"1\" class=\"dataframe\">\n",
       "  <thead>\n",
       "    <tr style=\"text-align: right;\">\n",
       "      <th></th>\n",
       "      <th>record_id</th>\n",
       "      <th>redcap_event_name</th>\n",
       "      <th>redcap_repeat_instrument</th>\n",
       "      <th>redcap_repeat_instance</th>\n",
       "      <th>first_name</th>\n",
       "      <th>last_name</th>\n",
       "      <th>phone_num</th>\n",
       "      <th>zip_code</th>\n",
       "      <th>dob</th>\n",
       "      <th>age</th>\n",
       "      <th>...</th>\n",
       "      <th>cc_phone</th>\n",
       "      <th>cc_email</th>\n",
       "      <th>close_contacts_complete</th>\n",
       "      <th>supervisor_name</th>\n",
       "      <th>supervisor_email</th>\n",
       "      <th>work_inperson_yesno</th>\n",
       "      <th>work_date</th>\n",
       "      <th>work_contagious</th>\n",
       "      <th>work_contagious_calc</th>\n",
       "      <th>work_information_complete</th>\n",
       "    </tr>\n",
       "  </thead>\n",
       "  <tbody>\n",
       "    <tr>\n",
       "      <th>0</th>\n",
       "      <td>1</td>\n",
       "      <td>Personal Info</td>\n",
       "      <td>NaN</td>\n",
       "      <td>NaN</td>\n",
       "      <td>John</td>\n",
       "      <td>Doe</td>\n",
       "      <td>(999) 999-9999</td>\n",
       "      <td>98105.0</td>\n",
       "      <td>2006-04-11</td>\n",
       "      <td>18.0</td>\n",
       "      <td>...</td>\n",
       "      <td>NaN</td>\n",
       "      <td>NaN</td>\n",
       "      <td>NaN</td>\n",
       "      <td>NaN</td>\n",
       "      <td>NaN</td>\n",
       "      <td>NaN</td>\n",
       "      <td>NaN</td>\n",
       "      <td>NaN</td>\n",
       "      <td>NaN</td>\n",
       "      <td>NaN</td>\n",
       "    </tr>\n",
       "    <tr>\n",
       "      <th>1</th>\n",
       "      <td>1</td>\n",
       "      <td>Notifications</td>\n",
       "      <td>NaN</td>\n",
       "      <td>NaN</td>\n",
       "      <td>NaN</td>\n",
       "      <td>NaN</td>\n",
       "      <td>NaN</td>\n",
       "      <td>NaN</td>\n",
       "      <td>NaN</td>\n",
       "      <td>NaN</td>\n",
       "      <td>...</td>\n",
       "      <td>NaN</td>\n",
       "      <td>NaN</td>\n",
       "      <td>NaN</td>\n",
       "      <td>Boss</td>\n",
       "      <td>NaN</td>\n",
       "      <td>No</td>\n",
       "      <td>NaN</td>\n",
       "      <td>No</td>\n",
       "      <td>NaN</td>\n",
       "      <td>Complete</td>\n",
       "    </tr>\n",
       "    <tr>\n",
       "      <th>2</th>\n",
       "      <td>1</td>\n",
       "      <td>Case Intake</td>\n",
       "      <td>NaN</td>\n",
       "      <td>1.0</td>\n",
       "      <td>NaN</td>\n",
       "      <td>NaN</td>\n",
       "      <td>NaN</td>\n",
       "      <td>NaN</td>\n",
       "      <td>NaN</td>\n",
       "      <td>NaN</td>\n",
       "      <td>...</td>\n",
       "      <td>NaN</td>\n",
       "      <td>NaN</td>\n",
       "      <td>NaN</td>\n",
       "      <td>NaN</td>\n",
       "      <td>NaN</td>\n",
       "      <td>NaN</td>\n",
       "      <td>NaN</td>\n",
       "      <td>NaN</td>\n",
       "      <td>NaN</td>\n",
       "      <td>NaN</td>\n",
       "    </tr>\n",
       "    <tr>\n",
       "      <th>3</th>\n",
       "      <td>1</td>\n",
       "      <td>Notifications</td>\n",
       "      <td>Close Contacts</td>\n",
       "      <td>1.0</td>\n",
       "      <td>NaN</td>\n",
       "      <td>NaN</td>\n",
       "      <td>NaN</td>\n",
       "      <td>NaN</td>\n",
       "      <td>NaN</td>\n",
       "      <td>NaN</td>\n",
       "      <td>...</td>\n",
       "      <td>(999) 999-9999</td>\n",
       "      <td>fake_email@gmail.com</td>\n",
       "      <td>Complete</td>\n",
       "      <td>NaN</td>\n",
       "      <td>NaN</td>\n",
       "      <td>NaN</td>\n",
       "      <td>NaN</td>\n",
       "      <td>NaN</td>\n",
       "      <td>NaN</td>\n",
       "      <td>NaN</td>\n",
       "    </tr>\n",
       "    <tr>\n",
       "      <th>4</th>\n",
       "      <td>1</td>\n",
       "      <td>Notifications</td>\n",
       "      <td>Close Contacts</td>\n",
       "      <td>2.0</td>\n",
       "      <td>NaN</td>\n",
       "      <td>NaN</td>\n",
       "      <td>NaN</td>\n",
       "      <td>NaN</td>\n",
       "      <td>NaN</td>\n",
       "      <td>NaN</td>\n",
       "      <td>...</td>\n",
       "      <td>(999) 999-9999</td>\n",
       "      <td>fake_email@gmail.com</td>\n",
       "      <td>Complete</td>\n",
       "      <td>NaN</td>\n",
       "      <td>NaN</td>\n",
       "      <td>NaN</td>\n",
       "      <td>NaN</td>\n",
       "      <td>NaN</td>\n",
       "      <td>NaN</td>\n",
       "      <td>NaN</td>\n",
       "    </tr>\n",
       "    <tr>\n",
       "      <th>5</th>\n",
       "      <td>2</td>\n",
       "      <td>Personal Info</td>\n",
       "      <td>NaN</td>\n",
       "      <td>NaN</td>\n",
       "      <td>Jane</td>\n",
       "      <td>Doe</td>\n",
       "      <td>(999) 999-9999</td>\n",
       "      <td>98105.0</td>\n",
       "      <td>1994-06-29</td>\n",
       "      <td>29.0</td>\n",
       "      <td>...</td>\n",
       "      <td>NaN</td>\n",
       "      <td>NaN</td>\n",
       "      <td>NaN</td>\n",
       "      <td>NaN</td>\n",
       "      <td>NaN</td>\n",
       "      <td>NaN</td>\n",
       "      <td>NaN</td>\n",
       "      <td>NaN</td>\n",
       "      <td>NaN</td>\n",
       "      <td>NaN</td>\n",
       "    </tr>\n",
       "    <tr>\n",
       "      <th>6</th>\n",
       "      <td>2</td>\n",
       "      <td>Notifications</td>\n",
       "      <td>NaN</td>\n",
       "      <td>NaN</td>\n",
       "      <td>NaN</td>\n",
       "      <td>NaN</td>\n",
       "      <td>NaN</td>\n",
       "      <td>NaN</td>\n",
       "      <td>NaN</td>\n",
       "      <td>NaN</td>\n",
       "      <td>...</td>\n",
       "      <td>NaN</td>\n",
       "      <td>NaN</td>\n",
       "      <td>NaN</td>\n",
       "      <td>Boss</td>\n",
       "      <td>fake_email@gmail.com</td>\n",
       "      <td>Yes</td>\n",
       "      <td>2023-10-10</td>\n",
       "      <td>Yes</td>\n",
       "      <td>NaN</td>\n",
       "      <td>Complete</td>\n",
       "    </tr>\n",
       "    <tr>\n",
       "      <th>7</th>\n",
       "      <td>2</td>\n",
       "      <td>Case Intake</td>\n",
       "      <td>NaN</td>\n",
       "      <td>1.0</td>\n",
       "      <td>NaN</td>\n",
       "      <td>NaN</td>\n",
       "      <td>NaN</td>\n",
       "      <td>NaN</td>\n",
       "      <td>NaN</td>\n",
       "      <td>NaN</td>\n",
       "      <td>...</td>\n",
       "      <td>NaN</td>\n",
       "      <td>NaN</td>\n",
       "      <td>NaN</td>\n",
       "      <td>NaN</td>\n",
       "      <td>NaN</td>\n",
       "      <td>NaN</td>\n",
       "      <td>NaN</td>\n",
       "      <td>NaN</td>\n",
       "      <td>NaN</td>\n",
       "      <td>NaN</td>\n",
       "    </tr>\n",
       "    <tr>\n",
       "      <th>8</th>\n",
       "      <td>2</td>\n",
       "      <td>Case Intake</td>\n",
       "      <td>NaN</td>\n",
       "      <td>2.0</td>\n",
       "      <td>NaN</td>\n",
       "      <td>NaN</td>\n",
       "      <td>NaN</td>\n",
       "      <td>NaN</td>\n",
       "      <td>NaN</td>\n",
       "      <td>NaN</td>\n",
       "      <td>...</td>\n",
       "      <td>NaN</td>\n",
       "      <td>NaN</td>\n",
       "      <td>NaN</td>\n",
       "      <td>NaN</td>\n",
       "      <td>NaN</td>\n",
       "      <td>NaN</td>\n",
       "      <td>NaN</td>\n",
       "      <td>NaN</td>\n",
       "      <td>NaN</td>\n",
       "      <td>NaN</td>\n",
       "    </tr>\n",
       "    <tr>\n",
       "      <th>9</th>\n",
       "      <td>2</td>\n",
       "      <td>Notifications</td>\n",
       "      <td>Close Contacts</td>\n",
       "      <td>1.0</td>\n",
       "      <td>NaN</td>\n",
       "      <td>NaN</td>\n",
       "      <td>NaN</td>\n",
       "      <td>NaN</td>\n",
       "      <td>NaN</td>\n",
       "      <td>NaN</td>\n",
       "      <td>...</td>\n",
       "      <td>(999) 999-9999</td>\n",
       "      <td>fake_email@gmail.com</td>\n",
       "      <td>Complete</td>\n",
       "      <td>NaN</td>\n",
       "      <td>NaN</td>\n",
       "      <td>NaN</td>\n",
       "      <td>NaN</td>\n",
       "      <td>NaN</td>\n",
       "      <td>NaN</td>\n",
       "      <td>NaN</td>\n",
       "    </tr>\n",
       "  </tbody>\n",
       "</table>\n",
       "<p>10 rows × 48 columns</p>\n",
       "</div>"
      ],
      "text/plain": [
       "   record_id redcap_event_name redcap_repeat_instrument  \\\n",
       "0          1     Personal Info                      NaN   \n",
       "1          1     Notifications                      NaN   \n",
       "2          1       Case Intake                      NaN   \n",
       "3          1     Notifications           Close Contacts   \n",
       "4          1     Notifications           Close Contacts   \n",
       "5          2     Personal Info                      NaN   \n",
       "6          2     Notifications                      NaN   \n",
       "7          2       Case Intake                      NaN   \n",
       "8          2       Case Intake                      NaN   \n",
       "9          2     Notifications           Close Contacts   \n",
       "\n",
       "   redcap_repeat_instance first_name last_name       phone_num  zip_code  \\\n",
       "0                     NaN       John       Doe  (999) 999-9999   98105.0   \n",
       "1                     NaN        NaN       NaN             NaN       NaN   \n",
       "2                     1.0        NaN       NaN             NaN       NaN   \n",
       "3                     1.0        NaN       NaN             NaN       NaN   \n",
       "4                     2.0        NaN       NaN             NaN       NaN   \n",
       "5                     NaN       Jane       Doe  (999) 999-9999   98105.0   \n",
       "6                     NaN        NaN       NaN             NaN       NaN   \n",
       "7                     1.0        NaN       NaN             NaN       NaN   \n",
       "8                     2.0        NaN       NaN             NaN       NaN   \n",
       "9                     1.0        NaN       NaN             NaN       NaN   \n",
       "\n",
       "          dob   age  ...        cc_phone              cc_email  \\\n",
       "0  2006-04-11  18.0  ...             NaN                   NaN   \n",
       "1         NaN   NaN  ...             NaN                   NaN   \n",
       "2         NaN   NaN  ...             NaN                   NaN   \n",
       "3         NaN   NaN  ...  (999) 999-9999  fake_email@gmail.com   \n",
       "4         NaN   NaN  ...  (999) 999-9999  fake_email@gmail.com   \n",
       "5  1994-06-29  29.0  ...             NaN                   NaN   \n",
       "6         NaN   NaN  ...             NaN                   NaN   \n",
       "7         NaN   NaN  ...             NaN                   NaN   \n",
       "8         NaN   NaN  ...             NaN                   NaN   \n",
       "9         NaN   NaN  ...  (999) 999-9999  fake_email@gmail.com   \n",
       "\n",
       "  close_contacts_complete supervisor_name      supervisor_email  \\\n",
       "0                     NaN             NaN                   NaN   \n",
       "1                     NaN            Boss                   NaN   \n",
       "2                     NaN             NaN                   NaN   \n",
       "3                Complete             NaN                   NaN   \n",
       "4                Complete             NaN                   NaN   \n",
       "5                     NaN             NaN                   NaN   \n",
       "6                     NaN            Boss  fake_email@gmail.com   \n",
       "7                     NaN             NaN                   NaN   \n",
       "8                     NaN             NaN                   NaN   \n",
       "9                Complete             NaN                   NaN   \n",
       "\n",
       "  work_inperson_yesno   work_date work_contagious work_contagious_calc  \\\n",
       "0                 NaN         NaN             NaN                  NaN   \n",
       "1                  No         NaN              No                  NaN   \n",
       "2                 NaN         NaN             NaN                  NaN   \n",
       "3                 NaN         NaN             NaN                  NaN   \n",
       "4                 NaN         NaN             NaN                  NaN   \n",
       "5                 NaN         NaN             NaN                  NaN   \n",
       "6                 Yes  2023-10-10             Yes                  NaN   \n",
       "7                 NaN         NaN             NaN                  NaN   \n",
       "8                 NaN         NaN             NaN                  NaN   \n",
       "9                 NaN         NaN             NaN                  NaN   \n",
       "\n",
       "  work_information_complete  \n",
       "0                       NaN  \n",
       "1                  Complete  \n",
       "2                       NaN  \n",
       "3                       NaN  \n",
       "4                       NaN  \n",
       "5                       NaN  \n",
       "6                  Complete  \n",
       "7                       NaN  \n",
       "8                       NaN  \n",
       "9                       NaN  \n",
       "\n",
       "[10 rows x 48 columns]"
      ]
     },
     "execution_count": 32,
     "metadata": {},
     "output_type": "execute_result"
    }
   ],
   "source": [
    "data_labeled = project.export_records(raw_or_label='label', format_type='df').reset_index()\n",
    "data_labeled.head(10)"
   ]
  },
  {
   "cell_type": "markdown",
   "metadata": {},
   "source": [
    "**Note:** Exporting labeled headers only works when `format_type='csv'`."
   ]
  },
  {
   "cell_type": "markdown",
   "metadata": {},
   "source": [
    ":::"
   ]
  },
  {
   "cell_type": "markdown",
   "metadata": {},
   "source": [
    "## Export Data In Batches (REDCapR Only)"
   ]
  },
  {
   "cell_type": "markdown",
   "metadata": {},
   "source": [
    "::: {.panel-tabset}\n",
    "\n",
    "#### R"
   ]
  },
  {
   "cell_type": "markdown",
   "metadata": {},
   "source": [
    "`redcap_read()` is almost the same as `redcap_read_oneshot()`. The only difference is that `redcap_read()` retrieves the data in quantified batches or rows, and then combines the batches to return a single data set. This function may be more appropriate than `redcap_read_oneshot()` when exporting large datasets that could tie up the server. [(Source)](https://ouhscbbmc.github.io/REDCapR/reference/redcap_read.html)\n"
   ]
  },
  {
   "cell_type": "code",
   "execution_count": 13,
   "metadata": {},
   "outputs": [],
   "source": [
    "%%capture\n",
    "%%R\n",
    "batched_export <- redcap_read(\n",
    "    redcap_uri = url, \n",
    "    token = token, \n",
    "    batch_size = 50L\n",
    ")$data"
   ]
  },
  {
   "cell_type": "markdown",
   "metadata": {},
   "source": [
    "In this example, the batch size was set to 50 records. The default is 100 records. The data exported using this method has the exact same format as the data exported using `redcap_read_oneshot`."
   ]
  },
  {
   "cell_type": "markdown",
   "metadata": {},
   "source": [
    ":::"
   ]
  },
  {
   "cell_type": "markdown",
   "metadata": {},
   "source": [
    "## Exporting The Next Available Record ID {#sec-next_record}\n",
    "\n",
    "When a project is set up in REDCap it has **auto-numbering for records** enabled by default. This allows a new and unique record_id to be automatically assigned every time you enter a new record within REDCap. Before importing new records via API, you may want to know what the next available Record ID is to ensure you are assigning new Record IDs to these new records before import (rather than overwriting an existing record). \n",
    "\n",
    "This function is more important if using REDCapR because PyCap has a way to auto-number records on import."
   ]
  },
  {
   "cell_type": "markdown",
   "metadata": {},
   "source": [
    "::: {.panel-tabset}\n",
    "\n",
    "#### R"
   ]
  },
  {
   "cell_type": "code",
   "execution_count": 15,
   "metadata": {
    "tags": []
   },
   "outputs": [
    {
     "name": "stdout",
     "output_type": "stream",
     "text": [
      "[1] \"7\"\n"
     ]
    }
   ],
   "source": [
    "%%capture --no-stdout\n",
    "%%R\n",
    "next_record <- redcap_next_free_record_name(\n",
    "    redcap_uri = url, \n",
    "    token = token, \n",
    "    verbose = TRUE,\n",
    "    config_options = NULL)\n",
    "\n",
    "next_record"
   ]
  },
  {
   "cell_type": "markdown",
   "metadata": {},
   "source": [
    "#### Python"
   ]
  },
  {
   "cell_type": "code",
   "execution_count": 16,
   "metadata": {},
   "outputs": [
    {
     "data": {
      "text/plain": [
       "'7'"
      ]
     },
     "execution_count": 16,
     "metadata": {},
     "output_type": "execute_result"
    }
   ],
   "source": [
    "project.generate_next_record_name()"
   ]
  },
  {
   "cell_type": "markdown",
   "metadata": {},
   "source": [
    ":::"
   ]
  },
  {
   "cell_type": "markdown",
   "metadata": {},
   "source": [
    "**Note:**  If Data Access Groups (DAGs) are used in the REDCap project, this method accounts for the special formatting of the record name for users in DAGs, where the unique auto-assigned DAG number is a prefix to the actual record_id (i.e. `<DAG_ID>_<record_id>`). A user assigned to a DAG with ID 1732 that already has 3 existing records will return '1732-4' as the next available record."
   ]
  },
  {
   "cell_type": "code",
   "execution_count": null,
   "metadata": {},
   "outputs": [],
   "source": []
  }
 ],
 "metadata": {
  "kernelspec": {
   "display_name": "Python 3 (ipykernel)",
   "language": "python",
   "name": "python3"
  },
  "language_info": {
   "codemirror_mode": {
    "name": "ipython",
    "version": 3
   },
   "file_extension": ".py",
   "mimetype": "text/x-python",
   "name": "python",
   "nbconvert_exporter": "python",
   "pygments_lexer": "ipython3",
   "version": "3.12.2"
  }
 },
 "nbformat": 4,
 "nbformat_minor": 4
}
